{
 "cells": [
  {
   "cell_type": "code",
   "execution_count": 1,
   "metadata": {},
   "outputs": [],
   "source": [
    "from database.spotify import Spotify\n",
    "import pandas as pd\n",
    "import matplotlib.pyplot as plt\n",
    "from tqdm import tqdm"
   ]
  },
  {
   "cell_type": "code",
   "execution_count": 2,
   "metadata": {},
   "outputs": [],
   "source": [
    "spotify = Spotify()"
   ]
  },
  {
   "cell_type": "code",
   "execution_count": 3,
   "metadata": {},
   "outputs": [],
   "source": [
    "spotify.connect()\n",
    "songs = spotify.retrieve(\"songs\")\n",
    "spotify.disconnect()"
   ]
  },
  {
   "cell_type": "code",
   "execution_count": 6,
   "metadata": {},
   "outputs": [],
   "source": [
    "current = songs.iloc[13499]"
   ]
  },
  {
   "cell_type": "code",
   "execution_count": 7,
   "metadata": {},
   "outputs": [
    {
     "data": {
      "text/plain": [
       "_id                         6102ec7966e814b21bbede87\n",
       "pos                                               26\n",
       "artist_name                         The Chainsmokers\n",
       "track_uri       spotify:track:72jbDTw1piOOj770jWNeaG\n",
       "artist_uri     spotify:artist:69GGBxA162lTqCwzJG5jLp\n",
       "track_name                                     Paris\n",
       "album_uri       spotify:album:4JPguzRps3kuWDD5GS6oXr\n",
       "duration_ms                                   221506\n",
       "album_name                    Memories...Do Not Open\n",
       "pid                                           269999\n",
       "Name: 13499, dtype: object"
      ]
     },
     "execution_count": 7,
     "metadata": {},
     "output_type": "execute_result"
    }
   ],
   "source": [
    "current"
   ]
  },
  {
   "cell_type": "code",
   "execution_count": 67,
   "metadata": {
    "scrolled": true
   },
   "outputs": [
    {
     "name": "stderr",
     "output_type": "stream",
     "text": [
      "\r",
      "  0%|                                                                                                                     | 0/997 [00:00<?, ?it/s]"
     ]
    },
    {
     "name": "stdout",
     "output_type": "stream",
     "text": [
      "Drake One Dance 22853957\n"
     ]
    },
    {
     "name": "stderr",
     "output_type": "stream",
     "text": [
      "\r",
      "  0%|                                                                                                           | 1/997 [00:08<2:28:52,  8.97s/it]"
     ]
    },
    {
     "name": "stdout",
     "output_type": "stream",
     "text": [
      "No objects to concatenate\n",
      "Khalid Location 23429958\n"
     ]
    },
    {
     "name": "stderr",
     "output_type": "stream",
     "text": [
      "\r",
      "  0%|▏                                                                                                          | 2/997 [00:27<3:17:09, 11.89s/it]"
     ]
    },
    {
     "name": "stdout",
     "output_type": "stream",
     "text": [
      "Lil Uzi Vert XO TOUR Llif3 18754960\n"
     ]
    },
    {
     "name": "stderr",
     "output_type": "stream",
     "text": [
      "\r",
      "  0%|▎                                                                                                          | 3/997 [00:48<4:01:07, 14.56s/it]"
     ]
    },
    {
     "name": "stdout",
     "output_type": "stream",
     "text": [
      "Future Mask Off 19511961\n"
     ]
    },
    {
     "name": "stderr",
     "output_type": "stream",
     "text": [
      "\r",
      "  0%|▍                                                                                                          | 4/997 [01:08<4:28:08, 16.20s/it]"
     ]
    },
    {
     "name": "stdout",
     "output_type": "stream",
     "text": [
      "Aminé Caroline 20682961\n"
     ]
    },
    {
     "name": "stderr",
     "output_type": "stream",
     "text": [
      "\r",
      "  1%|▌                                                                                                          | 5/997 [01:18<3:54:51, 14.21s/it]"
     ]
    },
    {
     "name": "stdout",
     "output_type": "stream",
     "text": [
      "No objects to concatenate\n",
      "Vance Joy Riptide 16932961\n"
     ]
    },
    {
     "name": "stderr",
     "output_type": "stream",
     "text": [
      "\r",
      "  1%|▋                                                                                                          | 6/997 [01:19<2:49:49, 10.28s/it]"
     ]
    },
    {
     "name": "stdout",
     "output_type": "stream",
     "text": [
      "No objects to concatenate\n",
      "Childish Gambino Redbone 18097961\n"
     ]
    },
    {
     "name": "stderr",
     "output_type": "stream",
     "text": [
      "\r",
      "  1%|▊                                                                                                          | 7/997 [01:40<3:43:02, 13.52s/it]"
     ]
    },
    {
     "name": "stdout",
     "output_type": "stream",
     "text": [
      "KYLE iSpy (feat. Lil Yachty) 21922962\n"
     ]
    },
    {
     "name": "stderr",
     "output_type": "stream",
     "text": [
      "\r",
      "  1%|▊                                                                                                          | 8/997 [02:01<4:20:03, 15.78s/it]"
     ]
    },
    {
     "name": "stdout",
     "output_type": "stream",
     "text": [
      "The Weeknd Starboy 14430964\n"
     ]
    },
    {
     "name": "stderr",
     "output_type": "stream",
     "text": [
      "\r",
      "  1%|▉                                                                                                          | 9/997 [02:17<4:24:04, 16.04s/it]"
     ]
    },
    {
     "name": "stdout",
     "output_type": "stream",
     "text": [
      "No objects to concatenate\n",
      "Fetty Wap Trap Queen 17456964\n"
     ]
    },
    {
     "name": "stderr",
     "output_type": "stream",
     "text": [
      "\r",
      "  1%|█                                                                                                         | 10/997 [02:27<3:53:32, 14.20s/it]"
     ]
    },
    {
     "name": "stdout",
     "output_type": "stream",
     "text": [
      "No objects to concatenate\n",
      "Drake Fake Love 19282964\n"
     ]
    },
    {
     "name": "stderr",
     "output_type": "stream",
     "text": [
      "\r",
      "  1%|█▏                                                                                                        | 11/997 [02:48<4:24:36, 16.10s/it]"
     ]
    },
    {
     "name": "stdout",
     "output_type": "stream",
     "text": [
      "Migos Bad and Boujee (feat. Lil Uzi Vert) 15824965\n"
     ]
    },
    {
     "name": "stderr",
     "output_type": "stream",
     "text": [
      "\r",
      "  1%|█▎                                                                                                        | 12/997 [03:09<4:47:15, 17.50s/it]"
     ]
    },
    {
     "name": "stdout",
     "output_type": "stream",
     "text": [
      "Kanye West Gold Digger 18414965\n"
     ]
    },
    {
     "name": "stderr",
     "output_type": "stream",
     "text": [
      "\r",
      "  1%|█▍                                                                                                        | 13/997 [03:29<5:03:08, 18.48s/it]"
     ]
    },
    {
     "name": "stdout",
     "output_type": "stream",
     "text": [
      "Desiigner Panda 18256965\n"
     ]
    },
    {
     "name": "stderr",
     "output_type": "stream",
     "text": [
      "\r",
      "  1%|█▍                                                                                                        | 14/997 [03:40<4:23:06, 16.06s/it]"
     ]
    },
    {
     "name": "stdout",
     "output_type": "stream",
     "text": [
      "No objects to concatenate\n",
      "The Chainsmokers Closer 18984965\n"
     ]
    },
    {
     "name": "stderr",
     "output_type": "stream",
     "text": [
      "\r",
      "  2%|█▌                                                                                                        | 15/997 [03:49<3:51:17, 14.13s/it]"
     ]
    },
    {
     "name": "stdout",
     "output_type": "stream",
     "text": [
      "No objects to concatenate\n",
      "Queen Bohemian Rhapsody - Remastered 2011 16267965\n"
     ]
    },
    {
     "name": "stderr",
     "output_type": "stream",
     "text": [
      "\r",
      "  2%|█▋                                                                                                        | 16/997 [03:54<3:02:51, 11.18s/it]"
     ]
    },
    {
     "name": "stdout",
     "output_type": "stream",
     "text": [
      "No objects to concatenate\n",
      "J. Cole No Role Modelz 17192966\n"
     ]
    },
    {
     "name": "stderr",
     "output_type": "stream",
     "text": [
      "\r",
      "  2%|█▊                                                                                                        | 17/997 [04:14<3:48:05, 13.97s/it]"
     ]
    },
    {
     "name": "stdout",
     "output_type": "stream",
     "text": [
      "JAY Z Ni**as In Paris 14260966\n"
     ]
    },
    {
     "name": "stderr",
     "output_type": "stream",
     "text": [
      "\r",
      "  2%|█▉                                                                                                        | 18/997 [04:35<4:22:42, 16.10s/it]"
     ]
    },
    {
     "name": "stdout",
     "output_type": "stream",
     "text": [
      "Travis Scott goosebumps 16138966\n"
     ]
    },
    {
     "name": "stderr",
     "output_type": "stream",
     "text": [
      "\r",
      "  2%|██                                                                                                        | 19/997 [04:56<4:46:42, 17.59s/it]"
     ]
    },
    {
     "name": "stdout",
     "output_type": "stream",
     "text": [
      "R. Kelly Ignition - Remix 16013966\n"
     ]
    },
    {
     "name": "stderr",
     "output_type": "stream",
     "text": [
      "\r",
      "  2%|██▏                                                                                                       | 20/997 [05:06<4:05:08, 15.05s/it]"
     ]
    },
    {
     "name": "stdout",
     "output_type": "stream",
     "text": [
      "No objects to concatenate\n",
      "A Boogie Wit da Hoodie Drowning (feat. Kodak Black) 13794967\n"
     ]
    },
    {
     "name": "stderr",
     "output_type": "stream",
     "text": [
      "\r",
      "  2%|██▏                                                                                                       | 21/997 [05:26<4:31:49, 16.71s/it]"
     ]
    },
    {
     "name": "stdout",
     "output_type": "stream",
     "text": [
      "The Weeknd The Hills 15519968\n"
     ]
    },
    {
     "name": "stderr",
     "output_type": "stream",
     "text": [
      "\r",
      "  2%|██▎                                                                                                       | 22/997 [05:41<4:23:04, 16.19s/it]"
     ]
    },
    {
     "name": "stdout",
     "output_type": "stream",
     "text": [
      "No objects to concatenate\n",
      "Rae Sremmurd Black Beatles 13626968\n"
     ]
    },
    {
     "name": "stderr",
     "output_type": "stream",
     "text": [
      "\r",
      "  2%|██▍                                                                                                       | 23/997 [05:51<3:53:09, 14.36s/it]"
     ]
    },
    {
     "name": "stdout",
     "output_type": "stream",
     "text": [
      "No objects to concatenate\n",
      "Drake Passionfruit 16537968\n"
     ]
    },
    {
     "name": "stderr",
     "output_type": "stream",
     "text": [
      "\r",
      "  2%|██▌                                                                                                       | 24/997 [06:12<4:24:09, 16.29s/it]"
     ]
    },
    {
     "name": "stdout",
     "output_type": "stream",
     "text": [
      "DJ Khaled I'm the One 16339968\n"
     ]
    },
    {
     "name": "stderr",
     "output_type": "stream",
     "text": [
      "\r",
      "  3%|██▋                                                                                                       | 25/997 [06:33<4:45:46, 17.64s/it]"
     ]
    },
    {
     "name": "stdout",
     "output_type": "stream",
     "text": [
      "Calvin Harris Slide 18581968\n"
     ]
    },
    {
     "name": "stderr",
     "output_type": "stream",
     "text": [
      "\r",
      "  3%|██▊                                                                                                       | 26/997 [06:47<4:28:59, 16.62s/it]"
     ]
    },
    {
     "name": "stdout",
     "output_type": "stream",
     "text": [
      "No objects to concatenate\n",
      "Chance The Rapper No Problem (feat. Lil Wayne & 2 Chainz) 18523968\n"
     ]
    },
    {
     "name": "stderr",
     "output_type": "stream",
     "text": [
      "\r",
      "  3%|██▊                                                                                                       | 27/997 [06:57<3:57:13, 14.67s/it]"
     ]
    },
    {
     "name": "stdout",
     "output_type": "stream",
     "text": [
      "No objects to concatenate\n",
      "Kendrick Lamar DNA. 16299968\n"
     ]
    },
    {
     "name": "stderr",
     "output_type": "stream",
     "text": [
      "\r",
      "  3%|██▉                                                                                                       | 28/997 [07:18<4:28:18, 16.61s/it]"
     ]
    },
    {
     "name": "stdout",
     "output_type": "stream",
     "text": [
      "Drake Jumpman 16922969\n"
     ]
    },
    {
     "name": "stderr",
     "output_type": "stream",
     "text": [
      "\r",
      "  3%|███                                                                                                       | 29/997 [07:39<4:48:06, 17.86s/it]"
     ]
    },
    {
     "name": "stdout",
     "output_type": "stream",
     "text": [
      "No objects to concatenate\n",
      "Luis Fonsi Despacito - Remix 16187969\n"
     ]
    },
    {
     "name": "stderr",
     "output_type": "stream",
     "text": [
      "\r",
      "  3%|███▏                                                                                                      | 30/997 [08:00<5:02:12, 18.75s/it]"
     ]
    },
    {
     "name": "stdout",
     "output_type": "stream",
     "text": [
      "Big Sean Bounce Back 16039969\n"
     ]
    },
    {
     "name": "stderr",
     "output_type": "stream",
     "text": [
      "\r",
      "  3%|███▎                                                                                                      | 31/997 [08:21<5:14:09, 19.51s/it]"
     ]
    },
    {
     "name": "stdout",
     "output_type": "stream",
     "text": [
      "Migos T-Shirt 16447969\n"
     ]
    },
    {
     "name": "stderr",
     "output_type": "stream",
     "text": [
      "\r",
      "  3%|███▍                                                                                                      | 32/997 [08:42<5:22:40, 20.06s/it]"
     ]
    },
    {
     "name": "stdout",
     "output_type": "stream",
     "text": [
      "The Weeknd Can't Feel My Face 15635970\n"
     ]
    },
    {
     "name": "stderr",
     "output_type": "stream",
     "text": [
      "\r",
      "  3%|███▌                                                                                                      | 33/997 [08:53<4:35:53, 17.17s/it]"
     ]
    },
    {
     "name": "stdout",
     "output_type": "stream",
     "text": [
      "No objects to concatenate\n",
      "Post Malone rockstar 17501970\n"
     ]
    },
    {
     "name": "stderr",
     "output_type": "stream",
     "text": [
      "\r",
      "  3%|███▌                                                                                                      | 34/997 [09:14<4:56:03, 18.45s/it]"
     ]
    },
    {
     "name": "stdout",
     "output_type": "stream",
     "text": [
      "Journey Don't Stop Believin' 13698970\n"
     ]
    },
    {
     "name": "stderr",
     "output_type": "stream",
     "text": [
      "\r",
      "  4%|███▋                                                                                                      | 35/997 [09:17<3:38:19, 13.62s/it]"
     ]
    },
    {
     "name": "stdout",
     "output_type": "stream",
     "text": [
      "No objects to concatenate\n",
      "Justin Bieber Love Yourself 16399970\n"
     ]
    },
    {
     "name": "stderr",
     "output_type": "stream",
     "text": [
      "\r",
      "  4%|███▊                                                                                                      | 36/997 [09:32<3:46:20, 14.13s/it]"
     ]
    },
    {
     "name": "stdout",
     "output_type": "stream",
     "text": [
      "No objects to concatenate\n",
      "G-Eazy Me, Myself & I 13212971\n"
     ]
    },
    {
     "name": "stderr",
     "output_type": "stream",
     "text": [
      "\r",
      "  4%|███▉                                                                                                      | 37/997 [09:53<4:18:04, 16.13s/it]"
     ]
    },
    {
     "name": "stdout",
     "output_type": "stream",
     "text": [
      "Bryson Tiller Don't 13205971\n"
     ]
    },
    {
     "name": "stderr",
     "output_type": "stream",
     "text": [
      "\r",
      "  4%|████                                                                                                      | 38/997 [10:08<4:12:51, 15.82s/it]"
     ]
    },
    {
     "name": "stdout",
     "output_type": "stream",
     "text": [
      "No objects to concatenate\n",
      "Migos Slippery (feat. Gucci Mane) 14482971\n"
     ]
    },
    {
     "name": "stderr",
     "output_type": "stream",
     "text": [
      "\r",
      "  4%|████▏                                                                                                     | 39/997 [10:30<4:41:34, 17.64s/it]"
     ]
    },
    {
     "name": "stdout",
     "output_type": "stream",
     "text": [
      "Kendrick Lamar m.A.A.d city 12618971\n"
     ]
    },
    {
     "name": "stderr",
     "output_type": "stream",
     "text": [
      "\r",
      "  4%|████▎                                                                                                     | 40/997 [10:40<4:07:35, 15.52s/it]"
     ]
    },
    {
     "name": "stdout",
     "output_type": "stream",
     "text": [
      "No objects to concatenate\n",
      "The Chainsmokers Roses 15109971\n"
     ]
    },
    {
     "name": "stderr",
     "output_type": "stream",
     "text": [
      "\r",
      "  4%|████▎                                                                                                     | 41/997 [10:42<3:00:02, 11.30s/it]"
     ]
    },
    {
     "name": "stdout",
     "output_type": "stream",
     "text": [
      "No objects to concatenate\n",
      "Justin Bieber What Do You Mean? 16280971\n"
     ]
    },
    {
     "name": "stderr",
     "output_type": "stream",
     "text": [
      "\r",
      "  4%|████▍                                                                                                     | 42/997 [10:52<2:55:16, 11.01s/it]"
     ]
    },
    {
     "name": "stdout",
     "output_type": "stream",
     "text": [
      "No objects to concatenate\n",
      "Logic 1-800-273-8255 14150971\n"
     ]
    },
    {
     "name": "stderr",
     "output_type": "stream",
     "text": [
      "\r",
      "  4%|████▌                                                                                                     | 43/997 [11:14<3:46:13, 14.23s/it]"
     ]
    },
    {
     "name": "stdout",
     "output_type": "stream",
     "text": [
      "Sam Smith Stay With Me 13366972\n"
     ]
    },
    {
     "name": "stderr",
     "output_type": "stream",
     "text": [
      "\r",
      "  4%|████▋                                                                                                     | 44/997 [11:15<2:42:32, 10.23s/it]"
     ]
    },
    {
     "name": "stdout",
     "output_type": "stream",
     "text": [
      "No objects to concatenate\n",
      "Miley Cyrus Party In The U.S.A. 16449972\n"
     ]
    },
    {
     "name": "stderr",
     "output_type": "stream",
     "text": [
      "\r",
      "  5%|████▊                                                                                                     | 45/997 [11:36<3:33:33, 13.46s/it]"
     ]
    },
    {
     "name": "stdout",
     "output_type": "stream",
     "text": [
      "No objects to concatenate\n",
      "Rob $tone Chill Bill 14562972\n"
     ]
    },
    {
     "name": "stderr",
     "output_type": "stream",
     "text": [
      "\r",
      "  5%|████▉                                                                                                     | 46/997 [11:57<4:08:44, 15.69s/it]"
     ]
    },
    {
     "name": "stdout",
     "output_type": "stream",
     "text": [
      "Post Malone White Iverson 14598972\n"
     ]
    },
    {
     "name": "stderr",
     "output_type": "stream",
     "text": [
      "\r",
      "  5%|████▉                                                                                                     | 47/997 [12:07<3:41:32, 13.99s/it]"
     ]
    },
    {
     "name": "stdout",
     "output_type": "stream",
     "text": [
      "No objects to concatenate\n",
      "Kanye West Stronger 13253973\n"
     ]
    },
    {
     "name": "stderr",
     "output_type": "stream",
     "text": [
      "\r",
      "  5%|█████                                                                                                     | 48/997 [12:27<4:10:04, 15.81s/it]"
     ]
    },
    {
     "name": "stdout",
     "output_type": "stream",
     "text": [
      "No objects to concatenate\n",
      "Major Lazer Lean On (feat. MØ & DJ Snake) 12065973\n"
     ]
    },
    {
     "name": "stderr",
     "output_type": "stream",
     "text": [
      "\r",
      "  5%|█████▏                                                                                                    | 49/997 [12:42<4:06:28, 15.60s/it]"
     ]
    },
    {
     "name": "stdout",
     "output_type": "stream",
     "text": [
      "No objects to concatenate\n",
      "Future Low Life 12542973\n"
     ]
    },
    {
     "name": "stderr",
     "output_type": "stream",
     "text": [
      "\r",
      "  5%|█████▎                                                                                                    | 50/997 [12:57<4:04:37, 15.50s/it]"
     ]
    },
    {
     "name": "stdout",
     "output_type": "stream",
     "text": [
      "No objects to concatenate\n",
      "Ed Sheeran Shape of You 13412973\n"
     ]
    },
    {
     "name": "stderr",
     "output_type": "stream",
     "text": [
      "\r",
      "  5%|█████▍                                                                                                    | 51/997 [13:07<3:38:37, 13.87s/it]"
     ]
    },
    {
     "name": "stdout",
     "output_type": "stream",
     "text": [
      "No objects to concatenate\n",
      "Earth, Wind & Fire September 12380973\n"
     ]
    },
    {
     "name": "stderr",
     "output_type": "stream",
     "text": [
      "\r",
      "  5%|█████▌                                                                                                    | 52/997 [13:09<2:39:51, 10.15s/it]"
     ]
    },
    {
     "name": "stdout",
     "output_type": "stream",
     "text": [
      "No objects to concatenate\n",
      "Khalid Young Dumb & Broke 16481973\n"
     ]
    },
    {
     "name": "stderr",
     "output_type": "stream",
     "text": [
      "\r",
      "  5%|█████▋                                                                                                    | 53/997 [13:30<3:30:40, 13.39s/it]"
     ]
    },
    {
     "name": "stdout",
     "output_type": "stream",
     "text": [
      "Post Malone Go Flex 12886973\n"
     ]
    },
    {
     "name": "stderr",
     "output_type": "stream",
     "text": [
      "\r",
      "  5%|█████▋                                                                                                    | 54/997 [13:45<3:41:45, 14.11s/it]"
     ]
    },
    {
     "name": "stdout",
     "output_type": "stream",
     "text": [
      "No objects to concatenate\n",
      "Lil Uzi Vert Money Longer 14722973\n"
     ]
    },
    {
     "name": "stderr",
     "output_type": "stream",
     "text": [
      "\r",
      "  6%|█████▊                                                                                                    | 55/997 [13:55<3:22:34, 12.90s/it]"
     ]
    },
    {
     "name": "stdout",
     "output_type": "stream",
     "text": [
      "No objects to concatenate\n",
      "Waka Flocka Flame No Hands (feat. Roscoe Dash and Wale) - Explicit Album Version 12068973\n"
     ]
    },
    {
     "name": "stderr",
     "output_type": "stream",
     "text": [
      "\r",
      "  6%|█████▉                                                                                                    | 56/997 [14:16<3:58:31, 15.21s/it]"
     ]
    },
    {
     "name": "stdout",
     "output_type": "stream",
     "text": [
      "Justin Bieber Sorry 14466973\n"
     ]
    },
    {
     "name": "stderr",
     "output_type": "stream",
     "text": [
      "\r",
      "  6%|██████                                                                                                    | 57/997 [14:26<3:31:11, 13.48s/it]"
     ]
    },
    {
     "name": "stdout",
     "output_type": "stream",
     "text": [
      "No objects to concatenate\n",
      "M83 Midnight City 11300974\n",
      "No objects to concatenate\n"
     ]
    },
    {
     "name": "stderr",
     "output_type": "stream",
     "text": [
      "\r",
      "  6%|██████▏                                                                                                   | 58/997 [14:26<2:28:36,  9.50s/it]"
     ]
    },
    {
     "name": "stdout",
     "output_type": "stream",
     "text": [
      "Twenty One Pilots Ride 11718974\n"
     ]
    },
    {
     "name": "stderr",
     "output_type": "stream",
     "text": [
      "\r",
      "  6%|██████▎                                                                                                   | 59/997 [14:35<2:28:12,  9.48s/it]"
     ]
    },
    {
     "name": "stdout",
     "output_type": "stream",
     "text": [
      "No objects to concatenate\n",
      "Sam Hunt Body Like A Back Road 13132974\n"
     ]
    },
    {
     "name": "stderr",
     "output_type": "stream",
     "text": [
      "\r",
      "  6%|██████▍                                                                                                   | 60/997 [14:38<1:55:25,  7.39s/it]"
     ]
    },
    {
     "name": "stdout",
     "output_type": "stream",
     "text": [
      "No objects to concatenate\n",
      "French Montana Unforgettable 12362974\n"
     ]
    },
    {
     "name": "stderr",
     "output_type": "stream",
     "text": [
      "\r",
      "  6%|██████▍                                                                                                   | 61/997 [14:58<2:57:46, 11.40s/it]"
     ]
    },
    {
     "name": "stdout",
     "output_type": "stream",
     "text": [
      "Flo Rida My House 12033974\n"
     ]
    },
    {
     "name": "stderr",
     "output_type": "stream",
     "text": [
      "\r",
      "  6%|██████▌                                                                                                   | 62/997 [15:20<3:42:59, 14.31s/it]"
     ]
    },
    {
     "name": "stdout",
     "output_type": "stream",
     "text": [
      "Mike Posner I Took A Pill In Ibiza - Seeb Remix 11053975\n"
     ]
    },
    {
     "name": "stderr",
     "output_type": "stream",
     "text": [
      "\r",
      "  6%|██████▋                                                                                                   | 63/997 [15:34<3:43:25, 14.35s/it]"
     ]
    },
    {
     "name": "stdout",
     "output_type": "stream",
     "text": [
      "No objects to concatenate\n",
      "Milky Chance Stolen Dance 13746975\n"
     ]
    },
    {
     "name": "stderr",
     "output_type": "stream",
     "text": [
      "\r",
      "  6%|██████▊                                                                                                   | 64/997 [15:35<2:43:07, 10.49s/it]"
     ]
    },
    {
     "name": "stdout",
     "output_type": "stream",
     "text": [
      "No objects to concatenate\n",
      "Fetty Wap 679 (feat. Remy Boyz) 13194975\n"
     ]
    },
    {
     "name": "stderr",
     "output_type": "stream",
     "text": [
      "\r",
      "  7%|██████▉                                                                                                   | 65/997 [15:56<3:30:05, 13.53s/it]"
     ]
    },
    {
     "name": "stdout",
     "output_type": "stream",
     "text": [
      "Lynyrd Skynyrd Sweet Home Alabama 12823975\n"
     ]
    },
    {
     "name": "stderr",
     "output_type": "stream",
     "text": [
      "\r",
      "  7%|███████                                                                                                   | 66/997 [15:58<2:33:45,  9.91s/it]"
     ]
    },
    {
     "name": "stdout",
     "output_type": "stream",
     "text": [
      "No objects to concatenate\n",
      "Hozier Take Me To Church 10511975\n"
     ]
    },
    {
     "name": "stderr",
     "output_type": "stream",
     "text": [
      "\r",
      "  7%|███████                                                                                                   | 67/997 [15:58<1:51:28,  7.19s/it]"
     ]
    },
    {
     "name": "stdout",
     "output_type": "stream",
     "text": [
      "No objects to concatenate\n",
      "Frank Ocean Thinkin Bout You 12559975\n"
     ]
    },
    {
     "name": "stderr",
     "output_type": "stream",
     "text": [
      "\r",
      "  7%|███████▏                                                                                                  | 68/997 [16:19<2:54:45, 11.29s/it]"
     ]
    },
    {
     "name": "stdout",
     "output_type": "stream",
     "text": [
      "Childish Gambino V. 3005 12902975\n"
     ]
    },
    {
     "name": "stderr",
     "output_type": "stream",
     "text": [
      "\r",
      "  7%|███████▎                                                                                                  | 69/997 [16:29<2:46:41, 10.78s/it]"
     ]
    },
    {
     "name": "stdout",
     "output_type": "stream",
     "text": [
      "No objects to concatenate\n",
      "Rae Sremmurd Come Get Her 11706975\n"
     ]
    },
    {
     "name": "stderr",
     "output_type": "stream",
     "text": [
      "\r",
      "  7%|███████▍                                                                                                  | 70/997 [16:39<2:43:22, 10.57s/it]"
     ]
    },
    {
     "name": "stdout",
     "output_type": "stream",
     "text": [
      "No objects to concatenate\n",
      "Childish Gambino IV. sweatpants 14642975\n"
     ]
    },
    {
     "name": "stderr",
     "output_type": "stream",
     "text": [
      "\r",
      "  7%|███████▌                                                                                                  | 71/997 [16:47<2:33:31,  9.95s/it]"
     ]
    },
    {
     "name": "stdout",
     "output_type": "stream",
     "text": [
      "No objects to concatenate\n",
      "Big Sean I Don't Fuck With You 15067975\n"
     ]
    },
    {
     "name": "stderr",
     "output_type": "stream",
     "text": [
      "\r",
      "  7%|███████▋                                                                                                  | 72/997 [17:09<3:25:18, 13.32s/it]"
     ]
    },
    {
     "name": "stdout",
     "output_type": "stream",
     "text": [
      "Jeremih oui 10027975\n"
     ]
    },
    {
     "name": "stderr",
     "output_type": "stream",
     "text": [
      "\r",
      "  7%|███████▊                                                                                                  | 73/997 [17:18<3:05:43, 12.06s/it]"
     ]
    },
    {
     "name": "stdout",
     "output_type": "stream",
     "text": [
      "No objects to concatenate\n",
      "Major Lazer Cold Water (feat. Justin Bieber & MØ) 14845975\n"
     ]
    },
    {
     "name": "stderr",
     "output_type": "stream",
     "text": [
      "\r",
      "  7%|███████▊                                                                                                  | 74/997 [17:27<2:54:59, 11.37s/it]"
     ]
    },
    {
     "name": "stdout",
     "output_type": "stream",
     "text": [
      "No objects to concatenate\n",
      "Drake Hotline Bling 13667975\n"
     ]
    },
    {
     "name": "stderr",
     "output_type": "stream",
     "text": [
      "\r",
      "  8%|███████▉                                                                                                  | 75/997 [17:38<2:49:09, 11.01s/it]"
     ]
    },
    {
     "name": "stdout",
     "output_type": "stream",
     "text": [
      "No objects to concatenate\n",
      "A$AP Rocky Everyday 13789975\n"
     ]
    },
    {
     "name": "stderr",
     "output_type": "stream",
     "text": [
      "\r",
      "  8%|████████                                                                                                  | 76/997 [17:47<2:43:10, 10.63s/it]"
     ]
    },
    {
     "name": "stdout",
     "output_type": "stream",
     "text": [
      "No objects to concatenate\n",
      "Travis Scott Antidote 11393975\n"
     ]
    },
    {
     "name": "stderr",
     "output_type": "stream",
     "text": [
      "\r",
      "  8%|████████▏                                                                                                 | 77/997 [17:57<2:39:59, 10.43s/it]"
     ]
    },
    {
     "name": "stdout",
     "output_type": "stream",
     "text": [
      "No objects to concatenate\n",
      "Kiiara Gold 11017975\n"
     ]
    },
    {
     "name": "stderr",
     "output_type": "stream",
     "text": [
      "\r",
      "  8%|████████▎                                                                                                 | 78/997 [17:59<1:58:22,  7.73s/it]"
     ]
    },
    {
     "name": "stdout",
     "output_type": "stream",
     "text": [
      "No objects to concatenate\n",
      "Bruno Mars That's What I Like 13443975\n"
     ]
    },
    {
     "name": "stderr",
     "output_type": "stream",
     "text": [
      "\r",
      "  8%|████████▍                                                                                                 | 79/997 [18:09<2:07:33,  8.34s/it]"
     ]
    },
    {
     "name": "stdout",
     "output_type": "stream",
     "text": [
      "No objects to concatenate\n",
      "The Chainsmokers Don't Let Me Down 10523975\n"
     ]
    },
    {
     "name": "stderr",
     "output_type": "stream",
     "text": [
      "\r",
      "  8%|████████▌                                                                                                 | 80/997 [18:18<2:13:11,  8.71s/it]"
     ]
    },
    {
     "name": "stdout",
     "output_type": "stream",
     "text": [
      "No objects to concatenate\n",
      "21 Savage Bank Account 14316975\n"
     ]
    },
    {
     "name": "stderr",
     "output_type": "stream",
     "text": [
      "\r",
      "  8%|████████▌                                                                                                 | 81/997 [18:33<2:43:09, 10.69s/it]"
     ]
    },
    {
     "name": "stdout",
     "output_type": "stream",
     "text": [
      "No objects to concatenate\n",
      "Shawn Mendes Stitches 11902976\n"
     ]
    },
    {
     "name": "stderr",
     "output_type": "stream",
     "text": [
      "\r",
      "  8%|████████▋                                                                                                 | 82/997 [18:49<3:04:56, 12.13s/it]"
     ]
    },
    {
     "name": "stdout",
     "output_type": "stream",
     "text": [
      "No objects to concatenate\n",
      "Fifth Harmony Work from Home 12214976\n"
     ]
    },
    {
     "name": "stderr",
     "output_type": "stream",
     "text": [
      "\r",
      "  8%|████████▊                                                                                                 | 83/997 [18:59<2:53:08, 11.37s/it]"
     ]
    },
    {
     "name": "stdout",
     "output_type": "stream",
     "text": [
      "No objects to concatenate\n",
      "Rihanna Needed Me 11704976\n"
     ]
    },
    {
     "name": "stderr",
     "output_type": "stream",
     "text": [
      "\r",
      "  8%|████████▉                                                                                                 | 84/997 [19:08<2:45:03, 10.85s/it]"
     ]
    },
    {
     "name": "stdout",
     "output_type": "stream",
     "text": [
      "No objects to concatenate\n",
      "Guns N' Roses Sweet Child O' Mine 11745976\n"
     ]
    },
    {
     "name": "stderr",
     "output_type": "stream",
     "text": [
      "\r",
      "  9%|█████████                                                                                                 | 85/997 [19:10<2:05:48,  8.28s/it]"
     ]
    },
    {
     "name": "stdout",
     "output_type": "stream",
     "text": [
      "No objects to concatenate\n",
      "Macklemore & Ryan Lewis Can't Hold Us - feat. Ray Dalton 10696976\n",
      "No objects to concatenate\n"
     ]
    },
    {
     "name": "stderr",
     "output_type": "stream",
     "text": [
      "\r",
      "  9%|█████████▏                                                                                                | 86/997 [19:11<1:28:48,  5.85s/it]"
     ]
    },
    {
     "name": "stdout",
     "output_type": "stream",
     "text": [
      "Usher Yeah! 12854976\n"
     ]
    },
    {
     "name": "stderr",
     "output_type": "stream",
     "text": [
      "\r",
      "  9%|█████████▏                                                                                                | 87/997 [19:32<2:37:54, 10.41s/it]"
     ]
    },
    {
     "name": "stdout",
     "output_type": "stream",
     "text": [
      "Imagine Dragons Radioactive 10308977\n"
     ]
    },
    {
     "name": "stderr",
     "output_type": "stream",
     "text": [
      "\r",
      "  9%|█████████▎                                                                                                | 88/997 [19:52<3:22:35, 13.37s/it]"
     ]
    },
    {
     "name": "stdout",
     "output_type": "stream",
     "text": [
      "No objects to concatenate\n",
      "The Killers Mr. Brightside 11569977\n"
     ]
    },
    {
     "name": "stderr",
     "output_type": "stream",
     "text": [
      "\r",
      "  9%|█████████▍                                                                                                | 89/997 [19:53<2:28:14,  9.80s/it]"
     ]
    },
    {
     "name": "stdout",
     "output_type": "stream",
     "text": [
      "No objects to concatenate\n",
      "Miley Cyrus We Can't Stop 11357977\n",
      "No objects to concatenate\n"
     ]
    },
    {
     "name": "stderr",
     "output_type": "stream",
     "text": [
      "\r",
      "  9%|█████████▌                                                                                                | 90/997 [19:54<1:44:26,  6.91s/it]"
     ]
    },
    {
     "name": "stdout",
     "output_type": "stream",
     "text": [
      "Kodak Black Tunnel Vision 9217977\n"
     ]
    },
    {
     "name": "stderr",
     "output_type": "stream",
     "text": [
      "\r",
      "  9%|█████████▋                                                                                                | 91/997 [20:14<2:47:13, 11.07s/it]"
     ]
    },
    {
     "name": "stdout",
     "output_type": "stream",
     "text": [
      "The Notorious B.I.G. Hypnotize - 2014 Remastered Version 12518977\n"
     ]
    },
    {
     "name": "stderr",
     "output_type": "stream",
     "text": [
      "\r",
      "  9%|█████████▊                                                                                                | 92/997 [20:23<2:38:08, 10.48s/it]"
     ]
    },
    {
     "name": "stdout",
     "output_type": "stream",
     "text": [
      "No objects to concatenate\n",
      "Cardi B Bodak Yellow 12708977\n"
     ]
    },
    {
     "name": "stderr",
     "output_type": "stream",
     "text": [
      "\r",
      "  9%|█████████▉                                                                                                | 93/997 [20:39<3:00:43, 11.99s/it]"
     ]
    },
    {
     "name": "stdout",
     "output_type": "stream",
     "text": [
      "No objects to concatenate\n",
      "Thomas Rhett Die A Happy Man 10195977\n"
     ]
    },
    {
     "name": "stderr",
     "output_type": "stream",
     "text": [
      "\r",
      "  9%|█████████▉                                                                                                | 94/997 [20:42<2:17:52,  9.16s/it]"
     ]
    },
    {
     "name": "stdout",
     "output_type": "stream",
     "text": [
      "No objects to concatenate\n",
      "Bryson Tiller Exchange 12157977\n"
     ]
    },
    {
     "name": "stderr",
     "output_type": "stream",
     "text": [
      "\r",
      " 10%|██████████                                                                                                | 95/997 [20:58<2:52:11, 11.45s/it]"
     ]
    },
    {
     "name": "stdout",
     "output_type": "stream",
     "text": [
      "No objects to concatenate\n",
      "The Weeknd Often 12167977\n"
     ]
    },
    {
     "name": "stderr",
     "output_type": "stream",
     "text": [
      "\r",
      " 10%|██████████▏                                                                                               | 96/997 [21:08<2:43:44, 10.90s/it]"
     ]
    },
    {
     "name": "stdout",
     "output_type": "stream",
     "text": [
      "No objects to concatenate\n",
      "Young Thug pick up the phone 9170977\n"
     ]
    },
    {
     "name": "stderr",
     "output_type": "stream",
     "text": [
      "\r",
      " 10%|██████████▎                                                                                               | 97/997 [21:29<3:28:32, 13.90s/it]"
     ]
    },
    {
     "name": "stdout",
     "output_type": "stream",
     "text": [
      "Van Morrison Brown Eyed Girl 11515977\n"
     ]
    },
    {
     "name": "stderr",
     "output_type": "stream",
     "text": [
      "\r",
      " 10%|██████████▍                                                                                               | 98/997 [21:33<2:45:18, 11.03s/it]"
     ]
    },
    {
     "name": "stdout",
     "output_type": "stream",
     "text": [
      "No objects to concatenate\n",
      "Flume Never Be Like You 10382977\n"
     ]
    },
    {
     "name": "stderr",
     "output_type": "stream",
     "text": [
      "\r",
      " 10%|██████████▌                                                                                               | 99/997 [21:42<2:33:47, 10.28s/it]"
     ]
    },
    {
     "name": "stdout",
     "output_type": "stream",
     "text": [
      "No objects to concatenate\n",
      "Drake Controlla 11783977\n"
     ]
    },
    {
     "name": "stderr",
     "output_type": "stream",
     "text": [
      "\r",
      " 10%|██████████▌                                                                                              | 100/997 [21:50<2:25:20,  9.72s/it]"
     ]
    },
    {
     "name": "stdout",
     "output_type": "stream",
     "text": [
      "No objects to concatenate\n",
      "Zedd Stay (with Alessia Cara) 12549978\n"
     ]
    },
    {
     "name": "stderr",
     "output_type": "stream",
     "text": [
      "\r",
      " 10%|██████████▋                                                                                              | 101/997 [22:00<2:26:27,  9.81s/it]"
     ]
    },
    {
     "name": "stdout",
     "output_type": "stream",
     "text": [
      "No objects to concatenate\n",
      "Jack Johnson Better Together 10526978\n"
     ]
    },
    {
     "name": "stderr",
     "output_type": "stream",
     "text": [
      "\r",
      " 10%|██████████▋                                                                                              | 102/997 [22:02<1:52:10,  7.52s/it]"
     ]
    },
    {
     "name": "stdout",
     "output_type": "stream",
     "text": [
      "No objects to concatenate\n",
      "James Bay Let It Go 12828978\n"
     ]
    },
    {
     "name": "stderr",
     "output_type": "stream",
     "text": [
      "\r",
      " 10%|██████████▊                                                                                              | 103/997 [22:03<1:21:51,  5.49s/it]"
     ]
    },
    {
     "name": "stdout",
     "output_type": "stream",
     "text": [
      "No objects to concatenate\n",
      "Shaggy It Wasn't Me 13501978\n"
     ]
    },
    {
     "name": "stderr",
     "output_type": "stream",
     "text": [
      "\r",
      " 10%|██████████▉                                                                                              | 104/997 [22:24<2:32:17, 10.23s/it]"
     ]
    },
    {
     "name": "stdout",
     "output_type": "stream",
     "text": [
      "Marvin Gaye Ain't No Mountain High Enough 11401978\n"
     ]
    },
    {
     "name": "stderr",
     "output_type": "stream",
     "text": [
      "\r",
      " 11%|███████████                                                                                              | 105/997 [22:26<1:54:34,  7.71s/it]"
     ]
    },
    {
     "name": "stdout",
     "output_type": "stream",
     "text": [
      "No objects to concatenate\n",
      "Lil Uzi Vert You Was Right 10940978\n"
     ]
    },
    {
     "name": "stderr",
     "output_type": "stream",
     "text": [
      "\r",
      " 11%|███████████▏                                                                                             | 106/997 [22:43<2:36:33, 10.54s/it]"
     ]
    },
    {
     "name": "stdout",
     "output_type": "stream",
     "text": [
      "No objects to concatenate\n",
      "J. Cole Wet Dreamz 10822978\n"
     ]
    },
    {
     "name": "stderr",
     "output_type": "stream",
     "text": [
      "\r",
      " 11%|███████████▎                                                                                             | 107/997 [22:52<2:28:27, 10.01s/it]"
     ]
    },
    {
     "name": "stdout",
     "output_type": "stream",
     "text": [
      "No objects to concatenate\n",
      "Rick Springfield Jessie's Girl 10040978\n"
     ]
    },
    {
     "name": "stderr",
     "output_type": "stream",
     "text": [
      "\r",
      " 11%|███████████▎                                                                                             | 108/997 [22:54<1:54:22,  7.72s/it]"
     ]
    },
    {
     "name": "stdout",
     "output_type": "stream",
     "text": [
      "No objects to concatenate\n",
      "Twenty One Pilots Stressed Out 11020978\n"
     ]
    },
    {
     "name": "stderr",
     "output_type": "stream",
     "text": [
      "\r",
      " 11%|███████████▍                                                                                             | 109/997 [23:04<2:04:05,  8.38s/it]"
     ]
    },
    {
     "name": "stdout",
     "output_type": "stream",
     "text": [
      "No objects to concatenate\n",
      "Snoop Dogg Young, Wild & Free (feat. Bruno Mars) - feat. Bruno Mars 13446978\n"
     ]
    },
    {
     "name": "stderr",
     "output_type": "stream",
     "text": [
      "\r",
      " 11%|███████████▌                                                                                             | 110/997 [23:15<2:15:47,  9.19s/it]"
     ]
    },
    {
     "name": "stdout",
     "output_type": "stream",
     "text": [
      "No objects to concatenate\n",
      "Drake Too Good 11414978\n"
     ]
    },
    {
     "name": "stderr",
     "output_type": "stream",
     "text": [
      "\r",
      " 11%|███████████▋                                                                                             | 111/997 [23:25<2:18:41,  9.39s/it]"
     ]
    },
    {
     "name": "stdout",
     "output_type": "stream",
     "text": [
      "No objects to concatenate\n",
      "Kendrick Lamar Swimming Pools (Drank) 9723978\n"
     ]
    },
    {
     "name": "stderr",
     "output_type": "stream",
     "text": [
      "\r",
      " 11%|███████████▊                                                                                             | 112/997 [23:35<2:21:13,  9.57s/it]"
     ]
    },
    {
     "name": "stdout",
     "output_type": "stream",
     "text": [
      "No objects to concatenate\n",
      "Toto Africa 8286978\n"
     ]
    },
    {
     "name": "stderr",
     "output_type": "stream",
     "text": [
      "\r",
      " 11%|███████████▉                                                                                             | 113/997 [23:38<1:49:33,  7.44s/it]"
     ]
    },
    {
     "name": "stdout",
     "output_type": "stream",
     "text": [
      "No objects to concatenate\n",
      "Kendrick Lamar Bitch, Don’t Kill My Vibe 9962978\n"
     ]
    },
    {
     "name": "stderr",
     "output_type": "stream",
     "text": [
      "\r",
      " 11%|████████████                                                                                             | 114/997 [23:48<2:00:11,  8.17s/it]"
     ]
    },
    {
     "name": "stdout",
     "output_type": "stream",
     "text": [
      "No objects to concatenate\n",
      "Ed Sheeran Thinking Out Loud 10787979\n"
     ]
    },
    {
     "name": "stderr",
     "output_type": "stream",
     "text": [
      "\r",
      " 12%|████████████                                                                                             | 115/997 [23:49<1:27:51,  5.98s/it]"
     ]
    },
    {
     "name": "stdout",
     "output_type": "stream",
     "text": [
      "No objects to concatenate\n",
      "DJ Khaled Wild Thoughts 9256979\n"
     ]
    },
    {
     "name": "stderr",
     "output_type": "stream",
     "text": [
      "\r",
      " 12%|████████████▏                                                                                            | 116/997 [24:10<2:35:22, 10.58s/it]"
     ]
    },
    {
     "name": "stdout",
     "output_type": "stream",
     "text": [
      "Kendrick Lamar LOYALTY. FEAT. RIHANNA. 11362979\n"
     ]
    },
    {
     "name": "stderr",
     "output_type": "stream",
     "text": [
      "\r",
      " 12%|████████████▎                                                                                            | 117/997 [24:31<3:22:40, 13.82s/it]"
     ]
    },
    {
     "name": "stdout",
     "output_type": "stream",
     "text": [
      "Post Malone Candy Paint 12719979\n"
     ]
    },
    {
     "name": "stderr",
     "output_type": "stream",
     "text": [
      "\r",
      " 12%|████████████▍                                                                                            | 118/997 [24:53<3:57:04, 16.18s/it]"
     ]
    },
    {
     "name": "stdout",
     "output_type": "stream",
     "text": [
      "A$AP Rocky F**kin' Problems 9832979\n"
     ]
    },
    {
     "name": "stderr",
     "output_type": "stream",
     "text": [
      "\r",
      " 12%|████████████▌                                                                                            | 119/997 [25:14<4:16:35, 17.54s/it]"
     ]
    },
    {
     "name": "stdout",
     "output_type": "stream",
     "text": [
      "Red Hot Chili Peppers Californication 11369979\n"
     ]
    },
    {
     "name": "stderr",
     "output_type": "stream",
     "text": [
      "\r",
      " 12%|████████████▋                                                                                            | 120/997 [25:14<3:01:09, 12.39s/it]"
     ]
    },
    {
     "name": "stdout",
     "output_type": "stream",
     "text": [
      "No objects to concatenate\n",
      "B.o.B HeadBand (feat. 2 Chainz) 9299979\n"
     ]
    },
    {
     "name": "stderr",
     "output_type": "stream",
     "text": [
      "\r",
      " 12%|████████████▋                                                                                            | 121/997 [25:24<2:49:50, 11.63s/it]"
     ]
    },
    {
     "name": "stdout",
     "output_type": "stream",
     "text": [
      "No objects to concatenate\n",
      "Future Where Ya At 11460979\n"
     ]
    },
    {
     "name": "stderr",
     "output_type": "stream",
     "text": [
      "\r",
      " 12%|████████████▊                                                                                            | 122/997 [25:39<3:03:57, 12.61s/it]"
     ]
    },
    {
     "name": "stdout",
     "output_type": "stream",
     "text": [
      "No objects to concatenate\n",
      "The Lumineers Ho Hey 11301979\n"
     ]
    },
    {
     "name": "stderr",
     "output_type": "stream",
     "text": [
      "\r",
      " 12%|████████████▉                                                                                            | 123/997 [25:39<2:10:59,  8.99s/it]"
     ]
    },
    {
     "name": "stdout",
     "output_type": "stream",
     "text": [
      "No objects to concatenate\n",
      "The Jackson 5 I Want You Back 8477980\n"
     ]
    },
    {
     "name": "stderr",
     "output_type": "stream",
     "text": [
      "\r",
      " 12%|█████████████                                                                                            | 124/997 [25:41<1:39:15,  6.82s/it]"
     ]
    },
    {
     "name": "stdout",
     "output_type": "stream",
     "text": [
      "No objects to concatenate\n",
      "Rihanna Work 9475980\n"
     ]
    },
    {
     "name": "stderr",
     "output_type": "stream",
     "text": [
      "\r",
      " 13%|█████████████▏                                                                                           | 125/997 [25:51<1:50:59,  7.64s/it]"
     ]
    },
    {
     "name": "stdout",
     "output_type": "stream",
     "text": [
      "No objects to concatenate\n",
      "Kendrick Lamar LOVE. FEAT. ZACARI. 10173980\n"
     ]
    },
    {
     "name": "stderr",
     "output_type": "stream",
     "text": [
      "\r",
      " 13%|█████████████▎                                                                                           | 126/997 [26:13<2:56:42, 12.17s/it]"
     ]
    },
    {
     "name": "stdout",
     "output_type": "stream",
     "text": [
      "Sam Hunt House Party 9297980\n"
     ]
    },
    {
     "name": "stderr",
     "output_type": "stream",
     "text": [
      "\r",
      " 13%|█████████████▍                                                                                           | 127/997 [26:16<2:14:28,  9.27s/it]"
     ]
    },
    {
     "name": "stdout",
     "output_type": "stream",
     "text": [
      "No objects to concatenate\n",
      "The Weeknd Earned It (Fifty Shades Of Grey) 10163980\n"
     ]
    },
    {
     "name": "stderr",
     "output_type": "stream",
     "text": [
      "\r",
      " 13%|█████████████▍                                                                                           | 128/997 [26:32<2:44:29, 11.36s/it]"
     ]
    },
    {
     "name": "stdout",
     "output_type": "stream",
     "text": [
      "No objects to concatenate\n",
      "Kanye West Waves 9635980\n"
     ]
    },
    {
     "name": "stderr",
     "output_type": "stream",
     "text": [
      "\r",
      " 13%|█████████████▌                                                                                           | 129/997 [26:48<3:03:07, 12.66s/it]"
     ]
    },
    {
     "name": "stdout",
     "output_type": "stream",
     "text": [
      "No objects to concatenate\n",
      "Kanye West POWER 9991980\n"
     ]
    },
    {
     "name": "stderr",
     "output_type": "stream",
     "text": [
      "\r",
      " 13%|█████████████▋                                                                                           | 130/997 [27:09<3:38:40, 15.13s/it]"
     ]
    },
    {
     "name": "stdout",
     "output_type": "stream",
     "text": [
      "Adele Someone Like You 9481980\n"
     ]
    },
    {
     "name": "stderr",
     "output_type": "stream",
     "text": [
      "\r",
      " 13%|█████████████▊                                                                                           | 131/997 [27:10<2:37:12, 10.89s/it]"
     ]
    },
    {
     "name": "stdout",
     "output_type": "stream",
     "text": [
      "No objects to concatenate\n",
      "2 Chainz It's A Vibe 9780980\n"
     ]
    },
    {
     "name": "stderr",
     "output_type": "stream",
     "text": [
      " 13%|██████████████                                                                                           | 133/997 [27:30<2:19:04,  9.66s/it]"
     ]
    },
    {
     "name": "stdout",
     "output_type": "stream",
     "text": [
      "OutKast Hey Ya! - Radio Mix / Club Mix 9216980\n",
      "No objects to concatenate\n",
      "Rae Sremmurd No Type 10109980\n"
     ]
    },
    {
     "name": "stderr",
     "output_type": "stream",
     "text": [
      "\r",
      " 13%|██████████████                                                                                           | 134/997 [27:51<3:08:12, 13.09s/it]"
     ]
    },
    {
     "name": "stdout",
     "output_type": "stream",
     "text": [
      "The Temptations My Girl 8774980\n"
     ]
    },
    {
     "name": "stderr",
     "output_type": "stream",
     "text": [
      "\r",
      " 14%|██████████████▏                                                                                          | 135/997 [27:53<2:18:56,  9.67s/it]"
     ]
    },
    {
     "name": "stdout",
     "output_type": "stream",
     "text": [
      "No objects to concatenate\n",
      "Train Hey, Soul Sister 10771980\n"
     ]
    },
    {
     "name": "stderr",
     "output_type": "stream",
     "text": [
      "\r",
      " 14%|██████████████▎                                                                                          | 136/997 [27:55<1:44:52,  7.31s/it]"
     ]
    },
    {
     "name": "stdout",
     "output_type": "stream",
     "text": [
      "No objects to concatenate\n",
      "Alessia Cara Here 11239980\n"
     ]
    },
    {
     "name": "stderr",
     "output_type": "stream",
     "text": [
      "\r",
      " 14%|██████████████▍                                                                                          | 137/997 [28:10<2:17:21,  9.58s/it]"
     ]
    },
    {
     "name": "stdout",
     "output_type": "stream",
     "text": [
      "No objects to concatenate\n",
      "Rae Sremmurd Swang 8879980\n"
     ]
    },
    {
     "name": "stderr",
     "output_type": "stream",
     "text": [
      "\r",
      " 14%|██████████████▌                                                                                          | 138/997 [28:30<3:04:07, 12.86s/it]"
     ]
    },
    {
     "name": "stdout",
     "output_type": "stream",
     "text": [
      "J. Cole Deja Vu 9735980\n"
     ]
    },
    {
     "name": "stderr",
     "output_type": "stream",
     "text": [
      "\r",
      " 14%|██████████████▋                                                                                          | 139/997 [28:52<3:40:23, 15.41s/it]"
     ]
    },
    {
     "name": "stdout",
     "output_type": "stream",
     "text": [
      "Lil Yachty One Night 9522980\n"
     ]
    },
    {
     "name": "stderr",
     "output_type": "stream",
     "text": [
      "\r",
      " 14%|██████████████▋                                                                                          | 140/997 [29:01<3:16:30, 13.76s/it]"
     ]
    },
    {
     "name": "stdout",
     "output_type": "stream",
     "text": [
      "No objects to concatenate\n",
      "J. Cole Power Trip 9635981\n"
     ]
    },
    {
     "name": "stderr",
     "output_type": "stream",
     "text": [
      "\r",
      " 14%|██████████████▊                                                                                          | 141/997 [29:11<3:00:08, 12.63s/it]"
     ]
    },
    {
     "name": "stdout",
     "output_type": "stream",
     "text": [
      "No objects to concatenate\n",
      "Ayo & Teo Rolex 9753981\n"
     ]
    },
    {
     "name": "stderr",
     "output_type": "stream",
     "text": [
      "\r",
      " 14%|██████████████▉                                                                                          | 142/997 [29:32<3:34:18, 15.04s/it]"
     ]
    },
    {
     "name": "stdout",
     "output_type": "stream",
     "text": [
      "Russ What They Want 10670981\n"
     ]
    },
    {
     "name": "stderr",
     "output_type": "stream",
     "text": [
      "\r",
      " 14%|███████████████                                                                                          | 143/997 [29:47<3:34:41, 15.08s/it]"
     ]
    },
    {
     "name": "stdout",
     "output_type": "stream",
     "text": [
      "No objects to concatenate\n",
      "Mark Ronson Uptown Funk 9095981\n"
     ]
    },
    {
     "name": "stderr",
     "output_type": "stream",
     "text": [
      "\r",
      " 14%|███████████████▏                                                                                         | 144/997 [30:07<3:55:09, 16.54s/it]"
     ]
    },
    {
     "name": "stdout",
     "output_type": "stream",
     "text": [
      "No objects to concatenate\n",
      "Jack Ü Where Are Ü Now (with Justin Bieber) 10673981\n"
     ]
    },
    {
     "name": "stderr",
     "output_type": "stream",
     "text": [
      "\r",
      " 15%|███████████████▎                                                                                         | 145/997 [30:22<3:48:37, 16.10s/it]"
     ]
    },
    {
     "name": "stdout",
     "output_type": "stream",
     "text": [
      "No objects to concatenate\n",
      "Drake Energy 11670981\n"
     ]
    },
    {
     "name": "stderr",
     "output_type": "stream",
     "text": [
      "\r",
      " 15%|███████████████▍                                                                                         | 146/997 [30:43<4:09:53, 17.62s/it]"
     ]
    },
    {
     "name": "stdout",
     "output_type": "stream",
     "text": [
      "BØRNS Electric Love 9042981\n"
     ]
    },
    {
     "name": "stderr",
     "output_type": "stream",
     "text": [
      "\r",
      " 15%|███████████████▍                                                                                         | 147/997 [31:05<4:24:33, 18.68s/it]"
     ]
    },
    {
     "name": "stdout",
     "output_type": "stream",
     "text": [
      "Calvin Harris Rollin 10242981\n"
     ]
    },
    {
     "name": "stderr",
     "output_type": "stream",
     "text": [
      "\r",
      " 15%|███████████████▌                                                                                         | 148/997 [31:26<4:36:40, 19.55s/it]"
     ]
    },
    {
     "name": "stdout",
     "output_type": "stream",
     "text": [
      "John Legend All of Me 9415981\n"
     ]
    },
    {
     "name": "stderr",
     "output_type": "stream",
     "text": [
      "\r",
      " 15%|███████████████▋                                                                                         | 149/997 [31:27<3:15:22, 13.82s/it]"
     ]
    },
    {
     "name": "stdout",
     "output_type": "stream",
     "text": [
      "No objects to concatenate\n",
      "gnash i hate u, i love u (feat. olivia o'brien) 7859981\n"
     ]
    },
    {
     "name": "stderr",
     "output_type": "stream",
     "text": [
      "\r",
      " 15%|███████████████▊                                                                                         | 150/997 [31:29<2:25:39, 10.32s/it]"
     ]
    },
    {
     "name": "stdout",
     "output_type": "stream",
     "text": [
      "No objects to concatenate\n",
      "Kendrick Lamar Backseat Freestyle 7045981\n"
     ]
    },
    {
     "name": "stderr",
     "output_type": "stream",
     "text": [
      "\r",
      " 15%|███████████████▉                                                                                         | 151/997 [31:39<2:25:35, 10.33s/it]"
     ]
    },
    {
     "name": "stdout",
     "output_type": "stream",
     "text": [
      "No objects to concatenate\n",
      "Bon Jovi Livin' On A Prayer 8463981\n"
     ]
    },
    {
     "name": "stderr",
     "output_type": "stream",
     "text": [
      "\r",
      " 15%|████████████████                                                                                         | 152/997 [31:41<1:51:23,  7.91s/it]"
     ]
    },
    {
     "name": "stdout",
     "output_type": "stream",
     "text": [
      "No objects to concatenate\n",
      "Drake Portland 10070981\n"
     ]
    },
    {
     "name": "stderr",
     "output_type": "stream",
     "text": [
      "\r",
      " 15%|████████████████                                                                                         | 153/997 [32:03<2:47:20, 11.90s/it]"
     ]
    },
    {
     "name": "stdout",
     "output_type": "stream",
     "text": [
      "Kygo It Ain't Me (with Selena Gomez) 11037981\n"
     ]
    },
    {
     "name": "stderr",
     "output_type": "stream",
     "text": [
      "\r",
      " 15%|████████████████▏                                                                                        | 154/997 [32:13<2:38:49, 11.30s/it]"
     ]
    },
    {
     "name": "stdout",
     "output_type": "stream",
     "text": [
      "No objects to concatenate\n",
      "Drake Best I Ever Had 8666981\n"
     ]
    },
    {
     "name": "stderr",
     "output_type": "stream",
     "text": [
      "\r",
      " 16%|████████████████▎                                                                                        | 155/997 [32:33<3:17:01, 14.04s/it]"
     ]
    },
    {
     "name": "stdout",
     "output_type": "stream",
     "text": [
      "Adele Hello 6902981\n"
     ]
    },
    {
     "name": "stderr",
     "output_type": "stream",
     "text": [
      "\r",
      " 16%|████████████████▍                                                                                        | 156/997 [32:34<2:21:17, 10.08s/it]"
     ]
    },
    {
     "name": "stdout",
     "output_type": "stream",
     "text": [
      "No objects to concatenate\n",
      "Ice Cube It Was A Good Day 8772981\n"
     ]
    },
    {
     "name": "stderr",
     "output_type": "stream",
     "text": [
      "\r",
      " 16%|████████████████▌                                                                                        | 157/997 [32:54<3:04:29, 13.18s/it]"
     ]
    },
    {
     "name": "stdout",
     "output_type": "stream",
     "text": [
      "Justin Timberlake CAN'T STOP THE FEELING! (Original Song from DreamWorks Animation's \"TROLLS\") 9730981\n"
     ]
    },
    {
     "name": "stderr",
     "output_type": "stream",
     "text": [
      "\r",
      " 16%|████████████████▋                                                                                        | 158/997 [32:55<2:10:38,  9.34s/it]"
     ]
    },
    {
     "name": "stdout",
     "output_type": "stream",
     "text": [
      "No objects to concatenate\n",
      "Coldplay Viva La Vida 7889982\n"
     ]
    },
    {
     "name": "stderr",
     "output_type": "stream",
     "text": [
      "\r",
      " 16%|████████████████▋                                                                                        | 159/997 [32:56<1:38:50,  7.08s/it]"
     ]
    },
    {
     "name": "stdout",
     "output_type": "stream",
     "text": [
      "No objects to concatenate\n",
      "Lil Wayne Love Me 6853982\n"
     ]
    },
    {
     "name": "stderr",
     "output_type": "stream",
     "text": [
      "\r",
      " 16%|████████████████▊                                                                                        | 160/997 [33:17<2:34:56, 11.11s/it]"
     ]
    },
    {
     "name": "stdout",
     "output_type": "stream",
     "text": [
      "Thomas Rhett T-Shirt 7749982\n"
     ]
    },
    {
     "name": "stderr",
     "output_type": "stream",
     "text": [
      "\r",
      " 16%|████████████████▉                                                                                        | 161/997 [33:20<1:59:12,  8.56s/it]"
     ]
    },
    {
     "name": "stdout",
     "output_type": "stream",
     "text": [
      "No objects to concatenate\n",
      "Weezer Island In The Sun 9626982\n"
     ]
    },
    {
     "name": "stderr",
     "output_type": "stream",
     "text": [
      "\r",
      " 16%|█████████████████                                                                                        | 162/997 [33:21<1:28:58,  6.39s/it]"
     ]
    },
    {
     "name": "stdout",
     "output_type": "stream",
     "text": [
      "No objects to concatenate\n",
      "Zac Brown Band Chicken Fried 9589982\n"
     ]
    },
    {
     "name": "stderr",
     "output_type": "stream",
     "text": [
      " 16%|█████████████████▌                                                                                         | 164/997 [33:24<51:26,  3.71s/it]"
     ]
    },
    {
     "name": "stdout",
     "output_type": "stream",
     "text": [
      "No objects to concatenate\n",
      "blink-182 All The Small Things 9445982\n",
      "No objects to concatenate\n",
      "Kid Cudi Day 'N' Nite (nightmare) 7314982\n"
     ]
    },
    {
     "name": "stderr",
     "output_type": "stream",
     "text": [
      "\r",
      " 17%|█████████████████▍                                                                                       | 165/997 [33:33<1:16:10,  5.49s/it]"
     ]
    },
    {
     "name": "stdout",
     "output_type": "stream",
     "text": [
      "No objects to concatenate\n",
      "Drake Headlines 10764982\n"
     ]
    },
    {
     "name": "stderr",
     "output_type": "stream",
     "text": [
      "\r",
      " 17%|█████████████████▍                                                                                       | 166/997 [33:43<1:34:04,  6.79s/it]"
     ]
    },
    {
     "name": "stdout",
     "output_type": "stream",
     "text": [
      "No objects to concatenate\n",
      "Kid Cudi Pursuit Of Happiness (nightmare) 8153982\n"
     ]
    },
    {
     "name": "stderr",
     "output_type": "stream",
     "text": [
      "\r",
      " 17%|█████████████████▌                                                                                       | 167/997 [33:53<1:47:50,  7.80s/it]"
     ]
    },
    {
     "name": "stdout",
     "output_type": "stream",
     "text": [
      "No objects to concatenate\n",
      "Migos Get Right Witcha 8734982\n"
     ]
    },
    {
     "name": "stderr",
     "output_type": "stream",
     "text": [
      "\r",
      " 17%|█████████████████▋                                                                                       | 168/997 [34:14<2:43:42, 11.85s/it]"
     ]
    },
    {
     "name": "stdout",
     "output_type": "stream",
     "text": [
      "Russ Losin Control 9223982\n"
     ]
    },
    {
     "name": "stderr",
     "output_type": "stream",
     "text": [
      "\r",
      " 17%|█████████████████▊                                                                                       | 169/997 [34:32<3:05:39, 13.45s/it]"
     ]
    },
    {
     "name": "stdout",
     "output_type": "stream",
     "text": [
      "No objects to concatenate\n",
      "Darius Rucker Wagon Wheel 7482982\n"
     ]
    },
    {
     "name": "stderr",
     "output_type": "stream",
     "text": [
      "\r",
      " 17%|█████████████████▉                                                                                       | 170/997 [34:35<2:21:50, 10.29s/it]"
     ]
    },
    {
     "name": "stdout",
     "output_type": "stream",
     "text": [
      "No objects to concatenate\n",
      "Disclosure Latch 7733982\n",
      "No objects to concatenate\n"
     ]
    },
    {
     "name": "stderr",
     "output_type": "stream",
     "text": [
      "\r",
      " 17%|██████████████████                                                                                       | 171/997 [34:35<1:39:58,  7.26s/it]"
     ]
    },
    {
     "name": "stdout",
     "output_type": "stream",
     "text": [
      "Train Drops of Jupiter 8611982\n"
     ]
    },
    {
     "name": "stderr",
     "output_type": "stream",
     "text": [
      "\r",
      " 17%|██████████████████                                                                                       | 172/997 [34:46<1:54:31,  8.33s/it]"
     ]
    },
    {
     "name": "stdout",
     "output_type": "stream",
     "text": [
      "No objects to concatenate\n",
      "Lorde Royals 10399982\n"
     ]
    },
    {
     "name": "stderr",
     "output_type": "stream",
     "text": [
      "\r",
      " 17%|██████████████████▏                                                                                      | 173/997 [34:46<1:21:05,  5.90s/it]"
     ]
    },
    {
     "name": "stdout",
     "output_type": "stream",
     "text": [
      "No objects to concatenate\n",
      "Drake Pop Style 8885982\n"
     ]
    },
    {
     "name": "stderr",
     "output_type": "stream",
     "text": [
      "\r",
      " 17%|██████████████████▎                                                                                      | 174/997 [34:56<1:38:26,  7.18s/it]"
     ]
    },
    {
     "name": "stdout",
     "output_type": "stream",
     "text": [
      "No objects to concatenate\n",
      "Billy Joel Piano Man 9491982\n"
     ]
    },
    {
     "name": "stderr",
     "output_type": "stream",
     "text": [
      "\r",
      " 18%|██████████████████▍                                                                                      | 175/997 [34:58<1:18:43,  5.75s/it]"
     ]
    },
    {
     "name": "stdout",
     "output_type": "stream",
     "text": [
      "No objects to concatenate\n",
      "Foster The People Pumped Up Kicks 10240982\n"
     ]
    },
    {
     "name": "stderr",
     "output_type": "stream",
     "text": [
      "\r",
      " 18%|██████████████████▌                                                                                      | 176/997 [35:00<1:01:06,  4.47s/it]"
     ]
    },
    {
     "name": "stdout",
     "output_type": "stream",
     "text": [
      "No objects to concatenate\n",
      "Kevin Gates 2 Phones 8913982\n"
     ]
    },
    {
     "name": "stderr",
     "output_type": "stream",
     "text": [
      "\r",
      " 18%|██████████████████▋                                                                                      | 177/997 [35:15<1:45:24,  7.71s/it]"
     ]
    },
    {
     "name": "stdout",
     "output_type": "stream",
     "text": [
      "No objects to concatenate\n",
      "Sam Smith I'm Not The Only One 10724982\n"
     ]
    },
    {
     "name": "stderr",
     "output_type": "stream",
     "text": [
      "\r",
      " 18%|██████████████████▋                                                                                      | 178/997 [35:25<1:53:53,  8.34s/it]"
     ]
    },
    {
     "name": "stdout",
     "output_type": "stream",
     "text": [
      "No objects to concatenate\n",
      "Kanye West Black Skinhead 8043982\n"
     ]
    },
    {
     "name": "stderr",
     "output_type": "stream",
     "text": [
      "\r",
      " 18%|██████████████████▊                                                                                      | 179/997 [35:46<2:44:52, 12.09s/it]"
     ]
    },
    {
     "name": "stdout",
     "output_type": "stream",
     "text": [
      "Zara Larsson Never Forget You 10133982\n"
     ]
    },
    {
     "name": "stderr",
     "output_type": "stream",
     "text": [
      "\r",
      " 18%|██████████████████▉                                                                                      | 180/997 [35:48<2:02:45,  9.02s/it]"
     ]
    },
    {
     "name": "stdout",
     "output_type": "stream",
     "text": [
      "No objects to concatenate\n",
      "DJ Snake You Know You Like It 8090982\n"
     ]
    },
    {
     "name": "stderr",
     "output_type": "stream",
     "text": [
      "\r",
      " 18%|███████████████████                                                                                      | 181/997 [35:50<1:33:47,  6.90s/it]"
     ]
    },
    {
     "name": "stdout",
     "output_type": "stream",
     "text": [
      "No objects to concatenate\n",
      "Chance The Rapper Juke Jam (feat. Justin Bieber & Towkio) 11072982\n"
     ]
    },
    {
     "name": "stderr",
     "output_type": "stream",
     "text": [
      "\r",
      " 18%|███████████████████▏                                                                                     | 182/997 [36:10<2:30:11, 11.06s/it]"
     ]
    },
    {
     "name": "stdout",
     "output_type": "stream",
     "text": [
      "Drake Gyalchester 7397982\n"
     ]
    },
    {
     "name": "stderr",
     "output_type": "stream",
     "text": [
      "\r",
      " 18%|███████████████████▎                                                                                     | 183/997 [36:31<3:09:41, 13.98s/it]"
     ]
    },
    {
     "name": "stdout",
     "output_type": "stream",
     "text": [
      "Drake 0 To 100 / The Catch Up 10247982\n"
     ]
    },
    {
     "name": "stderr",
     "output_type": "stream",
     "text": [
      " 19%|███████████████████▍                                                                                     | 185/997 [36:46<2:16:13, 10.07s/it]"
     ]
    },
    {
     "name": "stdout",
     "output_type": "stream",
     "text": [
      "No objects to concatenate\n",
      "Calvin Harris Summer 9151982\n",
      "No objects to concatenate\n",
      "T-Pain Buy U a Drank (Shawty Snappin') 9771982\n"
     ]
    },
    {
     "name": "stderr",
     "output_type": "stream",
     "text": [
      "\r",
      " 19%|███████████████████▌                                                                                     | 186/997 [37:07<3:00:33, 13.36s/it]"
     ]
    },
    {
     "name": "stdout",
     "output_type": "stream",
     "text": [
      "The Neighbourhood Sweater Weather 7561982\n"
     ]
    },
    {
     "name": "stderr",
     "output_type": "stream",
     "text": [
      "\r",
      " 19%|███████████████████▋                                                                                     | 187/997 [37:28<3:30:18, 15.58s/it]"
     ]
    },
    {
     "name": "stdout",
     "output_type": "stream",
     "text": [
      "Boston More Than a Feeling 9012982\n"
     ]
    },
    {
     "name": "stderr",
     "output_type": "stream",
     "text": [
      "\r",
      " 19%|███████████████████▊                                                                                     | 188/997 [37:31<2:36:23, 11.60s/it]"
     ]
    },
    {
     "name": "stdout",
     "output_type": "stream",
     "text": [
      "No objects to concatenate\n",
      "Creedence Clearwater Revival Have You Ever Seen The Rain? 9597982\n"
     ]
    },
    {
     "name": "stderr",
     "output_type": "stream",
     "text": [
      "\r",
      " 19%|███████████████████▉                                                                                     | 189/997 [37:33<1:59:49,  8.90s/it]"
     ]
    },
    {
     "name": "stdout",
     "output_type": "stream",
     "text": [
      "No objects to concatenate\n",
      "Bruno Mars Locked Out Of Heaven 7046982\n"
     ]
    },
    {
     "name": "stderr",
     "output_type": "stream",
     "text": [
      "\r",
      " 19%|████████████████████                                                                                     | 190/997 [37:34<1:25:55,  6.39s/it]"
     ]
    },
    {
     "name": "stdout",
     "output_type": "stream",
     "text": [
      "No objects to concatenate\n",
      "The Lumineers Ophelia 8712982\n"
     ]
    },
    {
     "name": "stderr",
     "output_type": "stream",
     "text": [
      "\r",
      " 19%|████████████████████                                                                                     | 191/997 [37:54<2:23:52, 10.71s/it]"
     ]
    },
    {
     "name": "stdout",
     "output_type": "stream",
     "text": [
      "Queen Don't Stop Me Now - Remastered 9810982\n"
     ]
    },
    {
     "name": "stderr",
     "output_type": "stream",
     "text": [
      "\r",
      " 19%|████████████████████▏                                                                                    | 192/997 [37:57<1:51:14,  8.29s/it]"
     ]
    },
    {
     "name": "stdout",
     "output_type": "stream",
     "text": [
      "No objects to concatenate\n",
      "MadeinTYO Uber Everywhere 8649982\n"
     ]
    },
    {
     "name": "stderr",
     "output_type": "stream",
     "text": [
      "\r",
      " 19%|████████████████████▎                                                                                    | 193/997 [38:12<2:19:18, 10.40s/it]"
     ]
    },
    {
     "name": "stdout",
     "output_type": "stream",
     "text": [
      "No objects to concatenate\n",
      "Bryan Adams Summer Of '69 9251982\n"
     ]
    },
    {
     "name": "stderr",
     "output_type": "stream",
     "text": [
      "\r",
      " 19%|████████████████████▍                                                                                    | 194/997 [38:15<1:46:31,  7.96s/it]"
     ]
    },
    {
     "name": "stdout",
     "output_type": "stream",
     "text": [
      "No objects to concatenate\n",
      "Jack Johnson Banana Pancakes 8880983\n"
     ]
    },
    {
     "name": "stderr",
     "output_type": "stream",
     "text": [
      "\r",
      " 20%|████████████████████▌                                                                                    | 195/997 [38:17<1:23:05,  6.22s/it]"
     ]
    },
    {
     "name": "stdout",
     "output_type": "stream",
     "text": [
      "No objects to concatenate\n",
      "ZAYN PILLOWTALK 9886983\n"
     ]
    },
    {
     "name": "stderr",
     "output_type": "stream",
     "text": [
      "\r",
      " 20%|████████████████████▋                                                                                    | 196/997 [38:38<2:21:06, 10.57s/it]"
     ]
    },
    {
     "name": "stdout",
     "output_type": "stream",
     "text": [
      "Kanye West Father Stretch My Hands Pt. 1 8523983\n"
     ]
    },
    {
     "name": "stderr",
     "output_type": "stream",
     "text": [
      "\r",
      " 20%|████████████████████▋                                                                                    | 197/997 [38:47<2:17:05, 10.28s/it]"
     ]
    },
    {
     "name": "stdout",
     "output_type": "stream",
     "text": [
      "No objects to concatenate\n",
      "The Notorious B.I.G. Juicy 6553983\n"
     ]
    },
    {
     "name": "stderr",
     "output_type": "stream",
     "text": [
      "\r",
      " 20%|████████████████████▊                                                                                    | 198/997 [39:08<2:59:24, 13.47s/it]"
     ]
    },
    {
     "name": "stdout",
     "output_type": "stream",
     "text": [
      "Playboi Carti Magnolia 7767983\n"
     ]
    },
    {
     "name": "stderr",
     "output_type": "stream",
     "text": [
      "\r",
      " 20%|████████████████████▉                                                                                    | 199/997 [39:30<3:31:54, 15.93s/it]"
     ]
    },
    {
     "name": "stdout",
     "output_type": "stream",
     "text": [
      "Calvin Harris This Is What You Came For 8697983\n"
     ]
    },
    {
     "name": "stderr",
     "output_type": "stream",
     "text": [
      "\r",
      " 20%|█████████████████████                                                                                    | 200/997 [39:45<3:28:10, 15.67s/it]"
     ]
    },
    {
     "name": "stdout",
     "output_type": "stream",
     "text": [
      "No objects to concatenate\n",
      "DJ Snake Let Me Love You 9101983\n"
     ]
    },
    {
     "name": "stderr",
     "output_type": "stream",
     "text": [
      "\r",
      " 20%|█████████████████████▏                                                                                   | 201/997 [39:55<3:05:22, 13.97s/it]"
     ]
    },
    {
     "name": "stdout",
     "output_type": "stream",
     "text": [
      "No objects to concatenate\n",
      "ScHoolboy Q Collard Greens 7592983\n"
     ]
    },
    {
     "name": "stderr",
     "output_type": "stream",
     "text": [
      "\r",
      " 20%|█████████████████████▎                                                                                   | 202/997 [40:05<2:50:43, 12.88s/it]"
     ]
    },
    {
     "name": "stdout",
     "output_type": "stream",
     "text": [
      "No objects to concatenate\n",
      "Lukas Graham 7 Years 6568983\n"
     ]
    },
    {
     "name": "stderr",
     "output_type": "stream",
     "text": [
      "\r",
      " 20%|█████████████████████▍                                                                                   | 203/997 [40:15<2:39:25, 12.05s/it]"
     ]
    },
    {
     "name": "stdout",
     "output_type": "stream",
     "text": [
      "No objects to concatenate\n",
      "Kent Jones Don't Mind 8504983\n"
     ]
    },
    {
     "name": "stderr",
     "output_type": "stream",
     "text": [
      "\r",
      " 20%|█████████████████████▍                                                                                   | 204/997 [40:26<2:34:39, 11.70s/it]"
     ]
    },
    {
     "name": "stdout",
     "output_type": "stream",
     "text": [
      "No objects to concatenate\n",
      "Matoma Old Thing Back (feat. Ja Rule and Ralph Tresvant) 8335983\n"
     ]
    },
    {
     "name": "stderr",
     "output_type": "stream",
     "text": [
      "\r",
      " 21%|█████████████████████▌                                                                                   | 205/997 [40:37<2:29:28, 11.32s/it]"
     ]
    },
    {
     "name": "stdout",
     "output_type": "stream",
     "text": [
      "No objects to concatenate\n",
      "Bon Jovi You Give Love A Bad Name 7740983\n"
     ]
    },
    {
     "name": "stderr",
     "output_type": "stream",
     "text": [
      "\r",
      " 21%|█████████████████████▋                                                                                   | 206/997 [40:39<1:54:02,  8.65s/it]"
     ]
    },
    {
     "name": "stdout",
     "output_type": "stream",
     "text": [
      "No objects to concatenate\n",
      "Jon Bellion All Time Low 6908983\n"
     ]
    },
    {
     "name": "stderr",
     "output_type": "stream",
     "text": [
      "\r",
      " 21%|█████████████████████▊                                                                                   | 207/997 [41:01<2:45:50, 12.60s/it]"
     ]
    },
    {
     "name": "stdout",
     "output_type": "stream",
     "text": [
      "The Weeknd In The Night 6744983\n"
     ]
    },
    {
     "name": "stderr",
     "output_type": "stream",
     "text": [
      "\r",
      " 21%|█████████████████████▉                                                                                   | 208/997 [41:10<2:32:54, 11.63s/it]"
     ]
    },
    {
     "name": "stdout",
     "output_type": "stream",
     "text": [
      "No objects to concatenate\n",
      "Fleetwood Mac Go Your Own Way - 2004 Remastered Edition 9112983\n"
     ]
    },
    {
     "name": "stderr",
     "output_type": "stream",
     "text": [
      "\r",
      " 21%|██████████████████████                                                                                   | 209/997 [41:13<1:56:24,  8.86s/it]"
     ]
    },
    {
     "name": "stdout",
     "output_type": "stream",
     "text": [
      "No objects to concatenate\n",
      "Aerosmith Dream On 7871983\n"
     ]
    },
    {
     "name": "stderr",
     "output_type": "stream",
     "text": [
      "\r",
      " 21%|██████████████████████                                                                                   | 210/997 [41:15<1:29:11,  6.80s/it]"
     ]
    },
    {
     "name": "stdout",
     "output_type": "stream",
     "text": [
      "No objects to concatenate\n",
      "Disclosure You & Me - Flume Remix 8176983\n"
     ]
    },
    {
     "name": "stderr",
     "output_type": "stream",
     "text": [
      "\r",
      " 21%|██████████████████████▏                                                                                  | 211/997 [41:30<2:01:18,  9.26s/it]"
     ]
    },
    {
     "name": "stdout",
     "output_type": "stream",
     "text": [
      "No objects to concatenate\n",
      "Of Monsters and Men Little Talks 7250983\n"
     ]
    },
    {
     "name": "stderr",
     "output_type": "stream",
     "text": [
      "\r",
      " 21%|██████████████████████▎                                                                                  | 212/997 [41:40<2:05:51,  9.62s/it]"
     ]
    },
    {
     "name": "stdout",
     "output_type": "stream",
     "text": [
      "No objects to concatenate\n",
      "Red Hot Chili Peppers Snow (Hey Oh) - Hey Oh Album Version 8658983\n"
     ]
    },
    {
     "name": "stderr",
     "output_type": "stream",
     "text": [
      "\r",
      " 21%|██████████████████████▍                                                                                  | 213/997 [41:42<1:37:04,  7.43s/it]"
     ]
    },
    {
     "name": "stdout",
     "output_type": "stream",
     "text": [
      "No objects to concatenate\n",
      "Eminem Rap God 7319983\n"
     ]
    },
    {
     "name": "stderr",
     "output_type": "stream",
     "text": [
      "\r",
      " 21%|██████████████████████▌                                                                                  | 214/997 [42:03<2:26:52, 11.25s/it]"
     ]
    },
    {
     "name": "stdout",
     "output_type": "stream",
     "text": [
      "No objects to concatenate\n",
      "Brett Young In Case You Didn't Know 9642983\n"
     ]
    },
    {
     "name": "stderr",
     "output_type": "stream",
     "text": [
      "\r",
      " 22%|██████████████████████▋                                                                                  | 215/997 [42:05<1:52:17,  8.62s/it]"
     ]
    },
    {
     "name": "stdout",
     "output_type": "stream",
     "text": [
      "No objects to concatenate\n",
      "Kygo Firestone 7474983\n"
     ]
    },
    {
     "name": "stderr",
     "output_type": "stream",
     "text": [
      "\r",
      " 22%|██████████████████████▋                                                                                  | 216/997 [42:08<1:28:21,  6.79s/it]"
     ]
    },
    {
     "name": "stdout",
     "output_type": "stream",
     "text": [
      "No objects to concatenate\n",
      "Niall Horan Slow Hands 8550983\n"
     ]
    },
    {
     "name": "stderr",
     "output_type": "stream",
     "text": [
      "\r",
      " 22%|██████████████████████▊                                                                                  | 217/997 [42:23<2:03:29,  9.50s/it]"
     ]
    },
    {
     "name": "stdout",
     "output_type": "stream",
     "text": [
      "No objects to concatenate\n",
      "Maroon 5 Sugar 8343983\n"
     ]
    },
    {
     "name": "stderr",
     "output_type": "stream",
     "text": [
      "\r",
      " 22%|██████████████████████▉                                                                                  | 218/997 [42:38<2:23:56, 11.09s/it]"
     ]
    },
    {
     "name": "stdout",
     "output_type": "stream",
     "text": [
      "No objects to concatenate\n",
      "Calvin Harris How Deep Is Your Love 7964983\n"
     ]
    },
    {
     "name": "stderr",
     "output_type": "stream",
     "text": [
      "\r",
      " 22%|███████████████████████                                                                                  | 219/997 [42:53<2:39:44, 12.32s/it]"
     ]
    },
    {
     "name": "stdout",
     "output_type": "stream",
     "text": [
      "No objects to concatenate\n",
      "Queen Under Pressure - Remastered 2011 9105983\n"
     ]
    },
    {
     "name": "stderr",
     "output_type": "stream",
     "text": [
      "\r",
      " 22%|███████████████████████▏                                                                                 | 220/997 [42:56<2:03:07,  9.51s/it]"
     ]
    },
    {
     "name": "stdout",
     "output_type": "stream",
     "text": [
      "No objects to concatenate\n",
      "Lil Wayne 6 Foot 7 Foot 6847983\n"
     ]
    },
    {
     "name": "stderr",
     "output_type": "stream",
     "text": [
      "\r",
      " 22%|███████████████████████▎                                                                                 | 221/997 [43:17<2:46:47, 12.90s/it]"
     ]
    },
    {
     "name": "stdout",
     "output_type": "stream",
     "text": [
      "No objects to concatenate\n",
      "Portugal. The Man Feel It Still 7140983\n"
     ]
    },
    {
     "name": "stderr",
     "output_type": "stream",
     "text": [
      "\r",
      " 22%|███████████████████████▍                                                                                 | 222/997 [43:28<2:37:01, 12.16s/it]"
     ]
    },
    {
     "name": "stdout",
     "output_type": "stream",
     "text": [
      "No objects to concatenate\n",
      "Semisonic Closing Time 9558983\n"
     ]
    },
    {
     "name": "stderr",
     "output_type": "stream",
     "text": [
      "\r",
      " 22%|███████████████████████▍                                                                                 | 223/997 [43:28<1:52:11,  8.70s/it]"
     ]
    },
    {
     "name": "stdout",
     "output_type": "stream",
     "text": [
      "No objects to concatenate\n",
      "Eminem Lose Yourself - Soundtrack Version 8257983\n"
     ]
    },
    {
     "name": "stderr",
     "output_type": "stream",
     "text": [
      " 23%|███████████████████████▋                                                                                 | 225/997 [43:49<1:50:40,  8.60s/it]"
     ]
    },
    {
     "name": "stdout",
     "output_type": "stream",
     "text": [
      "No objects to concatenate\n",
      "Maroon 5 She Will Be Loved - Radio Mix 9669983\n",
      "No objects to concatenate\n",
      "Dexys Midnight Runners Come On Eileen 9309983\n"
     ]
    },
    {
     "name": "stderr",
     "output_type": "stream",
     "text": [
      "\r",
      " 23%|███████████████████████▊                                                                                 | 226/997 [43:54<1:35:39,  7.44s/it]"
     ]
    },
    {
     "name": "stdout",
     "output_type": "stream",
     "text": [
      "No objects to concatenate\n",
      "Travis Scott Butterfly Effect 8833983\n"
     ]
    },
    {
     "name": "stderr",
     "output_type": "stream",
     "text": [
      "\r",
      " 23%|███████████████████████▉                                                                                 | 227/997 [44:15<2:29:58, 11.69s/it]"
     ]
    },
    {
     "name": "stdout",
     "output_type": "stream",
     "text": [
      "Guns N' Roses Paradise City 7586983\n"
     ]
    },
    {
     "name": "stderr",
     "output_type": "stream",
     "text": [
      "\r",
      " 23%|████████████████████████                                                                                 | 228/997 [44:18<1:54:38,  8.94s/it]"
     ]
    },
    {
     "name": "stdout",
     "output_type": "stream",
     "text": [
      "No objects to concatenate\n",
      "Kodak Black Too Many Years 9461983\n"
     ]
    },
    {
     "name": "stderr",
     "output_type": "stream",
     "text": [
      "\r",
      " 23%|████████████████████████                                                                                 | 229/997 [44:35<2:27:09, 11.50s/it]"
     ]
    },
    {
     "name": "stdout",
     "output_type": "stream",
     "text": [
      "No objects to concatenate\n",
      "Sia Cheap Thrills 8778983\n"
     ]
    },
    {
     "name": "stderr",
     "output_type": "stream",
     "text": [
      "\r",
      " 23%|████████████████████████▏                                                                                | 230/997 [44:45<2:21:31, 11.07s/it]"
     ]
    },
    {
     "name": "stdout",
     "output_type": "stream",
     "text": [
      "No objects to concatenate\n",
      "Beyoncé Crazy In Love 9824984\n"
     ]
    },
    {
     "name": "stderr",
     "output_type": "stream",
     "text": [
      "\r",
      " 23%|████████████████████████▎                                                                                | 231/997 [45:06<2:58:46, 14.00s/it]"
     ]
    },
    {
     "name": "stdout",
     "output_type": "stream",
     "text": [
      "No objects to concatenate\n",
      "Drake Childs Play 9244984\n"
     ]
    },
    {
     "name": "stderr",
     "output_type": "stream",
     "text": [
      "\r",
      " 23%|████████████████████████▍                                                                                | 232/997 [45:28<3:27:03, 16.24s/it]"
     ]
    },
    {
     "name": "stdout",
     "output_type": "stream",
     "text": [
      "Drake Right Hand 9448984\n"
     ]
    },
    {
     "name": "stderr",
     "output_type": "stream",
     "text": [
      "\r",
      " 23%|████████████████████████▌                                                                                | 233/997 [45:37<3:00:17, 14.16s/it]"
     ]
    },
    {
     "name": "stdout",
     "output_type": "stream",
     "text": [
      "No objects to concatenate\n",
      "G-Eazy I Mean It 8342984\n"
     ]
    },
    {
     "name": "stderr",
     "output_type": "stream",
     "text": [
      "\r",
      " 23%|████████████████████████▋                                                                                | 234/997 [45:53<3:08:04, 14.79s/it]"
     ]
    },
    {
     "name": "stdout",
     "output_type": "stream",
     "text": [
      "No objects to concatenate\n",
      "Rae Sremmurd Look Alive 6843984\n"
     ]
    },
    {
     "name": "stderr",
     "output_type": "stream",
     "text": [
      "\r",
      " 24%|████████████████████████▋                                                                                | 235/997 [46:14<3:31:51, 16.68s/it]"
     ]
    },
    {
     "name": "stdout",
     "output_type": "stream",
     "text": [
      "Ed Sheeran Photograph 7573984\n"
     ]
    },
    {
     "name": "stderr",
     "output_type": "stream",
     "text": [
      "\r",
      " 24%|████████████████████████▊                                                                                | 236/997 [46:24<3:07:06, 14.75s/it]"
     ]
    },
    {
     "name": "stdout",
     "output_type": "stream",
     "text": [
      "No objects to concatenate\n",
      "Alessia Cara Wild Things 8288984\n"
     ]
    },
    {
     "name": "stderr",
     "output_type": "stream",
     "text": [
      "\r",
      " 24%|████████████████████████▉                                                                                | 237/997 [46:34<2:47:28, 13.22s/it]"
     ]
    },
    {
     "name": "stdout",
     "output_type": "stream",
     "text": [
      "No objects to concatenate\n",
      "Kanye West Fade 7821984\n",
      "No objects to concatenate\n",
      "Chris Brown Party 9584984\n"
     ]
    },
    {
     "name": "stderr",
     "output_type": "stream",
     "text": [
      "\r",
      " 24%|█████████████████████████▏                                                                               | 239/997 [46:44<2:15:59, 10.76s/it]"
     ]
    },
    {
     "name": "stdout",
     "output_type": "stream",
     "text": [
      "No objects to concatenate\n",
      "Flo Rida Low (feat T-Pain) - Feat T-Pain Album Version 9952984\n"
     ]
    },
    {
     "name": "stderr",
     "output_type": "stream",
     "text": [
      "\r",
      " 24%|█████████████████████████▎                                                                               | 240/997 [46:55<2:16:33, 10.82s/it]"
     ]
    },
    {
     "name": "stdout",
     "output_type": "stream",
     "text": [
      "No objects to concatenate\n",
      "Jonas Blue Fast Car 7468984\n"
     ]
    },
    {
     "name": "stderr",
     "output_type": "stream",
     "text": [
      "\r",
      " 24%|█████████████████████████▍                                                                               | 241/997 [46:57<1:44:06,  8.26s/it]"
     ]
    },
    {
     "name": "stdout",
     "output_type": "stream",
     "text": [
      "No objects to concatenate\n",
      "Passenger Let Her Go 7321984\n"
     ]
    },
    {
     "name": "stderr",
     "output_type": "stream",
     "text": [
      "\r",
      " 24%|█████████████████████████▍                                                                               | 242/997 [47:08<1:51:42,  8.88s/it]"
     ]
    },
    {
     "name": "stdout",
     "output_type": "stream",
     "text": [
      "No objects to concatenate\n",
      "Florida Georgia Line Cruise 6102984\n"
     ]
    },
    {
     "name": "stderr",
     "output_type": "stream",
     "text": [
      "\r",
      " 24%|█████████████████████████▌                                                                               | 243/997 [47:10<1:28:07,  7.01s/it]"
     ]
    },
    {
     "name": "stdout",
     "output_type": "stream",
     "text": [
      "No objects to concatenate\n",
      "Drake Forever 6941984\n"
     ]
    },
    {
     "name": "stderr",
     "output_type": "stream",
     "text": [
      "\r",
      " 24%|█████████████████████████▋                                                                               | 244/997 [47:31<2:20:27, 11.19s/it]"
     ]
    },
    {
     "name": "stdout",
     "output_type": "stream",
     "text": [
      "Kanye West Ultralight Beam 7074984\n"
     ]
    },
    {
     "name": "stderr",
     "output_type": "stream",
     "text": [
      "\r",
      " 25%|█████████████████████████▊                                                                               | 245/997 [47:52<2:55:34, 14.01s/it]"
     ]
    },
    {
     "name": "stdout",
     "output_type": "stream",
     "text": [
      "Shakira Hips Don't Lie 9781984\n"
     ]
    },
    {
     "name": "stderr",
     "output_type": "stream",
     "text": [
      "\r",
      " 25%|█████████████████████████▉                                                                               | 246/997 [48:03<2:43:56, 13.10s/it]"
     ]
    },
    {
     "name": "stdout",
     "output_type": "stream",
     "text": [
      "No objects to concatenate\n",
      "Bruno Mars Treasure 7494984\n"
     ]
    },
    {
     "name": "stderr",
     "output_type": "stream",
     "text": [
      "\r",
      " 25%|██████████████████████████                                                                               | 247/997 [48:13<2:33:28, 12.28s/it]"
     ]
    },
    {
     "name": "stdout",
     "output_type": "stream",
     "text": [
      "No objects to concatenate\n",
      "Bruno Mars When I Was Your Man 7582984\n"
     ]
    },
    {
     "name": "stderr",
     "output_type": "stream",
     "text": [
      "\r",
      " 25%|██████████████████████████                                                                               | 248/997 [48:14<1:50:18,  8.84s/it]"
     ]
    },
    {
     "name": "stdout",
     "output_type": "stream",
     "text": [
      "No objects to concatenate\n",
      "Alicia Keys If I Ain't Got You 8625984\n",
      "No objects to concatenate\n"
     ]
    },
    {
     "name": "stderr",
     "output_type": "stream",
     "text": [
      "\r",
      " 25%|██████████████████████████▏                                                                              | 249/997 [48:14<1:17:55,  6.25s/it]"
     ]
    },
    {
     "name": "stdout",
     "output_type": "stream",
     "text": [
      "DJ Snake Middle 8824984\n"
     ]
    },
    {
     "name": "stderr",
     "output_type": "stream",
     "text": [
      "\r",
      " 25%|██████████████████████████▎                                                                              | 250/997 [48:24<1:29:56,  7.22s/it]"
     ]
    },
    {
     "name": "stdout",
     "output_type": "stream",
     "text": [
      "No objects to concatenate\n",
      "Kodak Black No Flockin 5993984\n"
     ]
    },
    {
     "name": "stderr",
     "output_type": "stream",
     "text": [
      "\r",
      " 25%|██████████████████████████▍                                                                              | 251/997 [48:33<1:36:43,  7.78s/it]"
     ]
    },
    {
     "name": "stdout",
     "output_type": "stream",
     "text": [
      "No objects to concatenate\n",
      "X Ambassadors Unsteady 6783984\n"
     ]
    },
    {
     "name": "stderr",
     "output_type": "stream",
     "text": [
      "\r",
      " 25%|██████████████████████████▌                                                                              | 252/997 [48:47<2:01:00,  9.75s/it]"
     ]
    },
    {
     "name": "stdout",
     "output_type": "stream",
     "text": [
      "No objects to concatenate\n",
      "ScHoolboy Q Man Of The Year 6768984\n"
     ]
    },
    {
     "name": "stderr",
     "output_type": "stream",
     "text": [
      " 25%|██████████████████████████▊                                                                              | 254/997 [49:08<1:53:23,  9.16s/it]"
     ]
    },
    {
     "name": "stdout",
     "output_type": "stream",
     "text": [
      "Justin Timberlake Mirrors 7088984\n",
      "No objects to concatenate\n",
      "Jason Mraz I'm Yours 6953984\n"
     ]
    },
    {
     "name": "stderr",
     "output_type": "stream",
     "text": [
      "\r",
      " 26%|██████████████████████████▊                                                                              | 255/997 [49:10<1:26:35,  7.00s/it]"
     ]
    },
    {
     "name": "stdout",
     "output_type": "stream",
     "text": [
      "No objects to concatenate\n",
      "Eminem 'Till I Collapse 6705984\n"
     ]
    },
    {
     "name": "stderr",
     "output_type": "stream",
     "text": [
      "\r",
      " 26%|██████████████████████████▉                                                                              | 256/997 [49:31<2:19:16, 11.28s/it]"
     ]
    },
    {
     "name": "stdout",
     "output_type": "stream",
     "text": [
      "Tom Petty Free Fallin' 8729984\n"
     ]
    },
    {
     "name": "stderr",
     "output_type": "stream",
     "text": [
      " 26%|███████████████████████████▏                                                                             | 258/997 [49:34<1:14:28,  6.05s/it]"
     ]
    },
    {
     "name": "stdout",
     "output_type": "stream",
     "text": [
      "No objects to concatenate\n",
      "Miley Cyrus Wrecking Ball 6151984\n",
      "No objects to concatenate\n",
      "Rae Sremmurd This Could Be Us 7560984\n"
     ]
    },
    {
     "name": "stderr",
     "output_type": "stream",
     "text": [
      "\r",
      " 26%|███████████████████████████▎                                                                             | 259/997 [49:49<1:48:40,  8.84s/it]"
     ]
    },
    {
     "name": "stdout",
     "output_type": "stream",
     "text": [
      "No objects to concatenate\n",
      "Liam Payne Strip That Down 7175984\n"
     ]
    },
    {
     "name": "stderr",
     "output_type": "stream",
     "text": [
      "\r",
      " 26%|███████████████████████████▍                                                                             | 260/997 [49:51<1:25:00,  6.92s/it]"
     ]
    },
    {
     "name": "stdout",
     "output_type": "stream",
     "text": [
      "No objects to concatenate\n",
      "Khalid 8TEEN 7699984\n"
     ]
    },
    {
     "name": "stderr",
     "output_type": "stream",
     "text": [
      "\r",
      " 26%|███████████████████████████▍                                                                             | 261/997 [50:13<2:17:50, 11.24s/it]"
     ]
    },
    {
     "name": "stdout",
     "output_type": "stream",
     "text": [
      "Jeremih Planez 6943984\n"
     ]
    },
    {
     "name": "stderr",
     "output_type": "stream",
     "text": [
      "\r",
      " 26%|███████████████████████████▌                                                                             | 262/997 [50:34<2:52:55, 14.12s/it]"
     ]
    },
    {
     "name": "stdout",
     "output_type": "stream",
     "text": [
      "Creedence Clearwater Revival Fortunate Son 7951984\n"
     ]
    },
    {
     "name": "stderr",
     "output_type": "stream",
     "text": [
      "\r",
      " 26%|███████████████████████████▋                                                                             | 263/997 [50:36<2:09:32, 10.59s/it]"
     ]
    },
    {
     "name": "stdout",
     "output_type": "stream",
     "text": [
      "No objects to concatenate\n",
      "Jimmy Eat World The Middle 8219984\n"
     ]
    },
    {
     "name": "stderr",
     "output_type": "stream",
     "text": [
      "\r",
      " 26%|███████████████████████████▊                                                                             | 264/997 [50:37<1:36:18,  7.88s/it]"
     ]
    },
    {
     "name": "stdout",
     "output_type": "stream",
     "text": [
      "No objects to concatenate\n",
      "Martin Garrix In the Name of Love 7477984\n"
     ]
    },
    {
     "name": "stderr",
     "output_type": "stream",
     "text": [
      "\r",
      " 27%|███████████████████████████▉                                                                             | 265/997 [50:47<1:43:21,  8.47s/it]"
     ]
    },
    {
     "name": "stdout",
     "output_type": "stream",
     "text": [
      "No objects to concatenate\n",
      "Sublime Santeria 8533984\n"
     ]
    },
    {
     "name": "stderr",
     "output_type": "stream",
     "text": [
      "\r",
      " 27%|████████████████████████████                                                                             | 266/997 [50:49<1:18:32,  6.45s/it]"
     ]
    },
    {
     "name": "stdout",
     "output_type": "stream",
     "text": [
      "No objects to concatenate\n",
      "John Mellencamp Jack & Diane 6816984\n"
     ]
    },
    {
     "name": "stderr",
     "output_type": "stream",
     "text": [
      "\r",
      " 27%|████████████████████████████                                                                             | 267/997 [50:51<1:03:45,  5.24s/it]"
     ]
    },
    {
     "name": "stdout",
     "output_type": "stream",
     "text": [
      "No objects to concatenate\n",
      "J. Cole G.O.M.D. 7680984\n"
     ]
    },
    {
     "name": "stderr",
     "output_type": "stream",
     "text": [
      "\r",
      " 27%|████████████████████████████▏                                                                            | 268/997 [51:02<1:22:15,  6.77s/it]"
     ]
    },
    {
     "name": "stdout",
     "output_type": "stream",
     "text": [
      "No objects to concatenate\n",
      "Fetty Wap Again 8657984\n"
     ]
    },
    {
     "name": "stderr",
     "output_type": "stream",
     "text": [
      "\r",
      " 27%|████████████████████████████▎                                                                            | 269/997 [51:18<1:56:31,  9.60s/it]"
     ]
    },
    {
     "name": "stdout",
     "output_type": "stream",
     "text": [
      "No objects to concatenate\n",
      "Galantis Runaway (U & I) 8039984\n"
     ]
    },
    {
     "name": "stderr",
     "output_type": "stream",
     "text": [
      "\r",
      " 27%|████████████████████████████▍                                                                            | 270/997 [51:39<2:37:26, 12.99s/it]"
     ]
    },
    {
     "name": "stdout",
     "output_type": "stream",
     "text": [
      "Rihanna We Found Love 8725984\n",
      "No objects to concatenate\n"
     ]
    },
    {
     "name": "stderr",
     "output_type": "stream",
     "text": [
      "\r",
      " 27%|████████████████████████████▌                                                                            | 271/997 [51:39<1:50:47,  9.16s/it]"
     ]
    },
    {
     "name": "stdout",
     "output_type": "stream",
     "text": [
      "Chance The Rapper All Night (feat. Knox Fortune) 9483984\n"
     ]
    },
    {
     "name": "stderr",
     "output_type": "stream",
     "text": [
      "\r",
      " 27%|████████████████████████████▋                                                                            | 272/997 [51:56<2:18:01, 11.42s/it]"
     ]
    },
    {
     "name": "stdout",
     "output_type": "stream",
     "text": [
      "No objects to concatenate\n",
      "Big Sean Blessings 10272984\n"
     ]
    },
    {
     "name": "stderr",
     "output_type": "stream",
     "text": [
      "\r",
      " 27%|████████████████████████████▊                                                                            | 273/997 [52:11<2:31:47, 12.58s/it]"
     ]
    },
    {
     "name": "stdout",
     "output_type": "stream",
     "text": [
      "No objects to concatenate\n",
      "Grouplove Tongue Tied 6204985\n"
     ]
    },
    {
     "name": "stderr",
     "output_type": "stream",
     "text": [
      "\r",
      " 27%|████████████████████████████▊                                                                            | 274/997 [52:21<2:23:11, 11.88s/it]"
     ]
    },
    {
     "name": "stdout",
     "output_type": "stream",
     "text": [
      "No objects to concatenate\n",
      "Bryson Tiller Sorry Not Sorry 6611985\n",
      "No objects to concatenate\n",
      "Beyoncé Halo 8580985\n"
     ]
    },
    {
     "name": "stderr",
     "output_type": "stream",
     "text": [
      "\r",
      " 28%|█████████████████████████████                                                                            | 276/997 [52:31<1:57:22,  9.77s/it]"
     ]
    },
    {
     "name": "stdout",
     "output_type": "stream",
     "text": [
      "No objects to concatenate\n",
      "alt-J Breezeblocks 8972985\n"
     ]
    },
    {
     "name": "stderr",
     "output_type": "stream",
     "text": [
      "\r",
      " 28%|█████████████████████████████▏                                                                           | 277/997 [52:32<1:26:47,  7.23s/it]"
     ]
    },
    {
     "name": "stdout",
     "output_type": "stream",
     "text": [
      "No objects to concatenate\n",
      "Jason Derulo Trumpets 7274985\n"
     ]
    },
    {
     "name": "stderr",
     "output_type": "stream",
     "text": [
      "\r",
      " 28%|█████████████████████████████▎                                                                           | 278/997 [52:33<1:01:34,  5.14s/it]"
     ]
    },
    {
     "name": "stdout",
     "output_type": "stream",
     "text": [
      "No objects to concatenate\n",
      "Imagine Dragons Believer 6680985\n"
     ]
    },
    {
     "name": "stderr",
     "output_type": "stream",
     "text": [
      "\r",
      " 28%|█████████████████████████████▍                                                                           | 279/997 [52:45<1:28:45,  7.42s/it]"
     ]
    },
    {
     "name": "stdout",
     "output_type": "stream",
     "text": [
      "No objects to concatenate\n",
      "The Fray How to Save a Life 7049985\n"
     ]
    },
    {
     "name": "stderr",
     "output_type": "stream",
     "text": [
      "\r",
      " 28%|█████████████████████████████▍                                                                           | 280/997 [52:47<1:08:16,  5.71s/it]"
     ]
    },
    {
     "name": "stdout",
     "output_type": "stream",
     "text": [
      "No objects to concatenate\n",
      "The Beatles Here Comes The Sun - Remastered 6737985\n"
     ]
    },
    {
     "name": "stderr",
     "output_type": "stream",
     "text": [
      "\r",
      " 28%|██████████████████████████████▏                                                                            | 281/997 [52:50<56:50,  4.76s/it]"
     ]
    },
    {
     "name": "stdout",
     "output_type": "stream",
     "text": [
      "No objects to concatenate\n",
      "Michael Jackson P.Y.T. (Pretty Young Thing) 6654985\n"
     ]
    },
    {
     "name": "stderr",
     "output_type": "stream",
     "text": [
      "\r",
      " 28%|█████████████████████████████▋                                                                           | 282/997 [53:05<1:33:33,  7.85s/it]"
     ]
    },
    {
     "name": "stdout",
     "output_type": "stream",
     "text": [
      "No objects to concatenate\n",
      "PARTYNEXTDOOR Come and See Me (feat. Drake) 6064985\n"
     ]
    },
    {
     "name": "stderr",
     "output_type": "stream",
     "text": [
      "\r",
      " 28%|█████████████████████████████▊                                                                           | 283/997 [53:13<1:36:43,  8.13s/it]"
     ]
    },
    {
     "name": "stdout",
     "output_type": "stream",
     "text": [
      "No objects to concatenate\n",
      "Tears For Fears Everybody Wants To Rule The World 5637985\n"
     ]
    },
    {
     "name": "stderr",
     "output_type": "stream",
     "text": [
      "\r",
      " 28%|█████████████████████████████▉                                                                           | 284/997 [53:16<1:16:09,  6.41s/it]"
     ]
    },
    {
     "name": "stdout",
     "output_type": "stream",
     "text": [
      "No objects to concatenate\n",
      "Post Malone Deja Vu 7395985\n"
     ]
    },
    {
     "name": "stderr",
     "output_type": "stream",
     "text": [
      "\r",
      " 29%|██████████████████████████████                                                                           | 285/997 [53:36<2:05:53, 10.61s/it]"
     ]
    },
    {
     "name": "stdout",
     "output_type": "stream",
     "text": [
      "Big Sean I Know 6275985\n"
     ]
    },
    {
     "name": "stderr",
     "output_type": "stream",
     "text": [
      "\r",
      " 29%|██████████████████████████████                                                                           | 286/997 [53:57<2:41:27, 13.62s/it]"
     ]
    },
    {
     "name": "stdout",
     "output_type": "stream",
     "text": [
      "Red Hot Chili Peppers Under The Bridge 7080985\n"
     ]
    },
    {
     "name": "stderr",
     "output_type": "stream",
     "text": [
      "\r",
      " 29%|██████████████████████████████▏                                                                          | 287/997 [53:57<1:54:05,  9.64s/it]"
     ]
    },
    {
     "name": "stdout",
     "output_type": "stream",
     "text": [
      "No objects to concatenate\n",
      "Drake Hold On, We're Going Home 7818985\n"
     ]
    },
    {
     "name": "stderr",
     "output_type": "stream",
     "text": [
      "\r",
      " 29%|██████████████████████████████▎                                                                          | 288/997 [54:07<1:52:57,  9.56s/it]"
     ]
    },
    {
     "name": "stdout",
     "output_type": "stream",
     "text": [
      "No objects to concatenate\n",
      "Cherub Doses & Mimosas 9570985\n"
     ]
    },
    {
     "name": "stderr",
     "output_type": "stream",
     "text": [
      "\r",
      " 29%|██████████████████████████████▍                                                                          | 289/997 [54:08<1:23:32,  7.08s/it]"
     ]
    },
    {
     "name": "stdout",
     "output_type": "stream",
     "text": [
      "No objects to concatenate\n",
      "AC/DC Back In Black 6735985\n"
     ]
    },
    {
     "name": "stderr",
     "output_type": "stream",
     "text": [
      "\r",
      " 29%|██████████████████████████████▌                                                                          | 290/997 [54:10<1:06:05,  5.61s/it]"
     ]
    },
    {
     "name": "stdout",
     "output_type": "stream",
     "text": [
      "No objects to concatenate\n",
      "Donnie Trumpet & The Social Experiment Sunday Candy 9237985\n"
     ]
    },
    {
     "name": "stderr",
     "output_type": "stream",
     "text": [
      "\r",
      " 29%|██████████████████████████████▋                                                                          | 291/997 [54:31<1:58:38, 10.08s/it]"
     ]
    },
    {
     "name": "stdout",
     "output_type": "stream",
     "text": [
      "Future Selfish 7952985\n"
     ]
    },
    {
     "name": "stderr",
     "output_type": "stream",
     "text": [
      "\r",
      " 29%|██████████████████████████████▊                                                                          | 292/997 [54:51<2:35:33, 13.24s/it]"
     ]
    },
    {
     "name": "stdout",
     "output_type": "stream",
     "text": [
      "Savage Garden Crash and Burn 869985\n",
      "No objects to concatenate\n",
      "Metallica Enter Sandman 9021985\n"
     ]
    },
    {
     "name": "stderr",
     "output_type": "stream",
     "text": [
      "\r",
      " 29%|██████████████████████████████▉                                                                          | 294/997 [54:54<1:52:37,  9.61s/it]"
     ]
    },
    {
     "name": "stdout",
     "output_type": "stream",
     "text": [
      "No objects to concatenate\n",
      "Lynyrd Skynyrd Free Bird 7300985\n"
     ]
    },
    {
     "name": "stderr",
     "output_type": "stream",
     "text": [
      "\r",
      " 30%|███████████████████████████████                                                                          | 295/997 [54:56<1:26:37,  7.40s/it]"
     ]
    },
    {
     "name": "stdout",
     "output_type": "stream",
     "text": [
      "No objects to concatenate\n",
      "Bobby Shmurda Hot N*gga 8461985\n"
     ]
    },
    {
     "name": "stderr",
     "output_type": "stream",
     "text": [
      "\r",
      " 30%|███████████████████████████████▏                                                                         | 296/997 [55:11<1:52:53,  9.66s/it]"
     ]
    },
    {
     "name": "stdout",
     "output_type": "stream",
     "text": [
      "No objects to concatenate\n",
      "Charlie Puth Attention 7162985\n"
     ]
    },
    {
     "name": "stderr",
     "output_type": "stream",
     "text": [
      "\r",
      " 30%|███████████████████████████████▎                                                                         | 297/997 [55:23<2:03:05, 10.55s/it]"
     ]
    },
    {
     "name": "stdout",
     "output_type": "stream",
     "text": [
      "No objects to concatenate\n",
      "Gwen Stefani The Sweet Escape 9226985\n"
     ]
    },
    {
     "name": "stderr",
     "output_type": "stream",
     "text": [
      "\r",
      " 30%|███████████████████████████████▍                                                                         | 298/997 [55:34<2:02:30, 10.52s/it]"
     ]
    },
    {
     "name": "stdout",
     "output_type": "stream",
     "text": [
      "No objects to concatenate\n",
      "Rihanna FourFiveSeconds 9008985\n"
     ]
    },
    {
     "name": "stderr",
     "output_type": "stream",
     "text": [
      "\r",
      " 30%|███████████████████████████████▍                                                                         | 299/997 [55:35<1:28:21,  7.60s/it]"
     ]
    },
    {
     "name": "stdout",
     "output_type": "stream",
     "text": [
      "No objects to concatenate\n",
      "Julia Michaels Issues 7348985\n"
     ]
    },
    {
     "name": "stderr",
     "output_type": "stream",
     "text": [
      "\r",
      " 30%|███████████████████████████████▌                                                                         | 300/997 [55:50<1:55:12,  9.92s/it]"
     ]
    },
    {
     "name": "stdout",
     "output_type": "stream",
     "text": [
      "No objects to concatenate\n",
      "Ty Dolla $ign Blasé (feat. Future & Rae Sremmurd) 8270985\n"
     ]
    },
    {
     "name": "stderr",
     "output_type": "stream",
     "text": [
      "\r",
      " 30%|███████████████████████████████▋                                                                         | 301/997 [56:09<2:28:49, 12.83s/it]"
     ]
    },
    {
     "name": "stdout",
     "output_type": "stream",
     "text": [
      "Don McLean American Pie 7263985\n"
     ]
    },
    {
     "name": "stderr",
     "output_type": "stream",
     "text": [
      "\r",
      " 30%|███████████████████████████████▊                                                                         | 302/997 [56:14<1:58:37, 10.24s/it]"
     ]
    },
    {
     "name": "stdout",
     "output_type": "stream",
     "text": [
      "No objects to concatenate\n",
      "Chance The Rapper All We Got (feat. Kanye West & Chicago Children's Choir) 9404985\n"
     ]
    },
    {
     "name": "stderr",
     "output_type": "stream",
     "text": [
      "\r",
      " 30%|███████████████████████████████▉                                                                         | 303/997 [56:34<2:33:49, 13.30s/it]"
     ]
    },
    {
     "name": "stdout",
     "output_type": "stream",
     "text": [
      "Selena Gomez Hands To Myself 8415985\n"
     ]
    },
    {
     "name": "stderr",
     "output_type": "stream",
     "text": [
      "\r",
      " 30%|████████████████████████████████                                                                         | 304/997 [56:48<2:36:11, 13.52s/it]"
     ]
    },
    {
     "name": "stdout",
     "output_type": "stream",
     "text": [
      "No objects to concatenate\n",
      "DNCE Cake By The Ocean 7571985\n"
     ]
    },
    {
     "name": "stderr",
     "output_type": "stream",
     "text": [
      "\r",
      " 31%|████████████████████████████████                                                                         | 305/997 [56:49<1:53:36,  9.85s/it]"
     ]
    },
    {
     "name": "stdout",
     "output_type": "stream",
     "text": [
      "No objects to concatenate\n",
      "Chris Brown Look At Me Now 8448985\n"
     ]
    },
    {
     "name": "stderr",
     "output_type": "stream",
     "text": [
      "\r",
      " 31%|████████████████████████████████▏                                                                        | 306/997 [57:04<2:08:03, 11.12s/it]"
     ]
    },
    {
     "name": "stdout",
     "output_type": "stream",
     "text": [
      "No objects to concatenate\n",
      "Nirvana Smells Like Teen Spirit 5243985\n"
     ]
    },
    {
     "name": "stderr",
     "output_type": "stream",
     "text": [
      "\r",
      " 31%|████████████████████████████████▎                                                                        | 307/997 [57:04<1:31:25,  7.95s/it]"
     ]
    },
    {
     "name": "stdout",
     "output_type": "stream",
     "text": [
      "No objects to concatenate\n",
      "Florence + The Machine Dog Days Are Over 8502985\n"
     ]
    },
    {
     "name": "stderr",
     "output_type": "stream",
     "text": [
      "\r",
      " 31%|████████████████████████████████▍                                                                        | 308/997 [57:05<1:08:23,  5.96s/it]"
     ]
    },
    {
     "name": "stdout",
     "output_type": "stream",
     "text": [
      "No objects to concatenate\n",
      "6LACK PRBLMS 6703985\n"
     ]
    },
    {
     "name": "stderr",
     "output_type": "stream",
     "text": [
      "\r",
      " 31%|████████████████████████████████▌                                                                        | 309/997 [57:26<1:57:28, 10.24s/it]"
     ]
    },
    {
     "name": "stdout",
     "output_type": "stream",
     "text": [
      "Kendrick Lamar ELEMENT. 6607985\n"
     ]
    },
    {
     "name": "stderr",
     "output_type": "stream",
     "text": [
      "\r",
      " 31%|████████████████████████████████▋                                                                        | 310/997 [57:41<2:14:31, 11.75s/it]"
     ]
    },
    {
     "name": "stdout",
     "output_type": "stream",
     "text": [
      "No objects to concatenate\n",
      "Fat Joe All The Way Up 7352985\n"
     ]
    },
    {
     "name": "stderr",
     "output_type": "stream",
     "text": [
      "\r",
      " 31%|████████████████████████████████▊                                                                        | 311/997 [57:51<2:06:56, 11.10s/it]"
     ]
    },
    {
     "name": "stdout",
     "output_type": "stream",
     "text": [
      "No objects to concatenate\n",
      "Marian Hill Down 7031985\n"
     ]
    },
    {
     "name": "stderr",
     "output_type": "stream",
     "text": [
      "\r",
      " 31%|████████████████████████████████▊                                                                        | 312/997 [58:11<2:39:03, 13.93s/it]"
     ]
    },
    {
     "name": "stdout",
     "output_type": "stream",
     "text": [
      "Fall Out Boy Sugar, We're Goin Down 6630985\n"
     ]
    },
    {
     "name": "stderr",
     "output_type": "stream",
     "text": [
      "\r",
      " 31%|████████████████████████████████▉                                                                        | 313/997 [58:12<1:55:36, 10.14s/it]"
     ]
    },
    {
     "name": "stdout",
     "output_type": "stream",
     "text": [
      "No objects to concatenate\n",
      "50 Cent Candy Shop 9599985\n"
     ]
    },
    {
     "name": "stderr",
     "output_type": "stream",
     "text": [
      "\r",
      " 31%|█████████████████████████████████                                                                        | 314/997 [58:32<2:29:40, 13.15s/it]"
     ]
    },
    {
     "name": "stdout",
     "output_type": "stream",
     "text": [
      "The Chainsmokers Something Just Like This 7618985\n"
     ]
    },
    {
     "name": "stderr",
     "output_type": "stream",
     "text": [
      "\r",
      " 32%|█████████████████████████████████▏                                                                       | 315/997 [58:42<2:18:32, 12.19s/it]"
     ]
    },
    {
     "name": "stdout",
     "output_type": "stream",
     "text": [
      "No objects to concatenate\n",
      "The Notorious B.I.G. Big Poppa 6919985\n"
     ]
    },
    {
     "name": "stderr",
     "output_type": "stream",
     "text": [
      "\r",
      " 32%|█████████████████████████████████▎                                                                       | 316/997 [58:51<2:07:15, 11.21s/it]"
     ]
    },
    {
     "name": "stdout",
     "output_type": "stream",
     "text": [
      "No objects to concatenate\n",
      "Steve Miller Band The Joker 8387985\n"
     ]
    },
    {
     "name": "stderr",
     "output_type": "stream",
     "text": [
      "\r",
      " 32%|█████████████████████████████████▍                                                                       | 317/997 [58:54<1:36:54,  8.55s/it]"
     ]
    },
    {
     "name": "stdout",
     "output_type": "stream",
     "text": [
      "No objects to concatenate\n",
      "Kanye West Mercy 5825985\n"
     ]
    },
    {
     "name": "stderr",
     "output_type": "stream",
     "text": [
      "\r",
      " 32%|█████████████████████████████████▍                                                                       | 318/997 [59:09<1:58:13, 10.45s/it]"
     ]
    },
    {
     "name": "stdout",
     "output_type": "stream",
     "text": [
      "No objects to concatenate\n",
      "Nicki Minaj Super Bass 8919985\n"
     ]
    },
    {
     "name": "stderr",
     "output_type": "stream",
     "text": [
      "\r",
      " 32%|█████████████████████████████████▌                                                                       | 319/997 [59:29<2:30:11, 13.29s/it]"
     ]
    },
    {
     "name": "stdout",
     "output_type": "stream",
     "text": [
      "No objects to concatenate\n",
      "Counting Crows Mr. Jones 6458985\n"
     ]
    },
    {
     "name": "stderr",
     "output_type": "stream",
     "text": [
      "\r",
      " 32%|█████████████████████████████████▋                                                                       | 320/997 [59:30<1:49:20,  9.69s/it]"
     ]
    },
    {
     "name": "stdout",
     "output_type": "stream",
     "text": [
      "No objects to concatenate\n",
      "Nicki Minaj Only 8054985\n"
     ]
    },
    {
     "name": "stderr",
     "output_type": "stream",
     "text": [
      "\r",
      " 32%|█████████████████████████████████▊                                                                       | 321/997 [59:50<2:25:42, 12.93s/it]"
     ]
    },
    {
     "name": "stdout",
     "output_type": "stream",
     "text": [
      "Nicki Minaj Feeling Myself 7977985\n"
     ]
    },
    {
     "name": "stderr",
     "output_type": "stream",
     "text": [
      "\r",
      " 32%|█████████████████████████████████▎                                                                     | 322/997 [1:00:00<2:15:28, 12.04s/it]"
     ]
    },
    {
     "name": "stdout",
     "output_type": "stream",
     "text": [
      "No objects to concatenate\n",
      "Nelly Furtado Promiscuous 9108985\n"
     ]
    },
    {
     "name": "stderr",
     "output_type": "stream",
     "text": [
      "\r",
      " 32%|█████████████████████████████████▎                                                                     | 323/997 [1:00:11<2:10:44, 11.64s/it]"
     ]
    },
    {
     "name": "stdout",
     "output_type": "stream",
     "text": [
      "No objects to concatenate\n",
      "Wiz Khalifa See You Again (feat. Charlie Puth) - From \"Furious 7\" 7982985\n"
     ]
    },
    {
     "name": "stderr",
     "output_type": "stream",
     "text": [
      "\r",
      " 32%|█████████████████████████████████▍                                                                     | 324/997 [1:00:26<2:22:35, 12.71s/it]"
     ]
    },
    {
     "name": "stdout",
     "output_type": "stream",
     "text": [
      "No objects to concatenate\n",
      "Nelly Ride Wit Me 8314985\n"
     ]
    },
    {
     "name": "stderr",
     "output_type": "stream",
     "text": [
      "\r",
      " 33%|█████████████████████████████████▌                                                                     | 325/997 [1:00:37<2:15:28, 12.10s/it]"
     ]
    },
    {
     "name": "stdout",
     "output_type": "stream",
     "text": [
      "No objects to concatenate\n",
      "21 Savage X (feat. Future) 6688985\n"
     ]
    },
    {
     "name": "stderr",
     "output_type": "stream",
     "text": [
      "\r",
      " 33%|█████████████████████████████████▋                                                                     | 326/997 [1:00:52<2:24:42, 12.94s/it]"
     ]
    },
    {
     "name": "stdout",
     "output_type": "stream",
     "text": [
      "No objects to concatenate\n",
      "Drake Know Yourself 7709985\n"
     ]
    },
    {
     "name": "stderr",
     "output_type": "stream",
     "text": [
      "\r",
      " 33%|█████████████████████████████████▊                                                                     | 327/997 [1:01:12<2:49:39, 15.19s/it]"
     ]
    },
    {
     "name": "stdout",
     "output_type": "stream",
     "text": [
      "Baby Bash Suga Suga 7452985\n"
     ]
    },
    {
     "name": "stderr",
     "output_type": "stream",
     "text": [
      "\r",
      " 33%|█████████████████████████████████▉                                                                     | 328/997 [1:01:33<3:07:31, 16.82s/it]"
     ]
    },
    {
     "name": "stdout",
     "output_type": "stream",
     "text": [
      "Khalid Saved 9420985\n"
     ]
    },
    {
     "name": "stderr",
     "output_type": "stream",
     "text": [
      "\r",
      " 33%|█████████████████████████████████▉                                                                     | 329/997 [1:01:50<3:09:23, 17.01s/it]"
     ]
    },
    {
     "name": "stdout",
     "output_type": "stream",
     "text": [
      "No objects to concatenate\n",
      "Marc E. Bassy You & Me 7689985\n"
     ]
    },
    {
     "name": "stderr",
     "output_type": "stream",
     "text": [
      "\r",
      " 33%|██████████████████████████████████                                                                     | 330/997 [1:01:58<2:39:40, 14.36s/it]"
     ]
    },
    {
     "name": "stdout",
     "output_type": "stream",
     "text": [
      "No objects to concatenate\n",
      "OutKast Ms. Jackson 7627985\n"
     ]
    },
    {
     "name": "stderr",
     "output_type": "stream",
     "text": [
      "\r",
      " 33%|██████████████████████████████████▏                                                                    | 331/997 [1:02:08<2:23:46, 12.95s/it]"
     ]
    },
    {
     "name": "stdout",
     "output_type": "stream",
     "text": [
      "No objects to concatenate\n",
      "Florida Georgia Line This Is How We Roll 6103985\n"
     ]
    },
    {
     "name": "stderr",
     "output_type": "stream",
     "text": [
      "\r",
      " 33%|██████████████████████████████████▎                                                                    | 332/997 [1:02:11<1:48:28,  9.79s/it]"
     ]
    },
    {
     "name": "stdout",
     "output_type": "stream",
     "text": [
      "No objects to concatenate\n",
      "Kanye West Famous 8107985\n"
     ]
    },
    {
     "name": "stderr",
     "output_type": "stream",
     "text": [
      "\r",
      " 33%|██████████████████████████████████▍                                                                    | 333/997 [1:02:20<1:47:04,  9.68s/it]"
     ]
    },
    {
     "name": "stdout",
     "output_type": "stream",
     "text": [
      "No objects to concatenate\n",
      "Chris Brown Loyal 6893986\n"
     ]
    },
    {
     "name": "stderr",
     "output_type": "stream",
     "text": [
      "\r",
      " 34%|██████████████████████████████████▌                                                                    | 334/997 [1:02:34<2:02:04, 11.05s/it]"
     ]
    },
    {
     "name": "stdout",
     "output_type": "stream",
     "text": [
      "No objects to concatenate\n",
      "Fall Out Boy My Songs Know What You Did In The Dark (Light Em Up) 6436986\n"
     ]
    },
    {
     "name": "stderr",
     "output_type": "stream",
     "text": [
      "\r",
      " 34%|██████████████████████████████████▌                                                                    | 335/997 [1:02:34<1:26:12,  7.81s/it]"
     ]
    },
    {
     "name": "stdout",
     "output_type": "stream",
     "text": [
      "No objects to concatenate\n",
      "Destiny's Child Say My Name 8110986\n"
     ]
    },
    {
     "name": "stderr",
     "output_type": "stream",
     "text": [
      "\r",
      " 34%|██████████████████████████████████▋                                                                    | 336/997 [1:02:44<1:30:24,  8.21s/it]"
     ]
    },
    {
     "name": "stdout",
     "output_type": "stream",
     "text": [
      "No objects to concatenate\n",
      "Nick Jonas Close 6203986\n"
     ]
    },
    {
     "name": "stderr",
     "output_type": "stream",
     "text": [
      "\r",
      " 34%|██████████████████████████████████▊                                                                    | 337/997 [1:02:45<1:08:56,  6.27s/it]"
     ]
    },
    {
     "name": "stdout",
     "output_type": "stream",
     "text": [
      "No objects to concatenate\n",
      "Kanye West All Of The Lights 6423986\n"
     ]
    },
    {
     "name": "stderr",
     "output_type": "stream",
     "text": [
      "\r",
      " 34%|██████████████████████████████████▉                                                                    | 338/997 [1:03:05<1:52:03, 10.20s/it]"
     ]
    },
    {
     "name": "stdout",
     "output_type": "stream",
     "text": [
      "No objects to concatenate\n",
      "Sublime What I Got 5743986\n"
     ]
    },
    {
     "name": "stderr",
     "output_type": "stream",
     "text": [
      "\r",
      " 34%|███████████████████████████████████                                                                    | 339/997 [1:03:06<1:23:36,  7.62s/it]"
     ]
    },
    {
     "name": "stdout",
     "output_type": "stream",
     "text": [
      "No objects to concatenate\n",
      "Carnage I Like Tuh 6105986\n"
     ]
    },
    {
     "name": "stderr",
     "output_type": "stream",
     "text": [
      " 34%|███████████████████████████████████▏                                                                   | 341/997 [1:03:16<1:03:45,  5.83s/it]"
     ]
    },
    {
     "name": "stdout",
     "output_type": "stream",
     "text": [
      "No objects to concatenate\n",
      "Jessie J Bang Bang 7255986\n",
      "No objects to concatenate\n",
      "Coldplay A Sky Full of Stars 4444986\n"
     ]
    },
    {
     "name": "stderr",
     "output_type": "stream",
     "text": [
      "\r",
      " 34%|████████████████████████████████████                                                                     | 342/997 [1:03:18<51:19,  4.70s/it]"
     ]
    },
    {
     "name": "stdout",
     "output_type": "stream",
     "text": [
      "No objects to concatenate\n",
      "A$AP Ferg Work REMIX 6732986\n"
     ]
    },
    {
     "name": "stderr",
     "output_type": "stream",
     "text": [
      "\r",
      " 34%|███████████████████████████████████▍                                                                   | 343/997 [1:03:39<1:42:24,  9.39s/it]"
     ]
    },
    {
     "name": "stdout",
     "output_type": "stream",
     "text": [
      "PnB Rock Selfish 7328986\n"
     ]
    },
    {
     "name": "stderr",
     "output_type": "stream",
     "text": [
      "\r",
      " 35%|███████████████████████████████████▌                                                                   | 344/997 [1:03:54<2:02:30, 11.26s/it]"
     ]
    },
    {
     "name": "stdout",
     "output_type": "stream",
     "text": [
      "No objects to concatenate\n",
      "Vanilla Ice Ice Ice Baby 6355986\n"
     ]
    },
    {
     "name": "stderr",
     "output_type": "stream",
     "text": [
      "\r",
      " 35%|███████████████████████████████████▋                                                                   | 345/997 [1:04:04<1:56:06, 10.68s/it]"
     ]
    },
    {
     "name": "stdout",
     "output_type": "stream",
     "text": [
      "No objects to concatenate\n",
      "Rihanna Bitch Better Have My Money 6053986\n"
     ]
    },
    {
     "name": "stderr",
     "output_type": "stream",
     "text": [
      "\r",
      " 35%|███████████████████████████████████▋                                                                   | 346/997 [1:04:18<2:07:32, 11.76s/it]"
     ]
    },
    {
     "name": "stdout",
     "output_type": "stream",
     "text": [
      "No objects to concatenate\n",
      "Snoop Dogg Drop It Like It's Hot 8740986\n"
     ]
    },
    {
     "name": "stderr",
     "output_type": "stream",
     "text": [
      "\r",
      " 35%|███████████████████████████████████▊                                                                   | 347/997 [1:04:38<2:33:21, 14.16s/it]"
     ]
    },
    {
     "name": "stdout",
     "output_type": "stream",
     "text": [
      "No objects to concatenate\n",
      "Sam Smith Lay Me Down 7215986\n"
     ]
    },
    {
     "name": "stderr",
     "output_type": "stream",
     "text": [
      "\r",
      " 35%|███████████████████████████████████▉                                                                   | 348/997 [1:04:39<1:50:06, 10.18s/it]"
     ]
    },
    {
     "name": "stdout",
     "output_type": "stream",
     "text": [
      "No objects to concatenate\n",
      "Pitbull Time of Our Lives 7132986\n"
     ]
    },
    {
     "name": "stderr",
     "output_type": "stream",
     "text": [
      "\r",
      " 35%|████████████████████████████████████                                                                   | 349/997 [1:04:39<1:17:54,  7.21s/it]"
     ]
    },
    {
     "name": "stdout",
     "output_type": "stream",
     "text": [
      "No objects to concatenate\n",
      "George Ezra Budapest 6014986\n"
     ]
    },
    {
     "name": "stderr",
     "output_type": "stream",
     "text": [
      "\r",
      " 35%|████████████████████████████████████▏                                                                  | 350/997 [1:04:50<1:29:26,  8.29s/it]"
     ]
    },
    {
     "name": "stdout",
     "output_type": "stream",
     "text": [
      "No objects to concatenate\n",
      "Future F*ck Up Some Commas 7571986\n"
     ]
    },
    {
     "name": "stderr",
     "output_type": "stream",
     "text": [
      "\r",
      " 35%|████████████████████████████████████▎                                                                  | 351/997 [1:05:06<1:54:24, 10.63s/it]"
     ]
    },
    {
     "name": "stdout",
     "output_type": "stream",
     "text": [
      "No objects to concatenate\n",
      "Zac Brown Band Knee Deep (feat. Jimmy Buffett) 5414986\n"
     ]
    },
    {
     "name": "stderr",
     "output_type": "stream",
     "text": [
      "\r",
      " 35%|████████████████████████████████████▎                                                                  | 352/997 [1:05:08<1:28:23,  8.22s/it]"
     ]
    },
    {
     "name": "stdout",
     "output_type": "stream",
     "text": [
      "No objects to concatenate\n",
      "FRENSHIP Capsize 8136986\n"
     ]
    },
    {
     "name": "stderr",
     "output_type": "stream",
     "text": [
      "\r",
      " 35%|████████████████████████████████████▍                                                                  | 353/997 [1:05:22<1:45:32,  9.83s/it]"
     ]
    },
    {
     "name": "stdout",
     "output_type": "stream",
     "text": [
      "No objects to concatenate\n",
      "Coldplay Paradise 4253986\n"
     ]
    },
    {
     "name": "stderr",
     "output_type": "stream",
     "text": [
      "\r",
      " 36%|████████████████████████████████████▌                                                                  | 354/997 [1:05:24<1:20:43,  7.53s/it]"
     ]
    },
    {
     "name": "stdout",
     "output_type": "stream",
     "text": [
      "No objects to concatenate\n",
      "Soulja Boy Crank That (Soulja Boy) 8589986\n"
     ]
    },
    {
     "name": "stderr",
     "output_type": "stream",
     "text": [
      "\r",
      " 36%|████████████████████████████████████▋                                                                  | 355/997 [1:05:45<2:03:42, 11.56s/it]"
     ]
    },
    {
     "name": "stdout",
     "output_type": "stream",
     "text": [
      "No objects to concatenate\n",
      "Fergie Fergalicious 7474986\n"
     ]
    },
    {
     "name": "stderr",
     "output_type": "stream",
     "text": [
      "\r",
      " 36%|████████████████████████████████████▊                                                                  | 356/997 [1:06:06<2:34:37, 14.47s/it]"
     ]
    },
    {
     "name": "stdout",
     "output_type": "stream",
     "text": [
      "No objects to concatenate\n",
      "Drake Big Rings 7875986\n"
     ]
    },
    {
     "name": "stderr",
     "output_type": "stream",
     "text": [
      "\r",
      " 36%|████████████████████████████████████▉                                                                  | 357/997 [1:06:28<2:56:31, 16.55s/it]"
     ]
    },
    {
     "name": "stdout",
     "output_type": "stream",
     "text": [
      "Queen Another One Bites The Dust - Remastered 2011 7298986\n"
     ]
    },
    {
     "name": "stderr",
     "output_type": "stream",
     "text": [
      "\r",
      " 36%|████████████████████████████████████▉                                                                  | 358/997 [1:06:30<2:12:00, 12.40s/it]"
     ]
    },
    {
     "name": "stdout",
     "output_type": "stream",
     "text": [
      "No objects to concatenate\n",
      "Elton John Rocket Man (I Think It's Going To Be A Long Long Time) 7120986\n"
     ]
    },
    {
     "name": "stderr",
     "output_type": "stream",
     "text": [
      "\r",
      " 36%|█████████████████████████████████████                                                                  | 359/997 [1:06:33<1:40:57,  9.49s/it]"
     ]
    },
    {
     "name": "stdout",
     "output_type": "stream",
     "text": [
      "No objects to concatenate\n",
      "Gucci Mane Both (feat. Drake) 4719986\n"
     ]
    },
    {
     "name": "stderr",
     "output_type": "stream",
     "text": [
      "\r",
      " 36%|█████████████████████████████████████▏                                                                 | 360/997 [1:06:54<2:18:20, 13.03s/it]"
     ]
    },
    {
     "name": "stdout",
     "output_type": "stream",
     "text": [
      "Kansas Carry on Wayward Son 7610986\n"
     ]
    },
    {
     "name": "stderr",
     "output_type": "stream",
     "text": [
      "\r",
      " 36%|█████████████████████████████████████▎                                                                 | 361/997 [1:06:58<1:48:10, 10.20s/it]"
     ]
    },
    {
     "name": "stdout",
     "output_type": "stream",
     "text": [
      "No objects to concatenate\n",
      "Childish Gambino Sober 7636986\n"
     ]
    },
    {
     "name": "stderr",
     "output_type": "stream",
     "text": [
      "\r",
      " 36%|█████████████████████████████████████▍                                                                 | 362/997 [1:07:08<1:48:51, 10.29s/it]"
     ]
    },
    {
     "name": "stdout",
     "output_type": "stream",
     "text": [
      "No objects to concatenate\n",
      "The Notorious B.I.G. Mo Money Mo Problems (feat. Mase & Puff Daddy) - 2014 Remastered Version 6253986\n"
     ]
    },
    {
     "name": "stderr",
     "output_type": "stream",
     "text": [
      "\r",
      " 36%|█████████████████████████████████████▌                                                                 | 363/997 [1:07:18<1:45:17,  9.96s/it]"
     ]
    },
    {
     "name": "stdout",
     "output_type": "stream",
     "text": [
      "No objects to concatenate\n",
      "Migos Fight Night 7103986\n"
     ]
    },
    {
     "name": "stderr",
     "output_type": "stream",
     "text": [
      "\r",
      " 37%|█████████████████████████████████████▌                                                                 | 364/997 [1:07:39<2:19:36, 13.23s/it]"
     ]
    },
    {
     "name": "stdout",
     "output_type": "stream",
     "text": [
      "Drake Back To Back 7557986\n"
     ]
    },
    {
     "name": "stderr",
     "output_type": "stream",
     "text": [
      "\r",
      " 37%|█████████████████████████████████████▋                                                                 | 365/997 [1:07:59<2:43:22, 15.51s/it]"
     ]
    },
    {
     "name": "stdout",
     "output_type": "stream",
     "text": [
      "James Bay Hold Back The River 9078986\n"
     ]
    },
    {
     "name": "stderr",
     "output_type": "stream",
     "text": [
      "\r",
      " 37%|█████████████████████████████████████▊                                                                 | 366/997 [1:08:15<2:42:09, 15.42s/it]"
     ]
    },
    {
     "name": "stdout",
     "output_type": "stream",
     "text": [
      "No objects to concatenate\n",
      "OneRepublic Counting Stars 5423986\n"
     ]
    },
    {
     "name": "stderr",
     "output_type": "stream",
     "text": [
      "\r",
      " 37%|█████████████████████████████████████▉                                                                 | 367/997 [1:08:25<2:26:16, 13.93s/it]"
     ]
    },
    {
     "name": "stdout",
     "output_type": "stream",
     "text": [
      "No objects to concatenate\n",
      "The All-American Rejects Dirty Little Secret 5142986\n",
      "No objects to concatenate\n",
      "Michael Jackson Beat It - Single Version 6775986\n"
     ]
    },
    {
     "name": "stderr",
     "output_type": "stream",
     "text": [
      "\r",
      " 37%|██████████████████████████████████████                                                                 | 369/997 [1:08:27<1:45:38, 10.09s/it]"
     ]
    },
    {
     "name": "stdout",
     "output_type": "stream",
     "text": [
      "No objects to concatenate\n",
      "Trey Songz Slow Motion 7109986\n"
     ]
    },
    {
     "name": "stderr",
     "output_type": "stream",
     "text": [
      "\r",
      " 37%|██████████████████████████████████████▏                                                                | 370/997 [1:08:37<1:43:53,  9.94s/it]"
     ]
    },
    {
     "name": "stdout",
     "output_type": "stream",
     "text": [
      "No objects to concatenate\n",
      "Post Malone I Fall Apart 5845986\n"
     ]
    },
    {
     "name": "stderr",
     "output_type": "stream",
     "text": [
      "\r",
      " 37%|██████████████████████████████████████▎                                                                | 371/997 [1:08:45<1:38:17,  9.42s/it]"
     ]
    },
    {
     "name": "stdout",
     "output_type": "stream",
     "text": [
      "No objects to concatenate\n",
      "Cage The Elephant Cigarette Daydreams 6574986\n"
     ]
    },
    {
     "name": "stderr",
     "output_type": "stream",
     "text": [
      "\r",
      " 37%|██████████████████████████████████████▍                                                                | 372/997 [1:08:48<1:16:28,  7.34s/it]"
     ]
    },
    {
     "name": "stdout",
     "output_type": "stream",
     "text": [
      "No objects to concatenate\n",
      "Coldplay The Scientist 8128986\n"
     ]
    },
    {
     "name": "stderr",
     "output_type": "stream",
     "text": [
      "\r",
      " 37%|██████████████████████████████████████▌                                                                | 373/997 [1:08:58<1:25:17,  8.20s/it]"
     ]
    },
    {
     "name": "stdout",
     "output_type": "stream",
     "text": [
      "No objects to concatenate\n",
      "Ariana Grande Side To Side 8058986\n"
     ]
    },
    {
     "name": "stderr",
     "output_type": "stream",
     "text": [
      "\r",
      " 38%|██████████████████████████████████████▋                                                                | 374/997 [1:09:07<1:29:08,  8.59s/it]"
     ]
    },
    {
     "name": "stdout",
     "output_type": "stream",
     "text": [
      "No objects to concatenate\n",
      "Halsey Now Or Never 7861986\n"
     ]
    },
    {
     "name": "stderr",
     "output_type": "stream",
     "text": [
      "\r",
      " 38%|██████████████████████████████████████▋                                                                | 375/997 [1:09:20<1:42:28,  9.88s/it]"
     ]
    },
    {
     "name": "stdout",
     "output_type": "stream",
     "text": [
      "No objects to concatenate\n",
      "ScHoolboy Q Studio 5179986\n"
     ]
    },
    {
     "name": "stderr",
     "output_type": "stream",
     "text": [
      "\r",
      " 38%|██████████████████████████████████████▊                                                                | 376/997 [1:09:35<1:58:34, 11.46s/it]"
     ]
    },
    {
     "name": "stdout",
     "output_type": "stream",
     "text": [
      "No objects to concatenate\n",
      "Nirvana Come As You Are 5319986\n"
     ]
    },
    {
     "name": "stderr",
     "output_type": "stream",
     "text": [
      "\r",
      " 38%|██████████████████████████████████████▉                                                                | 377/997 [1:09:38<1:31:16,  8.83s/it]"
     ]
    },
    {
     "name": "stdout",
     "output_type": "stream",
     "text": [
      "No objects to concatenate\n",
      "O.T. Genasis Cut It (feat. Young Dolph) 6953986\n"
     ]
    },
    {
     "name": "stderr",
     "output_type": "stream",
     "text": [
      "\r",
      " 38%|███████████████████████████████████████                                                                | 378/997 [1:09:59<2:07:27, 12.36s/it]"
     ]
    },
    {
     "name": "stdout",
     "output_type": "stream",
     "text": [
      "No objects to concatenate\n",
      "The Rolling Stones Paint It Black 6489986\n"
     ]
    },
    {
     "name": "stderr",
     "output_type": "stream",
     "text": [
      "\r",
      " 38%|███████████████████████████████████████▏                                                               | 379/997 [1:10:01<1:36:34,  9.38s/it]"
     ]
    },
    {
     "name": "stdout",
     "output_type": "stream",
     "text": [
      "No objects to concatenate\n",
      "Florida Georgia Line Get Your Shine On 6487986\n"
     ]
    },
    {
     "name": "stderr",
     "output_type": "stream",
     "text": [
      "\r",
      " 38%|███████████████████████████████████████▎                                                               | 380/997 [1:10:02<1:09:09,  6.72s/it]"
     ]
    },
    {
     "name": "stdout",
     "output_type": "stream",
     "text": [
      "No objects to concatenate\n",
      "Luke Bryan That's My Kind Of Night 3957986\n"
     ]
    },
    {
     "name": "stderr",
     "output_type": "stream",
     "text": [
      "\r",
      " 38%|████████████████████████████████████████▏                                                                | 381/997 [1:10:02<50:03,  4.88s/it]"
     ]
    },
    {
     "name": "stdout",
     "output_type": "stream",
     "text": [
      "No objects to concatenate\n",
      "Imagine Dragons Demons 6566986\n"
     ]
    },
    {
     "name": "stderr",
     "output_type": "stream",
     "text": [
      "\r",
      " 38%|███████████████████████████████████████▍                                                               | 382/997 [1:10:13<1:07:05,  6.54s/it]"
     ]
    },
    {
     "name": "stdout",
     "output_type": "stream",
     "text": [
      "No objects to concatenate\n",
      "Def Leppard Pour Some Sugar On Me (2012) 7420986\n"
     ]
    },
    {
     "name": "stderr",
     "output_type": "stream",
     "text": [
      "\r",
      " 38%|████████████████████████████████████████▎                                                                | 383/997 [1:10:15<55:00,  5.38s/it]"
     ]
    },
    {
     "name": "stdout",
     "output_type": "stream",
     "text": [
      "No objects to concatenate\n",
      "Lynyrd Skynyrd Simple Man 8457986\n"
     ]
    },
    {
     "name": "stderr",
     "output_type": "stream",
     "text": [
      "\r",
      " 39%|████████████████████████████████████████▍                                                                | 384/997 [1:10:18<45:43,  4.48s/it]"
     ]
    },
    {
     "name": "stdout",
     "output_type": "stream",
     "text": [
      "No objects to concatenate\n",
      "Flo Rida GDFR (feat. Sage The Gemini & Lookas) 6486986\n"
     ]
    },
    {
     "name": "stderr",
     "output_type": "stream",
     "text": [
      "\r",
      " 39%|███████████████████████████████████████▊                                                               | 385/997 [1:10:38<1:35:48,  9.39s/it]"
     ]
    },
    {
     "name": "stdout",
     "output_type": "stream",
     "text": [
      "The Weeknd I Feel It Coming 6189986\n"
     ]
    },
    {
     "name": "stderr",
     "output_type": "stream",
     "text": [
      "\r",
      " 39%|███████████████████████████████████████▉                                                               | 386/997 [1:10:59<2:10:44, 12.84s/it]"
     ]
    },
    {
     "name": "stdout",
     "output_type": "stream",
     "text": [
      "Drake Still Here 7386986\n"
     ]
    },
    {
     "name": "stderr",
     "output_type": "stream",
     "text": [
      "\r",
      " 39%|███████████████████████████████████████▉                                                               | 387/997 [1:11:20<2:33:35, 15.11s/it]"
     ]
    },
    {
     "name": "stdout",
     "output_type": "stream",
     "text": [
      "G-Eazy Let's Get Lost 6612986\n"
     ]
    },
    {
     "name": "stderr",
     "output_type": "stream",
     "text": [
      "\r",
      " 39%|████████████████████████████████████████                                                               | 388/997 [1:11:38<2:41:41, 15.93s/it]"
     ]
    },
    {
     "name": "stdout",
     "output_type": "stream",
     "text": [
      "No objects to concatenate\n",
      "M.I.A. Paper Planes 7986986\n"
     ]
    },
    {
     "name": "stderr",
     "output_type": "stream",
     "text": [
      "\r",
      " 39%|████████████████████████████████████████▏                                                              | 389/997 [1:11:58<2:56:11, 17.39s/it]"
     ]
    },
    {
     "name": "stdout",
     "output_type": "stream",
     "text": [
      "Lil Wayne Sucker For Pain (with Wiz Khalifa, Imagine Dragons, Logic & Ty Dolla $ign feat. X Ambassadors) 6388986\n"
     ]
    },
    {
     "name": "stderr",
     "output_type": "stream",
     "text": [
      "\r",
      " 39%|████████████████████████████████████████▎                                                              | 390/997 [1:12:08<2:33:04, 15.13s/it]"
     ]
    },
    {
     "name": "stdout",
     "output_type": "stream",
     "text": [
      "No objects to concatenate\n",
      "Drake 10 Bands 7468986\n"
     ]
    },
    {
     "name": "stderr",
     "output_type": "stream",
     "text": [
      "\r",
      " 39%|████████████████████████████████████████▍                                                              | 391/997 [1:12:29<2:48:45, 16.71s/it]"
     ]
    },
    {
     "name": "stdout",
     "output_type": "stream",
     "text": [
      "The Goo Goo Dolls Iris 6649986\n"
     ]
    },
    {
     "name": "stderr",
     "output_type": "stream",
     "text": [
      "\r",
      " 39%|████████████████████████████████████████▍                                                              | 392/997 [1:12:30<2:03:30, 12.25s/it]"
     ]
    },
    {
     "name": "stdout",
     "output_type": "stream",
     "text": [
      "No objects to concatenate\n",
      "Dr. Dre The Next Episode 7406986\n"
     ]
    },
    {
     "name": "stderr",
     "output_type": "stream",
     "text": [
      "\r",
      " 39%|████████████████████████████████████████▌                                                              | 393/997 [1:12:51<2:27:59, 14.70s/it]"
     ]
    },
    {
     "name": "stdout",
     "output_type": "stream",
     "text": [
      "G-Eazy Some Kind Of Drug 6355986\n"
     ]
    },
    {
     "name": "stderr",
     "output_type": "stream",
     "text": [
      "\r",
      " 40%|████████████████████████████████████████▋                                                              | 394/997 [1:13:06<2:28:58, 14.82s/it]"
     ]
    },
    {
     "name": "stdout",
     "output_type": "stream",
     "text": [
      "No objects to concatenate\n",
      "Chance The Rapper Blessings 6538986\n"
     ]
    },
    {
     "name": "stderr",
     "output_type": "stream",
     "text": [
      "\r",
      " 40%|████████████████████████████████████████▊                                                              | 395/997 [1:13:27<2:47:22, 16.68s/it]"
     ]
    },
    {
     "name": "stdout",
     "output_type": "stream",
     "text": [
      "Clean Bandit Rather Be (feat. Jess Glynne) 6619986\n"
     ]
    },
    {
     "name": "stderr",
     "output_type": "stream",
     "text": [
      "\r",
      " 40%|████████████████████████████████████████▉                                                              | 396/997 [1:13:42<2:42:47, 16.25s/it]"
     ]
    },
    {
     "name": "stdout",
     "output_type": "stream",
     "text": [
      "No objects to concatenate\n",
      "Dr. Dre Still D.R.E. 7142986\n"
     ]
    },
    {
     "name": "stderr",
     "output_type": "stream",
     "text": [
      "\r",
      " 40%|█████████████████████████████████████████                                                              | 397/997 [1:13:51<2:21:09, 14.12s/it]"
     ]
    },
    {
     "name": "stdout",
     "output_type": "stream",
     "text": [
      "No objects to concatenate\n",
      "Kendrick Lamar Swimming Pools (Drank) - Extended Version 7676986\n"
     ]
    },
    {
     "name": "stderr",
     "output_type": "stream",
     "text": [
      "\r",
      " 40%|█████████████████████████████████████████                                                              | 398/997 [1:14:07<2:24:30, 14.48s/it]"
     ]
    },
    {
     "name": "stdout",
     "output_type": "stream",
     "text": [
      "No objects to concatenate\n",
      "Led Zeppelin Stairway To Heaven 6336986\n"
     ]
    },
    {
     "name": "stderr",
     "output_type": "stream",
     "text": [
      "\r",
      " 40%|█████████████████████████████████████████▏                                                             | 399/997 [1:14:09<1:47:54, 10.83s/it]"
     ]
    },
    {
     "name": "stdout",
     "output_type": "stream",
     "text": [
      "No objects to concatenate\n",
      "Major Lazer Light It Up (feat. Nyla & Fuse ODG) - Remix 7269986\n"
     ]
    },
    {
     "name": "stderr",
     "output_type": "stream",
     "text": [
      "\r",
      " 40%|█████████████████████████████████████████▎                                                             | 400/997 [1:14:19<1:43:42, 10.42s/it]"
     ]
    },
    {
     "name": "stdout",
     "output_type": "stream",
     "text": [
      "No objects to concatenate\n",
      "Bruno Mars Just the Way You Are 6349986\n"
     ]
    },
    {
     "name": "stderr",
     "output_type": "stream",
     "text": [
      "\r",
      " 40%|█████████████████████████████████████████▍                                                             | 401/997 [1:14:39<2:12:20, 13.32s/it]"
     ]
    },
    {
     "name": "stdout",
     "output_type": "stream",
     "text": [
      "No objects to concatenate\n",
      "Jason Derulo Talk Dirty (feat. 2 Chainz) 6494987\n"
     ]
    },
    {
     "name": "stderr",
     "output_type": "stream",
     "text": [
      "\r",
      " 40%|█████████████████████████████████████████▌                                                             | 402/997 [1:14:39<1:33:14,  9.40s/it]"
     ]
    },
    {
     "name": "stdout",
     "output_type": "stream",
     "text": [
      "No objects to concatenate\n",
      "Drake Sneakin’ 5291987\n"
     ]
    },
    {
     "name": "stderr",
     "output_type": "stream",
     "text": [
      "\r",
      " 40%|█████████████████████████████████████████▋                                                             | 403/997 [1:15:00<2:06:48, 12.81s/it]"
     ]
    },
    {
     "name": "stdout",
     "output_type": "stream",
     "text": [
      "Linkin Park In The End 6442987\n"
     ]
    },
    {
     "name": "stderr",
     "output_type": "stream",
     "text": [
      "\r",
      " 41%|█████████████████████████████████████████▋                                                             | 404/997 [1:15:11<2:01:44, 12.32s/it]"
     ]
    },
    {
     "name": "stdout",
     "output_type": "stream",
     "text": [
      "No objects to concatenate\n",
      "James Arthur Say You Won't Let Go 6128987\n"
     ]
    },
    {
     "name": "stderr",
     "output_type": "stream",
     "text": [
      "\r",
      " 41%|█████████████████████████████████████████▊                                                             | 405/997 [1:15:21<1:54:42, 11.63s/it]"
     ]
    },
    {
     "name": "stdout",
     "output_type": "stream",
     "text": [
      "No objects to concatenate\n",
      "Men At Work Down Under 8535987\n"
     ]
    },
    {
     "name": "stderr",
     "output_type": "stream",
     "text": [
      "\r",
      " 41%|█████████████████████████████████████████▉                                                             | 406/997 [1:15:24<1:28:33,  8.99s/it]"
     ]
    },
    {
     "name": "stdout",
     "output_type": "stream",
     "text": [
      "No objects to concatenate\n",
      "Nicki Minaj Starships 6555987\n"
     ]
    },
    {
     "name": "stderr",
     "output_type": "stream",
     "text": [
      "\r",
      " 41%|██████████████████████████████████████████                                                             | 407/997 [1:15:44<2:00:54, 12.30s/it]"
     ]
    },
    {
     "name": "stdout",
     "output_type": "stream",
     "text": [
      "No objects to concatenate\n",
      "Yo Gotti Rake It Up 6408987\n"
     ]
    },
    {
     "name": "stderr",
     "output_type": "stream",
     "text": [
      "\r",
      " 41%|██████████████████████████████████████████▏                                                            | 408/997 [1:16:01<2:14:22, 13.69s/it]"
     ]
    },
    {
     "name": "stdout",
     "output_type": "stream",
     "text": [
      "No objects to concatenate\n",
      "Young M.A OOOUUU 8469987\n"
     ]
    },
    {
     "name": "stderr",
     "output_type": "stream",
     "text": [
      "\r",
      " 41%|██████████████████████████████████████████▎                                                            | 409/997 [1:16:17<2:23:14, 14.62s/it]"
     ]
    },
    {
     "name": "stdout",
     "output_type": "stream",
     "text": [
      "No objects to concatenate\n",
      "Tove Lo Habits (Stay High) - Hippie Sabotage Remix 6775987\n"
     ]
    },
    {
     "name": "stderr",
     "output_type": "stream",
     "text": [
      "\r",
      " 41%|██████████████████████████████████████████▎                                                            | 410/997 [1:16:19<1:45:09, 10.75s/it]"
     ]
    },
    {
     "name": "stdout",
     "output_type": "stream",
     "text": [
      "No objects to concatenate\n",
      "Logic Flexicution 6434987\n"
     ]
    },
    {
     "name": "stderr",
     "output_type": "stream",
     "text": [
      "\r",
      " 41%|██████████████████████████████████████████▍                                                            | 411/997 [1:16:27<1:37:22,  9.97s/it]"
     ]
    },
    {
     "name": "stdout",
     "output_type": "stream",
     "text": [
      "No objects to concatenate\n",
      "XXXTENTACION Look At Me! 6289987\n"
     ]
    },
    {
     "name": "stderr",
     "output_type": "stream",
     "text": [
      " 41%|██████████████████████████████████████████▋                                                            | 413/997 [1:16:48<1:30:29,  9.30s/it]"
     ]
    },
    {
     "name": "stdout",
     "output_type": "stream",
     "text": [
      "Lana Del Rey Summertime Sadness [Lana Del Rey vs. Cedric Gervais] - Cedric Gervais Remix 5252987\n",
      "No objects to concatenate\n",
      "Neil Diamond Sweet Caroline 7108987\n"
     ]
    },
    {
     "name": "stderr",
     "output_type": "stream",
     "text": [
      "\r",
      " 42%|██████████████████████████████████████████▊                                                            | 414/997 [1:16:49<1:06:23,  6.83s/it]"
     ]
    },
    {
     "name": "stdout",
     "output_type": "stream",
     "text": [
      "No objects to concatenate\n",
      "T.I. Live Your Life (feat. Rihanna) 6460987\n"
     ]
    },
    {
     "name": "stderr",
     "output_type": "stream",
     "text": [
      "\r",
      " 42%|██████████████████████████████████████████▊                                                            | 415/997 [1:17:09<1:44:38, 10.79s/it]"
     ]
    },
    {
     "name": "stdout",
     "output_type": "stream",
     "text": [
      "No objects to concatenate\n",
      "Troye Sivan YOUTH 5985987\n"
     ]
    },
    {
     "name": "stderr",
     "output_type": "stream",
     "text": [
      "\r",
      " 42%|██████████████████████████████████████████▉                                                            | 416/997 [1:17:19<1:40:50, 10.41s/it]"
     ]
    },
    {
     "name": "stdout",
     "output_type": "stream",
     "text": [
      "No objects to concatenate\n",
      "OneRepublic Secrets 4649987\n"
     ]
    },
    {
     "name": "stderr",
     "output_type": "stream",
     "text": [
      "\r",
      " 42%|███████████████████████████████████████████                                                            | 417/997 [1:17:39<2:10:16, 13.48s/it]"
     ]
    },
    {
     "name": "stdout",
     "output_type": "stream",
     "text": [
      "Frank Ocean Super Rich Kids 6353987\n"
     ]
    },
    {
     "name": "stderr",
     "output_type": "stream",
     "text": [
      "\r",
      " 42%|███████████████████████████████████████████▏                                                           | 418/997 [1:18:01<2:32:09, 15.77s/it]"
     ]
    },
    {
     "name": "stdout",
     "output_type": "stream",
     "text": [
      "Al Green Let's Stay Together 5044987\n"
     ]
    },
    {
     "name": "stderr",
     "output_type": "stream",
     "text": [
      "\r",
      " 42%|███████████████████████████████████████████▎                                                           | 419/997 [1:18:02<1:50:46, 11.50s/it]"
     ]
    },
    {
     "name": "stdout",
     "output_type": "stream",
     "text": [
      "No objects to concatenate\n",
      "Mumford & Sons The Cave 5645987\n"
     ]
    },
    {
     "name": "stderr",
     "output_type": "stream",
     "text": [
      "\r",
      " 42%|███████████████████████████████████████████▍                                                           | 420/997 [1:18:03<1:18:49,  8.20s/it]"
     ]
    },
    {
     "name": "stdout",
     "output_type": "stream",
     "text": [
      "No objects to concatenate\n",
      "OutKast Roses 6148987\n"
     ]
    },
    {
     "name": "stderr",
     "output_type": "stream",
     "text": [
      "\r",
      " 42%|███████████████████████████████████████████▍                                                           | 421/997 [1:18:23<1:55:09, 12.00s/it]"
     ]
    },
    {
     "name": "stdout",
     "output_type": "stream",
     "text": [
      "Maroon 5 Sunday Morning 5409987\n"
     ]
    },
    {
     "name": "stderr",
     "output_type": "stream",
     "text": [
      "\r",
      " 42%|███████████████████████████████████████████▌                                                           | 422/997 [1:18:25<1:26:07,  8.99s/it]"
     ]
    },
    {
     "name": "stdout",
     "output_type": "stream",
     "text": [
      "No objects to concatenate\n",
      "Yellowcard Ocean Avenue 6696987\n"
     ]
    },
    {
     "name": "stderr",
     "output_type": "stream",
     "text": [
      "\r",
      " 42%|███████████████████████████████████████████▋                                                           | 423/997 [1:18:26<1:01:34,  6.44s/it]"
     ]
    },
    {
     "name": "stdout",
     "output_type": "stream",
     "text": [
      "No objects to concatenate\n",
      "J. Cole Work Out 7890987\n"
     ]
    },
    {
     "name": "stderr",
     "output_type": "stream",
     "text": [
      "\r",
      " 43%|███████████████████████████████████████████▊                                                           | 424/997 [1:18:47<1:42:32, 10.74s/it]"
     ]
    },
    {
     "name": "stdout",
     "output_type": "stream",
     "text": [
      "Rihanna Love On The Brain 6922987\n"
     ]
    },
    {
     "name": "stderr",
     "output_type": "stream",
     "text": [
      "\r",
      " 43%|███████████████████████████████████████████▉                                                           | 425/997 [1:19:07<2:11:05, 13.75s/it]"
     ]
    },
    {
     "name": "stdout",
     "output_type": "stream",
     "text": [
      "Rihanna Stay - Album Version (Edited) 6369987\n"
     ]
    },
    {
     "name": "stderr",
     "output_type": "stream",
     "text": [
      "\r",
      " 43%|████████████████████████████████████████████                                                           | 426/997 [1:19:17<1:59:26, 12.55s/it]"
     ]
    },
    {
     "name": "stdout",
     "output_type": "stream",
     "text": [
      "No objects to concatenate\n",
      "Bon Jovi Wanted Dead Or Alive 6417987\n"
     ]
    },
    {
     "name": "stderr",
     "output_type": "stream",
     "text": [
      "\r",
      " 43%|████████████████████████████████████████████                                                           | 427/997 [1:19:19<1:29:45,  9.45s/it]"
     ]
    },
    {
     "name": "stdout",
     "output_type": "stream",
     "text": [
      "No objects to concatenate\n",
      "Eddie Money Take Me Home Tonight 5334987\n"
     ]
    },
    {
     "name": "stderr",
     "output_type": "stream",
     "text": [
      "\r",
      " 43%|████████████████████████████████████████████▏                                                          | 428/997 [1:19:40<2:00:10, 12.67s/it]"
     ]
    },
    {
     "name": "stdout",
     "output_type": "stream",
     "text": [
      "No objects to concatenate\n",
      "Lil Wayne Right Above It 5966987\n"
     ]
    },
    {
     "name": "stderr",
     "output_type": "stream",
     "text": [
      "\r",
      " 43%|████████████████████████████████████████████▎                                                          | 429/997 [1:19:59<2:19:48, 14.77s/it]"
     ]
    },
    {
     "name": "stdout",
     "output_type": "stream",
     "text": [
      "No objects to concatenate\n",
      "JAY Z No Church In The Wild 6708987\n"
     ]
    },
    {
     "name": "stderr",
     "output_type": "stream",
     "text": [
      "\r",
      " 43%|████████████████████████████████████████████▍                                                          | 430/997 [1:20:09<2:04:54, 13.22s/it]"
     ]
    },
    {
     "name": "stdout",
     "output_type": "stream",
     "text": [
      "No objects to concatenate\n",
      "House Of Pain Jump Around 6653987\n"
     ]
    },
    {
     "name": "stderr",
     "output_type": "stream",
     "text": [
      "\r",
      " 43%|████████████████████████████████████████████▌                                                          | 431/997 [1:20:18<1:52:56, 11.97s/it]"
     ]
    },
    {
     "name": "stdout",
     "output_type": "stream",
     "text": [
      "No objects to concatenate\n",
      "Yo Gotti Down In the DM 7150987\n"
     ]
    },
    {
     "name": "stderr",
     "output_type": "stream",
     "text": [
      "\r",
      " 43%|████████████████████████████████████████████▋                                                          | 432/997 [1:20:38<2:16:32, 14.50s/it]"
     ]
    },
    {
     "name": "stdout",
     "output_type": "stream",
     "text": [
      "Nebu Kiniza Gassed Up 6518987\n"
     ]
    },
    {
     "name": "stderr",
     "output_type": "stream",
     "text": [
      "\r",
      " 43%|████████████████████████████████████████████▋                                                          | 433/997 [1:20:59<2:33:54, 16.37s/it]"
     ]
    },
    {
     "name": "stdout",
     "output_type": "stream",
     "text": [
      "Ariana Grande Dangerous Woman 5736987\n"
     ]
    },
    {
     "name": "stderr",
     "output_type": "stream",
     "text": [
      "\r",
      " 44%|████████████████████████████████████████████▊                                                          | 434/997 [1:21:09<2:14:30, 14.33s/it]"
     ]
    },
    {
     "name": "stdout",
     "output_type": "stream",
     "text": [
      "No objects to concatenate\n",
      "J. Cole Neighbors 5943987\n"
     ]
    },
    {
     "name": "stderr",
     "output_type": "stream",
     "text": [
      "\r",
      " 44%|████████████████████████████████████████████▉                                                          | 435/997 [1:21:30<2:32:44, 16.31s/it]"
     ]
    },
    {
     "name": "stdout",
     "output_type": "stream",
     "text": [
      "Tee Grizzley First Day Out 5379987\n"
     ]
    },
    {
     "name": "stderr",
     "output_type": "stream",
     "text": [
      "\r",
      " 44%|█████████████████████████████████████████████                                                          | 436/997 [1:21:45<2:30:24, 16.09s/it]"
     ]
    },
    {
     "name": "stdout",
     "output_type": "stream",
     "text": [
      "No objects to concatenate\n",
      "Drake The Motto 8304987\n"
     ]
    },
    {
     "name": "stderr",
     "output_type": "stream",
     "text": [
      "\r",
      " 44%|█████████████████████████████████████████████▏                                                         | 437/997 [1:21:55<2:13:07, 14.26s/it]"
     ]
    },
    {
     "name": "stdout",
     "output_type": "stream",
     "text": [
      "No objects to concatenate\n",
      "Eagles Hotel California - Remastered 5608987\n"
     ]
    },
    {
     "name": "stderr",
     "output_type": "stream",
     "text": [
      "\r",
      " 44%|█████████████████████████████████████████████▏                                                         | 438/997 [1:21:57<1:39:28, 10.68s/it]"
     ]
    },
    {
     "name": "stdout",
     "output_type": "stream",
     "text": [
      "No objects to concatenate\n",
      "Wiz Khalifa Work Hard, Play Hard 6110987\n"
     ]
    },
    {
     "name": "stderr",
     "output_type": "stream",
     "text": [
      "\r",
      " 44%|█████████████████████████████████████████████▎                                                         | 439/997 [1:22:18<2:07:09, 13.67s/it]"
     ]
    },
    {
     "name": "stdout",
     "output_type": "stream",
     "text": [
      "Jay Sean Down 7289987\n"
     ]
    },
    {
     "name": "stderr",
     "output_type": "stream",
     "text": [
      "\r",
      " 44%|█████████████████████████████████████████████▍                                                         | 440/997 [1:22:29<1:58:56, 12.81s/it]"
     ]
    },
    {
     "name": "stdout",
     "output_type": "stream",
     "text": [
      "No objects to concatenate\n",
      "Whitney Houston I Wanna Dance with Somebody (Who Loves Me) 5605987\n"
     ]
    },
    {
     "name": "stderr",
     "output_type": "stream",
     "text": [
      "\r",
      " 44%|█████████████████████████████████████████████▌                                                         | 441/997 [1:22:30<1:27:10,  9.41s/it]"
     ]
    },
    {
     "name": "stdout",
     "output_type": "stream",
     "text": [
      "No objects to concatenate\n",
      "Coldplay Fix You 5661987\n",
      "No objects to concatenate\n",
      "Kevin Gates Really Really 7686987\n"
     ]
    },
    {
     "name": "stderr",
     "output_type": "stream",
     "text": [
      "\r",
      " 44%|█████████████████████████████████████████████▊                                                         | 443/997 [1:22:46<1:21:55,  8.87s/it]"
     ]
    },
    {
     "name": "stdout",
     "output_type": "stream",
     "text": [
      "No objects to concatenate\n",
      "SZA Love Galore 6399987\n"
     ]
    },
    {
     "name": "stderr",
     "output_type": "stream",
     "text": [
      " 45%|█████████████████████████████████████████████▉                                                         | 445/997 [1:23:07<1:20:50,  8.79s/it]"
     ]
    },
    {
     "name": "stdout",
     "output_type": "stream",
     "text": [
      "Snow Patrol Chasing Cars 5720987\n",
      "No objects to concatenate\n",
      "Desiigner Tiimmy Turner 6231987\n"
     ]
    },
    {
     "name": "stderr",
     "output_type": "stream",
     "text": [
      "\r",
      " 45%|██████████████████████████████████████████████                                                         | 446/997 [1:23:17<1:23:26,  9.09s/it]"
     ]
    },
    {
     "name": "stdout",
     "output_type": "stream",
     "text": [
      "No objects to concatenate\n",
      "MGMT Electric Feel 7359987\n"
     ]
    },
    {
     "name": "stderr",
     "output_type": "stream",
     "text": [
      "\r",
      " 45%|██████████████████████████████████████████████▏                                                        | 447/997 [1:23:26<1:24:54,  9.26s/it]"
     ]
    },
    {
     "name": "stdout",
     "output_type": "stream",
     "text": [
      "No objects to concatenate\n",
      "PnB Rock Horses (with PnB Rock, Kodak Black & A Boogie Wit da Hoodie) 5099987\n"
     ]
    },
    {
     "name": "stderr",
     "output_type": "stream",
     "text": [
      "\r",
      " 45%|██████████████████████████████████████████████▎                                                        | 448/997 [1:23:47<1:56:06, 12.69s/it]"
     ]
    },
    {
     "name": "stdout",
     "output_type": "stream",
     "text": [
      "Van Halen Jump - 2015 Remastered Version 4371987\n"
     ]
    },
    {
     "name": "stderr",
     "output_type": "stream",
     "text": [
      "\r",
      " 45%|██████████████████████████████████████████████▍                                                        | 449/997 [1:23:49<1:27:39,  9.60s/it]"
     ]
    },
    {
     "name": "stdout",
     "output_type": "stream",
     "text": [
      "No objects to concatenate\n",
      "ScHoolboy Q Hands On The Wheel 7000987\n"
     ]
    },
    {
     "name": "stderr",
     "output_type": "stream",
     "text": [
      "\r",
      " 45%|██████████████████████████████████████████████▍                                                        | 450/997 [1:24:10<1:57:17, 12.87s/it]"
     ]
    },
    {
     "name": "stdout",
     "output_type": "stream",
     "text": [
      "50 Cent In Da Club 7945987\n"
     ]
    },
    {
     "name": "stderr",
     "output_type": "stream",
     "text": [
      "\r",
      " 45%|██████████████████████████████████████████████▌                                                        | 451/997 [1:24:30<2:17:48, 15.14s/it]"
     ]
    },
    {
     "name": "stdout",
     "output_type": "stream",
     "text": [
      "No objects to concatenate\n",
      "The White Stripes Seven Nation Army 7945987\n"
     ]
    },
    {
     "name": "stderr",
     "output_type": "stream",
     "text": [
      "\r",
      " 45%|██████████████████████████████████████████████▋                                                        | 452/997 [1:24:32<1:42:28, 11.28s/it]"
     ]
    },
    {
     "name": "stdout",
     "output_type": "stream",
     "text": [
      "No objects to concatenate\n",
      "Daryl Hall & John Oates You Make My Dreams - Remastered 5795987\n"
     ]
    },
    {
     "name": "stderr",
     "output_type": "stream",
     "text": [
      "\r",
      " 45%|██████████████████████████████████████████████▊                                                        | 453/997 [1:24:35<1:18:27,  8.65s/it]"
     ]
    },
    {
     "name": "stdout",
     "output_type": "stream",
     "text": [
      "No objects to concatenate\n",
      "Kenny Loggins Footloose 6285987\n"
     ]
    },
    {
     "name": "stderr",
     "output_type": "stream",
     "text": [
      "\r",
      " 46%|██████████████████████████████████████████████▉                                                        | 454/997 [1:24:54<1:45:24, 11.65s/it]"
     ]
    },
    {
     "name": "stdout",
     "output_type": "stream",
     "text": [
      "No objects to concatenate\n",
      "MAGIC! Rude 4157987\n"
     ]
    },
    {
     "name": "stderr",
     "output_type": "stream",
     "text": [
      "\r",
      " 46%|███████████████████████████████████████████████                                                        | 455/997 [1:24:54<1:14:31,  8.25s/it]"
     ]
    },
    {
     "name": "stdout",
     "output_type": "stream",
     "text": [
      "No objects to concatenate\n",
      "Kendrick Lamar Money Trees 5242987\n"
     ]
    },
    {
     "name": "stderr",
     "output_type": "stream",
     "text": [
      "\r",
      " 46%|███████████████████████████████████████████████                                                        | 456/997 [1:25:03<1:15:25,  8.37s/it]"
     ]
    },
    {
     "name": "stdout",
     "output_type": "stream",
     "text": [
      "No objects to concatenate\n",
      "Warren G Regulate 5969987\n"
     ]
    },
    {
     "name": "stderr",
     "output_type": "stream",
     "text": [
      "\r",
      " 46%|███████████████████████████████████████████████▏                                                       | 457/997 [1:25:12<1:18:29,  8.72s/it]"
     ]
    },
    {
     "name": "stdout",
     "output_type": "stream",
     "text": [
      "No objects to concatenate\n",
      "Beyoncé Single Ladies (Put a Ring on It) 9149987\n"
     ]
    },
    {
     "name": "stderr",
     "output_type": "stream",
     "text": [
      "\r",
      " 46%|███████████████████████████████████████████████▎                                                       | 458/997 [1:25:23<1:24:56,  9.46s/it]"
     ]
    },
    {
     "name": "stdout",
     "output_type": "stream",
     "text": [
      "No objects to concatenate\n",
      "Kendrick Lamar King Kunta 6070987\n"
     ]
    },
    {
     "name": "stderr",
     "output_type": "stream",
     "text": [
      "\r",
      " 46%|███████████████████████████████████████████████▍                                                       | 459/997 [1:25:38<1:39:03, 11.05s/it]"
     ]
    },
    {
     "name": "stdout",
     "output_type": "stream",
     "text": [
      "No objects to concatenate\n",
      "The Beach Boys Wouldn't It Be Nice - 2000 - Remaster 4246987\n"
     ]
    },
    {
     "name": "stderr",
     "output_type": "stream",
     "text": [
      "\r",
      " 46%|███████████████████████████████████████████████▌                                                       | 460/997 [1:25:40<1:13:52,  8.25s/it]"
     ]
    },
    {
     "name": "stdout",
     "output_type": "stream",
     "text": [
      "No objects to concatenate\n",
      "Charlie Puth We Don't Talk Anymore (feat. Selena Gomez) 6424987\n"
     ]
    },
    {
     "name": "stderr",
     "output_type": "stream",
     "text": [
      "\r",
      " 46%|███████████████████████████████████████████████▋                                                       | 461/997 [1:25:55<1:31:38, 10.26s/it]"
     ]
    },
    {
     "name": "stdout",
     "output_type": "stream",
     "text": [
      "No objects to concatenate\n",
      "The Weeknd Party Monster 4867987\n"
     ]
    },
    {
     "name": "stderr",
     "output_type": "stream",
     "text": [
      "\r",
      " 46%|███████████████████████████████████████████████▋                                                       | 462/997 [1:26:12<1:49:05, 12.24s/it]"
     ]
    },
    {
     "name": "stdout",
     "output_type": "stream",
     "text": [
      "No objects to concatenate\n",
      "Simon & Garfunkel Mrs. Robinson 6078987\n"
     ]
    },
    {
     "name": "stderr",
     "output_type": "stream",
     "text": [
      "\r",
      " 46%|███████████████████████████████████████████████▊                                                       | 463/997 [1:26:16<1:28:26,  9.94s/it]"
     ]
    },
    {
     "name": "stdout",
     "output_type": "stream",
     "text": [
      "No objects to concatenate\n",
      "Beyoncé 7/11 7273987\n"
     ]
    },
    {
     "name": "stderr",
     "output_type": "stream",
     "text": [
      "\r",
      " 47%|███████████████████████████████████████████████▉                                                       | 464/997 [1:26:26<1:27:10,  9.81s/it]"
     ]
    },
    {
     "name": "stdout",
     "output_type": "stream",
     "text": [
      "No objects to concatenate\n",
      "Katy Perry Dark Horse 6482987\n"
     ]
    },
    {
     "name": "stderr",
     "output_type": "stream",
     "text": [
      "\r",
      " 47%|████████████████████████████████████████████████                                                       | 465/997 [1:26:26<1:01:45,  6.96s/it]"
     ]
    },
    {
     "name": "stdout",
     "output_type": "stream",
     "text": [
      "No objects to concatenate\n",
      "UB40 Red Red Wine - Edit 8377987\n"
     ]
    },
    {
     "name": "stderr",
     "output_type": "stream",
     "text": [
      "\r",
      " 47%|█████████████████████████████████████████████████                                                        | 466/997 [1:26:28<47:28,  5.36s/it]"
     ]
    },
    {
     "name": "stdout",
     "output_type": "stream",
     "text": [
      "No objects to concatenate\n",
      "Kanye West Heartless 8104987\n"
     ]
    },
    {
     "name": "stderr",
     "output_type": "stream",
     "text": [
      "\r",
      " 47%|████████████████████████████████████████████████▏                                                      | 467/997 [1:26:38<1:01:49,  7.00s/it]"
     ]
    },
    {
     "name": "stdout",
     "output_type": "stream",
     "text": [
      "No objects to concatenate\n",
      "The Police Every Breath You Take - Remastered 2003 7034987\n"
     ]
    },
    {
     "name": "stderr",
     "output_type": "stream",
     "text": [
      "\r",
      " 47%|█████████████████████████████████████████████████▎                                                       | 468/997 [1:26:41<51:03,  5.79s/it]"
     ]
    },
    {
     "name": "stdout",
     "output_type": "stream",
     "text": [
      "No objects to concatenate\n",
      "Flume Say It 6272987\n"
     ]
    },
    {
     "name": "stderr",
     "output_type": "stream",
     "text": [
      "\r",
      " 47%|████████████████████████████████████████████████▍                                                      | 469/997 [1:26:56<1:13:35,  8.36s/it]"
     ]
    },
    {
     "name": "stdout",
     "output_type": "stream",
     "text": [
      "No objects to concatenate\n",
      "The Chainsmokers Paris 7111987\n"
     ]
    },
    {
     "name": "stderr",
     "output_type": "stream",
     "text": [
      "\r",
      " 47%|████████████████████████████████████████████████▌                                                      | 470/997 [1:27:05<1:16:55,  8.76s/it]"
     ]
    },
    {
     "name": "stdout",
     "output_type": "stream",
     "text": [
      "No objects to concatenate\n",
      "A$AP Rocky Wild for the Night 6173987\n"
     ]
    },
    {
     "name": "stderr",
     "output_type": "stream",
     "text": [
      "\r",
      " 47%|████████████████████████████████████████████████▋                                                      | 471/997 [1:27:21<1:33:42, 10.69s/it]"
     ]
    },
    {
     "name": "stdout",
     "output_type": "stream",
     "text": [
      "No objects to concatenate\n",
      "The All-American Rejects Move Along 5745987\n"
     ]
    },
    {
     "name": "stderr",
     "output_type": "stream",
     "text": [
      "\r",
      " 47%|████████████████████████████████████████████████▊                                                      | 472/997 [1:27:22<1:08:55,  7.88s/it]"
     ]
    },
    {
     "name": "stdout",
     "output_type": "stream",
     "text": [
      "No objects to concatenate\n",
      "Gucci Mane I Get The Bag (feat. Migos) 7038987\n"
     ]
    },
    {
     "name": "stderr",
     "output_type": "stream",
     "text": [
      "\r",
      " 47%|████████████████████████████████████████████████▊                                                      | 473/997 [1:27:43<1:43:22, 11.84s/it]"
     ]
    },
    {
     "name": "stdout",
     "output_type": "stream",
     "text": [
      "Kid Rock All Summer Long 6284987\n",
      "No objects to concatenate\n",
      "Migos Kelly Price (feat. Travis Scott) 6550987\n"
     ]
    },
    {
     "name": "stderr",
     "output_type": "stream",
     "text": [
      "\r",
      " 48%|█████████████████████████████████████████████████                                                      | 475/997 [1:28:05<1:40:52, 11.59s/it]"
     ]
    },
    {
     "name": "stdout",
     "output_type": "stream",
     "text": [
      "Spice Girls Wannabe - Radio Edit 6177987\n"
     ]
    },
    {
     "name": "stderr",
     "output_type": "stream",
     "text": [
      "\r",
      " 48%|█████████████████████████████████████████████████▏                                                     | 476/997 [1:28:15<1:35:29, 11.00s/it]"
     ]
    },
    {
     "name": "stdout",
     "output_type": "stream",
     "text": [
      "No objects to concatenate\n",
      "Gorillaz Feel Good Inc 7201987\n"
     ]
    },
    {
     "name": "stderr",
     "output_type": "stream",
     "text": [
      "\r",
      " 48%|█████████████████████████████████████████████████▎                                                     | 477/997 [1:28:15<1:07:18,  7.77s/it]"
     ]
    },
    {
     "name": "stdout",
     "output_type": "stream",
     "text": [
      "No objects to concatenate\n",
      "Eric Church Springsteen 6352987\n"
     ]
    },
    {
     "name": "stderr",
     "output_type": "stream",
     "text": [
      "\r",
      " 48%|██████████████████████████████████████████████████▎                                                      | 478/997 [1:28:17<53:26,  6.18s/it]"
     ]
    },
    {
     "name": "stdout",
     "output_type": "stream",
     "text": [
      "No objects to concatenate\n",
      "Capital Cities Safe And Sound 5525987\n"
     ]
    },
    {
     "name": "stderr",
     "output_type": "stream",
     "text": [
      "\r",
      " 48%|█████████████████████████████████████████████████▍                                                     | 479/997 [1:28:28<1:05:01,  7.53s/it]"
     ]
    },
    {
     "name": "stdout",
     "output_type": "stream",
     "text": [
      "No objects to concatenate\n",
      "a-ha Take On Me 7364987\n"
     ]
    },
    {
     "name": "stderr",
     "output_type": "stream",
     "text": [
      "\r",
      " 48%|█████████████████████████████████████████████████▌                                                     | 480/997 [1:28:43<1:25:05,  9.88s/it]"
     ]
    },
    {
     "name": "stdout",
     "output_type": "stream",
     "text": [
      "No objects to concatenate\n",
      "Camila Cabello Havana 7676987\n"
     ]
    },
    {
     "name": "stderr",
     "output_type": "stream",
     "text": [
      "\r",
      " 48%|█████████████████████████████████████████████████▋                                                     | 481/997 [1:29:04<1:53:39, 13.22s/it]"
     ]
    },
    {
     "name": "stdout",
     "output_type": "stream",
     "text": [
      "Beyoncé Love On Top 7137988\n"
     ]
    },
    {
     "name": "stderr",
     "output_type": "stream",
     "text": [
      "\r",
      " 48%|█████████████████████████████████████████████████▊                                                     | 482/997 [1:29:07<1:26:02, 10.02s/it]"
     ]
    },
    {
     "name": "stdout",
     "output_type": "stream",
     "text": [
      "No objects to concatenate\n",
      "Phil Collins In The Air Tonight - 2015 Remastered 7375988\n"
     ]
    },
    {
     "name": "stderr",
     "output_type": "stream",
     "text": [
      "\r",
      " 48%|█████████████████████████████████████████████████▉                                                     | 483/997 [1:29:09<1:06:24,  7.75s/it]"
     ]
    },
    {
     "name": "stdout",
     "output_type": "stream",
     "text": [
      "No objects to concatenate\n",
      "Luis Fonsi Despacito (Featuring Daddy Yankee) 6900988\n"
     ]
    },
    {
     "name": "stderr",
     "output_type": "stream",
     "text": [
      "\r",
      " 49%|██████████████████████████████████████████████████                                                     | 484/997 [1:29:19<1:11:37,  8.38s/it]"
     ]
    },
    {
     "name": "stdout",
     "output_type": "stream",
     "text": [
      "No objects to concatenate\n",
      "Avril Lavigne Sk8er Boi 5296988\n"
     ]
    },
    {
     "name": "stderr",
     "output_type": "stream",
     "text": [
      "\r",
      " 49%|██████████████████████████████████████████████████                                                     | 485/997 [1:29:29<1:13:42,  8.64s/it]"
     ]
    },
    {
     "name": "stdout",
     "output_type": "stream",
     "text": [
      "No objects to concatenate\n",
      "Dierks Bentley Drunk On A Plane 4322988\n"
     ]
    },
    {
     "name": "stderr",
     "output_type": "stream",
     "text": [
      "\r",
      " 49%|███████████████████████████████████████████████████▏                                                     | 486/997 [1:29:31<58:00,  6.81s/it]"
     ]
    },
    {
     "name": "stdout",
     "output_type": "stream",
     "text": [
      "No objects to concatenate\n",
      "Kelly Clarkson Since U Been Gone 6995988\n"
     ]
    },
    {
     "name": "stderr",
     "output_type": "stream",
     "text": [
      "\r",
      " 49%|██████████████████████████████████████████████████▎                                                    | 487/997 [1:29:42<1:08:10,  8.02s/it]"
     ]
    },
    {
     "name": "stdout",
     "output_type": "stream",
     "text": [
      "No objects to concatenate\n",
      "Nicki Minaj Truffle Butter 6967988\n"
     ]
    },
    {
     "name": "stderr",
     "output_type": "stream",
     "text": [
      "\r",
      " 49%|██████████████████████████████████████████████████▍                                                    | 488/997 [1:30:03<1:40:41, 11.87s/it]"
     ]
    },
    {
     "name": "stdout",
     "output_type": "stream",
     "text": [
      "JAY Z Clique 5665988\n"
     ]
    },
    {
     "name": "stderr",
     "output_type": "stream",
     "text": [
      "\r",
      " 49%|██████████████████████████████████████████████████▌                                                    | 489/997 [1:30:17<1:46:55, 12.63s/it]"
     ]
    },
    {
     "name": "stdout",
     "output_type": "stream",
     "text": [
      "No objects to concatenate\n",
      "Oasis Wonderwall - Remastered 6351988\n"
     ]
    },
    {
     "name": "stderr",
     "output_type": "stream",
     "text": [
      "\r",
      " 49%|██████████████████████████████████████████████████▌                                                    | 490/997 [1:30:18<1:16:05,  9.00s/it]"
     ]
    },
    {
     "name": "stdout",
     "output_type": "stream",
     "text": [
      "No objects to concatenate\n",
      "J. Cole Crooked Smile 6310988\n"
     ]
    },
    {
     "name": "stderr",
     "output_type": "stream",
     "text": [
      "\r",
      " 49%|██████████████████████████████████████████████████▋                                                    | 491/997 [1:30:26<1:14:06,  8.79s/it]"
     ]
    },
    {
     "name": "stdout",
     "output_type": "stream",
     "text": [
      "No objects to concatenate\n",
      "Jason Derulo Want to Want Me 5730988\n"
     ]
    },
    {
     "name": "stderr",
     "output_type": "stream",
     "text": [
      "\r",
      " 49%|██████████████████████████████████████████████████▊                                                    | 492/997 [1:30:37<1:18:56,  9.38s/it]"
     ]
    },
    {
     "name": "stdout",
     "output_type": "stream",
     "text": [
      "No objects to concatenate\n",
      "Katy Perry Firework 5899988\n"
     ]
    },
    {
     "name": "stderr",
     "output_type": "stream",
     "text": [
      "\r",
      " 49%|██████████████████████████████████████████████████▉                                                    | 493/997 [1:30:57<1:45:44, 12.59s/it]"
     ]
    },
    {
     "name": "stdout",
     "output_type": "stream",
     "text": [
      "No objects to concatenate\n",
      "Randy Houser Runnin' Outta Moonlight 4829988\n"
     ]
    },
    {
     "name": "stderr",
     "output_type": "stream",
     "text": [
      "\r",
      " 50%|███████████████████████████████████████████████████                                                    | 494/997 [1:30:59<1:20:12,  9.57s/it]"
     ]
    },
    {
     "name": "stdout",
     "output_type": "stream",
     "text": [
      "No objects to concatenate\n",
      "Kodaline All I Want 5723988\n"
     ]
    },
    {
     "name": "stderr",
     "output_type": "stream",
     "text": [
      "\r",
      " 50%|████████████████████████████████████████████████████▏                                                    | 495/997 [1:31:00<57:48,  6.91s/it]"
     ]
    },
    {
     "name": "stdout",
     "output_type": "stream",
     "text": [
      "No objects to concatenate\n",
      "WALK THE MOON Shut Up and Dance 6684988\n"
     ]
    },
    {
     "name": "stderr",
     "output_type": "stream",
     "text": [
      "\r",
      " 50%|███████████████████████████████████████████████████▏                                                   | 496/997 [1:31:11<1:06:33,  7.97s/it]"
     ]
    },
    {
     "name": "stdout",
     "output_type": "stream",
     "text": [
      "No objects to concatenate\n",
      "Katrina & The Waves Walking On Sunshine 6957988\n"
     ]
    },
    {
     "name": "stderr",
     "output_type": "stream",
     "text": [
      "\r",
      " 50%|███████████████████████████████████████████████████▎                                                   | 497/997 [1:31:26<1:24:59, 10.20s/it]"
     ]
    },
    {
     "name": "stdout",
     "output_type": "stream",
     "text": [
      "No objects to concatenate\n",
      "Mumford & Sons Little Lion Man 6123988\n"
     ]
    },
    {
     "name": "stderr",
     "output_type": "stream",
     "text": [
      "\r",
      " 50%|███████████████████████████████████████████████████▍                                                   | 498/997 [1:31:36<1:25:21, 10.26s/it]"
     ]
    },
    {
     "name": "stdout",
     "output_type": "stream",
     "text": [
      "No objects to concatenate\n",
      "Lil Jon & The East Side Boyz Get Low - Street 7357988\n"
     ]
    },
    {
     "name": "stderr",
     "output_type": "stream",
     "text": [
      "\r",
      " 50%|███████████████████████████████████████████████████▌                                                   | 499/997 [1:31:46<1:23:14, 10.03s/it]"
     ]
    },
    {
     "name": "stdout",
     "output_type": "stream",
     "text": [
      "No objects to concatenate\n",
      "Post Malone Too Young 5835988\n"
     ]
    },
    {
     "name": "stderr",
     "output_type": "stream",
     "text": [
      "\r",
      " 50%|███████████████████████████████████████████████████▋                                                   | 500/997 [1:32:03<1:40:09, 12.09s/it]"
     ]
    },
    {
     "name": "stdout",
     "output_type": "stream",
     "text": [
      "No objects to concatenate\n",
      "Lil Uzi Vert Erase Your Social 5413988\n"
     ]
    },
    {
     "name": "stderr",
     "output_type": "stream",
     "text": [
      " 50%|███████████████████████████████████████████████████▊                                                   | 502/997 [1:32:24<1:24:59, 10.30s/it]"
     ]
    },
    {
     "name": "stdout",
     "output_type": "stream",
     "text": [
      "Ariana Grande Into You 6631988\n",
      "No objects to concatenate\n",
      "Travis Scott beibs in the trap 5548988\n"
     ]
    },
    {
     "name": "stderr",
     "output_type": "stream",
     "text": [
      "\r",
      " 50%|███████████████████████████████████████████████████▉                                                   | 503/997 [1:32:44<1:50:34, 13.43s/it]"
     ]
    },
    {
     "name": "stdout",
     "output_type": "stream",
     "text": [
      "Kungs This Girl (Kungs Vs. Cookin' On 3 Burners) - Kungs Vs. Cookin' On 3 Burners 5395988\n"
     ]
    },
    {
     "name": "stderr",
     "output_type": "stream",
     "text": [
      "\r",
      " 51%|████████████████████████████████████████████████████                                                   | 504/997 [1:33:05<2:08:44, 15.67s/it]"
     ]
    },
    {
     "name": "stdout",
     "output_type": "stream",
     "text": [
      "Kygo Stole the Show 5135988\n"
     ]
    },
    {
     "name": "stderr",
     "output_type": "stream",
     "text": [
      "\r",
      " 51%|████████████████████████████████████████████████████▏                                                  | 505/997 [1:33:20<2:06:10, 15.39s/it]"
     ]
    },
    {
     "name": "stdout",
     "output_type": "stream",
     "text": [
      "No objects to concatenate\n",
      "Rachel Platten Fight Song 6712988\n"
     ]
    },
    {
     "name": "stderr",
     "output_type": "stream",
     "text": [
      "\r",
      " 51%|████████████████████████████████████████████████████▎                                                  | 506/997 [1:33:35<2:04:37, 15.23s/it]"
     ]
    },
    {
     "name": "stdout",
     "output_type": "stream",
     "text": [
      "No objects to concatenate\n",
      "Arctic Monkeys Do I Wanna Know? 5113988\n"
     ]
    },
    {
     "name": "stderr",
     "output_type": "stream",
     "text": [
      "\r",
      " 51%|████████████████████████████████████████████████████▍                                                  | 507/997 [1:33:43<1:47:27, 13.16s/it]"
     ]
    },
    {
     "name": "stdout",
     "output_type": "stream",
     "text": [
      "No objects to concatenate\n",
      "Neon Trees Everybody Talks 5613988\n"
     ]
    },
    {
     "name": "stderr",
     "output_type": "stream",
     "text": [
      "\r",
      " 51%|████████████████████████████████████████████████████▍                                                  | 508/997 [1:33:45<1:18:47,  9.67s/it]"
     ]
    },
    {
     "name": "stdout",
     "output_type": "stream",
     "text": [
      "No objects to concatenate\n",
      "Two Door Cinema Club What You Know 6053988\n"
     ]
    },
    {
     "name": "stderr",
     "output_type": "stream",
     "text": [
      "\r",
      " 51%|████████████████████████████████████████████████████▌                                                  | 509/997 [1:33:54<1:19:08,  9.73s/it]"
     ]
    },
    {
     "name": "stdout",
     "output_type": "stream",
     "text": [
      "No objects to concatenate\n",
      "David Guetta 2U (feat. Justin Bieber) 6164988\n"
     ]
    },
    {
     "name": "stderr",
     "output_type": "stream",
     "text": [
      " 51%|████████████████████████████████████████████████████▊                                                  | 511/997 [1:34:16<1:14:37,  9.21s/it]"
     ]
    },
    {
     "name": "stdout",
     "output_type": "stream",
     "text": [
      "David Guetta Titanium (feat. Sia) - feat. Sia 3804988\n",
      "No objects to concatenate\n",
      "Ty Dolla $ign Or Nah (feat. The Weeknd, Wiz Khalifa and DJ Mustard) - Remix 6212988\n"
     ]
    },
    {
     "name": "stderr",
     "output_type": "stream",
     "text": [
      "\r",
      " 51%|████████████████████████████████████████████████████▉                                                  | 512/997 [1:34:26<1:16:12,  9.43s/it]"
     ]
    },
    {
     "name": "stdout",
     "output_type": "stream",
     "text": [
      "No objects to concatenate\n",
      "Luke Combs Hurricane 7470988\n"
     ]
    },
    {
     "name": "stderr",
     "output_type": "stream",
     "text": [
      "\r",
      " 51%|██████████████████████████████████████████████████████                                                   | 513/997 [1:34:28<59:15,  7.35s/it]"
     ]
    },
    {
     "name": "stdout",
     "output_type": "stream",
     "text": [
      "No objects to concatenate\n",
      "Kesha TiK ToK 5689988\n"
     ]
    },
    {
     "name": "stderr",
     "output_type": "stream",
     "text": [
      "\r",
      " 52%|█████████████████████████████████████████████████████                                                  | 514/997 [1:34:38<1:06:15,  8.23s/it]"
     ]
    },
    {
     "name": "stdout",
     "output_type": "stream",
     "text": [
      "No objects to concatenate\n",
      "Tyga Rack City 7005988\n"
     ]
    },
    {
     "name": "stderr",
     "output_type": "stream",
     "text": [
      "\r",
      " 52%|█████████████████████████████████████████████████████▏                                                 | 515/997 [1:34:59<1:35:08, 11.84s/it]"
     ]
    },
    {
     "name": "stdout",
     "output_type": "stream",
     "text": [
      "The Black Eyed Peas I Gotta Feeling 7242988\n"
     ]
    },
    {
     "name": "stderr",
     "output_type": "stream",
     "text": [
      "\r",
      " 52%|█████████████████████████████████████████████████████▎                                                 | 516/997 [1:35:10<1:32:46, 11.57s/it]"
     ]
    },
    {
     "name": "stdout",
     "output_type": "stream",
     "text": [
      "No objects to concatenate\n",
      "Mac Miller Donald Trump 6235988\n"
     ]
    },
    {
     "name": "stderr",
     "output_type": "stream",
     "text": [
      "\r",
      " 52%|█████████████████████████████████████████████████████▍                                                 | 517/997 [1:35:19<1:28:21, 11.04s/it]"
     ]
    },
    {
     "name": "stdout",
     "output_type": "stream",
     "text": [
      "No objects to concatenate\n",
      "Wes Walker Jordan Belfort 6408988\n"
     ]
    },
    {
     "name": "stderr",
     "output_type": "stream",
     "text": [
      "\r",
      " 52%|█████████████████████████████████████████████████████▌                                                 | 518/997 [1:35:29<1:25:33, 10.72s/it]"
     ]
    },
    {
     "name": "stdout",
     "output_type": "stream",
     "text": [
      "No objects to concatenate\n",
      "XXXTENTACION Jocelyn Flores 5852988\n"
     ]
    },
    {
     "name": "stderr",
     "output_type": "stream",
     "text": [
      "\r",
      " 52%|█████████████████████████████████████████████████████▌                                                 | 519/997 [1:35:43<1:31:31, 11.49s/it]"
     ]
    },
    {
     "name": "stdout",
     "output_type": "stream",
     "text": [
      "No objects to concatenate\n",
      "Aerosmith Sweet Emotion 4453988\n"
     ]
    },
    {
     "name": "stderr",
     "output_type": "stream",
     "text": [
      "\r",
      " 52%|█████████████████████████████████████████████████████▋                                                 | 520/997 [1:35:45<1:09:47,  8.78s/it]"
     ]
    },
    {
     "name": "stdout",
     "output_type": "stream",
     "text": [
      "No objects to concatenate\n",
      "My Chemical Romance Welcome to the Black Parade 6312988\n"
     ]
    },
    {
     "name": "stderr",
     "output_type": "stream",
     "text": [
      "\r",
      " 52%|██████████████████████████████████████████████████████▊                                                  | 521/997 [1:35:45<49:16,  6.21s/it]"
     ]
    },
    {
     "name": "stdout",
     "output_type": "stream",
     "text": [
      "No objects to concatenate\n",
      "Bob Marley & The Wailers Three Little Birds 7520988\n"
     ]
    },
    {
     "name": "stderr",
     "output_type": "stream",
     "text": [
      "\r",
      " 52%|██████████████████████████████████████████████████████▉                                                  | 522/997 [1:35:46<35:24,  4.47s/it]"
     ]
    },
    {
     "name": "stdout",
     "output_type": "stream",
     "text": [
      "No objects to concatenate\n",
      "Kanye West Pt. 2 5137988\n"
     ]
    },
    {
     "name": "stderr",
     "output_type": "stream",
     "text": [
      "\r",
      " 52%|██████████████████████████████████████████████████████                                                 | 523/997 [1:36:06<1:13:09,  9.26s/it]"
     ]
    },
    {
     "name": "stdout",
     "output_type": "stream",
     "text": [
      "Modest Mouse Float On 6058988\n"
     ]
    },
    {
     "name": "stderr",
     "output_type": "stream",
     "text": [
      "\r",
      " 53%|███████████████████████████████████████████████████████▏                                                 | 524/997 [1:36:07<54:10,  6.87s/it]"
     ]
    },
    {
     "name": "stdout",
     "output_type": "stream",
     "text": [
      "No objects to concatenate\n",
      "Drake All Me 7205988\n"
     ]
    },
    {
     "name": "stderr",
     "output_type": "stream",
     "text": [
      "\r",
      " 53%|██████████████████████████████████████████████████████▏                                                | 525/997 [1:36:28<1:25:44, 10.90s/it]"
     ]
    },
    {
     "name": "stdout",
     "output_type": "stream",
     "text": [
      "Chance The Rapper Same Drugs 6910988\n"
     ]
    },
    {
     "name": "stderr",
     "output_type": "stream",
     "text": [
      " 53%|██████████████████████████████████████████████████████▍                                                | 527/997 [1:36:49<1:16:32,  9.77s/it]"
     ]
    },
    {
     "name": "stdout",
     "output_type": "stream",
     "text": [
      "TLC No Scrubs 5838988\n",
      "No objects to concatenate\n",
      "Ruth B. Lost Boy 6659988\n"
     ]
    },
    {
     "name": "stderr",
     "output_type": "stream",
     "text": [
      "\r",
      " 53%|██████████████████████████████████████████████████████▌                                                | 528/997 [1:36:59<1:18:00,  9.98s/it]"
     ]
    },
    {
     "name": "stdout",
     "output_type": "stream",
     "text": [
      "No objects to concatenate\n",
      "Rich Homie Quan Flex (Ooh, Ooh, Ooh) 6738988\n"
     ]
    },
    {
     "name": "stderr",
     "output_type": "stream",
     "text": [
      "\r",
      " 53%|██████████████████████████████████████████████████████▋                                                | 529/997 [1:37:09<1:17:46,  9.97s/it]"
     ]
    },
    {
     "name": "stdout",
     "output_type": "stream",
     "text": [
      "No objects to concatenate\n",
      "Harry Styles Sign of the Times 6154988\n"
     ]
    },
    {
     "name": "stderr",
     "output_type": "stream",
     "text": [
      "\r",
      " 53%|██████████████████████████████████████████████████████▊                                                | 530/997 [1:37:22<1:24:24, 10.84s/it]"
     ]
    },
    {
     "name": "stdout",
     "output_type": "stream",
     "text": [
      "No objects to concatenate\n",
      "Rihanna Take A Bow - Main 6050988\n"
     ]
    },
    {
     "name": "stderr",
     "output_type": "stream",
     "text": [
      "\r",
      " 53%|██████████████████████████████████████████████████████▊                                                | 531/997 [1:37:32<1:21:43, 10.52s/it]"
     ]
    },
    {
     "name": "stdout",
     "output_type": "stream",
     "text": [
      "No objects to concatenate\n",
      "Sam Hunt Break Up In A Small Town 6431988\n"
     ]
    },
    {
     "name": "stderr",
     "output_type": "stream",
     "text": [
      "\r",
      " 53%|██████████████████████████████████████████████████████▉                                                | 532/997 [1:37:34<1:03:10,  8.15s/it]"
     ]
    },
    {
     "name": "stdout",
     "output_type": "stream",
     "text": [
      "No objects to concatenate\n",
      "Calvin Harris Feels 6031988\n"
     ]
    },
    {
     "name": "stderr",
     "output_type": "stream",
     "text": [
      "\r",
      " 53%|███████████████████████████████████████████████████████                                                | 533/997 [1:37:44<1:06:21,  8.58s/it]"
     ]
    },
    {
     "name": "stdout",
     "output_type": "stream",
     "text": [
      "No objects to concatenate\n",
      "The Revivalists Wish I Knew You 5629988\n"
     ]
    },
    {
     "name": "stderr",
     "output_type": "stream",
     "text": [
      "\r",
      " 54%|████████████████████████████████████████████████████████▏                                                | 534/997 [1:37:44<46:54,  6.08s/it]"
     ]
    },
    {
     "name": "stdout",
     "output_type": "stream",
     "text": [
      "No objects to concatenate\n",
      "Chris Stapleton Tennessee Whiskey 6342988\n"
     ]
    },
    {
     "name": "stderr",
     "output_type": "stream",
     "text": [
      "\r",
      " 54%|████████████████████████████████████████████████████████▎                                                | 535/997 [1:37:47<38:18,  4.97s/it]"
     ]
    },
    {
     "name": "stdout",
     "output_type": "stream",
     "text": [
      "No objects to concatenate\n",
      "Drake Marvins Room 6318988\n"
     ]
    },
    {
     "name": "stderr",
     "output_type": "stream",
     "text": [
      "\r",
      " 54%|████████████████████████████████████████████████████████▍                                                | 536/997 [1:37:57<49:44,  6.47s/it]"
     ]
    },
    {
     "name": "stdout",
     "output_type": "stream",
     "text": [
      "No objects to concatenate\n",
      "Guns N' Roses Welcome To The Jungle 6224988\n"
     ]
    },
    {
     "name": "stderr",
     "output_type": "stream",
     "text": [
      "\r",
      " 54%|████████████████████████████████████████████████████████▌                                                | 537/997 [1:37:59<40:11,  5.24s/it]"
     ]
    },
    {
     "name": "stdout",
     "output_type": "stream",
     "text": [
      "No objects to concatenate\n",
      "Drake Summer Sixteen 5897988\n"
     ]
    },
    {
     "name": "stderr",
     "output_type": "stream",
     "text": [
      "\r",
      " 54%|███████████████████████████████████████████████████████▌                                               | 538/997 [1:38:20<1:15:42,  9.90s/it]"
     ]
    },
    {
     "name": "stdout",
     "output_type": "stream",
     "text": [
      "Bruno Mars 24K Magic 5583988\n"
     ]
    },
    {
     "name": "stderr",
     "output_type": "stream",
     "text": [
      "\r",
      " 54%|███████████████████████████████████████████████████████▋                                               | 539/997 [1:38:29<1:15:05,  9.84s/it]"
     ]
    },
    {
     "name": "stdout",
     "output_type": "stream",
     "text": [
      "No objects to concatenate\n",
      "MisterWives Reflections 8148988\n"
     ]
    },
    {
     "name": "stderr",
     "output_type": "stream",
     "text": [
      "\r",
      " 54%|████████████████████████████████████████████████████████▊                                                | 540/997 [1:38:30<52:59,  6.96s/it]"
     ]
    },
    {
     "name": "stdout",
     "output_type": "stream",
     "text": [
      "No objects to concatenate\n",
      "Florida Georgia Line H.O.L.Y. 5833988\n"
     ]
    },
    {
     "name": "stderr",
     "output_type": "stream",
     "text": [
      "\r",
      " 54%|████████████████████████████████████████████████████████▉                                                | 541/997 [1:38:32<42:50,  5.64s/it]"
     ]
    },
    {
     "name": "stdout",
     "output_type": "stream",
     "text": [
      "No objects to concatenate\n",
      "2Pac California Love - Original Version 5319988\n"
     ]
    },
    {
     "name": "stderr",
     "output_type": "stream",
     "text": [
      " 54%|█████████████████████████████████████████████████████████▏                                               | 543/997 [1:38:41<35:32,  4.70s/it]"
     ]
    },
    {
     "name": "stdout",
     "output_type": "stream",
     "text": [
      "No objects to concatenate\n",
      "Glass Animals Gooey 6517988\n",
      "No objects to concatenate\n",
      "Fountains Of Wayne Stacy's Mom 6488988\n"
     ]
    },
    {
     "name": "stderr",
     "output_type": "stream",
     "text": [
      "\r",
      " 55%|█████████████████████████████████████████████████████████▎                                               | 544/997 [1:38:52<49:02,  6.50s/it]"
     ]
    },
    {
     "name": "stdout",
     "output_type": "stream",
     "text": [
      "No objects to concatenate\n",
      "Edward Sharpe & The Magnetic Zeros Home 6456988\n"
     ]
    },
    {
     "name": "stderr",
     "output_type": "stream",
     "text": [
      "\r",
      " 55%|████████████████████████████████████████████████████████▎                                              | 545/997 [1:39:07<1:08:18,  9.07s/it]"
     ]
    },
    {
     "name": "stdout",
     "output_type": "stream",
     "text": [
      "No objects to concatenate\n",
      "21 Savage No Heart 5554988\n"
     ]
    },
    {
     "name": "stderr",
     "output_type": "stream",
     "text": [
      "\r",
      " 55%|████████████████████████████████████████████████████████▍                                              | 546/997 [1:39:28<1:33:45, 12.47s/it]"
     ]
    },
    {
     "name": "stdout",
     "output_type": "stream",
     "text": [
      "Chris Brown Forever 7781988\n"
     ]
    },
    {
     "name": "stderr",
     "output_type": "stream",
     "text": [
      "\r",
      " 55%|████████████████████████████████████████████████████████▌                                              | 547/997 [1:39:38<1:30:02, 12.00s/it]"
     ]
    },
    {
     "name": "stdout",
     "output_type": "stream",
     "text": [
      "No objects to concatenate\n",
      "Mariah Carey We Belong Together 6071988\n"
     ]
    },
    {
     "name": "stderr",
     "output_type": "stream",
     "text": [
      "\r",
      " 55%|████████████████████████████████████████████████████████▌                                              | 548/997 [1:39:59<1:49:15, 14.60s/it]"
     ]
    },
    {
     "name": "stdout",
     "output_type": "stream",
     "text": [
      "Ed Sheeran Perfect 6067988\n"
     ]
    },
    {
     "name": "stderr",
     "output_type": "stream",
     "text": [
      "\r",
      " 55%|████████████████████████████████████████████████████████▋                                              | 549/997 [1:40:20<2:02:59, 16.47s/it]"
     ]
    },
    {
     "name": "stdout",
     "output_type": "stream",
     "text": [
      "A$AP Rocky L$D 6469988\n"
     ]
    },
    {
     "name": "stderr",
     "output_type": "stream",
     "text": [
      "\r",
      " 55%|████████████████████████████████████████████████████████▊                                              | 550/997 [1:40:41<2:12:04, 17.73s/it]"
     ]
    },
    {
     "name": "stdout",
     "output_type": "stream",
     "text": [
      "Shawn Mendes I Know What You Did Last Summer 6978988\n"
     ]
    },
    {
     "name": "stderr",
     "output_type": "stream",
     "text": [
      "\r",
      " 55%|████████████████████████████████████████████████████████▉                                              | 551/997 [1:40:50<1:53:57, 15.33s/it]"
     ]
    },
    {
     "name": "stdout",
     "output_type": "stream",
     "text": [
      "No objects to concatenate\n",
      "Hailee Steinfeld Starving 6353988\n"
     ]
    },
    {
     "name": "stderr",
     "output_type": "stream",
     "text": [
      "\r",
      " 55%|█████████████████████████████████████████████████████████                                              | 552/997 [1:40:59<1:38:12, 13.24s/it]"
     ]
    },
    {
     "name": "stdout",
     "output_type": "stream",
     "text": [
      "No objects to concatenate\n",
      "Snoop Dogg Gin And Juice (feat. Dat Nigga Daz) 7220988\n"
     ]
    },
    {
     "name": "stderr",
     "output_type": "stream",
     "text": [
      "\r",
      " 55%|█████████████████████████████████████████████████████████▏                                             | 553/997 [1:41:08<1:28:53, 12.01s/it]"
     ]
    },
    {
     "name": "stdout",
     "output_type": "stream",
     "text": [
      "No objects to concatenate\n",
      "Drake Signs 6882988\n"
     ]
    },
    {
     "name": "stderr",
     "output_type": "stream",
     "text": [
      "\r",
      " 56%|█████████████████████████████████████████████████████████▏                                             | 554/997 [1:41:24<1:38:05, 13.29s/it]"
     ]
    },
    {
     "name": "stdout",
     "output_type": "stream",
     "text": [
      "No objects to concatenate\n",
      "2 Chainz We Own It (Fast & Furious) 5209988\n"
     ]
    },
    {
     "name": "stderr",
     "output_type": "stream",
     "text": [
      " 56%|█████████████████████████████████████████████████████████▍                                             | 556/997 [1:41:45<1:20:36, 10.97s/it]"
     ]
    },
    {
     "name": "stdout",
     "output_type": "stream",
     "text": [
      "Robin Thicke Blurred Lines 4935988\n",
      "No objects to concatenate\n",
      "Eric Clapton Cocaine 6403988\n"
     ]
    },
    {
     "name": "stderr",
     "output_type": "stream",
     "text": [
      "\r",
      " 56%|██████████████████████████████████████████████████████████▋                                              | 557/997 [1:41:47<59:20,  8.09s/it]"
     ]
    },
    {
     "name": "stdout",
     "output_type": "stream",
     "text": [
      "No objects to concatenate\n",
      "Drake Take Care 5576988\n"
     ]
    },
    {
     "name": "stderr",
     "output_type": "stream",
     "text": [
      "\r",
      " 56%|█████████████████████████████████████████████████████████▋                                             | 558/997 [1:42:02<1:14:55, 10.24s/it]"
     ]
    },
    {
     "name": "stdout",
     "output_type": "stream",
     "text": [
      "No objects to concatenate\n",
      "A Great Big World Say Something 4767988\n"
     ]
    },
    {
     "name": "stderr",
     "output_type": "stream",
     "text": [
      "\r",
      " 56%|██████████████████████████████████████████████████████████▊                                              | 559/997 [1:42:04<56:41,  7.77s/it]"
     ]
    },
    {
     "name": "stdout",
     "output_type": "stream",
     "text": [
      "No objects to concatenate\n",
      "T.I. Whatever You Like 6262988\n"
     ]
    },
    {
     "name": "stderr",
     "output_type": "stream",
     "text": [
      "\r",
      " 56%|█████████████████████████████████████████████████████████▊                                             | 560/997 [1:42:15<1:03:15,  8.69s/it]"
     ]
    },
    {
     "name": "stdout",
     "output_type": "stream",
     "text": [
      "No objects to concatenate\n",
      "Ed Sheeran Castle on the Hill 5304988\n"
     ]
    },
    {
     "name": "stderr",
     "output_type": "stream",
     "text": [
      "\r",
      " 56%|█████████████████████████████████████████████████████████▉                                             | 561/997 [1:42:25<1:05:57,  9.08s/it]"
     ]
    },
    {
     "name": "stdout",
     "output_type": "stream",
     "text": [
      "No objects to concatenate\n",
      "Oasis Champagne Supernova - Remastered 6498989\n"
     ]
    },
    {
     "name": "stderr",
     "output_type": "stream",
     "text": [
      "\r",
      " 56%|███████████████████████████████████████████████████████████▏                                             | 562/997 [1:42:28<52:01,  7.18s/it]"
     ]
    },
    {
     "name": "stdout",
     "output_type": "stream",
     "text": [
      "No objects to concatenate\n",
      "Wale Lotus Flower Bomb - feat. Miguel 4959989\n"
     ]
    },
    {
     "name": "stderr",
     "output_type": "stream",
     "text": [
      "\r",
      " 56%|███████████████████████████████████████████████████████████▎                                             | 563/997 [1:42:38<58:04,  8.03s/it]"
     ]
    },
    {
     "name": "stdout",
     "output_type": "stream",
     "text": [
      "No objects to concatenate\n",
      "Sam Smith Too Good At Goodbyes 5343989\n"
     ]
    },
    {
     "name": "stderr",
     "output_type": "stream",
     "text": [
      "\r",
      " 57%|██████████████████████████████████████████████████████████▎                                            | 564/997 [1:42:58<1:24:51, 11.76s/it]"
     ]
    },
    {
     "name": "stdout",
     "output_type": "stream",
     "text": [
      "Ciara One, Two Step 6289989\n"
     ]
    },
    {
     "name": "stderr",
     "output_type": "stream",
     "text": [
      "\r",
      " 57%|██████████████████████████████████████████████████████████▎                                            | 565/997 [1:43:09<1:22:11, 11.42s/it]"
     ]
    },
    {
     "name": "stdout",
     "output_type": "stream",
     "text": [
      "No objects to concatenate\n",
      "Sam Hunt Take Your Time 3010989\n"
     ]
    },
    {
     "name": "stderr",
     "output_type": "stream",
     "text": [
      "\r",
      " 57%|██████████████████████████████████████████████████████████▍                                            | 566/997 [1:43:11<1:02:21,  8.68s/it]"
     ]
    },
    {
     "name": "stdout",
     "output_type": "stream",
     "text": [
      "No objects to concatenate\n",
      "Ty Dolla $ign Wavy (feat. Joe Moses) 6111989\n"
     ]
    },
    {
     "name": "stderr",
     "output_type": "stream",
     "text": [
      "\r",
      " 57%|██████████████████████████████████████████████████████████▌                                            | 567/997 [1:43:31<1:27:41, 12.24s/it]"
     ]
    },
    {
     "name": "stdout",
     "output_type": "stream",
     "text": [
      "Imagine Dragons It's Time 4570989\n"
     ]
    },
    {
     "name": "stderr",
     "output_type": "stream",
     "text": [
      "\r",
      " 57%|██████████████████████████████████████████████████████████▋                                            | 568/997 [1:43:32<1:01:48,  8.64s/it]"
     ]
    },
    {
     "name": "stdout",
     "output_type": "stream",
     "text": [
      "No objects to concatenate\n",
      "Kendrick Lamar A.D.H.D 5094989\n"
     ]
    },
    {
     "name": "stderr",
     "output_type": "stream",
     "text": [
      "\r",
      " 57%|██████████████████████████████████████████████████████████▊                                            | 569/997 [1:43:41<1:03:07,  8.85s/it]"
     ]
    },
    {
     "name": "stdout",
     "output_type": "stream",
     "text": [
      "No objects to concatenate\n",
      "The Script Hall of Fame 5018989\n"
     ]
    },
    {
     "name": "stderr",
     "output_type": "stream",
     "text": [
      "\r",
      " 57%|████████████████████████████████████████████████████████████                                             | 570/997 [1:43:41<44:56,  6.32s/it]"
     ]
    },
    {
     "name": "stdout",
     "output_type": "stream",
     "text": [
      "No objects to concatenate\n",
      "Martin Garrix Animals - Extended 5069989\n"
     ]
    },
    {
     "name": "stderr",
     "output_type": "stream",
     "text": [
      "\r",
      " 57%|██████████████████████████████████████████████████████████▉                                            | 571/997 [1:43:57<1:03:30,  8.95s/it]"
     ]
    },
    {
     "name": "stdout",
     "output_type": "stream",
     "text": [
      "No objects to concatenate\n",
      "Lil Wayne Lollipop 7061989\n"
     ]
    },
    {
     "name": "stderr",
     "output_type": "stream",
     "text": [
      "\r",
      " 57%|███████████████████████████████████████████████████████████                                            | 572/997 [1:44:06<1:04:52,  9.16s/it]"
     ]
    },
    {
     "name": "stdout",
     "output_type": "stream",
     "text": [
      "No objects to concatenate\n",
      "The Rolling Stones Sympathy For The Devil 7180989\n"
     ]
    },
    {
     "name": "stderr",
     "output_type": "stream",
     "text": [
      "\r",
      " 57%|████████████████████████████████████████████████████████████▎                                            | 573/997 [1:44:08<50:00,  7.08s/it]"
     ]
    },
    {
     "name": "stdout",
     "output_type": "stream",
     "text": [
      "No objects to concatenate\n",
      "Lil Wayne A Milli 5325989\n"
     ]
    },
    {
     "name": "stderr",
     "output_type": "stream",
     "text": [
      "\r",
      " 58%|███████████████████████████████████████████████████████████▎                                           | 574/997 [1:44:29<1:17:57, 11.06s/it]"
     ]
    },
    {
     "name": "stdout",
     "output_type": "stream",
     "text": [
      "No objects to concatenate\n",
      "The Animals House Of The Rising Sun 5338989\n"
     ]
    },
    {
     "name": "stderr",
     "output_type": "stream",
     "text": [
      "\r",
      " 58%|████████████████████████████████████████████████████████████▌                                            | 575/997 [1:44:31<58:35,  8.33s/it]"
     ]
    },
    {
     "name": "stdout",
     "output_type": "stream",
     "text": [
      "No objects to concatenate\n",
      "The Script Breakeven 4100989\n"
     ]
    },
    {
     "name": "stderr",
     "output_type": "stream",
     "text": [
      "\r",
      " 58%|████████████████████████████████████████████████████████████▋                                            | 576/997 [1:44:33<44:42,  6.37s/it]"
     ]
    },
    {
     "name": "stdout",
     "output_type": "stream",
     "text": [
      "No objects to concatenate\n",
      "Twenty One Pilots Tear In My Heart 6107989\n"
     ]
    },
    {
     "name": "stderr",
     "output_type": "stream",
     "text": [
      "\r",
      " 58%|████████████████████████████████████████████████████████████▊                                            | 577/997 [1:44:33<31:41,  4.53s/it]"
     ]
    },
    {
     "name": "stdout",
     "output_type": "stream",
     "text": [
      "No objects to concatenate\n",
      "Birdy Skinny Love 4583989\n"
     ]
    },
    {
     "name": "stderr",
     "output_type": "stream",
     "text": [
      "\r",
      " 58%|████████████████████████████████████████████████████████████▊                                            | 578/997 [1:44:35<25:51,  3.70s/it]"
     ]
    },
    {
     "name": "stdout",
     "output_type": "stream",
     "text": [
      "No objects to concatenate\n",
      "Jeremih Don't Tell 'Em 4965989\n"
     ]
    },
    {
     "name": "stderr",
     "output_type": "stream",
     "text": [
      "\r",
      " 58%|████████████████████████████████████████████████████████████▉                                            | 579/997 [1:44:54<59:49,  8.59s/it]"
     ]
    },
    {
     "name": "stdout",
     "output_type": "stream",
     "text": [
      "No objects to concatenate\n",
      "Jeremih Down On Me 5892989\n"
     ]
    },
    {
     "name": "stderr",
     "output_type": "stream",
     "text": [
      " 58%|█████████████████████████████████████████████████████████████▏                                           | 581/997 [1:45:04<42:56,  6.19s/it]"
     ]
    },
    {
     "name": "stdout",
     "output_type": "stream",
     "text": [
      "No objects to concatenate\n",
      "Ginuwine Pony 5182989\n",
      "No objects to concatenate\n",
      "Luke Bryan Drunk On You 4123989\n"
     ]
    },
    {
     "name": "stderr",
     "output_type": "stream",
     "text": [
      "\r",
      " 58%|█████████████████████████████████████████████████████████████▎                                           | 582/997 [1:45:04<31:08,  4.50s/it]"
     ]
    },
    {
     "name": "stdout",
     "output_type": "stream",
     "text": [
      "No objects to concatenate\n",
      "The Black Keys Howlin' For You 5365989\n"
     ]
    },
    {
     "name": "stderr",
     "output_type": "stream",
     "text": [
      "\r",
      " 58%|█████████████████████████████████████████████████████████████▍                                           | 583/997 [1:45:07<26:51,  3.89s/it]"
     ]
    },
    {
     "name": "stdout",
     "output_type": "stream",
     "text": [
      "No objects to concatenate\n",
      "OMI Cheerleader - Felix Jaehn Remix Radio Edit 5852989\n"
     ]
    },
    {
     "name": "stderr",
     "output_type": "stream",
     "text": [
      "\r",
      " 59%|█████████████████████████████████████████████████████████████▌                                           | 584/997 [1:45:22<49:10,  7.14s/it]"
     ]
    },
    {
     "name": "stdout",
     "output_type": "stream",
     "text": [
      "No objects to concatenate\n",
      "Billy Joel We Didn't Start the Fire 6549989\n"
     ]
    },
    {
     "name": "stderr",
     "output_type": "stream",
     "text": [
      "\r",
      " 59%|█████████████████████████████████████████████████████████████▌                                           | 585/997 [1:45:22<35:01,  5.10s/it]"
     ]
    },
    {
     "name": "stdout",
     "output_type": "stream",
     "text": [
      "No objects to concatenate\n",
      "The xx Intro 7107989\n"
     ]
    },
    {
     "name": "stderr",
     "output_type": "stream",
     "text": [
      "\r",
      " 59%|█████████████████████████████████████████████████████████████▋                                           | 586/997 [1:45:37<55:28,  8.10s/it]"
     ]
    },
    {
     "name": "stdout",
     "output_type": "stream",
     "text": [
      "No objects to concatenate\n",
      "Lil Uzi Vert The Way Life Goes (feat. Oh Wonder) 4921989\n"
     ]
    },
    {
     "name": "stderr",
     "output_type": "stream",
     "text": [
      "\r",
      " 59%|████████████████████████████████████████████████████████████▋                                          | 587/997 [1:45:51<1:06:36,  9.75s/it]"
     ]
    },
    {
     "name": "stdout",
     "output_type": "stream",
     "text": [
      "No objects to concatenate\n",
      "Joey Bada$$ DEVASTATED 5406989\n"
     ]
    },
    {
     "name": "stderr",
     "output_type": "stream",
     "text": [
      "\r",
      " 59%|████████████████████████████████████████████████████████████▋                                          | 588/997 [1:45:59<1:03:05,  9.25s/it]"
     ]
    },
    {
     "name": "stdout",
     "output_type": "stream",
     "text": [
      "No objects to concatenate\n",
      "DJ Khaled For Free 5266989\n"
     ]
    },
    {
     "name": "stderr",
     "output_type": "stream",
     "text": [
      "\r",
      " 59%|████████████████████████████████████████████████████████████▊                                          | 589/997 [1:46:19<1:24:27, 12.42s/it]"
     ]
    },
    {
     "name": "stdout",
     "output_type": "stream",
     "text": [
      "Big Sean Moves 5087989\n"
     ]
    },
    {
     "name": "stderr",
     "output_type": "stream",
     "text": [
      "\r",
      " 59%|████████████████████████████████████████████████████████████▉                                          | 590/997 [1:46:39<1:41:14, 14.92s/it]"
     ]
    },
    {
     "name": "stdout",
     "output_type": "stream",
     "text": [
      "Lil Pump Gucci Gang 5960989\n"
     ]
    },
    {
     "name": "stderr",
     "output_type": "stream",
     "text": [
      "\r",
      " 59%|█████████████████████████████████████████████████████████████                                          | 591/997 [1:47:00<1:53:02, 16.71s/it]"
     ]
    },
    {
     "name": "stdout",
     "output_type": "stream",
     "text": [
      "Future Wicked 4064989\n"
     ]
    },
    {
     "name": "stderr",
     "output_type": "stream",
     "text": [
      "\r",
      " 59%|█████████████████████████████████████████████████████████████▏                                         | 592/997 [1:47:10<1:38:18, 14.56s/it]"
     ]
    },
    {
     "name": "stdout",
     "output_type": "stream",
     "text": [
      "No objects to concatenate\n",
      "DJ Esco Too Much Sauce 4685989\n"
     ]
    },
    {
     "name": "stderr",
     "output_type": "stream",
     "text": [
      "\r",
      " 59%|█████████████████████████████████████████████████████████████▎                                         | 593/997 [1:47:25<1:38:58, 14.70s/it]"
     ]
    },
    {
     "name": "stdout",
     "output_type": "stream",
     "text": [
      "No objects to concatenate\n",
      "Sia Elastic Heart 5176989\n"
     ]
    },
    {
     "name": "stderr",
     "output_type": "stream",
     "text": [
      "\r",
      " 60%|█████████████████████████████████████████████████████████████▎                                         | 594/997 [1:47:45<1:50:34, 16.46s/it]"
     ]
    },
    {
     "name": "stdout",
     "output_type": "stream",
     "text": [
      "The Jackson 5 ABC 4305989\n"
     ]
    },
    {
     "name": "stderr",
     "output_type": "stream",
     "text": [
      "\r",
      " 60%|█████████████████████████████████████████████████████████████▍                                         | 595/997 [1:47:47<1:20:04, 11.95s/it]"
     ]
    },
    {
     "name": "stdout",
     "output_type": "stream",
     "text": [
      "No objects to concatenate\n",
      "Usher I Don't Mind 4222989\n"
     ]
    },
    {
     "name": "stderr",
     "output_type": "stream",
     "text": [
      "\r",
      " 60%|█████████████████████████████████████████████████████████████▌                                         | 596/997 [1:47:56<1:13:53, 11.06s/it]"
     ]
    },
    {
     "name": "stdout",
     "output_type": "stream",
     "text": [
      "No objects to concatenate\n",
      "Adele Rolling in the Deep 5178989\n",
      "No objects to concatenate\n",
      "Childish Gambino Bonfire 3971989\n"
     ]
    },
    {
     "name": "stderr",
     "output_type": "stream",
     "text": [
      "\r",
      " 60%|█████████████████████████████████████████████████████████████▊                                         | 598/997 [1:48:17<1:12:20, 10.88s/it]"
     ]
    },
    {
     "name": "stdout",
     "output_type": "stream",
     "text": [
      "OneRepublic Apologize 4333989\n"
     ]
    },
    {
     "name": "stderr",
     "output_type": "stream",
     "text": [
      "\r",
      " 60%|█████████████████████████████████████████████████████████████▉                                         | 599/997 [1:48:38<1:32:01, 13.87s/it]"
     ]
    },
    {
     "name": "stdout",
     "output_type": "stream",
     "text": [
      "Selena Gomez Kill Em With Kindness 4642989\n"
     ]
    },
    {
     "name": "stderr",
     "output_type": "stream",
     "text": [
      "\r",
      " 60%|█████████████████████████████████████████████████████████████▉                                         | 600/997 [1:48:47<1:22:59, 12.54s/it]"
     ]
    },
    {
     "name": "stdout",
     "output_type": "stream",
     "text": [
      "No objects to concatenate\n",
      "Shawn Mendes There's Nothing Holdin' Me Back 5304989\n"
     ]
    },
    {
     "name": "stderr",
     "output_type": "stream",
     "text": [
      "\r",
      " 60%|██████████████████████████████████████████████████████████████                                         | 601/997 [1:49:00<1:23:10, 12.60s/it]"
     ]
    },
    {
     "name": "stdout",
     "output_type": "stream",
     "text": [
      "No objects to concatenate\n",
      "Selena Gomez Same Old Love 5060989\n"
     ]
    },
    {
     "name": "stderr",
     "output_type": "stream",
     "text": [
      "\r",
      " 60%|██████████████████████████████████████████████████████████████▏                                        | 602/997 [1:49:15<1:27:25, 13.28s/it]"
     ]
    },
    {
     "name": "stdout",
     "output_type": "stream",
     "text": [
      "No objects to concatenate\n",
      "Vance Joy Mess Is Mine 4570989\n"
     ]
    },
    {
     "name": "stderr",
     "output_type": "stream",
     "text": [
      "\r",
      " 60%|██████████████████████████████████████████████████████████████▎                                        | 603/997 [1:49:35<1:41:14, 15.42s/it]"
     ]
    },
    {
     "name": "stdout",
     "output_type": "stream",
     "text": [
      "Demi Lovato Sorry Not Sorry 6311989\n"
     ]
    },
    {
     "name": "stderr",
     "output_type": "stream",
     "text": [
      "\r",
      " 61%|██████████████████████████████████████████████████████████████▍                                        | 604/997 [1:49:56<1:51:14, 16.98s/it]"
     ]
    },
    {
     "name": "stdout",
     "output_type": "stream",
     "text": [
      "Justin Bieber Company 5279989\n"
     ]
    },
    {
     "name": "stderr",
     "output_type": "stream",
     "text": [
      "\r",
      " 61%|██████████████████████████████████████████████████████████████▌                                        | 605/997 [1:50:05<1:36:25, 14.76s/it]"
     ]
    },
    {
     "name": "stdout",
     "output_type": "stream",
     "text": [
      "No objects to concatenate\n",
      "Zedd Clarity 3682989\n",
      "No objects to concatenate\n",
      "Chris Brown With You 5382989\n"
     ]
    },
    {
     "name": "stderr",
     "output_type": "stream",
     "text": [
      "\r",
      " 61%|██████████████████████████████████████████████████████████████▋                                        | 607/997 [1:50:05<1:07:24, 10.37s/it]"
     ]
    },
    {
     "name": "stdout",
     "output_type": "stream",
     "text": [
      "No objects to concatenate\n",
      "Justin Timberlake SexyBack 6886989\n"
     ]
    },
    {
     "name": "stderr",
     "output_type": "stream",
     "text": [
      "\r",
      " 61%|██████████████████████████████████████████████████████████████▊                                        | 608/997 [1:50:16<1:07:25, 10.40s/it]"
     ]
    },
    {
     "name": "stdout",
     "output_type": "stream",
     "text": [
      "No objects to concatenate\n",
      "Passion Pit Take a Walk 5494989\n"
     ]
    },
    {
     "name": "stderr",
     "output_type": "stream",
     "text": [
      "\r",
      " 61%|██████████████████████████████████████████████████████████████▉                                        | 609/997 [1:50:25<1:05:27, 10.12s/it]"
     ]
    },
    {
     "name": "stdout",
     "output_type": "stream",
     "text": [
      "No objects to concatenate\n",
      "Ugly God Water 5849989\n"
     ]
    },
    {
     "name": "stderr",
     "output_type": "stream",
     "text": [
      "\r",
      " 61%|███████████████████████████████████████████████████████████████                                        | 610/997 [1:50:46<1:25:34, 13.27s/it]"
     ]
    },
    {
     "name": "stdout",
     "output_type": "stream",
     "text": [
      "Jonas Blue Perfect Strangers 6538989\n"
     ]
    },
    {
     "name": "stderr",
     "output_type": "stream",
     "text": [
      "\r",
      " 61%|███████████████████████████████████████████████████████████████                                        | 611/997 [1:51:00<1:27:28, 13.60s/it]"
     ]
    },
    {
     "name": "stdout",
     "output_type": "stream",
     "text": [
      "No objects to concatenate\n",
      "Pharrell Williams Happy - From \"Despicable Me 2\" 8132989\n"
     ]
    },
    {
     "name": "stderr",
     "output_type": "stream",
     "text": [
      "\r",
      " 61%|███████████████████████████████████████████████████████████████▏                                       | 612/997 [1:51:11<1:21:24, 12.69s/it]"
     ]
    },
    {
     "name": "stdout",
     "output_type": "stream",
     "text": [
      "No objects to concatenate\n",
      "Luke Bryan Play It Again 3759989\n"
     ]
    },
    {
     "name": "stderr",
     "output_type": "stream",
     "text": [
      "\r",
      " 61%|████████████████████████████████████████████████████████████████▌                                        | 613/997 [1:51:12<57:55,  9.05s/it]"
     ]
    },
    {
     "name": "stdout",
     "output_type": "stream",
     "text": [
      "No objects to concatenate\n",
      "Daryl Hall & John Oates Rich Girl 5525989\n"
     ]
    },
    {
     "name": "stderr",
     "output_type": "stream",
     "text": [
      "\r",
      " 62%|████████████████████████████████████████████████████████████████▋                                        | 614/997 [1:51:14<45:19,  7.10s/it]"
     ]
    },
    {
     "name": "stdout",
     "output_type": "stream",
     "text": [
      "No objects to concatenate\n",
      "Marshmello Silence 6169989\n"
     ]
    },
    {
     "name": "stderr",
     "output_type": "stream",
     "text": [
      "\r",
      " 62%|███████████████████████████████████████████████████████████████▌                                       | 615/997 [1:51:35<1:11:34, 11.24s/it]"
     ]
    },
    {
     "name": "stdout",
     "output_type": "stream",
     "text": [
      "Galantis No Money 6732989\n"
     ]
    },
    {
     "name": "stderr",
     "output_type": "stream",
     "text": [
      "\r",
      " 62%|███████████████████████████████████████████████████████████████▋                                       | 616/997 [1:51:49<1:17:09, 12.15s/it]"
     ]
    },
    {
     "name": "stdout",
     "output_type": "stream",
     "text": [
      "No objects to concatenate\n",
      "Arctic Monkeys Why'd You Only Call Me When You're High? 5582989\n"
     ]
    },
    {
     "name": "stderr",
     "output_type": "stream",
     "text": [
      "\r",
      " 62%|████████████████████████████████████████████████████████████████▉                                        | 617/997 [1:51:51<56:50,  8.97s/it]"
     ]
    },
    {
     "name": "stdout",
     "output_type": "stream",
     "text": [
      "No objects to concatenate\n",
      "Lifehouse You And Me 4135989\n"
     ]
    },
    {
     "name": "stderr",
     "output_type": "stream",
     "text": [
      "\r",
      " 62%|█████████████████████████████████████████████████████████████████                                        | 618/997 [1:52:01<59:50,  9.47s/it]"
     ]
    },
    {
     "name": "stdout",
     "output_type": "stream",
     "text": [
      "No objects to concatenate\n",
      "Arctic Monkeys R U Mine? 5490989\n"
     ]
    },
    {
     "name": "stderr",
     "output_type": "stream",
     "text": [
      "\r",
      " 62%|█████████████████████████████████████████████████████████████████▏                                       | 619/997 [1:52:10<57:57,  9.20s/it]"
     ]
    },
    {
     "name": "stdout",
     "output_type": "stream",
     "text": [
      "No objects to concatenate\n",
      "Mariah Carey All I Want for Christmas Is You 4934989\n"
     ]
    },
    {
     "name": "stderr",
     "output_type": "stream",
     "text": [
      "\r",
      " 62%|█████████████████████████████████████████████████████████████████▎                                       | 620/997 [1:52:11<42:06,  6.70s/it]"
     ]
    },
    {
     "name": "stdout",
     "output_type": "stream",
     "text": [
      "No objects to concatenate\n",
      "Jon Pardi Head Over Boots 5873989\n"
     ]
    },
    {
     "name": "stderr",
     "output_type": "stream",
     "text": [
      "\r",
      " 62%|█████████████████████████████████████████████████████████████████▍                                       | 621/997 [1:52:13<33:56,  5.42s/it]"
     ]
    },
    {
     "name": "stdout",
     "output_type": "stream",
     "text": [
      "No objects to concatenate\n",
      "Beyoncé Partition 6512989\n"
     ]
    },
    {
     "name": "stderr",
     "output_type": "stream",
     "text": [
      "\r",
      " 62%|█████████████████████████████████████████████████████████████████▌                                       | 622/997 [1:52:23<41:21,  6.62s/it]"
     ]
    },
    {
     "name": "stdout",
     "output_type": "stream",
     "text": [
      "No objects to concatenate\n",
      "Niall Horan This Town 4250989\n",
      "No objects to concatenate\n",
      "The Foundations Build Me Up Buttercup 5041989\n"
     ]
    },
    {
     "name": "stderr",
     "output_type": "stream",
     "text": [
      "\r",
      " 63%|█████████████████████████████████████████████████████████████████▋                                       | 624/997 [1:52:24<30:13,  4.86s/it]"
     ]
    },
    {
     "name": "stdout",
     "output_type": "stream",
     "text": [
      "No objects to concatenate\n",
      "The Clash Should I Stay or Should I Go - Remastered 6199989\n"
     ]
    },
    {
     "name": "stderr",
     "output_type": "stream",
     "text": [
      "\r",
      " 63%|█████████████████████████████████████████████████████████████████▊                                       | 625/997 [1:52:28<28:07,  4.54s/it]"
     ]
    },
    {
     "name": "stdout",
     "output_type": "stream",
     "text": [
      "No objects to concatenate\n",
      "G-Eazy Marilyn (feat. Dominique Le Jeune) 5011989\n"
     ]
    },
    {
     "name": "stderr",
     "output_type": "stream",
     "text": [
      "\r",
      " 63%|█████████████████████████████████████████████████████████████████▉                                       | 626/997 [1:52:46<52:55,  8.56s/it]"
     ]
    },
    {
     "name": "stdout",
     "output_type": "stream",
     "text": [
      "No objects to concatenate\n",
      "Akon Smack That - Dirty 6510989\n"
     ]
    },
    {
     "name": "stderr",
     "output_type": "stream",
     "text": [
      "\r",
      " 63%|████████████████████████████████████████████████████████████████▊                                      | 627/997 [1:53:07<1:16:03, 12.33s/it]"
     ]
    },
    {
     "name": "stdout",
     "output_type": "stream",
     "text": [
      "No objects to concatenate\n",
      "Kanye West Good Life 3791989\n"
     ]
    },
    {
     "name": "stderr",
     "output_type": "stream",
     "text": [
      "\r",
      " 63%|██████████████████████████████████████████████████████████████████▏                                      | 628/997 [1:53:09<56:00,  9.11s/it]"
     ]
    },
    {
     "name": "stdout",
     "output_type": "stream",
     "text": [
      "No objects to concatenate\n",
      "The All-American Rejects Gives You Hell 4334989\n",
      "No objects to concatenate\n",
      "The Rolling Stones Start Me Up - Remastered 6329989\n"
     ]
    },
    {
     "name": "stderr",
     "output_type": "stream",
     "text": [
      "\r",
      " 63%|██████████████████████████████████████████████████████████████████▎                                      | 630/997 [1:53:11<41:20,  6.76s/it]"
     ]
    },
    {
     "name": "stdout",
     "output_type": "stream",
     "text": [
      "No objects to concatenate\n",
      "Wiz Khalifa We Dem Boyz 6021989\n"
     ]
    },
    {
     "name": "stderr",
     "output_type": "stream",
     "text": [
      "\r",
      " 63%|██████████████████████████████████████████████████████████████████▍                                      | 631/997 [1:53:21<46:50,  7.68s/it]"
     ]
    },
    {
     "name": "stdout",
     "output_type": "stream",
     "text": [
      "No objects to concatenate\n",
      "Robin Schulz Sugar (feat. Francesco Yates) 4703989\n"
     ]
    },
    {
     "name": "stderr",
     "output_type": "stream",
     "text": [
      " 63%|██████████████████████████████████████████████████████████████████▋                                      | 633/997 [1:53:23<25:42,  4.24s/it]"
     ]
    },
    {
     "name": "stdout",
     "output_type": "stream",
     "text": [
      "No objects to concatenate\n",
      "Kesha Die Young 5627989\n",
      "No objects to concatenate\n",
      "Michael Jackson Billie Jean 5856989\n",
      "No objects to concatenate\n",
      "Kesha Praying 4543989\n"
     ]
    },
    {
     "name": "stderr",
     "output_type": "stream",
     "text": [
      "\r",
      " 64%|██████████████████████████████████████████████████████████████████▉                                      | 635/997 [1:53:34<27:35,  4.57s/it]"
     ]
    },
    {
     "name": "stdout",
     "output_type": "stream",
     "text": [
      "No objects to concatenate\n",
      "J. Cole Apparently 6600989\n"
     ]
    },
    {
     "name": "stderr",
     "output_type": "stream",
     "text": [
      "\r",
      " 64%|██████████████████████████████████████████████████████████████████▉                                      | 636/997 [1:53:44<36:41,  6.10s/it]"
     ]
    },
    {
     "name": "stdout",
     "output_type": "stream",
     "text": [
      "No objects to concatenate\n",
      "Cage The Elephant Ain't No Rest for the Wicked - Original Version 3868989\n"
     ]
    },
    {
     "name": "stderr",
     "output_type": "stream",
     "text": [
      "\r",
      " 64%|███████████████████████████████████████████████████████████████████                                      | 637/997 [1:53:46<30:26,  5.07s/it]"
     ]
    },
    {
     "name": "stdout",
     "output_type": "stream",
     "text": [
      "No objects to concatenate\n",
      "Ms. Lauryn Hill Doo Wop (That Thing) 5432989\n"
     ]
    },
    {
     "name": "stderr",
     "output_type": "stream",
     "text": [
      "\r",
      " 64%|███████████████████████████████████████████████████████████████████▏                                     | 638/997 [1:53:56<38:08,  6.37s/it]"
     ]
    },
    {
     "name": "stdout",
     "output_type": "stream",
     "text": [
      "No objects to concatenate\n",
      "Snakehips All My Friends 6187989\n"
     ]
    },
    {
     "name": "stderr",
     "output_type": "stream",
     "text": [
      "\r",
      " 64%|███████████████████████████████████████████████████████████████████▎                                     | 639/997 [1:53:57<29:04,  4.87s/it]"
     ]
    },
    {
     "name": "stdout",
     "output_type": "stream",
     "text": [
      "No objects to concatenate\n",
      "AWOLNATION Sail 4571989\n"
     ]
    },
    {
     "name": "stderr",
     "output_type": "stream",
     "text": [
      "\r",
      " 64%|███████████████████████████████████████████████████████████████████▍                                     | 640/997 [1:53:58<21:10,  3.56s/it]"
     ]
    },
    {
     "name": "stdout",
     "output_type": "stream",
     "text": [
      "No objects to concatenate\n",
      "Red Hot Chili Peppers Scar Tissue 5310989\n"
     ]
    },
    {
     "name": "stderr",
     "output_type": "stream",
     "text": [
      "\r",
      " 64%|███████████████████████████████████████████████████████████████████▌                                     | 641/997 [1:53:59<17:21,  2.93s/it]"
     ]
    },
    {
     "name": "stdout",
     "output_type": "stream",
     "text": [
      "No objects to concatenate\n",
      "Miley Cyrus Adore You 4296989\n"
     ]
    },
    {
     "name": "stderr",
     "output_type": "stream",
     "text": [
      "\r",
      " 64%|███████████████████████████████████████████████████████████████████▌                                     | 642/997 [1:54:02<16:59,  2.87s/it]"
     ]
    },
    {
     "name": "stdout",
     "output_type": "stream",
     "text": [
      "No objects to concatenate\n",
      "The Police Roxanne - Remastered 2003 6622989\n"
     ]
    },
    {
     "name": "stderr",
     "output_type": "stream",
     "text": [
      "\r",
      " 64%|███████████████████████████████████████████████████████████████████▋                                     | 643/997 [1:54:05<17:06,  2.90s/it]"
     ]
    },
    {
     "name": "stdout",
     "output_type": "stream",
     "text": [
      "No objects to concatenate\n",
      "Fall Out Boy Centuries 5444989\n"
     ]
    },
    {
     "name": "stderr",
     "output_type": "stream",
     "text": [
      "\r",
      " 65%|███████████████████████████████████████████████████████████████████▊                                     | 644/997 [1:54:16<31:56,  5.43s/it]"
     ]
    },
    {
     "name": "stdout",
     "output_type": "stream",
     "text": [
      "No objects to concatenate\n",
      "Macklemore & Ryan Lewis Thrift Shop (feat. Wanz) 5778989\n"
     ]
    },
    {
     "name": "stderr",
     "output_type": "stream",
     "text": [
      "\r",
      " 65%|███████████████████████████████████████████████████████████████████▉                                     | 645/997 [1:54:17<23:23,  3.99s/it]"
     ]
    },
    {
     "name": "stdout",
     "output_type": "stream",
     "text": [
      "No objects to concatenate\n",
      "Zac Brown Band Homegrown 3881989\n"
     ]
    },
    {
     "name": "stderr",
     "output_type": "stream",
     "text": [
      "\r",
      " 65%|████████████████████████████████████████████████████████████████████                                     | 646/997 [1:54:19<20:43,  3.54s/it]"
     ]
    },
    {
     "name": "stdout",
     "output_type": "stream",
     "text": [
      "No objects to concatenate\n",
      "Drake Started From the Bottom 5332989\n"
     ]
    },
    {
     "name": "stderr",
     "output_type": "stream",
     "text": [
      "\r",
      " 65%|████████████████████████████████████████████████████████████████████▏                                    | 647/997 [1:54:40<51:02,  8.75s/it]"
     ]
    },
    {
     "name": "stdout",
     "output_type": "stream",
     "text": [
      "Hozier Someone New 6022989\n"
     ]
    },
    {
     "name": "stderr",
     "output_type": "stream",
     "text": [
      "\r",
      " 65%|████████████████████████████████████████████████████████████████████▏                                    | 648/997 [1:54:51<53:47,  9.25s/it]"
     ]
    },
    {
     "name": "stdout",
     "output_type": "stream",
     "text": [
      "No objects to concatenate\n",
      "Green Day Basket Case 5434989\n"
     ]
    },
    {
     "name": "stderr",
     "output_type": "stream",
     "text": [
      "\r",
      " 65%|████████████████████████████████████████████████████████████████████▎                                    | 649/997 [1:54:51<37:59,  6.55s/it]"
     ]
    },
    {
     "name": "stdout",
     "output_type": "stream",
     "text": [
      "No objects to concatenate\n",
      "Soundgarden Black Hole Sun 5518989\n"
     ]
    },
    {
     "name": "stderr",
     "output_type": "stream",
     "text": [
      "\r",
      " 65%|████████████████████████████████████████████████████████████████████▍                                    | 650/997 [1:54:53<31:07,  5.38s/it]"
     ]
    },
    {
     "name": "stdout",
     "output_type": "stream",
     "text": [
      "No objects to concatenate\n",
      "blackbear do re mi 5521989\n"
     ]
    },
    {
     "name": "stderr",
     "output_type": "stream",
     "text": [
      "\r",
      " 65%|████████████████████████████████████████████████████████████████████▌                                    | 651/997 [1:55:14<57:59, 10.06s/it]"
     ]
    },
    {
     "name": "stdout",
     "output_type": "stream",
     "text": [
      "AC/DC Thunderstruck 5483989\n"
     ]
    },
    {
     "name": "stderr",
     "output_type": "stream",
     "text": [
      "\r",
      " 65%|████████████████████████████████████████████████████████████████████▋                                    | 652/997 [1:55:17<44:24,  7.72s/it]"
     ]
    },
    {
     "name": "stdout",
     "output_type": "stream",
     "text": [
      "No objects to concatenate\n",
      "Rihanna Diamonds 5261989\n"
     ]
    },
    {
     "name": "stderr",
     "output_type": "stream",
     "text": [
      "\r",
      " 65%|████████████████████████████████████████████████████████████████████▊                                    | 653/997 [1:55:27<48:14,  8.41s/it]"
     ]
    },
    {
     "name": "stdout",
     "output_type": "stream",
     "text": [
      "No objects to concatenate\n",
      "Rae Sremmurd No Flex Zone 5330989\n"
     ]
    },
    {
     "name": "stderr",
     "output_type": "stream",
     "text": [
      " 66%|████████████████████████████████████████████████████████████████████▉                                    | 655/997 [1:55:42<42:20,  7.43s/it]"
     ]
    },
    {
     "name": "stdout",
     "output_type": "stream",
     "text": [
      "No objects to concatenate\n",
      "DJ Snake Turn Down for What 5334989\n",
      "No objects to concatenate\n",
      "JAY Z 99 Problems 6231989\n"
     ]
    },
    {
     "name": "stderr",
     "output_type": "stream",
     "text": [
      "\r",
      " 66%|███████████████████████████████████████████████████████████████████▊                                   | 656/997 [1:56:03<1:05:17, 11.49s/it]"
     ]
    },
    {
     "name": "stdout",
     "output_type": "stream",
     "text": [
      "AC/DC Highway to Hell 4442989\n"
     ]
    },
    {
     "name": "stderr",
     "output_type": "stream",
     "text": [
      " 66%|█████████████████████████████████████████████████████████████████████▎                                   | 658/997 [1:56:06<34:39,  6.13s/it]"
     ]
    },
    {
     "name": "stdout",
     "output_type": "stream",
     "text": [
      "No objects to concatenate\n",
      "Bowling For Soup 1985 5463989\n",
      "No objects to concatenate\n",
      "Tom Petty and the Heartbreakers Mary Jane's Last Dance 5214989\n"
     ]
    },
    {
     "name": "stderr",
     "output_type": "stream",
     "text": [
      "\r",
      " 66%|█████████████████████████████████████████████████████████████████████▍                                   | 659/997 [1:56:08<28:07,  4.99s/it]"
     ]
    },
    {
     "name": "stdout",
     "output_type": "stream",
     "text": [
      "No objects to concatenate\n",
      "Drake Legend 5825989\n"
     ]
    },
    {
     "name": "stderr",
     "output_type": "stream",
     "text": [
      "\r",
      " 66%|█████████████████████████████████████████████████████████████████████▌                                   | 660/997 [1:56:23<44:55,  8.00s/it]"
     ]
    },
    {
     "name": "stdout",
     "output_type": "stream",
     "text": [
      "No objects to concatenate\n",
      "Nickelback Rockstar 5431989\n"
     ]
    },
    {
     "name": "stderr",
     "output_type": "stream",
     "text": [
      "\r",
      " 66%|█████████████████████████████████████████████████████████████████████▌                                   | 661/997 [1:56:24<33:52,  6.05s/it]"
     ]
    },
    {
     "name": "stdout",
     "output_type": "stream",
     "text": [
      "No objects to concatenate\n",
      "blackbear Idfc 6038989\n"
     ]
    },
    {
     "name": "stderr",
     "output_type": "stream",
     "text": [
      "\r",
      " 66%|█████████████████████████████████████████████████████████████████████▋                                   | 662/997 [1:56:41<52:00,  9.31s/it]"
     ]
    },
    {
     "name": "stdout",
     "output_type": "stream",
     "text": [
      "No objects to concatenate\n",
      "Starship We Built This City 5893989\n"
     ]
    },
    {
     "name": "stderr",
     "output_type": "stream",
     "text": [
      "\r",
      " 66%|█████████████████████████████████████████████████████████████████████▊                                   | 663/997 [1:56:44<41:02,  7.37s/it]"
     ]
    },
    {
     "name": "stdout",
     "output_type": "stream",
     "text": [
      "No objects to concatenate\n",
      "Miley Cyrus Malibu 5379989\n"
     ]
    },
    {
     "name": "stderr",
     "output_type": "stream",
     "text": [
      "\r",
      " 67%|█████████████████████████████████████████████████████████████████████▉                                   | 664/997 [1:56:57<49:51,  8.98s/it]"
     ]
    },
    {
     "name": "stdout",
     "output_type": "stream",
     "text": [
      "No objects to concatenate\n",
      "Alan Jackson It's Five O' Clock Somewhere 4820989\n"
     ]
    },
    {
     "name": "stderr",
     "output_type": "stream",
     "text": [
      "\r",
      " 67%|██████████████████████████████████████████████████████████████████████                                   | 665/997 [1:57:00<39:28,  7.14s/it]"
     ]
    },
    {
     "name": "stdout",
     "output_type": "stream",
     "text": [
      "No objects to concatenate\n",
      "Kendrick Lamar Poetic Justice 5773989\n"
     ]
    },
    {
     "name": "stderr",
     "output_type": "stream",
     "text": [
      "\r",
      " 67%|██████████████████████████████████████████████████████████████████████▏                                  | 666/997 [1:57:10<44:04,  7.99s/it]"
     ]
    },
    {
     "name": "stdout",
     "output_type": "stream",
     "text": [
      "No objects to concatenate\n",
      "Mario Let Me Love You 6735989\n"
     ]
    },
    {
     "name": "stderr",
     "output_type": "stream",
     "text": [
      "\r",
      " 67%|████████████████████████████████████████████████████████████████████▉                                  | 667/997 [1:57:31<1:05:06, 11.84s/it]"
     ]
    },
    {
     "name": "stdout",
     "output_type": "stream",
     "text": [
      "Creedence Clearwater Revival Bad Moon Rising 5901989\n"
     ]
    },
    {
     "name": "stderr",
     "output_type": "stream",
     "text": [
      "\r",
      " 67%|██████████████████████████████████████████████████████████████████████▎                                  | 668/997 [1:57:33<49:44,  9.07s/it]"
     ]
    },
    {
     "name": "stdout",
     "output_type": "stream",
     "text": [
      "No objects to concatenate\n",
      "Meghan Trainor NO 5094989\n"
     ]
    },
    {
     "name": "stderr",
     "output_type": "stream",
     "text": [
      "\r",
      " 67%|██████████████████████████████████████████████████████████████████████▍                                  | 669/997 [1:57:48<59:16, 10.84s/it]"
     ]
    },
    {
     "name": "stdout",
     "output_type": "stream",
     "text": [
      "No objects to concatenate\n",
      "Zac Brown Band Toes 4825989\n"
     ]
    },
    {
     "name": "stderr",
     "output_type": "stream",
     "text": [
      "\r",
      " 67%|██████████████████████████████████████████████████████████████████████▌                                  | 670/997 [1:57:49<42:36,  7.82s/it]"
     ]
    },
    {
     "name": "stdout",
     "output_type": "stream",
     "text": [
      "No objects to concatenate\n",
      "Disturbed Down With the Sickness 5348989\n"
     ]
    },
    {
     "name": "stderr",
     "output_type": "stream",
     "text": [
      "\r",
      " 67%|█████████████████████████████████████████████████████████████████████▎                                 | 671/997 [1:58:09<1:01:42, 11.36s/it]"
     ]
    },
    {
     "name": "stdout",
     "output_type": "stream",
     "text": [
      "No objects to concatenate\n",
      "Jason Derulo Swalla (feat. Nicki Minaj & Ty Dolla $ign) 6373989\n"
     ]
    },
    {
     "name": "stderr",
     "output_type": "stream",
     "text": [
      "\r",
      " 67%|██████████████████████████████████████████████████████████████████████▊                                  | 672/997 [1:58:17<56:42, 10.47s/it]"
     ]
    },
    {
     "name": "stdout",
     "output_type": "stream",
     "text": [
      "No objects to concatenate\n",
      "Incubus Drive 4769989\n"
     ]
    },
    {
     "name": "stderr",
     "output_type": "stream",
     "text": [
      "\r",
      " 68%|██████████████████████████████████████████████████████████████████████▉                                  | 673/997 [1:58:18<40:35,  7.52s/it]"
     ]
    },
    {
     "name": "stdout",
     "output_type": "stream",
     "text": [
      "No objects to concatenate\n",
      "Blue Swede Hooked on a Feeling 6000989\n"
     ]
    },
    {
     "name": "stderr",
     "output_type": "stream",
     "text": [
      "\r",
      " 68%|██████████████████████████████████████████████████████████████████████▉                                  | 674/997 [1:58:20<32:52,  6.11s/it]"
     ]
    },
    {
     "name": "stdout",
     "output_type": "stream",
     "text": [
      "No objects to concatenate\n",
      "Jason Aldean Dirt Road Anthem 5436989\n"
     ]
    },
    {
     "name": "stderr",
     "output_type": "stream",
     "text": [
      "\r",
      " 68%|███████████████████████████████████████████████████████████████████████                                  | 675/997 [1:58:23<27:20,  5.10s/it]"
     ]
    },
    {
     "name": "stdout",
     "output_type": "stream",
     "text": [
      "No objects to concatenate\n",
      "Green Day Wake Me Up When September Ends 5425989\n"
     ]
    },
    {
     "name": "stderr",
     "output_type": "stream",
     "text": [
      "\r",
      " 68%|███████████████████████████████████████████████████████████████████████▏                                 | 676/997 [1:58:25<21:16,  3.98s/it]"
     ]
    },
    {
     "name": "stdout",
     "output_type": "stream",
     "text": [
      "No objects to concatenate\n",
      "Lord Huron The Night We Met 5419989\n"
     ]
    },
    {
     "name": "stderr",
     "output_type": "stream",
     "text": [
      "\r",
      " 68%|███████████████████████████████████████████████████████████████████████▎                                 | 677/997 [1:58:45<48:15,  9.05s/it]"
     ]
    },
    {
     "name": "stdout",
     "output_type": "stream",
     "text": [
      "Timeflies Once In a While 4496989\n"
     ]
    },
    {
     "name": "stderr",
     "output_type": "stream",
     "text": [
      "\r",
      " 68%|███████████████████████████████████████████████████████████████████████▍                                 | 678/997 [1:58:55<49:08,  9.24s/it]"
     ]
    },
    {
     "name": "stdout",
     "output_type": "stream",
     "text": [
      "No objects to concatenate\n",
      "The Rolling Stones Beast Of Burden - Remastered 7263989\n"
     ]
    },
    {
     "name": "stderr",
     "output_type": "stream",
     "text": [
      "\r",
      " 68%|███████████████████████████████████████████████████████████████████████▌                                 | 679/997 [1:58:58<38:14,  7.21s/it]"
     ]
    },
    {
     "name": "stdout",
     "output_type": "stream",
     "text": [
      "No objects to concatenate\n",
      "Bob Marley & The Wailers Jamming 7279989\n"
     ]
    },
    {
     "name": "stderr",
     "output_type": "stream",
     "text": [
      "\r",
      " 68%|███████████████████████████████████████████████████████████████████████▌                                 | 680/997 [1:58:59<29:10,  5.52s/it]"
     ]
    },
    {
     "name": "stdout",
     "output_type": "stream",
     "text": [
      "No objects to concatenate\n",
      "Queen Fat Bottomed Girls 5988989\n"
     ]
    },
    {
     "name": "stderr",
     "output_type": "stream",
     "text": [
      "\r",
      " 68%|███████████████████████████████████████████████████████████████████████▋                                 | 681/997 [1:59:02<24:25,  4.64s/it]"
     ]
    },
    {
     "name": "stdout",
     "output_type": "stream",
     "text": [
      "No objects to concatenate\n",
      "Drake HYFR (Hell Ya Fucking Right) 5282989\n"
     ]
    },
    {
     "name": "stderr",
     "output_type": "stream",
     "text": [
      "\r",
      " 68%|███████████████████████████████████████████████████████████████████████▊                                 | 682/997 [1:59:22<49:03,  9.34s/it]"
     ]
    },
    {
     "name": "stdout",
     "output_type": "stream",
     "text": [
      "Lil Wayne Rich As Fuck 6408989\n"
     ]
    },
    {
     "name": "stderr",
     "output_type": "stream",
     "text": [
      "\r",
      " 69%|██████████████████████████████████████████████████████████████████████▌                                | 683/997 [1:59:42<1:06:03, 12.62s/it]"
     ]
    },
    {
     "name": "stdout",
     "output_type": "stream",
     "text": [
      "Lil Yachty Minnesota 5776989\n"
     ]
    },
    {
     "name": "stderr",
     "output_type": "stream",
     "text": [
      "\r",
      " 69%|██████████████████████████████████████████████████████████████████████▋                                | 684/997 [1:59:52<1:01:31, 11.80s/it]"
     ]
    },
    {
     "name": "stdout",
     "output_type": "stream",
     "text": [
      "No objects to concatenate\n",
      "Young Thug Relationship (feat. Future) 6877989\n"
     ]
    },
    {
     "name": "stderr",
     "output_type": "stream",
     "text": [
      "\r",
      " 69%|██████████████████████████████████████████████████████████████████████▊                                | 685/997 [2:00:13<1:15:04, 14.44s/it]"
     ]
    },
    {
     "name": "stdout",
     "output_type": "stream",
     "text": [
      "Blackstreet No Diggity 5720989\n"
     ]
    },
    {
     "name": "stderr",
     "output_type": "stream",
     "text": [
      "\r",
      " 69%|██████████████████████████████████████████████████████████████████████▊                                | 686/997 [2:00:22<1:06:31, 12.83s/it]"
     ]
    },
    {
     "name": "stdout",
     "output_type": "stream",
     "text": [
      "No objects to concatenate\n",
      "The Outfield Your Love 4977990\n"
     ]
    },
    {
     "name": "stderr",
     "output_type": "stream",
     "text": [
      "\r",
      " 69%|██████████████████████████████████████████████████████████████████████▉                                | 687/997 [2:00:37<1:10:07, 13.57s/it]"
     ]
    },
    {
     "name": "stdout",
     "output_type": "stream",
     "text": [
      "No objects to concatenate\n",
      "Mike WiLL Made-It 23 5125990\n"
     ]
    },
    {
     "name": "stderr",
     "output_type": "stream",
     "text": [
      "\r",
      " 69%|███████████████████████████████████████████████████████████████████████                                | 688/997 [2:00:47<1:03:42, 12.37s/it]"
     ]
    },
    {
     "name": "stdout",
     "output_type": "stream",
     "text": [
      "No objects to concatenate\n",
      "Sia Chandelier 4253990\n"
     ]
    },
    {
     "name": "stderr",
     "output_type": "stream",
     "text": [
      "\r",
      " 69%|████████████████████████████████████████████████████████████████████████▌                                | 689/997 [2:00:49<47:51,  9.32s/it]"
     ]
    },
    {
     "name": "stdout",
     "output_type": "stream",
     "text": [
      "No objects to concatenate\n",
      "Eminem Not Afraid 4350990\n"
     ]
    },
    {
     "name": "stderr",
     "output_type": "stream",
     "text": [
      "\r",
      " 69%|███████████████████████████████████████████████████████████████████████▎                               | 690/997 [2:01:09<1:04:14, 12.56s/it]"
     ]
    },
    {
     "name": "stdout",
     "output_type": "stream",
     "text": [
      "No objects to concatenate\n",
      "Elton John Tiny Dancer 5171990\n"
     ]
    },
    {
     "name": "stderr",
     "output_type": "stream",
     "text": [
      "\r",
      " 69%|████████████████████████████████████████████████████████████████████████▊                                | 691/997 [2:01:10<45:47,  8.98s/it]"
     ]
    },
    {
     "name": "stdout",
     "output_type": "stream",
     "text": [
      "No objects to concatenate\n",
      "Eminem The Monster 4868990\n"
     ]
    },
    {
     "name": "stderr",
     "output_type": "stream",
     "text": [
      "\r",
      " 69%|███████████████████████████████████████████████████████████████████████▍                               | 692/997 [2:01:30<1:02:11, 12.23s/it]"
     ]
    },
    {
     "name": "stdout",
     "output_type": "stream",
     "text": [
      "No objects to concatenate\n",
      "Kanye West Champions 3634990\n"
     ]
    },
    {
     "name": "stderr",
     "output_type": "stream",
     "text": [
      "\r",
      " 70%|███████████████████████████████████████████████████████████████████████▌                               | 693/997 [2:01:50<1:14:25, 14.69s/it]"
     ]
    },
    {
     "name": "stdout",
     "output_type": "stream",
     "text": [
      "The Black Eyed Peas Where Is The Love? 4427990\n"
     ]
    },
    {
     "name": "stderr",
     "output_type": "stream",
     "text": [
      "\r",
      " 70%|███████████████████████████████████████████████████████████████████████▋                               | 694/997 [2:02:01<1:08:23, 13.54s/it]"
     ]
    },
    {
     "name": "stdout",
     "output_type": "stream",
     "text": [
      "No objects to concatenate\n",
      "Survivor Eye of the Tiger 4345990\n"
     ]
    },
    {
     "name": "stderr",
     "output_type": "stream",
     "text": [
      "\r",
      " 70%|█████████████████████████████████████████████████████████████████████████▏                               | 695/997 [2:02:03<51:10, 10.17s/it]"
     ]
    },
    {
     "name": "stdout",
     "output_type": "stream",
     "text": [
      "No objects to concatenate\n",
      "The Strokes Last Nite 5255990\n"
     ]
    },
    {
     "name": "stderr",
     "output_type": "stream",
     "text": [
      "\r",
      " 70%|█████████████████████████████████████████████████████████████████████████▎                               | 696/997 [2:02:05<39:09,  7.81s/it]"
     ]
    },
    {
     "name": "stdout",
     "output_type": "stream",
     "text": [
      "No objects to concatenate\n",
      "Kid Cudi Pursuit Of Happiness - Extended Steve Aoki Remix (Explicit) 5965990\n"
     ]
    },
    {
     "name": "stderr",
     "output_type": "stream",
     "text": [
      "\r",
      " 70%|█████████████████████████████████████████████████████████████████████████▍                               | 697/997 [2:02:15<41:59,  8.40s/it]"
     ]
    },
    {
     "name": "stdout",
     "output_type": "stream",
     "text": [
      "No objects to concatenate\n",
      "Shawn Mendes Treat You Better 5184990\n"
     ]
    },
    {
     "name": "stderr",
     "output_type": "stream",
     "text": [
      "\r",
      " 70%|█████████████████████████████████████████████████████████████████████████▌                               | 698/997 [2:02:25<43:29,  8.73s/it]"
     ]
    },
    {
     "name": "stdout",
     "output_type": "stream",
     "text": [
      "No objects to concatenate\n",
      "Eric Clapton Wonderful Tonight 5313990\n"
     ]
    },
    {
     "name": "stderr",
     "output_type": "stream",
     "text": [
      "\r",
      " 70%|█████████████████████████████████████████████████████████████████████████▌                               | 699/997 [2:02:43<57:41, 11.62s/it]"
     ]
    },
    {
     "name": "stdout",
     "output_type": "stream",
     "text": [
      "No objects to concatenate\n",
      "Eagles Take It Easy 6769990\n"
     ]
    },
    {
     "name": "stderr",
     "output_type": "stream",
     "text": [
      "\r",
      " 70%|█████████████████████████████████████████████████████████████████████████▋                               | 700/997 [2:02:45<43:41,  8.83s/it]"
     ]
    },
    {
     "name": "stdout",
     "output_type": "stream",
     "text": [
      "No objects to concatenate\n",
      "Frank Ocean Ivy 5280990\n"
     ]
    },
    {
     "name": "stderr",
     "output_type": "stream",
     "text": [
      "\r",
      " 70%|█████████████████████████████████████████████████████████████████████████▊                               | 701/997 [2:03:02<55:31, 11.25s/it]"
     ]
    },
    {
     "name": "stdout",
     "output_type": "stream",
     "text": [
      "No objects to concatenate\n",
      "David Nail Whatever She's Got 4824990\n"
     ]
    },
    {
     "name": "stderr",
     "output_type": "stream",
     "text": [
      " 71%|██████████████████████████████████████████████████████████████████████████                               | 703/997 [2:03:03<27:31,  5.62s/it]"
     ]
    },
    {
     "name": "stdout",
     "output_type": "stream",
     "text": [
      "No objects to concatenate\n",
      "Elvis Presley Can't Help Falling in Love 4193990\n",
      "No objects to concatenate\n",
      "Christina Perri A Thousand Years 4249990\n"
     ]
    },
    {
     "name": "stderr",
     "output_type": "stream",
     "text": [
      "\r",
      " 71%|██████████████████████████████████████████████████████████████████████████▏                              | 704/997 [2:03:13<34:18,  7.02s/it]"
     ]
    },
    {
     "name": "stdout",
     "output_type": "stream",
     "text": [
      "No objects to concatenate\n",
      "Empire of the Sun Walking On A Dream 4540990\n"
     ]
    },
    {
     "name": "stderr",
     "output_type": "stream",
     "text": [
      "\r",
      " 71%|██████████████████████████████████████████████████████████████████████████▏                              | 705/997 [2:03:14<25:50,  5.31s/it]"
     ]
    },
    {
     "name": "stdout",
     "output_type": "stream",
     "text": [
      "No objects to concatenate\n",
      "Flume Drop the Game 5658990\n"
     ]
    },
    {
     "name": "stderr",
     "output_type": "stream",
     "text": [
      "\r",
      " 71%|██████████████████████████████████████████████████████████████████████████▎                              | 706/997 [2:03:16<19:53,  4.10s/it]"
     ]
    },
    {
     "name": "stdout",
     "output_type": "stream",
     "text": [
      "No objects to concatenate\n",
      "Maroon 5 Animals 4242990\n"
     ]
    },
    {
     "name": "stderr",
     "output_type": "stream",
     "text": [
      "\r",
      " 71%|██████████████████████████████████████████████████████████████████████████▍                              | 707/997 [2:03:26<28:59,  6.00s/it]"
     ]
    },
    {
     "name": "stdout",
     "output_type": "stream",
     "text": [
      "No objects to concatenate\n",
      "Maroon 5 Payphone 3848990\n"
     ]
    },
    {
     "name": "stderr",
     "output_type": "stream",
     "text": [
      "\r",
      " 71%|██████████████████████████████████████████████████████████████████████████▌                              | 708/997 [2:03:46<49:02, 10.18s/it]"
     ]
    },
    {
     "name": "stdout",
     "output_type": "stream",
     "text": [
      "No objects to concatenate\n",
      "Elton John Bennie And The Jets - Remastered 2014 4660990\n"
     ]
    },
    {
     "name": "stderr",
     "output_type": "stream",
     "text": [
      "\r",
      " 71%|██████████████████████████████████████████████████████████████████████████▋                              | 709/997 [2:03:49<37:57,  7.91s/it]"
     ]
    },
    {
     "name": "stdout",
     "output_type": "stream",
     "text": [
      "No objects to concatenate\n",
      "Ed Sheeran Galway Girl 6234990\n"
     ]
    },
    {
     "name": "stderr",
     "output_type": "stream",
     "text": [
      "\r",
      " 71%|██████████████████████████████████████████████████████████████████████████▊                              | 710/997 [2:03:59<41:04,  8.59s/it]"
     ]
    },
    {
     "name": "stdout",
     "output_type": "stream",
     "text": [
      "No objects to concatenate\n",
      "Maroon 5 Don't Wanna Know (feat. Kendrick Lamar) 4043990\n"
     ]
    },
    {
     "name": "stderr",
     "output_type": "stream",
     "text": [
      "\r",
      " 71%|██████████████████████████████████████████████████████████████████████████▉                              | 711/997 [2:04:09<42:55,  9.01s/it]"
     ]
    },
    {
     "name": "stdout",
     "output_type": "stream",
     "text": [
      "No objects to concatenate\n",
      "Nick Jonas Jealous - Remix 4932990\n"
     ]
    },
    {
     "name": "stderr",
     "output_type": "stream",
     "text": [
      "\r",
      " 71%|██████████████████████████████████████████████████████████████████████████▉                              | 712/997 [2:04:24<51:06, 10.76s/it]"
     ]
    },
    {
     "name": "stdout",
     "output_type": "stream",
     "text": [
      "No objects to concatenate\n",
      "Meghan Trainor Like I'm Gonna Lose You 4333990\n"
     ]
    },
    {
     "name": "stderr",
     "output_type": "stream",
     "text": [
      "\r",
      " 72%|███████████████████████████████████████████████████████████████████████████                              | 713/997 [2:04:25<36:55,  7.80s/it]"
     ]
    },
    {
     "name": "stdout",
     "output_type": "stream",
     "text": [
      "No objects to concatenate\n",
      "ODESZA Say My Name 5951990\n"
     ]
    },
    {
     "name": "stderr",
     "output_type": "stream",
     "text": [
      "\r",
      " 72%|███████████████████████████████████████████████████████████████████████████▏                             | 714/997 [2:04:39<46:40,  9.90s/it]"
     ]
    },
    {
     "name": "stdout",
     "output_type": "stream",
     "text": [
      "No objects to concatenate\n",
      "Kenny Chesney American Kids 3658990\n"
     ]
    },
    {
     "name": "stderr",
     "output_type": "stream",
     "text": [
      "\r",
      " 72%|███████████████████████████████████████████████████████████████████████████▎                             | 715/997 [2:04:42<36:24,  7.74s/it]"
     ]
    },
    {
     "name": "stdout",
     "output_type": "stream",
     "text": [
      "No objects to concatenate\n",
      "ODESZA Sun Models 5442990\n"
     ]
    },
    {
     "name": "stderr",
     "output_type": "stream",
     "text": [
      "\r",
      " 72%|███████████████████████████████████████████████████████████████████████████▍                             | 716/997 [2:04:57<46:20,  9.89s/it]"
     ]
    },
    {
     "name": "stdout",
     "output_type": "stream",
     "text": [
      "No objects to concatenate\n",
      "Nickelback If Today Was Your Last Day 2800990\n"
     ]
    },
    {
     "name": "stderr",
     "output_type": "stream",
     "text": [
      "\r",
      " 72%|██████████████████████████████████████████████████████████████████████████                             | 717/997 [2:05:17<1:00:50, 13.04s/it]"
     ]
    },
    {
     "name": "stdout",
     "output_type": "stream",
     "text": [
      "Clean Bandit Rockabye (feat. Sean Paul & Anne-Marie) 4847990\n"
     ]
    },
    {
     "name": "stderr",
     "output_type": "stream",
     "text": [
      "\r",
      " 72%|███████████████████████████████████████████████████████████████████████████▌                             | 718/997 [2:05:27<55:57, 12.04s/it]"
     ]
    },
    {
     "name": "stdout",
     "output_type": "stream",
     "text": [
      "No objects to concatenate\n",
      "The Rolling Stones Gimme Shelter 6342990\n"
     ]
    },
    {
     "name": "stderr",
     "output_type": "stream",
     "text": [
      " 72%|███████████████████████████████████████████████████████████████████████████▊                             | 720/997 [2:05:30<29:43,  6.44s/it]"
     ]
    },
    {
     "name": "stdout",
     "output_type": "stream",
     "text": [
      "No objects to concatenate\n",
      "Avicii Wake Me Up - Radio Edit 3750990\n",
      "No objects to concatenate\n",
      "Maroon 5 Cold (feat. Future) 5616990\n"
     ]
    },
    {
     "name": "stderr",
     "output_type": "stream",
     "text": [
      "\r",
      " 72%|███████████████████████████████████████████████████████████████████████████▉                             | 721/997 [2:05:42<38:04,  8.28s/it]"
     ]
    },
    {
     "name": "stdout",
     "output_type": "stream",
     "text": [
      "No objects to concatenate\n",
      "6LACK Ex Calling 4134990\n"
     ]
    },
    {
     "name": "stderr",
     "output_type": "stream",
     "text": [
      "\r",
      " 72%|████████████████████████████████████████████████████████████████████████████                             | 722/997 [2:06:04<56:26, 12.31s/it]"
     ]
    },
    {
     "name": "stdout",
     "output_type": "stream",
     "text": [
      "Marc Anthony Vivir Mi Vida 5234990\n"
     ]
    },
    {
     "name": "stderr",
     "output_type": "stream",
     "text": [
      "\r",
      " 73%|████████████████████████████████████████████████████████████████████████████▏                            | 723/997 [2:06:13<52:37, 11.52s/it]"
     ]
    },
    {
     "name": "stdout",
     "output_type": "stream",
     "text": [
      "No objects to concatenate\n",
      "Avril Lavigne Complicated 4473990\n",
      "No objects to concatenate\n",
      "Fleetwood Mac The Chain - Remastered 5300990\n"
     ]
    },
    {
     "name": "stderr",
     "output_type": "stream",
     "text": [
      "\r",
      " 73%|████████████████████████████████████████████████████████████████████████████▎                            | 725/997 [2:06:16<38:13,  8.43s/it]"
     ]
    },
    {
     "name": "stdout",
     "output_type": "stream",
     "text": [
      "No objects to concatenate\n",
      "Stevie Wonder Superstition - Single Version 5306990\n"
     ]
    },
    {
     "name": "stderr",
     "output_type": "stream",
     "text": [
      "\r",
      " 73%|████████████████████████████████████████████████████████████████████████████▍                            | 726/997 [2:06:17<28:26,  6.30s/it]"
     ]
    },
    {
     "name": "stdout",
     "output_type": "stream",
     "text": [
      "No objects to concatenate\n",
      "Katy Perry California Gurls - feat. Snoop Dogg 5262990\n"
     ]
    },
    {
     "name": "stderr",
     "output_type": "stream",
     "text": [
      "\r",
      " 73%|████████████████████████████████████████████████████████████████████████████▌                            | 727/997 [2:06:28<33:49,  7.52s/it]"
     ]
    },
    {
     "name": "stdout",
     "output_type": "stream",
     "text": [
      "No objects to concatenate\n",
      "Kanye West Runaway 5639990\n"
     ]
    },
    {
     "name": "stderr",
     "output_type": "stream",
     "text": [
      "\r",
      " 73%|████████████████████████████████████████████████████████████████████████████▋                            | 728/997 [2:06:29<25:18,  5.64s/it]"
     ]
    },
    {
     "name": "stdout",
     "output_type": "stream",
     "text": [
      "No objects to concatenate\n",
      "Ellie Goulding On My Mind 5937990\n"
     ]
    },
    {
     "name": "stderr",
     "output_type": "stream",
     "text": [
      "\r",
      " 73%|████████████████████████████████████████████████████████████████████████████▊                            | 729/997 [2:06:31<20:25,  4.57s/it]"
     ]
    },
    {
     "name": "stdout",
     "output_type": "stream",
     "text": [
      "No objects to concatenate\n",
      "Europe The Final Countdown 3253990\n"
     ]
    },
    {
     "name": "stderr",
     "output_type": "stream",
     "text": [
      "\r",
      " 73%|████████████████████████████████████████████████████████████████████████████▉                            | 730/997 [2:06:33<17:11,  3.86s/it]"
     ]
    },
    {
     "name": "stdout",
     "output_type": "stream",
     "text": [
      "No objects to concatenate\n",
      "Nicki Minaj The Night Is Still Young 6359990\n"
     ]
    },
    {
     "name": "stderr",
     "output_type": "stream",
     "text": [
      "\r",
      " 73%|████████████████████████████████████████████████████████████████████████████▉                            | 731/997 [2:06:42<24:14,  5.47s/it]"
     ]
    },
    {
     "name": "stdout",
     "output_type": "stream",
     "text": [
      "No objects to concatenate\n",
      "Kanye West Homecoming 3577990\n"
     ]
    },
    {
     "name": "stderr",
     "output_type": "stream",
     "text": [
      "\r",
      " 73%|█████████████████████████████████████████████████████████████████████████████                            | 732/997 [2:06:52<29:23,  6.66s/it]"
     ]
    },
    {
     "name": "stdout",
     "output_type": "stream",
     "text": [
      "No objects to concatenate\n",
      "Meek Mill R.I.C.O. (feat. Drake) 4553990\n"
     ]
    },
    {
     "name": "stderr",
     "output_type": "stream",
     "text": [
      "\r",
      " 74%|█████████████████████████████████████████████████████████████████████████████▏                           | 733/997 [2:07:07<40:39,  9.24s/it]"
     ]
    },
    {
     "name": "stdout",
     "output_type": "stream",
     "text": [
      "No objects to concatenate\n",
      "Melanie Martinez Pity Party 4443990\n"
     ]
    },
    {
     "name": "stderr",
     "output_type": "stream",
     "text": [
      "\r",
      " 74%|█████████████████████████████████████████████████████████████████████████████▎                           | 734/997 [2:07:17<41:04,  9.37s/it]"
     ]
    },
    {
     "name": "stdout",
     "output_type": "stream",
     "text": [
      "No objects to concatenate\n",
      "Backstreet Boys I Want It That Way 5497990\n"
     ]
    },
    {
     "name": "stderr",
     "output_type": "stream",
     "text": [
      "\r",
      " 74%|█████████████████████████████████████████████████████████████████████████████▍                           | 735/997 [2:07:28<42:59,  9.85s/it]"
     ]
    },
    {
     "name": "stdout",
     "output_type": "stream",
     "text": [
      "No objects to concatenate\n",
      "Old Crow Medicine Show Wagon Wheel 4500990\n"
     ]
    },
    {
     "name": "stderr",
     "output_type": "stream",
     "text": [
      "\r",
      " 74%|█████████████████████████████████████████████████████████████████████████████▌                           | 736/997 [2:07:30<33:11,  7.63s/it]"
     ]
    },
    {
     "name": "stdout",
     "output_type": "stream",
     "text": [
      "No objects to concatenate\n",
      "*NSYNC Bye Bye Bye 4547990\n"
     ]
    },
    {
     "name": "stderr",
     "output_type": "stream",
     "text": [
      "\r",
      " 74%|█████████████████████████████████████████████████████████████████████████████▌                           | 737/997 [2:07:41<36:52,  8.51s/it]"
     ]
    },
    {
     "name": "stdout",
     "output_type": "stream",
     "text": [
      "No objects to concatenate\n",
      "Meek Mill All Eyes On You (feat. Chris Brown & Nicki Minaj) 6744990\n"
     ]
    },
    {
     "name": "stderr",
     "output_type": "stream",
     "text": [
      " 74%|█████████████████████████████████████████████████████████████████████████████▊                           | 739/997 [2:08:02<36:47,  8.55s/it]"
     ]
    },
    {
     "name": "stdout",
     "output_type": "stream",
     "text": [
      "Weezer Beverly Hills 4055990\n",
      "No objects to concatenate\n",
      "SoMo Ride 4042990\n"
     ]
    },
    {
     "name": "stderr",
     "output_type": "stream",
     "text": [
      "\r",
      " 74%|█████████████████████████████████████████████████████████████████████████████▉                           | 740/997 [2:08:11<37:55,  8.85s/it]"
     ]
    },
    {
     "name": "stdout",
     "output_type": "stream",
     "text": [
      "No objects to concatenate\n",
      "ZAYN I Don’t Wanna Live Forever (Fifty Shades Darker) - From \"Fifty Shades Darker (Original Motion Picture Soundtrack)\" 4531990\n"
     ]
    },
    {
     "name": "stderr",
     "output_type": "stream",
     "text": [
      "\r",
      " 74%|██████████████████████████████████████████████████████████████████████████████                           | 741/997 [2:08:21<38:53,  9.12s/it]"
     ]
    },
    {
     "name": "stdout",
     "output_type": "stream",
     "text": [
      "No objects to concatenate\n",
      "Khalid Another Sad Love Song 6852990\n"
     ]
    },
    {
     "name": "stderr",
     "output_type": "stream",
     "text": [
      "\r",
      " 74%|██████████████████████████████████████████████████████████████████████████████▏                          | 742/997 [2:08:42<53:45, 12.65s/it]"
     ]
    },
    {
     "name": "stdout",
     "output_type": "stream",
     "text": [
      "Florida Georgia Line Anything Goes 5793990\n"
     ]
    },
    {
     "name": "stderr",
     "output_type": "stream",
     "text": [
      "\r",
      " 75%|██████████████████████████████████████████████████████████████████████████████▏                          | 743/997 [2:08:44<40:49,  9.64s/it]"
     ]
    },
    {
     "name": "stdout",
     "output_type": "stream",
     "text": [
      "No objects to concatenate\n",
      "Cheat Codes Sex 5791990\n"
     ]
    },
    {
     "name": "stderr",
     "output_type": "stream",
     "text": [
      "\r",
      " 75%|██████████████████████████████████████████████████████████████████████████████▎                          | 744/997 [2:08:54<40:31,  9.61s/it]"
     ]
    },
    {
     "name": "stdout",
     "output_type": "stream",
     "text": [
      "No objects to concatenate\n",
      "P!nk Just Give Me a Reason 4456990\n"
     ]
    },
    {
     "name": "stderr",
     "output_type": "stream",
     "text": [
      "\r",
      " 75%|██████████████████████████████████████████████████████████████████████████████▍                          | 745/997 [2:08:55<29:28,  7.02s/it]"
     ]
    },
    {
     "name": "stdout",
     "output_type": "stream",
     "text": [
      "No objects to concatenate\n",
      "Mac Miller Weekend (feat. Miguel) 5917990\n"
     ]
    },
    {
     "name": "stderr",
     "output_type": "stream",
     "text": [
      "\r",
      " 75%|██████████████████████████████████████████████████████████████████████████████▌                          | 746/997 [2:09:05<32:58,  7.88s/it]"
     ]
    },
    {
     "name": "stdout",
     "output_type": "stream",
     "text": [
      "No objects to concatenate\n",
      "Tame Impala The Less I Know The Better 3451990\n"
     ]
    },
    {
     "name": "stderr",
     "output_type": "stream",
     "text": [
      "\r",
      " 75%|██████████████████████████████████████████████████████████████████████████████▋                          | 747/997 [2:09:15<35:35,  8.54s/it]"
     ]
    },
    {
     "name": "stdout",
     "output_type": "stream",
     "text": [
      "No objects to concatenate\n",
      "Green Day 21 Guns 4300990\n"
     ]
    },
    {
     "name": "stderr",
     "output_type": "stream",
     "text": [
      "\r",
      " 75%|██████████████████████████████████████████████████████████████████████████████▊                          | 748/997 [2:09:35<50:09, 12.09s/it]"
     ]
    },
    {
     "name": "stdout",
     "output_type": "stream",
     "text": [
      "No objects to concatenate\n",
      "Thomas Rhett Star Of The Show 4948990\n"
     ]
    },
    {
     "name": "stderr",
     "output_type": "stream",
     "text": [
      "\r",
      " 75%|██████████████████████████████████████████████████████████████████████████████▉                          | 749/997 [2:09:38<38:06,  9.22s/it]"
     ]
    },
    {
     "name": "stdout",
     "output_type": "stream",
     "text": [
      "No objects to concatenate\n",
      "Thomas Rhett It Goes Like This 4062990\n"
     ]
    },
    {
     "name": "stderr",
     "output_type": "stream",
     "text": [
      "\r",
      " 75%|██████████████████████████████████████████████████████████████████████████████▉                          | 750/997 [2:09:38<27:19,  6.64s/it]"
     ]
    },
    {
     "name": "stdout",
     "output_type": "stream",
     "text": [
      "No objects to concatenate\n",
      "2 Chainz 4 AM 6277990\n"
     ]
    },
    {
     "name": "stderr",
     "output_type": "stream",
     "text": [
      "\r",
      " 75%|███████████████████████████████████████████████████████████████████████████████                          | 751/997 [2:09:59<44:27, 10.84s/it]"
     ]
    },
    {
     "name": "stdout",
     "output_type": "stream",
     "text": [
      "Rae Sremmurd Throw Sum Mo 5053990\n"
     ]
    },
    {
     "name": "stderr",
     "output_type": "stream",
     "text": [
      "\r",
      " 75%|███████████████████████████████████████████████████████████████████████████████▏                         | 752/997 [2:10:20<56:23, 13.81s/it]"
     ]
    },
    {
     "name": "stdout",
     "output_type": "stream",
     "text": [
      "Third Eye Blind Semi-Charmed Life 4472990\n"
     ]
    },
    {
     "name": "stderr",
     "output_type": "stream",
     "text": [
      "\r",
      " 76%|███████████████████████████████████████████████████████████████████████████████▎                         | 753/997 [2:10:21<41:05, 10.11s/it]"
     ]
    },
    {
     "name": "stdout",
     "output_type": "stream",
     "text": [
      "No objects to concatenate\n",
      "Logic Fade Away 5236990\n"
     ]
    },
    {
     "name": "stderr",
     "output_type": "stream",
     "text": [
      "\r",
      " 76%|███████████████████████████████████████████████████████████████████████████████▍                         | 754/997 [2:10:42<53:58, 13.33s/it]"
     ]
    },
    {
     "name": "stdout",
     "output_type": "stream",
     "text": [
      "DJ Khaled I Got the Keys 4766990\n"
     ]
    },
    {
     "name": "stderr",
     "output_type": "stream",
     "text": [
      "\r",
      " 76%|█████████████████████████████████████████████████████████████████████████████▉                         | 755/997 [2:11:03<1:02:52, 15.59s/it]"
     ]
    },
    {
     "name": "stdout",
     "output_type": "stream",
     "text": [
      "Tom Petty and the Heartbreakers American Girl 5209990\n"
     ]
    },
    {
     "name": "stderr",
     "output_type": "stream",
     "text": [
      "\r",
      " 76%|███████████████████████████████████████████████████████████████████████████████▌                         | 756/997 [2:11:05<46:38, 11.61s/it]"
     ]
    },
    {
     "name": "stdout",
     "output_type": "stream",
     "text": [
      "No objects to concatenate\n",
      "Phoenix 1901 4893990\n"
     ]
    },
    {
     "name": "stderr",
     "output_type": "stream",
     "text": [
      "\r",
      " 76%|███████████████████████████████████████████████████████████████████████████████▋                         | 757/997 [2:11:21<51:52, 12.97s/it]"
     ]
    },
    {
     "name": "stdout",
     "output_type": "stream",
     "text": [
      "No objects to concatenate\n",
      "Lil Uzi Vert Seven Million (feat. Future) 4144990\n"
     ]
    },
    {
     "name": "stderr",
     "output_type": "stream",
     "text": [
      "\r",
      " 76%|██████████████████████████████████████████████████████████████████████████████▎                        | 758/997 [2:11:42<1:01:02, 15.33s/it]"
     ]
    },
    {
     "name": "stdout",
     "output_type": "stream",
     "text": [
      "Sam Hunt Leave The Night On 4327990\n"
     ]
    },
    {
     "name": "stderr",
     "output_type": "stream",
     "text": [
      "\r",
      " 76%|███████████████████████████████████████████████████████████████████████████████▉                         | 759/997 [2:11:45<45:40, 11.52s/it]"
     ]
    },
    {
     "name": "stdout",
     "output_type": "stream",
     "text": [
      "No objects to concatenate\n",
      "Young Money BedRock 6840990\n"
     ]
    },
    {
     "name": "stderr",
     "output_type": "stream",
     "text": [
      "\r",
      " 76%|████████████████████████████████████████████████████████████████████████████████                         | 760/997 [2:11:56<45:03, 11.41s/it]"
     ]
    },
    {
     "name": "stdout",
     "output_type": "stream",
     "text": [
      "No objects to concatenate\n",
      "Plain White T's Hey There Delilah 5887990\n"
     ]
    },
    {
     "name": "stderr",
     "output_type": "stream",
     "text": [
      " 76%|████████████████████████████████████████████████████████████████████████████████▎                        | 762/997 [2:11:58<23:29,  6.00s/it]"
     ]
    },
    {
     "name": "stdout",
     "output_type": "stream",
     "text": [
      "No objects to concatenate\n",
      "Daft Punk Get Lucky - Radio Edit 5100990\n",
      "No objects to concatenate\n",
      "Pitbull Timber 6926990\n"
     ]
    },
    {
     "name": "stderr",
     "output_type": "stream",
     "text": [
      "\r",
      " 77%|████████████████████████████████████████████████████████████████████████████████▎                        | 763/997 [2:12:08<28:35,  7.33s/it]"
     ]
    },
    {
     "name": "stdout",
     "output_type": "stream",
     "text": [
      "No objects to concatenate\n",
      "Jimi Hendrix All Along the Watchtower 6826990\n"
     ]
    },
    {
     "name": "stderr",
     "output_type": "stream",
     "text": [
      "\r",
      " 77%|████████████████████████████████████████████████████████████████████████████████▍                        | 764/997 [2:12:10<21:29,  5.53s/it]"
     ]
    },
    {
     "name": "stdout",
     "output_type": "stream",
     "text": [
      "No objects to concatenate\n",
      "Sara Bareilles Love Song 6540990\n",
      "No objects to concatenate\n",
      "Rihanna Umbrella 5800990\n"
     ]
    },
    {
     "name": "stderr",
     "output_type": "stream",
     "text": [
      "\r",
      " 77%|████████████████████████████████████████████████████████████████████████████████▋                        | 766/997 [2:12:21<21:13,  5.51s/it]"
     ]
    },
    {
     "name": "stdout",
     "output_type": "stream",
     "text": [
      "No objects to concatenate\n",
      "Jason Mraz Lucky 4631990\n"
     ]
    },
    {
     "name": "stderr",
     "output_type": "stream",
     "text": [
      "\r",
      " 77%|████████████████████████████████████████████████████████████████████████████████▊                        | 767/997 [2:12:42<39:00, 10.18s/it]"
     ]
    },
    {
     "name": "stdout",
     "output_type": "stream",
     "text": [
      "Daniel Caesar Get You (feat. Kali Uchis) 4076990\n"
     ]
    },
    {
     "name": "stderr",
     "output_type": "stream",
     "text": [
      "\r",
      " 77%|████████████████████████████████████████████████████████████████████████████████▉                        | 768/997 [2:12:59<46:42, 12.24s/it]"
     ]
    },
    {
     "name": "stdout",
     "output_type": "stream",
     "text": [
      "No objects to concatenate\n",
      "Drake Teenage Fever 6011990\n"
     ]
    },
    {
     "name": "stderr",
     "output_type": "stream",
     "text": [
      "\r",
      " 77%|████████████████████████████████████████████████████████████████████████████████▉                        | 769/997 [2:13:19<56:15, 14.80s/it]"
     ]
    },
    {
     "name": "stdout",
     "output_type": "stream",
     "text": [
      "Tim McGraw Live Like You Were Dying 3670990\n"
     ]
    },
    {
     "name": "stderr",
     "output_type": "stream",
     "text": [
      "\r",
      " 77%|█████████████████████████████████████████████████████████████████████████████████                        | 770/997 [2:13:22<42:21, 11.20s/it]"
     ]
    },
    {
     "name": "stdout",
     "output_type": "stream",
     "text": [
      "No objects to concatenate\n",
      "Travis Scott wonderful 4526990\n"
     ]
    },
    {
     "name": "stderr",
     "output_type": "stream",
     "text": [
      "\r",
      " 77%|█████████████████████████████████████████████████████████████████████████████████▏                       | 771/997 [2:13:32<40:14, 10.68s/it]"
     ]
    },
    {
     "name": "stdout",
     "output_type": "stream",
     "text": [
      "No objects to concatenate\n",
      "Halsey New Americana 4283990\n"
     ]
    },
    {
     "name": "stderr",
     "output_type": "stream",
     "text": [
      "\r",
      " 77%|█████████████████████████████████████████████████████████████████████████████████▎                       | 772/997 [2:13:41<38:26, 10.25s/it]"
     ]
    },
    {
     "name": "stdout",
     "output_type": "stream",
     "text": [
      "No objects to concatenate\n",
      "Bubba Sparxxx Ms. New Booty - feat. Ying Yang Twins and Mr. ColliPark 5817990\n"
     ]
    },
    {
     "name": "stderr",
     "output_type": "stream",
     "text": [
      "\r",
      " 78%|█████████████████████████████████████████████████████████████████████████████████▍                       | 773/997 [2:14:02<50:13, 13.45s/it]"
     ]
    },
    {
     "name": "stdout",
     "output_type": "stream",
     "text": [
      "Bon Iver Skinny Love 4725990\n"
     ]
    },
    {
     "name": "stderr",
     "output_type": "stream",
     "text": [
      "\r",
      " 78%|█████████████████████████████████████████████████████████████████████████████████▌                       | 774/997 [2:14:02<35:26,  9.54s/it]"
     ]
    },
    {
     "name": "stdout",
     "output_type": "stream",
     "text": [
      "No objects to concatenate\n",
      "Bon Iver Holocene 4122990\n"
     ]
    },
    {
     "name": "stderr",
     "output_type": "stream",
     "text": [
      "\r",
      " 78%|█████████████████████████████████████████████████████████████████████████████████▌                       | 775/997 [2:14:03<25:04,  6.78s/it]"
     ]
    },
    {
     "name": "stdout",
     "output_type": "stream",
     "text": [
      "No objects to concatenate\n",
      "Lilly Wood and The Prick Prayer in C - Robin Schulz Radio Edit 4049990\n"
     ]
    },
    {
     "name": "stderr",
     "output_type": "stream",
     "text": [
      "\r",
      " 78%|█████████████████████████████████████████████████████████████████████████████████▋                       | 776/997 [2:14:18<34:53,  9.47s/it]"
     ]
    },
    {
     "name": "stdout",
     "output_type": "stream",
     "text": [
      "No objects to concatenate\n",
      "Trey Songz Bottoms Up - feat. Nicki Minaj 6167990\n"
     ]
    },
    {
     "name": "stderr",
     "output_type": "stream",
     "text": [
      "\r",
      " 78%|█████████████████████████████████████████████████████████████████████████████████▊                       | 777/997 [2:14:28<34:51,  9.51s/it]"
     ]
    },
    {
     "name": "stdout",
     "output_type": "stream",
     "text": [
      "No objects to concatenate\n",
      "The 1975 Chocolate 5253990\n"
     ]
    },
    {
     "name": "stderr",
     "output_type": "stream",
     "text": [
      "\r",
      " 78%|█████████████████████████████████████████████████████████████████████████████████▉                       | 778/997 [2:14:38<35:45,  9.80s/it]"
     ]
    },
    {
     "name": "stdout",
     "output_type": "stream",
     "text": [
      "No objects to concatenate\n",
      "Quinn XCII Another Day in Paradise 7264990\n"
     ]
    },
    {
     "name": "stderr",
     "output_type": "stream",
     "text": [
      "\r",
      " 78%|██████████████████████████████████████████████████████████████████████████████████                       | 779/997 [2:14:40<26:21,  7.25s/it]"
     ]
    },
    {
     "name": "stdout",
     "output_type": "stream",
     "text": [
      "No objects to concatenate\n",
      "Jake Owen Barefoot Blue Jean Night 4152990\n"
     ]
    },
    {
     "name": "stderr",
     "output_type": "stream",
     "text": [
      "\r",
      " 78%|██████████████████████████████████████████████████████████████████████████████████▏                      | 780/997 [2:14:42<21:08,  5.84s/it]"
     ]
    },
    {
     "name": "stdout",
     "output_type": "stream",
     "text": [
      "No objects to concatenate\n",
      "Guns N' Roses November Rain 4096990\n"
     ]
    },
    {
     "name": "stderr",
     "output_type": "stream",
     "text": [
      "\r",
      " 78%|██████████████████████████████████████████████████████████████████████████████████▎                      | 781/997 [2:14:44<16:37,  4.62s/it]"
     ]
    },
    {
     "name": "stdout",
     "output_type": "stream",
     "text": [
      "No objects to concatenate\n",
      "Bob Marley & The Wailers Is This Love 5603990\n"
     ]
    },
    {
     "name": "stderr",
     "output_type": "stream",
     "text": [
      "\r",
      " 78%|██████████████████████████████████████████████████████████████████████████████████▎                      | 782/997 [2:14:54<21:54,  6.12s/it]"
     ]
    },
    {
     "name": "stdout",
     "output_type": "stream",
     "text": [
      "No objects to concatenate\n",
      "Bob Marley & The Wailers Could You Be Loved 5684990\n"
     ]
    },
    {
     "name": "stderr",
     "output_type": "stream",
     "text": [
      "\r",
      " 79%|██████████████████████████████████████████████████████████████████████████████████▍                      | 783/997 [2:14:54<15:47,  4.43s/it]"
     ]
    },
    {
     "name": "stdout",
     "output_type": "stream",
     "text": [
      "No objects to concatenate\n",
      "Mumford & Sons I Will Wait 5206990\n"
     ]
    },
    {
     "name": "stderr",
     "output_type": "stream",
     "text": [
      "\r",
      " 79%|██████████████████████████████████████████████████████████████████████████████████▌                      | 784/997 [2:14:55<11:30,  3.24s/it]"
     ]
    },
    {
     "name": "stdout",
     "output_type": "stream",
     "text": [
      "No objects to concatenate\n",
      "The 1975 Somebody Else 4744990\n"
     ]
    },
    {
     "name": "stderr",
     "output_type": "stream",
     "text": [
      "\r",
      " 79%|██████████████████████████████████████████████████████████████████████████████████▋                      | 785/997 [2:15:03<16:40,  4.72s/it]"
     ]
    },
    {
     "name": "stdout",
     "output_type": "stream",
     "text": [
      "No objects to concatenate\n",
      "The 1975 The Sound 4827990\n"
     ]
    },
    {
     "name": "stderr",
     "output_type": "stream",
     "text": [
      "\r",
      " 79%|██████████████████████████████████████████████████████████████████████████████████▊                      | 786/997 [2:15:24<33:51,  9.63s/it]"
     ]
    },
    {
     "name": "stdout",
     "output_type": "stream",
     "text": [
      "Rihanna Don't Stop The Music 6515990\n"
     ]
    },
    {
     "name": "stderr",
     "output_type": "stream",
     "text": [
      "\r",
      " 79%|██████████████████████████████████████████████████████████████████████████████████▉                      | 787/997 [2:15:35<34:59, 10.00s/it]"
     ]
    },
    {
     "name": "stdout",
     "output_type": "stream",
     "text": [
      "No objects to concatenate\n",
      "Calvin Harris Outside 3569990\n"
     ]
    },
    {
     "name": "stderr",
     "output_type": "stream",
     "text": [
      "\r",
      " 79%|██████████████████████████████████████████████████████████████████████████████████▉                      | 788/997 [2:15:50<40:20, 11.58s/it]"
     ]
    },
    {
     "name": "stdout",
     "output_type": "stream",
     "text": [
      "No objects to concatenate\n",
      "Gucci Mane Lemonade 5682990\n"
     ]
    },
    {
     "name": "stderr",
     "output_type": "stream",
     "text": [
      "\r",
      " 79%|███████████████████████████████████████████████████████████████████████████████████                      | 789/997 [2:15:59<37:42, 10.88s/it]"
     ]
    },
    {
     "name": "stdout",
     "output_type": "stream",
     "text": [
      "No objects to concatenate\n",
      "Bill Withers Ain't No Sunshine 4551990\n"
     ]
    },
    {
     "name": "stderr",
     "output_type": "stream",
     "text": [
      "\r",
      " 79%|███████████████████████████████████████████████████████████████████████████████████▏                     | 790/997 [2:16:01<28:04,  8.14s/it]"
     ]
    },
    {
     "name": "stdout",
     "output_type": "stream",
     "text": [
      "No objects to concatenate\n",
      "Pink Floyd Wish You Were Here 5121990\n"
     ]
    },
    {
     "name": "stderr",
     "output_type": "stream",
     "text": [
      "\r",
      " 79%|███████████████████████████████████████████████████████████████████████████████████▎                     | 791/997 [2:16:16<34:55, 10.17s/it]"
     ]
    },
    {
     "name": "stdout",
     "output_type": "stream",
     "text": [
      "No objects to concatenate\n",
      "Lil Uzi Vert 7am 4862990\n"
     ]
    },
    {
     "name": "stderr",
     "output_type": "stream",
     "text": [
      "\r",
      " 79%|███████████████████████████████████████████████████████████████████████████████████▍                     | 792/997 [2:16:26<34:34, 10.12s/it]"
     ]
    },
    {
     "name": "stdout",
     "output_type": "stream",
     "text": [
      "No objects to concatenate\n",
      "Rascal Flatts I Like The Sound Of That 3673990\n"
     ]
    },
    {
     "name": "stderr",
     "output_type": "stream",
     "text": [
      "\r",
      " 80%|███████████████████████████████████████████████████████████████████████████████████▌                     | 793/997 [2:16:28<26:39,  7.84s/it]"
     ]
    },
    {
     "name": "stdout",
     "output_type": "stream",
     "text": [
      "No objects to concatenate\n",
      "NAV Up 5773990\n"
     ]
    },
    {
     "name": "stderr",
     "output_type": "stream",
     "text": [
      "\r",
      " 80%|███████████████████████████████████████████████████████████████████████████████████▌                     | 794/997 [2:16:44<34:19, 10.14s/it]"
     ]
    },
    {
     "name": "stdout",
     "output_type": "stream",
     "text": [
      "No objects to concatenate\n",
      "Taio Cruz Dynamite 4800990\n"
     ]
    },
    {
     "name": "stderr",
     "output_type": "stream",
     "text": [
      "\r",
      " 80%|███████████████████████████████████████████████████████████████████████████████████▋                     | 795/997 [2:17:04<44:14, 13.14s/it]"
     ]
    },
    {
     "name": "stdout",
     "output_type": "stream",
     "text": [
      "No objects to concatenate\n",
      "Josh Turner Hometown Girl 5916990\n"
     ]
    },
    {
     "name": "stderr",
     "output_type": "stream",
     "text": [
      "\r",
      " 80%|███████████████████████████████████████████████████████████████████████████████████▊                     | 796/997 [2:17:07<33:15,  9.93s/it]"
     ]
    },
    {
     "name": "stdout",
     "output_type": "stream",
     "text": [
      "No objects to concatenate\n",
      "Journey Any Way You Want It 4414990\n"
     ]
    },
    {
     "name": "stderr",
     "output_type": "stream",
     "text": [
      "\r",
      " 80%|███████████████████████████████████████████████████████████████████████████████████▉                     | 797/997 [2:17:09<25:31,  7.66s/it]"
     ]
    },
    {
     "name": "stdout",
     "output_type": "stream",
     "text": [
      "No objects to concatenate\n",
      "J. Cole A Tale of 2 Citiez 5701990\n"
     ]
    },
    {
     "name": "stderr",
     "output_type": "stream",
     "text": [
      " 80%|████████████████████████████████████████████████████████████████████████████████████▏                    | 799/997 [2:17:30<26:47,  8.12s/it]"
     ]
    },
    {
     "name": "stdout",
     "output_type": "stream",
     "text": [
      "TLC Waterfalls 5198990\n",
      "No objects to concatenate\n",
      "Usher DJ Got Us Fallin' In Love 6485990\n"
     ]
    },
    {
     "name": "stderr",
     "output_type": "stream",
     "text": [
      "\r",
      " 80%|████████████████████████████████████████████████████████████████████████████████████▎                    | 800/997 [2:17:41<29:25,  8.96s/it]"
     ]
    },
    {
     "name": "stdout",
     "output_type": "stream",
     "text": [
      "No objects to concatenate\n",
      "Chief Keef Hate Bein' Sober 3802990\n"
     ]
    },
    {
     "name": "stderr",
     "output_type": "stream",
     "text": [
      "\r",
      " 80%|████████████████████████████████████████████████████████████████████████████████████▎                    | 801/997 [2:18:01<40:41, 12.46s/it]"
     ]
    },
    {
     "name": "stdout",
     "output_type": "stream",
     "text": [
      "Usher My Boo 3405990\n"
     ]
    },
    {
     "name": "stderr",
     "output_type": "stream",
     "text": [
      "\r",
      " 80%|████████████████████████████████████████████████████████████████████████████████████▍                    | 802/997 [2:18:15<42:14, 13.00s/it]"
     ]
    },
    {
     "name": "stdout",
     "output_type": "stream",
     "text": [
      "No objects to concatenate\n",
      "Natalie La Rose Somebody 3867990\n"
     ]
    },
    {
     "name": "stderr",
     "output_type": "stream",
     "text": [
      "\r",
      " 81%|████████████████████████████████████████████████████████████████████████████████████▌                    | 803/997 [2:18:25<38:43, 11.97s/it]"
     ]
    },
    {
     "name": "stdout",
     "output_type": "stream",
     "text": [
      "No objects to concatenate\n",
      "N.W.A. Straight Outta Compton 5795990\n"
     ]
    },
    {
     "name": "stderr",
     "output_type": "stream",
     "text": [
      "\r",
      " 81%|████████████████████████████████████████████████████████████████████████████████████▋                    | 804/997 [2:18:34<35:51, 11.15s/it]"
     ]
    },
    {
     "name": "stdout",
     "output_type": "stream",
     "text": [
      "No objects to concatenate\n",
      "Panic! At The Disco I Write Sins Not Tragedies 4549990\n",
      "No objects to concatenate\n",
      "Lana Del Rey Young And Beautiful 5141990\n"
     ]
    },
    {
     "name": "stderr",
     "output_type": "stream",
     "text": [
      "\r",
      " 81%|████████████████████████████████████████████████████████████████████████████████████▉                    | 806/997 [2:18:35<24:58,  7.84s/it]"
     ]
    },
    {
     "name": "stdout",
     "output_type": "stream",
     "text": [
      "No objects to concatenate\n",
      "Alesso Heroes (we could be) 5519990\n"
     ]
    },
    {
     "name": "stderr",
     "output_type": "stream",
     "text": [
      "\r",
      " 81%|████████████████████████████████████████████████████████████████████████████████████▉                    | 807/997 [2:18:49<31:34,  9.97s/it]"
     ]
    },
    {
     "name": "stdout",
     "output_type": "stream",
     "text": [
      "No objects to concatenate\n",
      "The Head and the Heart Rivers And Roads 5894990\n"
     ]
    },
    {
     "name": "stderr",
     "output_type": "stream",
     "text": [
      "\r",
      " 81%|█████████████████████████████████████████████████████████████████████████████████████                    | 808/997 [2:19:07<38:12, 12.13s/it]"
     ]
    },
    {
     "name": "stdout",
     "output_type": "stream",
     "text": [
      "No objects to concatenate\n",
      "Icona Pop I Love It (feat. Charli XCX) - feat. Charli XCX [Original Version] 4902990\n"
     ]
    },
    {
     "name": "stderr",
     "output_type": "stream",
     "text": [
      "\r",
      " 81%|█████████████████████████████████████████████████████████████████████████████████████▏                   | 809/997 [2:19:07<26:53,  8.58s/it]"
     ]
    },
    {
     "name": "stdout",
     "output_type": "stream",
     "text": [
      "No objects to concatenate\n",
      "Vance Joy Georgia 4534990\n"
     ]
    },
    {
     "name": "stderr",
     "output_type": "stream",
     "text": [
      "\r",
      " 81%|█████████████████████████████████████████████████████████████████████████████████████▎                   | 810/997 [2:19:07<18:59,  6.09s/it]"
     ]
    },
    {
     "name": "stdout",
     "output_type": "stream",
     "text": [
      "No objects to concatenate\n",
      "Drake Jungle 6118990\n"
     ]
    },
    {
     "name": "stderr",
     "output_type": "stream",
     "text": [
      "\r",
      " 81%|█████████████████████████████████████████████████████████████████████████████████████▍                   | 811/997 [2:19:24<28:54,  9.32s/it]"
     ]
    },
    {
     "name": "stdout",
     "output_type": "stream",
     "text": [
      "No objects to concatenate\n",
      "Franz Ferdinand Take Me Out 5099990\n"
     ]
    },
    {
     "name": "stderr",
     "output_type": "stream",
     "text": [
      "\r",
      " 81%|█████████████████████████████████████████████████████████████████████████████████████▌                   | 812/997 [2:19:27<22:33,  7.32s/it]"
     ]
    },
    {
     "name": "stdout",
     "output_type": "stream",
     "text": [
      "No objects to concatenate\n",
      "T-Pain Dan Bilzerian 4698990\n"
     ]
    },
    {
     "name": "stderr",
     "output_type": "stream",
     "text": [
      "\r",
      " 82%|█████████████████████████████████████████████████████████████████████████████████████▌                   | 813/997 [2:19:47<34:46, 11.34s/it]"
     ]
    },
    {
     "name": "stdout",
     "output_type": "stream",
     "text": [
      "ScHoolboy Q THat Part 4287990\n"
     ]
    },
    {
     "name": "stderr",
     "output_type": "stream",
     "text": [
      "\r",
      " 82%|█████████████████████████████████████████████████████████████████████████████████████▋                   | 814/997 [2:19:57<33:11, 10.88s/it]"
     ]
    },
    {
     "name": "stdout",
     "output_type": "stream",
     "text": [
      "No objects to concatenate\n",
      "YFN Lucci Everyday We Lit (feat. PnB Rock) 4491990\n"
     ]
    },
    {
     "name": "stderr",
     "output_type": "stream",
     "text": [
      "\r",
      " 82%|█████████████████████████████████████████████████████████████████████████████████████▊                   | 815/997 [2:20:13<37:27, 12.35s/it]"
     ]
    },
    {
     "name": "stdout",
     "output_type": "stream",
     "text": [
      "No objects to concatenate\n",
      "Dirty Heads Lay Me Down 5431990\n"
     ]
    },
    {
     "name": "stderr",
     "output_type": "stream",
     "text": [
      "\r",
      " 82%|█████████████████████████████████████████████████████████████████████████████████████▉                   | 816/997 [2:20:15<27:36,  9.15s/it]"
     ]
    },
    {
     "name": "stdout",
     "output_type": "stream",
     "text": [
      "No objects to concatenate\n",
      "Beyoncé Irreplaceable 6550990\n",
      "No objects to concatenate\n"
     ]
    },
    {
     "name": "stderr",
     "output_type": "stream",
     "text": [
      " 82%|██████████████████████████████████████████████████████████████████████████████████████▏                  | 818/997 [2:20:15<13:39,  4.58s/it]"
     ]
    },
    {
     "name": "stdout",
     "output_type": "stream",
     "text": [
      "American Authors Best Day Of My Life 4297990\n",
      "No objects to concatenate\n",
      "J. Cole She Knows 5025990\n"
     ]
    },
    {
     "name": "stderr",
     "output_type": "stream",
     "text": [
      "\r",
      " 82%|██████████████████████████████████████████████████████████████████████████████████████▎                  | 819/997 [2:20:30<22:56,  7.73s/it]"
     ]
    },
    {
     "name": "stdout",
     "output_type": "stream",
     "text": [
      "No objects to concatenate\n",
      "Hozier From Eden 4092990\n"
     ]
    },
    {
     "name": "stderr",
     "output_type": "stream",
     "text": [
      "\r",
      " 82%|██████████████████████████████████████████████████████████████████████████████████████▎                  | 820/997 [2:20:33<18:24,  6.24s/it]"
     ]
    },
    {
     "name": "stdout",
     "output_type": "stream",
     "text": [
      "No objects to concatenate\n",
      "John Denver Take Me Home, Country Roads 6220990\n",
      "No objects to concatenate\n",
      "Chance The Rapper Mixtape (feat. Young Thug & Lil Yachty) 4536990\n"
     ]
    },
    {
     "name": "stderr",
     "output_type": "stream",
     "text": [
      "\r",
      " 82%|██████████████████████████████████████████████████████████████████████████████████████▌                  | 822/997 [2:20:49<19:32,  6.70s/it]"
     ]
    },
    {
     "name": "stdout",
     "output_type": "stream",
     "text": [
      "No objects to concatenate\n",
      "Chance The Rapper Smoke Break (feat. Future) 5212990\n"
     ]
    },
    {
     "name": "stderr",
     "output_type": "stream",
     "text": [
      "\r",
      " 83%|██████████████████████████████████████████████████████████████████████████████████████▋                  | 823/997 [2:21:09<31:19, 10.80s/it]"
     ]
    },
    {
     "name": "stdout",
     "output_type": "stream",
     "text": [
      "Chance The Rapper Summer Friends (feat. Jeremih & Francis & The Lights) 5764990\n"
     ]
    },
    {
     "name": "stderr",
     "output_type": "stream",
     "text": [
      "\r",
      " 83%|██████████████████████████████████████████████████████████████████████████████████████▊                  | 824/997 [2:21:29<39:27, 13.68s/it]"
     ]
    },
    {
     "name": "stdout",
     "output_type": "stream",
     "text": [
      "G-Eazy You Got Me 5019990\n"
     ]
    },
    {
     "name": "stderr",
     "output_type": "stream",
     "text": [
      "\r",
      " 83%|██████████████████████████████████████████████████████████████████████████████████████▉                  | 825/997 [2:21:47<42:40, 14.89s/it]"
     ]
    },
    {
     "name": "stdout",
     "output_type": "stream",
     "text": [
      "No objects to concatenate\n",
      "Bon Jovi It's My Life 5227990\n"
     ]
    },
    {
     "name": "stderr",
     "output_type": "stream",
     "text": [
      "\r",
      " 83%|██████████████████████████████████████████████████████████████████████████████████████▉                  | 826/997 [2:21:49<31:49, 11.17s/it]"
     ]
    },
    {
     "name": "stdout",
     "output_type": "stream",
     "text": [
      "No objects to concatenate\n",
      "Leona Lewis Bleeding Love 5276990\n",
      "No objects to concatenate\n"
     ]
    },
    {
     "name": "stderr",
     "output_type": "stream",
     "text": [
      "\r",
      " 83%|███████████████████████████████████████████████████████████████████████████████████████                  | 827/997 [2:21:50<22:18,  7.87s/it]"
     ]
    },
    {
     "name": "stdout",
     "output_type": "stream",
     "text": [
      "G-Eazy Lady Killers (feat. Hoodie Allen) 4718990\n"
     ]
    },
    {
     "name": "stderr",
     "output_type": "stream",
     "text": [
      "\r",
      " 83%|███████████████████████████████████████████████████████████████████████████████████████▏                 | 828/997 [2:21:59<23:24,  8.31s/it]"
     ]
    },
    {
     "name": "stdout",
     "output_type": "stream",
     "text": [
      "No objects to concatenate\n",
      "The Monkees I'm a Believer 4651990\n"
     ]
    },
    {
     "name": "stderr",
     "output_type": "stream",
     "text": [
      "\r",
      " 83%|███████████████████████████████████████████████████████████████████████████████████████▎                 | 829/997 [2:22:00<17:08,  6.12s/it]"
     ]
    },
    {
     "name": "stdout",
     "output_type": "stream",
     "text": [
      "No objects to concatenate\n",
      "Red Hot Chili Peppers Dani California 3705990\n",
      "No objects to concatenate\n",
      "G-Eazy Calm Down 3484990\n"
     ]
    },
    {
     "name": "stderr",
     "output_type": "stream",
     "text": [
      "\r",
      " 83%|███████████████████████████████████████████████████████████████████████████████████████▌                 | 831/997 [2:22:10<16:00,  5.79s/it]"
     ]
    },
    {
     "name": "stdout",
     "output_type": "stream",
     "text": [
      "No objects to concatenate\n",
      "U2 With Or Without You 6926990\n"
     ]
    },
    {
     "name": "stderr",
     "output_type": "stream",
     "text": [
      "\r",
      " 83%|███████████████████████████████████████████████████████████████████████████████████████▌                 | 832/997 [2:22:10<11:24,  4.15s/it]"
     ]
    },
    {
     "name": "stdout",
     "output_type": "stream",
     "text": [
      "No objects to concatenate\n",
      "Steppenwolf Born To Be Wild 3772991\n"
     ]
    },
    {
     "name": "stderr",
     "output_type": "stream",
     "text": [
      "\r",
      " 84%|███████████████████████████████████████████████████████████████████████████████████████▋                 | 833/997 [2:22:13<09:48,  3.59s/it]"
     ]
    },
    {
     "name": "stdout",
     "output_type": "stream",
     "text": [
      "No objects to concatenate\n",
      "Young Money Trophies 5601991\n"
     ]
    },
    {
     "name": "stderr",
     "output_type": "stream",
     "text": [
      "\r",
      " 84%|███████████████████████████████████████████████████████████████████████████████████████▊                 | 834/997 [2:22:33<23:38,  8.70s/it]"
     ]
    },
    {
     "name": "stdout",
     "output_type": "stream",
     "text": [
      "Logic Alright 4065991\n"
     ]
    },
    {
     "name": "stderr",
     "output_type": "stream",
     "text": [
      "\r",
      " 84%|███████████████████████████████████████████████████████████████████████████████████████▉                 | 835/997 [2:22:43<24:26,  9.05s/it]"
     ]
    },
    {
     "name": "stdout",
     "output_type": "stream",
     "text": [
      "No objects to concatenate\n",
      "Drake Over 5541991\n"
     ]
    },
    {
     "name": "stderr",
     "output_type": "stream",
     "text": [
      "\r",
      " 84%|████████████████████████████████████████████████████████████████████████████████████████                 | 836/997 [2:23:04<33:37, 12.53s/it]"
     ]
    },
    {
     "name": "stdout",
     "output_type": "stream",
     "text": [
      "Young Thug Wyclef Jean 4079991\n"
     ]
    },
    {
     "name": "stderr",
     "output_type": "stream",
     "text": [
      "\r",
      " 84%|████████████████████████████████████████████████████████████████████████████████████████▏                | 837/997 [2:23:12<29:55, 11.22s/it]"
     ]
    },
    {
     "name": "stdout",
     "output_type": "stream",
     "text": [
      "No objects to concatenate\n",
      "DMX Party Up 5100991\n"
     ]
    },
    {
     "name": "stderr",
     "output_type": "stream",
     "text": [
      "\r",
      " 84%|████████████████████████████████████████████████████████████████████████████████████████▎                | 838/997 [2:23:21<28:06, 10.60s/it]"
     ]
    },
    {
     "name": "stdout",
     "output_type": "stream",
     "text": [
      "No objects to concatenate\n",
      "Ellie Goulding Burn 3008991\n"
     ]
    },
    {
     "name": "stderr",
     "output_type": "stream",
     "text": [
      "\r",
      " 84%|████████████████████████████████████████████████████████████████████████████████████████▎                | 839/997 [2:23:36<31:24, 11.93s/it]"
     ]
    },
    {
     "name": "stdout",
     "output_type": "stream",
     "text": [
      "No objects to concatenate\n",
      "Alina Baraz Electric (feat. Khalid) 2578991\n"
     ]
    },
    {
     "name": "stderr",
     "output_type": "stream",
     "text": [
      "\r",
      " 84%|████████████████████████████████████████████████████████████████████████████████████████▍                | 840/997 [2:23:53<35:12, 13.45s/it]"
     ]
    },
    {
     "name": "stdout",
     "output_type": "stream",
     "text": [
      "No objects to concatenate\n",
      "Drake Grammys 4631991\n"
     ]
    },
    {
     "name": "stderr",
     "output_type": "stream",
     "text": [
      "\r",
      " 84%|████████████████████████████████████████████████████████████████████████████████████████▌                | 841/997 [2:24:14<40:23, 15.54s/it]"
     ]
    },
    {
     "name": "stdout",
     "output_type": "stream",
     "text": [
      "Alina Baraz Fantasy 3775991\n"
     ]
    },
    {
     "name": "stderr",
     "output_type": "stream",
     "text": [
      "\r",
      " 84%|████████████████████████████████████████████████████████████████████████████████████████▋                | 842/997 [2:24:15<29:09, 11.29s/it]"
     ]
    },
    {
     "name": "stdout",
     "output_type": "stream",
     "text": [
      "No objects to concatenate\n",
      "Ed Sheeran Dive 5214991\n"
     ]
    },
    {
     "name": "stderr",
     "output_type": "stream",
     "text": [
      "\r",
      " 85%|████████████████████████████████████████████████████████████████████████████████████████▊                | 843/997 [2:24:36<36:23, 14.18s/it]"
     ]
    },
    {
     "name": "stdout",
     "output_type": "stream",
     "text": [
      "T-Pain Up Down (Do This All Day) 2500991\n"
     ]
    },
    {
     "name": "stderr",
     "output_type": "stream",
     "text": [
      "\r",
      " 85%|████████████████████████████████████████████████████████████████████████████████████████▉                | 844/997 [2:24:57<41:20, 16.21s/it]"
     ]
    },
    {
     "name": "stdout",
     "output_type": "stream",
     "text": [
      "Lady Gaga Bad Romance 6747991\n"
     ]
    },
    {
     "name": "stderr",
     "output_type": "stream",
     "text": [
      "\r",
      " 85%|████████████████████████████████████████████████████████████████████████████████████████▉                | 845/997 [2:25:17<44:11, 17.45s/it]"
     ]
    },
    {
     "name": "stdout",
     "output_type": "stream",
     "text": [
      "No objects to concatenate\n",
      "T-Wayne Nasty Freestyle 4839991\n"
     ]
    },
    {
     "name": "stderr",
     "output_type": "stream",
     "text": [
      "\r",
      " 85%|█████████████████████████████████████████████████████████████████████████████████████████                | 846/997 [2:25:38<46:26, 18.45s/it]"
     ]
    },
    {
     "name": "stdout",
     "output_type": "stream",
     "text": [
      "Lady Gaga Poker Face 5483991\n"
     ]
    },
    {
     "name": "stderr",
     "output_type": "stream",
     "text": [
      "\r",
      " 85%|█████████████████████████████████████████████████████████████████████████████████████████▏               | 847/997 [2:25:49<40:36, 16.24s/it]"
     ]
    },
    {
     "name": "stdout",
     "output_type": "stream",
     "text": [
      "No objects to concatenate\n",
      "Ne-Yo Let Me Love You (Until You Learn To Love Yourself) 4019991\n"
     ]
    },
    {
     "name": "stderr",
     "output_type": "stream",
     "text": [
      "\r",
      " 85%|█████████████████████████████████████████████████████████████████████████████████████████▎               | 848/997 [2:26:00<36:26, 14.67s/it]"
     ]
    },
    {
     "name": "stdout",
     "output_type": "stream",
     "text": [
      "No objects to concatenate\n",
      "Andy Grammer Fresh Eyes 3145991\n"
     ]
    },
    {
     "name": "stderr",
     "output_type": "stream",
     "text": [
      "\r",
      " 85%|█████████████████████████████████████████████████████████████████████████████████████████▍               | 849/997 [2:26:09<31:39, 12.84s/it]"
     ]
    },
    {
     "name": "stdout",
     "output_type": "stream",
     "text": [
      "No objects to concatenate\n",
      "Nelly The Fix (feat. Jeremih) 4424991\n"
     ]
    },
    {
     "name": "stderr",
     "output_type": "stream",
     "text": [
      "\r",
      " 85%|█████████████████████████████████████████████████████████████████████████████████████████▌               | 850/997 [2:26:29<37:08, 15.16s/it]"
     ]
    },
    {
     "name": "stdout",
     "output_type": "stream",
     "text": [
      "No objects to concatenate\n",
      "Sugar Ray Every Morning 5739991\n"
     ]
    },
    {
     "name": "stderr",
     "output_type": "stream",
     "text": [
      "\r",
      " 85%|█████████████████████████████████████████████████████████████████████████████████████████▌               | 851/997 [2:26:30<26:46, 11.01s/it]"
     ]
    },
    {
     "name": "stdout",
     "output_type": "stream",
     "text": [
      "No objects to concatenate\n",
      "YG My Nigga 3431991\n"
     ]
    },
    {
     "name": "stderr",
     "output_type": "stream",
     "text": [
      "\r",
      " 85%|█████████████████████████████████████████████████████████████████████████████████████████▋               | 852/997 [2:26:52<33:53, 14.03s/it]"
     ]
    },
    {
     "name": "stdout",
     "output_type": "stream",
     "text": [
      "YG Why You Always Hatin? 3913991\n"
     ]
    },
    {
     "name": "stderr",
     "output_type": "stream",
     "text": [
      "\r",
      " 86%|█████████████████████████████████████████████████████████████████████████████████████████▊               | 853/997 [2:27:03<32:09, 13.40s/it]"
     ]
    },
    {
     "name": "stdout",
     "output_type": "stream",
     "text": [
      "No objects to concatenate\n",
      "DJ Khaled All I Do Is Win 5460991\n"
     ]
    },
    {
     "name": "stderr",
     "output_type": "stream",
     "text": [
      "\r",
      " 86%|█████████████████████████████████████████████████████████████████████████████████████████▉               | 854/997 [2:27:14<29:46, 12.49s/it]"
     ]
    },
    {
     "name": "stdout",
     "output_type": "stream",
     "text": [
      "No objects to concatenate\n",
      "David Guetta Bad (feat. Vassy) - Radio Edit 3881991\n",
      "No objects to concatenate\n",
      "Cream Sunshine Of Your Love 3064991\n"
     ]
    },
    {
     "name": "stderr",
     "output_type": "stream",
     "text": [
      "\r",
      " 86%|██████████████████████████████████████████████████████████████████████████████████████████▏              | 856/997 [2:27:16<21:16,  9.05s/it]"
     ]
    },
    {
     "name": "stdout",
     "output_type": "stream",
     "text": [
      "No objects to concatenate\n",
      "Tal Bachman She's so High 3974991\n"
     ]
    },
    {
     "name": "stderr",
     "output_type": "stream",
     "text": [
      "\r",
      " 86%|██████████████████████████████████████████████████████████████████████████████████████████▎              | 857/997 [2:27:17<15:48,  6.77s/it]"
     ]
    },
    {
     "name": "stdout",
     "output_type": "stream",
     "text": [
      "No objects to concatenate\n",
      "Styx Come Sail Away 5149991\n"
     ]
    },
    {
     "name": "stderr",
     "output_type": "stream",
     "text": [
      "\r",
      " 86%|██████████████████████████████████████████████████████████████████████████████████████████▎              | 858/997 [2:27:20<12:34,  5.43s/it]"
     ]
    },
    {
     "name": "stdout",
     "output_type": "stream",
     "text": [
      "No objects to concatenate\n",
      "David Guetta Bang My Head (feat. Sia & Fetty Wap) 5048991\n"
     ]
    },
    {
     "name": "stderr",
     "output_type": "stream",
     "text": [
      "\r",
      " 86%|██████████████████████████████████████████████████████████████████████████████████████████▍              | 859/997 [2:27:21<09:59,  4.35s/it]"
     ]
    },
    {
     "name": "stdout",
     "output_type": "stream",
     "text": [
      "No objects to concatenate\n",
      "DJ Khaled I'm On One 5379991\n"
     ]
    },
    {
     "name": "stderr",
     "output_type": "stream",
     "text": [
      "\r",
      " 86%|██████████████████████████████████████████████████████████████████████████████████████████▌              | 860/997 [2:27:31<13:27,  5.89s/it]"
     ]
    },
    {
     "name": "stdout",
     "output_type": "stream",
     "text": [
      "No objects to concatenate\n",
      "Nelly Hot In Herre 5188991\n"
     ]
    },
    {
     "name": "stderr",
     "output_type": "stream",
     "text": [
      " 86%|██████████████████████████████████████████████████████████████████████████████████████████▊              | 862/997 [2:27:53<16:59,  7.55s/it]"
     ]
    },
    {
     "name": "stdout",
     "output_type": "stream",
     "text": [
      "Ariana Grande Love Me Harder 4494991\n",
      "No objects to concatenate\n",
      "Lil Wayne How To Love 4592991\n"
     ]
    },
    {
     "name": "stderr",
     "output_type": "stream",
     "text": [
      "\r",
      " 87%|██████████████████████████████████████████████████████████████████████████████████████████▉              | 863/997 [2:27:53<12:03,  5.40s/it]"
     ]
    },
    {
     "name": "stdout",
     "output_type": "stream",
     "text": [
      "No objects to concatenate\n",
      "Nickelback Burn it to the Ground 3729991\n"
     ]
    },
    {
     "name": "stderr",
     "output_type": "stream",
     "text": [
      "\r",
      " 87%|██████████████████████████████████████████████████████████████████████████████████████████▉              | 864/997 [2:27:54<08:38,  3.90s/it]"
     ]
    },
    {
     "name": "stdout",
     "output_type": "stream",
     "text": [
      "No objects to concatenate\n",
      "Tame Impala Feels Like We Only Go Backwards 4753991\n"
     ]
    },
    {
     "name": "stderr",
     "output_type": "stream",
     "text": [
      "\r",
      " 87%|███████████████████████████████████████████████████████████████████████████████████████████              | 865/997 [2:27:56<07:05,  3.22s/it]"
     ]
    },
    {
     "name": "stdout",
     "output_type": "stream",
     "text": [
      "No objects to concatenate\n",
      "Drake With You 4735991\n"
     ]
    },
    {
     "name": "stderr",
     "output_type": "stream",
     "text": [
      "\r",
      " 87%|███████████████████████████████████████████████████████████████████████████████████████████▏             | 866/997 [2:28:17<18:48,  8.61s/it]"
     ]
    },
    {
     "name": "stdout",
     "output_type": "stream",
     "text": [
      "Nickelback How You Remind Me - LP Mix 3889991\n"
     ]
    },
    {
     "name": "stderr",
     "output_type": "stream",
     "text": [
      "\r",
      " 87%|███████████████████████████████████████████████████████████████████████████████████████████▎             | 867/997 [2:28:38<26:40, 12.31s/it]"
     ]
    },
    {
     "name": "stdout",
     "output_type": "stream",
     "text": [
      "Kodak Black Skrt 2774991\n"
     ]
    },
    {
     "name": "stderr",
     "output_type": "stream",
     "text": [
      "\r",
      " 87%|███████████████████████████████████████████████████████████████████████████████████████████▍             | 868/997 [2:28:49<26:05, 12.13s/it]"
     ]
    },
    {
     "name": "stdout",
     "output_type": "stream",
     "text": [
      "No objects to concatenate\n",
      "One Direction Story of My Life 3974991\n"
     ]
    },
    {
     "name": "stderr",
     "output_type": "stream",
     "text": [
      "\r",
      " 87%|███████████████████████████████████████████████████████████████████████████████████████████▌             | 869/997 [2:28:50<18:16,  8.56s/it]"
     ]
    },
    {
     "name": "stdout",
     "output_type": "stream",
     "text": [
      "No objects to concatenate\n",
      "Nirvana All Apologies 3312991\n"
     ]
    },
    {
     "name": "stderr",
     "output_type": "stream",
     "text": [
      "\r",
      " 87%|███████████████████████████████████████████████████████████████████████████████████████████▌             | 870/997 [2:28:52<14:20,  6.78s/it]"
     ]
    },
    {
     "name": "stdout",
     "output_type": "stream",
     "text": [
      "No objects to concatenate\n",
      "Sam Hunt Ex To See 4323991\n"
     ]
    },
    {
     "name": "stderr",
     "output_type": "stream",
     "text": [
      "\r",
      " 87%|███████████████████████████████████████████████████████████████████████████████████████████▋             | 871/997 [2:28:55<11:33,  5.51s/it]"
     ]
    },
    {
     "name": "stdout",
     "output_type": "stream",
     "text": [
      "No objects to concatenate\n",
      "Rupert Holmes Escape (The Pina Colada Song) 5523991\n"
     ]
    },
    {
     "name": "stderr",
     "output_type": "stream",
     "text": [
      "\r",
      " 87%|███████████████████████████████████████████████████████████████████████████████████████████▊             | 872/997 [2:28:57<09:07,  4.38s/it]"
     ]
    },
    {
     "name": "stdout",
     "output_type": "stream",
     "text": [
      "No objects to concatenate\n",
      "Green Day Holiday/Boulevard Of Broken Dreams 3056991\n"
     ]
    },
    {
     "name": "stderr",
     "output_type": "stream",
     "text": [
      "\r",
      " 88%|███████████████████████████████████████████████████████████████████████████████████████████▉             | 873/997 [2:28:58<07:12,  3.48s/it]"
     ]
    },
    {
     "name": "stdout",
     "output_type": "stream",
     "text": [
      "No objects to concatenate\n",
      "Green Day Good Riddance (Time of Your Life) 4638991\n"
     ]
    },
    {
     "name": "stderr",
     "output_type": "stream",
     "text": [
      "\r",
      " 88%|████████████████████████████████████████████████████████████████████████████████████████████             | 874/997 [2:28:58<05:08,  2.51s/it]"
     ]
    },
    {
     "name": "stdout",
     "output_type": "stream",
     "text": [
      "No objects to concatenate\n",
      "Gorillaz Clint Eastwood 4470991\n"
     ]
    },
    {
     "name": "stderr",
     "output_type": "stream",
     "text": [
      "\r",
      " 88%|████████████████████████████████████████████████████████████████████████████████████████████▏            | 875/997 [2:28:58<03:42,  1.83s/it]"
     ]
    },
    {
     "name": "stdout",
     "output_type": "stream",
     "text": [
      "No objects to concatenate\n",
      "Good Charlotte The Anthem 3732991\n"
     ]
    },
    {
     "name": "stderr",
     "output_type": "stream",
     "text": [
      "\r",
      " 88%|████████████████████████████████████████████████████████████████████████████████████████████▎            | 876/997 [2:29:19<15:01,  7.45s/it]"
     ]
    },
    {
     "name": "stdout",
     "output_type": "stream",
     "text": [
      "Thomas Rhett Get Me Some Of That 3101991\n"
     ]
    },
    {
     "name": "stderr",
     "output_type": "stream",
     "text": [
      "\r",
      " 88%|████████████████████████████████████████████████████████████████████████████████████████████▎            | 877/997 [2:29:21<11:53,  5.95s/it]"
     ]
    },
    {
     "name": "stdout",
     "output_type": "stream",
     "text": [
      "No objects to concatenate\n",
      "Thomas Rhett Crash And Burn 5495991\n"
     ]
    },
    {
     "name": "stderr",
     "output_type": "stream",
     "text": [
      "\r",
      " 88%|████████████████████████████████████████████████████████████████████████████████████████████▍            | 878/997 [2:29:24<09:45,  4.92s/it]"
     ]
    },
    {
     "name": "stdout",
     "output_type": "stream",
     "text": [
      "No objects to concatenate\n",
      "Twenty One Pilots House Of Gold 3547991\n"
     ]
    },
    {
     "name": "stderr",
     "output_type": "stream",
     "text": [
      "\r",
      " 88%|████████████████████████████████████████████████████████████████████████████████████████████▌            | 879/997 [2:29:39<15:26,  7.85s/it]"
     ]
    },
    {
     "name": "stdout",
     "output_type": "stream",
     "text": [
      "No objects to concatenate\n",
      "Sam Cooke (What A) Wonderful World - Remastered 4086991\n"
     ]
    },
    {
     "name": "stderr",
     "output_type": "stream",
     "text": [
      "\r",
      " 88%|████████████████████████████████████████████████████████████████████████████████████████████▋            | 880/997 [2:29:40<11:45,  6.03s/it]"
     ]
    },
    {
     "name": "stdout",
     "output_type": "stream",
     "text": [
      "No objects to concatenate\n",
      "Sam Feldt Show Me Love - EDX Remix / Radio Edit 5288991\n"
     ]
    },
    {
     "name": "stderr",
     "output_type": "stream",
     "text": [
      "\r",
      " 88%|████████████████████████████████████████████████████████████████████████████████████████████▊            | 881/997 [2:29:56<17:06,  8.85s/it]"
     ]
    },
    {
     "name": "stdout",
     "output_type": "stream",
     "text": [
      "No objects to concatenate\n",
      "Cascada Everytime We Touch - Radio Edit 4872991\n"
     ]
    },
    {
     "name": "stderr",
     "output_type": "stream",
     "text": [
      "\r",
      " 88%|████████████████████████████████████████████████████████████████████████████████████████████▉            | 882/997 [2:30:07<18:07,  9.46s/it]"
     ]
    },
    {
     "name": "stdout",
     "output_type": "stream",
     "text": [
      "No objects to concatenate\n",
      "Billy Joel Uptown Girl 4267991\n"
     ]
    },
    {
     "name": "stderr",
     "output_type": "stream",
     "text": [
      "\r",
      " 89%|████████████████████████████████████████████████████████████████████████████████████████████▉            | 883/997 [2:30:11<14:53,  7.84s/it]"
     ]
    },
    {
     "name": "stdout",
     "output_type": "stream",
     "text": [
      "No objects to concatenate\n",
      "Ty Dolla $ign Saved (feat. E-40) 4438991\n"
     ]
    },
    {
     "name": "stderr",
     "output_type": "stream",
     "text": [
      "\r",
      " 89%|█████████████████████████████████████████████████████████████████████████████████████████████            | 884/997 [2:30:31<21:50, 11.60s/it]"
     ]
    },
    {
     "name": "stdout",
     "output_type": "stream",
     "text": [
      "Deorro Five More Hours - Deorro x Chris Brown 4013991\n"
     ]
    },
    {
     "name": "stderr",
     "output_type": "stream",
     "text": [
      "\r",
      " 89%|█████████████████████████████████████████████████████████████████████████████████████████████▏           | 885/997 [2:30:41<20:39, 11.06s/it]"
     ]
    },
    {
     "name": "stdout",
     "output_type": "stream",
     "text": [
      "No objects to concatenate\n",
      "Sam Hunt Make You Miss Me 3252991\n"
     ]
    },
    {
     "name": "stderr",
     "output_type": "stream",
     "text": [
      "\r",
      " 89%|█████████████████████████████████████████████████████████████████████████████████████████████▎           | 886/997 [2:30:43<15:44,  8.51s/it]"
     ]
    },
    {
     "name": "stdout",
     "output_type": "stream",
     "text": [
      "No objects to concatenate\n",
      "Big Sean No Favors 4716991\n"
     ]
    },
    {
     "name": "stderr",
     "output_type": "stream",
     "text": [
      "\r",
      " 89%|█████████████████████████████████████████████████████████████████████████████████████████████▍           | 887/997 [2:31:04<22:15, 12.15s/it]"
     ]
    },
    {
     "name": "stdout",
     "output_type": "stream",
     "text": [
      "Big Sean Jump Out The Window 3332991\n"
     ]
    },
    {
     "name": "stderr",
     "output_type": "stream",
     "text": [
      "\r",
      " 89%|█████████████████████████████████████████████████████████████████████████████████████████████▌           | 888/997 [2:31:19<23:48, 13.11s/it]"
     ]
    },
    {
     "name": "stdout",
     "output_type": "stream",
     "text": [
      "No objects to concatenate\n",
      "Big Sean Dance (A$$) Remix 4572991\n"
     ]
    },
    {
     "name": "stderr",
     "output_type": "stream",
     "text": [
      "\r",
      " 89%|█████████████████████████████████████████████████████████████████████████████████████████████▋           | 889/997 [2:31:29<21:38, 12.02s/it]"
     ]
    },
    {
     "name": "stdout",
     "output_type": "stream",
     "text": [
      "No objects to concatenate\n",
      "Chance The Rapper Angels (feat. Saba) 3765991\n"
     ]
    },
    {
     "name": "stderr",
     "output_type": "stream",
     "text": [
      "\r",
      " 89%|█████████████████████████████████████████████████████████████████████████████████████████████▋           | 890/997 [2:31:39<20:15, 11.36s/it]"
     ]
    },
    {
     "name": "stdout",
     "output_type": "stream",
     "text": [
      "No objects to concatenate\n",
      "Big Sean Beware 2718991\n"
     ]
    },
    {
     "name": "stderr",
     "output_type": "stream",
     "text": [
      "\r",
      " 89%|█████████████████████████████████████████████████████████████████████████████████████████████▊           | 891/997 [2:31:55<22:52, 12.95s/it]"
     ]
    },
    {
     "name": "stdout",
     "output_type": "stream",
     "text": [
      "No objects to concatenate\n",
      "Big Pun Still Not a Player (Remix) - Radio Version 4634991\n"
     ]
    },
    {
     "name": "stderr",
     "output_type": "stream",
     "text": [
      "\r",
      " 89%|█████████████████████████████████████████████████████████████████████████████████████████████▉           | 892/997 [2:32:04<20:36, 11.78s/it]"
     ]
    },
    {
     "name": "stdout",
     "output_type": "stream",
     "text": [
      "No objects to concatenate\n",
      "Phillip Phillips Home 4559991\n",
      "No objects to concatenate\n"
     ]
    },
    {
     "name": "stderr",
     "output_type": "stream",
     "text": [
      "\r",
      " 90%|██████████████████████████████████████████████████████████████████████████████████████████████           | 893/997 [2:32:05<14:23,  8.31s/it]"
     ]
    },
    {
     "name": "stdout",
     "output_type": "stream",
     "text": [
      "G-Eazy Random 4470991\n"
     ]
    },
    {
     "name": "stderr",
     "output_type": "stream",
     "text": [
      "\r",
      " 90%|██████████████████████████████████████████████████████████████████████████████████████████████▏          | 894/997 [2:32:25<20:27, 11.92s/it]"
     ]
    },
    {
     "name": "stdout",
     "output_type": "stream",
     "text": [
      "The Weeknd Reminder 4184991\n"
     ]
    },
    {
     "name": "stderr",
     "output_type": "stream",
     "text": [
      "\r",
      " 90%|██████████████████████████████████████████████████████████████████████████████████████████████▎          | 895/997 [2:32:42<22:38, 13.32s/it]"
     ]
    },
    {
     "name": "stdout",
     "output_type": "stream",
     "text": [
      "No objects to concatenate\n",
      "Petit Biscuit Sunset Lover 4329991\n"
     ]
    },
    {
     "name": "stderr",
     "output_type": "stream",
     "text": [
      "\r",
      " 90%|██████████████████████████████████████████████████████████████████████████████████████████████▎          | 896/997 [2:32:58<24:04, 14.30s/it]"
     ]
    },
    {
     "name": "stdout",
     "output_type": "stream",
     "text": [
      "No objects to concatenate\n",
      "Johnny Cash Hurt 3920991\n"
     ]
    },
    {
     "name": "stderr",
     "output_type": "stream",
     "text": [
      "\r",
      " 90%|██████████████████████████████████████████████████████████████████████████████████████████████▍          | 897/997 [2:33:01<18:06, 10.87s/it]"
     ]
    },
    {
     "name": "stdout",
     "output_type": "stream",
     "text": [
      "No objects to concatenate\n",
      "Canaan Smith Love You Like That 3552991\n"
     ]
    },
    {
     "name": "stderr",
     "output_type": "stream",
     "text": [
      "\r",
      " 90%|██████████████████████████████████████████████████████████████████████████████████████████████▌          | 898/997 [2:33:03<13:44,  8.33s/it]"
     ]
    },
    {
     "name": "stdout",
     "output_type": "stream",
     "text": [
      "No objects to concatenate\n",
      "Camila Cabello Crying in the Club 3844991\n"
     ]
    },
    {
     "name": "stderr",
     "output_type": "stream",
     "text": [
      "\r",
      " 90%|██████████████████████████████████████████████████████████████████████████████████████████████▋          | 899/997 [2:33:24<19:31, 11.95s/it]"
     ]
    },
    {
     "name": "stdout",
     "output_type": "stream",
     "text": [
      "Jason Derulo Whatcha Say 4261991\n"
     ]
    },
    {
     "name": "stderr",
     "output_type": "stream",
     "text": [
      "\r",
      " 90%|██████████████████████████████████████████████████████████████████████████████████████████████▊          | 900/997 [2:33:35<18:41, 11.56s/it]"
     ]
    },
    {
     "name": "stdout",
     "output_type": "stream",
     "text": [
      "No objects to concatenate\n",
      "Tim McGraw Just to See You Smile 3695991\n"
     ]
    },
    {
     "name": "stderr",
     "output_type": "stream",
     "text": [
      "\r",
      " 90%|██████████████████████████████████████████████████████████████████████████████████████████████▉          | 901/997 [2:33:35<13:16,  8.30s/it]"
     ]
    },
    {
     "name": "stdout",
     "output_type": "stream",
     "text": [
      "No objects to concatenate\n",
      "Brenda Lee Rockin' Around The Christmas Tree - Single Version 3014991\n"
     ]
    },
    {
     "name": "stderr",
     "output_type": "stream",
     "text": [
      "\r",
      " 90%|██████████████████████████████████████████████████████████████████████████████████████████████▉          | 902/997 [2:33:37<09:55,  6.27s/it]"
     ]
    },
    {
     "name": "stdout",
     "output_type": "stream",
     "text": [
      "No objects to concatenate\n",
      "Imagine Dragons Thunder 4536991\n"
     ]
    },
    {
     "name": "stderr",
     "output_type": "stream",
     "text": [
      "\r",
      " 91%|███████████████████████████████████████████████████████████████████████████████████████████████          | 903/997 [2:33:49<12:50,  8.19s/it]"
     ]
    },
    {
     "name": "stdout",
     "output_type": "stream",
     "text": [
      "No objects to concatenate\n",
      "Tory Lanez Say It 4057991\n"
     ]
    },
    {
     "name": "stderr",
     "output_type": "stream",
     "text": [
      "\r",
      " 91%|███████████████████████████████████████████████████████████████████████████████████████████████▏         | 904/997 [2:34:10<18:19, 11.82s/it]"
     ]
    },
    {
     "name": "stdout",
     "output_type": "stream",
     "text": [
      "Iggy Azalea Fancy 4259991\n"
     ]
    },
    {
     "name": "stderr",
     "output_type": "stream",
     "text": [
      "\r",
      " 91%|███████████████████████████████████████████████████████████████████████████████████████████████▎         | 905/997 [2:34:29<21:47, 14.21s/it]"
     ]
    },
    {
     "name": "stdout",
     "output_type": "stream",
     "text": [
      "No objects to concatenate\n",
      "Brett Eldredge Beat Of The Music 3667991\n"
     ]
    },
    {
     "name": "stderr",
     "output_type": "stream",
     "text": [
      "\r",
      " 91%|███████████████████████████████████████████████████████████████████████████████████████████████▍         | 906/997 [2:34:30<15:20, 10.11s/it]"
     ]
    },
    {
     "name": "stdout",
     "output_type": "stream",
     "text": [
      "No objects to concatenate\n",
      "Tove Lo Talking Body 4761991\n"
     ]
    },
    {
     "name": "stderr",
     "output_type": "stream",
     "text": [
      "\r",
      " 91%|███████████████████████████████████████████████████████████████████████████████████████████████▌         | 907/997 [2:34:30<10:43,  7.15s/it]"
     ]
    },
    {
     "name": "stdout",
     "output_type": "stream",
     "text": [
      "No objects to concatenate\n",
      "Brett Eldredge Drunk On Your Love 3995991\n"
     ]
    },
    {
     "name": "stderr",
     "output_type": "stream",
     "text": [
      "\r",
      " 91%|███████████████████████████████████████████████████████████████████████████████████████████████▋         | 908/997 [2:34:33<08:31,  5.75s/it]"
     ]
    },
    {
     "name": "stdout",
     "output_type": "stream",
     "text": [
      "No objects to concatenate\n",
      "Iyaz Replay 5739991\n"
     ]
    },
    {
     "name": "stderr",
     "output_type": "stream",
     "text": [
      "\r",
      " 91%|███████████████████████████████████████████████████████████████████████████████████████████████▋         | 909/997 [2:34:43<10:34,  7.20s/it]"
     ]
    },
    {
     "name": "stdout",
     "output_type": "stream",
     "text": [
      "No objects to concatenate\n",
      "Hunter Hayes Wanted 4376991\n"
     ]
    },
    {
     "name": "stderr",
     "output_type": "stream",
     "text": [
      "\r",
      " 91%|███████████████████████████████████████████████████████████████████████████████████████████████▊         | 910/997 [2:34:44<07:35,  5.23s/it]"
     ]
    },
    {
     "name": "stdout",
     "output_type": "stream",
     "text": [
      "No objects to concatenate\n",
      "Brothers Osborne Stay A Little Longer 3639991\n"
     ]
    },
    {
     "name": "stderr",
     "output_type": "stream",
     "text": [
      "\r",
      " 91%|███████████████████████████████████████████████████████████████████████████████████████████████▉         | 911/997 [2:34:46<06:19,  4.41s/it]"
     ]
    },
    {
     "name": "stdout",
     "output_type": "stream",
     "text": [
      "No objects to concatenate\n",
      "Rick Astley Never Gonna Give You Up 4866991\n"
     ]
    },
    {
     "name": "stderr",
     "output_type": "stream",
     "text": [
      "\r",
      " 91%|████████████████████████████████████████████████████████████████████████████████████████████████         | 912/997 [2:34:49<05:20,  3.78s/it]"
     ]
    },
    {
     "name": "stdout",
     "output_type": "stream",
     "text": [
      "No objects to concatenate\n",
      "JAY Z Holy Grail 4268991\n"
     ]
    },
    {
     "name": "stderr",
     "output_type": "stream",
     "text": [
      "\r",
      " 92%|████████████████████████████████████████████████████████████████████████████████████████████████▏        | 913/997 [2:35:09<12:12,  8.72s/it]"
     ]
    },
    {
     "name": "stdout",
     "output_type": "stream",
     "text": [
      "Dire Straits Sultans Of Swing 4002991\n"
     ]
    },
    {
     "name": "stderr",
     "output_type": "stream",
     "text": [
      "\r",
      " 92%|████████████████████████████████████████████████████████████████████████████████████████████████▎        | 914/997 [2:35:09<08:34,  6.20s/it]"
     ]
    },
    {
     "name": "stdout",
     "output_type": "stream",
     "text": [
      "No objects to concatenate\n",
      "Trapt Headstrong 3437991\n"
     ]
    },
    {
     "name": "stderr",
     "output_type": "stream",
     "text": [
      "\r",
      " 92%|████████████████████████████████████████████████████████████████████████████████████████████████▎        | 915/997 [2:35:19<09:49,  7.19s/it]"
     ]
    },
    {
     "name": "stdout",
     "output_type": "stream",
     "text": [
      "No objects to concatenate\n",
      "Bryson Tiller Right My Wrongs 3931991\n"
     ]
    },
    {
     "name": "stderr",
     "output_type": "stream",
     "text": [
      "\r",
      " 92%|████████████████████████████████████████████████████████████████████████████████████████████████▍        | 916/997 [2:35:35<13:29,  9.99s/it]"
     ]
    },
    {
     "name": "stdout",
     "output_type": "stream",
     "text": [
      "No objects to concatenate\n",
      "Dierks Bentley Somewhere On A Beach 2279991\n"
     ]
    },
    {
     "name": "stderr",
     "output_type": "stream",
     "text": [
      "\r",
      " 92%|████████████████████████████████████████████████████████████████████████████████████████████████▌        | 917/997 [2:35:38<10:19,  7.74s/it]"
     ]
    },
    {
     "name": "stdout",
     "output_type": "stream",
     "text": [
      "No objects to concatenate\n",
      "Travis Porter Ayy Ladies 3593991\n"
     ]
    },
    {
     "name": "stderr",
     "output_type": "stream",
     "text": [
      "\r",
      " 92%|████████████████████████████████████████████████████████████████████████████████████████████████▋        | 918/997 [2:35:48<10:57,  8.32s/it]"
     ]
    },
    {
     "name": "stdout",
     "output_type": "stream",
     "text": [
      "No objects to concatenate\n",
      "Travis Scott through the late night 3621991\n"
     ]
    },
    {
     "name": "stderr",
     "output_type": "stream",
     "text": [
      "\r",
      " 92%|████████████████████████████████████████████████████████████████████████████████████████████████▊        | 919/997 [2:36:08<15:34, 11.99s/it]"
     ]
    },
    {
     "name": "stdout",
     "output_type": "stream",
     "text": [
      "Rod Stewart Maggie May 4268991\n"
     ]
    },
    {
     "name": "stderr",
     "output_type": "stream",
     "text": [
      "\r",
      " 92%|████████████████████████████████████████████████████████████████████████████████████████████████▉        | 920/997 [2:36:23<16:37, 12.96s/it]"
     ]
    },
    {
     "name": "stdout",
     "output_type": "stream",
     "text": [
      "No objects to concatenate\n",
      "Jack Johnson Sitting, Waiting, Wishing 4132991\n"
     ]
    },
    {
     "name": "stderr",
     "output_type": "stream",
     "text": [
      "\r",
      " 92%|████████████████████████████████████████████████████████████████████████████████████████████████▉        | 921/997 [2:36:25<12:16,  9.69s/it]"
     ]
    },
    {
     "name": "stdout",
     "output_type": "stream",
     "text": [
      "No objects to concatenate\n",
      "Cage The Elephant Come a Little Closer 4758991\n"
     ]
    },
    {
     "name": "stderr",
     "output_type": "stream",
     "text": [
      "\r",
      " 92%|█████████████████████████████████████████████████████████████████████████████████████████████████        | 922/997 [2:36:27<09:03,  7.24s/it]"
     ]
    },
    {
     "name": "stdout",
     "output_type": "stream",
     "text": [
      "No objects to concatenate\n",
      "Cage The Elephant Trouble 4528991\n"
     ]
    },
    {
     "name": "stderr",
     "output_type": "stream",
     "text": [
      "\r",
      " 93%|█████████████████████████████████████████████████████████████████████████████████████████████████▏       | 923/997 [2:36:41<11:28,  9.30s/it]"
     ]
    },
    {
     "name": "stdout",
     "output_type": "stream",
     "text": [
      "No objects to concatenate\n",
      "Cali Swag District Teach Me How to Dougie 4619991\n"
     ]
    },
    {
     "name": "stderr",
     "output_type": "stream",
     "text": [
      "\r",
      " 93%|█████████████████████████████████████████████████████████████████████████████████████████████████▎       | 924/997 [2:37:01<15:09, 12.46s/it]"
     ]
    },
    {
     "name": "stdout",
     "output_type": "stream",
     "text": [
      "No objects to concatenate\n",
      "Queen Somebody To Love - Remastered 2011 3859991\n"
     ]
    },
    {
     "name": "stderr",
     "output_type": "stream",
     "text": [
      "\r",
      " 93%|█████████████████████████████████████████████████████████████████████████████████████████████████▍       | 925/997 [2:37:03<11:17,  9.42s/it]"
     ]
    },
    {
     "name": "stdout",
     "output_type": "stream",
     "text": [
      "No objects to concatenate\n",
      "Calvin Harris Feel So Close - Radio Edit 3749991\n"
     ]
    },
    {
     "name": "stderr",
     "output_type": "stream",
     "text": [
      "\r",
      " 93%|█████████████████████████████████████████████████████████████████████████████████████████████████▌       | 926/997 [2:37:03<07:52,  6.66s/it]"
     ]
    },
    {
     "name": "stdout",
     "output_type": "stream",
     "text": [
      "No objects to concatenate\n",
      "The Weeknd Die For You 5974991\n"
     ]
    },
    {
     "name": "stderr",
     "output_type": "stream",
     "text": [
      "\r",
      " 93%|█████████████████████████████████████████████████████████████████████████████████████████████████▋       | 927/997 [2:37:20<11:20,  9.72s/it]"
     ]
    },
    {
     "name": "stdout",
     "output_type": "stream",
     "text": [
      "No objects to concatenate\n",
      "The Weeknd Acquainted 5056991\n",
      "No objects to concatenate\n",
      "Eminem Love The Way You Lie 5457991\n"
     ]
    },
    {
     "name": "stderr",
     "output_type": "stream",
     "text": [
      "\r",
      " 93%|█████████████████████████████████████████████████████████████████████████████████████████████████▊       | 929/997 [2:37:31<09:32,  8.41s/it]"
     ]
    },
    {
     "name": "stdout",
     "output_type": "stream",
     "text": [
      "No objects to concatenate\n",
      "Kendrick Lamar XXX. FEAT. U2. 5583991\n"
     ]
    },
    {
     "name": "stderr",
     "output_type": "stream",
     "text": [
      "\r",
      " 93%|█████████████████████████████████████████████████████████████████████████████████████████████████▉       | 930/997 [2:37:45<11:16, 10.10s/it]"
     ]
    },
    {
     "name": "stdout",
     "output_type": "stream",
     "text": [
      "No objects to concatenate\n",
      "Katy Perry Last Friday Night (T.G.I.F.) 5245991\n"
     ]
    },
    {
     "name": "stderr",
     "output_type": "stream",
     "text": [
      "\r",
      " 93%|██████████████████████████████████████████████████████████████████████████████████████████████████       | 931/997 [2:38:05<14:30, 13.20s/it]"
     ]
    },
    {
     "name": "stdout",
     "output_type": "stream",
     "text": [
      "No objects to concatenate\n",
      "The Black Keys Gold On The Ceiling 5422991\n"
     ]
    },
    {
     "name": "stderr",
     "output_type": "stream",
     "text": [
      "\r",
      " 93%|██████████████████████████████████████████████████████████████████████████████████████████████████▏      | 932/997 [2:38:15<13:11, 12.17s/it]"
     ]
    },
    {
     "name": "stdout",
     "output_type": "stream",
     "text": [
      "No objects to concatenate\n",
      "Simple Minds Don't You (Forget About Me) 3123991\n"
     ]
    },
    {
     "name": "stderr",
     "output_type": "stream",
     "text": [
      "\r",
      " 94%|██████████████████████████████████████████████████████████████████████████████████████████████████▎      | 933/997 [2:38:30<13:55, 13.06s/it]"
     ]
    },
    {
     "name": "stdout",
     "output_type": "stream",
     "text": [
      "No objects to concatenate\n",
      "The Script The Man Who Can't Be Moved 3328991\n"
     ]
    },
    {
     "name": "stderr",
     "output_type": "stream",
     "text": [
      "\r",
      " 94%|██████████████████████████████████████████████████████████████████████████████████████████████████▎      | 934/997 [2:38:51<16:04, 15.31s/it]"
     ]
    },
    {
     "name": "stdout",
     "output_type": "stream",
     "text": [
      "Fitz and The Tantrums HandClap 3750991\n"
     ]
    },
    {
     "name": "stderr",
     "output_type": "stream",
     "text": [
      "\r",
      " 94%|██████████████████████████████████████████████████████████████████████████████████████████████████▍      | 935/997 [2:38:52<11:16, 10.91s/it]"
     ]
    },
    {
     "name": "stdout",
     "output_type": "stream",
     "text": [
      "No objects to concatenate\n",
      "Sir Mix-A-Lot Baby Got Back 2950991\n"
     ]
    },
    {
     "name": "stderr",
     "output_type": "stream",
     "text": [
      "\r",
      " 94%|██████████████████████████████████████████████████████████████████████████████████████████████████▌      | 936/997 [2:39:01<10:34, 10.40s/it]"
     ]
    },
    {
     "name": "stdout",
     "output_type": "stream",
     "text": [
      "No objects to concatenate\n",
      "The Script For the First Time 3741991\n"
     ]
    },
    {
     "name": "stderr",
     "output_type": "stream",
     "text": [
      "\r",
      " 94%|██████████████████████████████████████████████████████████████████████████████████████████████████▋      | 937/997 [2:39:02<07:44,  7.74s/it]"
     ]
    },
    {
     "name": "stdout",
     "output_type": "stream",
     "text": [
      "No objects to concatenate\n",
      "Deep Purple Smoke On the Water 4694991\n"
     ]
    },
    {
     "name": "stderr",
     "output_type": "stream",
     "text": [
      "\r",
      " 94%|██████████████████████████████████████████████████████████████████████████████████████████████████▊      | 938/997 [2:39:05<05:59,  6.10s/it]"
     ]
    },
    {
     "name": "stdout",
     "output_type": "stream",
     "text": [
      "No objects to concatenate\n",
      "Skrillex Bangarang (feat. Sirah) 4311991\n",
      "No objects to concatenate\n",
      "Drake Do Not Disturb 4899991\n"
     ]
    },
    {
     "name": "stderr",
     "output_type": "stream",
     "text": [
      "\r",
      " 94%|██████████████████████████████████████████████████████████████████████████████████████████████████▉      | 940/997 [2:39:21<06:27,  6.79s/it]"
     ]
    },
    {
     "name": "stdout",
     "output_type": "stream",
     "text": [
      "No objects to concatenate\n",
      "Avril Lavigne Girlfriend (German Version - Explicit) - German Version - Explicit 3838991\n"
     ]
    },
    {
     "name": "stderr",
     "output_type": "stream",
     "text": [
      "\r",
      " 94%|███████████████████████████████████████████████████████████████████████████████████████████████████      | 941/997 [2:39:22<04:41,  5.03s/it]"
     ]
    },
    {
     "name": "stdout",
     "output_type": "stream",
     "text": [
      "No objects to concatenate\n",
      "Fetty Wap Jimmy Choo 4079991\n"
     ]
    },
    {
     "name": "stderr",
     "output_type": "stream",
     "text": [
      "\r",
      " 94%|███████████████████████████████████████████████████████████████████████████████████████████████████▏     | 942/997 [2:39:37<07:21,  8.03s/it]"
     ]
    },
    {
     "name": "stdout",
     "output_type": "stream",
     "text": [
      "No objects to concatenate\n",
      "Daya Sit Still, Look Pretty 3657991\n"
     ]
    },
    {
     "name": "stderr",
     "output_type": "stream",
     "text": [
      "\r",
      " 95%|███████████████████████████████████████████████████████████████████████████████████████████████████▎     | 943/997 [2:39:47<07:40,  8.53s/it]"
     ]
    },
    {
     "name": "stdout",
     "output_type": "stream",
     "text": [
      "No objects to concatenate\n",
      "Bell Biv DeVoe Poison 3339991\n"
     ]
    },
    {
     "name": "stderr",
     "output_type": "stream",
     "text": [
      "\r",
      " 95%|███████████████████████████████████████████████████████████████████████████████████████████████████▍     | 944/997 [2:39:50<06:04,  6.87s/it]"
     ]
    },
    {
     "name": "stdout",
     "output_type": "stream",
     "text": [
      "No objects to concatenate\n",
      "The Rolling Stones (I Can't Get No) Satisfaction - Mono Version / Remastered 2002 4970991\n"
     ]
    },
    {
     "name": "stderr",
     "output_type": "stream",
     "text": [
      "\r",
      " 95%|███████████████████████████████████████████████████████████████████████████████████████████████████▌     | 945/997 [2:39:52<04:48,  5.55s/it]"
     ]
    },
    {
     "name": "stdout",
     "output_type": "stream",
     "text": [
      "No objects to concatenate\n",
      "Kesha We R Who We R 3267991\n"
     ]
    },
    {
     "name": "stderr",
     "output_type": "stream",
     "text": [
      "\r",
      " 95%|███████████████████████████████████████████████████████████████████████████████████████████████████▋     | 946/997 [2:40:03<06:04,  7.14s/it]"
     ]
    },
    {
     "name": "stdout",
     "output_type": "stream",
     "text": [
      "No objects to concatenate\n",
      "Fall Out Boy Thnks fr th Mmrs 3268991\n"
     ]
    },
    {
     "name": "stderr",
     "output_type": "stream",
     "text": [
      "\r",
      " 95%|███████████████████████████████████████████████████████████████████████████████████████████████████▋     | 947/997 [2:40:05<04:31,  5.43s/it]"
     ]
    },
    {
     "name": "stdout",
     "output_type": "stream",
     "text": [
      "No objects to concatenate\n",
      "Khalid American Teen 5373991\n"
     ]
    },
    {
     "name": "stderr",
     "output_type": "stream",
     "text": [
      "\r",
      " 95%|███████████████████████████████████████████████████████████████████████████████████████████████████▊     | 948/997 [2:40:26<08:12, 10.05s/it]"
     ]
    },
    {
     "name": "stdout",
     "output_type": "stream",
     "text": [
      "Weezer Buddy Holly 4892991\n"
     ]
    },
    {
     "name": "stderr",
     "output_type": "stream",
     "text": [
      "\r",
      " 95%|███████████████████████████████████████████████████████████████████████████████████████████████████▉     | 949/997 [2:40:26<05:44,  7.17s/it]"
     ]
    },
    {
     "name": "stdout",
     "output_type": "stream",
     "text": [
      "No objects to concatenate\n",
      "The Paper Kites Bloom - Bonus Track 3461991\n"
     ]
    },
    {
     "name": "stderr",
     "output_type": "stream",
     "text": [
      "\r",
      " 95%|████████████████████████████████████████████████████████████████████████████████████████████████████     | 950/997 [2:40:26<04:00,  5.13s/it]"
     ]
    },
    {
     "name": "stdout",
     "output_type": "stream",
     "text": [
      "No objects to concatenate\n",
      "Weezer Say It Ain't So 4159991\n"
     ]
    },
    {
     "name": "stderr",
     "output_type": "stream",
     "text": [
      "\r",
      " 95%|████████████████████████████████████████████████████████████████████████████████████████████████████▏    | 951/997 [2:40:28<03:07,  4.08s/it]"
     ]
    },
    {
     "name": "stdout",
     "output_type": "stream",
     "text": [
      "No objects to concatenate\n",
      "Kid Cudi Erase Me - Main 2789991\n"
     ]
    },
    {
     "name": "stderr",
     "output_type": "stream",
     "text": [
      "\r",
      " 95%|████████████████████████████████████████████████████████████████████████████████████████████████████▎    | 952/997 [2:40:38<04:22,  5.84s/it]"
     ]
    },
    {
     "name": "stdout",
     "output_type": "stream",
     "text": [
      "No objects to concatenate\n",
      "Spin Doctors Two Princes 4539991\n"
     ]
    },
    {
     "name": "stderr",
     "output_type": "stream",
     "text": [
      "\r",
      " 96%|████████████████████████████████████████████████████████████████████████████████████████████████████▎    | 953/997 [2:40:39<03:07,  4.25s/it]"
     ]
    },
    {
     "name": "stdout",
     "output_type": "stream",
     "text": [
      "No objects to concatenate\n",
      "Wham! Wake Me up Before You Go-Go 4562991\n"
     ]
    },
    {
     "name": "stderr",
     "output_type": "stream",
     "text": [
      "\r",
      " 96%|████████████████████████████████████████████████████████████████████████████████████████████████████▍    | 954/997 [2:40:54<05:28,  7.65s/it]"
     ]
    },
    {
     "name": "stdout",
     "output_type": "stream",
     "text": [
      "No objects to concatenate\n",
      "Kid Ink Show Me 2934991\n"
     ]
    },
    {
     "name": "stderr",
     "output_type": "stream",
     "text": [
      "\r",
      " 96%|████████████████████████████████████████████████████████████████████████████████████████████████████▌    | 955/997 [2:41:10<07:05, 10.14s/it]"
     ]
    },
    {
     "name": "stdout",
     "output_type": "stream",
     "text": [
      "No objects to concatenate\n",
      "Nirvana Heart-Shaped Box 4397991\n"
     ]
    },
    {
     "name": "stderr",
     "output_type": "stream",
     "text": [
      "\r",
      " 96%|████████████████████████████████████████████████████████████████████████████████████████████████████▋    | 956/997 [2:41:13<05:25,  7.93s/it]"
     ]
    },
    {
     "name": "stdout",
     "output_type": "stream",
     "text": [
      "No objects to concatenate\n",
      "Flight Facilities Crave You - Adventure Club Remix 4012991\n"
     ]
    },
    {
     "name": "stderr",
     "output_type": "stream",
     "text": [
      "\r",
      " 96%|████████████████████████████████████████████████████████████████████████████████████████████████████▊    | 957/997 [2:41:28<06:49, 10.23s/it]"
     ]
    },
    {
     "name": "stdout",
     "output_type": "stream",
     "text": [
      "No objects to concatenate\n",
      "The Fray You Found Me 4131991\n"
     ]
    },
    {
     "name": "stderr",
     "output_type": "stream",
     "text": [
      "\r",
      " 96%|████████████████████████████████████████████████████████████████████████████████████████████████████▉    | 958/997 [2:41:49<08:43, 13.43s/it]"
     ]
    },
    {
     "name": "stdout",
     "output_type": "stream",
     "text": [
      "Flo Rida Right Round - feat. Ke$ha 6588991\n"
     ]
    },
    {
     "name": "stderr",
     "output_type": "stream",
     "text": [
      "\r",
      " 96%|████████████████████████████████████████████████████████████████████████████████████████████████████▉    | 959/997 [2:42:00<07:58, 12.59s/it]"
     ]
    },
    {
     "name": "stdout",
     "output_type": "stream",
     "text": [
      "No objects to concatenate\n",
      "Old Dominion Snapback 3664991\n"
     ]
    },
    {
     "name": "stderr",
     "output_type": "stream",
     "text": [
      "\r",
      " 96%|█████████████████████████████████████████████████████████████████████████████████████████████████████    | 960/997 [2:42:03<05:55,  9.62s/it]"
     ]
    },
    {
     "name": "stdout",
     "output_type": "stream",
     "text": [
      "No objects to concatenate\n",
      "Future March Madness 3443991\n"
     ]
    },
    {
     "name": "stderr",
     "output_type": "stream",
     "text": [
      "\r",
      " 96%|█████████████████████████████████████████████████████████████████████████████████████████████████████▏   | 961/997 [2:42:12<05:48,  9.67s/it]"
     ]
    },
    {
     "name": "stdout",
     "output_type": "stream",
     "text": [
      "No objects to concatenate\n",
      "Denzel Curry Ultimate 5126991\n"
     ]
    },
    {
     "name": "stderr",
     "output_type": "stream",
     "text": [
      "\r",
      " 96%|█████████████████████████████████████████████████████████████████████████████████████████████████████▎   | 962/997 [2:42:34<07:48, 13.38s/it]"
     ]
    },
    {
     "name": "stdout",
     "output_type": "stream",
     "text": [
      "Selena Gomez Bad Liar 5647991\n"
     ]
    },
    {
     "name": "stderr",
     "output_type": "stream",
     "text": [
      "\r",
      " 97%|█████████████████████████████████████████████████████████████████████████████████████████████████████▍   | 963/997 [2:42:48<07:36, 13.42s/it]"
     ]
    },
    {
     "name": "stdout",
     "output_type": "stream",
     "text": [
      "No objects to concatenate\n",
      "Usher OMG 5782991\n"
     ]
    },
    {
     "name": "stderr",
     "output_type": "stream",
     "text": [
      "\r",
      " 97%|█████████████████████████████████████████████████████████████████████████████████████████████████████▌   | 964/997 [2:42:59<07:03, 12.84s/it]"
     ]
    },
    {
     "name": "stdout",
     "output_type": "stream",
     "text": [
      "No objects to concatenate\n",
      "Selena Gomez Good For You 3032991\n"
     ]
    },
    {
     "name": "stderr",
     "output_type": "stream",
     "text": [
      "\r",
      " 97%|█████████████████████████████████████████████████████████████████████████████████████████████████████▋   | 965/997 [2:43:10<06:31, 12.24s/it]"
     ]
    },
    {
     "name": "stdout",
     "output_type": "stream",
     "text": [
      "No objects to concatenate\n",
      "Juicy J Bandz A Make Her Dance 5256991\n"
     ]
    },
    {
     "name": "stderr",
     "output_type": "stream",
     "text": [
      "\r",
      " 97%|█████████████████████████████████████████████████████████████████████████████████████████████████████▋   | 966/997 [2:43:32<07:49, 15.15s/it]"
     ]
    },
    {
     "name": "stdout",
     "output_type": "stream",
     "text": [
      "The Verve Bitter Sweet Symphony 4137991\n"
     ]
    },
    {
     "name": "stderr",
     "output_type": "stream",
     "text": [
      "\r",
      " 97%|█████████████████████████████████████████████████████████████████████████████████████████████████████▊   | 967/997 [2:43:35<05:43, 11.46s/it]"
     ]
    },
    {
     "name": "stdout",
     "output_type": "stream",
     "text": [
      "No objects to concatenate\n",
      "Childish Gambino I. the worst guys 3670991\n"
     ]
    },
    {
     "name": "stderr",
     "output_type": "stream",
     "text": [
      "\r",
      " 97%|█████████████████████████████████████████████████████████████████████████████████████████████████████▉   | 968/997 [2:43:52<06:15, 12.94s/it]"
     ]
    },
    {
     "name": "stdout",
     "output_type": "stream",
     "text": [
      "No objects to concatenate\n",
      "PARTYNEXTDOOR Recognize (feat. Drake) 4383991\n"
     ]
    },
    {
     "name": "stderr",
     "output_type": "stream",
     "text": [
      "\r",
      " 97%|██████████████████████████████████████████████████████████████████████████████████████████████████████   | 969/997 [2:44:12<07:06, 15.23s/it]"
     ]
    },
    {
     "name": "stdout",
     "output_type": "stream",
     "text": [
      "PARTYNEXTDOOR Not Nice 4559991\n"
     ]
    },
    {
     "name": "stderr",
     "output_type": "stream",
     "text": [
      "\r",
      " 97%|██████████████████████████████████████████████████████████████████████████████████████████████████████▏  | 970/997 [2:44:29<07:04, 15.73s/it]"
     ]
    },
    {
     "name": "stdout",
     "output_type": "stream",
     "text": [
      "No objects to concatenate\n",
      "Justin Bieber Beauty And A Beat 4148991\n"
     ]
    },
    {
     "name": "stderr",
     "output_type": "stream",
     "text": [
      "\r",
      " 97%|██████████████████████████████████████████████████████████████████████████████████████████████████████▎  | 971/997 [2:44:39<06:07, 14.12s/it]"
     ]
    },
    {
     "name": "stdout",
     "output_type": "stream",
     "text": [
      "No objects to concatenate\n",
      "P!nk So What 5344991\n"
     ]
    },
    {
     "name": "stderr",
     "output_type": "stream",
     "text": [
      "\r",
      " 97%|██████████████████████████████████████████████████████████████████████████████████████████████████████▎  | 972/997 [2:44:50<05:27, 13.12s/it]"
     ]
    },
    {
     "name": "stdout",
     "output_type": "stream",
     "text": [
      "No objects to concatenate\n",
      "Justin Bieber I'll Show You 4062991\n"
     ]
    },
    {
     "name": "stderr",
     "output_type": "stream",
     "text": [
      "\r",
      " 98%|██████████████████████████████████████████████████████████████████████████████████████████████████████▍  | 973/997 [2:44:59<04:46, 11.94s/it]"
     ]
    },
    {
     "name": "stdout",
     "output_type": "stream",
     "text": [
      "No objects to concatenate\n",
      "The Beatles Twist And Shout - Remastered 2009 4971991\n"
     ]
    },
    {
     "name": "stderr",
     "output_type": "stream",
     "text": [
      "\r",
      " 98%|██████████████████████████████████████████████████████████████████████████████████████████████████████▌  | 974/997 [2:45:00<03:20,  8.72s/it]"
     ]
    },
    {
     "name": "stdout",
     "output_type": "stream",
     "text": [
      "No objects to concatenate\n",
      "The Black Eyed Peas My Humps 4975991\n"
     ]
    },
    {
     "name": "stderr",
     "output_type": "stream",
     "text": [
      "\r",
      " 98%|██████████████████████████████████████████████████████████████████████████████████████████████████████▋  | 975/997 [2:45:10<03:16,  8.95s/it]"
     ]
    },
    {
     "name": "stdout",
     "output_type": "stream",
     "text": [
      "No objects to concatenate\n",
      "Chris Brown Ayo 2297991\n"
     ]
    },
    {
     "name": "stderr",
     "output_type": "stream",
     "text": [
      "\r",
      " 98%|██████████████████████████████████████████████████████████████████████████████████████████████████████▊  | 976/997 [2:45:31<04:22, 12.52s/it]"
     ]
    },
    {
     "name": "stdout",
     "output_type": "stream",
     "text": [
      "Imagine Dragons On Top Of The World 3510991\n"
     ]
    },
    {
     "name": "stderr",
     "output_type": "stream",
     "text": [
      "\r",
      " 98%|██████████████████████████████████████████████████████████████████████████████████████████████████████▉  | 977/997 [2:45:32<03:04,  9.20s/it]"
     ]
    },
    {
     "name": "stdout",
     "output_type": "stream",
     "text": [
      "No objects to concatenate\n",
      "Kanye West Can't Tell Me Nothing 4679991\n"
     ]
    },
    {
     "name": "stderr",
     "output_type": "stream",
     "text": [
      "\r",
      " 98%|██████████████████████████████████████████████████████████████████████████████████████████████████████▉  | 978/997 [2:45:53<04:01, 12.69s/it]"
     ]
    },
    {
     "name": "stdout",
     "output_type": "stream",
     "text": [
      "Omarion Post To Be (feat. Chris Brown & Jhene Aiko) 5248991\n"
     ]
    },
    {
     "name": "stderr",
     "output_type": "stream",
     "text": [
      "\r",
      " 98%|███████████████████████████████████████████████████████████████████████████████████████████████████████  | 979/997 [2:46:08<03:58, 13.24s/it]"
     ]
    },
    {
     "name": "stdout",
     "output_type": "stream",
     "text": [
      "No objects to concatenate\n",
      "Drake Diamonds Dancing 4004991\n"
     ]
    },
    {
     "name": "stderr",
     "output_type": "stream",
     "text": [
      "\r",
      " 98%|███████████████████████████████████████████████████████████████████████████████████████████████████████▏ | 980/997 [2:46:28<04:21, 15.40s/it]"
     ]
    },
    {
     "name": "stdout",
     "output_type": "stream",
     "text": [
      "Florida Georgia Line Sippin’ On Fire 4021991\n"
     ]
    },
    {
     "name": "stderr",
     "output_type": "stream",
     "text": [
      "\r",
      " 98%|███████████████████████████████████████████████████████████████████████████████████████████████████████▎ | 981/997 [2:46:30<03:03, 11.49s/it]"
     ]
    },
    {
     "name": "stdout",
     "output_type": "stream",
     "text": [
      "No objects to concatenate\n",
      "Florida Georgia Line Round Here 4885991\n"
     ]
    },
    {
     "name": "stderr",
     "output_type": "stream",
     "text": [
      "\r",
      " 98%|███████████████████████████████████████████████████████████████████████████████████████████████████████▍ | 982/997 [2:46:33<02:11,  8.75s/it]"
     ]
    },
    {
     "name": "stdout",
     "output_type": "stream",
     "text": [
      "No objects to concatenate\n",
      "Florida Georgia Line May We All 4656991\n"
     ]
    },
    {
     "name": "stderr",
     "output_type": "stream",
     "text": [
      "\r",
      " 99%|███████████████████████████████████████████████████████████████████████████████████████████████████████▌ | 983/997 [2:46:35<01:36,  6.92s/it]"
     ]
    },
    {
     "name": "stdout",
     "output_type": "stream",
     "text": [
      "No objects to concatenate\n",
      "Florida Georgia Line Dirt 5330991\n"
     ]
    },
    {
     "name": "stderr",
     "output_type": "stream",
     "text": [
      " 99%|███████████████████████████████████████████████████████████████████████████████████████████████████████▋ | 985/997 [2:46:38<00:47,  3.92s/it]"
     ]
    },
    {
     "name": "stdout",
     "output_type": "stream",
     "text": [
      "No objects to concatenate\n",
      "Florida Georgia Line Cruise - Remix 4812991\n",
      "No objects to concatenate\n",
      "Rascal Flatts Life Is A Highway 4194991\n"
     ]
    },
    {
     "name": "stderr",
     "output_type": "stream",
     "text": [
      "\r",
      " 99%|███████████████████████████████████████████████████████████████████████████████████████████████████████▊ | 986/997 [2:46:39<00:34,  3.16s/it]"
     ]
    },
    {
     "name": "stdout",
     "output_type": "stream",
     "text": [
      "No objects to concatenate\n",
      "Queen We Are The Champions - Remastered 2011 4668991\n"
     ]
    },
    {
     "name": "stderr",
     "output_type": "stream",
     "text": [
      "\r",
      " 99%|███████████████████████████████████████████████████████████████████████████████████████████████████████▉ | 987/997 [2:46:42<00:28,  2.89s/it]"
     ]
    },
    {
     "name": "stdout",
     "output_type": "stream",
     "text": [
      "No objects to concatenate\n",
      "blink-182 I Miss You 3272991\n"
     ]
    },
    {
     "name": "stderr",
     "output_type": "stream",
     "text": [
      "\r",
      " 99%|████████████████████████████████████████████████████████████████████████████████████████████████████████ | 988/997 [2:46:42<00:19,  2.19s/it]"
     ]
    },
    {
     "name": "stdout",
     "output_type": "stream",
     "text": [
      "No objects to concatenate\n",
      "A$AP Rocky Lord Pretty Flacko Jodye 2 (LPFJ2) 3497991\n"
     ]
    },
    {
     "name": "stderr",
     "output_type": "stream",
     "text": [
      "\r",
      " 99%|████████████████████████████████████████████████████████████████████████████████████████████████████████▏| 989/997 [2:47:03<01:01,  7.72s/it]"
     ]
    },
    {
     "name": "stdout",
     "output_type": "stream",
     "text": [
      "Marvin Gaye Sexual Healing 4174991\n"
     ]
    },
    {
     "name": "stderr",
     "output_type": "stream",
     "text": [
      "\r",
      " 99%|████████████████████████████████████████████████████████████████████████████████████████████████████████▎| 990/997 [2:47:13<00:59,  8.45s/it]"
     ]
    },
    {
     "name": "stdout",
     "output_type": "stream",
     "text": [
      "No objects to concatenate\n",
      "Luke Bryan Country Girl (Shake It For Me) 3521991\n"
     ]
    },
    {
     "name": "stderr",
     "output_type": "stream",
     "text": [
      "\r",
      " 99%|████████████████████████████████████████████████████████████████████████████████████████████████████████▎| 991/997 [2:47:14<00:36,  6.09s/it]"
     ]
    },
    {
     "name": "stdout",
     "output_type": "stream",
     "text": [
      "No objects to concatenate\n",
      "Afroman Crazy Rap (Colt 45 & 2 Zig Zags) 4940991\n"
     ]
    },
    {
     "name": "stderr",
     "output_type": "stream",
     "text": [
      "100%|████████████████████████████████████████████████████████████████████████████████████████████████████████▌| 993/997 [2:47:34<00:29,  7.38s/it]"
     ]
    },
    {
     "name": "stdout",
     "output_type": "stream",
     "text": [
      "will.i.am #thatPOWER 2794991\n",
      "No objects to concatenate\n",
      "Luke Bryan Home Alone Tonight 2520991\n"
     ]
    },
    {
     "name": "stderr",
     "output_type": "stream",
     "text": [
      "\r",
      "100%|████████████████████████████████████████████████████████████████████████████████████████████████████████▋| 994/997 [2:47:37<00:17,  5.93s/it]"
     ]
    },
    {
     "name": "stdout",
     "output_type": "stream",
     "text": [
      "No objects to concatenate\n",
      "M City JR Addicted To My Ex 3826991\n"
     ]
    },
    {
     "name": "stderr",
     "output_type": "stream",
     "text": [
      "\r",
      "100%|████████████████████████████████████████████████████████████████████████████████████████████████████████▊| 995/997 [2:47:57<00:20, 10.23s/it]"
     ]
    },
    {
     "name": "stdout",
     "output_type": "stream",
     "text": [
      "Lou Bega Mambo No. 5 (A Little Bit of...) 5732991\n"
     ]
    },
    {
     "name": "stderr",
     "output_type": "stream",
     "text": [
      "\r",
      "100%|████████████████████████████████████████████████████████████████████████████████████████████████████████▉| 996/997 [2:47:59<00:07,  7.59s/it]"
     ]
    },
    {
     "name": "stdout",
     "output_type": "stream",
     "text": [
      "No objects to concatenate\n",
      "Maroon 5 Moves Like Jagger - Studio Recording From The Voice Performance 3798991\n",
      "No objects to concatenate\n"
     ]
    },
    {
     "name": "stderr",
     "output_type": "stream",
     "text": [
      "100%|█████████████████████████████████████████████████████████████████████████████████████████████████████████| 997/997 [2:47:59<00:00, 10.11s/it]\n",
      "  0%|                                                                                                                     | 0/997 [00:00<?, ?it/s]"
     ]
    },
    {
     "name": "stdout",
     "output_type": "stream",
     "text": [
      "Drake One Dance 22853957\n"
     ]
    },
    {
     "name": "stderr",
     "output_type": "stream",
     "text": [
      "\r",
      "  0%|                                                                                                           | 1/997 [00:17<4:57:21, 17.91s/it]"
     ]
    },
    {
     "name": "stdout",
     "output_type": "stream",
     "text": [
      "No objects to concatenate\n",
      "Khalid Location 23429958\n"
     ]
    },
    {
     "name": "stderr",
     "output_type": "stream",
     "text": [
      "\r",
      "  0%|▏                                                                                                          | 2/997 [00:32<4:40:42, 16.93s/it]"
     ]
    },
    {
     "name": "stdout",
     "output_type": "stream",
     "text": [
      "No objects to concatenate\n",
      "Lil Uzi Vert XO TOUR Llif3 18754960\n"
     ]
    },
    {
     "name": "stderr",
     "output_type": "stream",
     "text": [
      "\r",
      "  0%|▎                                                                                                          | 3/997 [00:47<4:29:55, 16.29s/it]"
     ]
    },
    {
     "name": "stdout",
     "output_type": "stream",
     "text": [
      "No objects to concatenate\n",
      "Future Mask Off 19511961\n"
     ]
    },
    {
     "name": "stderr",
     "output_type": "stream",
     "text": [
      "\r",
      "  0%|▍                                                                                                          | 4/997 [01:02<4:22:15, 15.85s/it]"
     ]
    },
    {
     "name": "stdout",
     "output_type": "stream",
     "text": [
      "No objects to concatenate\n",
      "Aminé Caroline 20682961\n"
     ]
    },
    {
     "name": "stderr",
     "output_type": "stream",
     "text": [
      "\r",
      "  1%|▌                                                                                                          | 5/997 [01:19<4:31:22, 16.41s/it]"
     ]
    },
    {
     "name": "stdout",
     "output_type": "stream",
     "text": [
      "No objects to concatenate\n",
      "Vance Joy Riptide 16932961\n"
     ]
    },
    {
     "name": "stderr",
     "output_type": "stream",
     "text": [
      "\r",
      "  1%|▋                                                                                                          | 6/997 [01:20<3:12:58, 11.68s/it]"
     ]
    },
    {
     "name": "stdout",
     "output_type": "stream",
     "text": [
      "No objects to concatenate\n",
      "Childish Gambino Redbone 18097961\n"
     ]
    },
    {
     "name": "stderr",
     "output_type": "stream",
     "text": [
      "\r",
      "  1%|▊                                                                                                          | 7/997 [01:35<3:27:22, 12.57s/it]"
     ]
    },
    {
     "name": "stdout",
     "output_type": "stream",
     "text": [
      "No objects to concatenate\n",
      "KYLE iSpy (feat. Lil Yachty) 21922962\n"
     ]
    },
    {
     "name": "stderr",
     "output_type": "stream",
     "text": [
      "\r",
      "  1%|▊                                                                                                          | 8/997 [01:49<3:37:50, 13.22s/it]"
     ]
    },
    {
     "name": "stdout",
     "output_type": "stream",
     "text": [
      "No objects to concatenate\n",
      "The Weeknd Starboy 14430964\n"
     ]
    },
    {
     "name": "stderr",
     "output_type": "stream",
     "text": [
      "\r",
      "  1%|▉                                                                                                          | 9/997 [02:08<4:02:46, 14.74s/it]"
     ]
    },
    {
     "name": "stdout",
     "output_type": "stream",
     "text": [
      "No objects to concatenate\n",
      "Fetty Wap Trap Queen 17456964\n"
     ]
    },
    {
     "name": "stderr",
     "output_type": "stream",
     "text": [
      "\r",
      "  1%|█                                                                                                         | 10/997 [02:28<4:27:31, 16.26s/it]"
     ]
    },
    {
     "name": "stdout",
     "output_type": "stream",
     "text": [
      "Drake Fake Love 19282964\n"
     ]
    },
    {
     "name": "stderr",
     "output_type": "stream",
     "text": [
      "\r",
      "  1%|█▏                                                                                                        | 11/997 [02:42<4:16:19, 15.60s/it]"
     ]
    },
    {
     "name": "stdout",
     "output_type": "stream",
     "text": [
      "No objects to concatenate\n",
      "Migos Bad and Boujee (feat. Lil Uzi Vert) 15824965\n"
     ]
    },
    {
     "name": "stderr",
     "output_type": "stream",
     "text": [
      "\r",
      "  1%|█▎                                                                                                        | 12/997 [02:55<4:05:58, 14.98s/it]"
     ]
    },
    {
     "name": "stdout",
     "output_type": "stream",
     "text": [
      "No objects to concatenate\n",
      "Kanye West Gold Digger 18414965\n"
     ]
    },
    {
     "name": "stderr",
     "output_type": "stream",
     "text": [
      "\r",
      "  1%|█▍                                                                                                        | 13/997 [03:12<4:16:45, 15.66s/it]"
     ]
    },
    {
     "name": "stdout",
     "output_type": "stream",
     "text": [
      "No objects to concatenate\n",
      "Desiigner Panda 18256965\n"
     ]
    },
    {
     "name": "stderr",
     "output_type": "stream",
     "text": [
      "\r",
      "  1%|█▍                                                                                                        | 14/997 [03:31<4:30:27, 16.51s/it]"
     ]
    },
    {
     "name": "stdout",
     "output_type": "stream",
     "text": [
      "The Chainsmokers Closer 18984965\n"
     ]
    },
    {
     "name": "stderr",
     "output_type": "stream",
     "text": [
      "\r",
      "  2%|█▌                                                                                                        | 15/997 [03:38<3:46:21, 13.83s/it]"
     ]
    },
    {
     "name": "stdout",
     "output_type": "stream",
     "text": [
      "No objects to concatenate\n",
      "Queen Bohemian Rhapsody - Remastered 2011 16267965\n"
     ]
    },
    {
     "name": "stderr",
     "output_type": "stream",
     "text": [
      "\r",
      "  2%|█▋                                                                                                        | 16/997 [03:53<3:51:53, 14.18s/it]"
     ]
    },
    {
     "name": "stdout",
     "output_type": "stream",
     "text": [
      "No objects to concatenate\n",
      "J. Cole No Role Modelz 17192966\n"
     ]
    },
    {
     "name": "stderr",
     "output_type": "stream",
     "text": [
      "\r",
      "  2%|█▊                                                                                                        | 17/997 [04:07<3:50:12, 14.09s/it]"
     ]
    },
    {
     "name": "stdout",
     "output_type": "stream",
     "text": [
      "No objects to concatenate\n",
      "JAY Z Ni**as In Paris 14260966\n"
     ]
    },
    {
     "name": "stderr",
     "output_type": "stream",
     "text": [
      "\r",
      "  2%|█▉                                                                                                        | 18/997 [04:26<4:12:19, 15.46s/it]"
     ]
    },
    {
     "name": "stdout",
     "output_type": "stream",
     "text": [
      "Travis Scott goosebumps 16138966\n"
     ]
    },
    {
     "name": "stderr",
     "output_type": "stream",
     "text": [
      "\r",
      "  2%|██                                                                                                        | 19/997 [04:40<4:04:16, 14.99s/it]"
     ]
    },
    {
     "name": "stdout",
     "output_type": "stream",
     "text": [
      "No objects to concatenate\n",
      "R. Kelly Ignition - Remix 16013966\n"
     ]
    },
    {
     "name": "stderr",
     "output_type": "stream",
     "text": [
      "\r",
      "  2%|██▏                                                                                                       | 20/997 [04:57<4:14:07, 15.61s/it]"
     ]
    },
    {
     "name": "stdout",
     "output_type": "stream",
     "text": [
      "No objects to concatenate\n",
      "A Boogie Wit da Hoodie Drowning (feat. Kodak Black) 13794967\n"
     ]
    },
    {
     "name": "stderr",
     "output_type": "stream",
     "text": [
      "\r",
      "  2%|██▏                                                                                                       | 21/997 [05:10<4:03:51, 14.99s/it]"
     ]
    },
    {
     "name": "stdout",
     "output_type": "stream",
     "text": [
      "No objects to concatenate\n",
      "The Weeknd The Hills 15519968\n"
     ]
    },
    {
     "name": "stderr",
     "output_type": "stream",
     "text": [
      "\r",
      "  2%|██▎                                                                                                       | 22/997 [05:22<3:47:13, 13.98s/it]"
     ]
    },
    {
     "name": "stdout",
     "output_type": "stream",
     "text": [
      "No objects to concatenate\n",
      "Rae Sremmurd Black Beatles 13626968\n"
     ]
    },
    {
     "name": "stderr",
     "output_type": "stream",
     "text": [
      "\r",
      "  2%|██▍                                                                                                       | 23/997 [05:38<3:57:37, 14.64s/it]"
     ]
    },
    {
     "name": "stdout",
     "output_type": "stream",
     "text": [
      "No objects to concatenate\n",
      "Drake Passionfruit 16537968\n"
     ]
    },
    {
     "name": "stderr",
     "output_type": "stream",
     "text": [
      "\r",
      "  2%|██▌                                                                                                       | 24/997 [05:56<4:11:37, 15.52s/it]"
     ]
    },
    {
     "name": "stdout",
     "output_type": "stream",
     "text": [
      "No objects to concatenate\n",
      "DJ Khaled I'm the One 16339968\n"
     ]
    },
    {
     "name": "stderr",
     "output_type": "stream",
     "text": [
      "\r",
      "  3%|██▋                                                                                                       | 25/997 [06:09<4:01:44, 14.92s/it]"
     ]
    },
    {
     "name": "stdout",
     "output_type": "stream",
     "text": [
      "No objects to concatenate\n",
      "Calvin Harris Slide 18581968\n"
     ]
    },
    {
     "name": "stderr",
     "output_type": "stream",
     "text": [
      "\r",
      "  3%|██▊                                                                                                       | 26/997 [06:23<3:54:40, 14.50s/it]"
     ]
    },
    {
     "name": "stdout",
     "output_type": "stream",
     "text": [
      "No objects to concatenate\n",
      "Chance The Rapper No Problem (feat. Lil Wayne & 2 Chainz) 18523968\n"
     ]
    },
    {
     "name": "stderr",
     "output_type": "stream",
     "text": [
      "\r",
      "  3%|██▊                                                                                                       | 27/997 [06:39<4:01:58, 14.97s/it]"
     ]
    },
    {
     "name": "stdout",
     "output_type": "stream",
     "text": [
      "No objects to concatenate\n",
      "Kendrick Lamar DNA. 16299968\n"
     ]
    },
    {
     "name": "stderr",
     "output_type": "stream",
     "text": [
      "\r",
      "  3%|██▉                                                                                                       | 28/997 [06:52<3:54:40, 14.53s/it]"
     ]
    },
    {
     "name": "stdout",
     "output_type": "stream",
     "text": [
      "No objects to concatenate\n",
      "Drake Jumpman 16922969\n"
     ]
    },
    {
     "name": "stderr",
     "output_type": "stream",
     "text": [
      "\r",
      "  3%|███                                                                                                       | 29/997 [07:05<3:45:30, 13.98s/it]"
     ]
    },
    {
     "name": "stdout",
     "output_type": "stream",
     "text": [
      "No objects to concatenate\n",
      "Luis Fonsi Despacito - Remix 16187969\n"
     ]
    },
    {
     "name": "stderr",
     "output_type": "stream",
     "text": [
      "\r",
      "  3%|███▏                                                                                                      | 30/997 [07:19<3:42:49, 13.83s/it]"
     ]
    },
    {
     "name": "stdout",
     "output_type": "stream",
     "text": [
      "No objects to concatenate\n",
      "Big Sean Bounce Back 16039969\n"
     ]
    },
    {
     "name": "stderr",
     "output_type": "stream",
     "text": [
      "\r",
      "  3%|███▎                                                                                                      | 31/997 [07:32<3:40:35, 13.70s/it]"
     ]
    },
    {
     "name": "stdout",
     "output_type": "stream",
     "text": [
      "No objects to concatenate\n",
      "Migos T-Shirt 16447969\n"
     ]
    },
    {
     "name": "stderr",
     "output_type": "stream",
     "text": [
      "\r",
      "  3%|███▍                                                                                                      | 32/997 [07:49<3:58:27, 14.83s/it]"
     ]
    },
    {
     "name": "stdout",
     "output_type": "stream",
     "text": [
      "No objects to concatenate\n",
      "The Weeknd Can't Feel My Face 15635970\n"
     ]
    },
    {
     "name": "stderr",
     "output_type": "stream",
     "text": [
      "\r",
      "  3%|███▌                                                                                                      | 33/997 [08:06<4:08:36, 15.47s/it]"
     ]
    },
    {
     "name": "stdout",
     "output_type": "stream",
     "text": [
      "No objects to concatenate\n",
      "Post Malone rockstar 17501970\n"
     ]
    },
    {
     "name": "stderr",
     "output_type": "stream",
     "text": [
      "\r",
      "  3%|███▌                                                                                                      | 34/997 [08:20<3:58:14, 14.84s/it]"
     ]
    },
    {
     "name": "stdout",
     "output_type": "stream",
     "text": [
      "No objects to concatenate\n",
      "Journey Don't Stop Believin' 13698970\n"
     ]
    },
    {
     "name": "stderr",
     "output_type": "stream",
     "text": [
      "\r",
      "  4%|███▋                                                                                                      | 35/997 [08:34<3:56:02, 14.72s/it]"
     ]
    },
    {
     "name": "stdout",
     "output_type": "stream",
     "text": [
      "No objects to concatenate\n",
      "Justin Bieber Love Yourself 16399970\n"
     ]
    },
    {
     "name": "stderr",
     "output_type": "stream",
     "text": [
      "\r",
      "  4%|███▊                                                                                                      | 36/997 [08:47<3:48:18, 14.25s/it]"
     ]
    },
    {
     "name": "stdout",
     "output_type": "stream",
     "text": [
      "No objects to concatenate\n",
      "G-Eazy Me, Myself & I 13212971\n"
     ]
    },
    {
     "name": "stderr",
     "output_type": "stream",
     "text": [
      "\r",
      "  4%|███▉                                                                                                      | 37/997 [09:06<4:07:29, 15.47s/it]"
     ]
    },
    {
     "name": "stdout",
     "output_type": "stream",
     "text": [
      "No objects to concatenate\n",
      "Bryson Tiller Don't 13205971\n"
     ]
    },
    {
     "name": "stderr",
     "output_type": "stream",
     "text": [
      "\r",
      "  4%|████                                                                                                      | 38/997 [09:23<4:15:45, 16.00s/it]"
     ]
    },
    {
     "name": "stdout",
     "output_type": "stream",
     "text": [
      "No objects to concatenate\n",
      "Migos Slippery (feat. Gucci Mane) 14482971\n"
     ]
    },
    {
     "name": "stderr",
     "output_type": "stream",
     "text": [
      "\r",
      "  4%|████▏                                                                                                     | 39/997 [09:38<4:11:32, 15.75s/it]"
     ]
    },
    {
     "name": "stdout",
     "output_type": "stream",
     "text": [
      "No objects to concatenate\n",
      "Kendrick Lamar m.A.A.d city 12618971\n"
     ]
    },
    {
     "name": "stderr",
     "output_type": "stream",
     "text": [
      "\r",
      "  4%|████▎                                                                                                     | 40/997 [09:55<4:18:09, 16.19s/it]"
     ]
    },
    {
     "name": "stdout",
     "output_type": "stream",
     "text": [
      "No objects to concatenate\n",
      "The Chainsmokers Roses 15109971\n"
     ]
    },
    {
     "name": "stderr",
     "output_type": "stream",
     "text": [
      "\r",
      "  4%|████▎                                                                                                     | 41/997 [10:12<4:20:39, 16.36s/it]"
     ]
    },
    {
     "name": "stdout",
     "output_type": "stream",
     "text": [
      "No objects to concatenate\n",
      "Justin Bieber What Do You Mean? 16280971\n"
     ]
    },
    {
     "name": "stderr",
     "output_type": "stream",
     "text": [
      "\r",
      "  4%|████▍                                                                                                     | 42/997 [10:25<4:01:44, 15.19s/it]"
     ]
    },
    {
     "name": "stdout",
     "output_type": "stream",
     "text": [
      "No objects to concatenate\n",
      "Logic 1-800-273-8255 14150971\n"
     ]
    },
    {
     "name": "stderr",
     "output_type": "stream",
     "text": [
      "\r",
      "  4%|████▌                                                                                                     | 43/997 [10:38<3:55:12, 14.79s/it]"
     ]
    },
    {
     "name": "stdout",
     "output_type": "stream",
     "text": [
      "No objects to concatenate\n",
      "Sam Smith Stay With Me 13366972\n"
     ]
    },
    {
     "name": "stderr",
     "output_type": "stream",
     "text": [
      "\r",
      "  4%|████▋                                                                                                     | 44/997 [10:39<2:47:14, 10.53s/it]"
     ]
    },
    {
     "name": "stdout",
     "output_type": "stream",
     "text": [
      "No objects to concatenate\n",
      "Miley Cyrus Party In The U.S.A. 16449972\n"
     ]
    },
    {
     "name": "stderr",
     "output_type": "stream",
     "text": [
      "\r",
      "  5%|████▊                                                                                                     | 45/997 [10:56<3:17:42, 12.46s/it]"
     ]
    },
    {
     "name": "stdout",
     "output_type": "stream",
     "text": [
      "No objects to concatenate\n",
      "Rob $tone Chill Bill 14562972\n"
     ]
    },
    {
     "name": "stderr",
     "output_type": "stream",
     "text": [
      "\r",
      "  5%|████▉                                                                                                     | 46/997 [11:14<3:43:06, 14.08s/it]"
     ]
    },
    {
     "name": "stdout",
     "output_type": "stream",
     "text": [
      "No objects to concatenate\n",
      "Post Malone White Iverson 14598972\n"
     ]
    },
    {
     "name": "stderr",
     "output_type": "stream",
     "text": [
      "\r",
      "  5%|████▉                                                                                                     | 47/997 [11:30<3:55:03, 14.85s/it]"
     ]
    },
    {
     "name": "stdout",
     "output_type": "stream",
     "text": [
      "No objects to concatenate\n",
      "Kanye West Stronger 13253973\n"
     ]
    },
    {
     "name": "stderr",
     "output_type": "stream",
     "text": [
      "\r",
      "  5%|█████                                                                                                     | 48/997 [11:49<4:13:52, 16.05s/it]"
     ]
    },
    {
     "name": "stdout",
     "output_type": "stream",
     "text": [
      "Major Lazer Lean On (feat. MØ & DJ Snake) 12065973\n"
     ]
    },
    {
     "name": "stderr",
     "output_type": "stream",
     "text": [
      "\r",
      "  5%|█████▏                                                                                                    | 49/997 [12:06<4:16:30, 16.23s/it]"
     ]
    },
    {
     "name": "stdout",
     "output_type": "stream",
     "text": [
      "No objects to concatenate\n",
      "Future Low Life 12542973\n"
     ]
    },
    {
     "name": "stderr",
     "output_type": "stream",
     "text": [
      "\r",
      "  5%|█████▎                                                                                                    | 50/997 [12:23<4:18:38, 16.39s/it]"
     ]
    },
    {
     "name": "stdout",
     "output_type": "stream",
     "text": [
      "No objects to concatenate\n",
      "Ed Sheeran Shape of You 13412973\n"
     ]
    },
    {
     "name": "stderr",
     "output_type": "stream",
     "text": [
      "\r",
      "  5%|█████▍                                                                                                    | 51/997 [12:35<4:00:18, 15.24s/it]"
     ]
    },
    {
     "name": "stdout",
     "output_type": "stream",
     "text": [
      "No objects to concatenate\n",
      "Earth, Wind & Fire September 12380973\n"
     ]
    },
    {
     "name": "stderr",
     "output_type": "stream",
     "text": [
      "\r",
      "  5%|█████▌                                                                                                    | 52/997 [12:50<3:59:42, 15.22s/it]"
     ]
    },
    {
     "name": "stdout",
     "output_type": "stream",
     "text": [
      "No objects to concatenate\n",
      "Khalid Young Dumb & Broke 16481973\n"
     ]
    },
    {
     "name": "stderr",
     "output_type": "stream",
     "text": [
      "\r",
      "  5%|█████▋                                                                                                    | 53/997 [13:04<3:52:38, 14.79s/it]"
     ]
    },
    {
     "name": "stdout",
     "output_type": "stream",
     "text": [
      "No objects to concatenate\n",
      "Post Malone Go Flex 12886973\n"
     ]
    },
    {
     "name": "stderr",
     "output_type": "stream",
     "text": [
      "\r",
      "  5%|█████▋                                                                                                    | 54/997 [13:22<4:07:08, 15.72s/it]"
     ]
    },
    {
     "name": "stdout",
     "output_type": "stream",
     "text": [
      "No objects to concatenate\n",
      "Lil Uzi Vert Money Longer 14722973\n"
     ]
    },
    {
     "name": "stderr",
     "output_type": "stream",
     "text": [
      "\r",
      "  6%|█████▊                                                                                                    | 55/997 [13:39<4:11:04, 15.99s/it]"
     ]
    },
    {
     "name": "stdout",
     "output_type": "stream",
     "text": [
      "No objects to concatenate\n",
      "Waka Flocka Flame No Hands (feat. Roscoe Dash and Wale) - Explicit Album Version 12068973\n"
     ]
    },
    {
     "name": "stderr",
     "output_type": "stream",
     "text": [
      "\r",
      "  6%|█████▉                                                                                                    | 56/997 [13:56<4:14:19, 16.22s/it]"
     ]
    },
    {
     "name": "stdout",
     "output_type": "stream",
     "text": [
      "No objects to concatenate\n",
      "Justin Bieber Sorry 14466973\n"
     ]
    },
    {
     "name": "stderr",
     "output_type": "stream",
     "text": [
      "\r",
      "  6%|██████                                                                                                    | 57/997 [14:13<4:20:10, 16.61s/it]"
     ]
    },
    {
     "name": "stdout",
     "output_type": "stream",
     "text": [
      "No objects to concatenate\n",
      "M83 Midnight City 11300974\n"
     ]
    },
    {
     "name": "stderr",
     "output_type": "stream",
     "text": [
      "\r",
      "  6%|██████▏                                                                                                   | 58/997 [14:14<3:05:41, 11.87s/it]"
     ]
    },
    {
     "name": "stdout",
     "output_type": "stream",
     "text": [
      "No objects to concatenate\n",
      "Twenty One Pilots Ride 11718974\n"
     ]
    },
    {
     "name": "stderr",
     "output_type": "stream",
     "text": [
      "\r",
      "  6%|██████▎                                                                                                   | 59/997 [14:22<2:50:06, 10.88s/it]"
     ]
    },
    {
     "name": "stdout",
     "output_type": "stream",
     "text": [
      "No objects to concatenate\n",
      "Sam Hunt Body Like A Back Road 13132974\n"
     ]
    },
    {
     "name": "stderr",
     "output_type": "stream",
     "text": [
      "\r",
      "  6%|██████▍                                                                                                   | 60/997 [14:30<2:32:28,  9.76s/it]"
     ]
    },
    {
     "name": "stdout",
     "output_type": "stream",
     "text": [
      "No objects to concatenate\n",
      "French Montana Unforgettable 12362974\n"
     ]
    },
    {
     "name": "stderr",
     "output_type": "stream",
     "text": [
      "\r",
      "  6%|██████▍                                                                                                   | 61/997 [14:43<2:48:52, 10.83s/it]"
     ]
    },
    {
     "name": "stdout",
     "output_type": "stream",
     "text": [
      "No objects to concatenate\n",
      "Flo Rida My House 12033974\n"
     ]
    },
    {
     "name": "stderr",
     "output_type": "stream",
     "text": [
      "\r",
      "  6%|██████▌                                                                                                   | 62/997 [15:00<3:17:01, 12.64s/it]"
     ]
    },
    {
     "name": "stdout",
     "output_type": "stream",
     "text": [
      "No objects to concatenate\n",
      "Mike Posner I Took A Pill In Ibiza - Seeb Remix 11053975\n"
     ]
    },
    {
     "name": "stderr",
     "output_type": "stream",
     "text": [
      "\r",
      "  6%|██████▋                                                                                                   | 63/997 [15:13<3:19:07, 12.79s/it]"
     ]
    },
    {
     "name": "stdout",
     "output_type": "stream",
     "text": [
      "No objects to concatenate\n",
      "Milky Chance Stolen Dance 13746975\n"
     ]
    },
    {
     "name": "stderr",
     "output_type": "stream",
     "text": [
      "\r",
      "  6%|██████▊                                                                                                   | 64/997 [15:13<2:21:59,  9.13s/it]"
     ]
    },
    {
     "name": "stdout",
     "output_type": "stream",
     "text": [
      "No objects to concatenate\n",
      "Fetty Wap 679 (feat. Remy Boyz) 13194975\n"
     ]
    },
    {
     "name": "stderr",
     "output_type": "stream",
     "text": [
      "\r",
      "  7%|██████▉                                                                                                   | 65/997 [15:33<3:08:25, 12.13s/it]"
     ]
    },
    {
     "name": "stdout",
     "output_type": "stream",
     "text": [
      "Lynyrd Skynyrd Sweet Home Alabama 12823975\n"
     ]
    },
    {
     "name": "stderr",
     "output_type": "stream",
     "text": [
      "\r",
      "  7%|███████                                                                                                   | 66/997 [15:38<2:36:20, 10.08s/it]"
     ]
    },
    {
     "name": "stdout",
     "output_type": "stream",
     "text": [
      "No objects to concatenate\n",
      "Hozier Take Me To Church 10511975\n"
     ]
    },
    {
     "name": "stderr",
     "output_type": "stream",
     "text": [
      "\r",
      "  7%|███████                                                                                                   | 67/997 [15:55<3:09:35, 12.23s/it]"
     ]
    },
    {
     "name": "stdout",
     "output_type": "stream",
     "text": [
      "No objects to concatenate\n",
      "Frank Ocean Thinkin Bout You 12559975\n"
     ]
    },
    {
     "name": "stderr",
     "output_type": "stream",
     "text": [
      "\r",
      "  7%|███████▏                                                                                                  | 68/997 [16:10<3:21:58, 13.04s/it]"
     ]
    },
    {
     "name": "stdout",
     "output_type": "stream",
     "text": [
      "No objects to concatenate\n",
      "Childish Gambino V. 3005 12902975\n"
     ]
    },
    {
     "name": "stderr",
     "output_type": "stream",
     "text": [
      "\r",
      "  7%|███████▎                                                                                                  | 69/997 [16:23<3:22:21, 13.08s/it]"
     ]
    },
    {
     "name": "stdout",
     "output_type": "stream",
     "text": [
      "No objects to concatenate\n",
      "Rae Sremmurd Come Get Her 11706975\n"
     ]
    },
    {
     "name": "stderr",
     "output_type": "stream",
     "text": [
      "\r",
      "  7%|███████▍                                                                                                  | 70/997 [16:40<3:40:48, 14.29s/it]"
     ]
    },
    {
     "name": "stdout",
     "output_type": "stream",
     "text": [
      "No objects to concatenate\n",
      "Childish Gambino IV. sweatpants 14642975\n"
     ]
    },
    {
     "name": "stderr",
     "output_type": "stream",
     "text": [
      "\r",
      "  7%|███████▌                                                                                                  | 71/997 [16:54<3:38:16, 14.14s/it]"
     ]
    },
    {
     "name": "stdout",
     "output_type": "stream",
     "text": [
      "No objects to concatenate\n",
      "Big Sean I Don't Fuck With You 15067975\n"
     ]
    },
    {
     "name": "stderr",
     "output_type": "stream",
     "text": [
      "\r",
      "  7%|███████▋                                                                                                  | 72/997 [17:11<3:48:51, 14.85s/it]"
     ]
    },
    {
     "name": "stdout",
     "output_type": "stream",
     "text": [
      "No objects to concatenate\n",
      "Jeremih oui 10027975\n"
     ]
    },
    {
     "name": "stderr",
     "output_type": "stream",
     "text": [
      "\r",
      "  7%|███████▊                                                                                                  | 73/997 [17:28<3:58:41, 15.50s/it]"
     ]
    },
    {
     "name": "stdout",
     "output_type": "stream",
     "text": [
      "No objects to concatenate\n",
      "Major Lazer Cold Water (feat. Justin Bieber & MØ) 14845975\n"
     ]
    },
    {
     "name": "stderr",
     "output_type": "stream",
     "text": [
      "\r",
      "  7%|███████▊                                                                                                  | 74/997 [17:41<3:49:07, 14.89s/it]"
     ]
    },
    {
     "name": "stdout",
     "output_type": "stream",
     "text": [
      "No objects to concatenate\n",
      "Drake Hotline Bling 13667975\n"
     ]
    },
    {
     "name": "stderr",
     "output_type": "stream",
     "text": [
      "\r",
      "  8%|███████▉                                                                                                  | 75/997 [17:59<4:00:24, 15.65s/it]"
     ]
    },
    {
     "name": "stdout",
     "output_type": "stream",
     "text": [
      "No objects to concatenate\n",
      "A$AP Rocky Everyday 13789975\n"
     ]
    },
    {
     "name": "stderr",
     "output_type": "stream",
     "text": [
      "\r",
      "  8%|████████                                                                                                  | 76/997 [18:09<3:33:55, 13.94s/it]"
     ]
    },
    {
     "name": "stdout",
     "output_type": "stream",
     "text": [
      "No objects to concatenate\n",
      "Travis Scott Antidote 11393975\n"
     ]
    },
    {
     "name": "stderr",
     "output_type": "stream",
     "text": [
      "\r",
      "  8%|████████▏                                                                                                 | 77/997 [18:25<3:45:49, 14.73s/it]"
     ]
    },
    {
     "name": "stdout",
     "output_type": "stream",
     "text": [
      "No objects to concatenate\n",
      "Kiiara Gold 11017975\n"
     ]
    },
    {
     "name": "stderr",
     "output_type": "stream",
     "text": [
      "\r",
      "  8%|████████▎                                                                                                 | 78/997 [18:38<3:39:30, 14.33s/it]"
     ]
    },
    {
     "name": "stdout",
     "output_type": "stream",
     "text": [
      "No objects to concatenate\n",
      "Bruno Mars That's What I Like 13443975\n"
     ]
    },
    {
     "name": "stderr",
     "output_type": "stream",
     "text": [
      "\r",
      "  8%|████████▍                                                                                                 | 79/997 [18:53<3:38:46, 14.30s/it]"
     ]
    },
    {
     "name": "stdout",
     "output_type": "stream",
     "text": [
      "No objects to concatenate\n",
      "The Chainsmokers Don't Let Me Down 10523975\n"
     ]
    },
    {
     "name": "stderr",
     "output_type": "stream",
     "text": [
      "\r",
      "  8%|████████▌                                                                                                 | 80/997 [19:05<3:30:13, 13.76s/it]"
     ]
    },
    {
     "name": "stdout",
     "output_type": "stream",
     "text": [
      "No objects to concatenate\n",
      "21 Savage Bank Account 14316975\n"
     ]
    },
    {
     "name": "stderr",
     "output_type": "stream",
     "text": [
      "\r",
      "  8%|████████▌                                                                                                 | 81/997 [19:23<3:48:15, 14.95s/it]"
     ]
    },
    {
     "name": "stdout",
     "output_type": "stream",
     "text": [
      "No objects to concatenate\n",
      "Shawn Mendes Stitches 11902976\n"
     ]
    },
    {
     "name": "stderr",
     "output_type": "stream",
     "text": [
      "\r",
      "  8%|████████▋                                                                                                 | 82/997 [19:41<4:02:17, 15.89s/it]"
     ]
    },
    {
     "name": "stdout",
     "output_type": "stream",
     "text": [
      "No objects to concatenate\n",
      "Fifth Harmony Work from Home 12214976\n"
     ]
    },
    {
     "name": "stderr",
     "output_type": "stream",
     "text": [
      "\r",
      "  8%|████████▊                                                                                                 | 83/997 [19:54<3:50:31, 15.13s/it]"
     ]
    },
    {
     "name": "stdout",
     "output_type": "stream",
     "text": [
      "No objects to concatenate\n",
      "Rihanna Needed Me 11704976\n"
     ]
    },
    {
     "name": "stderr",
     "output_type": "stream",
     "text": [
      "\r",
      "  8%|████████▉                                                                                                 | 84/997 [20:08<3:43:28, 14.69s/it]"
     ]
    },
    {
     "name": "stdout",
     "output_type": "stream",
     "text": [
      "No objects to concatenate\n",
      "Guns N' Roses Sweet Child O' Mine 11745976\n"
     ]
    },
    {
     "name": "stderr",
     "output_type": "stream",
     "text": [
      "\r",
      "  9%|█████████                                                                                                 | 85/997 [20:13<2:57:30, 11.68s/it]"
     ]
    },
    {
     "name": "stdout",
     "output_type": "stream",
     "text": [
      "No objects to concatenate\n",
      "Macklemore & Ryan Lewis Can't Hold Us - feat. Ray Dalton 10696976\n"
     ]
    },
    {
     "name": "stderr",
     "output_type": "stream",
     "text": [
      "\r",
      "  9%|█████████▏                                                                                                | 86/997 [20:25<3:01:48, 11.97s/it]"
     ]
    },
    {
     "name": "stdout",
     "output_type": "stream",
     "text": [
      "No objects to concatenate\n",
      "Usher Yeah! 12854976\n"
     ]
    },
    {
     "name": "stderr",
     "output_type": "stream",
     "text": [
      "\r",
      "  9%|█████████▏                                                                                                | 87/997 [20:43<3:28:37, 13.76s/it]"
     ]
    },
    {
     "name": "stdout",
     "output_type": "stream",
     "text": [
      "No objects to concatenate\n",
      "Imagine Dragons Radioactive 10308977\n"
     ]
    },
    {
     "name": "stderr",
     "output_type": "stream",
     "text": [
      "\r",
      "  9%|█████████▎                                                                                                | 88/997 [20:49<2:49:53, 11.21s/it]"
     ]
    },
    {
     "name": "stdout",
     "output_type": "stream",
     "text": [
      "No objects to concatenate\n",
      "The Killers Mr. Brightside 11569977\n"
     ]
    },
    {
     "name": "stderr",
     "output_type": "stream",
     "text": [
      "\r",
      "  9%|█████████▍                                                                                                | 89/997 [20:54<2:22:30,  9.42s/it]"
     ]
    },
    {
     "name": "stdout",
     "output_type": "stream",
     "text": [
      "No objects to concatenate\n",
      "Miley Cyrus We Can't Stop 11357977\n"
     ]
    },
    {
     "name": "stderr",
     "output_type": "stream",
     "text": [
      "\r",
      "  9%|█████████▌                                                                                                | 90/997 [21:07<2:38:12, 10.47s/it]"
     ]
    },
    {
     "name": "stdout",
     "output_type": "stream",
     "text": [
      "No objects to concatenate\n",
      "Kodak Black Tunnel Vision 9217977\n"
     ]
    },
    {
     "name": "stderr",
     "output_type": "stream",
     "text": [
      "\r",
      "  9%|█████████▋                                                                                                | 91/997 [21:20<2:51:54, 11.39s/it]"
     ]
    },
    {
     "name": "stdout",
     "output_type": "stream",
     "text": [
      "No objects to concatenate\n",
      "The Notorious B.I.G. Hypnotize - 2014 Remastered Version 12518977\n"
     ]
    },
    {
     "name": "stderr",
     "output_type": "stream",
     "text": [
      "\r",
      "  9%|█████████▊                                                                                                | 92/997 [21:37<3:15:32, 12.96s/it]"
     ]
    },
    {
     "name": "stdout",
     "output_type": "stream",
     "text": [
      "No objects to concatenate\n",
      "Cardi B Bodak Yellow 12708977\n"
     ]
    },
    {
     "name": "stderr",
     "output_type": "stream",
     "text": [
      "\r",
      "  9%|█████████▉                                                                                                | 93/997 [21:48<3:05:11, 12.29s/it]"
     ]
    },
    {
     "name": "stdout",
     "output_type": "stream",
     "text": [
      "No objects to concatenate\n",
      "Thomas Rhett Die A Happy Man 10195977\n"
     ]
    },
    {
     "name": "stderr",
     "output_type": "stream",
     "text": [
      "\r",
      "  9%|█████████▉                                                                                                | 94/997 [21:55<2:41:10, 10.71s/it]"
     ]
    },
    {
     "name": "stdout",
     "output_type": "stream",
     "text": [
      "No objects to concatenate\n",
      "Bryson Tiller Exchange 12157977\n"
     ]
    },
    {
     "name": "stderr",
     "output_type": "stream",
     "text": [
      "\r",
      " 10%|██████████                                                                                                | 95/997 [22:11<3:05:56, 12.37s/it]"
     ]
    },
    {
     "name": "stdout",
     "output_type": "stream",
     "text": [
      "No objects to concatenate\n",
      "The Weeknd Often 12167977\n"
     ]
    },
    {
     "name": "stderr",
     "output_type": "stream",
     "text": [
      "\r",
      " 10%|██████████▏                                                                                               | 96/997 [22:22<3:01:56, 12.12s/it]"
     ]
    },
    {
     "name": "stdout",
     "output_type": "stream",
     "text": [
      "No objects to concatenate\n",
      "Young Thug pick up the phone 9170977\n"
     ]
    },
    {
     "name": "stderr",
     "output_type": "stream",
     "text": [
      "\r",
      " 10%|██████████▎                                                                                               | 97/997 [22:40<3:25:49, 13.72s/it]"
     ]
    },
    {
     "name": "stdout",
     "output_type": "stream",
     "text": [
      "No objects to concatenate\n",
      "Van Morrison Brown Eyed Girl 11515977\n"
     ]
    },
    {
     "name": "stderr",
     "output_type": "stream",
     "text": [
      "\r",
      " 10%|██████████▍                                                                                               | 98/997 [22:44<2:43:58, 10.94s/it]"
     ]
    },
    {
     "name": "stdout",
     "output_type": "stream",
     "text": [
      "No objects to concatenate\n",
      "Flume Never Be Like You 10382977\n"
     ]
    },
    {
     "name": "stderr",
     "output_type": "stream",
     "text": [
      "\r",
      " 10%|██████████▌                                                                                               | 99/997 [22:57<2:50:22, 11.38s/it]"
     ]
    },
    {
     "name": "stdout",
     "output_type": "stream",
     "text": [
      "No objects to concatenate\n",
      "Drake Controlla 11783977\n"
     ]
    },
    {
     "name": "stderr",
     "output_type": "stream",
     "text": [
      "\r",
      " 10%|██████████▌                                                                                              | 100/997 [23:09<2:56:01, 11.77s/it]"
     ]
    },
    {
     "name": "stdout",
     "output_type": "stream",
     "text": [
      "No objects to concatenate\n",
      "Zedd Stay (with Alessia Cara) 12549978\n"
     ]
    },
    {
     "name": "stderr",
     "output_type": "stream",
     "text": [
      "\r",
      " 10%|██████████▋                                                                                              | 101/997 [23:25<3:11:39, 12.83s/it]"
     ]
    },
    {
     "name": "stdout",
     "output_type": "stream",
     "text": [
      "No objects to concatenate\n",
      "Jack Johnson Better Together 10526978\n"
     ]
    },
    {
     "name": "stderr",
     "output_type": "stream",
     "text": [
      "\r",
      " 10%|██████████▋                                                                                              | 102/997 [23:40<3:21:09, 13.49s/it]"
     ]
    },
    {
     "name": "stdout",
     "output_type": "stream",
     "text": [
      "No objects to concatenate\n",
      "James Bay Let It Go 12828978\n"
     ]
    },
    {
     "name": "stderr",
     "output_type": "stream",
     "text": [
      "\r",
      " 10%|██████████▊                                                                                              | 103/997 [23:56<3:31:45, 14.21s/it]"
     ]
    },
    {
     "name": "stdout",
     "output_type": "stream",
     "text": [
      "No objects to concatenate\n",
      "Shaggy It Wasn't Me 13501978\n"
     ]
    },
    {
     "name": "stderr",
     "output_type": "stream",
     "text": [
      "\r",
      " 10%|██████████▉                                                                                              | 104/997 [24:13<3:45:18, 15.14s/it]"
     ]
    },
    {
     "name": "stdout",
     "output_type": "stream",
     "text": [
      "No objects to concatenate\n",
      "Marvin Gaye Ain't No Mountain High Enough 11401978\n"
     ]
    },
    {
     "name": "stderr",
     "output_type": "stream",
     "text": [
      "\r",
      " 11%|███████████                                                                                              | 105/997 [24:28<3:42:40, 14.98s/it]"
     ]
    },
    {
     "name": "stdout",
     "output_type": "stream",
     "text": [
      "No objects to concatenate\n",
      "Lil Uzi Vert You Was Right 10940978\n"
     ]
    },
    {
     "name": "stderr",
     "output_type": "stream",
     "text": [
      "\r",
      " 11%|███████████▏                                                                                             | 106/997 [24:41<3:35:58, 14.54s/it]"
     ]
    },
    {
     "name": "stdout",
     "output_type": "stream",
     "text": [
      "No objects to concatenate\n",
      "J. Cole Wet Dreamz 10822978\n"
     ]
    },
    {
     "name": "stderr",
     "output_type": "stream",
     "text": [
      "\r",
      " 11%|███████████▎                                                                                             | 107/997 [24:55<3:34:02, 14.43s/it]"
     ]
    },
    {
     "name": "stdout",
     "output_type": "stream",
     "text": [
      "No objects to concatenate\n",
      "Rick Springfield Jessie's Girl 10040978\n"
     ]
    },
    {
     "name": "stderr",
     "output_type": "stream",
     "text": [
      "\r",
      " 11%|███████████▎                                                                                             | 108/997 [25:00<2:48:52, 11.40s/it]"
     ]
    },
    {
     "name": "stdout",
     "output_type": "stream",
     "text": [
      "No objects to concatenate\n",
      "Twenty One Pilots Stressed Out 11020978\n"
     ]
    },
    {
     "name": "stderr",
     "output_type": "stream",
     "text": [
      "\r",
      " 11%|███████████▍                                                                                             | 109/997 [25:08<2:34:18, 10.43s/it]"
     ]
    },
    {
     "name": "stdout",
     "output_type": "stream",
     "text": [
      "No objects to concatenate\n",
      "Snoop Dogg Young, Wild & Free (feat. Bruno Mars) - feat. Bruno Mars 13446978\n"
     ]
    },
    {
     "name": "stderr",
     "output_type": "stream",
     "text": [
      "\r",
      " 11%|███████████▌                                                                                             | 110/997 [25:25<3:05:34, 12.55s/it]"
     ]
    },
    {
     "name": "stdout",
     "output_type": "stream",
     "text": [
      "No objects to concatenate\n",
      "Drake Too Good 11414978\n"
     ]
    },
    {
     "name": "stderr",
     "output_type": "stream",
     "text": [
      "\r",
      " 11%|███████████▋                                                                                             | 111/997 [25:39<3:12:21, 13.03s/it]"
     ]
    },
    {
     "name": "stdout",
     "output_type": "stream",
     "text": [
      "No objects to concatenate\n",
      "Kendrick Lamar Swimming Pools (Drank) 9723978\n"
     ]
    },
    {
     "name": "stderr",
     "output_type": "stream",
     "text": [
      "\r",
      " 11%|███████████▊                                                                                             | 112/997 [25:53<3:15:09, 13.23s/it]"
     ]
    },
    {
     "name": "stdout",
     "output_type": "stream",
     "text": [
      "No objects to concatenate\n",
      "Toto Africa 8286978\n"
     ]
    },
    {
     "name": "stderr",
     "output_type": "stream",
     "text": [
      "\r",
      " 11%|███████████▉                                                                                             | 113/997 [26:09<3:26:19, 14.00s/it]"
     ]
    },
    {
     "name": "stdout",
     "output_type": "stream",
     "text": [
      "No objects to concatenate\n",
      "Kendrick Lamar Bitch, Don’t Kill My Vibe 9962978\n"
     ]
    },
    {
     "name": "stderr",
     "output_type": "stream",
     "text": [
      "\r",
      " 11%|████████████                                                                                             | 114/997 [26:26<3:41:50, 15.07s/it]"
     ]
    },
    {
     "name": "stdout",
     "output_type": "stream",
     "text": [
      "No objects to concatenate\n",
      "Ed Sheeran Thinking Out Loud 10787979\n"
     ]
    },
    {
     "name": "stderr",
     "output_type": "stream",
     "text": [
      "\r",
      " 12%|████████████                                                                                             | 115/997 [26:43<3:47:32, 15.48s/it]"
     ]
    },
    {
     "name": "stdout",
     "output_type": "stream",
     "text": [
      "No objects to concatenate\n",
      "DJ Khaled Wild Thoughts 9256979\n"
     ]
    },
    {
     "name": "stderr",
     "output_type": "stream",
     "text": [
      "\r",
      " 12%|████████████▏                                                                                            | 116/997 [26:57<3:40:08, 14.99s/it]"
     ]
    },
    {
     "name": "stdout",
     "output_type": "stream",
     "text": [
      "No objects to concatenate\n",
      "Kendrick Lamar LOYALTY. FEAT. RIHANNA. 11362979\n"
     ]
    },
    {
     "name": "stderr",
     "output_type": "stream",
     "text": [
      "\r",
      " 12%|████████████▎                                                                                            | 117/997 [27:11<3:34:56, 14.65s/it]"
     ]
    },
    {
     "name": "stdout",
     "output_type": "stream",
     "text": [
      "No objects to concatenate\n",
      "Post Malone Candy Paint 12719979\n"
     ]
    },
    {
     "name": "stderr",
     "output_type": "stream",
     "text": [
      "\r",
      " 12%|████████████▍                                                                                            | 118/997 [27:29<3:52:11, 15.85s/it]"
     ]
    },
    {
     "name": "stdout",
     "output_type": "stream",
     "text": [
      "No objects to concatenate\n",
      "A$AP Rocky F**kin' Problems 9832979\n"
     ]
    },
    {
     "name": "stderr",
     "output_type": "stream",
     "text": [
      "\r",
      " 12%|████████████▌                                                                                            | 119/997 [27:46<3:56:34, 16.17s/it]"
     ]
    },
    {
     "name": "stdout",
     "output_type": "stream",
     "text": [
      "No objects to concatenate\n",
      "Red Hot Chili Peppers Californication 11369979\n"
     ]
    },
    {
     "name": "stderr",
     "output_type": "stream",
     "text": [
      "\r",
      " 12%|████████████▋                                                                                            | 120/997 [27:51<3:06:40, 12.77s/it]"
     ]
    },
    {
     "name": "stdout",
     "output_type": "stream",
     "text": [
      "No objects to concatenate\n",
      "B.o.B HeadBand (feat. 2 Chainz) 9299979\n"
     ]
    },
    {
     "name": "stderr",
     "output_type": "stream",
     "text": [
      "\r",
      " 12%|████████████▋                                                                                            | 121/997 [28:08<3:25:11, 14.05s/it]"
     ]
    },
    {
     "name": "stdout",
     "output_type": "stream",
     "text": [
      "No objects to concatenate\n",
      "Future Where Ya At 11460979\n"
     ]
    },
    {
     "name": "stderr",
     "output_type": "stream",
     "text": [
      "\r",
      " 12%|████████████▊                                                                                            | 122/997 [28:27<3:47:56, 15.63s/it]"
     ]
    },
    {
     "name": "stdout",
     "output_type": "stream",
     "text": [
      "The Lumineers Ho Hey 11301979\n"
     ]
    },
    {
     "name": "stderr",
     "output_type": "stream",
     "text": [
      "\r",
      " 12%|████████████▉                                                                                            | 123/997 [28:28<2:43:36, 11.23s/it]"
     ]
    },
    {
     "name": "stdout",
     "output_type": "stream",
     "text": [
      "No objects to concatenate\n",
      "The Jackson 5 I Want You Back 8477980\n"
     ]
    },
    {
     "name": "stderr",
     "output_type": "stream",
     "text": [
      "\r",
      " 12%|█████████████                                                                                            | 124/997 [28:44<3:01:15, 12.46s/it]"
     ]
    },
    {
     "name": "stdout",
     "output_type": "stream",
     "text": [
      "No objects to concatenate\n",
      "Rihanna Work 9475980\n"
     ]
    },
    {
     "name": "stderr",
     "output_type": "stream",
     "text": [
      "\r",
      " 13%|█████████████▏                                                                                           | 125/997 [28:57<3:03:59, 12.66s/it]"
     ]
    },
    {
     "name": "stdout",
     "output_type": "stream",
     "text": [
      "No objects to concatenate\n",
      "Kendrick Lamar LOVE. FEAT. ZACARI. 10173980\n"
     ]
    },
    {
     "name": "stderr",
     "output_type": "stream",
     "text": [
      "\r",
      " 13%|█████████████▎                                                                                           | 126/997 [29:09<3:01:31, 12.50s/it]"
     ]
    },
    {
     "name": "stdout",
     "output_type": "stream",
     "text": [
      "No objects to concatenate\n",
      "Sam Hunt House Party 9297980\n"
     ]
    },
    {
     "name": "stderr",
     "output_type": "stream",
     "text": [
      "\r",
      " 13%|█████████████▍                                                                                           | 127/997 [29:16<2:38:05, 10.90s/it]"
     ]
    },
    {
     "name": "stdout",
     "output_type": "stream",
     "text": [
      "No objects to concatenate\n",
      "The Weeknd Earned It (Fifty Shades Of Grey) 10163980\n"
     ]
    },
    {
     "name": "stderr",
     "output_type": "stream",
     "text": [
      "\r",
      " 13%|█████████████▍                                                                                           | 128/997 [29:34<3:08:44, 13.03s/it]"
     ]
    },
    {
     "name": "stdout",
     "output_type": "stream",
     "text": [
      "No objects to concatenate\n",
      "Kanye West Waves 9635980\n"
     ]
    },
    {
     "name": "stderr",
     "output_type": "stream",
     "text": [
      "\r",
      " 13%|█████████████▌                                                                                           | 129/997 [29:48<3:11:38, 13.25s/it]"
     ]
    },
    {
     "name": "stdout",
     "output_type": "stream",
     "text": [
      "No objects to concatenate\n",
      "Kanye West POWER 9991980\n"
     ]
    },
    {
     "name": "stderr",
     "output_type": "stream",
     "text": [
      "\r",
      " 13%|█████████████▋                                                                                           | 130/997 [30:07<3:38:08, 15.10s/it]"
     ]
    },
    {
     "name": "stdout",
     "output_type": "stream",
     "text": [
      "Adele Someone Like You 9481980\n"
     ]
    },
    {
     "name": "stderr",
     "output_type": "stream",
     "text": [
      "\r",
      " 13%|█████████████▊                                                                                           | 131/997 [30:23<3:41:56, 15.38s/it]"
     ]
    },
    {
     "name": "stdout",
     "output_type": "stream",
     "text": [
      "No objects to concatenate\n",
      "2 Chainz It's A Vibe 9780980\n"
     ]
    },
    {
     "name": "stderr",
     "output_type": "stream",
     "text": [
      "\r",
      " 13%|█████████████▉                                                                                           | 132/997 [30:37<3:34:49, 14.90s/it]"
     ]
    },
    {
     "name": "stdout",
     "output_type": "stream",
     "text": [
      "No objects to concatenate\n",
      "OutKast Hey Ya! - Radio Mix / Club Mix 9216980\n"
     ]
    },
    {
     "name": "stderr",
     "output_type": "stream",
     "text": [
      "\r",
      " 13%|██████████████                                                                                           | 133/997 [30:55<3:48:10, 15.85s/it]"
     ]
    },
    {
     "name": "stdout",
     "output_type": "stream",
     "text": [
      "No objects to concatenate\n",
      "Rae Sremmurd No Type 10109980\n"
     ]
    },
    {
     "name": "stderr",
     "output_type": "stream",
     "text": [
      "\r",
      " 13%|██████████████                                                                                           | 134/997 [31:12<3:54:28, 16.30s/it]"
     ]
    },
    {
     "name": "stdout",
     "output_type": "stream",
     "text": [
      "No objects to concatenate\n",
      "The Temptations My Girl 8774980\n"
     ]
    },
    {
     "name": "stderr",
     "output_type": "stream",
     "text": [
      "\r",
      " 14%|██████████████▏                                                                                          | 135/997 [31:28<3:49:58, 16.01s/it]"
     ]
    },
    {
     "name": "stdout",
     "output_type": "stream",
     "text": [
      "No objects to concatenate\n",
      "Train Hey, Soul Sister 10771980\n"
     ]
    },
    {
     "name": "stderr",
     "output_type": "stream",
     "text": [
      "\r",
      " 14%|██████████████▎                                                                                          | 136/997 [31:33<3:04:01, 12.82s/it]"
     ]
    },
    {
     "name": "stdout",
     "output_type": "stream",
     "text": [
      "No objects to concatenate\n",
      "Alessia Cara Here 11239980\n"
     ]
    },
    {
     "name": "stderr",
     "output_type": "stream",
     "text": [
      "\r",
      " 14%|██████████████▍                                                                                          | 137/997 [31:52<3:27:59, 14.51s/it]"
     ]
    },
    {
     "name": "stdout",
     "output_type": "stream",
     "text": [
      "No objects to concatenate\n",
      "Rae Sremmurd Swang 8879980\n"
     ]
    },
    {
     "name": "stderr",
     "output_type": "stream",
     "text": [
      "\r",
      " 14%|██████████████▌                                                                                          | 138/997 [32:06<3:25:32, 14.36s/it]"
     ]
    },
    {
     "name": "stdout",
     "output_type": "stream",
     "text": [
      "No objects to concatenate\n",
      "J. Cole Deja Vu 9735980\n"
     ]
    },
    {
     "name": "stderr",
     "output_type": "stream",
     "text": [
      "\r",
      " 14%|██████████████▋                                                                                          | 139/997 [32:24<3:42:57, 15.59s/it]"
     ]
    },
    {
     "name": "stdout",
     "output_type": "stream",
     "text": [
      "No objects to concatenate\n",
      "Lil Yachty One Night 9522980\n"
     ]
    },
    {
     "name": "stderr",
     "output_type": "stream",
     "text": [
      "\r",
      " 14%|██████████████▋                                                                                          | 140/997 [32:41<3:49:27, 16.06s/it]"
     ]
    },
    {
     "name": "stdout",
     "output_type": "stream",
     "text": [
      "No objects to concatenate\n",
      "J. Cole Power Trip 9635981\n"
     ]
    },
    {
     "name": "stderr",
     "output_type": "stream",
     "text": [
      "\r",
      " 14%|██████████████▊                                                                                          | 141/997 [32:59<3:54:32, 16.44s/it]"
     ]
    },
    {
     "name": "stdout",
     "output_type": "stream",
     "text": [
      "No objects to concatenate\n",
      "Ayo & Teo Rolex 9753981\n"
     ]
    },
    {
     "name": "stderr",
     "output_type": "stream",
     "text": [
      "\r",
      " 14%|██████████████▉                                                                                          | 142/997 [33:12<3:42:59, 15.65s/it]"
     ]
    },
    {
     "name": "stdout",
     "output_type": "stream",
     "text": [
      "No objects to concatenate\n",
      "Russ What They Want 10670981\n"
     ]
    },
    {
     "name": "stderr",
     "output_type": "stream",
     "text": [
      "\r",
      " 14%|███████████████                                                                                          | 143/997 [33:26<3:35:19, 15.13s/it]"
     ]
    },
    {
     "name": "stdout",
     "output_type": "stream",
     "text": [
      "No objects to concatenate\n",
      "Mark Ronson Uptown Funk 9095981\n"
     ]
    },
    {
     "name": "stderr",
     "output_type": "stream",
     "text": [
      "\r",
      " 14%|███████████████▏                                                                                         | 144/997 [33:44<3:44:58, 15.83s/it]"
     ]
    },
    {
     "name": "stdout",
     "output_type": "stream",
     "text": [
      "No objects to concatenate\n",
      "Jack Ü Where Are Ü Now (with Justin Bieber) 10673981\n"
     ]
    },
    {
     "name": "stderr",
     "output_type": "stream",
     "text": [
      "\r",
      " 15%|███████████████▎                                                                                         | 145/997 [33:57<3:34:05, 15.08s/it]"
     ]
    },
    {
     "name": "stdout",
     "output_type": "stream",
     "text": [
      "No objects to concatenate\n",
      "Drake Energy 11670981\n"
     ]
    },
    {
     "name": "stderr",
     "output_type": "stream",
     "text": [
      "\r",
      " 15%|███████████████▍                                                                                         | 146/997 [34:16<3:50:59, 16.29s/it]"
     ]
    },
    {
     "name": "stdout",
     "output_type": "stream",
     "text": [
      "BØRNS Electric Love 9042981\n"
     ]
    },
    {
     "name": "stderr",
     "output_type": "stream",
     "text": [
      "\r",
      " 15%|███████████████▍                                                                                         | 147/997 [34:33<3:53:01, 16.45s/it]"
     ]
    },
    {
     "name": "stdout",
     "output_type": "stream",
     "text": [
      "No objects to concatenate\n",
      "Calvin Harris Rollin 10242981\n"
     ]
    },
    {
     "name": "stderr",
     "output_type": "stream",
     "text": [
      "\r",
      " 15%|███████████████▌                                                                                         | 148/997 [34:47<3:42:19, 15.71s/it]"
     ]
    },
    {
     "name": "stdout",
     "output_type": "stream",
     "text": [
      "No objects to concatenate\n",
      "John Legend All of Me 9415981\n"
     ]
    },
    {
     "name": "stderr",
     "output_type": "stream",
     "text": [
      "\r",
      " 15%|███████████████▋                                                                                         | 149/997 [35:05<3:51:05, 16.35s/it]"
     ]
    },
    {
     "name": "stdout",
     "output_type": "stream",
     "text": [
      "No objects to concatenate\n",
      "gnash i hate u, i love u (feat. olivia o'brien) 7859981\n"
     ]
    },
    {
     "name": "stderr",
     "output_type": "stream",
     "text": [
      "\r",
      " 15%|███████████████▊                                                                                         | 150/997 [35:21<3:49:44, 16.27s/it]"
     ]
    },
    {
     "name": "stdout",
     "output_type": "stream",
     "text": [
      "No objects to concatenate\n",
      "Kendrick Lamar Backseat Freestyle 7045981\n"
     ]
    },
    {
     "name": "stderr",
     "output_type": "stream",
     "text": [
      "\r",
      " 15%|███████████████▉                                                                                         | 151/997 [35:39<3:58:07, 16.89s/it]"
     ]
    },
    {
     "name": "stdout",
     "output_type": "stream",
     "text": [
      "No objects to concatenate\n",
      "Bon Jovi Livin' On A Prayer 8463981\n"
     ]
    },
    {
     "name": "stderr",
     "output_type": "stream",
     "text": [
      "\r",
      " 15%|████████████████                                                                                         | 152/997 [35:44<3:05:43, 13.19s/it]"
     ]
    },
    {
     "name": "stdout",
     "output_type": "stream",
     "text": [
      "No objects to concatenate\n",
      "Drake Portland 10070981\n"
     ]
    },
    {
     "name": "stderr",
     "output_type": "stream",
     "text": [
      "\r",
      " 15%|████████████████                                                                                         | 153/997 [35:58<3:08:42, 13.42s/it]"
     ]
    },
    {
     "name": "stdout",
     "output_type": "stream",
     "text": [
      "No objects to concatenate\n",
      "Kygo It Ain't Me (with Selena Gomez) 11037981\n"
     ]
    },
    {
     "name": "stderr",
     "output_type": "stream",
     "text": [
      "\r",
      " 15%|████████████████▏                                                                                        | 154/997 [36:07<2:52:34, 12.28s/it]"
     ]
    },
    {
     "name": "stdout",
     "output_type": "stream",
     "text": [
      "No objects to concatenate\n",
      "Drake Best I Ever Had 8666981\n"
     ]
    },
    {
     "name": "stderr",
     "output_type": "stream",
     "text": [
      "\r",
      " 16%|████████████████▎                                                                                        | 155/997 [36:25<3:16:48, 14.02s/it]"
     ]
    },
    {
     "name": "stdout",
     "output_type": "stream",
     "text": [
      "No objects to concatenate\n",
      "Adele Hello 6902981\n"
     ]
    },
    {
     "name": "stderr",
     "output_type": "stream",
     "text": [
      "\r",
      " 16%|████████████████▍                                                                                        | 156/997 [36:41<3:24:51, 14.62s/it]"
     ]
    },
    {
     "name": "stdout",
     "output_type": "stream",
     "text": [
      "No objects to concatenate\n",
      "Ice Cube It Was A Good Day 8772981\n"
     ]
    },
    {
     "name": "stderr",
     "output_type": "stream",
     "text": [
      "\r",
      " 16%|████████████████▌                                                                                        | 157/997 [37:00<3:39:18, 15.67s/it]"
     ]
    },
    {
     "name": "stdout",
     "output_type": "stream",
     "text": [
      "No objects to concatenate\n",
      "Justin Timberlake CAN'T STOP THE FEELING! (Original Song from DreamWorks Animation's \"TROLLS\") 9730981\n"
     ]
    },
    {
     "name": "stderr",
     "output_type": "stream",
     "text": [
      "\r",
      " 16%|████████████████▋                                                                                        | 158/997 [37:07<3:05:15, 13.25s/it]"
     ]
    },
    {
     "name": "stdout",
     "output_type": "stream",
     "text": [
      "No objects to concatenate\n",
      "Coldplay Viva La Vida 7889982\n"
     ]
    },
    {
     "name": "stderr",
     "output_type": "stream",
     "text": [
      "\r",
      " 16%|████████████████▋                                                                                        | 159/997 [37:13<2:33:23, 10.98s/it]"
     ]
    },
    {
     "name": "stdout",
     "output_type": "stream",
     "text": [
      "No objects to concatenate\n",
      "Lil Wayne Love Me 6853982\n"
     ]
    },
    {
     "name": "stderr",
     "output_type": "stream",
     "text": [
      "\r",
      " 16%|████████████████▊                                                                                        | 160/997 [37:26<2:42:07, 11.62s/it]"
     ]
    },
    {
     "name": "stdout",
     "output_type": "stream",
     "text": [
      "No objects to concatenate\n",
      "Thomas Rhett T-Shirt 7749982\n"
     ]
    },
    {
     "name": "stderr",
     "output_type": "stream",
     "text": [
      "\r",
      " 16%|████████████████▉                                                                                        | 161/997 [37:32<2:18:11,  9.92s/it]"
     ]
    },
    {
     "name": "stdout",
     "output_type": "stream",
     "text": [
      "No objects to concatenate\n",
      "Weezer Island In The Sun 9626982\n"
     ]
    },
    {
     "name": "stderr",
     "output_type": "stream",
     "text": [
      "\r",
      " 16%|█████████████████                                                                                        | 162/997 [37:37<1:59:15,  8.57s/it]"
     ]
    },
    {
     "name": "stdout",
     "output_type": "stream",
     "text": [
      "No objects to concatenate\n",
      "Zac Brown Band Chicken Fried 9589982\n"
     ]
    },
    {
     "name": "stderr",
     "output_type": "stream",
     "text": [
      "\r",
      " 16%|█████████████████▏                                                                                       | 163/997 [37:43<1:47:15,  7.72s/it]"
     ]
    },
    {
     "name": "stdout",
     "output_type": "stream",
     "text": [
      "No objects to concatenate\n",
      "blink-182 All The Small Things 9445982\n"
     ]
    },
    {
     "name": "stderr",
     "output_type": "stream",
     "text": [
      "\r",
      " 16%|█████████████████▎                                                                                       | 164/997 [38:00<2:25:20, 10.47s/it]"
     ]
    },
    {
     "name": "stdout",
     "output_type": "stream",
     "text": [
      "No objects to concatenate\n",
      "Kid Cudi Day 'N' Nite (nightmare) 7314982\n"
     ]
    },
    {
     "name": "stderr",
     "output_type": "stream",
     "text": [
      "\r",
      " 17%|█████████████████▍                                                                                       | 165/997 [38:13<2:37:10, 11.33s/it]"
     ]
    },
    {
     "name": "stdout",
     "output_type": "stream",
     "text": [
      "No objects to concatenate\n",
      "Drake Headlines 10764982\n"
     ]
    },
    {
     "name": "stderr",
     "output_type": "stream",
     "text": [
      "\r",
      " 17%|█████████████████▍                                                                                       | 166/997 [38:27<2:47:10, 12.07s/it]"
     ]
    },
    {
     "name": "stdout",
     "output_type": "stream",
     "text": [
      "No objects to concatenate\n",
      "Kid Cudi Pursuit Of Happiness (nightmare) 8153982\n"
     ]
    },
    {
     "name": "stderr",
     "output_type": "stream",
     "text": [
      "\r",
      " 17%|█████████████████▌                                                                                       | 167/997 [38:45<3:09:02, 13.67s/it]"
     ]
    },
    {
     "name": "stdout",
     "output_type": "stream",
     "text": [
      "No objects to concatenate\n",
      "Migos Get Right Witcha 8734982\n"
     ]
    },
    {
     "name": "stderr",
     "output_type": "stream",
     "text": [
      "\r",
      " 17%|█████████████████▋                                                                                       | 168/997 [38:58<3:09:03, 13.68s/it]"
     ]
    },
    {
     "name": "stdout",
     "output_type": "stream",
     "text": [
      "No objects to concatenate\n",
      "Russ Losin Control 9223982\n"
     ]
    },
    {
     "name": "stderr",
     "output_type": "stream",
     "text": [
      "\r",
      " 17%|█████████████████▊                                                                                       | 169/997 [39:14<3:15:57, 14.20s/it]"
     ]
    },
    {
     "name": "stdout",
     "output_type": "stream",
     "text": [
      "No objects to concatenate\n",
      "Darius Rucker Wagon Wheel 7482982\n"
     ]
    },
    {
     "name": "stderr",
     "output_type": "stream",
     "text": [
      "\r",
      " 17%|█████████████████▉                                                                                       | 170/997 [39:19<2:40:30, 11.65s/it]"
     ]
    },
    {
     "name": "stdout",
     "output_type": "stream",
     "text": [
      "No objects to concatenate\n",
      "Disclosure Latch 7733982\n"
     ]
    },
    {
     "name": "stderr",
     "output_type": "stream",
     "text": [
      "\r",
      " 17%|██████████████████                                                                                       | 171/997 [39:37<3:03:11, 13.31s/it]"
     ]
    },
    {
     "name": "stdout",
     "output_type": "stream",
     "text": [
      "No objects to concatenate\n",
      "Train Drops of Jupiter 8611982\n"
     ]
    },
    {
     "name": "stderr",
     "output_type": "stream",
     "text": [
      "\r",
      " 17%|██████████████████                                                                                       | 172/997 [39:42<2:30:24, 10.94s/it]"
     ]
    },
    {
     "name": "stdout",
     "output_type": "stream",
     "text": [
      "No objects to concatenate\n",
      "Lorde Royals 10399982\n"
     ]
    },
    {
     "name": "stderr",
     "output_type": "stream",
     "text": [
      "\r",
      " 17%|██████████████████▏                                                                                      | 173/997 [40:00<2:58:37, 13.01s/it]"
     ]
    },
    {
     "name": "stdout",
     "output_type": "stream",
     "text": [
      "No objects to concatenate\n",
      "Drake Pop Style 8885982\n"
     ]
    },
    {
     "name": "stderr",
     "output_type": "stream",
     "text": [
      "\r",
      " 17%|██████████████████▎                                                                                      | 174/997 [40:16<3:12:13, 14.01s/it]"
     ]
    },
    {
     "name": "stdout",
     "output_type": "stream",
     "text": [
      "No objects to concatenate\n",
      "Billy Joel Piano Man 9491982\n"
     ]
    },
    {
     "name": "stderr",
     "output_type": "stream",
     "text": [
      "\r",
      " 18%|██████████████████▍                                                                                      | 175/997 [40:31<3:16:35, 14.35s/it]"
     ]
    },
    {
     "name": "stdout",
     "output_type": "stream",
     "text": [
      "No objects to concatenate\n",
      "Foster The People Pumped Up Kicks 10240982\n"
     ]
    },
    {
     "name": "stderr",
     "output_type": "stream",
     "text": [
      "\r",
      " 18%|██████████████████▌                                                                                      | 176/997 [40:32<2:20:46, 10.29s/it]"
     ]
    },
    {
     "name": "stdout",
     "output_type": "stream",
     "text": [
      "No objects to concatenate\n",
      "Kevin Gates 2 Phones 8913982\n"
     ]
    },
    {
     "name": "stderr",
     "output_type": "stream",
     "text": [
      "\r",
      " 18%|██████████████████▋                                                                                      | 177/997 [40:49<2:47:01, 12.22s/it]"
     ]
    },
    {
     "name": "stdout",
     "output_type": "stream",
     "text": [
      "No objects to concatenate\n",
      "Sam Smith I'm Not The Only One 10724982\n"
     ]
    },
    {
     "name": "stderr",
     "output_type": "stream",
     "text": [
      "\r",
      " 18%|██████████████████▋                                                                                      | 178/997 [41:07<3:10:52, 13.98s/it]"
     ]
    },
    {
     "name": "stdout",
     "output_type": "stream",
     "text": [
      "No objects to concatenate\n",
      "Kanye West Black Skinhead 8043982\n"
     ]
    },
    {
     "name": "stderr",
     "output_type": "stream",
     "text": [
      "\r",
      " 18%|██████████████████▊                                                                                      | 179/997 [41:26<3:30:09, 15.42s/it]"
     ]
    },
    {
     "name": "stdout",
     "output_type": "stream",
     "text": [
      "Zara Larsson Never Forget You 10133982\n"
     ]
    },
    {
     "name": "stderr",
     "output_type": "stream",
     "text": [
      "\r",
      " 18%|██████████████████▉                                                                                      | 180/997 [41:34<3:00:38, 13.27s/it]"
     ]
    },
    {
     "name": "stdout",
     "output_type": "stream",
     "text": [
      "No objects to concatenate\n",
      "DJ Snake You Know You Like It 8090982\n"
     ]
    },
    {
     "name": "stderr",
     "output_type": "stream",
     "text": [
      "\r",
      " 18%|███████████████████                                                                                      | 181/997 [41:52<3:21:41, 14.83s/it]"
     ]
    },
    {
     "name": "stdout",
     "output_type": "stream",
     "text": [
      "No objects to concatenate\n",
      "Chance The Rapper Juke Jam (feat. Justin Bieber & Towkio) 11072982\n"
     ]
    },
    {
     "name": "stderr",
     "output_type": "stream",
     "text": [
      "\r",
      " 18%|███████████████████▏                                                                                     | 182/997 [42:04<3:09:52, 13.98s/it]"
     ]
    },
    {
     "name": "stdout",
     "output_type": "stream",
     "text": [
      "No objects to concatenate\n",
      "Drake Gyalchester 7397982\n"
     ]
    },
    {
     "name": "stderr",
     "output_type": "stream",
     "text": [
      "\r",
      " 18%|███████████████████▎                                                                                     | 183/997 [42:18<3:08:34, 13.90s/it]"
     ]
    },
    {
     "name": "stdout",
     "output_type": "stream",
     "text": [
      "No objects to concatenate\n",
      "Drake 0 To 100 / The Catch Up 10247982\n"
     ]
    },
    {
     "name": "stderr",
     "output_type": "stream",
     "text": [
      "\r",
      " 18%|███████████████████▍                                                                                     | 184/997 [42:35<3:22:04, 14.91s/it]"
     ]
    },
    {
     "name": "stdout",
     "output_type": "stream",
     "text": [
      "No objects to concatenate\n",
      "Calvin Harris Summer 9151982\n"
     ]
    },
    {
     "name": "stderr",
     "output_type": "stream",
     "text": [
      "\r",
      " 19%|███████████████████▍                                                                                     | 185/997 [42:52<3:29:02, 15.45s/it]"
     ]
    },
    {
     "name": "stdout",
     "output_type": "stream",
     "text": [
      "No objects to concatenate\n",
      "T-Pain Buy U a Drank (Shawty Snappin') 9771982\n"
     ]
    },
    {
     "name": "stderr",
     "output_type": "stream",
     "text": [
      "\r",
      " 19%|███████████████████▌                                                                                     | 186/997 [43:09<3:33:42, 15.81s/it]"
     ]
    },
    {
     "name": "stdout",
     "output_type": "stream",
     "text": [
      "No objects to concatenate\n",
      "The Neighbourhood Sweater Weather 7561982\n"
     ]
    },
    {
     "name": "stderr",
     "output_type": "stream",
     "text": [
      "\r",
      " 19%|███████████████████▋                                                                                     | 187/997 [43:09<2:32:06, 11.27s/it]"
     ]
    },
    {
     "name": "stdout",
     "output_type": "stream",
     "text": [
      "No objects to concatenate\n",
      "Boston More Than a Feeling 9012982\n"
     ]
    },
    {
     "name": "stderr",
     "output_type": "stream",
     "text": [
      "\r",
      " 19%|███████████████████▊                                                                                     | 188/997 [43:25<2:47:34, 12.43s/it]"
     ]
    },
    {
     "name": "stdout",
     "output_type": "stream",
     "text": [
      "No objects to concatenate\n",
      "Creedence Clearwater Revival Have You Ever Seen The Rain? 9597982\n"
     ]
    },
    {
     "name": "stderr",
     "output_type": "stream",
     "text": [
      "\r",
      " 19%|███████████████████▉                                                                                     | 189/997 [43:39<2:55:46, 13.05s/it]"
     ]
    },
    {
     "name": "stdout",
     "output_type": "stream",
     "text": [
      "No objects to concatenate\n",
      "Bruno Mars Locked Out Of Heaven 7046982\n"
     ]
    },
    {
     "name": "stderr",
     "output_type": "stream",
     "text": [
      "\r",
      " 19%|████████████████████                                                                                     | 190/997 [43:57<3:15:30, 14.54s/it]"
     ]
    },
    {
     "name": "stdout",
     "output_type": "stream",
     "text": [
      "No objects to concatenate\n",
      "The Lumineers Ophelia 8712982\n"
     ]
    },
    {
     "name": "stderr",
     "output_type": "stream",
     "text": [
      "\r",
      " 19%|████████████████████                                                                                     | 191/997 [43:58<2:19:26, 10.38s/it]"
     ]
    },
    {
     "name": "stdout",
     "output_type": "stream",
     "text": [
      "No objects to concatenate\n",
      "Queen Don't Stop Me Now - Remastered 9810982\n"
     ]
    },
    {
     "name": "stderr",
     "output_type": "stream",
     "text": [
      "\r",
      " 19%|████████████████████▏                                                                                    | 192/997 [44:12<2:36:52, 11.69s/it]"
     ]
    },
    {
     "name": "stdout",
     "output_type": "stream",
     "text": [
      "No objects to concatenate\n",
      "MadeinTYO Uber Everywhere 8649982\n"
     ]
    },
    {
     "name": "stderr",
     "output_type": "stream",
     "text": [
      "\r",
      " 19%|████████████████████▎                                                                                    | 193/997 [44:29<2:55:52, 13.13s/it]"
     ]
    },
    {
     "name": "stdout",
     "output_type": "stream",
     "text": [
      "No objects to concatenate\n",
      "Bryan Adams Summer Of '69 9251982\n"
     ]
    },
    {
     "name": "stderr",
     "output_type": "stream",
     "text": [
      "\r",
      " 19%|████████████████████▍                                                                                    | 194/997 [44:33<2:21:02, 10.54s/it]"
     ]
    },
    {
     "name": "stdout",
     "output_type": "stream",
     "text": [
      "No objects to concatenate\n",
      "Jack Johnson Banana Pancakes 8880983\n"
     ]
    },
    {
     "name": "stderr",
     "output_type": "stream",
     "text": [
      "\r",
      " 20%|████████████████████▌                                                                                    | 195/997 [44:49<2:39:38, 11.94s/it]"
     ]
    },
    {
     "name": "stdout",
     "output_type": "stream",
     "text": [
      "No objects to concatenate\n",
      "ZAYN PILLOWTALK 9886983\n"
     ]
    },
    {
     "name": "stderr",
     "output_type": "stream",
     "text": [
      "\r",
      " 20%|████████████████████▋                                                                                    | 196/997 [44:57<2:24:10, 10.80s/it]"
     ]
    },
    {
     "name": "stdout",
     "output_type": "stream",
     "text": [
      "No objects to concatenate\n",
      "Kanye West Father Stretch My Hands Pt. 1 8523983\n"
     ]
    },
    {
     "name": "stderr",
     "output_type": "stream",
     "text": [
      "\r",
      " 20%|████████████████████▋                                                                                    | 197/997 [45:14<2:50:16, 12.77s/it]"
     ]
    },
    {
     "name": "stdout",
     "output_type": "stream",
     "text": [
      "No objects to concatenate\n",
      "The Notorious B.I.G. Juicy 6553983\n"
     ]
    },
    {
     "name": "stderr",
     "output_type": "stream",
     "text": [
      "\r",
      " 20%|████████████████████▊                                                                                    | 198/997 [45:31<3:05:36, 13.94s/it]"
     ]
    },
    {
     "name": "stdout",
     "output_type": "stream",
     "text": [
      "No objects to concatenate\n",
      "Playboi Carti Magnolia 7767983\n"
     ]
    },
    {
     "name": "stderr",
     "output_type": "stream",
     "text": [
      "\r",
      " 20%|████████████████████▉                                                                                    | 199/997 [45:49<3:20:16, 15.06s/it]"
     ]
    },
    {
     "name": "stdout",
     "output_type": "stream",
     "text": [
      "No objects to concatenate\n",
      "Calvin Harris This Is What You Came For 8697983\n"
     ]
    },
    {
     "name": "stderr",
     "output_type": "stream",
     "text": [
      "\r",
      " 20%|█████████████████████                                                                                    | 200/997 [46:01<3:10:09, 14.32s/it]"
     ]
    },
    {
     "name": "stdout",
     "output_type": "stream",
     "text": [
      "No objects to concatenate\n",
      "DJ Snake Let Me Love You 9101983\n"
     ]
    },
    {
     "name": "stderr",
     "output_type": "stream",
     "text": [
      "\r",
      " 20%|█████████████████████▏                                                                                   | 201/997 [46:09<2:42:49, 12.27s/it]"
     ]
    },
    {
     "name": "stdout",
     "output_type": "stream",
     "text": [
      "No objects to concatenate\n",
      "ScHoolboy Q Collard Greens 7592983\n"
     ]
    },
    {
     "name": "stderr",
     "output_type": "stream",
     "text": [
      "\r",
      " 20%|█████████████████████▎                                                                                   | 202/997 [46:23<2:49:51, 12.82s/it]"
     ]
    },
    {
     "name": "stdout",
     "output_type": "stream",
     "text": [
      "No objects to concatenate\n",
      "Lukas Graham 7 Years 6568983\n"
     ]
    },
    {
     "name": "stderr",
     "output_type": "stream",
     "text": [
      "\r",
      " 20%|█████████████████████▍                                                                                   | 203/997 [46:31<2:31:10, 11.42s/it]"
     ]
    },
    {
     "name": "stdout",
     "output_type": "stream",
     "text": [
      "No objects to concatenate\n",
      "Kent Jones Don't Mind 8504983\n"
     ]
    },
    {
     "name": "stderr",
     "output_type": "stream",
     "text": [
      "\r",
      " 20%|█████████████████████▍                                                                                   | 204/997 [46:48<2:51:45, 13.00s/it]"
     ]
    },
    {
     "name": "stdout",
     "output_type": "stream",
     "text": [
      "No objects to concatenate\n",
      "Matoma Old Thing Back (feat. Ja Rule and Ralph Tresvant) 8335983\n"
     ]
    },
    {
     "name": "stderr",
     "output_type": "stream",
     "text": [
      "\r",
      " 21%|█████████████████████▌                                                                                   | 205/997 [47:04<3:04:51, 14.00s/it]"
     ]
    },
    {
     "name": "stdout",
     "output_type": "stream",
     "text": [
      "No objects to concatenate\n",
      "Bon Jovi You Give Love A Bad Name 7740983\n"
     ]
    },
    {
     "name": "stderr",
     "output_type": "stream",
     "text": [
      "\r",
      " 21%|█████████████████████▋                                                                                   | 206/997 [47:18<3:05:20, 14.06s/it]"
     ]
    },
    {
     "name": "stdout",
     "output_type": "stream",
     "text": [
      "No objects to concatenate\n",
      "Jon Bellion All Time Low 6908983\n"
     ]
    },
    {
     "name": "stderr",
     "output_type": "stream",
     "text": [
      "\r",
      " 21%|█████████████████████▊                                                                                   | 207/997 [47:31<2:59:55, 13.67s/it]"
     ]
    },
    {
     "name": "stdout",
     "output_type": "stream",
     "text": [
      "No objects to concatenate\n",
      "The Weeknd In The Night 6744983\n"
     ]
    },
    {
     "name": "stderr",
     "output_type": "stream",
     "text": [
      "\r",
      " 21%|█████████████████████▉                                                                                   | 208/997 [47:47<3:09:33, 14.41s/it]"
     ]
    },
    {
     "name": "stdout",
     "output_type": "stream",
     "text": [
      "No objects to concatenate\n",
      "Fleetwood Mac Go Your Own Way - 2004 Remastered Edition 9112983\n"
     ]
    },
    {
     "name": "stderr",
     "output_type": "stream",
     "text": [
      "\r",
      " 21%|██████████████████████                                                                                   | 209/997 [47:54<2:41:01, 12.26s/it]"
     ]
    },
    {
     "name": "stdout",
     "output_type": "stream",
     "text": [
      "No objects to concatenate\n",
      "Aerosmith Dream On 7871983\n"
     ]
    },
    {
     "name": "stderr",
     "output_type": "stream",
     "text": [
      "\r",
      " 21%|██████████████████████                                                                                   | 210/997 [47:59<2:09:58,  9.91s/it]"
     ]
    },
    {
     "name": "stdout",
     "output_type": "stream",
     "text": [
      "No objects to concatenate\n",
      "Disclosure You & Me - Flume Remix 8176983\n"
     ]
    },
    {
     "name": "stderr",
     "output_type": "stream",
     "text": [
      "\r",
      " 21%|██████████████████████▏                                                                                  | 211/997 [48:15<2:34:30, 11.79s/it]"
     ]
    },
    {
     "name": "stdout",
     "output_type": "stream",
     "text": [
      "No objects to concatenate\n",
      "Of Monsters and Men Little Talks 7250983\n"
     ]
    },
    {
     "name": "stderr",
     "output_type": "stream",
     "text": [
      "\r",
      " 21%|██████████████████████▎                                                                                  | 212/997 [48:16<1:50:37,  8.46s/it]"
     ]
    },
    {
     "name": "stdout",
     "output_type": "stream",
     "text": [
      "No objects to concatenate\n",
      "Red Hot Chili Peppers Snow (Hey Oh) - Hey Oh Album Version 8658983\n"
     ]
    },
    {
     "name": "stderr",
     "output_type": "stream",
     "text": [
      "\r",
      " 21%|██████████████████████▍                                                                                  | 213/997 [48:30<2:13:39, 10.23s/it]"
     ]
    },
    {
     "name": "stdout",
     "output_type": "stream",
     "text": [
      "No objects to concatenate\n",
      "Eminem Rap God 7319983\n"
     ]
    },
    {
     "name": "stderr",
     "output_type": "stream",
     "text": [
      "\r",
      " 21%|██████████████████████▌                                                                                  | 214/997 [48:41<2:18:57, 10.65s/it]"
     ]
    },
    {
     "name": "stdout",
     "output_type": "stream",
     "text": [
      "No objects to concatenate\n",
      "Brett Young In Case You Didn't Know 9642983\n"
     ]
    },
    {
     "name": "stderr",
     "output_type": "stream",
     "text": [
      "\r",
      " 22%|██████████████████████▋                                                                                  | 215/997 [48:47<1:59:12,  9.15s/it]"
     ]
    },
    {
     "name": "stdout",
     "output_type": "stream",
     "text": [
      "No objects to concatenate\n",
      "Kygo Firestone 7474983\n"
     ]
    },
    {
     "name": "stderr",
     "output_type": "stream",
     "text": [
      "\r",
      " 22%|██████████████████████▋                                                                                  | 216/997 [49:06<2:38:04, 12.14s/it]"
     ]
    },
    {
     "name": "stdout",
     "output_type": "stream",
     "text": [
      "Niall Horan Slow Hands 8550983\n"
     ]
    },
    {
     "name": "stderr",
     "output_type": "stream",
     "text": [
      "\r",
      " 22%|██████████████████████▊                                                                                  | 217/997 [49:21<2:48:02, 12.93s/it]"
     ]
    },
    {
     "name": "stdout",
     "output_type": "stream",
     "text": [
      "No objects to concatenate\n",
      "Maroon 5 Sugar 8343983\n"
     ]
    },
    {
     "name": "stderr",
     "output_type": "stream",
     "text": [
      "\r",
      " 22%|██████████████████████▉                                                                                  | 218/997 [49:33<2:44:04, 12.64s/it]"
     ]
    },
    {
     "name": "stdout",
     "output_type": "stream",
     "text": [
      "No objects to concatenate\n",
      "Calvin Harris How Deep Is Your Love 7964983\n"
     ]
    },
    {
     "name": "stderr",
     "output_type": "stream",
     "text": [
      "\r",
      " 22%|███████████████████████                                                                                  | 219/997 [49:51<3:03:02, 14.12s/it]"
     ]
    },
    {
     "name": "stdout",
     "output_type": "stream",
     "text": [
      "No objects to concatenate\n",
      "Queen Under Pressure - Remastered 2011 9105983\n"
     ]
    },
    {
     "name": "stderr",
     "output_type": "stream",
     "text": [
      "\r",
      " 22%|███████████████████████▏                                                                                 | 220/997 [49:56<2:29:58, 11.58s/it]"
     ]
    },
    {
     "name": "stdout",
     "output_type": "stream",
     "text": [
      "No objects to concatenate\n",
      "Lil Wayne 6 Foot 7 Foot 6847983\n"
     ]
    },
    {
     "name": "stderr",
     "output_type": "stream",
     "text": [
      "\r",
      " 22%|███████████████████████▎                                                                                 | 221/997 [50:09<2:35:57, 12.06s/it]"
     ]
    },
    {
     "name": "stdout",
     "output_type": "stream",
     "text": [
      "No objects to concatenate\n",
      "Portugal. The Man Feel It Still 7140983\n"
     ]
    },
    {
     "name": "stderr",
     "output_type": "stream",
     "text": [
      "\r",
      " 22%|███████████████████████▍                                                                                 | 222/997 [50:10<1:51:50,  8.66s/it]"
     ]
    },
    {
     "name": "stdout",
     "output_type": "stream",
     "text": [
      "No objects to concatenate\n",
      "Semisonic Closing Time 9558983\n"
     ]
    },
    {
     "name": "stderr",
     "output_type": "stream",
     "text": [
      "\r",
      " 22%|███████████████████████▍                                                                                 | 223/997 [50:15<1:37:03,  7.52s/it]"
     ]
    },
    {
     "name": "stdout",
     "output_type": "stream",
     "text": [
      "No objects to concatenate\n",
      "Eminem Lose Yourself - Soundtrack Version 8257983\n"
     ]
    },
    {
     "name": "stderr",
     "output_type": "stream",
     "text": [
      "\r",
      " 22%|███████████████████████▌                                                                                 | 224/997 [50:26<1:50:12,  8.55s/it]"
     ]
    },
    {
     "name": "stdout",
     "output_type": "stream",
     "text": [
      "No objects to concatenate\n",
      "Maroon 5 She Will Be Loved - Radio Mix 9669983\n"
     ]
    },
    {
     "name": "stderr",
     "output_type": "stream",
     "text": [
      "\r",
      " 23%|███████████████████████▋                                                                                 | 225/997 [50:42<2:19:47, 10.87s/it]"
     ]
    },
    {
     "name": "stdout",
     "output_type": "stream",
     "text": [
      "No objects to concatenate\n",
      "Dexys Midnight Runners Come On Eileen 9309983\n"
     ]
    },
    {
     "name": "stderr",
     "output_type": "stream",
     "text": [
      "\r",
      " 23%|███████████████████████▊                                                                                 | 226/997 [50:57<2:33:26, 11.94s/it]"
     ]
    },
    {
     "name": "stdout",
     "output_type": "stream",
     "text": [
      "No objects to concatenate\n",
      "Travis Scott Butterfly Effect 8833983\n"
     ]
    },
    {
     "name": "stderr",
     "output_type": "stream",
     "text": [
      "\r",
      " 23%|███████████████████████▉                                                                                 | 227/997 [51:15<2:58:03, 13.88s/it]"
     ]
    },
    {
     "name": "stdout",
     "output_type": "stream",
     "text": [
      "No objects to concatenate\n",
      "Guns N' Roses Paradise City 7586983\n"
     ]
    },
    {
     "name": "stderr",
     "output_type": "stream",
     "text": [
      "\r",
      " 23%|████████████████████████                                                                                 | 228/997 [51:19<2:21:28, 11.04s/it]"
     ]
    },
    {
     "name": "stdout",
     "output_type": "stream",
     "text": [
      "No objects to concatenate\n",
      "Kodak Black Too Many Years 9461983\n"
     ]
    },
    {
     "name": "stderr",
     "output_type": "stream",
     "text": [
      "\r",
      " 23%|████████████████████████                                                                                 | 229/997 [51:33<2:30:12, 11.74s/it]"
     ]
    },
    {
     "name": "stdout",
     "output_type": "stream",
     "text": [
      "No objects to concatenate\n",
      "Sia Cheap Thrills 8778983\n"
     ]
    },
    {
     "name": "stderr",
     "output_type": "stream",
     "text": [
      "\r",
      " 23%|████████████████████████▏                                                                                | 230/997 [51:45<2:33:00, 11.97s/it]"
     ]
    },
    {
     "name": "stdout",
     "output_type": "stream",
     "text": [
      "No objects to concatenate\n",
      "Beyoncé Crazy In Love 9824984\n"
     ]
    },
    {
     "name": "stderr",
     "output_type": "stream",
     "text": [
      "\r",
      " 23%|████████████████████████▎                                                                                | 231/997 [52:02<2:51:18, 13.42s/it]"
     ]
    },
    {
     "name": "stdout",
     "output_type": "stream",
     "text": [
      "No objects to concatenate\n",
      "Drake Childs Play 9244984\n"
     ]
    },
    {
     "name": "stderr",
     "output_type": "stream",
     "text": [
      "\r",
      " 23%|████████████████████████▍                                                                                | 232/997 [52:10<2:28:42, 11.66s/it]"
     ]
    },
    {
     "name": "stdout",
     "output_type": "stream",
     "text": [
      "No objects to concatenate\n",
      "Drake Right Hand 9448984\n"
     ]
    },
    {
     "name": "stderr",
     "output_type": "stream",
     "text": [
      "\r",
      " 23%|████████████████████████▌                                                                                | 233/997 [52:23<2:33:06, 12.02s/it]"
     ]
    },
    {
     "name": "stdout",
     "output_type": "stream",
     "text": [
      "No objects to concatenate\n",
      "G-Eazy I Mean It 8342984\n"
     ]
    },
    {
     "name": "stderr",
     "output_type": "stream",
     "text": [
      "\r",
      " 23%|████████████████████████▋                                                                                | 234/997 [52:31<2:19:40, 10.98s/it]"
     ]
    },
    {
     "name": "stdout",
     "output_type": "stream",
     "text": [
      "No objects to concatenate\n",
      "Rae Sremmurd Look Alive 6843984\n"
     ]
    },
    {
     "name": "stderr",
     "output_type": "stream",
     "text": [
      "\r",
      " 24%|████████████████████████▋                                                                                | 235/997 [52:48<2:41:17, 12.70s/it]"
     ]
    },
    {
     "name": "stdout",
     "output_type": "stream",
     "text": [
      "No objects to concatenate\n",
      "Ed Sheeran Photograph 7573984\n"
     ]
    },
    {
     "name": "stderr",
     "output_type": "stream",
     "text": [
      "\r",
      " 24%|████████████████████████▊                                                                                | 236/997 [53:04<2:53:58, 13.72s/it]"
     ]
    },
    {
     "name": "stdout",
     "output_type": "stream",
     "text": [
      "No objects to concatenate\n",
      "Alessia Cara Wild Things 8288984\n"
     ]
    },
    {
     "name": "stderr",
     "output_type": "stream",
     "text": [
      "\r",
      " 24%|████████████████████████▉                                                                                | 237/997 [53:12<2:31:39, 11.97s/it]"
     ]
    },
    {
     "name": "stdout",
     "output_type": "stream",
     "text": [
      "No objects to concatenate\n",
      "Kanye West Fade 7821984\n"
     ]
    },
    {
     "name": "stderr",
     "output_type": "stream",
     "text": [
      "\r",
      " 24%|█████████████████████████                                                                                | 238/997 [53:20<2:16:16, 10.77s/it]"
     ]
    },
    {
     "name": "stdout",
     "output_type": "stream",
     "text": [
      "No objects to concatenate\n",
      "Chris Brown Party 9584984\n"
     ]
    },
    {
     "name": "stderr",
     "output_type": "stream",
     "text": [
      "\r",
      " 24%|█████████████████████████▏                                                                               | 239/997 [53:33<2:25:50, 11.54s/it]"
     ]
    },
    {
     "name": "stdout",
     "output_type": "stream",
     "text": [
      "No objects to concatenate\n",
      "Flo Rida Low (feat T-Pain) - Feat T-Pain Album Version 9952984\n"
     ]
    },
    {
     "name": "stderr",
     "output_type": "stream",
     "text": [
      "\r",
      " 24%|█████████████████████████▎                                                                               | 240/997 [53:51<2:48:30, 13.36s/it]"
     ]
    },
    {
     "name": "stdout",
     "output_type": "stream",
     "text": [
      "No objects to concatenate\n",
      "Jonas Blue Fast Car 7468984\n"
     ]
    },
    {
     "name": "stderr",
     "output_type": "stream",
     "text": [
      "\r",
      " 24%|█████████████████████████▍                                                                               | 241/997 [54:04<2:46:24, 13.21s/it]"
     ]
    },
    {
     "name": "stdout",
     "output_type": "stream",
     "text": [
      "No objects to concatenate\n",
      "Passenger Let Her Go 7321984\n"
     ]
    },
    {
     "name": "stderr",
     "output_type": "stream",
     "text": [
      "\r",
      " 24%|█████████████████████████▍                                                                               | 242/997 [54:04<1:58:48,  9.44s/it]"
     ]
    },
    {
     "name": "stdout",
     "output_type": "stream",
     "text": [
      "No objects to concatenate\n",
      "Florida Georgia Line Cruise 6102984\n"
     ]
    },
    {
     "name": "stderr",
     "output_type": "stream",
     "text": [
      "\r",
      " 24%|█████████████████████████▌                                                                               | 243/997 [54:10<1:43:17,  8.22s/it]"
     ]
    },
    {
     "name": "stdout",
     "output_type": "stream",
     "text": [
      "No objects to concatenate\n",
      "Drake Forever 6941984\n"
     ]
    },
    {
     "name": "stderr",
     "output_type": "stream",
     "text": [
      "\r",
      " 24%|█████████████████████████▋                                                                               | 244/997 [54:28<2:20:43, 11.21s/it]"
     ]
    },
    {
     "name": "stdout",
     "output_type": "stream",
     "text": [
      "Kanye West Ultralight Beam 7074984\n"
     ]
    },
    {
     "name": "stderr",
     "output_type": "stream",
     "text": [
      "\r",
      " 25%|█████████████████████████▊                                                                               | 245/997 [54:44<2:39:49, 12.75s/it]"
     ]
    },
    {
     "name": "stdout",
     "output_type": "stream",
     "text": [
      "No objects to concatenate\n",
      "Shakira Hips Don't Lie 9781984\n"
     ]
    },
    {
     "name": "stderr",
     "output_type": "stream",
     "text": [
      "\r",
      " 25%|█████████████████████████▉                                                                               | 246/997 [54:45<1:54:40,  9.16s/it]"
     ]
    },
    {
     "name": "stdout",
     "output_type": "stream",
     "text": [
      "No objects to concatenate\n",
      "Bruno Mars Treasure 7494984\n"
     ]
    },
    {
     "name": "stderr",
     "output_type": "stream",
     "text": [
      "\r",
      " 25%|██████████████████████████                                                                               | 247/997 [55:02<2:25:40, 11.65s/it]"
     ]
    },
    {
     "name": "stdout",
     "output_type": "stream",
     "text": [
      "No objects to concatenate\n",
      "Bruno Mars When I Was Your Man 7582984\n"
     ]
    },
    {
     "name": "stderr",
     "output_type": "stream",
     "text": [
      "\r",
      " 25%|██████████████████████████                                                                               | 248/997 [55:18<2:40:12, 12.83s/it]"
     ]
    },
    {
     "name": "stdout",
     "output_type": "stream",
     "text": [
      "No objects to concatenate\n",
      "Alicia Keys If I Ain't Got You 8625984\n"
     ]
    },
    {
     "name": "stderr",
     "output_type": "stream",
     "text": [
      "\r",
      " 25%|██████████████████████████▏                                                                              | 249/997 [55:35<2:57:02, 14.20s/it]"
     ]
    },
    {
     "name": "stdout",
     "output_type": "stream",
     "text": [
      "No objects to concatenate\n",
      "DJ Snake Middle 8824984\n"
     ]
    },
    {
     "name": "stderr",
     "output_type": "stream",
     "text": [
      "\r",
      " 25%|██████████████████████████▎                                                                              | 250/997 [55:49<2:52:56, 13.89s/it]"
     ]
    },
    {
     "name": "stdout",
     "output_type": "stream",
     "text": [
      "No objects to concatenate\n",
      "Kodak Black No Flockin 5993984\n"
     ]
    },
    {
     "name": "stderr",
     "output_type": "stream",
     "text": [
      "\r",
      " 25%|██████████████████████████▍                                                                              | 251/997 [56:06<3:07:36, 15.09s/it]"
     ]
    },
    {
     "name": "stdout",
     "output_type": "stream",
     "text": [
      "No objects to concatenate\n",
      "X Ambassadors Unsteady 6783984\n"
     ]
    },
    {
     "name": "stderr",
     "output_type": "stream",
     "text": [
      "\r",
      " 25%|██████████████████████████▌                                                                              | 252/997 [56:24<3:14:51, 15.69s/it]"
     ]
    },
    {
     "name": "stdout",
     "output_type": "stream",
     "text": [
      "No objects to concatenate\n",
      "ScHoolboy Q Man Of The Year 6768984\n"
     ]
    },
    {
     "name": "stderr",
     "output_type": "stream",
     "text": [
      "\r",
      " 25%|██████████████████████████▋                                                                              | 253/997 [56:38<3:09:33, 15.29s/it]"
     ]
    },
    {
     "name": "stdout",
     "output_type": "stream",
     "text": [
      "No objects to concatenate\n",
      "Justin Timberlake Mirrors 7088984\n"
     ]
    },
    {
     "name": "stderr",
     "output_type": "stream",
     "text": [
      "\r",
      " 25%|██████████████████████████▊                                                                              | 254/997 [56:57<3:23:19, 16.42s/it]"
     ]
    },
    {
     "name": "stdout",
     "output_type": "stream",
     "text": [
      "No objects to concatenate\n",
      "Jason Mraz I'm Yours 6953984\n"
     ]
    },
    {
     "name": "stderr",
     "output_type": "stream",
     "text": [
      "\r",
      " 26%|██████████████████████████▊                                                                              | 255/997 [57:03<2:43:22, 13.21s/it]"
     ]
    },
    {
     "name": "stdout",
     "output_type": "stream",
     "text": [
      "No objects to concatenate\n",
      "Eminem 'Till I Collapse 6705984\n"
     ]
    },
    {
     "name": "stderr",
     "output_type": "stream",
     "text": [
      "\r",
      " 26%|██████████████████████████▉                                                                              | 256/997 [57:15<2:40:18, 12.98s/it]"
     ]
    },
    {
     "name": "stdout",
     "output_type": "stream",
     "text": [
      "No objects to concatenate\n",
      "Tom Petty Free Fallin' 8729984\n"
     ]
    },
    {
     "name": "stderr",
     "output_type": "stream",
     "text": [
      "\r",
      " 26%|███████████████████████████                                                                              | 257/997 [57:20<2:08:43, 10.44s/it]"
     ]
    },
    {
     "name": "stdout",
     "output_type": "stream",
     "text": [
      "No objects to concatenate\n",
      "Miley Cyrus Wrecking Ball 6151984\n"
     ]
    },
    {
     "name": "stderr",
     "output_type": "stream",
     "text": [
      "\r",
      " 26%|███████████████████████████▏                                                                             | 258/997 [57:37<2:35:24, 12.62s/it]"
     ]
    },
    {
     "name": "stdout",
     "output_type": "stream",
     "text": [
      "No objects to concatenate\n",
      "Rae Sremmurd This Could Be Us 7560984\n"
     ]
    },
    {
     "name": "stderr",
     "output_type": "stream",
     "text": [
      "\r",
      " 26%|███████████████████████████▎                                                                             | 259/997 [57:54<2:49:36, 13.79s/it]"
     ]
    },
    {
     "name": "stdout",
     "output_type": "stream",
     "text": [
      "No objects to concatenate\n",
      "Liam Payne Strip That Down 7175984\n"
     ]
    },
    {
     "name": "stderr",
     "output_type": "stream",
     "text": [
      "\r",
      " 26%|███████████████████████████▍                                                                             | 260/997 [58:08<2:49:57, 13.84s/it]"
     ]
    },
    {
     "name": "stdout",
     "output_type": "stream",
     "text": [
      "No objects to concatenate\n",
      "Khalid 8TEEN 7699984\n"
     ]
    },
    {
     "name": "stderr",
     "output_type": "stream",
     "text": [
      "\r",
      " 26%|███████████████████████████▍                                                                             | 261/997 [58:22<2:49:18, 13.80s/it]"
     ]
    },
    {
     "name": "stdout",
     "output_type": "stream",
     "text": [
      "No objects to concatenate\n",
      "Jeremih Planez 6943984\n"
     ]
    },
    {
     "name": "stderr",
     "output_type": "stream",
     "text": [
      "\r",
      " 26%|███████████████████████████▌                                                                             | 262/997 [58:38<3:00:18, 14.72s/it]"
     ]
    },
    {
     "name": "stdout",
     "output_type": "stream",
     "text": [
      "No objects to concatenate\n",
      "Creedence Clearwater Revival Fortunate Son 7951984\n"
     ]
    },
    {
     "name": "stderr",
     "output_type": "stream",
     "text": [
      "\r",
      " 26%|███████████████████████████▋                                                                             | 263/997 [58:43<2:22:11, 11.62s/it]"
     ]
    },
    {
     "name": "stdout",
     "output_type": "stream",
     "text": [
      "No objects to concatenate\n",
      "Jimmy Eat World The Middle 8219984\n"
     ]
    },
    {
     "name": "stderr",
     "output_type": "stream",
     "text": [
      "\r",
      " 26%|███████████████████████████▊                                                                             | 264/997 [58:48<1:59:11,  9.76s/it]"
     ]
    },
    {
     "name": "stdout",
     "output_type": "stream",
     "text": [
      "No objects to concatenate\n",
      "Martin Garrix In the Name of Love 7477984\n"
     ]
    },
    {
     "name": "stderr",
     "output_type": "stream",
     "text": [
      "\r",
      " 27%|███████████████████████████▉                                                                             | 265/997 [59:01<2:10:10, 10.67s/it]"
     ]
    },
    {
     "name": "stdout",
     "output_type": "stream",
     "text": [
      "No objects to concatenate\n",
      "Sublime Santeria 8533984\n"
     ]
    },
    {
     "name": "stderr",
     "output_type": "stream",
     "text": [
      "\r",
      " 27%|████████████████████████████                                                                             | 266/997 [59:01<1:32:27,  7.59s/it]"
     ]
    },
    {
     "name": "stdout",
     "output_type": "stream",
     "text": [
      "No objects to concatenate\n",
      "John Mellencamp Jack & Diane 6816984\n"
     ]
    },
    {
     "name": "stderr",
     "output_type": "stream",
     "text": [
      "\r",
      " 27%|████████████████████████████                                                                             | 267/997 [59:06<1:21:54,  6.73s/it]"
     ]
    },
    {
     "name": "stdout",
     "output_type": "stream",
     "text": [
      "No objects to concatenate\n",
      "J. Cole G.O.M.D. 7680984\n"
     ]
    },
    {
     "name": "stderr",
     "output_type": "stream",
     "text": [
      "\r",
      " 27%|████████████████████████████▏                                                                            | 268/997 [59:23<1:58:27,  9.75s/it]"
     ]
    },
    {
     "name": "stdout",
     "output_type": "stream",
     "text": [
      "No objects to concatenate\n",
      "Fetty Wap Again 8657984\n"
     ]
    },
    {
     "name": "stderr",
     "output_type": "stream",
     "text": [
      "\r",
      " 27%|████████████████████████████▎                                                                            | 269/997 [59:35<2:05:55, 10.38s/it]"
     ]
    },
    {
     "name": "stdout",
     "output_type": "stream",
     "text": [
      "No objects to concatenate\n",
      "Galantis Runaway (U & I) 8039984\n"
     ]
    },
    {
     "name": "stderr",
     "output_type": "stream",
     "text": [
      "\r",
      " 27%|████████████████████████████▍                                                                            | 270/997 [59:54<2:37:03, 12.96s/it]"
     ]
    },
    {
     "name": "stdout",
     "output_type": "stream",
     "text": [
      "No objects to concatenate\n",
      "Rihanna We Found Love 8725984\n"
     ]
    },
    {
     "name": "stderr",
     "output_type": "stream",
     "text": [
      "\r",
      " 27%|███████████████████████████▉                                                                           | 271/997 [1:00:10<2:48:13, 13.90s/it]"
     ]
    },
    {
     "name": "stdout",
     "output_type": "stream",
     "text": [
      "No objects to concatenate\n",
      "Chance The Rapper All Night (feat. Knox Fortune) 9483984\n"
     ]
    },
    {
     "name": "stderr",
     "output_type": "stream",
     "text": [
      "\r",
      " 27%|████████████████████████████                                                                           | 272/997 [1:00:24<2:47:56, 13.90s/it]"
     ]
    },
    {
     "name": "stdout",
     "output_type": "stream",
     "text": [
      "No objects to concatenate\n",
      "Big Sean Blessings 10272984\n"
     ]
    },
    {
     "name": "stderr",
     "output_type": "stream",
     "text": [
      "\r",
      " 27%|████████████████████████████▏                                                                          | 273/997 [1:00:42<3:05:04, 15.34s/it]"
     ]
    },
    {
     "name": "stdout",
     "output_type": "stream",
     "text": [
      "Grouplove Tongue Tied 6204985\n"
     ]
    },
    {
     "name": "stderr",
     "output_type": "stream",
     "text": [
      "\r",
      " 27%|████████████████████████████▎                                                                          | 274/997 [1:00:47<2:26:58, 12.20s/it]"
     ]
    },
    {
     "name": "stdout",
     "output_type": "stream",
     "text": [
      "No objects to concatenate\n",
      "Bryson Tiller Sorry Not Sorry 6611985\n",
      "No objects to concatenate\n",
      "Beyoncé Halo 8580985\n"
     ]
    },
    {
     "name": "stderr",
     "output_type": "stream",
     "text": [
      "\r",
      " 28%|████████████████████████████▌                                                                          | 276/997 [1:01:03<2:11:25, 10.94s/it]"
     ]
    },
    {
     "name": "stdout",
     "output_type": "stream",
     "text": [
      "No objects to concatenate\n",
      "alt-J Breezeblocks 8972985\n"
     ]
    },
    {
     "name": "stderr",
     "output_type": "stream",
     "text": [
      "\r",
      " 28%|████████████████████████████▌                                                                          | 277/997 [1:01:11<2:01:10, 10.10s/it]"
     ]
    },
    {
     "name": "stdout",
     "output_type": "stream",
     "text": [
      "No objects to concatenate\n",
      "Jason Derulo Trumpets 7274985\n"
     ]
    },
    {
     "name": "stderr",
     "output_type": "stream",
     "text": [
      "\r",
      " 28%|████████████████████████████▋                                                                          | 278/997 [1:01:24<2:10:07, 10.86s/it]"
     ]
    },
    {
     "name": "stdout",
     "output_type": "stream",
     "text": [
      "No objects to concatenate\n",
      "Imagine Dragons Believer 6680985\n"
     ]
    },
    {
     "name": "stderr",
     "output_type": "stream",
     "text": [
      "\r",
      " 28%|████████████████████████████▊                                                                          | 279/997 [1:01:38<2:20:50, 11.77s/it]"
     ]
    },
    {
     "name": "stdout",
     "output_type": "stream",
     "text": [
      "No objects to concatenate\n",
      "The Fray How to Save a Life 7049985\n"
     ]
    },
    {
     "name": "stderr",
     "output_type": "stream",
     "text": [
      "\r",
      " 28%|████████████████████████████▉                                                                          | 280/997 [1:01:55<2:37:50, 13.21s/it]"
     ]
    },
    {
     "name": "stdout",
     "output_type": "stream",
     "text": [
      "No objects to concatenate\n",
      "The Beatles Here Comes The Sun - Remastered 6737985\n"
     ]
    },
    {
     "name": "stderr",
     "output_type": "stream",
     "text": [
      "\r",
      " 28%|█████████████████████████████                                                                          | 281/997 [1:02:10<2:45:31, 13.87s/it]"
     ]
    },
    {
     "name": "stdout",
     "output_type": "stream",
     "text": [
      "No objects to concatenate\n",
      "Michael Jackson P.Y.T. (Pretty Young Thing) 6654985\n"
     ]
    },
    {
     "name": "stderr",
     "output_type": "stream",
     "text": [
      "\r",
      " 28%|█████████████████████████████▏                                                                         | 282/997 [1:02:25<2:51:09, 14.36s/it]"
     ]
    },
    {
     "name": "stdout",
     "output_type": "stream",
     "text": [
      "No objects to concatenate\n",
      "PARTYNEXTDOOR Come and See Me (feat. Drake) 6064985\n"
     ]
    },
    {
     "name": "stderr",
     "output_type": "stream",
     "text": [
      "\r",
      " 28%|█████████████████████████████▏                                                                         | 283/997 [1:02:39<2:48:29, 14.16s/it]"
     ]
    },
    {
     "name": "stdout",
     "output_type": "stream",
     "text": [
      "No objects to concatenate\n",
      "Tears For Fears Everybody Wants To Rule The World 5637985\n"
     ]
    },
    {
     "name": "stderr",
     "output_type": "stream",
     "text": [
      "\r",
      " 28%|█████████████████████████████▎                                                                         | 284/997 [1:02:54<2:50:24, 14.34s/it]"
     ]
    },
    {
     "name": "stdout",
     "output_type": "stream",
     "text": [
      "No objects to concatenate\n",
      "Post Malone Deja Vu 7395985\n"
     ]
    },
    {
     "name": "stderr",
     "output_type": "stream",
     "text": [
      "\r",
      " 29%|█████████████████████████████▍                                                                         | 285/997 [1:03:11<3:00:22, 15.20s/it]"
     ]
    },
    {
     "name": "stdout",
     "output_type": "stream",
     "text": [
      "No objects to concatenate\n",
      "Big Sean I Know 6275985\n"
     ]
    },
    {
     "name": "stderr",
     "output_type": "stream",
     "text": [
      "\r",
      " 29%|█████████████████████████████▌                                                                         | 286/997 [1:03:28<3:05:54, 15.69s/it]"
     ]
    },
    {
     "name": "stdout",
     "output_type": "stream",
     "text": [
      "No objects to concatenate\n",
      "Red Hot Chili Peppers Under The Bridge 7080985\n"
     ]
    },
    {
     "name": "stderr",
     "output_type": "stream",
     "text": [
      "\r",
      " 29%|█████████████████████████████▋                                                                         | 287/997 [1:03:33<2:27:45, 12.49s/it]"
     ]
    },
    {
     "name": "stdout",
     "output_type": "stream",
     "text": [
      "No objects to concatenate\n",
      "Drake Hold On, We're Going Home 7818985\n"
     ]
    },
    {
     "name": "stderr",
     "output_type": "stream",
     "text": [
      "\r",
      " 29%|█████████████████████████████▊                                                                         | 288/997 [1:03:46<2:28:01, 12.53s/it]"
     ]
    },
    {
     "name": "stdout",
     "output_type": "stream",
     "text": [
      "No objects to concatenate\n",
      "Cherub Doses & Mimosas 9570985\n"
     ]
    },
    {
     "name": "stderr",
     "output_type": "stream",
     "text": [
      "\r",
      " 29%|█████████████████████████████▊                                                                         | 289/997 [1:03:46<1:45:57,  8.98s/it]"
     ]
    },
    {
     "name": "stdout",
     "output_type": "stream",
     "text": [
      "No objects to concatenate\n",
      "AC/DC Back In Black 6735985\n"
     ]
    },
    {
     "name": "stderr",
     "output_type": "stream",
     "text": [
      "\r",
      " 29%|█████████████████████████████▉                                                                         | 290/997 [1:03:51<1:30:47,  7.71s/it]"
     ]
    },
    {
     "name": "stdout",
     "output_type": "stream",
     "text": [
      "No objects to concatenate\n",
      "Donnie Trumpet & The Social Experiment Sunday Candy 9237985\n"
     ]
    },
    {
     "name": "stderr",
     "output_type": "stream",
     "text": [
      "\r",
      " 29%|██████████████████████████████                                                                         | 291/997 [1:04:08<2:02:44, 10.43s/it]"
     ]
    },
    {
     "name": "stdout",
     "output_type": "stream",
     "text": [
      "No objects to concatenate\n",
      "Future Selfish 7952985\n"
     ]
    },
    {
     "name": "stderr",
     "output_type": "stream",
     "text": [
      "\r",
      " 29%|██████████████████████████████▏                                                                        | 292/997 [1:04:22<2:14:10, 11.42s/it]"
     ]
    },
    {
     "name": "stdout",
     "output_type": "stream",
     "text": [
      "No objects to concatenate\n",
      "Savage Garden Crash and Burn 869985\n",
      "No objects to concatenate\n",
      "Metallica Enter Sandman 9021985\n"
     ]
    },
    {
     "name": "stderr",
     "output_type": "stream",
     "text": [
      "\r",
      " 29%|██████████████████████████████▎                                                                        | 294/997 [1:04:26<1:41:42,  8.68s/it]"
     ]
    },
    {
     "name": "stdout",
     "output_type": "stream",
     "text": [
      "No objects to concatenate\n",
      "Lynyrd Skynyrd Free Bird 7300985\n"
     ]
    },
    {
     "name": "stderr",
     "output_type": "stream",
     "text": [
      "\r",
      " 30%|██████████████████████████████▍                                                                        | 295/997 [1:04:41<2:02:44, 10.49s/it]"
     ]
    },
    {
     "name": "stdout",
     "output_type": "stream",
     "text": [
      "No objects to concatenate\n",
      "Bobby Shmurda Hot N*gga 8461985\n"
     ]
    },
    {
     "name": "stderr",
     "output_type": "stream",
     "text": [
      "\r",
      " 30%|██████████████████████████████▌                                                                        | 296/997 [1:04:57<2:24:02, 12.33s/it]"
     ]
    },
    {
     "name": "stdout",
     "output_type": "stream",
     "text": [
      "No objects to concatenate\n",
      "Charlie Puth Attention 7162985\n"
     ]
    },
    {
     "name": "stderr",
     "output_type": "stream",
     "text": [
      "\r",
      " 30%|██████████████████████████████▋                                                                        | 297/997 [1:05:13<2:36:53, 13.45s/it]"
     ]
    },
    {
     "name": "stdout",
     "output_type": "stream",
     "text": [
      "No objects to concatenate\n",
      "Gwen Stefani The Sweet Escape 9226985\n"
     ]
    },
    {
     "name": "stderr",
     "output_type": "stream",
     "text": [
      "\r",
      " 30%|██████████████████████████████▊                                                                        | 298/997 [1:05:29<2:44:23, 14.11s/it]"
     ]
    },
    {
     "name": "stdout",
     "output_type": "stream",
     "text": [
      "No objects to concatenate\n",
      "Rihanna FourFiveSeconds 9008985\n"
     ]
    },
    {
     "name": "stderr",
     "output_type": "stream",
     "text": [
      "\r",
      " 30%|██████████████████████████████▉                                                                        | 299/997 [1:05:47<2:57:29, 15.26s/it]"
     ]
    },
    {
     "name": "stdout",
     "output_type": "stream",
     "text": [
      "No objects to concatenate\n",
      "Julia Michaels Issues 7348985\n"
     ]
    },
    {
     "name": "stderr",
     "output_type": "stream",
     "text": [
      "\r",
      " 30%|██████████████████████████████▉                                                                        | 300/997 [1:05:57<2:37:25, 13.55s/it]"
     ]
    },
    {
     "name": "stdout",
     "output_type": "stream",
     "text": [
      "No objects to concatenate\n",
      "Ty Dolla $ign Blasé (feat. Future & Rae Sremmurd) 8270985\n"
     ]
    },
    {
     "name": "stderr",
     "output_type": "stream",
     "text": [
      "\r",
      " 30%|███████████████████████████████                                                                        | 301/997 [1:06:05<2:18:38, 11.95s/it]"
     ]
    },
    {
     "name": "stdout",
     "output_type": "stream",
     "text": [
      "No objects to concatenate\n",
      "Don McLean American Pie 7263985\n"
     ]
    },
    {
     "name": "stderr",
     "output_type": "stream",
     "text": [
      "\r",
      " 30%|███████████████████████████████▏                                                                       | 302/997 [1:06:09<1:52:55,  9.75s/it]"
     ]
    },
    {
     "name": "stdout",
     "output_type": "stream",
     "text": [
      "No objects to concatenate\n",
      "Chance The Rapper All We Got (feat. Kanye West & Chicago Children's Choir) 9404985\n"
     ]
    },
    {
     "name": "stderr",
     "output_type": "stream",
     "text": [
      "\r",
      " 30%|███████████████████████████████▎                                                                       | 303/997 [1:06:23<2:05:55, 10.89s/it]"
     ]
    },
    {
     "name": "stdout",
     "output_type": "stream",
     "text": [
      "No objects to concatenate\n",
      "Selena Gomez Hands To Myself 8415985\n"
     ]
    },
    {
     "name": "stderr",
     "output_type": "stream",
     "text": [
      "\r",
      " 30%|███████████████████████████████▍                                                                       | 304/997 [1:06:41<2:29:25, 12.94s/it]"
     ]
    },
    {
     "name": "stdout",
     "output_type": "stream",
     "text": [
      "No objects to concatenate\n",
      "DNCE Cake By The Ocean 7571985\n"
     ]
    },
    {
     "name": "stderr",
     "output_type": "stream",
     "text": [
      "\r",
      " 31%|███████████████████████████████▌                                                                       | 305/997 [1:06:54<2:28:44, 12.90s/it]"
     ]
    },
    {
     "name": "stdout",
     "output_type": "stream",
     "text": [
      "No objects to concatenate\n",
      "Chris Brown Look At Me Now 8448985\n"
     ]
    },
    {
     "name": "stderr",
     "output_type": "stream",
     "text": [
      "\r",
      " 31%|███████████████████████████████▌                                                                       | 306/997 [1:07:11<2:43:05, 14.16s/it]"
     ]
    },
    {
     "name": "stdout",
     "output_type": "stream",
     "text": [
      "No objects to concatenate\n",
      "Nirvana Smells Like Teen Spirit 5243985\n"
     ]
    },
    {
     "name": "stderr",
     "output_type": "stream",
     "text": [
      "\r",
      " 31%|███████████████████████████████▋                                                                       | 307/997 [1:07:15<2:10:40, 11.36s/it]"
     ]
    },
    {
     "name": "stdout",
     "output_type": "stream",
     "text": [
      "No objects to concatenate\n",
      "Florence + The Machine Dog Days Are Over 8502985\n"
     ]
    },
    {
     "name": "stderr",
     "output_type": "stream",
     "text": [
      "\r",
      " 31%|███████████████████████████████▊                                                                       | 308/997 [1:07:31<2:23:59, 12.54s/it]"
     ]
    },
    {
     "name": "stdout",
     "output_type": "stream",
     "text": [
      "No objects to concatenate\n",
      "6LACK PRBLMS 6703985\n"
     ]
    },
    {
     "name": "stderr",
     "output_type": "stream",
     "text": [
      "\r",
      " 31%|███████████████████████████████▉                                                                       | 309/997 [1:07:45<2:28:49, 12.98s/it]"
     ]
    },
    {
     "name": "stdout",
     "output_type": "stream",
     "text": [
      "No objects to concatenate\n",
      "Kendrick Lamar ELEMENT. 6607985\n"
     ]
    },
    {
     "name": "stderr",
     "output_type": "stream",
     "text": [
      "\r",
      " 31%|████████████████████████████████                                                                       | 310/997 [1:08:03<2:45:32, 14.46s/it]"
     ]
    },
    {
     "name": "stdout",
     "output_type": "stream",
     "text": [
      "No objects to concatenate\n",
      "Fat Joe All The Way Up 7352985\n"
     ]
    },
    {
     "name": "stderr",
     "output_type": "stream",
     "text": [
      "\r",
      " 31%|████████████████████████████████▏                                                                      | 311/997 [1:08:16<2:39:40, 13.97s/it]"
     ]
    },
    {
     "name": "stdout",
     "output_type": "stream",
     "text": [
      "No objects to concatenate\n",
      "Marian Hill Down 7031985\n"
     ]
    },
    {
     "name": "stderr",
     "output_type": "stream",
     "text": [
      "\r",
      " 31%|████████████████████████████████▏                                                                      | 312/997 [1:08:25<2:24:29, 12.66s/it]"
     ]
    },
    {
     "name": "stdout",
     "output_type": "stream",
     "text": [
      "No objects to concatenate\n",
      "Fall Out Boy Sugar, We're Goin Down 6630985\n"
     ]
    },
    {
     "name": "stderr",
     "output_type": "stream",
     "text": [
      "\r",
      " 31%|████████████████████████████████▎                                                                      | 313/997 [1:08:31<2:00:40, 10.59s/it]"
     ]
    },
    {
     "name": "stdout",
     "output_type": "stream",
     "text": [
      "No objects to concatenate\n",
      "50 Cent Candy Shop 9599985\n"
     ]
    },
    {
     "name": "stderr",
     "output_type": "stream",
     "text": [
      "\r",
      " 31%|████████████████████████████████▍                                                                      | 314/997 [1:08:48<2:24:11, 12.67s/it]"
     ]
    },
    {
     "name": "stdout",
     "output_type": "stream",
     "text": [
      "No objects to concatenate\n",
      "The Chainsmokers Something Just Like This 7618985\n"
     ]
    },
    {
     "name": "stderr",
     "output_type": "stream",
     "text": [
      "\r",
      " 32%|████████████████████████████████▌                                                                      | 315/997 [1:08:58<2:13:50, 11.77s/it]"
     ]
    },
    {
     "name": "stdout",
     "output_type": "stream",
     "text": [
      "No objects to concatenate\n",
      "The Notorious B.I.G. Big Poppa 6919985\n"
     ]
    },
    {
     "name": "stderr",
     "output_type": "stream",
     "text": [
      "\r",
      " 32%|████████████████████████████████▋                                                                      | 316/997 [1:09:15<2:31:39, 13.36s/it]"
     ]
    },
    {
     "name": "stdout",
     "output_type": "stream",
     "text": [
      "No objects to concatenate\n",
      "Steve Miller Band The Joker 8387985\n"
     ]
    },
    {
     "name": "stderr",
     "output_type": "stream",
     "text": [
      "\r",
      " 32%|████████████████████████████████▋                                                                      | 317/997 [1:09:20<2:01:58, 10.76s/it]"
     ]
    },
    {
     "name": "stdout",
     "output_type": "stream",
     "text": [
      "No objects to concatenate\n",
      "Kanye West Mercy 5825985\n"
     ]
    },
    {
     "name": "stderr",
     "output_type": "stream",
     "text": [
      "\r",
      " 32%|████████████████████████████████▊                                                                      | 318/997 [1:09:39<2:30:25, 13.29s/it]"
     ]
    },
    {
     "name": "stdout",
     "output_type": "stream",
     "text": [
      "Nicki Minaj Super Bass 8919985\n"
     ]
    },
    {
     "name": "stderr",
     "output_type": "stream",
     "text": [
      "\r",
      " 32%|████████████████████████████████▉                                                                      | 319/997 [1:09:57<2:45:29, 14.64s/it]"
     ]
    },
    {
     "name": "stdout",
     "output_type": "stream",
     "text": [
      "No objects to concatenate\n",
      "Counting Crows Mr. Jones 6458985\n"
     ]
    },
    {
     "name": "stderr",
     "output_type": "stream",
     "text": [
      "\r",
      " 32%|█████████████████████████████████                                                                      | 320/997 [1:10:02<2:13:17, 11.81s/it]"
     ]
    },
    {
     "name": "stdout",
     "output_type": "stream",
     "text": [
      "No objects to concatenate\n",
      "Nicki Minaj Only 8054985\n"
     ]
    },
    {
     "name": "stderr",
     "output_type": "stream",
     "text": [
      "\r",
      " 32%|█████████████████████████████████▏                                                                     | 321/997 [1:10:19<2:29:25, 13.26s/it]"
     ]
    },
    {
     "name": "stdout",
     "output_type": "stream",
     "text": [
      "No objects to concatenate\n",
      "Nicki Minaj Feeling Myself 7977985\n"
     ]
    },
    {
     "name": "stderr",
     "output_type": "stream",
     "text": [
      "\r",
      " 32%|█████████████████████████████████▎                                                                     | 322/997 [1:10:37<2:46:42, 14.82s/it]"
     ]
    },
    {
     "name": "stdout",
     "output_type": "stream",
     "text": [
      "Nelly Furtado Promiscuous 9108985\n"
     ]
    },
    {
     "name": "stderr",
     "output_type": "stream",
     "text": [
      "\r",
      " 32%|█████████████████████████████████▎                                                                     | 323/997 [1:10:56<2:59:08, 15.95s/it]"
     ]
    },
    {
     "name": "stdout",
     "output_type": "stream",
     "text": [
      "No objects to concatenate\n",
      "Wiz Khalifa See You Again (feat. Charlie Puth) - From \"Furious 7\" 7982985\n"
     ]
    },
    {
     "name": "stderr",
     "output_type": "stream",
     "text": [
      "\r",
      " 32%|█████████████████████████████████▍                                                                     | 324/997 [1:11:14<3:06:05, 16.59s/it]"
     ]
    },
    {
     "name": "stdout",
     "output_type": "stream",
     "text": [
      "No objects to concatenate\n",
      "Nelly Ride Wit Me 8314985\n"
     ]
    },
    {
     "name": "stderr",
     "output_type": "stream",
     "text": [
      "\r",
      " 33%|█████████████████████████████████▌                                                                     | 325/997 [1:11:32<3:10:46, 17.03s/it]"
     ]
    },
    {
     "name": "stdout",
     "output_type": "stream",
     "text": [
      "No objects to concatenate\n",
      "21 Savage X (feat. Future) 6688985\n"
     ]
    },
    {
     "name": "stderr",
     "output_type": "stream",
     "text": [
      "\r",
      " 33%|█████████████████████████████████▋                                                                     | 326/997 [1:11:42<2:48:17, 15.05s/it]"
     ]
    },
    {
     "name": "stdout",
     "output_type": "stream",
     "text": [
      "No objects to concatenate\n",
      "Drake Know Yourself 7709985\n"
     ]
    },
    {
     "name": "stderr",
     "output_type": "stream",
     "text": [
      "\r",
      " 33%|█████████████████████████████████▊                                                                     | 327/997 [1:12:01<3:01:52, 16.29s/it]"
     ]
    },
    {
     "name": "stdout",
     "output_type": "stream",
     "text": [
      "Baby Bash Suga Suga 7452985\n"
     ]
    },
    {
     "name": "stderr",
     "output_type": "stream",
     "text": [
      "\r",
      " 33%|█████████████████████████████████▉                                                                     | 328/997 [1:12:15<2:53:20, 15.55s/it]"
     ]
    },
    {
     "name": "stdout",
     "output_type": "stream",
     "text": [
      "No objects to concatenate\n",
      "Khalid Saved 9420985\n"
     ]
    },
    {
     "name": "stderr",
     "output_type": "stream",
     "text": [
      "\r",
      " 33%|█████████████████████████████████▉                                                                     | 329/997 [1:12:34<3:02:31, 16.39s/it]"
     ]
    },
    {
     "name": "stdout",
     "output_type": "stream",
     "text": [
      "No objects to concatenate\n",
      "Marc E. Bassy You & Me 7689985\n"
     ]
    },
    {
     "name": "stderr",
     "output_type": "stream",
     "text": [
      "\r",
      " 33%|██████████████████████████████████                                                                     | 330/997 [1:12:46<2:50:00, 15.29s/it]"
     ]
    },
    {
     "name": "stdout",
     "output_type": "stream",
     "text": [
      "No objects to concatenate\n",
      "OutKast Ms. Jackson 7627985\n"
     ]
    },
    {
     "name": "stderr",
     "output_type": "stream",
     "text": [
      "\r",
      " 33%|██████████████████████████████████▏                                                                    | 331/997 [1:13:03<2:55:29, 15.81s/it]"
     ]
    },
    {
     "name": "stdout",
     "output_type": "stream",
     "text": [
      "No objects to concatenate\n",
      "Florida Georgia Line This Is How We Roll 6103985\n"
     ]
    },
    {
     "name": "stderr",
     "output_type": "stream",
     "text": [
      "\r",
      " 33%|██████████████████████████████████▎                                                                    | 332/997 [1:13:09<2:19:49, 12.62s/it]"
     ]
    },
    {
     "name": "stdout",
     "output_type": "stream",
     "text": [
      "No objects to concatenate\n",
      "Kanye West Famous 8107985\n"
     ]
    },
    {
     "name": "stderr",
     "output_type": "stream",
     "text": [
      "\r",
      " 33%|██████████████████████████████████▍                                                                    | 333/997 [1:13:25<2:32:27, 13.78s/it]"
     ]
    },
    {
     "name": "stdout",
     "output_type": "stream",
     "text": [
      "No objects to concatenate\n",
      "Chris Brown Loyal 6893986\n"
     ]
    },
    {
     "name": "stderr",
     "output_type": "stream",
     "text": [
      "\r",
      " 34%|██████████████████████████████████▌                                                                    | 334/997 [1:13:42<2:42:14, 14.68s/it]"
     ]
    },
    {
     "name": "stdout",
     "output_type": "stream",
     "text": [
      "No objects to concatenate\n",
      "Fall Out Boy My Songs Know What You Did In The Dark (Light Em Up) 6436986\n"
     ]
    },
    {
     "name": "stderr",
     "output_type": "stream",
     "text": [
      "\r",
      " 34%|██████████████████████████████████▌                                                                    | 335/997 [1:14:00<2:52:30, 15.63s/it]"
     ]
    },
    {
     "name": "stdout",
     "output_type": "stream",
     "text": [
      "No objects to concatenate\n",
      "Destiny's Child Say My Name 8110986\n"
     ]
    },
    {
     "name": "stderr",
     "output_type": "stream",
     "text": [
      "\r",
      " 34%|██████████████████████████████████▋                                                                    | 336/997 [1:14:17<2:58:10, 16.17s/it]"
     ]
    },
    {
     "name": "stdout",
     "output_type": "stream",
     "text": [
      "No objects to concatenate\n",
      "Nick Jonas Close 6203986\n"
     ]
    },
    {
     "name": "stderr",
     "output_type": "stream",
     "text": [
      "\r",
      " 34%|██████████████████████████████████▊                                                                    | 337/997 [1:14:29<2:45:03, 15.01s/it]"
     ]
    },
    {
     "name": "stdout",
     "output_type": "stream",
     "text": [
      "No objects to concatenate\n",
      "Kanye West All Of The Lights 6423986\n"
     ]
    },
    {
     "name": "stderr",
     "output_type": "stream",
     "text": [
      "\r",
      " 34%|██████████████████████████████████▉                                                                    | 338/997 [1:14:41<2:33:25, 13.97s/it]"
     ]
    },
    {
     "name": "stdout",
     "output_type": "stream",
     "text": [
      "No objects to concatenate\n",
      "Sublime What I Got 5743986\n"
     ]
    },
    {
     "name": "stderr",
     "output_type": "stream",
     "text": [
      "\r",
      " 34%|███████████████████████████████████                                                                    | 339/997 [1:14:41<1:47:57,  9.84s/it]"
     ]
    },
    {
     "name": "stdout",
     "output_type": "stream",
     "text": [
      "No objects to concatenate\n",
      "Carnage I Like Tuh 6105986\n"
     ]
    },
    {
     "name": "stderr",
     "output_type": "stream",
     "text": [
      "\r",
      " 34%|███████████████████████████████████▏                                                                   | 340/997 [1:14:58<2:10:41, 11.93s/it]"
     ]
    },
    {
     "name": "stdout",
     "output_type": "stream",
     "text": [
      "No objects to concatenate\n",
      "Jessie J Bang Bang 7255986\n"
     ]
    },
    {
     "name": "stderr",
     "output_type": "stream",
     "text": [
      "\r",
      " 34%|███████████████████████████████████▏                                                                   | 341/997 [1:15:10<2:10:45, 11.96s/it]"
     ]
    },
    {
     "name": "stdout",
     "output_type": "stream",
     "text": [
      "No objects to concatenate\n",
      "Coldplay A Sky Full of Stars 4444986\n"
     ]
    },
    {
     "name": "stderr",
     "output_type": "stream",
     "text": [
      "\r",
      " 34%|███████████████████████████████████▎                                                                   | 342/997 [1:15:26<2:23:56, 13.19s/it]"
     ]
    },
    {
     "name": "stdout",
     "output_type": "stream",
     "text": [
      "No objects to concatenate\n",
      "A$AP Ferg Work REMIX 6732986\n"
     ]
    },
    {
     "name": "stderr",
     "output_type": "stream",
     "text": [
      "\r",
      " 34%|███████████████████████████████████▍                                                                   | 343/997 [1:15:43<2:35:18, 14.25s/it]"
     ]
    },
    {
     "name": "stdout",
     "output_type": "stream",
     "text": [
      "No objects to concatenate\n",
      "PnB Rock Selfish 7328986\n"
     ]
    },
    {
     "name": "stderr",
     "output_type": "stream",
     "text": [
      "\r",
      " 35%|███████████████████████████████████▌                                                                   | 344/997 [1:16:01<2:48:27, 15.48s/it]"
     ]
    },
    {
     "name": "stdout",
     "output_type": "stream",
     "text": [
      "No objects to concatenate\n",
      "Vanilla Ice Ice Ice Baby 6355986\n"
     ]
    },
    {
     "name": "stderr",
     "output_type": "stream",
     "text": [
      "\r",
      " 35%|███████████████████████████████████▋                                                                   | 345/997 [1:16:19<2:56:31, 16.25s/it]"
     ]
    },
    {
     "name": "stdout",
     "output_type": "stream",
     "text": [
      "No objects to concatenate\n",
      "Rihanna Bitch Better Have My Money 6053986\n"
     ]
    },
    {
     "name": "stderr",
     "output_type": "stream",
     "text": [
      "\r",
      " 35%|███████████████████████████████████▋                                                                   | 346/997 [1:16:38<3:04:31, 17.01s/it]"
     ]
    },
    {
     "name": "stdout",
     "output_type": "stream",
     "text": [
      "Snoop Dogg Drop It Like It's Hot 8740986\n"
     ]
    },
    {
     "name": "stderr",
     "output_type": "stream",
     "text": [
      "\r",
      " 35%|███████████████████████████████████▊                                                                   | 347/997 [1:16:55<3:04:52, 17.07s/it]"
     ]
    },
    {
     "name": "stdout",
     "output_type": "stream",
     "text": [
      "No objects to concatenate\n",
      "Sam Smith Lay Me Down 7215986\n"
     ]
    },
    {
     "name": "stderr",
     "output_type": "stream",
     "text": [
      "\r",
      " 35%|███████████████████████████████████▉                                                                   | 348/997 [1:17:11<3:01:21, 16.77s/it]"
     ]
    },
    {
     "name": "stdout",
     "output_type": "stream",
     "text": [
      "No objects to concatenate\n",
      "Pitbull Time of Our Lives 7132986\n"
     ]
    },
    {
     "name": "stderr",
     "output_type": "stream",
     "text": [
      "\r",
      " 35%|████████████████████████████████████                                                                   | 349/997 [1:17:24<2:48:46, 15.63s/it]"
     ]
    },
    {
     "name": "stdout",
     "output_type": "stream",
     "text": [
      "No objects to concatenate\n",
      "George Ezra Budapest 6014986\n"
     ]
    },
    {
     "name": "stderr",
     "output_type": "stream",
     "text": [
      "\r",
      " 35%|████████████████████████████████████▏                                                                  | 350/997 [1:17:25<2:00:02, 11.13s/it]"
     ]
    },
    {
     "name": "stdout",
     "output_type": "stream",
     "text": [
      "No objects to concatenate\n",
      "Future F*ck Up Some Commas 7571986\n"
     ]
    },
    {
     "name": "stderr",
     "output_type": "stream",
     "text": [
      "\r",
      " 35%|████████████████████████████████████▎                                                                  | 351/997 [1:17:42<2:18:10, 12.83s/it]"
     ]
    },
    {
     "name": "stdout",
     "output_type": "stream",
     "text": [
      "No objects to concatenate\n",
      "Zac Brown Band Knee Deep (feat. Jimmy Buffett) 5414986\n"
     ]
    },
    {
     "name": "stderr",
     "output_type": "stream",
     "text": [
      "\r",
      " 35%|████████████████████████████████████▎                                                                  | 352/997 [1:17:47<1:55:13, 10.72s/it]"
     ]
    },
    {
     "name": "stdout",
     "output_type": "stream",
     "text": [
      "No objects to concatenate\n",
      "FRENSHIP Capsize 8136986\n"
     ]
    },
    {
     "name": "stderr",
     "output_type": "stream",
     "text": [
      "\r",
      " 35%|████████████████████████████████████▍                                                                  | 353/997 [1:18:00<2:01:32, 11.32s/it]"
     ]
    },
    {
     "name": "stdout",
     "output_type": "stream",
     "text": [
      "No objects to concatenate\n",
      "Coldplay Paradise 4253986\n"
     ]
    },
    {
     "name": "stderr",
     "output_type": "stream",
     "text": [
      "\r",
      " 36%|████████████████████████████████████▌                                                                  | 354/997 [1:18:17<2:18:34, 12.93s/it]"
     ]
    },
    {
     "name": "stdout",
     "output_type": "stream",
     "text": [
      "No objects to concatenate\n",
      "Soulja Boy Crank That (Soulja Boy) 8589986\n"
     ]
    },
    {
     "name": "stderr",
     "output_type": "stream",
     "text": [
      "\r",
      " 36%|████████████████████████████████████▋                                                                  | 355/997 [1:18:35<2:34:30, 14.44s/it]"
     ]
    },
    {
     "name": "stdout",
     "output_type": "stream",
     "text": [
      "No objects to concatenate\n",
      "Fergie Fergalicious 7474986\n"
     ]
    },
    {
     "name": "stderr",
     "output_type": "stream",
     "text": [
      "\r",
      " 36%|████████████████████████████████████▊                                                                  | 356/997 [1:18:52<2:42:31, 15.21s/it]"
     ]
    },
    {
     "name": "stdout",
     "output_type": "stream",
     "text": [
      "No objects to concatenate\n",
      "Drake Big Rings 7875986\n"
     ]
    },
    {
     "name": "stderr",
     "output_type": "stream",
     "text": [
      "\r",
      " 36%|████████████████████████████████████▉                                                                  | 357/997 [1:19:06<2:39:36, 14.96s/it]"
     ]
    },
    {
     "name": "stdout",
     "output_type": "stream",
     "text": [
      "No objects to concatenate\n",
      "Queen Another One Bites The Dust - Remastered 2011 7298986\n"
     ]
    },
    {
     "name": "stderr",
     "output_type": "stream",
     "text": [
      "\r",
      " 36%|████████████████████████████████████▉                                                                  | 358/997 [1:19:21<2:39:27, 14.97s/it]"
     ]
    },
    {
     "name": "stdout",
     "output_type": "stream",
     "text": [
      "No objects to concatenate\n",
      "Elton John Rocket Man (I Think It's Going To Be A Long Long Time) 7120986\n"
     ]
    },
    {
     "name": "stderr",
     "output_type": "stream",
     "text": [
      "\r",
      " 36%|█████████████████████████████████████                                                                  | 359/997 [1:19:37<2:41:33, 15.19s/it]"
     ]
    },
    {
     "name": "stdout",
     "output_type": "stream",
     "text": [
      "No objects to concatenate\n",
      "Gucci Mane Both (feat. Drake) 4719986\n"
     ]
    },
    {
     "name": "stderr",
     "output_type": "stream",
     "text": [
      "\r",
      " 36%|█████████████████████████████████████▏                                                                 | 360/997 [1:19:50<2:35:53, 14.68s/it]"
     ]
    },
    {
     "name": "stdout",
     "output_type": "stream",
     "text": [
      "No objects to concatenate\n",
      "Kansas Carry on Wayward Son 7610986\n"
     ]
    },
    {
     "name": "stderr",
     "output_type": "stream",
     "text": [
      "\r",
      " 36%|█████████████████████████████████████▎                                                                 | 361/997 [1:20:04<2:32:46, 14.41s/it]"
     ]
    },
    {
     "name": "stdout",
     "output_type": "stream",
     "text": [
      "No objects to concatenate\n",
      "Childish Gambino Sober 7636986\n"
     ]
    },
    {
     "name": "stderr",
     "output_type": "stream",
     "text": [
      "\r",
      " 36%|█████████████████████████████████████▍                                                                 | 362/997 [1:20:21<2:39:20, 15.06s/it]"
     ]
    },
    {
     "name": "stdout",
     "output_type": "stream",
     "text": [
      "No objects to concatenate\n",
      "The Notorious B.I.G. Mo Money Mo Problems (feat. Mase & Puff Daddy) - 2014 Remastered Version 6253986\n"
     ]
    },
    {
     "name": "stderr",
     "output_type": "stream",
     "text": [
      "\r",
      " 36%|█████████████████████████████████████▌                                                                 | 363/997 [1:20:38<2:47:01, 15.81s/it]"
     ]
    },
    {
     "name": "stdout",
     "output_type": "stream",
     "text": [
      "No objects to concatenate\n",
      "Migos Fight Night 7103986\n"
     ]
    },
    {
     "name": "stderr",
     "output_type": "stream",
     "text": [
      "\r",
      " 37%|█████████████████████████████████████▌                                                                 | 364/997 [1:20:57<2:56:55, 16.77s/it]"
     ]
    },
    {
     "name": "stdout",
     "output_type": "stream",
     "text": [
      "Drake Back To Back 7557986\n"
     ]
    },
    {
     "name": "stderr",
     "output_type": "stream",
     "text": [
      "\r",
      " 37%|█████████████████████████████████████▋                                                                 | 365/997 [1:21:16<3:03:01, 17.38s/it]"
     ]
    },
    {
     "name": "stdout",
     "output_type": "stream",
     "text": [
      "James Bay Hold Back The River 9078986\n"
     ]
    },
    {
     "name": "stderr",
     "output_type": "stream",
     "text": [
      "\r",
      " 37%|█████████████████████████████████████▊                                                                 | 366/997 [1:21:27<2:40:55, 15.30s/it]"
     ]
    },
    {
     "name": "stdout",
     "output_type": "stream",
     "text": [
      "No objects to concatenate\n",
      "OneRepublic Counting Stars 5423986\n"
     ]
    },
    {
     "name": "stderr",
     "output_type": "stream",
     "text": [
      "\r",
      " 37%|█████████████████████████████████████▉                                                                 | 367/997 [1:21:40<2:33:30, 14.62s/it]"
     ]
    },
    {
     "name": "stdout",
     "output_type": "stream",
     "text": [
      "No objects to concatenate\n",
      "The All-American Rejects Dirty Little Secret 5142986\n"
     ]
    },
    {
     "name": "stderr",
     "output_type": "stream",
     "text": [
      "\r",
      " 37%|██████████████████████████████████████                                                                 | 368/997 [1:21:57<2:42:29, 15.50s/it]"
     ]
    },
    {
     "name": "stdout",
     "output_type": "stream",
     "text": [
      "No objects to concatenate\n",
      "Michael Jackson Beat It - Single Version 6775986\n"
     ]
    },
    {
     "name": "stderr",
     "output_type": "stream",
     "text": [
      "\r",
      " 37%|██████████████████████████████████████                                                                 | 369/997 [1:22:02<2:07:38, 12.19s/it]"
     ]
    },
    {
     "name": "stdout",
     "output_type": "stream",
     "text": [
      "No objects to concatenate\n",
      "Trey Songz Slow Motion 7109986\n"
     ]
    },
    {
     "name": "stderr",
     "output_type": "stream",
     "text": [
      "\r",
      " 37%|██████████████████████████████████████▏                                                                | 370/997 [1:22:13<2:06:08, 12.07s/it]"
     ]
    },
    {
     "name": "stdout",
     "output_type": "stream",
     "text": [
      "No objects to concatenate\n",
      "Post Malone I Fall Apart 5845986\n"
     ]
    },
    {
     "name": "stderr",
     "output_type": "stream",
     "text": [
      "\r",
      " 37%|██████████████████████████████████████▎                                                                | 371/997 [1:22:27<2:10:54, 12.55s/it]"
     ]
    },
    {
     "name": "stdout",
     "output_type": "stream",
     "text": [
      "No objects to concatenate\n",
      "Cage The Elephant Cigarette Daydreams 6574986\n"
     ]
    },
    {
     "name": "stderr",
     "output_type": "stream",
     "text": [
      "\r",
      " 37%|██████████████████████████████████████▍                                                                | 372/997 [1:22:42<2:18:29, 13.30s/it]"
     ]
    },
    {
     "name": "stdout",
     "output_type": "stream",
     "text": [
      "No objects to concatenate\n",
      "Coldplay The Scientist 8128986\n"
     ]
    },
    {
     "name": "stderr",
     "output_type": "stream",
     "text": [
      "\r",
      " 37%|██████████████████████████████████████▌                                                                | 373/997 [1:22:59<2:29:49, 14.41s/it]"
     ]
    },
    {
     "name": "stdout",
     "output_type": "stream",
     "text": [
      "No objects to concatenate\n",
      "Ariana Grande Side To Side 8058986\n"
     ]
    },
    {
     "name": "stderr",
     "output_type": "stream",
     "text": [
      "\r",
      " 38%|██████████████████████████████████████▋                                                                | 374/997 [1:23:12<2:25:04, 13.97s/it]"
     ]
    },
    {
     "name": "stdout",
     "output_type": "stream",
     "text": [
      "No objects to concatenate\n",
      "Halsey Now Or Never 7861986\n"
     ]
    },
    {
     "name": "stderr",
     "output_type": "stream",
     "text": [
      "\r",
      " 38%|██████████████████████████████████████▋                                                                | 375/997 [1:23:28<2:31:40, 14.63s/it]"
     ]
    },
    {
     "name": "stdout",
     "output_type": "stream",
     "text": [
      "No objects to concatenate\n",
      "ScHoolboy Q Studio 5179986\n"
     ]
    },
    {
     "name": "stderr",
     "output_type": "stream",
     "text": [
      "\r",
      " 38%|██████████████████████████████████████▊                                                                | 376/997 [1:23:42<2:29:13, 14.42s/it]"
     ]
    },
    {
     "name": "stdout",
     "output_type": "stream",
     "text": [
      "No objects to concatenate\n",
      "Nirvana Come As You Are 5319986\n"
     ]
    },
    {
     "name": "stderr",
     "output_type": "stream",
     "text": [
      "\r",
      " 38%|██████████████████████████████████████▉                                                                | 377/997 [1:23:47<1:59:11, 11.53s/it]"
     ]
    },
    {
     "name": "stdout",
     "output_type": "stream",
     "text": [
      "No objects to concatenate\n",
      "O.T. Genasis Cut It (feat. Young Dolph) 6953986\n"
     ]
    },
    {
     "name": "stderr",
     "output_type": "stream",
     "text": [
      "\r",
      " 38%|███████████████████████████████████████                                                                | 378/997 [1:24:00<2:03:59, 12.02s/it]"
     ]
    },
    {
     "name": "stdout",
     "output_type": "stream",
     "text": [
      "No objects to concatenate\n",
      "The Rolling Stones Paint It Black 6489986\n"
     ]
    },
    {
     "name": "stderr",
     "output_type": "stream",
     "text": [
      "\r",
      " 38%|███████████████████████████████████████▏                                                               | 379/997 [1:24:15<2:12:12, 12.84s/it]"
     ]
    },
    {
     "name": "stdout",
     "output_type": "stream",
     "text": [
      "No objects to concatenate\n",
      "Florida Georgia Line Get Your Shine On 6487986\n"
     ]
    },
    {
     "name": "stderr",
     "output_type": "stream",
     "text": [
      "\r",
      " 38%|███████████████████████████████████████▎                                                               | 380/997 [1:24:22<1:54:21, 11.12s/it]"
     ]
    },
    {
     "name": "stdout",
     "output_type": "stream",
     "text": [
      "No objects to concatenate\n",
      "Luke Bryan That's My Kind Of Night 3957986\n"
     ]
    },
    {
     "name": "stderr",
     "output_type": "stream",
     "text": [
      "\r",
      " 38%|███████████████████████████████████████▎                                                               | 381/997 [1:24:29<1:41:22,  9.87s/it]"
     ]
    },
    {
     "name": "stdout",
     "output_type": "stream",
     "text": [
      "No objects to concatenate\n",
      "Imagine Dragons Demons 6566986\n"
     ]
    },
    {
     "name": "stderr",
     "output_type": "stream",
     "text": [
      "\r",
      " 38%|███████████████████████████████████████▍                                                               | 382/997 [1:24:42<1:49:44, 10.71s/it]"
     ]
    },
    {
     "name": "stdout",
     "output_type": "stream",
     "text": [
      "No objects to concatenate\n",
      "Def Leppard Pour Some Sugar On Me (2012) 7420986\n"
     ]
    },
    {
     "name": "stderr",
     "output_type": "stream",
     "text": [
      "\r",
      " 38%|███████████████████████████████████████▌                                                               | 383/997 [1:24:46<1:30:20,  8.83s/it]"
     ]
    },
    {
     "name": "stdout",
     "output_type": "stream",
     "text": [
      "No objects to concatenate\n",
      "Lynyrd Skynyrd Simple Man 8457986\n"
     ]
    },
    {
     "name": "stderr",
     "output_type": "stream",
     "text": [
      "\r",
      " 39%|███████████████████████████████████████▋                                                               | 384/997 [1:24:51<1:17:05,  7.55s/it]"
     ]
    },
    {
     "name": "stdout",
     "output_type": "stream",
     "text": [
      "No objects to concatenate\n",
      "Flo Rida GDFR (feat. Sage The Gemini & Lookas) 6486986\n"
     ]
    },
    {
     "name": "stderr",
     "output_type": "stream",
     "text": [
      "\r",
      " 39%|███████████████████████████████████████▊                                                               | 385/997 [1:25:08<1:45:54, 10.38s/it]"
     ]
    },
    {
     "name": "stdout",
     "output_type": "stream",
     "text": [
      "No objects to concatenate\n",
      "The Weeknd I Feel It Coming 6189986\n"
     ]
    },
    {
     "name": "stderr",
     "output_type": "stream",
     "text": [
      "\r",
      " 39%|███████████████████████████████████████▉                                                               | 386/997 [1:25:19<1:48:53, 10.69s/it]"
     ]
    },
    {
     "name": "stdout",
     "output_type": "stream",
     "text": [
      "No objects to concatenate\n",
      "Drake Still Here 7386986\n"
     ]
    },
    {
     "name": "stderr",
     "output_type": "stream",
     "text": [
      "\r",
      " 39%|███████████████████████████████████████▉                                                               | 387/997 [1:25:32<1:57:03, 11.51s/it]"
     ]
    },
    {
     "name": "stdout",
     "output_type": "stream",
     "text": [
      "No objects to concatenate\n",
      "G-Eazy Let's Get Lost 6612986\n"
     ]
    },
    {
     "name": "stderr",
     "output_type": "stream",
     "text": [
      "\r",
      " 39%|████████████████████████████████████████                                                               | 388/997 [1:25:42<1:51:39, 11.00s/it]"
     ]
    },
    {
     "name": "stdout",
     "output_type": "stream",
     "text": [
      "No objects to concatenate\n",
      "M.I.A. Paper Planes 7986986\n"
     ]
    },
    {
     "name": "stderr",
     "output_type": "stream",
     "text": [
      "\r",
      " 39%|████████████████████████████████████████▏                                                              | 389/997 [1:26:00<2:12:31, 13.08s/it]"
     ]
    },
    {
     "name": "stdout",
     "output_type": "stream",
     "text": [
      "No objects to concatenate\n",
      "Lil Wayne Sucker For Pain (with Wiz Khalifa, Imagine Dragons, Logic & Ty Dolla $ign feat. X Ambassadors) 6388986\n"
     ]
    },
    {
     "name": "stderr",
     "output_type": "stream",
     "text": [
      "\r",
      " 39%|████████████████████████████████████████▎                                                              | 390/997 [1:26:17<2:22:24, 14.08s/it]"
     ]
    },
    {
     "name": "stdout",
     "output_type": "stream",
     "text": [
      "No objects to concatenate\n",
      "Drake 10 Bands 7468986\n"
     ]
    },
    {
     "name": "stderr",
     "output_type": "stream",
     "text": [
      "\r",
      " 39%|████████████████████████████████████████▍                                                              | 391/997 [1:26:30<2:20:46, 13.94s/it]"
     ]
    },
    {
     "name": "stdout",
     "output_type": "stream",
     "text": [
      "No objects to concatenate\n",
      "The Goo Goo Dolls Iris 6649986\n"
     ]
    },
    {
     "name": "stderr",
     "output_type": "stream",
     "text": [
      "\r",
      " 39%|████████████████████████████████████████▍                                                              | 392/997 [1:26:47<2:29:25, 14.82s/it]"
     ]
    },
    {
     "name": "stdout",
     "output_type": "stream",
     "text": [
      "No objects to concatenate\n",
      "Dr. Dre The Next Episode 7406986\n"
     ]
    },
    {
     "name": "stderr",
     "output_type": "stream",
     "text": [
      "\r",
      " 39%|████████████████████████████████████████▌                                                              | 393/997 [1:27:05<2:38:33, 15.75s/it]"
     ]
    },
    {
     "name": "stdout",
     "output_type": "stream",
     "text": [
      "No objects to concatenate\n",
      "G-Eazy Some Kind Of Drug 6355986\n"
     ]
    },
    {
     "name": "stderr",
     "output_type": "stream",
     "text": [
      "\r",
      " 40%|████████████████████████████████████████▋                                                              | 394/997 [1:27:13<2:15:49, 13.52s/it]"
     ]
    },
    {
     "name": "stdout",
     "output_type": "stream",
     "text": [
      "No objects to concatenate\n",
      "Chance The Rapper Blessings 6538986\n"
     ]
    },
    {
     "name": "stderr",
     "output_type": "stream",
     "text": [
      "\r",
      " 40%|████████████████████████████████████████▊                                                              | 395/997 [1:27:25<2:10:36, 13.02s/it]"
     ]
    },
    {
     "name": "stdout",
     "output_type": "stream",
     "text": [
      "No objects to concatenate\n",
      "Clean Bandit Rather Be (feat. Jess Glynne) 6619986\n"
     ]
    },
    {
     "name": "stderr",
     "output_type": "stream",
     "text": [
      "\r",
      " 40%|████████████████████████████████████████▉                                                              | 396/997 [1:27:38<2:08:31, 12.83s/it]"
     ]
    },
    {
     "name": "stdout",
     "output_type": "stream",
     "text": [
      "No objects to concatenate\n",
      "Dr. Dre Still D.R.E. 7142986\n"
     ]
    },
    {
     "name": "stderr",
     "output_type": "stream",
     "text": [
      "\r",
      " 40%|█████████████████████████████████████████                                                              | 397/997 [1:27:54<2:20:27, 14.05s/it]"
     ]
    },
    {
     "name": "stdout",
     "output_type": "stream",
     "text": [
      "No objects to concatenate\n",
      "Kendrick Lamar Swimming Pools (Drank) - Extended Version 7676986\n"
     ]
    },
    {
     "name": "stderr",
     "output_type": "stream",
     "text": [
      "\r",
      " 40%|█████████████████████████████████████████                                                              | 398/997 [1:28:13<2:33:46, 15.40s/it]"
     ]
    },
    {
     "name": "stdout",
     "output_type": "stream",
     "text": [
      "Led Zeppelin Stairway To Heaven 6336986\n"
     ]
    },
    {
     "name": "stderr",
     "output_type": "stream",
     "text": [
      "\r",
      " 40%|█████████████████████████████████████████▏                                                             | 399/997 [1:28:28<2:31:36, 15.21s/it]"
     ]
    },
    {
     "name": "stdout",
     "output_type": "stream",
     "text": [
      "No objects to concatenate\n",
      "Major Lazer Light It Up (feat. Nyla & Fuse ODG) - Remix 7269986\n"
     ]
    },
    {
     "name": "stderr",
     "output_type": "stream",
     "text": [
      "\r",
      " 40%|█████████████████████████████████████████▎                                                             | 400/997 [1:28:41<2:24:52, 14.56s/it]"
     ]
    },
    {
     "name": "stdout",
     "output_type": "stream",
     "text": [
      "No objects to concatenate\n",
      "Bruno Mars Just the Way You Are 6349986\n"
     ]
    },
    {
     "name": "stderr",
     "output_type": "stream",
     "text": [
      "\r",
      " 40%|█████████████████████████████████████████▍                                                             | 401/997 [1:28:54<2:19:43, 14.07s/it]"
     ]
    },
    {
     "name": "stdout",
     "output_type": "stream",
     "text": [
      "No objects to concatenate\n",
      "Jason Derulo Talk Dirty (feat. 2 Chainz) 6494987\n"
     ]
    },
    {
     "name": "stderr",
     "output_type": "stream",
     "text": [
      "\r",
      " 40%|█████████████████████████████████████████▌                                                             | 402/997 [1:29:06<2:14:38, 13.58s/it]"
     ]
    },
    {
     "name": "stdout",
     "output_type": "stream",
     "text": [
      "No objects to concatenate\n",
      "Drake Sneakin’ 5291987\n"
     ]
    },
    {
     "name": "stderr",
     "output_type": "stream",
     "text": [
      "\r",
      " 40%|█████████████████████████████████████████▋                                                             | 403/997 [1:29:20<2:14:36, 13.60s/it]"
     ]
    },
    {
     "name": "stdout",
     "output_type": "stream",
     "text": [
      "No objects to concatenate\n",
      "Linkin Park In The End 6442987\n"
     ]
    },
    {
     "name": "stderr",
     "output_type": "stream",
     "text": [
      "\r",
      " 41%|█████████████████████████████████████████▋                                                             | 404/997 [1:29:25<1:48:48, 11.01s/it]"
     ]
    },
    {
     "name": "stdout",
     "output_type": "stream",
     "text": [
      "No objects to concatenate\n",
      "James Arthur Say You Won't Let Go 6128987\n"
     ]
    },
    {
     "name": "stderr",
     "output_type": "stream",
     "text": [
      "\r",
      " 41%|█████████████████████████████████████████▊                                                             | 405/997 [1:29:34<1:44:09, 10.56s/it]"
     ]
    },
    {
     "name": "stdout",
     "output_type": "stream",
     "text": [
      "No objects to concatenate\n",
      "Men At Work Down Under 8535987\n"
     ]
    },
    {
     "name": "stderr",
     "output_type": "stream",
     "text": [
      "\r",
      " 41%|█████████████████████████████████████████▉                                                             | 406/997 [1:29:39<1:26:19,  8.76s/it]"
     ]
    },
    {
     "name": "stdout",
     "output_type": "stream",
     "text": [
      "No objects to concatenate\n",
      "Nicki Minaj Starships 6555987\n"
     ]
    },
    {
     "name": "stderr",
     "output_type": "stream",
     "text": [
      "\r",
      " 41%|██████████████████████████████████████████                                                             | 407/997 [1:29:57<1:52:39, 11.46s/it]"
     ]
    },
    {
     "name": "stdout",
     "output_type": "stream",
     "text": [
      "No objects to concatenate\n",
      "Yo Gotti Rake It Up 6408987\n"
     ]
    },
    {
     "name": "stderr",
     "output_type": "stream",
     "text": [
      "\r",
      " 41%|██████████████████████████████████████████▏                                                            | 408/997 [1:30:10<1:58:46, 12.10s/it]"
     ]
    },
    {
     "name": "stdout",
     "output_type": "stream",
     "text": [
      "No objects to concatenate\n",
      "Young M.A OOOUUU 8469987\n"
     ]
    },
    {
     "name": "stderr",
     "output_type": "stream",
     "text": [
      "\r",
      " 41%|██████████████████████████████████████████▎                                                            | 409/997 [1:30:28<2:14:58, 13.77s/it]"
     ]
    },
    {
     "name": "stdout",
     "output_type": "stream",
     "text": [
      "No objects to concatenate\n",
      "Tove Lo Habits (Stay High) - Hippie Sabotage Remix 6775987\n"
     ]
    },
    {
     "name": "stderr",
     "output_type": "stream",
     "text": [
      "\r",
      " 41%|██████████████████████████████████████████▎                                                            | 410/997 [1:30:45<2:25:44, 14.90s/it]"
     ]
    },
    {
     "name": "stdout",
     "output_type": "stream",
     "text": [
      "No objects to concatenate\n",
      "Logic Flexicution 6434987\n"
     ]
    },
    {
     "name": "stderr",
     "output_type": "stream",
     "text": [
      "\r",
      " 41%|██████████████████████████████████████████▍                                                            | 411/997 [1:31:02<2:31:00, 15.46s/it]"
     ]
    },
    {
     "name": "stdout",
     "output_type": "stream",
     "text": [
      "No objects to concatenate\n",
      "XXXTENTACION Look At Me! 6289987\n"
     ]
    },
    {
     "name": "stderr",
     "output_type": "stream",
     "text": [
      "\r",
      " 41%|██████████████████████████████████████████▌                                                            | 412/997 [1:31:13<2:18:16, 14.18s/it]"
     ]
    },
    {
     "name": "stdout",
     "output_type": "stream",
     "text": [
      "No objects to concatenate\n",
      "Lana Del Rey Summertime Sadness [Lana Del Rey vs. Cedric Gervais] - Cedric Gervais Remix 5252987\n"
     ]
    },
    {
     "name": "stderr",
     "output_type": "stream",
     "text": [
      "\r",
      " 41%|██████████████████████████████████████████▋                                                            | 413/997 [1:31:32<2:30:42, 15.48s/it]"
     ]
    },
    {
     "name": "stdout",
     "output_type": "stream",
     "text": [
      "No objects to concatenate\n",
      "Neil Diamond Sweet Caroline 7108987\n"
     ]
    },
    {
     "name": "stderr",
     "output_type": "stream",
     "text": [
      "\r",
      " 42%|██████████████████████████████████████████▊                                                            | 414/997 [1:31:39<2:06:31, 13.02s/it]"
     ]
    },
    {
     "name": "stdout",
     "output_type": "stream",
     "text": [
      "No objects to concatenate\n",
      "T.I. Live Your Life (feat. Rihanna) 6460987\n"
     ]
    },
    {
     "name": "stderr",
     "output_type": "stream",
     "text": [
      "\r",
      " 42%|██████████████████████████████████████████▊                                                            | 415/997 [1:31:58<2:22:23, 14.68s/it]"
     ]
    },
    {
     "name": "stdout",
     "output_type": "stream",
     "text": [
      "No objects to concatenate\n",
      "Troye Sivan YOUTH 5985987\n"
     ]
    },
    {
     "name": "stderr",
     "output_type": "stream",
     "text": [
      "\r",
      " 42%|██████████████████████████████████████████▉                                                            | 416/997 [1:32:06<2:03:02, 12.71s/it]"
     ]
    },
    {
     "name": "stdout",
     "output_type": "stream",
     "text": [
      "No objects to concatenate\n",
      "OneRepublic Secrets 4649987\n"
     ]
    },
    {
     "name": "stderr",
     "output_type": "stream",
     "text": [
      "\r",
      " 42%|███████████████████████████████████████████                                                            | 417/997 [1:32:11<1:41:23, 10.49s/it]"
     ]
    },
    {
     "name": "stdout",
     "output_type": "stream",
     "text": [
      "No objects to concatenate\n",
      "Frank Ocean Super Rich Kids 6353987\n"
     ]
    },
    {
     "name": "stderr",
     "output_type": "stream",
     "text": [
      "\r",
      " 42%|███████████████████████████████████████████▏                                                           | 418/997 [1:32:28<1:59:16, 12.36s/it]"
     ]
    },
    {
     "name": "stdout",
     "output_type": "stream",
     "text": [
      "No objects to concatenate\n",
      "Al Green Let's Stay Together 5044987\n"
     ]
    },
    {
     "name": "stderr",
     "output_type": "stream",
     "text": [
      "\r",
      " 42%|███████████████████████████████████████████▎                                                           | 419/997 [1:32:43<2:08:03, 13.29s/it]"
     ]
    },
    {
     "name": "stdout",
     "output_type": "stream",
     "text": [
      "No objects to concatenate\n",
      "Mumford & Sons The Cave 5645987\n"
     ]
    },
    {
     "name": "stderr",
     "output_type": "stream",
     "text": [
      "\r",
      " 42%|███████████████████████████████████████████▍                                                           | 420/997 [1:32:48<1:43:33, 10.77s/it]"
     ]
    },
    {
     "name": "stdout",
     "output_type": "stream",
     "text": [
      "No objects to concatenate\n",
      "OutKast Roses 6148987\n"
     ]
    },
    {
     "name": "stderr",
     "output_type": "stream",
     "text": [
      "\r",
      " 42%|███████████████████████████████████████████▍                                                           | 421/997 [1:33:03<1:54:25, 11.92s/it]"
     ]
    },
    {
     "name": "stdout",
     "output_type": "stream",
     "text": [
      "No objects to concatenate\n",
      "Maroon 5 Sunday Morning 5409987\n"
     ]
    },
    {
     "name": "stderr",
     "output_type": "stream",
     "text": [
      "\r",
      " 42%|███████████████████████████████████████████▌                                                           | 422/997 [1:33:08<1:35:55, 10.01s/it]"
     ]
    },
    {
     "name": "stdout",
     "output_type": "stream",
     "text": [
      "No objects to concatenate\n",
      "Yellowcard Ocean Avenue 6696987\n"
     ]
    },
    {
     "name": "stderr",
     "output_type": "stream",
     "text": [
      "\r",
      " 42%|███████████████████████████████████████████▋                                                           | 423/997 [1:33:14<1:22:55,  8.67s/it]"
     ]
    },
    {
     "name": "stdout",
     "output_type": "stream",
     "text": [
      "No objects to concatenate\n",
      "J. Cole Work Out 7890987\n"
     ]
    },
    {
     "name": "stderr",
     "output_type": "stream",
     "text": [
      "\r",
      " 43%|███████████████████████████████████████████▊                                                           | 424/997 [1:33:33<1:53:42, 11.91s/it]"
     ]
    },
    {
     "name": "stdout",
     "output_type": "stream",
     "text": [
      "Rihanna Love On The Brain 6922987\n"
     ]
    },
    {
     "name": "stderr",
     "output_type": "stream",
     "text": [
      "\r",
      " 43%|███████████████████████████████████████████▉                                                           | 425/997 [1:33:47<1:58:36, 12.44s/it]"
     ]
    },
    {
     "name": "stdout",
     "output_type": "stream",
     "text": [
      "No objects to concatenate\n",
      "Rihanna Stay - Album Version (Edited) 6369987\n"
     ]
    },
    {
     "name": "stderr",
     "output_type": "stream",
     "text": [
      "\r",
      " 43%|████████████████████████████████████████████                                                           | 426/997 [1:34:03<2:09:17, 13.59s/it]"
     ]
    },
    {
     "name": "stdout",
     "output_type": "stream",
     "text": [
      "No objects to concatenate\n",
      "Bon Jovi Wanted Dead Or Alive 6417987\n"
     ]
    },
    {
     "name": "stderr",
     "output_type": "stream",
     "text": [
      "\r",
      " 43%|████████████████████████████████████████████                                                           | 427/997 [1:34:08<1:43:23, 10.88s/it]"
     ]
    },
    {
     "name": "stdout",
     "output_type": "stream",
     "text": [
      "No objects to concatenate\n",
      "Eddie Money Take Me Home Tonight 5334987\n"
     ]
    },
    {
     "name": "stderr",
     "output_type": "stream",
     "text": [
      "\r",
      " 43%|████████████████████████████████████████████▏                                                          | 428/997 [1:34:23<1:53:56, 12.02s/it]"
     ]
    },
    {
     "name": "stdout",
     "output_type": "stream",
     "text": [
      "No objects to concatenate\n",
      "Lil Wayne Right Above It 5966987\n"
     ]
    },
    {
     "name": "stderr",
     "output_type": "stream",
     "text": [
      "\r",
      " 43%|████████████████████████████████████████████▎                                                          | 429/997 [1:34:34<1:52:08, 11.85s/it]"
     ]
    },
    {
     "name": "stdout",
     "output_type": "stream",
     "text": [
      "No objects to concatenate\n",
      "JAY Z No Church In The Wild 6708987\n"
     ]
    },
    {
     "name": "stderr",
     "output_type": "stream",
     "text": [
      "\r",
      " 43%|████████████████████████████████████████████▍                                                          | 430/997 [1:34:52<2:08:30, 13.60s/it]"
     ]
    },
    {
     "name": "stdout",
     "output_type": "stream",
     "text": [
      "No objects to concatenate\n",
      "House Of Pain Jump Around 6653987\n"
     ]
    },
    {
     "name": "stderr",
     "output_type": "stream",
     "text": [
      "\r",
      " 43%|████████████████████████████████████████████▌                                                          | 431/997 [1:35:09<2:18:57, 14.73s/it]"
     ]
    },
    {
     "name": "stdout",
     "output_type": "stream",
     "text": [
      "No objects to concatenate\n",
      "Yo Gotti Down In the DM 7150987\n"
     ]
    },
    {
     "name": "stderr",
     "output_type": "stream",
     "text": [
      "\r",
      " 43%|████████████████████████████████████████████▋                                                          | 432/997 [1:35:22<2:14:45, 14.31s/it]"
     ]
    },
    {
     "name": "stdout",
     "output_type": "stream",
     "text": [
      "No objects to concatenate\n",
      "Nebu Kiniza Gassed Up 6518987\n"
     ]
    },
    {
     "name": "stderr",
     "output_type": "stream",
     "text": [
      "\r",
      " 43%|████████████████████████████████████████████▋                                                          | 433/997 [1:35:39<2:21:55, 15.10s/it]"
     ]
    },
    {
     "name": "stdout",
     "output_type": "stream",
     "text": [
      "No objects to concatenate\n",
      "Ariana Grande Dangerous Woman 5736987\n"
     ]
    },
    {
     "name": "stderr",
     "output_type": "stream",
     "text": [
      "\r",
      " 44%|████████████████████████████████████████████▊                                                          | 434/997 [1:35:51<2:13:25, 14.22s/it]"
     ]
    },
    {
     "name": "stdout",
     "output_type": "stream",
     "text": [
      "No objects to concatenate\n",
      "J. Cole Neighbors 5943987\n"
     ]
    },
    {
     "name": "stderr",
     "output_type": "stream",
     "text": [
      "\r",
      " 44%|████████████████████████████████████████████▉                                                          | 435/997 [1:36:05<2:10:36, 13.94s/it]"
     ]
    },
    {
     "name": "stdout",
     "output_type": "stream",
     "text": [
      "No objects to concatenate\n",
      "Tee Grizzley First Day Out 5379987\n"
     ]
    },
    {
     "name": "stderr",
     "output_type": "stream",
     "text": [
      "\r",
      " 44%|█████████████████████████████████████████████                                                          | 436/997 [1:36:24<2:23:49, 15.38s/it]"
     ]
    },
    {
     "name": "stdout",
     "output_type": "stream",
     "text": [
      "No objects to concatenate\n",
      "Drake The Motto 8304987\n"
     ]
    },
    {
     "name": "stderr",
     "output_type": "stream",
     "text": [
      "\r",
      " 44%|█████████████████████████████████████████████▏                                                         | 437/997 [1:36:43<2:34:36, 16.57s/it]"
     ]
    },
    {
     "name": "stdout",
     "output_type": "stream",
     "text": [
      "Eagles Hotel California - Remastered 5608987\n"
     ]
    },
    {
     "name": "stderr",
     "output_type": "stream",
     "text": [
      "\r",
      " 44%|█████████████████████████████████████████████▏                                                         | 438/997 [1:36:47<2:00:44, 12.96s/it]"
     ]
    },
    {
     "name": "stdout",
     "output_type": "stream",
     "text": [
      "No objects to concatenate\n",
      "Wiz Khalifa Work Hard, Play Hard 6110987\n"
     ]
    },
    {
     "name": "stderr",
     "output_type": "stream",
     "text": [
      "\r",
      " 44%|█████████████████████████████████████████████▎                                                         | 439/997 [1:37:01<2:02:48, 13.20s/it]"
     ]
    },
    {
     "name": "stdout",
     "output_type": "stream",
     "text": [
      "No objects to concatenate\n",
      "Jay Sean Down 7289987\n"
     ]
    },
    {
     "name": "stderr",
     "output_type": "stream",
     "text": [
      "\r",
      " 44%|█████████████████████████████████████████████▍                                                         | 440/997 [1:37:20<2:17:22, 14.80s/it]"
     ]
    },
    {
     "name": "stdout",
     "output_type": "stream",
     "text": [
      "No objects to concatenate\n",
      "Whitney Houston I Wanna Dance with Somebody (Who Loves Me) 5605987\n"
     ]
    },
    {
     "name": "stderr",
     "output_type": "stream",
     "text": [
      "\r",
      " 44%|█████████████████████████████████████████████▌                                                         | 441/997 [1:37:34<2:15:05, 14.58s/it]"
     ]
    },
    {
     "name": "stdout",
     "output_type": "stream",
     "text": [
      "No objects to concatenate\n",
      "Coldplay Fix You 5661987\n",
      "No objects to concatenate\n",
      "Kevin Gates Really Really 7686987\n"
     ]
    },
    {
     "name": "stderr",
     "output_type": "stream",
     "text": [
      "\r",
      " 44%|█████████████████████████████████████████████▊                                                         | 443/997 [1:37:47<1:53:02, 12.24s/it]"
     ]
    },
    {
     "name": "stdout",
     "output_type": "stream",
     "text": [
      "No objects to concatenate\n",
      "SZA Love Galore 6399987\n"
     ]
    },
    {
     "name": "stderr",
     "output_type": "stream",
     "text": [
      "\r",
      " 45%|█████████████████████████████████████████████▊                                                         | 444/997 [1:38:05<2:08:41, 13.96s/it]"
     ]
    },
    {
     "name": "stdout",
     "output_type": "stream",
     "text": [
      "No objects to concatenate\n",
      "Snow Patrol Chasing Cars 5720987\n"
     ]
    },
    {
     "name": "stderr",
     "output_type": "stream",
     "text": [
      "\r",
      " 45%|█████████████████████████████████████████████▉                                                         | 445/997 [1:38:10<1:42:57, 11.19s/it]"
     ]
    },
    {
     "name": "stdout",
     "output_type": "stream",
     "text": [
      "No objects to concatenate\n",
      "Desiigner Tiimmy Turner 6231987\n"
     ]
    },
    {
     "name": "stderr",
     "output_type": "stream",
     "text": [
      "\r",
      " 45%|██████████████████████████████████████████████                                                         | 446/997 [1:38:26<1:56:44, 12.71s/it]"
     ]
    },
    {
     "name": "stdout",
     "output_type": "stream",
     "text": [
      "No objects to concatenate\n",
      "MGMT Electric Feel 7359987\n"
     ]
    },
    {
     "name": "stderr",
     "output_type": "stream",
     "text": [
      "\r",
      " 45%|██████████████████████████████████████████████▏                                                        | 447/997 [1:38:27<1:24:30,  9.22s/it]"
     ]
    },
    {
     "name": "stdout",
     "output_type": "stream",
     "text": [
      "No objects to concatenate\n",
      "PnB Rock Horses (with PnB Rock, Kodak Black & A Boogie Wit da Hoodie) 5099987\n"
     ]
    },
    {
     "name": "stderr",
     "output_type": "stream",
     "text": [
      "\r",
      " 45%|██████████████████████████████████████████████▎                                                        | 448/997 [1:38:41<1:35:19, 10.42s/it]"
     ]
    },
    {
     "name": "stdout",
     "output_type": "stream",
     "text": [
      "No objects to concatenate\n",
      "Van Halen Jump - 2015 Remastered Version 4371987\n"
     ]
    },
    {
     "name": "stderr",
     "output_type": "stream",
     "text": [
      "\r",
      " 45%|██████████████████████████████████████████████▍                                                        | 449/997 [1:38:45<1:18:33,  8.60s/it]"
     ]
    },
    {
     "name": "stdout",
     "output_type": "stream",
     "text": [
      "No objects to concatenate\n",
      "ScHoolboy Q Hands On The Wheel 7000987\n"
     ]
    },
    {
     "name": "stderr",
     "output_type": "stream",
     "text": [
      "\r",
      " 45%|██████████████████████████████████████████████▍                                                        | 450/997 [1:38:58<1:30:26,  9.92s/it]"
     ]
    },
    {
     "name": "stdout",
     "output_type": "stream",
     "text": [
      "No objects to concatenate\n",
      "50 Cent In Da Club 7945987\n"
     ]
    },
    {
     "name": "stderr",
     "output_type": "stream",
     "text": [
      "\r",
      " 45%|██████████████████████████████████████████████▌                                                        | 451/997 [1:39:16<1:53:30, 12.47s/it]"
     ]
    },
    {
     "name": "stdout",
     "output_type": "stream",
     "text": [
      "The White Stripes Seven Nation Army 7945987\n"
     ]
    },
    {
     "name": "stderr",
     "output_type": "stream",
     "text": [
      "\r",
      " 45%|██████████████████████████████████████████████▋                                                        | 452/997 [1:39:31<1:58:22, 13.03s/it]"
     ]
    },
    {
     "name": "stdout",
     "output_type": "stream",
     "text": [
      "No objects to concatenate\n",
      "Daryl Hall & John Oates You Make My Dreams - Remastered 5795987\n"
     ]
    },
    {
     "name": "stderr",
     "output_type": "stream",
     "text": [
      "\r",
      " 45%|██████████████████████████████████████████████▊                                                        | 453/997 [1:39:45<2:01:00, 13.35s/it]"
     ]
    },
    {
     "name": "stdout",
     "output_type": "stream",
     "text": [
      "No objects to concatenate\n",
      "Kenny Loggins Footloose 6285987\n"
     ]
    },
    {
     "name": "stderr",
     "output_type": "stream",
     "text": [
      "\r",
      " 46%|██████████████████████████████████████████████▉                                                        | 454/997 [1:39:59<2:03:51, 13.69s/it]"
     ]
    },
    {
     "name": "stdout",
     "output_type": "stream",
     "text": [
      "No objects to concatenate\n",
      "MAGIC! Rude 4157987\n"
     ]
    },
    {
     "name": "stderr",
     "output_type": "stream",
     "text": [
      "\r",
      " 46%|███████████████████████████████████████████████                                                        | 455/997 [1:40:12<2:00:23, 13.33s/it]"
     ]
    },
    {
     "name": "stdout",
     "output_type": "stream",
     "text": [
      "No objects to concatenate\n",
      "Kendrick Lamar Money Trees 5242987\n"
     ]
    },
    {
     "name": "stderr",
     "output_type": "stream",
     "text": [
      "\r",
      " 46%|███████████████████████████████████████████████                                                        | 456/997 [1:40:25<2:00:12, 13.33s/it]"
     ]
    },
    {
     "name": "stdout",
     "output_type": "stream",
     "text": [
      "No objects to concatenate\n",
      "Warren G Regulate 5969987\n"
     ]
    },
    {
     "name": "stderr",
     "output_type": "stream",
     "text": [
      "\r",
      " 46%|███████████████████████████████████████████████▏                                                       | 457/997 [1:40:41<2:08:02, 14.23s/it]"
     ]
    },
    {
     "name": "stdout",
     "output_type": "stream",
     "text": [
      "No objects to concatenate\n",
      "Beyoncé Single Ladies (Put a Ring on It) 9149987\n"
     ]
    },
    {
     "name": "stderr",
     "output_type": "stream",
     "text": [
      "\r",
      " 46%|███████████████████████████████████████████████▎                                                       | 458/997 [1:40:58<2:14:12, 14.94s/it]"
     ]
    },
    {
     "name": "stdout",
     "output_type": "stream",
     "text": [
      "No objects to concatenate\n",
      "Kendrick Lamar King Kunta 6070987\n"
     ]
    },
    {
     "name": "stderr",
     "output_type": "stream",
     "text": [
      "\r",
      " 46%|███████████████████████████████████████████████▍                                                       | 459/997 [1:41:14<2:17:13, 15.30s/it]"
     ]
    },
    {
     "name": "stdout",
     "output_type": "stream",
     "text": [
      "No objects to concatenate\n",
      "The Beach Boys Wouldn't It Be Nice - 2000 - Remaster 4246987\n"
     ]
    },
    {
     "name": "stderr",
     "output_type": "stream",
     "text": [
      "\r",
      " 46%|███████████████████████████████████████████████▌                                                       | 460/997 [1:41:29<2:14:28, 15.03s/it]"
     ]
    },
    {
     "name": "stdout",
     "output_type": "stream",
     "text": [
      "No objects to concatenate\n",
      "Charlie Puth We Don't Talk Anymore (feat. Selena Gomez) 6424987\n"
     ]
    },
    {
     "name": "stderr",
     "output_type": "stream",
     "text": [
      "\r",
      " 46%|███████████████████████████████████████████████▋                                                       | 461/997 [1:41:36<1:53:19, 12.69s/it]"
     ]
    },
    {
     "name": "stdout",
     "output_type": "stream",
     "text": [
      "No objects to concatenate\n",
      "The Weeknd Party Monster 4867987\n"
     ]
    },
    {
     "name": "stderr",
     "output_type": "stream",
     "text": [
      "\r",
      " 46%|███████████████████████████████████████████████▋                                                       | 462/997 [1:41:49<1:54:32, 12.85s/it]"
     ]
    },
    {
     "name": "stdout",
     "output_type": "stream",
     "text": [
      "No objects to concatenate\n",
      "Simon & Garfunkel Mrs. Robinson 6078987\n"
     ]
    },
    {
     "name": "stderr",
     "output_type": "stream",
     "text": [
      "\r",
      " 46%|███████████████████████████████████████████████▊                                                       | 463/997 [1:41:56<1:38:32, 11.07s/it]"
     ]
    },
    {
     "name": "stdout",
     "output_type": "stream",
     "text": [
      "No objects to concatenate\n",
      "Beyoncé 7/11 7273987\n"
     ]
    },
    {
     "name": "stderr",
     "output_type": "stream",
     "text": [
      "\r",
      " 47%|███████████████████████████████████████████████▉                                                       | 464/997 [1:42:07<1:38:01, 11.03s/it]"
     ]
    },
    {
     "name": "stdout",
     "output_type": "stream",
     "text": [
      "No objects to concatenate\n",
      "Katy Perry Dark Horse 6482987\n"
     ]
    },
    {
     "name": "stderr",
     "output_type": "stream",
     "text": [
      "\r",
      " 47%|████████████████████████████████████████████████                                                       | 465/997 [1:42:24<1:54:42, 12.94s/it]"
     ]
    },
    {
     "name": "stdout",
     "output_type": "stream",
     "text": [
      "No objects to concatenate\n",
      "UB40 Red Red Wine - Edit 8377987\n"
     ]
    },
    {
     "name": "stderr",
     "output_type": "stream",
     "text": [
      "\r",
      " 47%|████████████████████████████████████████████████▏                                                      | 466/997 [1:42:25<1:21:10,  9.17s/it]"
     ]
    },
    {
     "name": "stdout",
     "output_type": "stream",
     "text": [
      "No objects to concatenate\n",
      "Kanye West Heartless 8104987\n"
     ]
    },
    {
     "name": "stderr",
     "output_type": "stream",
     "text": [
      "\r",
      " 47%|████████████████████████████████████████████████▏                                                      | 467/997 [1:42:43<1:44:07, 11.79s/it]"
     ]
    },
    {
     "name": "stdout",
     "output_type": "stream",
     "text": [
      "No objects to concatenate\n",
      "The Police Every Breath You Take - Remastered 2003 7034987\n"
     ]
    },
    {
     "name": "stderr",
     "output_type": "stream",
     "text": [
      "\r",
      " 47%|████████████████████████████████████████████████▎                                                      | 468/997 [1:42:48<1:27:09,  9.89s/it]"
     ]
    },
    {
     "name": "stdout",
     "output_type": "stream",
     "text": [
      "No objects to concatenate\n",
      "Flume Say It 6272987\n"
     ]
    },
    {
     "name": "stderr",
     "output_type": "stream",
     "text": [
      "\r",
      " 47%|████████████████████████████████████████████████▍                                                      | 469/997 [1:43:03<1:41:02, 11.48s/it]"
     ]
    },
    {
     "name": "stdout",
     "output_type": "stream",
     "text": [
      "No objects to concatenate\n",
      "The Chainsmokers Paris 7111987\n"
     ]
    },
    {
     "name": "stderr",
     "output_type": "stream",
     "text": [
      "\r",
      " 47%|████████████████████████████████████████████████▌                                                      | 470/997 [1:43:12<1:34:26, 10.75s/it]"
     ]
    },
    {
     "name": "stdout",
     "output_type": "stream",
     "text": [
      "No objects to concatenate\n",
      "A$AP Rocky Wild for the Night 6173987\n"
     ]
    },
    {
     "name": "stderr",
     "output_type": "stream",
     "text": [
      "\r",
      " 47%|████████████████████████████████████████████████▋                                                      | 471/997 [1:43:30<1:53:01, 12.89s/it]"
     ]
    },
    {
     "name": "stdout",
     "output_type": "stream",
     "text": [
      "No objects to concatenate\n",
      "The All-American Rejects Move Along 5745987\n"
     ]
    },
    {
     "name": "stderr",
     "output_type": "stream",
     "text": [
      "\r",
      " 47%|████████████████████████████████████████████████▊                                                      | 472/997 [1:43:36<1:35:39, 10.93s/it]"
     ]
    },
    {
     "name": "stdout",
     "output_type": "stream",
     "text": [
      "No objects to concatenate\n",
      "Gucci Mane I Get The Bag (feat. Migos) 7038987\n"
     ]
    },
    {
     "name": "stderr",
     "output_type": "stream",
     "text": [
      "\r",
      " 47%|████████████████████████████████████████████████▊                                                      | 473/997 [1:43:58<2:02:23, 14.01s/it]"
     ]
    },
    {
     "name": "stdout",
     "output_type": "stream",
     "text": [
      "No objects to concatenate\n",
      "Kid Rock All Summer Long 6284987\n"
     ]
    },
    {
     "name": "stderr",
     "output_type": "stream",
     "text": [
      "\r",
      " 48%|████████████████████████████████████████████████▉                                                      | 474/997 [1:44:05<1:44:22, 11.98s/it]"
     ]
    },
    {
     "name": "stdout",
     "output_type": "stream",
     "text": [
      "No objects to concatenate\n",
      "Migos Kelly Price (feat. Travis Scott) 6550987\n"
     ]
    },
    {
     "name": "stderr",
     "output_type": "stream",
     "text": [
      "\r",
      " 48%|█████████████████████████████████████████████████                                                      | 475/997 [1:44:22<1:58:12, 13.59s/it]"
     ]
    },
    {
     "name": "stdout",
     "output_type": "stream",
     "text": [
      "No objects to concatenate\n",
      "Spice Girls Wannabe - Radio Edit 6177987\n"
     ]
    },
    {
     "name": "stderr",
     "output_type": "stream",
     "text": [
      "\r",
      " 48%|█████████████████████████████████████████████████▏                                                     | 476/997 [1:44:27<1:33:56, 10.82s/it]"
     ]
    },
    {
     "name": "stdout",
     "output_type": "stream",
     "text": [
      "No objects to concatenate\n",
      "Gorillaz Feel Good Inc 7201987\n"
     ]
    },
    {
     "name": "stderr",
     "output_type": "stream",
     "text": [
      "\r",
      " 48%|█████████████████████████████████████████████████▎                                                     | 477/997 [1:44:31<1:17:47,  8.98s/it]"
     ]
    },
    {
     "name": "stdout",
     "output_type": "stream",
     "text": [
      "No objects to concatenate\n",
      "Eric Church Springsteen 6352987\n"
     ]
    },
    {
     "name": "stderr",
     "output_type": "stream",
     "text": [
      "\r",
      " 48%|█████████████████████████████████████████████████▍                                                     | 478/997 [1:44:38<1:12:11,  8.34s/it]"
     ]
    },
    {
     "name": "stdout",
     "output_type": "stream",
     "text": [
      "No objects to concatenate\n",
      "Capital Cities Safe And Sound 5525987\n"
     ]
    },
    {
     "name": "stderr",
     "output_type": "stream",
     "text": [
      "\r",
      " 48%|█████████████████████████████████████████████████▍                                                     | 479/997 [1:44:51<1:22:53,  9.60s/it]"
     ]
    },
    {
     "name": "stdout",
     "output_type": "stream",
     "text": [
      "No objects to concatenate\n",
      "a-ha Take On Me 7364987\n"
     ]
    },
    {
     "name": "stderr",
     "output_type": "stream",
     "text": [
      "\r",
      " 48%|█████████████████████████████████████████████████▌                                                     | 480/997 [1:45:05<1:35:28, 11.08s/it]"
     ]
    },
    {
     "name": "stdout",
     "output_type": "stream",
     "text": [
      "No objects to concatenate\n",
      "Camila Cabello Havana 7676987\n"
     ]
    },
    {
     "name": "stderr",
     "output_type": "stream",
     "text": [
      "\r",
      " 48%|█████████████████████████████████████████████████▋                                                     | 481/997 [1:45:19<1:41:37, 11.82s/it]"
     ]
    },
    {
     "name": "stdout",
     "output_type": "stream",
     "text": [
      "No objects to concatenate\n",
      "Beyoncé Love On Top 7137988\n"
     ]
    },
    {
     "name": "stderr",
     "output_type": "stream",
     "text": [
      "\r",
      " 48%|█████████████████████████████████████████████████▊                                                     | 482/997 [1:45:32<1:46:02, 12.35s/it]"
     ]
    },
    {
     "name": "stdout",
     "output_type": "stream",
     "text": [
      "No objects to concatenate\n",
      "Phil Collins In The Air Tonight - 2015 Remastered 7375988\n"
     ]
    },
    {
     "name": "stderr",
     "output_type": "stream",
     "text": [
      "\r",
      " 48%|█████████████████████████████████████████████████▉                                                     | 483/997 [1:45:47<1:52:52, 13.18s/it]"
     ]
    },
    {
     "name": "stdout",
     "output_type": "stream",
     "text": [
      "No objects to concatenate\n",
      "Luis Fonsi Despacito (Featuring Daddy Yankee) 6900988\n"
     ]
    },
    {
     "name": "stderr",
     "output_type": "stream",
     "text": [
      "\r",
      " 49%|██████████████████████████████████████████████████                                                     | 484/997 [1:46:04<2:02:27, 14.32s/it]"
     ]
    },
    {
     "name": "stdout",
     "output_type": "stream",
     "text": [
      "No objects to concatenate\n",
      "Avril Lavigne Sk8er Boi 5296988\n"
     ]
    },
    {
     "name": "stderr",
     "output_type": "stream",
     "text": [
      "\r",
      " 49%|██████████████████████████████████████████████████                                                     | 485/997 [1:46:22<2:11:45, 15.44s/it]"
     ]
    },
    {
     "name": "stdout",
     "output_type": "stream",
     "text": [
      "No objects to concatenate\n",
      "Dierks Bentley Drunk On A Plane 4322988\n"
     ]
    },
    {
     "name": "stderr",
     "output_type": "stream",
     "text": [
      "\r",
      " 49%|██████████████████████████████████████████████████▏                                                    | 486/997 [1:46:29<1:47:35, 12.63s/it]"
     ]
    },
    {
     "name": "stdout",
     "output_type": "stream",
     "text": [
      "No objects to concatenate\n",
      "Kelly Clarkson Since U Been Gone 6995988\n"
     ]
    },
    {
     "name": "stderr",
     "output_type": "stream",
     "text": [
      "\r",
      " 49%|██████████████████████████████████████████████████▎                                                    | 487/997 [1:46:47<2:01:45, 14.32s/it]"
     ]
    },
    {
     "name": "stdout",
     "output_type": "stream",
     "text": [
      "No objects to concatenate\n",
      "Nicki Minaj Truffle Butter 6967988\n"
     ]
    },
    {
     "name": "stderr",
     "output_type": "stream",
     "text": [
      "\r",
      " 49%|██████████████████████████████████████████████████▍                                                    | 488/997 [1:47:05<2:11:18, 15.48s/it]"
     ]
    },
    {
     "name": "stdout",
     "output_type": "stream",
     "text": [
      "No objects to concatenate\n",
      "JAY Z Clique 5665988\n"
     ]
    },
    {
     "name": "stderr",
     "output_type": "stream",
     "text": [
      "\r",
      " 49%|██████████████████████████████████████████████████▌                                                    | 489/997 [1:47:23<2:16:30, 16.12s/it]"
     ]
    },
    {
     "name": "stdout",
     "output_type": "stream",
     "text": [
      "No objects to concatenate\n",
      "Oasis Wonderwall - Remastered 6351988\n"
     ]
    },
    {
     "name": "stderr",
     "output_type": "stream",
     "text": [
      "\r",
      " 49%|██████████████████████████████████████████████████▌                                                    | 490/997 [1:47:28<1:49:30, 12.96s/it]"
     ]
    },
    {
     "name": "stdout",
     "output_type": "stream",
     "text": [
      "No objects to concatenate\n",
      "J. Cole Crooked Smile 6310988\n"
     ]
    },
    {
     "name": "stderr",
     "output_type": "stream",
     "text": [
      "\r",
      " 49%|██████████████████████████████████████████████████▋                                                    | 491/997 [1:47:46<2:01:26, 14.40s/it]"
     ]
    },
    {
     "name": "stdout",
     "output_type": "stream",
     "text": [
      "No objects to concatenate\n",
      "Jason Derulo Want to Want Me 5730988\n"
     ]
    },
    {
     "name": "stderr",
     "output_type": "stream",
     "text": [
      "\r",
      " 49%|██████████████████████████████████████████████████▊                                                    | 492/997 [1:48:05<2:12:27, 15.74s/it]"
     ]
    },
    {
     "name": "stdout",
     "output_type": "stream",
     "text": [
      "No objects to concatenate\n",
      "Katy Perry Firework 5899988\n"
     ]
    },
    {
     "name": "stderr",
     "output_type": "stream",
     "text": [
      "\r",
      " 49%|██████████████████████████████████████████████████▉                                                    | 493/997 [1:48:23<2:17:30, 16.37s/it]"
     ]
    },
    {
     "name": "stdout",
     "output_type": "stream",
     "text": [
      "No objects to concatenate\n",
      "Randy Houser Runnin' Outta Moonlight 4829988\n"
     ]
    },
    {
     "name": "stderr",
     "output_type": "stream",
     "text": [
      "\r",
      " 50%|███████████████████████████████████████████████████                                                    | 494/997 [1:48:30<1:53:48, 13.58s/it]"
     ]
    },
    {
     "name": "stdout",
     "output_type": "stream",
     "text": [
      "No objects to concatenate\n",
      "Kodaline All I Want 5723988\n"
     ]
    },
    {
     "name": "stderr",
     "output_type": "stream",
     "text": [
      "\r",
      " 50%|███████████████████████████████████████████████████▏                                                   | 495/997 [1:48:46<1:59:56, 14.34s/it]"
     ]
    },
    {
     "name": "stdout",
     "output_type": "stream",
     "text": [
      "No objects to concatenate\n",
      "WALK THE MOON Shut Up and Dance 6684988\n"
     ]
    },
    {
     "name": "stderr",
     "output_type": "stream",
     "text": [
      "\r",
      " 50%|███████████████████████████████████████████████████▏                                                   | 496/997 [1:49:03<2:07:53, 15.32s/it]"
     ]
    },
    {
     "name": "stdout",
     "output_type": "stream",
     "text": [
      "No objects to concatenate\n",
      "Katrina & The Waves Walking On Sunshine 6957988\n"
     ]
    },
    {
     "name": "stderr",
     "output_type": "stream",
     "text": [
      "\r",
      " 50%|███████████████████████████████████████████████████▎                                                   | 497/997 [1:49:18<2:05:56, 15.11s/it]"
     ]
    },
    {
     "name": "stdout",
     "output_type": "stream",
     "text": [
      "No objects to concatenate\n",
      "Mumford & Sons Little Lion Man 6123988\n"
     ]
    },
    {
     "name": "stderr",
     "output_type": "stream",
     "text": [
      "\r",
      " 50%|███████████████████████████████████████████████████▍                                                   | 498/997 [1:49:23<1:40:31, 12.09s/it]"
     ]
    },
    {
     "name": "stdout",
     "output_type": "stream",
     "text": [
      "No objects to concatenate\n",
      "Lil Jon & The East Side Boyz Get Low - Street 7357988\n"
     ]
    },
    {
     "name": "stderr",
     "output_type": "stream",
     "text": [
      "\r",
      " 50%|███████████████████████████████████████████████████▌                                                   | 499/997 [1:49:41<1:55:30, 13.92s/it]"
     ]
    },
    {
     "name": "stdout",
     "output_type": "stream",
     "text": [
      "No objects to concatenate\n",
      "Post Malone Too Young 5835988\n"
     ]
    },
    {
     "name": "stderr",
     "output_type": "stream",
     "text": [
      "\r",
      " 50%|███████████████████████████████████████████████████▋                                                   | 500/997 [1:49:56<1:56:08, 14.02s/it]"
     ]
    },
    {
     "name": "stdout",
     "output_type": "stream",
     "text": [
      "No objects to concatenate\n",
      "Lil Uzi Vert Erase Your Social 5413988\n"
     ]
    },
    {
     "name": "stderr",
     "output_type": "stream",
     "text": [
      "\r",
      " 50%|███████████████████████████████████████████████████▊                                                   | 501/997 [1:50:10<1:56:35, 14.10s/it]"
     ]
    },
    {
     "name": "stdout",
     "output_type": "stream",
     "text": [
      "No objects to concatenate\n",
      "Ariana Grande Into You 6631988\n"
     ]
    },
    {
     "name": "stderr",
     "output_type": "stream",
     "text": [
      "\r",
      " 50%|███████████████████████████████████████████████████▊                                                   | 502/997 [1:50:23<1:54:35, 13.89s/it]"
     ]
    },
    {
     "name": "stdout",
     "output_type": "stream",
     "text": [
      "No objects to concatenate\n",
      "Travis Scott beibs in the trap 5548988\n"
     ]
    },
    {
     "name": "stderr",
     "output_type": "stream",
     "text": [
      "\r",
      " 50%|███████████████████████████████████████████████████▉                                                   | 503/997 [1:50:37<1:53:26, 13.78s/it]"
     ]
    },
    {
     "name": "stdout",
     "output_type": "stream",
     "text": [
      "No objects to concatenate\n",
      "Kungs This Girl (Kungs Vs. Cookin' On 3 Burners) - Kungs Vs. Cookin' On 3 Burners 5395988\n"
     ]
    },
    {
     "name": "stderr",
     "output_type": "stream",
     "text": [
      "\r",
      " 51%|████████████████████████████████████████████████████                                                   | 504/997 [1:50:50<1:50:41, 13.47s/it]"
     ]
    },
    {
     "name": "stdout",
     "output_type": "stream",
     "text": [
      "No objects to concatenate\n",
      "Kygo Stole the Show 5135988\n"
     ]
    },
    {
     "name": "stderr",
     "output_type": "stream",
     "text": [
      "\r",
      " 51%|████████████████████████████████████████████████████▏                                                  | 505/997 [1:51:07<2:01:27, 14.81s/it]"
     ]
    },
    {
     "name": "stdout",
     "output_type": "stream",
     "text": [
      "No objects to concatenate\n",
      "Rachel Platten Fight Song 6712988\n"
     ]
    },
    {
     "name": "stderr",
     "output_type": "stream",
     "text": [
      "\r",
      " 51%|████████████████████████████████████████████████████▎                                                  | 506/997 [1:51:19<1:53:36, 13.88s/it]"
     ]
    },
    {
     "name": "stdout",
     "output_type": "stream",
     "text": [
      "No objects to concatenate\n",
      "Arctic Monkeys Do I Wanna Know? 5113988\n"
     ]
    },
    {
     "name": "stderr",
     "output_type": "stream",
     "text": [
      "\r",
      " 51%|████████████████████████████████████████████████████▍                                                  | 507/997 [1:51:24<1:31:47, 11.24s/it]"
     ]
    },
    {
     "name": "stdout",
     "output_type": "stream",
     "text": [
      "No objects to concatenate\n",
      "Neon Trees Everybody Talks 5613988\n"
     ]
    },
    {
     "name": "stderr",
     "output_type": "stream",
     "text": [
      "\r",
      " 51%|████████████████████████████████████████████████████▍                                                  | 508/997 [1:51:29<1:16:56,  9.44s/it]"
     ]
    },
    {
     "name": "stdout",
     "output_type": "stream",
     "text": [
      "No objects to concatenate\n",
      "Two Door Cinema Club What You Know 6053988\n"
     ]
    },
    {
     "name": "stderr",
     "output_type": "stream",
     "text": [
      "\r",
      " 51%|████████████████████████████████████████████████████▌                                                  | 509/997 [1:51:38<1:13:47,  9.07s/it]"
     ]
    },
    {
     "name": "stdout",
     "output_type": "stream",
     "text": [
      "No objects to concatenate\n",
      "David Guetta 2U (feat. Justin Bieber) 6164988\n"
     ]
    },
    {
     "name": "stderr",
     "output_type": "stream",
     "text": [
      "\r",
      " 51%|████████████████████████████████████████████████████▋                                                  | 510/997 [1:51:51<1:24:20, 10.39s/it]"
     ]
    },
    {
     "name": "stdout",
     "output_type": "stream",
     "text": [
      "No objects to concatenate\n",
      "David Guetta Titanium (feat. Sia) - feat. Sia 3804988\n"
     ]
    },
    {
     "name": "stderr",
     "output_type": "stream",
     "text": [
      "\r",
      " 51%|████████████████████████████████████████████████████▊                                                  | 511/997 [1:52:08<1:39:21, 12.27s/it]"
     ]
    },
    {
     "name": "stdout",
     "output_type": "stream",
     "text": [
      "No objects to concatenate\n",
      "Ty Dolla $ign Or Nah (feat. The Weeknd, Wiz Khalifa and DJ Mustard) - Remix 6212988\n"
     ]
    },
    {
     "name": "stderr",
     "output_type": "stream",
     "text": [
      "\r",
      " 51%|████████████████████████████████████████████████████▉                                                  | 512/997 [1:52:25<1:51:09, 13.75s/it]"
     ]
    },
    {
     "name": "stdout",
     "output_type": "stream",
     "text": [
      "No objects to concatenate\n",
      "Luke Combs Hurricane 7470988\n"
     ]
    },
    {
     "name": "stderr",
     "output_type": "stream",
     "text": [
      "\r",
      " 51%|████████████████████████████████████████████████████▉                                                  | 513/997 [1:52:33<1:35:45, 11.87s/it]"
     ]
    },
    {
     "name": "stdout",
     "output_type": "stream",
     "text": [
      "No objects to concatenate\n",
      "Kesha TiK ToK 5689988\n"
     ]
    },
    {
     "name": "stderr",
     "output_type": "stream",
     "text": [
      "\r",
      " 52%|█████████████████████████████████████████████████████                                                  | 514/997 [1:52:51<1:50:22, 13.71s/it]"
     ]
    },
    {
     "name": "stdout",
     "output_type": "stream",
     "text": [
      "No objects to concatenate\n",
      "Tyga Rack City 7005988\n"
     ]
    },
    {
     "name": "stderr",
     "output_type": "stream",
     "text": [
      "\r",
      " 52%|█████████████████████████████████████████████████████▏                                                 | 515/997 [1:53:07<1:57:52, 14.67s/it]"
     ]
    },
    {
     "name": "stdout",
     "output_type": "stream",
     "text": [
      "No objects to concatenate\n",
      "The Black Eyed Peas I Gotta Feeling 7242988\n"
     ]
    },
    {
     "name": "stderr",
     "output_type": "stream",
     "text": [
      "\r",
      " 52%|█████████████████████████████████████████████████████▎                                                 | 516/997 [1:53:24<2:01:00, 15.10s/it]"
     ]
    },
    {
     "name": "stdout",
     "output_type": "stream",
     "text": [
      "No objects to concatenate\n",
      "Mac Miller Donald Trump 6235988\n"
     ]
    },
    {
     "name": "stderr",
     "output_type": "stream",
     "text": [
      "\r",
      " 52%|█████████████████████████████████████████████████████▍                                                 | 517/997 [1:53:40<2:04:25, 15.55s/it]"
     ]
    },
    {
     "name": "stdout",
     "output_type": "stream",
     "text": [
      "No objects to concatenate\n",
      "Wes Walker Jordan Belfort 6408988\n"
     ]
    },
    {
     "name": "stderr",
     "output_type": "stream",
     "text": [
      "\r",
      " 52%|█████████████████████████████████████████████████████▌                                                 | 518/997 [1:53:54<2:00:02, 15.04s/it]"
     ]
    },
    {
     "name": "stdout",
     "output_type": "stream",
     "text": [
      "No objects to concatenate\n",
      "XXXTENTACION Jocelyn Flores 5852988\n"
     ]
    },
    {
     "name": "stderr",
     "output_type": "stream",
     "text": [
      "\r",
      " 52%|█████████████████████████████████████████████████████▌                                                 | 519/997 [1:54:11<2:05:24, 15.74s/it]"
     ]
    },
    {
     "name": "stdout",
     "output_type": "stream",
     "text": [
      "No objects to concatenate\n",
      "Aerosmith Sweet Emotion 4453988\n"
     ]
    },
    {
     "name": "stderr",
     "output_type": "stream",
     "text": [
      "\r",
      " 52%|█████████████████████████████████████████████████████▋                                                 | 520/997 [1:54:26<2:02:32, 15.41s/it]"
     ]
    },
    {
     "name": "stdout",
     "output_type": "stream",
     "text": [
      "No objects to concatenate\n",
      "My Chemical Romance Welcome to the Black Parade 6312988\n"
     ]
    },
    {
     "name": "stderr",
     "output_type": "stream",
     "text": [
      "\r",
      " 52%|█████████████████████████████████████████████████████▊                                                 | 521/997 [1:54:35<1:45:50, 13.34s/it]"
     ]
    },
    {
     "name": "stdout",
     "output_type": "stream",
     "text": [
      "No objects to concatenate\n",
      "Bob Marley & The Wailers Three Little Birds 7520988\n"
     ]
    },
    {
     "name": "stderr",
     "output_type": "stream",
     "text": [
      "\r",
      " 52%|█████████████████████████████████████████████████████▉                                                 | 522/997 [1:54:35<1:14:33,  9.42s/it]"
     ]
    },
    {
     "name": "stdout",
     "output_type": "stream",
     "text": [
      "No objects to concatenate\n",
      "Kanye West Pt. 2 5137988\n"
     ]
    },
    {
     "name": "stderr",
     "output_type": "stream",
     "text": [
      "\r",
      " 52%|██████████████████████████████████████████████████████                                                 | 523/997 [1:54:51<1:31:14, 11.55s/it]"
     ]
    },
    {
     "name": "stdout",
     "output_type": "stream",
     "text": [
      "No objects to concatenate\n",
      "Modest Mouse Float On 6058988\n"
     ]
    },
    {
     "name": "stderr",
     "output_type": "stream",
     "text": [
      "\r",
      " 53%|██████████████████████████████████████████████████████▏                                                | 524/997 [1:55:07<1:39:54, 12.67s/it]"
     ]
    },
    {
     "name": "stdout",
     "output_type": "stream",
     "text": [
      "No objects to concatenate\n",
      "Drake All Me 7205988\n"
     ]
    },
    {
     "name": "stderr",
     "output_type": "stream",
     "text": [
      "\r",
      " 53%|██████████████████████████████████████████████████████▏                                                | 525/997 [1:55:23<1:49:08, 13.87s/it]"
     ]
    },
    {
     "name": "stdout",
     "output_type": "stream",
     "text": [
      "No objects to concatenate\n",
      "Chance The Rapper Same Drugs 6910988\n"
     ]
    },
    {
     "name": "stderr",
     "output_type": "stream",
     "text": [
      "\r",
      " 53%|██████████████████████████████████████████████████████▎                                                | 526/997 [1:55:37<1:48:23, 13.81s/it]"
     ]
    },
    {
     "name": "stdout",
     "output_type": "stream",
     "text": [
      "No objects to concatenate\n",
      "TLC No Scrubs 5838988\n"
     ]
    },
    {
     "name": "stderr",
     "output_type": "stream",
     "text": [
      "\r",
      " 53%|██████████████████████████████████████████████████████▍                                                | 527/997 [1:55:55<1:57:33, 15.01s/it]"
     ]
    },
    {
     "name": "stdout",
     "output_type": "stream",
     "text": [
      "No objects to concatenate\n",
      "Ruth B. Lost Boy 6659988\n"
     ]
    },
    {
     "name": "stderr",
     "output_type": "stream",
     "text": [
      "\r",
      " 53%|██████████████████████████████████████████████████████▌                                                | 528/997 [1:56:11<2:00:28, 15.41s/it]"
     ]
    },
    {
     "name": "stdout",
     "output_type": "stream",
     "text": [
      "No objects to concatenate\n",
      "Rich Homie Quan Flex (Ooh, Ooh, Ooh) 6738988\n"
     ]
    },
    {
     "name": "stderr",
     "output_type": "stream",
     "text": [
      "\r",
      " 53%|██████████████████████████████████████████████████████▋                                                | 529/997 [1:56:28<2:04:18, 15.94s/it]"
     ]
    },
    {
     "name": "stdout",
     "output_type": "stream",
     "text": [
      "No objects to concatenate\n",
      "Harry Styles Sign of the Times 6154988\n"
     ]
    },
    {
     "name": "stderr",
     "output_type": "stream",
     "text": [
      "\r",
      " 53%|██████████████████████████████████████████████████████▊                                                | 530/997 [1:56:44<2:03:42, 15.89s/it]"
     ]
    },
    {
     "name": "stdout",
     "output_type": "stream",
     "text": [
      "No objects to concatenate\n",
      "Rihanna Take A Bow - Main 6050988\n"
     ]
    },
    {
     "name": "stderr",
     "output_type": "stream",
     "text": [
      "\r",
      " 53%|██████████████████████████████████████████████████████▊                                                | 531/997 [1:57:01<2:06:52, 16.34s/it]"
     ]
    },
    {
     "name": "stdout",
     "output_type": "stream",
     "text": [
      "No objects to concatenate\n",
      "Sam Hunt Break Up In A Small Town 6431988\n"
     ]
    },
    {
     "name": "stderr",
     "output_type": "stream",
     "text": [
      "\r",
      " 53%|██████████████████████████████████████████████████████▉                                                | 532/997 [1:57:07<1:41:20, 13.08s/it]"
     ]
    },
    {
     "name": "stdout",
     "output_type": "stream",
     "text": [
      "No objects to concatenate\n",
      "Calvin Harris Feels 6031988\n"
     ]
    },
    {
     "name": "stderr",
     "output_type": "stream",
     "text": [
      "\r",
      " 53%|███████████████████████████████████████████████████████                                                | 533/997 [1:57:23<1:48:09, 13.98s/it]"
     ]
    },
    {
     "name": "stdout",
     "output_type": "stream",
     "text": [
      "No objects to concatenate\n",
      "The Revivalists Wish I Knew You 5629988\n"
     ]
    },
    {
     "name": "stderr",
     "output_type": "stream",
     "text": [
      "\r",
      " 54%|███████████████████████████████████████████████████████▏                                               | 534/997 [1:57:24<1:17:22, 10.03s/it]"
     ]
    },
    {
     "name": "stdout",
     "output_type": "stream",
     "text": [
      "No objects to concatenate\n",
      "Chris Stapleton Tennessee Whiskey 6342988\n"
     ]
    },
    {
     "name": "stderr",
     "output_type": "stream",
     "text": [
      "\r",
      " 54%|███████████████████████████████████████████████████████▎                                               | 535/997 [1:57:29<1:06:35,  8.65s/it]"
     ]
    },
    {
     "name": "stdout",
     "output_type": "stream",
     "text": [
      "No objects to concatenate\n",
      "Drake Marvins Room 6318988\n"
     ]
    },
    {
     "name": "stderr",
     "output_type": "stream",
     "text": [
      "\r",
      " 54%|███████████████████████████████████████████████████████▎                                               | 536/997 [1:57:43<1:18:57, 10.28s/it]"
     ]
    },
    {
     "name": "stdout",
     "output_type": "stream",
     "text": [
      "No objects to concatenate\n",
      "Guns N' Roses Welcome To The Jungle 6224988\n"
     ]
    },
    {
     "name": "stderr",
     "output_type": "stream",
     "text": [
      "\r",
      " 54%|███████████████████████████████████████████████████████▍                                               | 537/997 [1:57:48<1:05:36,  8.56s/it]"
     ]
    },
    {
     "name": "stdout",
     "output_type": "stream",
     "text": [
      "No objects to concatenate\n",
      "Drake Summer Sixteen 5897988\n"
     ]
    },
    {
     "name": "stderr",
     "output_type": "stream",
     "text": [
      "\r",
      " 54%|███████████████████████████████████████████████████████▌                                               | 538/997 [1:57:56<1:03:41,  8.33s/it]"
     ]
    },
    {
     "name": "stdout",
     "output_type": "stream",
     "text": [
      "No objects to concatenate\n",
      "Bruno Mars 24K Magic 5583988\n"
     ]
    },
    {
     "name": "stderr",
     "output_type": "stream",
     "text": [
      "\r",
      " 54%|███████████████████████████████████████████████████████▋                                               | 539/997 [1:58:08<1:13:40,  9.65s/it]"
     ]
    },
    {
     "name": "stdout",
     "output_type": "stream",
     "text": [
      "No objects to concatenate\n",
      "MisterWives Reflections 8148988\n"
     ]
    },
    {
     "name": "stderr",
     "output_type": "stream",
     "text": [
      "\r",
      " 54%|███████████████████████████████████████████████████████▊                                               | 540/997 [1:58:21<1:20:53, 10.62s/it]"
     ]
    },
    {
     "name": "stdout",
     "output_type": "stream",
     "text": [
      "No objects to concatenate\n",
      "Florida Georgia Line H.O.L.Y. 5833988\n"
     ]
    },
    {
     "name": "stderr",
     "output_type": "stream",
     "text": [
      "\r",
      " 54%|███████████████████████████████████████████████████████▉                                               | 541/997 [1:58:27<1:08:35,  9.02s/it]"
     ]
    },
    {
     "name": "stdout",
     "output_type": "stream",
     "text": [
      "No objects to concatenate\n",
      "2Pac California Love - Original Version 5319988\n"
     ]
    },
    {
     "name": "stderr",
     "output_type": "stream",
     "text": [
      "\r",
      " 54%|███████████████████████████████████████████████████████▉                                               | 542/997 [1:58:43<1:26:06, 11.36s/it]"
     ]
    },
    {
     "name": "stdout",
     "output_type": "stream",
     "text": [
      "No objects to concatenate\n",
      "Glass Animals Gooey 6517988\n"
     ]
    },
    {
     "name": "stderr",
     "output_type": "stream",
     "text": [
      "\r",
      " 54%|████████████████████████████████████████████████████████                                               | 543/997 [1:58:54<1:23:18, 11.01s/it]"
     ]
    },
    {
     "name": "stdout",
     "output_type": "stream",
     "text": [
      "No objects to concatenate\n",
      "Fountains Of Wayne Stacy's Mom 6488988\n"
     ]
    },
    {
     "name": "stderr",
     "output_type": "stream",
     "text": [
      "\r",
      " 55%|████████████████████████████████████████████████████████▏                                              | 544/997 [1:59:11<1:36:52, 12.83s/it]"
     ]
    },
    {
     "name": "stdout",
     "output_type": "stream",
     "text": [
      "No objects to concatenate\n",
      "Edward Sharpe & The Magnetic Zeros Home 6456988\n"
     ]
    },
    {
     "name": "stderr",
     "output_type": "stream",
     "text": [
      "\r",
      " 55%|████████████████████████████████████████████████████████▎                                              | 545/997 [1:59:26<1:42:03, 13.55s/it]"
     ]
    },
    {
     "name": "stdout",
     "output_type": "stream",
     "text": [
      "No objects to concatenate\n",
      "21 Savage No Heart 5554988\n"
     ]
    },
    {
     "name": "stderr",
     "output_type": "stream",
     "text": [
      "\r",
      " 55%|████████████████████████████████████████████████████████▍                                              | 546/997 [1:59:43<1:48:50, 14.48s/it]"
     ]
    },
    {
     "name": "stdout",
     "output_type": "stream",
     "text": [
      "No objects to concatenate\n",
      "Chris Brown Forever 7781988\n"
     ]
    },
    {
     "name": "stderr",
     "output_type": "stream",
     "text": [
      "\r",
      " 55%|████████████████████████████████████████████████████████▌                                              | 547/997 [2:00:01<1:57:05, 15.61s/it]"
     ]
    },
    {
     "name": "stdout",
     "output_type": "stream",
     "text": [
      "No objects to concatenate\n",
      "Mariah Carey We Belong Together 6071988\n"
     ]
    },
    {
     "name": "stderr",
     "output_type": "stream",
     "text": [
      "\r",
      " 55%|████████████████████████████████████████████████████████▌                                              | 548/997 [2:00:18<2:00:59, 16.17s/it]"
     ]
    },
    {
     "name": "stdout",
     "output_type": "stream",
     "text": [
      "No objects to concatenate\n",
      "Ed Sheeran Perfect 6067988\n"
     ]
    },
    {
     "name": "stderr",
     "output_type": "stream",
     "text": [
      "\r",
      " 55%|████████████████████████████████████████████████████████▋                                              | 549/997 [2:00:32<1:54:43, 15.37s/it]"
     ]
    },
    {
     "name": "stdout",
     "output_type": "stream",
     "text": [
      "No objects to concatenate\n",
      "A$AP Rocky L$D 6469988\n"
     ]
    },
    {
     "name": "stderr",
     "output_type": "stream",
     "text": [
      "\r",
      " 55%|████████████████████████████████████████████████████████▊                                              | 550/997 [2:00:40<1:38:19, 13.20s/it]"
     ]
    },
    {
     "name": "stdout",
     "output_type": "stream",
     "text": [
      "No objects to concatenate\n",
      "Shawn Mendes I Know What You Did Last Summer 6978988\n"
     ]
    },
    {
     "name": "stderr",
     "output_type": "stream",
     "text": [
      "\r",
      " 55%|████████████████████████████████████████████████████████▉                                              | 551/997 [2:00:56<1:45:13, 14.16s/it]"
     ]
    },
    {
     "name": "stdout",
     "output_type": "stream",
     "text": [
      "No objects to concatenate\n",
      "Hailee Steinfeld Starving 6353988\n"
     ]
    },
    {
     "name": "stderr",
     "output_type": "stream",
     "text": [
      "\r",
      " 55%|█████████████████████████████████████████████████████████                                              | 552/997 [2:01:09<1:41:50, 13.73s/it]"
     ]
    },
    {
     "name": "stdout",
     "output_type": "stream",
     "text": [
      "No objects to concatenate\n",
      "Snoop Dogg Gin And Juice (feat. Dat Nigga Daz) 7220988\n"
     ]
    },
    {
     "name": "stderr",
     "output_type": "stream",
     "text": [
      "\r",
      " 55%|█████████████████████████████████████████████████████████▏                                             | 553/997 [2:01:26<1:49:12, 14.76s/it]"
     ]
    },
    {
     "name": "stdout",
     "output_type": "stream",
     "text": [
      "No objects to concatenate\n",
      "Drake Signs 6882988\n"
     ]
    },
    {
     "name": "stderr",
     "output_type": "stream",
     "text": [
      "\r",
      " 56%|█████████████████████████████████████████████████████████▏                                             | 554/997 [2:01:40<1:47:12, 14.52s/it]"
     ]
    },
    {
     "name": "stdout",
     "output_type": "stream",
     "text": [
      "No objects to concatenate\n",
      "2 Chainz We Own It (Fast & Furious) 5209988\n"
     ]
    },
    {
     "name": "stderr",
     "output_type": "stream",
     "text": [
      "\r",
      " 56%|█████████████████████████████████████████████████████████▎                                             | 555/997 [2:01:59<1:56:22, 15.80s/it]"
     ]
    },
    {
     "name": "stdout",
     "output_type": "stream",
     "text": [
      "Robin Thicke Blurred Lines 4935988\n"
     ]
    },
    {
     "name": "stderr",
     "output_type": "stream",
     "text": [
      "\r",
      " 56%|█████████████████████████████████████████████████████████▍                                             | 556/997 [2:02:12<1:49:56, 14.96s/it]"
     ]
    },
    {
     "name": "stdout",
     "output_type": "stream",
     "text": [
      "No objects to concatenate\n",
      "Eric Clapton Cocaine 6403988\n"
     ]
    },
    {
     "name": "stderr",
     "output_type": "stream",
     "text": [
      "\r",
      " 56%|█████████████████████████████████████████████████████████▌                                             | 557/997 [2:02:17<1:28:15, 12.04s/it]"
     ]
    },
    {
     "name": "stdout",
     "output_type": "stream",
     "text": [
      "No objects to concatenate\n",
      "Drake Take Care 5576988\n"
     ]
    },
    {
     "name": "stderr",
     "output_type": "stream",
     "text": [
      "\r",
      " 56%|█████████████████████████████████████████████████████████▋                                             | 558/997 [2:02:34<1:38:43, 13.49s/it]"
     ]
    },
    {
     "name": "stdout",
     "output_type": "stream",
     "text": [
      "No objects to concatenate\n",
      "A Great Big World Say Something 4767988\n"
     ]
    },
    {
     "name": "stderr",
     "output_type": "stream",
     "text": [
      "\r",
      " 56%|█████████████████████████████████████████████████████████▊                                             | 559/997 [2:02:50<1:44:52, 14.37s/it]"
     ]
    },
    {
     "name": "stdout",
     "output_type": "stream",
     "text": [
      "No objects to concatenate\n",
      "T.I. Whatever You Like 6262988\n"
     ]
    },
    {
     "name": "stderr",
     "output_type": "stream",
     "text": [
      "\r",
      " 56%|█████████████████████████████████████████████████████████▊                                             | 560/997 [2:03:02<1:38:15, 13.49s/it]"
     ]
    },
    {
     "name": "stdout",
     "output_type": "stream",
     "text": [
      "No objects to concatenate\n",
      "Ed Sheeran Castle on the Hill 5304988\n"
     ]
    },
    {
     "name": "stderr",
     "output_type": "stream",
     "text": [
      "\r",
      " 56%|█████████████████████████████████████████████████████████▉                                             | 561/997 [2:03:12<1:29:40, 12.34s/it]"
     ]
    },
    {
     "name": "stdout",
     "output_type": "stream",
     "text": [
      "No objects to concatenate\n",
      "Oasis Champagne Supernova - Remastered 6498989\n"
     ]
    },
    {
     "name": "stderr",
     "output_type": "stream",
     "text": [
      "\r",
      " 56%|██████████████████████████████████████████████████████████                                             | 562/997 [2:03:16<1:13:12, 10.10s/it]"
     ]
    },
    {
     "name": "stdout",
     "output_type": "stream",
     "text": [
      "No objects to concatenate\n",
      "Wale Lotus Flower Bomb - feat. Miguel 4959989\n"
     ]
    },
    {
     "name": "stderr",
     "output_type": "stream",
     "text": [
      "\r",
      " 56%|██████████████████████████████████████████████████████████▏                                            | 563/997 [2:03:30<1:21:38, 11.29s/it]"
     ]
    },
    {
     "name": "stdout",
     "output_type": "stream",
     "text": [
      "No objects to concatenate\n",
      "Sam Smith Too Good At Goodbyes 5343989\n"
     ]
    },
    {
     "name": "stderr",
     "output_type": "stream",
     "text": [
      "\r",
      " 57%|██████████████████████████████████████████████████████████▎                                            | 564/997 [2:03:45<1:27:48, 12.17s/it]"
     ]
    },
    {
     "name": "stdout",
     "output_type": "stream",
     "text": [
      "No objects to concatenate\n",
      "Ciara One, Two Step 6289989\n"
     ]
    },
    {
     "name": "stderr",
     "output_type": "stream",
     "text": [
      "\r",
      " 57%|██████████████████████████████████████████████████████████▎                                            | 565/997 [2:04:02<1:39:35, 13.83s/it]"
     ]
    },
    {
     "name": "stdout",
     "output_type": "stream",
     "text": [
      "No objects to concatenate\n",
      "Sam Hunt Take Your Time 3010989\n"
     ]
    },
    {
     "name": "stderr",
     "output_type": "stream",
     "text": [
      "\r",
      " 57%|██████████████████████████████████████████████████████████▍                                            | 566/997 [2:04:09<1:24:22, 11.75s/it]"
     ]
    },
    {
     "name": "stdout",
     "output_type": "stream",
     "text": [
      "No objects to concatenate\n",
      "Ty Dolla $ign Wavy (feat. Joe Moses) 6111989\n"
     ]
    },
    {
     "name": "stderr",
     "output_type": "stream",
     "text": [
      "\r",
      " 57%|██████████████████████████████████████████████████████████▌                                            | 567/997 [2:04:26<1:34:43, 13.22s/it]"
     ]
    },
    {
     "name": "stdout",
     "output_type": "stream",
     "text": [
      "No objects to concatenate\n",
      "Imagine Dragons It's Time 4570989\n"
     ]
    },
    {
     "name": "stderr",
     "output_type": "stream",
     "text": [
      "\r",
      " 57%|██████████████████████████████████████████████████████████▋                                            | 568/997 [2:04:31<1:16:03, 10.64s/it]"
     ]
    },
    {
     "name": "stdout",
     "output_type": "stream",
     "text": [
      "No objects to concatenate\n",
      "Kendrick Lamar A.D.H.D 5094989\n"
     ]
    },
    {
     "name": "stderr",
     "output_type": "stream",
     "text": [
      "\r",
      " 57%|██████████████████████████████████████████████████████████▊                                            | 569/997 [2:04:45<1:24:08, 11.80s/it]"
     ]
    },
    {
     "name": "stdout",
     "output_type": "stream",
     "text": [
      "No objects to concatenate\n",
      "The Script Hall of Fame 5018989\n"
     ]
    },
    {
     "name": "stderr",
     "output_type": "stream",
     "text": [
      "\r",
      " 57%|██████████████████████████████████████████████████████████▉                                            | 570/997 [2:05:03<1:37:06, 13.65s/it]"
     ]
    },
    {
     "name": "stdout",
     "output_type": "stream",
     "text": [
      "No objects to concatenate\n",
      "Martin Garrix Animals - Extended 5069989\n"
     ]
    },
    {
     "name": "stderr",
     "output_type": "stream",
     "text": [
      "\r",
      " 57%|██████████████████████████████████████████████████████████▉                                            | 571/997 [2:05:20<1:43:10, 14.53s/it]"
     ]
    },
    {
     "name": "stdout",
     "output_type": "stream",
     "text": [
      "No objects to concatenate\n",
      "Lil Wayne Lollipop 7061989\n"
     ]
    },
    {
     "name": "stderr",
     "output_type": "stream",
     "text": [
      "\r",
      " 57%|███████████████████████████████████████████████████████████                                            | 572/997 [2:05:34<1:42:58, 14.54s/it]"
     ]
    },
    {
     "name": "stdout",
     "output_type": "stream",
     "text": [
      "No objects to concatenate\n",
      "The Rolling Stones Sympathy For The Devil 7180989\n"
     ]
    },
    {
     "name": "stderr",
     "output_type": "stream",
     "text": [
      "\r",
      " 57%|███████████████████████████████████████████████████████████▏                                           | 573/997 [2:05:39<1:21:35, 11.55s/it]"
     ]
    },
    {
     "name": "stdout",
     "output_type": "stream",
     "text": [
      "No objects to concatenate\n",
      "Lil Wayne A Milli 5325989\n"
     ]
    },
    {
     "name": "stderr",
     "output_type": "stream",
     "text": [
      "\r",
      " 58%|███████████████████████████████████████████████████████████▎                                           | 574/997 [2:05:52<1:24:22, 11.97s/it]"
     ]
    },
    {
     "name": "stdout",
     "output_type": "stream",
     "text": [
      "No objects to concatenate\n",
      "The Animals House Of The Rising Sun 5338989\n"
     ]
    },
    {
     "name": "stderr",
     "output_type": "stream",
     "text": [
      "\r",
      " 58%|███████████████████████████████████████████████████████████▍                                           | 575/997 [2:05:55<1:05:08,  9.26s/it]"
     ]
    },
    {
     "name": "stdout",
     "output_type": "stream",
     "text": [
      "No objects to concatenate\n",
      "The Script Breakeven 4100989\n"
     ]
    },
    {
     "name": "stderr",
     "output_type": "stream",
     "text": [
      "\r",
      " 58%|████████████████████████████████████████████████████████████▋                                            | 576/997 [2:06:00<57:11,  8.15s/it]"
     ]
    },
    {
     "name": "stdout",
     "output_type": "stream",
     "text": [
      "No objects to concatenate\n",
      "Twenty One Pilots Tear In My Heart 6107989\n"
     ]
    },
    {
     "name": "stderr",
     "output_type": "stream",
     "text": [
      "\r",
      " 58%|████████████████████████████████████████████████████████████▊                                            | 577/997 [2:06:09<57:55,  8.28s/it]"
     ]
    },
    {
     "name": "stdout",
     "output_type": "stream",
     "text": [
      "No objects to concatenate\n",
      "Birdy Skinny Love 4583989\n"
     ]
    },
    {
     "name": "stderr",
     "output_type": "stream",
     "text": [
      "\r",
      " 58%|███████████████████████████████████████████████████████████▋                                           | 578/997 [2:06:25<1:15:07, 10.76s/it]"
     ]
    },
    {
     "name": "stdout",
     "output_type": "stream",
     "text": [
      "No objects to concatenate\n",
      "Jeremih Don't Tell 'Em 4965989\n"
     ]
    },
    {
     "name": "stderr",
     "output_type": "stream",
     "text": [
      "\r",
      " 58%|███████████████████████████████████████████████████████████▊                                           | 579/997 [2:06:37<1:17:32, 11.13s/it]"
     ]
    },
    {
     "name": "stdout",
     "output_type": "stream",
     "text": [
      "No objects to concatenate\n",
      "Jeremih Down On Me 5892989\n"
     ]
    },
    {
     "name": "stderr",
     "output_type": "stream",
     "text": [
      "\r",
      " 58%|███████████████████████████████████████████████████████████▉                                           | 580/997 [2:06:51<1:23:15, 11.98s/it]"
     ]
    },
    {
     "name": "stdout",
     "output_type": "stream",
     "text": [
      "No objects to concatenate\n",
      "Ginuwine Pony 5182989\n"
     ]
    },
    {
     "name": "stderr",
     "output_type": "stream",
     "text": [
      "\r",
      " 58%|████████████████████████████████████████████████████████████                                           | 581/997 [2:07:07<1:31:20, 13.17s/it]"
     ]
    },
    {
     "name": "stdout",
     "output_type": "stream",
     "text": [
      "No objects to concatenate\n",
      "Luke Bryan Drunk On You 4123989\n"
     ]
    },
    {
     "name": "stderr",
     "output_type": "stream",
     "text": [
      "\r",
      " 58%|████████████████████████████████████████████████████████████▏                                          | 582/997 [2:07:14<1:18:46, 11.39s/it]"
     ]
    },
    {
     "name": "stdout",
     "output_type": "stream",
     "text": [
      "No objects to concatenate\n",
      "The Black Keys Howlin' For You 5365989\n"
     ]
    },
    {
     "name": "stderr",
     "output_type": "stream",
     "text": [
      "\r",
      " 58%|████████████████████████████████████████████████████████████▏                                          | 583/997 [2:07:29<1:26:09, 12.49s/it]"
     ]
    },
    {
     "name": "stdout",
     "output_type": "stream",
     "text": [
      "No objects to concatenate\n",
      "OMI Cheerleader - Felix Jaehn Remix Radio Edit 5852989\n"
     ]
    },
    {
     "name": "stderr",
     "output_type": "stream",
     "text": [
      "\r",
      " 59%|████████████████████████████████████████████████████████████▎                                          | 584/997 [2:07:46<1:35:16, 13.84s/it]"
     ]
    },
    {
     "name": "stdout",
     "output_type": "stream",
     "text": [
      "No objects to concatenate\n",
      "Billy Joel We Didn't Start the Fire 6549989\n"
     ]
    },
    {
     "name": "stderr",
     "output_type": "stream",
     "text": [
      "\r",
      " 59%|████████████████████████████████████████████████████████████▍                                          | 585/997 [2:07:51<1:16:21, 11.12s/it]"
     ]
    },
    {
     "name": "stdout",
     "output_type": "stream",
     "text": [
      "No objects to concatenate\n",
      "The xx Intro 7107989\n"
     ]
    },
    {
     "name": "stderr",
     "output_type": "stream",
     "text": [
      "\r",
      " 59%|████████████████████████████████████████████████████████████▌                                          | 586/997 [2:08:03<1:18:04, 11.40s/it]"
     ]
    },
    {
     "name": "stdout",
     "output_type": "stream",
     "text": [
      "No objects to concatenate\n",
      "Lil Uzi Vert The Way Life Goes (feat. Oh Wonder) 4921989\n"
     ]
    },
    {
     "name": "stderr",
     "output_type": "stream",
     "text": [
      "\r",
      " 59%|████████████████████████████████████████████████████████████▋                                          | 587/997 [2:08:20<1:28:51, 13.00s/it]"
     ]
    },
    {
     "name": "stdout",
     "output_type": "stream",
     "text": [
      "No objects to concatenate\n",
      "Joey Bada$$ DEVASTATED 5406989\n"
     ]
    },
    {
     "name": "stderr",
     "output_type": "stream",
     "text": [
      "\r",
      " 59%|████████████████████████████████████████████████████████████▋                                          | 588/997 [2:08:33<1:28:56, 13.05s/it]"
     ]
    },
    {
     "name": "stdout",
     "output_type": "stream",
     "text": [
      "No objects to concatenate\n",
      "DJ Khaled For Free 5266989\n"
     ]
    },
    {
     "name": "stderr",
     "output_type": "stream",
     "text": [
      "\r",
      " 59%|████████████████████████████████████████████████████████████▊                                          | 589/997 [2:08:50<1:36:28, 14.19s/it]"
     ]
    },
    {
     "name": "stdout",
     "output_type": "stream",
     "text": [
      "No objects to concatenate\n",
      "Big Sean Moves 5087989\n"
     ]
    },
    {
     "name": "stderr",
     "output_type": "stream",
     "text": [
      "\r",
      " 59%|████████████████████████████████████████████████████████████▉                                          | 590/997 [2:09:04<1:35:22, 14.06s/it]"
     ]
    },
    {
     "name": "stdout",
     "output_type": "stream",
     "text": [
      "No objects to concatenate\n",
      "Lil Pump Gucci Gang 5960989\n"
     ]
    },
    {
     "name": "stderr",
     "output_type": "stream",
     "text": [
      "\r",
      " 59%|█████████████████████████████████████████████████████████████                                          | 591/997 [2:09:22<1:42:56, 15.21s/it]"
     ]
    },
    {
     "name": "stdout",
     "output_type": "stream",
     "text": [
      "No objects to concatenate\n",
      "Future Wicked 4064989\n"
     ]
    },
    {
     "name": "stderr",
     "output_type": "stream",
     "text": [
      "\r",
      " 59%|█████████████████████████████████████████████████████████████▏                                         | 592/997 [2:09:34<1:37:44, 14.48s/it]"
     ]
    },
    {
     "name": "stdout",
     "output_type": "stream",
     "text": [
      "No objects to concatenate\n",
      "DJ Esco Too Much Sauce 4685989\n"
     ]
    },
    {
     "name": "stderr",
     "output_type": "stream",
     "text": [
      "\r",
      " 59%|█████████████████████████████████████████████████████████████▎                                         | 593/997 [2:09:52<1:43:39, 15.39s/it]"
     ]
    },
    {
     "name": "stdout",
     "output_type": "stream",
     "text": [
      "No objects to concatenate\n",
      "Sia Elastic Heart 5176989\n"
     ]
    },
    {
     "name": "stderr",
     "output_type": "stream",
     "text": [
      "\r",
      " 60%|█████████████████████████████████████████████████████████████▎                                         | 594/997 [2:10:04<1:36:41, 14.40s/it]"
     ]
    },
    {
     "name": "stdout",
     "output_type": "stream",
     "text": [
      "No objects to concatenate\n",
      "The Jackson 5 ABC 4305989\n"
     ]
    },
    {
     "name": "stderr",
     "output_type": "stream",
     "text": [
      "\r",
      " 60%|█████████████████████████████████████████████████████████████▍                                         | 595/997 [2:10:19<1:38:11, 14.65s/it]"
     ]
    },
    {
     "name": "stdout",
     "output_type": "stream",
     "text": [
      "No objects to concatenate\n",
      "Usher I Don't Mind 4222989\n"
     ]
    },
    {
     "name": "stderr",
     "output_type": "stream",
     "text": [
      "\r",
      " 60%|█████████████████████████████████████████████████████████████▌                                         | 596/997 [2:10:31<1:32:41, 13.87s/it]"
     ]
    },
    {
     "name": "stdout",
     "output_type": "stream",
     "text": [
      "No objects to concatenate\n",
      "Adele Rolling in the Deep 5178989\n"
     ]
    },
    {
     "name": "stderr",
     "output_type": "stream",
     "text": [
      "\r",
      " 60%|█████████████████████████████████████████████████████████████▋                                         | 597/997 [2:10:50<1:41:50, 15.28s/it]"
     ]
    },
    {
     "name": "stdout",
     "output_type": "stream",
     "text": [
      "No objects to concatenate\n",
      "Childish Gambino Bonfire 3971989\n"
     ]
    },
    {
     "name": "stderr",
     "output_type": "stream",
     "text": [
      "\r",
      " 60%|█████████████████████████████████████████████████████████████▊                                         | 598/997 [2:11:04<1:39:09, 14.91s/it]"
     ]
    },
    {
     "name": "stdout",
     "output_type": "stream",
     "text": [
      "No objects to concatenate\n",
      "OneRepublic Apologize 4333989\n"
     ]
    },
    {
     "name": "stderr",
     "output_type": "stream",
     "text": [
      "\r",
      " 60%|█████████████████████████████████████████████████████████████▉                                         | 599/997 [2:11:09<1:19:58, 12.06s/it]"
     ]
    },
    {
     "name": "stdout",
     "output_type": "stream",
     "text": [
      "No objects to concatenate\n",
      "Selena Gomez Kill Em With Kindness 4642989\n"
     ]
    },
    {
     "name": "stderr",
     "output_type": "stream",
     "text": [
      "\r",
      " 60%|█████████████████████████████████████████████████████████████▉                                         | 600/997 [2:11:22<1:20:46, 12.21s/it]"
     ]
    },
    {
     "name": "stdout",
     "output_type": "stream",
     "text": [
      "No objects to concatenate\n",
      "Shawn Mendes There's Nothing Holdin' Me Back 5304989\n"
     ]
    },
    {
     "name": "stderr",
     "output_type": "stream",
     "text": [
      "\r",
      " 60%|██████████████████████████████████████████████████████████████                                         | 601/997 [2:11:36<1:24:08, 12.75s/it]"
     ]
    },
    {
     "name": "stdout",
     "output_type": "stream",
     "text": [
      "No objects to concatenate\n",
      "Selena Gomez Same Old Love 5060989\n"
     ]
    },
    {
     "name": "stderr",
     "output_type": "stream",
     "text": [
      "\r",
      " 60%|██████████████████████████████████████████████████████████████▏                                        | 602/997 [2:11:48<1:22:34, 12.54s/it]"
     ]
    },
    {
     "name": "stdout",
     "output_type": "stream",
     "text": [
      "No objects to concatenate\n",
      "Vance Joy Mess Is Mine 4570989\n"
     ]
    },
    {
     "name": "stderr",
     "output_type": "stream",
     "text": [
      "\r",
      " 60%|██████████████████████████████████████████████████████████████▎                                        | 603/997 [2:12:05<1:31:16, 13.90s/it]"
     ]
    },
    {
     "name": "stdout",
     "output_type": "stream",
     "text": [
      "No objects to concatenate\n",
      "Demi Lovato Sorry Not Sorry 6311989\n"
     ]
    },
    {
     "name": "stderr",
     "output_type": "stream",
     "text": [
      "\r",
      " 61%|██████████████████████████████████████████████████████████████▍                                        | 604/997 [2:12:19<1:30:48, 13.87s/it]"
     ]
    },
    {
     "name": "stdout",
     "output_type": "stream",
     "text": [
      "No objects to concatenate\n",
      "Justin Bieber Company 5279989\n"
     ]
    },
    {
     "name": "stderr",
     "output_type": "stream",
     "text": [
      "\r",
      " 61%|██████████████████████████████████████████████████████████████▌                                        | 605/997 [2:12:31<1:27:25, 13.38s/it]"
     ]
    },
    {
     "name": "stdout",
     "output_type": "stream",
     "text": [
      "No objects to concatenate\n",
      "Zedd Clarity 3682989\n"
     ]
    },
    {
     "name": "stderr",
     "output_type": "stream",
     "text": [
      "\r",
      " 61%|██████████████████████████████████████████████████████████████▌                                        | 606/997 [2:12:31<1:01:26,  9.43s/it]"
     ]
    },
    {
     "name": "stdout",
     "output_type": "stream",
     "text": [
      "No objects to concatenate\n",
      "Chris Brown With You 5382989\n"
     ]
    },
    {
     "name": "stderr",
     "output_type": "stream",
     "text": [
      "\r",
      " 61%|██████████████████████████████████████████████████████████████▋                                        | 607/997 [2:12:47<1:13:58, 11.38s/it]"
     ]
    },
    {
     "name": "stdout",
     "output_type": "stream",
     "text": [
      "No objects to concatenate\n",
      "Justin Timberlake SexyBack 6886989\n"
     ]
    },
    {
     "name": "stderr",
     "output_type": "stream",
     "text": [
      "\r",
      " 61%|██████████████████████████████████████████████████████████████▊                                        | 608/997 [2:13:06<1:27:25, 13.49s/it]"
     ]
    },
    {
     "name": "stdout",
     "output_type": "stream",
     "text": [
      "No objects to concatenate\n",
      "Passion Pit Take a Walk 5494989\n"
     ]
    },
    {
     "name": "stderr",
     "output_type": "stream",
     "text": [
      "\r",
      " 61%|██████████████████████████████████████████████████████████████▉                                        | 609/997 [2:13:07<1:03:09,  9.77s/it]"
     ]
    },
    {
     "name": "stdout",
     "output_type": "stream",
     "text": [
      "No objects to concatenate\n",
      "Ugly God Water 5849989\n"
     ]
    },
    {
     "name": "stderr",
     "output_type": "stream",
     "text": [
      "\r",
      " 61%|███████████████████████████████████████████████████████████████                                        | 610/997 [2:13:25<1:18:57, 12.24s/it]"
     ]
    },
    {
     "name": "stdout",
     "output_type": "stream",
     "text": [
      "No objects to concatenate\n",
      "Jonas Blue Perfect Strangers 6538989\n"
     ]
    },
    {
     "name": "stderr",
     "output_type": "stream",
     "text": [
      "\r",
      " 61%|███████████████████████████████████████████████████████████████                                        | 611/997 [2:13:41<1:26:38, 13.47s/it]"
     ]
    },
    {
     "name": "stdout",
     "output_type": "stream",
     "text": [
      "No objects to concatenate\n",
      "Pharrell Williams Happy - From \"Despicable Me 2\" 8132989\n"
     ]
    },
    {
     "name": "stderr",
     "output_type": "stream",
     "text": [
      "\r",
      " 61%|███████████████████████████████████████████████████████████████▏                                       | 612/997 [2:13:42<1:01:45,  9.63s/it]"
     ]
    },
    {
     "name": "stdout",
     "output_type": "stream",
     "text": [
      "No objects to concatenate\n",
      "Luke Bryan Play It Again 3759989\n"
     ]
    },
    {
     "name": "stderr",
     "output_type": "stream",
     "text": [
      "\r",
      " 61%|████████████████████████████████████████████████████████████████▌                                        | 613/997 [2:13:49<56:13,  8.79s/it]"
     ]
    },
    {
     "name": "stdout",
     "output_type": "stream",
     "text": [
      "No objects to concatenate\n",
      "Daryl Hall & John Oates Rich Girl 5525989\n"
     ]
    },
    {
     "name": "stderr",
     "output_type": "stream",
     "text": [
      "\r",
      " 62%|███████████████████████████████████████████████████████████████▍                                       | 614/997 [2:14:03<1:06:42, 10.45s/it]"
     ]
    },
    {
     "name": "stdout",
     "output_type": "stream",
     "text": [
      "No objects to concatenate\n",
      "Marshmello Silence 6169989\n"
     ]
    },
    {
     "name": "stderr",
     "output_type": "stream",
     "text": [
      "\r",
      " 62%|███████████████████████████████████████████████████████████████▌                                       | 615/997 [2:14:16<1:12:19, 11.36s/it]"
     ]
    },
    {
     "name": "stdout",
     "output_type": "stream",
     "text": [
      "No objects to concatenate\n",
      "Galantis No Money 6732989\n"
     ]
    },
    {
     "name": "stderr",
     "output_type": "stream",
     "text": [
      "\r",
      " 62%|███████████████████████████████████████████████████████████████▋                                       | 616/997 [2:14:24<1:04:24, 10.14s/it]"
     ]
    },
    {
     "name": "stdout",
     "output_type": "stream",
     "text": [
      "No objects to concatenate\n",
      "Arctic Monkeys Why'd You Only Call Me When You're High? 5582989\n"
     ]
    },
    {
     "name": "stderr",
     "output_type": "stream",
     "text": [
      "\r",
      " 62%|████████████████████████████████████████████████████████████████▉                                        | 617/997 [2:14:29<54:24,  8.59s/it]"
     ]
    },
    {
     "name": "stdout",
     "output_type": "stream",
     "text": [
      "No objects to concatenate\n",
      "Lifehouse You And Me 4135989\n"
     ]
    },
    {
     "name": "stderr",
     "output_type": "stream",
     "text": [
      "\r",
      " 62%|█████████████████████████████████████████████████████████████████                                        | 618/997 [2:14:34<47:47,  7.57s/it]"
     ]
    },
    {
     "name": "stdout",
     "output_type": "stream",
     "text": [
      "No objects to concatenate\n",
      "Arctic Monkeys R U Mine? 5490989\n"
     ]
    },
    {
     "name": "stderr",
     "output_type": "stream",
     "text": [
      "\r",
      " 62%|█████████████████████████████████████████████████████████████████▏                                       | 619/997 [2:14:39<42:39,  6.77s/it]"
     ]
    },
    {
     "name": "stdout",
     "output_type": "stream",
     "text": [
      "No objects to concatenate\n",
      "Mariah Carey All I Want for Christmas Is You 4934989\n",
      "No objects to concatenate\n"
     ]
    },
    {
     "name": "stderr",
     "output_type": "stream",
     "text": [
      "\r",
      " 62%|█████████████████████████████████████████████████████████████████▎                                       | 620/997 [2:14:39<30:10,  4.80s/it]"
     ]
    },
    {
     "name": "stdout",
     "output_type": "stream",
     "text": [
      "Jon Pardi Head Over Boots 5873989\n"
     ]
    },
    {
     "name": "stderr",
     "output_type": "stream",
     "text": [
      "\r",
      " 62%|█████████████████████████████████████████████████████████████████▍                                       | 621/997 [2:14:46<34:03,  5.43s/it]"
     ]
    },
    {
     "name": "stdout",
     "output_type": "stream",
     "text": [
      "No objects to concatenate\n",
      "Beyoncé Partition 6512989\n"
     ]
    },
    {
     "name": "stderr",
     "output_type": "stream",
     "text": [
      "\r",
      " 62%|█████████████████████████████████████████████████████████████████▌                                       | 622/997 [2:14:53<37:51,  6.06s/it]"
     ]
    },
    {
     "name": "stdout",
     "output_type": "stream",
     "text": [
      "No objects to concatenate\n",
      "Niall Horan This Town 4250989\n"
     ]
    },
    {
     "name": "stderr",
     "output_type": "stream",
     "text": [
      "\r",
      " 62%|█████████████████████████████████████████████████████████████████▌                                       | 623/997 [2:15:03<43:57,  7.05s/it]"
     ]
    },
    {
     "name": "stdout",
     "output_type": "stream",
     "text": [
      "No objects to concatenate\n",
      "The Foundations Build Me Up Buttercup 5041989\n"
     ]
    },
    {
     "name": "stderr",
     "output_type": "stream",
     "text": [
      "\r",
      " 63%|█████████████████████████████████████████████████████████████████▋                                       | 624/997 [2:15:17<58:09,  9.36s/it]"
     ]
    },
    {
     "name": "stdout",
     "output_type": "stream",
     "text": [
      "No objects to concatenate\n",
      "The Clash Should I Stay or Should I Go - Remastered 6199989\n"
     ]
    },
    {
     "name": "stderr",
     "output_type": "stream",
     "text": [
      "\r",
      " 63%|█████████████████████████████████████████████████████████████████▊                                       | 625/997 [2:15:20<45:48,  7.39s/it]"
     ]
    },
    {
     "name": "stdout",
     "output_type": "stream",
     "text": [
      "No objects to concatenate\n",
      "G-Eazy Marilyn (feat. Dominique Le Jeune) 5011989\n"
     ]
    },
    {
     "name": "stderr",
     "output_type": "stream",
     "text": [
      "\r",
      " 63%|█████████████████████████████████████████████████████████████████▉                                       | 626/997 [2:15:30<50:33,  8.18s/it]"
     ]
    },
    {
     "name": "stdout",
     "output_type": "stream",
     "text": [
      "No objects to concatenate\n",
      "Akon Smack That - Dirty 6510989\n"
     ]
    },
    {
     "name": "stderr",
     "output_type": "stream",
     "text": [
      "\r",
      " 63%|████████████████████████████████████████████████████████████████▊                                      | 627/997 [2:15:48<1:07:23, 10.93s/it]"
     ]
    },
    {
     "name": "stdout",
     "output_type": "stream",
     "text": [
      "No objects to concatenate\n",
      "Kanye West Good Life 3791989\n"
     ]
    },
    {
     "name": "stderr",
     "output_type": "stream",
     "text": [
      "\r",
      " 63%|██████████████████████████████████████████████████████████████████▏                                      | 628/997 [2:15:48<48:08,  7.83s/it]"
     ]
    },
    {
     "name": "stdout",
     "output_type": "stream",
     "text": [
      "No objects to concatenate\n",
      "The All-American Rejects Gives You Hell 4334989\n"
     ]
    },
    {
     "name": "stderr",
     "output_type": "stream",
     "text": [
      "\r",
      " 63%|████████████████████████████████████████████████████████████████▉                                      | 629/997 [2:16:05<1:05:05, 10.61s/it]"
     ]
    },
    {
     "name": "stdout",
     "output_type": "stream",
     "text": [
      "No objects to concatenate\n",
      "The Rolling Stones Start Me Up - Remastered 6329989\n"
     ]
    },
    {
     "name": "stderr",
     "output_type": "stream",
     "text": [
      "\r",
      " 63%|█████████████████████████████████████████████████████████████████                                      | 630/997 [2:16:20<1:11:52, 11.75s/it]"
     ]
    },
    {
     "name": "stdout",
     "output_type": "stream",
     "text": [
      "No objects to concatenate\n",
      "Wiz Khalifa We Dem Boyz 6021989\n"
     ]
    },
    {
     "name": "stderr",
     "output_type": "stream",
     "text": [
      "\r",
      " 63%|█████████████████████████████████████████████████████████████████▏                                     | 631/997 [2:16:31<1:11:11, 11.67s/it]"
     ]
    },
    {
     "name": "stdout",
     "output_type": "stream",
     "text": [
      "No objects to concatenate\n",
      "Robin Schulz Sugar (feat. Francesco Yates) 4703989\n"
     ]
    },
    {
     "name": "stderr",
     "output_type": "stream",
     "text": [
      "\r",
      " 63%|█████████████████████████████████████████████████████████████████▎                                     | 632/997 [2:16:47<1:19:15, 13.03s/it]"
     ]
    },
    {
     "name": "stdout",
     "output_type": "stream",
     "text": [
      "No objects to concatenate\n",
      "Kesha Die Young 5627989\n"
     ]
    },
    {
     "name": "stderr",
     "output_type": "stream",
     "text": [
      "\r",
      " 63%|█████████████████████████████████████████████████████████████████▍                                     | 633/997 [2:17:00<1:18:29, 12.94s/it]"
     ]
    },
    {
     "name": "stdout",
     "output_type": "stream",
     "text": [
      "No objects to concatenate\n",
      "Michael Jackson Billie Jean 5856989\n",
      "No objects to concatenate\n",
      "Kesha Praying 4543989\n"
     ]
    },
    {
     "name": "stderr",
     "output_type": "stream",
     "text": [
      "\r",
      " 64%|██████████████████████████████████████████████████████████████████▉                                      | 635/997 [2:17:01<55:17,  9.16s/it]"
     ]
    },
    {
     "name": "stdout",
     "output_type": "stream",
     "text": [
      "No objects to concatenate\n",
      "J. Cole Apparently 6600989\n"
     ]
    },
    {
     "name": "stderr",
     "output_type": "stream",
     "text": [
      "\r",
      " 64%|█████████████████████████████████████████████████████████████████▋                                     | 636/997 [2:17:15<1:04:33, 10.73s/it]"
     ]
    },
    {
     "name": "stdout",
     "output_type": "stream",
     "text": [
      "No objects to concatenate\n",
      "Cage The Elephant Ain't No Rest for the Wicked - Original Version 3868989\n"
     ]
    },
    {
     "name": "stderr",
     "output_type": "stream",
     "text": [
      "\r",
      " 64%|█████████████████████████████████████████████████████████████████▊                                     | 637/997 [2:17:30<1:11:54, 11.98s/it]"
     ]
    },
    {
     "name": "stdout",
     "output_type": "stream",
     "text": [
      "No objects to concatenate\n",
      "Ms. Lauryn Hill Doo Wop (That Thing) 5432989\n"
     ]
    },
    {
     "name": "stderr",
     "output_type": "stream",
     "text": [
      "\r",
      " 64%|█████████████████████████████████████████████████████████████████▉                                     | 638/997 [2:17:44<1:15:48, 12.67s/it]"
     ]
    },
    {
     "name": "stdout",
     "output_type": "stream",
     "text": [
      "No objects to concatenate\n",
      "Snakehips All My Friends 6187989\n"
     ]
    },
    {
     "name": "stderr",
     "output_type": "stream",
     "text": [
      "\r",
      " 64%|██████████████████████████████████████████████████████████████████                                     | 639/997 [2:17:57<1:15:02, 12.58s/it]"
     ]
    },
    {
     "name": "stdout",
     "output_type": "stream",
     "text": [
      "No objects to concatenate\n",
      "AWOLNATION Sail 4571989\n"
     ]
    },
    {
     "name": "stderr",
     "output_type": "stream",
     "text": [
      "\r",
      " 64%|██████████████████████████████████████████████████████████████████                                     | 640/997 [2:18:02<1:01:58, 10.42s/it]"
     ]
    },
    {
     "name": "stdout",
     "output_type": "stream",
     "text": [
      "No objects to concatenate\n",
      "Red Hot Chili Peppers Scar Tissue 5310989\n"
     ]
    },
    {
     "name": "stderr",
     "output_type": "stream",
     "text": [
      "\r",
      " 64%|███████████████████████████████████████████████████████████████████▌                                     | 641/997 [2:18:07<52:01,  8.77s/it]"
     ]
    },
    {
     "name": "stdout",
     "output_type": "stream",
     "text": [
      "No objects to concatenate\n",
      "Miley Cyrus Adore You 4296989\n"
     ]
    },
    {
     "name": "stderr",
     "output_type": "stream",
     "text": [
      "\r",
      " 64%|██████████████████████████████████████████████████████████████████▎                                    | 642/997 [2:18:23<1:04:46, 10.95s/it]"
     ]
    },
    {
     "name": "stdout",
     "output_type": "stream",
     "text": [
      "No objects to concatenate\n",
      "The Police Roxanne - Remastered 2003 6622989\n"
     ]
    },
    {
     "name": "stderr",
     "output_type": "stream",
     "text": [
      "\r",
      " 64%|███████████████████████████████████████████████████████████████████▋                                     | 643/997 [2:18:29<55:16,  9.37s/it]"
     ]
    },
    {
     "name": "stdout",
     "output_type": "stream",
     "text": [
      "No objects to concatenate\n",
      "Fall Out Boy Centuries 5444989\n"
     ]
    },
    {
     "name": "stderr",
     "output_type": "stream",
     "text": [
      "\r",
      " 65%|██████████████████████████████████████████████████████████████████▌                                    | 644/997 [2:18:46<1:08:12, 11.59s/it]"
     ]
    },
    {
     "name": "stdout",
     "output_type": "stream",
     "text": [
      "No objects to concatenate\n",
      "Macklemore & Ryan Lewis Thrift Shop (feat. Wanz) 5778989\n"
     ]
    },
    {
     "name": "stderr",
     "output_type": "stream",
     "text": [
      "\r",
      " 65%|██████████████████████████████████████████████████████████████████▋                                    | 645/997 [2:19:04<1:19:27, 13.55s/it]"
     ]
    },
    {
     "name": "stdout",
     "output_type": "stream",
     "text": [
      "No objects to concatenate\n",
      "Zac Brown Band Homegrown 3881989\n"
     ]
    },
    {
     "name": "stderr",
     "output_type": "stream",
     "text": [
      "\r",
      " 65%|██████████████████████████████████████████████████████████████████▋                                    | 646/997 [2:19:11<1:08:15, 11.67s/it]"
     ]
    },
    {
     "name": "stdout",
     "output_type": "stream",
     "text": [
      "No objects to concatenate\n",
      "Drake Started From the Bottom 5332989\n"
     ]
    },
    {
     "name": "stderr",
     "output_type": "stream",
     "text": [
      "\r",
      " 65%|██████████████████████████████████████████████████████████████████▊                                    | 647/997 [2:19:30<1:20:36, 13.82s/it]"
     ]
    },
    {
     "name": "stdout",
     "output_type": "stream",
     "text": [
      "Hozier Someone New 6022989\n"
     ]
    },
    {
     "name": "stderr",
     "output_type": "stream",
     "text": [
      "\r",
      " 65%|████████████████████████████████████████████████████████████████████▏                                    | 648/997 [2:19:31<57:35,  9.90s/it]"
     ]
    },
    {
     "name": "stdout",
     "output_type": "stream",
     "text": [
      "No objects to concatenate\n",
      "Green Day Basket Case 5434989\n"
     ]
    },
    {
     "name": "stderr",
     "output_type": "stream",
     "text": [
      "\r",
      " 65%|████████████████████████████████████████████████████████████████████▎                                    | 649/997 [2:19:35<48:22,  8.34s/it]"
     ]
    },
    {
     "name": "stdout",
     "output_type": "stream",
     "text": [
      "No objects to concatenate\n",
      "Soundgarden Black Hole Sun 5518989\n"
     ]
    },
    {
     "name": "stderr",
     "output_type": "stream",
     "text": [
      "\r",
      " 65%|████████████████████████████████████████████████████████████████████▍                                    | 650/997 [2:19:40<42:09,  7.29s/it]"
     ]
    },
    {
     "name": "stdout",
     "output_type": "stream",
     "text": [
      "No objects to concatenate\n",
      "blackbear do re mi 5521989\n"
     ]
    },
    {
     "name": "stderr",
     "output_type": "stream",
     "text": [
      "\r",
      " 65%|████████████████████████████████████████████████████████████████████▌                                    | 651/997 [2:19:54<53:27,  9.27s/it]"
     ]
    },
    {
     "name": "stdout",
     "output_type": "stream",
     "text": [
      "No objects to concatenate\n",
      "AC/DC Thunderstruck 5483989\n"
     ]
    },
    {
     "name": "stderr",
     "output_type": "stream",
     "text": [
      "\r",
      " 65%|████████████████████████████████████████████████████████████████████▋                                    | 652/997 [2:19:59<45:04,  7.84s/it]"
     ]
    },
    {
     "name": "stdout",
     "output_type": "stream",
     "text": [
      "No objects to concatenate\n",
      "Rihanna Diamonds 5261989\n"
     ]
    },
    {
     "name": "stderr",
     "output_type": "stream",
     "text": [
      "\r",
      " 65%|███████████████████████████████████████████████████████████████████▍                                   | 653/997 [2:20:16<1:01:53, 10.79s/it]"
     ]
    },
    {
     "name": "stdout",
     "output_type": "stream",
     "text": [
      "No objects to concatenate\n",
      "Rae Sremmurd No Flex Zone 5330989\n"
     ]
    },
    {
     "name": "stderr",
     "output_type": "stream",
     "text": [
      "\r",
      " 66%|███████████████████████████████████████████████████████████████████▌                                   | 654/997 [2:20:29<1:05:09, 11.40s/it]"
     ]
    },
    {
     "name": "stdout",
     "output_type": "stream",
     "text": [
      "No objects to concatenate\n",
      "DJ Snake Turn Down for What 5334989\n"
     ]
    },
    {
     "name": "stderr",
     "output_type": "stream",
     "text": [
      "\r",
      " 66%|███████████████████████████████████████████████████████████████████▋                                   | 655/997 [2:20:46<1:14:46, 13.12s/it]"
     ]
    },
    {
     "name": "stdout",
     "output_type": "stream",
     "text": [
      "No objects to concatenate\n",
      "JAY Z 99 Problems 6231989\n"
     ]
    },
    {
     "name": "stderr",
     "output_type": "stream",
     "text": [
      "\r",
      " 66%|███████████████████████████████████████████████████████████████████▊                                   | 656/997 [2:21:00<1:15:21, 13.26s/it]"
     ]
    },
    {
     "name": "stdout",
     "output_type": "stream",
     "text": [
      "No objects to concatenate\n",
      "AC/DC Highway to Hell 4442989\n"
     ]
    },
    {
     "name": "stderr",
     "output_type": "stream",
     "text": [
      "\r",
      " 66%|███████████████████████████████████████████████████████████████████▊                                   | 657/997 [2:21:04<1:00:06, 10.61s/it]"
     ]
    },
    {
     "name": "stdout",
     "output_type": "stream",
     "text": [
      "No objects to concatenate\n",
      "Bowling For Soup 1985 5463989\n"
     ]
    },
    {
     "name": "stderr",
     "output_type": "stream",
     "text": [
      "\r",
      " 66%|███████████████████████████████████████████████████████████████████▉                                   | 658/997 [2:21:21<1:10:25, 12.46s/it]"
     ]
    },
    {
     "name": "stdout",
     "output_type": "stream",
     "text": [
      "No objects to concatenate\n",
      "Tom Petty and the Heartbreakers Mary Jane's Last Dance 5214989\n"
     ]
    },
    {
     "name": "stderr",
     "output_type": "stream",
     "text": [
      "\r",
      " 66%|█████████████████████████████████████████████████████████████████████▍                                   | 659/997 [2:21:26<58:05, 10.31s/it]"
     ]
    },
    {
     "name": "stdout",
     "output_type": "stream",
     "text": [
      "No objects to concatenate\n",
      "Drake Legend 5825989\n"
     ]
    },
    {
     "name": "stderr",
     "output_type": "stream",
     "text": [
      "\r",
      " 66%|████████████████████████████████████████████████████████████████████▏                                  | 660/997 [2:21:40<1:03:41, 11.34s/it]"
     ]
    },
    {
     "name": "stdout",
     "output_type": "stream",
     "text": [
      "No objects to concatenate\n",
      "Nickelback Rockstar 5431989\n"
     ]
    },
    {
     "name": "stderr",
     "output_type": "stream",
     "text": [
      "\r",
      " 66%|████████████████████████████████████████████████████████████████████▎                                  | 661/997 [2:21:57<1:12:25, 12.93s/it]"
     ]
    },
    {
     "name": "stdout",
     "output_type": "stream",
     "text": [
      "No objects to concatenate\n",
      "blackbear Idfc 6038989\n"
     ]
    },
    {
     "name": "stderr",
     "output_type": "stream",
     "text": [
      "\r",
      " 66%|████████████████████████████████████████████████████████████████████▍                                  | 662/997 [2:22:14<1:20:05, 14.34s/it]"
     ]
    },
    {
     "name": "stdout",
     "output_type": "stream",
     "text": [
      "No objects to concatenate\n",
      "Starship We Built This City 5893989\n"
     ]
    },
    {
     "name": "stderr",
     "output_type": "stream",
     "text": [
      "\r",
      " 66%|████████████████████████████████████████████████████████████████████▍                                  | 663/997 [2:22:28<1:19:26, 14.27s/it]"
     ]
    },
    {
     "name": "stdout",
     "output_type": "stream",
     "text": [
      "No objects to concatenate\n",
      "Miley Cyrus Malibu 5379989\n"
     ]
    },
    {
     "name": "stderr",
     "output_type": "stream",
     "text": [
      "\r",
      " 67%|████████████████████████████████████████████████████████████████████▌                                  | 664/997 [2:22:42<1:18:24, 14.13s/it]"
     ]
    },
    {
     "name": "stdout",
     "output_type": "stream",
     "text": [
      "No objects to concatenate\n",
      "Alan Jackson It's Five O' Clock Somewhere 4820989\n"
     ]
    },
    {
     "name": "stderr",
     "output_type": "stream",
     "text": [
      "\r",
      " 67%|████████████████████████████████████████████████████████████████████▋                                  | 665/997 [2:22:50<1:07:26, 12.19s/it]"
     ]
    },
    {
     "name": "stdout",
     "output_type": "stream",
     "text": [
      "No objects to concatenate\n",
      "Kendrick Lamar Poetic Justice 5773989\n"
     ]
    },
    {
     "name": "stderr",
     "output_type": "stream",
     "text": [
      "\r",
      " 67%|████████████████████████████████████████████████████████████████████▊                                  | 666/997 [2:23:03<1:08:17, 12.38s/it]"
     ]
    },
    {
     "name": "stdout",
     "output_type": "stream",
     "text": [
      "No objects to concatenate\n",
      "Mario Let Me Love You 6735989\n"
     ]
    },
    {
     "name": "stderr",
     "output_type": "stream",
     "text": [
      "\r",
      " 67%|████████████████████████████████████████████████████████████████████▉                                  | 667/997 [2:23:17<1:10:45, 12.87s/it]"
     ]
    },
    {
     "name": "stdout",
     "output_type": "stream",
     "text": [
      "No objects to concatenate\n",
      "Creedence Clearwater Revival Bad Moon Rising 5901989\n"
     ]
    },
    {
     "name": "stderr",
     "output_type": "stream",
     "text": [
      "\r",
      " 67%|██████████████████████████████████████████████████████████████████████▎                                  | 668/997 [2:23:21<55:56, 10.20s/it]"
     ]
    },
    {
     "name": "stdout",
     "output_type": "stream",
     "text": [
      "No objects to concatenate\n",
      "Meghan Trainor NO 5094989\n"
     ]
    },
    {
     "name": "stderr",
     "output_type": "stream",
     "text": [
      "\r",
      " 67%|█████████████████████████████████████████████████████████████████████                                  | 669/997 [2:23:34<1:00:08, 11.00s/it]"
     ]
    },
    {
     "name": "stdout",
     "output_type": "stream",
     "text": [
      "No objects to concatenate\n",
      "Zac Brown Band Toes 4825989\n"
     ]
    },
    {
     "name": "stderr",
     "output_type": "stream",
     "text": [
      "\r",
      " 67%|██████████████████████████████████████████████████████████████████████▌                                  | 670/997 [2:23:36<45:17,  8.31s/it]"
     ]
    },
    {
     "name": "stdout",
     "output_type": "stream",
     "text": [
      "No objects to concatenate\n",
      "Disturbed Down With the Sickness 5348989\n"
     ]
    },
    {
     "name": "stderr",
     "output_type": "stream",
     "text": [
      "\r",
      " 67%|██████████████████████████████████████████████████████████████████████▋                                  | 671/997 [2:23:40<39:38,  7.30s/it]"
     ]
    },
    {
     "name": "stdout",
     "output_type": "stream",
     "text": [
      "No objects to concatenate\n",
      "Jason Derulo Swalla (feat. Nicki Minaj & Ty Dolla $ign) 6373989\n"
     ]
    },
    {
     "name": "stderr",
     "output_type": "stream",
     "text": [
      "\r",
      " 67%|██████████████████████████████████████████████████████████████████████▊                                  | 672/997 [2:23:57<54:18, 10.03s/it]"
     ]
    },
    {
     "name": "stdout",
     "output_type": "stream",
     "text": [
      "No objects to concatenate\n",
      "Incubus Drive 4769989\n"
     ]
    },
    {
     "name": "stderr",
     "output_type": "stream",
     "text": [
      "\r",
      " 68%|█████████████████████████████████████████████████████████████████████▌                                 | 673/997 [2:24:14<1:05:19, 12.10s/it]"
     ]
    },
    {
     "name": "stdout",
     "output_type": "stream",
     "text": [
      "No objects to concatenate\n",
      "Blue Swede Hooked on a Feeling 6000989\n"
     ]
    },
    {
     "name": "stderr",
     "output_type": "stream",
     "text": [
      "\r",
      " 68%|█████████████████████████████████████████████████████████████████████▋                                 | 674/997 [2:24:28<1:08:54, 12.80s/it]"
     ]
    },
    {
     "name": "stdout",
     "output_type": "stream",
     "text": [
      "No objects to concatenate\n",
      "Jason Aldean Dirt Road Anthem 5436989\n"
     ]
    },
    {
     "name": "stderr",
     "output_type": "stream",
     "text": [
      "\r",
      " 68%|███████████████████████████████████████████████████████████████████████                                  | 675/997 [2:24:34<56:39, 10.56s/it]"
     ]
    },
    {
     "name": "stdout",
     "output_type": "stream",
     "text": [
      "No objects to concatenate\n",
      "Green Day Wake Me Up When September Ends 5425989\n"
     ]
    },
    {
     "name": "stderr",
     "output_type": "stream",
     "text": [
      "\r",
      " 68%|█████████████████████████████████████████████████████████████████████▊                                 | 676/997 [2:24:49<1:04:20, 12.03s/it]"
     ]
    },
    {
     "name": "stdout",
     "output_type": "stream",
     "text": [
      "No objects to concatenate\n",
      "Lord Huron The Night We Met 5419989\n"
     ]
    },
    {
     "name": "stderr",
     "output_type": "stream",
     "text": [
      "\r",
      " 68%|█████████████████████████████████████████████████████████████████████▉                                 | 677/997 [2:24:59<1:00:42, 11.38s/it]"
     ]
    },
    {
     "name": "stdout",
     "output_type": "stream",
     "text": [
      "No objects to concatenate\n",
      "Timeflies Once In a While 4496989\n"
     ]
    },
    {
     "name": "stderr",
     "output_type": "stream",
     "text": [
      "\r",
      " 68%|███████████████████████████████████████████████████████████████████████▍                                 | 678/997 [2:25:07<55:06, 10.37s/it]"
     ]
    },
    {
     "name": "stdout",
     "output_type": "stream",
     "text": [
      "No objects to concatenate\n",
      "The Rolling Stones Beast Of Burden - Remastered 7263989\n"
     ]
    },
    {
     "name": "stderr",
     "output_type": "stream",
     "text": [
      "\r",
      " 68%|██████████████████████████████████████████████████████████████████████▏                                | 679/997 [2:25:22<1:02:13, 11.74s/it]"
     ]
    },
    {
     "name": "stdout",
     "output_type": "stream",
     "text": [
      "No objects to concatenate\n",
      "Bob Marley & The Wailers Jamming 7279989\n"
     ]
    },
    {
     "name": "stderr",
     "output_type": "stream",
     "text": [
      "\r",
      " 68%|███████████████████████████████████████████████████████████████████████▌                                 | 680/997 [2:25:22<44:02,  8.33s/it]"
     ]
    },
    {
     "name": "stdout",
     "output_type": "stream",
     "text": [
      "No objects to concatenate\n",
      "Queen Fat Bottomed Girls 5988989\n"
     ]
    },
    {
     "name": "stderr",
     "output_type": "stream",
     "text": [
      "\r",
      " 68%|███████████████████████████████████████████████████████████████████████▋                                 | 681/997 [2:25:37<54:10, 10.29s/it]"
     ]
    },
    {
     "name": "stdout",
     "output_type": "stream",
     "text": [
      "No objects to concatenate\n",
      "Drake HYFR (Hell Ya Fucking Right) 5282989\n"
     ]
    },
    {
     "name": "stderr",
     "output_type": "stream",
     "text": [
      "\r",
      " 68%|██████████████████████████████████████████████████████████████████████▍                                | 682/997 [2:25:54<1:04:33, 12.30s/it]"
     ]
    },
    {
     "name": "stdout",
     "output_type": "stream",
     "text": [
      "No objects to concatenate\n",
      "Lil Wayne Rich As Fuck 6408989\n"
     ]
    },
    {
     "name": "stderr",
     "output_type": "stream",
     "text": [
      "\r",
      " 69%|██████████████████████████████████████████████████████████████████████▌                                | 683/997 [2:26:11<1:11:12, 13.61s/it]"
     ]
    },
    {
     "name": "stdout",
     "output_type": "stream",
     "text": [
      "No objects to concatenate\n",
      "Lil Yachty Minnesota 5776989\n"
     ]
    },
    {
     "name": "stderr",
     "output_type": "stream",
     "text": [
      "\r",
      " 69%|██████████████████████████████████████████████████████████████████████▋                                | 684/997 [2:26:27<1:15:53, 14.55s/it]"
     ]
    },
    {
     "name": "stdout",
     "output_type": "stream",
     "text": [
      "No objects to concatenate\n",
      "Young Thug Relationship (feat. Future) 6877989\n"
     ]
    },
    {
     "name": "stderr",
     "output_type": "stream",
     "text": [
      "\r",
      " 69%|██████████████████████████████████████████████████████████████████████▊                                | 685/997 [2:26:41<1:14:31, 14.33s/it]"
     ]
    },
    {
     "name": "stdout",
     "output_type": "stream",
     "text": [
      "No objects to concatenate\n",
      "Blackstreet No Diggity 5720989\n"
     ]
    },
    {
     "name": "stderr",
     "output_type": "stream",
     "text": [
      "\r",
      " 69%|██████████████████████████████████████████████████████████████████████▊                                | 686/997 [2:26:58<1:17:32, 14.96s/it]"
     ]
    },
    {
     "name": "stdout",
     "output_type": "stream",
     "text": [
      "No objects to concatenate\n",
      "The Outfield Your Love 4977990\n"
     ]
    },
    {
     "name": "stderr",
     "output_type": "stream",
     "text": [
      "\r",
      " 69%|██████████████████████████████████████████████████████████████████████▉                                | 687/997 [2:27:12<1:16:53, 14.88s/it]"
     ]
    },
    {
     "name": "stdout",
     "output_type": "stream",
     "text": [
      "No objects to concatenate\n",
      "Mike WiLL Made-It 23 5125990\n"
     ]
    },
    {
     "name": "stderr",
     "output_type": "stream",
     "text": [
      "\r",
      " 69%|███████████████████████████████████████████████████████████████████████                                | 688/997 [2:27:29<1:19:25, 15.42s/it]"
     ]
    },
    {
     "name": "stdout",
     "output_type": "stream",
     "text": [
      "No objects to concatenate\n",
      "Sia Chandelier 4253990\n"
     ]
    },
    {
     "name": "stderr",
     "output_type": "stream",
     "text": [
      "\r",
      " 69%|███████████████████████████████████████████████████████████████████████▏                               | 689/997 [2:27:46<1:20:50, 15.75s/it]"
     ]
    },
    {
     "name": "stdout",
     "output_type": "stream",
     "text": [
      "No objects to concatenate\n",
      "Eminem Not Afraid 4350990\n"
     ]
    },
    {
     "name": "stderr",
     "output_type": "stream",
     "text": [
      "\r",
      " 69%|███████████████████████████████████████████████████████████████████████▎                               | 690/997 [2:28:05<1:26:07, 16.83s/it]"
     ]
    },
    {
     "name": "stdout",
     "output_type": "stream",
     "text": [
      "Elton John Tiny Dancer 5171990\n"
     ]
    },
    {
     "name": "stderr",
     "output_type": "stream",
     "text": [
      "\r",
      " 69%|███████████████████████████████████████████████████████████████████████▍                               | 691/997 [2:28:20<1:23:07, 16.30s/it]"
     ]
    },
    {
     "name": "stdout",
     "output_type": "stream",
     "text": [
      "No objects to concatenate\n",
      "Eminem The Monster 4868990\n"
     ]
    },
    {
     "name": "stderr",
     "output_type": "stream",
     "text": [
      "\r",
      " 69%|███████████████████████████████████████████████████████████████████████▍                               | 692/997 [2:28:33<1:17:49, 15.31s/it]"
     ]
    },
    {
     "name": "stdout",
     "output_type": "stream",
     "text": [
      "No objects to concatenate\n",
      "Kanye West Champions 3634990\n"
     ]
    },
    {
     "name": "stderr",
     "output_type": "stream",
     "text": [
      "\r",
      " 70%|███████████████████████████████████████████████████████████████████████▌                               | 693/997 [2:28:51<1:21:07, 16.01s/it]"
     ]
    },
    {
     "name": "stdout",
     "output_type": "stream",
     "text": [
      "No objects to concatenate\n",
      "The Black Eyed Peas Where Is The Love? 4427990\n"
     ]
    },
    {
     "name": "stderr",
     "output_type": "stream",
     "text": [
      "\r",
      " 70%|███████████████████████████████████████████████████████████████████████▋                               | 694/997 [2:29:08<1:22:53, 16.42s/it]"
     ]
    },
    {
     "name": "stdout",
     "output_type": "stream",
     "text": [
      "No objects to concatenate\n",
      "Survivor Eye of the Tiger 4345990\n"
     ]
    },
    {
     "name": "stderr",
     "output_type": "stream",
     "text": [
      "\r",
      " 70%|███████████████████████████████████████████████████████████████████████▊                               | 695/997 [2:29:12<1:04:28, 12.81s/it]"
     ]
    },
    {
     "name": "stdout",
     "output_type": "stream",
     "text": [
      "No objects to concatenate\n",
      "The Strokes Last Nite 5255990\n"
     ]
    },
    {
     "name": "stderr",
     "output_type": "stream",
     "text": [
      "\r",
      " 70%|███████████████████████████████████████████████████████████████████████▉                               | 696/997 [2:29:27<1:07:38, 13.48s/it]"
     ]
    },
    {
     "name": "stdout",
     "output_type": "stream",
     "text": [
      "No objects to concatenate\n",
      "Kid Cudi Pursuit Of Happiness - Extended Steve Aoki Remix (Explicit) 5965990\n"
     ]
    },
    {
     "name": "stderr",
     "output_type": "stream",
     "text": [
      "\r",
      " 70%|████████████████████████████████████████████████████████████████████████                               | 697/997 [2:29:45<1:13:03, 14.61s/it]"
     ]
    },
    {
     "name": "stdout",
     "output_type": "stream",
     "text": [
      "No objects to concatenate\n",
      "Shawn Mendes Treat You Better 5184990\n"
     ]
    },
    {
     "name": "stderr",
     "output_type": "stream",
     "text": [
      "\r",
      " 70%|████████████████████████████████████████████████████████████████████████                               | 698/997 [2:29:52<1:01:58, 12.44s/it]"
     ]
    },
    {
     "name": "stdout",
     "output_type": "stream",
     "text": [
      "No objects to concatenate\n",
      "Eric Clapton Wonderful Tonight 5313990\n"
     ]
    },
    {
     "name": "stderr",
     "output_type": "stream",
     "text": [
      "\r",
      " 70%|████████████████████████████████████████████████████████████████████████▏                              | 699/997 [2:30:07<1:05:48, 13.25s/it]"
     ]
    },
    {
     "name": "stdout",
     "output_type": "stream",
     "text": [
      "No objects to concatenate\n",
      "Eagles Take It Easy 6769990\n"
     ]
    },
    {
     "name": "stderr",
     "output_type": "stream",
     "text": [
      "\r",
      " 70%|█████████████████████████████████████████████████████████████████████████▋                               | 700/997 [2:30:14<56:34, 11.43s/it]"
     ]
    },
    {
     "name": "stdout",
     "output_type": "stream",
     "text": [
      "No objects to concatenate\n",
      "Frank Ocean Ivy 5280990\n"
     ]
    },
    {
     "name": "stderr",
     "output_type": "stream",
     "text": [
      "\r",
      " 70%|████████████████████████████████████████████████████████████████████████▍                              | 701/997 [2:30:32<1:06:09, 13.41s/it]"
     ]
    },
    {
     "name": "stdout",
     "output_type": "stream",
     "text": [
      "No objects to concatenate\n",
      "David Nail Whatever She's Got 4824990\n"
     ]
    },
    {
     "name": "stderr",
     "output_type": "stream",
     "text": [
      "\r",
      " 70%|█████████████████████████████████████████████████████████████████████████▉                               | 702/997 [2:30:39<56:33, 11.50s/it]"
     ]
    },
    {
     "name": "stdout",
     "output_type": "stream",
     "text": [
      "No objects to concatenate\n",
      "Elvis Presley Can't Help Falling in Love 4193990\n",
      "No objects to concatenate\n",
      "Christina Perri A Thousand Years 4249990\n"
     ]
    },
    {
     "name": "stderr",
     "output_type": "stream",
     "text": [
      "\r",
      " 71%|██████████████████████████████████████████████████████████████████████████▏                              | 704/997 [2:30:45<43:24,  8.89s/it]"
     ]
    },
    {
     "name": "stdout",
     "output_type": "stream",
     "text": [
      "No objects to concatenate\n",
      "Empire of the Sun Walking On A Dream 4540990\n"
     ]
    },
    {
     "name": "stderr",
     "output_type": "stream",
     "text": [
      "\r",
      " 71%|██████████████████████████████████████████████████████████████████████████▏                              | 705/997 [2:30:46<31:33,  6.49s/it]"
     ]
    },
    {
     "name": "stdout",
     "output_type": "stream",
     "text": [
      "No objects to concatenate\n",
      "Flume Drop the Game 5658990\n"
     ]
    },
    {
     "name": "stderr",
     "output_type": "stream",
     "text": [
      "\r",
      " 71%|██████████████████████████████████████████████████████████████████████████▎                              | 706/997 [2:31:02<45:50,  9.45s/it]"
     ]
    },
    {
     "name": "stdout",
     "output_type": "stream",
     "text": [
      "No objects to concatenate\n",
      "Maroon 5 Animals 4242990\n"
     ]
    },
    {
     "name": "stderr",
     "output_type": "stream",
     "text": [
      "\r",
      " 71%|██████████████████████████████████████████████████████████████████████████▍                              | 707/997 [2:31:14<49:28, 10.24s/it]"
     ]
    },
    {
     "name": "stdout",
     "output_type": "stream",
     "text": [
      "No objects to concatenate\n",
      "Maroon 5 Payphone 3848990\n"
     ]
    },
    {
     "name": "stderr",
     "output_type": "stream",
     "text": [
      "\r",
      " 71%|██████████████████████████████████████████████████████████████████████████▌                              | 708/997 [2:31:26<51:57, 10.79s/it]"
     ]
    },
    {
     "name": "stdout",
     "output_type": "stream",
     "text": [
      "No objects to concatenate\n",
      "Elton John Bennie And The Jets - Remastered 2014 4660990\n"
     ]
    },
    {
     "name": "stderr",
     "output_type": "stream",
     "text": [
      "\r",
      " 71%|██████████████████████████████████████████████████████████████████████████▋                              | 709/997 [2:31:32<44:45,  9.32s/it]"
     ]
    },
    {
     "name": "stdout",
     "output_type": "stream",
     "text": [
      "No objects to concatenate\n",
      "Ed Sheeran Galway Girl 6234990\n"
     ]
    },
    {
     "name": "stderr",
     "output_type": "stream",
     "text": [
      "\r",
      " 71%|██████████████████████████████████████████████████████████████████████████▊                              | 710/997 [2:31:48<54:11, 11.33s/it]"
     ]
    },
    {
     "name": "stdout",
     "output_type": "stream",
     "text": [
      "No objects to concatenate\n",
      "Maroon 5 Don't Wanna Know (feat. Kendrick Lamar) 4043990\n"
     ]
    },
    {
     "name": "stderr",
     "output_type": "stream",
     "text": [
      "\r",
      " 71%|██████████████████████████████████████████████████████████████████████████▉                              | 711/997 [2:31:58<51:22, 10.78s/it]"
     ]
    },
    {
     "name": "stdout",
     "output_type": "stream",
     "text": [
      "No objects to concatenate\n",
      "Nick Jonas Jealous - Remix 4932990\n"
     ]
    },
    {
     "name": "stderr",
     "output_type": "stream",
     "text": [
      "\r",
      " 71%|██████████████████████████████████████████████████████████████████████████▉                              | 712/997 [2:32:10<52:57, 11.15s/it]"
     ]
    },
    {
     "name": "stdout",
     "output_type": "stream",
     "text": [
      "No objects to concatenate\n",
      "Meghan Trainor Like I'm Gonna Lose You 4333990\n"
     ]
    },
    {
     "name": "stderr",
     "output_type": "stream",
     "text": [
      "\r",
      " 72%|███████████████████████████████████████████████████████████████████████████                              | 713/997 [2:32:26<59:36, 12.59s/it]"
     ]
    },
    {
     "name": "stdout",
     "output_type": "stream",
     "text": [
      "No objects to concatenate\n",
      "ODESZA Say My Name 5951990\n"
     ]
    },
    {
     "name": "stderr",
     "output_type": "stream",
     "text": [
      "\r",
      " 72%|█████████████████████████████████████████████████████████████████████████▊                             | 714/997 [2:32:43<1:05:40, 13.92s/it]"
     ]
    },
    {
     "name": "stdout",
     "output_type": "stream",
     "text": [
      "No objects to concatenate\n",
      "Kenny Chesney American Kids 3658990\n"
     ]
    },
    {
     "name": "stderr",
     "output_type": "stream",
     "text": [
      "\r",
      " 72%|███████████████████████████████████████████████████████████████████████████▎                             | 715/997 [2:32:49<54:12, 11.53s/it]"
     ]
    },
    {
     "name": "stdout",
     "output_type": "stream",
     "text": [
      "No objects to concatenate\n",
      "ODESZA Sun Models 5442990\n"
     ]
    },
    {
     "name": "stderr",
     "output_type": "stream",
     "text": [
      "\r",
      " 72%|█████████████████████████████████████████████████████████████████████████▉                             | 716/997 [2:33:06<1:01:28, 13.13s/it]"
     ]
    },
    {
     "name": "stdout",
     "output_type": "stream",
     "text": [
      "No objects to concatenate\n",
      "Nickelback If Today Was Your Last Day 2800990\n"
     ]
    },
    {
     "name": "stderr",
     "output_type": "stream",
     "text": [
      "\r",
      " 72%|███████████████████████████████████████████████████████████████████████████▌                             | 717/997 [2:33:11<50:32, 10.83s/it]"
     ]
    },
    {
     "name": "stdout",
     "output_type": "stream",
     "text": [
      "No objects to concatenate\n",
      "Clean Bandit Rockabye (feat. Sean Paul & Anne-Marie) 4847990\n"
     ]
    },
    {
     "name": "stderr",
     "output_type": "stream",
     "text": [
      "\r",
      " 72%|███████████████████████████████████████████████████████████████████████████▌                             | 718/997 [2:33:27<57:12, 12.30s/it]"
     ]
    },
    {
     "name": "stdout",
     "output_type": "stream",
     "text": [
      "No objects to concatenate\n",
      "The Rolling Stones Gimme Shelter 6342990\n"
     ]
    },
    {
     "name": "stderr",
     "output_type": "stream",
     "text": [
      "\r",
      " 72%|██████████████████████████████████████████████████████████████████████████▎                            | 719/997 [2:33:42<1:00:38, 13.09s/it]"
     ]
    },
    {
     "name": "stdout",
     "output_type": "stream",
     "text": [
      "No objects to concatenate\n",
      "Avicii Wake Me Up - Radio Edit 3750990\n"
     ]
    },
    {
     "name": "stderr",
     "output_type": "stream",
     "text": [
      "\r",
      " 72%|██████████████████████████████████████████████████████████████████████████▍                            | 720/997 [2:34:00<1:07:35, 14.64s/it]"
     ]
    },
    {
     "name": "stdout",
     "output_type": "stream",
     "text": [
      "No objects to concatenate\n",
      "Maroon 5 Cold (feat. Future) 5616990\n"
     ]
    },
    {
     "name": "stderr",
     "output_type": "stream",
     "text": [
      "\r",
      " 72%|██████████████████████████████████████████████████████████████████████████▍                            | 721/997 [2:34:16<1:09:08, 15.03s/it]"
     ]
    },
    {
     "name": "stdout",
     "output_type": "stream",
     "text": [
      "No objects to concatenate\n",
      "6LACK Ex Calling 4134990\n"
     ]
    },
    {
     "name": "stderr",
     "output_type": "stream",
     "text": [
      "\r",
      " 72%|██████████████████████████████████████████████████████████████████████████▌                            | 722/997 [2:34:30<1:07:00, 14.62s/it]"
     ]
    },
    {
     "name": "stdout",
     "output_type": "stream",
     "text": [
      "No objects to concatenate\n",
      "Marc Anthony Vivir Mi Vida 5234990\n"
     ]
    },
    {
     "name": "stderr",
     "output_type": "stream",
     "text": [
      "\r",
      " 73%|████████████████████████████████████████████████████████████████████████████▏                            | 723/997 [2:34:30<47:24, 10.38s/it]"
     ]
    },
    {
     "name": "stdout",
     "output_type": "stream",
     "text": [
      "No objects to concatenate\n",
      "Avril Lavigne Complicated 4473990\n"
     ]
    },
    {
     "name": "stderr",
     "output_type": "stream",
     "text": [
      "\r",
      " 73%|████████████████████████████████████████████████████████████████████████████▏                            | 724/997 [2:34:46<54:56, 12.07s/it]"
     ]
    },
    {
     "name": "stdout",
     "output_type": "stream",
     "text": [
      "No objects to concatenate\n",
      "Fleetwood Mac The Chain - Remastered 5300990\n"
     ]
    },
    {
     "name": "stderr",
     "output_type": "stream",
     "text": [
      "\r",
      " 73%|████████████████████████████████████████████████████████████████████████████▎                            | 725/997 [2:34:51<44:33,  9.83s/it]"
     ]
    },
    {
     "name": "stdout",
     "output_type": "stream",
     "text": [
      "No objects to concatenate\n",
      "Stevie Wonder Superstition - Single Version 5306990\n"
     ]
    },
    {
     "name": "stderr",
     "output_type": "stream",
     "text": [
      "\r",
      " 73%|████████████████████████████████████████████████████████████████████████████▍                            | 726/997 [2:35:06<51:39, 11.44s/it]"
     ]
    },
    {
     "name": "stdout",
     "output_type": "stream",
     "text": [
      "No objects to concatenate\n",
      "Katy Perry California Gurls - feat. Snoop Dogg 5262990\n"
     ]
    },
    {
     "name": "stderr",
     "output_type": "stream",
     "text": [
      "\r",
      " 73%|████████████████████████████████████████████████████████████████████████████▌                            | 727/997 [2:35:24<59:56, 13.32s/it]"
     ]
    },
    {
     "name": "stdout",
     "output_type": "stream",
     "text": [
      "No objects to concatenate\n",
      "Kanye West Runaway 5639990\n"
     ]
    },
    {
     "name": "stderr",
     "output_type": "stream",
     "text": [
      "\r",
      " 73%|████████████████████████████████████████████████████████████████████████████▋                            | 728/997 [2:35:37<59:59, 13.38s/it]"
     ]
    },
    {
     "name": "stdout",
     "output_type": "stream",
     "text": [
      "No objects to concatenate\n",
      "Ellie Goulding On My Mind 5937990\n"
     ]
    },
    {
     "name": "stderr",
     "output_type": "stream",
     "text": [
      "\r",
      " 73%|███████████████████████████████████████████████████████████████████████████▎                           | 729/997 [2:35:53<1:03:37, 14.24s/it]"
     ]
    },
    {
     "name": "stdout",
     "output_type": "stream",
     "text": [
      "No objects to concatenate\n",
      "Europe The Final Countdown 3253990\n"
     ]
    },
    {
     "name": "stderr",
     "output_type": "stream",
     "text": [
      "\r",
      " 73%|████████████████████████████████████████████████████████████████████████████▉                            | 730/997 [2:35:58<50:51, 11.43s/it]"
     ]
    },
    {
     "name": "stdout",
     "output_type": "stream",
     "text": [
      "No objects to concatenate\n",
      "Nicki Minaj The Night Is Still Young 6359990\n"
     ]
    },
    {
     "name": "stderr",
     "output_type": "stream",
     "text": [
      "\r",
      " 73%|████████████████████████████████████████████████████████████████████████████▉                            | 731/997 [2:36:12<53:08, 11.99s/it]"
     ]
    },
    {
     "name": "stdout",
     "output_type": "stream",
     "text": [
      "No objects to concatenate\n",
      "Kanye West Homecoming 3577990\n"
     ]
    },
    {
     "name": "stderr",
     "output_type": "stream",
     "text": [
      "\r",
      " 73%|█████████████████████████████████████████████████████████████████████████████                            | 732/997 [2:36:29<59:31, 13.48s/it]"
     ]
    },
    {
     "name": "stdout",
     "output_type": "stream",
     "text": [
      "No objects to concatenate\n",
      "Meek Mill R.I.C.O. (feat. Drake) 4553990\n"
     ]
    },
    {
     "name": "stderr",
     "output_type": "stream",
     "text": [
      "\r",
      " 74%|█████████████████████████████████████████████████████████████████████████████▏                           | 733/997 [2:36:39<55:36, 12.64s/it]"
     ]
    },
    {
     "name": "stdout",
     "output_type": "stream",
     "text": [
      "No objects to concatenate\n",
      "Melanie Martinez Pity Party 4443990\n"
     ]
    },
    {
     "name": "stderr",
     "output_type": "stream",
     "text": [
      "\r",
      " 74%|█████████████████████████████████████████████████████████████████████████████▎                           | 734/997 [2:36:52<55:08, 12.58s/it]"
     ]
    },
    {
     "name": "stdout",
     "output_type": "stream",
     "text": [
      "No objects to concatenate\n",
      "Backstreet Boys I Want It That Way 5497990\n"
     ]
    },
    {
     "name": "stderr",
     "output_type": "stream",
     "text": [
      "\r",
      " 74%|███████████████████████████████████████████████████████████████████████████▉                           | 735/997 [2:37:09<1:01:11, 14.01s/it]"
     ]
    },
    {
     "name": "stdout",
     "output_type": "stream",
     "text": [
      "No objects to concatenate\n",
      "Old Crow Medicine Show Wagon Wheel 4500990\n"
     ]
    },
    {
     "name": "stderr",
     "output_type": "stream",
     "text": [
      "\r",
      " 74%|█████████████████████████████████████████████████████████████████████████████▌                           | 736/997 [2:37:16<51:42, 11.89s/it]"
     ]
    },
    {
     "name": "stdout",
     "output_type": "stream",
     "text": [
      "No objects to concatenate\n",
      "*NSYNC Bye Bye Bye 4547990\n"
     ]
    },
    {
     "name": "stderr",
     "output_type": "stream",
     "text": [
      "\r",
      " 74%|█████████████████████████████████████████████████████████████████████████████▌                           | 737/997 [2:37:33<58:06, 13.41s/it]"
     ]
    },
    {
     "name": "stdout",
     "output_type": "stream",
     "text": [
      "No objects to concatenate\n",
      "Meek Mill All Eyes On You (feat. Chris Brown & Nicki Minaj) 6744990\n"
     ]
    },
    {
     "name": "stderr",
     "output_type": "stream",
     "text": [
      "\r",
      " 74%|████████████████████████████████████████████████████████████████████████████▏                          | 738/997 [2:37:49<1:01:54, 14.34s/it]"
     ]
    },
    {
     "name": "stdout",
     "output_type": "stream",
     "text": [
      "No objects to concatenate\n",
      "Weezer Beverly Hills 4055990\n"
     ]
    },
    {
     "name": "stderr",
     "output_type": "stream",
     "text": [
      "\r",
      " 74%|████████████████████████████████████████████████████████████████████████████▎                          | 739/997 [2:38:06<1:05:01, 15.12s/it]"
     ]
    },
    {
     "name": "stdout",
     "output_type": "stream",
     "text": [
      "No objects to concatenate\n",
      "SoMo Ride 4042990\n"
     ]
    },
    {
     "name": "stderr",
     "output_type": "stream",
     "text": [
      "\r",
      " 74%|████████████████████████████████████████████████████████████████████████████▍                          | 740/997 [2:38:18<1:00:33, 14.14s/it]"
     ]
    },
    {
     "name": "stdout",
     "output_type": "stream",
     "text": [
      "No objects to concatenate\n",
      "ZAYN I Don’t Wanna Live Forever (Fifty Shades Darker) - From \"Fifty Shades Darker (Original Motion Picture Soundtrack)\" 4531990\n"
     ]
    },
    {
     "name": "stderr",
     "output_type": "stream",
     "text": [
      "\r",
      " 74%|██████████████████████████████████████████████████████████████████████████████                           | 741/997 [2:38:28<54:18, 12.73s/it]"
     ]
    },
    {
     "name": "stdout",
     "output_type": "stream",
     "text": [
      "No objects to concatenate\n",
      "Khalid Another Sad Love Song 6852990\n"
     ]
    },
    {
     "name": "stderr",
     "output_type": "stream",
     "text": [
      "\r",
      " 74%|██████████████████████████████████████████████████████████████████████████████▏                          | 742/997 [2:38:44<58:30, 13.77s/it]"
     ]
    },
    {
     "name": "stdout",
     "output_type": "stream",
     "text": [
      "No objects to concatenate\n",
      "Florida Georgia Line Anything Goes 5793990\n"
     ]
    },
    {
     "name": "stderr",
     "output_type": "stream",
     "text": [
      "\r",
      " 75%|██████████████████████████████████████████████████████████████████████████████▏                          | 743/997 [2:38:50<48:12, 11.39s/it]"
     ]
    },
    {
     "name": "stdout",
     "output_type": "stream",
     "text": [
      "No objects to concatenate\n",
      "Cheat Codes Sex 5791990\n"
     ]
    },
    {
     "name": "stderr",
     "output_type": "stream",
     "text": [
      "\r",
      " 75%|██████████████████████████████████████████████████████████████████████████████▎                          | 744/997 [2:39:02<49:17, 11.69s/it]"
     ]
    },
    {
     "name": "stdout",
     "output_type": "stream",
     "text": [
      "No objects to concatenate\n",
      "P!nk Just Give Me a Reason 4456990\n"
     ]
    },
    {
     "name": "stderr",
     "output_type": "stream",
     "text": [
      "\r",
      " 75%|██████████████████████████████████████████████████████████████████████████████▍                          | 745/997 [2:39:18<54:52, 13.06s/it]"
     ]
    },
    {
     "name": "stdout",
     "output_type": "stream",
     "text": [
      "No objects to concatenate\n",
      "Mac Miller Weekend (feat. Miguel) 5917990\n"
     ]
    },
    {
     "name": "stderr",
     "output_type": "stream",
     "text": [
      "\r",
      " 75%|█████████████████████████████████████████████████████████████████████████████                          | 746/997 [2:39:37<1:01:29, 14.70s/it]"
     ]
    },
    {
     "name": "stdout",
     "output_type": "stream",
     "text": [
      "Tame Impala The Less I Know The Better 3451990\n"
     ]
    },
    {
     "name": "stderr",
     "output_type": "stream",
     "text": [
      "\r",
      " 75%|█████████████████████████████████████████████████████████████████████████████▏                         | 747/997 [2:39:53<1:03:30, 15.24s/it]"
     ]
    },
    {
     "name": "stdout",
     "output_type": "stream",
     "text": [
      "No objects to concatenate\n",
      "Green Day 21 Guns 4300990\n"
     ]
    },
    {
     "name": "stderr",
     "output_type": "stream",
     "text": [
      "\r",
      " 75%|██████████████████████████████████████████████████████████████████████████████▊                          | 748/997 [2:39:59<50:43, 12.22s/it]"
     ]
    },
    {
     "name": "stdout",
     "output_type": "stream",
     "text": [
      "No objects to concatenate\n",
      "Thomas Rhett Star Of The Show 4948990\n"
     ]
    },
    {
     "name": "stderr",
     "output_type": "stream",
     "text": [
      "\r",
      " 75%|██████████████████████████████████████████████████████████████████████████████▉                          | 749/997 [2:40:04<42:14, 10.22s/it]"
     ]
    },
    {
     "name": "stdout",
     "output_type": "stream",
     "text": [
      "No objects to concatenate\n",
      "Thomas Rhett It Goes Like This 4062990\n"
     ]
    },
    {
     "name": "stderr",
     "output_type": "stream",
     "text": [
      "\r",
      " 75%|██████████████████████████████████████████████████████████████████████████████▉                          | 750/997 [2:40:10<36:22,  8.83s/it]"
     ]
    },
    {
     "name": "stdout",
     "output_type": "stream",
     "text": [
      "No objects to concatenate\n",
      "2 Chainz 4 AM 6277990\n"
     ]
    },
    {
     "name": "stderr",
     "output_type": "stream",
     "text": [
      "\r",
      " 75%|███████████████████████████████████████████████████████████████████████████████                          | 751/997 [2:40:23<42:15, 10.31s/it]"
     ]
    },
    {
     "name": "stdout",
     "output_type": "stream",
     "text": [
      "No objects to concatenate\n",
      "Rae Sremmurd Throw Sum Mo 5053990\n"
     ]
    },
    {
     "name": "stderr",
     "output_type": "stream",
     "text": [
      "\r",
      " 75%|███████████████████████████████████████████████████████████████████████████████▏                         | 752/997 [2:40:42<52:09, 12.77s/it]"
     ]
    },
    {
     "name": "stdout",
     "output_type": "stream",
     "text": [
      "Third Eye Blind Semi-Charmed Life 4472990\n"
     ]
    },
    {
     "name": "stderr",
     "output_type": "stream",
     "text": [
      "\r",
      " 76%|███████████████████████████████████████████████████████████████████████████████▎                         | 753/997 [2:40:48<43:08, 10.61s/it]"
     ]
    },
    {
     "name": "stdout",
     "output_type": "stream",
     "text": [
      "No objects to concatenate\n",
      "Logic Fade Away 5236990\n"
     ]
    },
    {
     "name": "stderr",
     "output_type": "stream",
     "text": [
      "\r",
      " 76%|███████████████████████████████████████████████████████████████████████████████▍                         | 754/997 [2:41:04<50:38, 12.50s/it]"
     ]
    },
    {
     "name": "stdout",
     "output_type": "stream",
     "text": [
      "No objects to concatenate\n",
      "DJ Khaled I Got the Keys 4766990\n"
     ]
    },
    {
     "name": "stderr",
     "output_type": "stream",
     "text": [
      "\r",
      " 76%|███████████████████████████████████████████████████████████████████████████████▌                         | 755/997 [2:41:23<57:51, 14.34s/it]"
     ]
    },
    {
     "name": "stdout",
     "output_type": "stream",
     "text": [
      "Tom Petty and the Heartbreakers American Girl 5209990\n"
     ]
    },
    {
     "name": "stderr",
     "output_type": "stream",
     "text": [
      "\r",
      " 76%|███████████████████████████████████████████████████████████████████████████████▌                         | 756/997 [2:41:28<45:56, 11.44s/it]"
     ]
    },
    {
     "name": "stdout",
     "output_type": "stream",
     "text": [
      "No objects to concatenate\n",
      "Phoenix 1901 4893990\n"
     ]
    },
    {
     "name": "stderr",
     "output_type": "stream",
     "text": [
      "\r",
      " 76%|███████████████████████████████████████████████████████████████████████████████▋                         | 757/997 [2:41:43<50:00, 12.50s/it]"
     ]
    },
    {
     "name": "stdout",
     "output_type": "stream",
     "text": [
      "No objects to concatenate\n",
      "Lil Uzi Vert Seven Million (feat. Future) 4144990\n"
     ]
    },
    {
     "name": "stderr",
     "output_type": "stream",
     "text": [
      "\r",
      " 76%|███████████████████████████████████████████████████████████████████████████████▊                         | 758/997 [2:41:59<54:36, 13.71s/it]"
     ]
    },
    {
     "name": "stdout",
     "output_type": "stream",
     "text": [
      "No objects to concatenate\n",
      "Sam Hunt Leave The Night On 4327990\n"
     ]
    },
    {
     "name": "stderr",
     "output_type": "stream",
     "text": [
      "\r",
      " 76%|███████████████████████████████████████████████████████████████████████████████▉                         | 759/997 [2:42:06<46:28, 11.72s/it]"
     ]
    },
    {
     "name": "stdout",
     "output_type": "stream",
     "text": [
      "No objects to concatenate\n",
      "Young Money BedRock 6840990\n"
     ]
    },
    {
     "name": "stderr",
     "output_type": "stream",
     "text": [
      "\r",
      " 76%|████████████████████████████████████████████████████████████████████████████████                         | 760/997 [2:42:24<53:04, 13.43s/it]"
     ]
    },
    {
     "name": "stdout",
     "output_type": "stream",
     "text": [
      "No objects to concatenate\n",
      "Plain White T's Hey There Delilah 5887990\n"
     ]
    },
    {
     "name": "stderr",
     "output_type": "stream",
     "text": [
      "\r",
      " 76%|████████████████████████████████████████████████████████████████████████████████▏                        | 761/997 [2:42:29<43:13, 10.99s/it]"
     ]
    },
    {
     "name": "stdout",
     "output_type": "stream",
     "text": [
      "No objects to concatenate\n",
      "Daft Punk Get Lucky - Radio Edit 5100990\n"
     ]
    },
    {
     "name": "stderr",
     "output_type": "stream",
     "text": [
      "\r",
      " 76%|████████████████████████████████████████████████████████████████████████████████▎                        | 762/997 [2:42:42<45:13, 11.55s/it]"
     ]
    },
    {
     "name": "stdout",
     "output_type": "stream",
     "text": [
      "No objects to concatenate\n",
      "Pitbull Timber 6926990\n"
     ]
    },
    {
     "name": "stderr",
     "output_type": "stream",
     "text": [
      "\r",
      " 77%|████████████████████████████████████████████████████████████████████████████████▎                        | 763/997 [2:42:59<51:21, 13.17s/it]"
     ]
    },
    {
     "name": "stdout",
     "output_type": "stream",
     "text": [
      "No objects to concatenate\n",
      "Jimi Hendrix All Along the Watchtower 6826990\n"
     ]
    },
    {
     "name": "stderr",
     "output_type": "stream",
     "text": [
      "\r",
      " 77%|████████████████████████████████████████████████████████████████████████████████▍                        | 764/997 [2:43:14<52:57, 13.64s/it]"
     ]
    },
    {
     "name": "stdout",
     "output_type": "stream",
     "text": [
      "No objects to concatenate\n",
      "Sara Bareilles Love Song 6540990\n"
     ]
    },
    {
     "name": "stderr",
     "output_type": "stream",
     "text": [
      "\r",
      " 77%|████████████████████████████████████████████████████████████████████████████████▌                        | 765/997 [2:43:31<56:49, 14.69s/it]"
     ]
    },
    {
     "name": "stdout",
     "output_type": "stream",
     "text": [
      "No objects to concatenate\n",
      "Rihanna Umbrella 5800990\n"
     ]
    },
    {
     "name": "stderr",
     "output_type": "stream",
     "text": [
      "\r",
      " 77%|████████████████████████████████████████████████████████████████████████████████▋                        | 766/997 [2:43:48<59:46, 15.53s/it]"
     ]
    },
    {
     "name": "stdout",
     "output_type": "stream",
     "text": [
      "No objects to concatenate\n",
      "Jason Mraz Lucky 4631990\n"
     ]
    },
    {
     "name": "stderr",
     "output_type": "stream",
     "text": [
      "\r",
      " 77%|████████████████████████████████████████████████████████████████████████████████▊                        | 767/997 [2:43:54<47:51, 12.49s/it]"
     ]
    },
    {
     "name": "stdout",
     "output_type": "stream",
     "text": [
      "No objects to concatenate\n",
      "Daniel Caesar Get You (feat. Kali Uchis) 4076990\n"
     ]
    },
    {
     "name": "stderr",
     "output_type": "stream",
     "text": [
      "\r",
      " 77%|████████████████████████████████████████████████████████████████████████████████▉                        | 768/997 [2:44:06<47:26, 12.43s/it]"
     ]
    },
    {
     "name": "stdout",
     "output_type": "stream",
     "text": [
      "No objects to concatenate\n",
      "Drake Teenage Fever 6011990\n"
     ]
    },
    {
     "name": "stderr",
     "output_type": "stream",
     "text": [
      "\r",
      " 77%|████████████████████████████████████████████████████████████████████████████████▉                        | 769/997 [2:44:22<51:03, 13.44s/it]"
     ]
    },
    {
     "name": "stdout",
     "output_type": "stream",
     "text": [
      "No objects to concatenate\n",
      "Tim McGraw Live Like You Were Dying 3670990\n"
     ]
    },
    {
     "name": "stderr",
     "output_type": "stream",
     "text": [
      "\r",
      " 77%|█████████████████████████████████████████████████████████████████████████████████                        | 770/997 [2:44:27<42:04, 11.12s/it]"
     ]
    },
    {
     "name": "stdout",
     "output_type": "stream",
     "text": [
      "No objects to concatenate\n",
      "Travis Scott wonderful 4526990\n"
     ]
    },
    {
     "name": "stderr",
     "output_type": "stream",
     "text": [
      "\r",
      " 77%|█████████████████████████████████████████████████████████████████████████████████▏                       | 771/997 [2:44:44<48:22, 12.84s/it]"
     ]
    },
    {
     "name": "stdout",
     "output_type": "stream",
     "text": [
      "No objects to concatenate\n",
      "Halsey New Americana 4283990\n"
     ]
    },
    {
     "name": "stderr",
     "output_type": "stream",
     "text": [
      "\r",
      " 77%|█████████████████████████████████████████████████████████████████████████████████▎                       | 772/997 [2:45:01<52:22, 13.97s/it]"
     ]
    },
    {
     "name": "stdout",
     "output_type": "stream",
     "text": [
      "No objects to concatenate\n",
      "Bubba Sparxxx Ms. New Booty - feat. Ying Yang Twins and Mr. ColliPark 5817990\n"
     ]
    },
    {
     "name": "stderr",
     "output_type": "stream",
     "text": [
      "\r",
      " 78%|█████████████████████████████████████████████████████████████████████████████████▍                       | 773/997 [2:45:18<55:22, 14.83s/it]"
     ]
    },
    {
     "name": "stdout",
     "output_type": "stream",
     "text": [
      "No objects to concatenate\n",
      "Bon Iver Skinny Love 4725990\n"
     ]
    },
    {
     "name": "stderr",
     "output_type": "stream",
     "text": [
      "\r",
      " 78%|█████████████████████████████████████████████████████████████████████████████████▌                       | 774/997 [2:45:34<56:55, 15.31s/it]"
     ]
    },
    {
     "name": "stdout",
     "output_type": "stream",
     "text": [
      "No objects to concatenate\n",
      "Bon Iver Holocene 4122990\n"
     ]
    },
    {
     "name": "stderr",
     "output_type": "stream",
     "text": [
      "\r",
      " 78%|█████████████████████████████████████████████████████████████████████████████████▌                       | 775/997 [2:45:51<57:54, 15.65s/it]"
     ]
    },
    {
     "name": "stdout",
     "output_type": "stream",
     "text": [
      "No objects to concatenate\n",
      "Lilly Wood and The Prick Prayer in C - Robin Schulz Radio Edit 4049990\n"
     ]
    },
    {
     "name": "stderr",
     "output_type": "stream",
     "text": [
      "\r",
      " 78%|████████████████████████████████████████████████████████████████████████████████▏                      | 776/997 [2:46:09<1:00:43, 16.49s/it]"
     ]
    },
    {
     "name": "stdout",
     "output_type": "stream",
     "text": [
      "No objects to concatenate\n",
      "Trey Songz Bottoms Up - feat. Nicki Minaj 6167990\n"
     ]
    },
    {
     "name": "stderr",
     "output_type": "stream",
     "text": [
      "\r",
      " 78%|████████████████████████████████████████████████████████████████████████████████▎                      | 777/997 [2:46:26<1:00:45, 16.57s/it]"
     ]
    },
    {
     "name": "stdout",
     "output_type": "stream",
     "text": [
      "No objects to concatenate\n",
      "The 1975 Chocolate 5253990\n"
     ]
    },
    {
     "name": "stderr",
     "output_type": "stream",
     "text": [
      "\r",
      " 78%|█████████████████████████████████████████████████████████████████████████████████▉                       | 778/997 [2:46:41<59:04, 16.19s/it]"
     ]
    },
    {
     "name": "stdout",
     "output_type": "stream",
     "text": [
      "No objects to concatenate\n",
      "Quinn XCII Another Day in Paradise 7264990\n"
     ]
    },
    {
     "name": "stderr",
     "output_type": "stream",
     "text": [
      "\r",
      " 78%|██████████████████████████████████████████████████████████████████████████████████                       | 779/997 [2:46:57<58:05, 15.99s/it]"
     ]
    },
    {
     "name": "stdout",
     "output_type": "stream",
     "text": [
      "No objects to concatenate\n",
      "Jake Owen Barefoot Blue Jean Night 4152990\n"
     ]
    },
    {
     "name": "stderr",
     "output_type": "stream",
     "text": [
      "\r",
      " 78%|██████████████████████████████████████████████████████████████████████████████████▏                      | 780/997 [2:47:02<46:09, 12.76s/it]"
     ]
    },
    {
     "name": "stdout",
     "output_type": "stream",
     "text": [
      "No objects to concatenate\n",
      "Guns N' Roses November Rain 4096990\n"
     ]
    },
    {
     "name": "stderr",
     "output_type": "stream",
     "text": [
      "\r",
      " 78%|██████████████████████████████████████████████████████████████████████████████████▎                      | 781/997 [2:47:06<37:04, 10.30s/it]"
     ]
    },
    {
     "name": "stdout",
     "output_type": "stream",
     "text": [
      "No objects to concatenate\n",
      "Bob Marley & The Wailers Is This Love 5603990\n"
     ]
    },
    {
     "name": "stderr",
     "output_type": "stream",
     "text": [
      "\r",
      " 78%|██████████████████████████████████████████████████████████████████████████████████▎                      | 782/997 [2:47:15<34:49,  9.72s/it]"
     ]
    },
    {
     "name": "stdout",
     "output_type": "stream",
     "text": [
      "No objects to concatenate\n",
      "Bob Marley & The Wailers Could You Be Loved 5684990\n",
      "No objects to concatenate\n"
     ]
    },
    {
     "name": "stderr",
     "output_type": "stream",
     "text": [
      "\r",
      " 79%|██████████████████████████████████████████████████████████████████████████████████▍                      | 783/997 [2:47:15<24:27,  6.86s/it]"
     ]
    },
    {
     "name": "stdout",
     "output_type": "stream",
     "text": [
      "Mumford & Sons I Will Wait 5206990\n"
     ]
    },
    {
     "name": "stderr",
     "output_type": "stream",
     "text": [
      "\r",
      " 79%|██████████████████████████████████████████████████████████████████████████████████▌                      | 784/997 [2:47:20<22:16,  6.28s/it]"
     ]
    },
    {
     "name": "stdout",
     "output_type": "stream",
     "text": [
      "No objects to concatenate\n",
      "The 1975 Somebody Else 4744990\n"
     ]
    },
    {
     "name": "stderr",
     "output_type": "stream",
     "text": [
      "\r",
      " 79%|██████████████████████████████████████████████████████████████████████████████████▋                      | 785/997 [2:47:36<33:02,  9.35s/it]"
     ]
    },
    {
     "name": "stdout",
     "output_type": "stream",
     "text": [
      "No objects to concatenate\n",
      "The 1975 The Sound 4827990\n"
     ]
    },
    {
     "name": "stderr",
     "output_type": "stream",
     "text": [
      "\r",
      " 79%|██████████████████████████████████████████████████████████████████████████████████▊                      | 786/997 [2:47:53<41:00, 11.66s/it]"
     ]
    },
    {
     "name": "stdout",
     "output_type": "stream",
     "text": [
      "No objects to concatenate\n",
      "Rihanna Don't Stop The Music 6515990\n"
     ]
    },
    {
     "name": "stderr",
     "output_type": "stream",
     "text": [
      "\r",
      " 79%|██████████████████████████████████████████████████████████████████████████████████▉                      | 787/997 [2:47:54<29:23,  8.40s/it]"
     ]
    },
    {
     "name": "stdout",
     "output_type": "stream",
     "text": [
      "No objects to concatenate\n",
      "Calvin Harris Outside 3569990\n"
     ]
    },
    {
     "name": "stderr",
     "output_type": "stream",
     "text": [
      "\r",
      " 79%|██████████████████████████████████████████████████████████████████████████████████▉                      | 788/997 [2:48:11<38:28, 11.04s/it]"
     ]
    },
    {
     "name": "stdout",
     "output_type": "stream",
     "text": [
      "No objects to concatenate\n",
      "Gucci Mane Lemonade 5682990\n"
     ]
    },
    {
     "name": "stderr",
     "output_type": "stream",
     "text": [
      "\r",
      " 79%|███████████████████████████████████████████████████████████████████████████████████                      | 789/997 [2:48:28<44:09, 12.74s/it]"
     ]
    },
    {
     "name": "stdout",
     "output_type": "stream",
     "text": [
      "No objects to concatenate\n",
      "Bill Withers Ain't No Sunshine 4551990\n"
     ]
    },
    {
     "name": "stderr",
     "output_type": "stream",
     "text": [
      "\r",
      " 79%|███████████████████████████████████████████████████████████████████████████████████▏                     | 790/997 [2:48:43<46:11, 13.39s/it]"
     ]
    },
    {
     "name": "stdout",
     "output_type": "stream",
     "text": [
      "No objects to concatenate\n",
      "Pink Floyd Wish You Were Here 5121990\n"
     ]
    },
    {
     "name": "stderr",
     "output_type": "stream",
     "text": [
      "\r",
      " 79%|███████████████████████████████████████████████████████████████████████████████████▎                     | 791/997 [2:48:52<41:00, 11.95s/it]"
     ]
    },
    {
     "name": "stdout",
     "output_type": "stream",
     "text": [
      "No objects to concatenate\n",
      "Lil Uzi Vert 7am 4862990\n"
     ]
    },
    {
     "name": "stderr",
     "output_type": "stream",
     "text": [
      "\r",
      " 79%|███████████████████████████████████████████████████████████████████████████████████▍                     | 792/997 [2:49:02<39:10, 11.47s/it]"
     ]
    },
    {
     "name": "stdout",
     "output_type": "stream",
     "text": [
      "No objects to concatenate\n",
      "Rascal Flatts I Like The Sound Of That 3673990\n"
     ]
    },
    {
     "name": "stderr",
     "output_type": "stream",
     "text": [
      "\r",
      " 80%|███████████████████████████████████████████████████████████████████████████████████▌                     | 793/997 [2:49:08<32:59,  9.71s/it]"
     ]
    },
    {
     "name": "stdout",
     "output_type": "stream",
     "text": [
      "No objects to concatenate\n",
      "NAV Up 5773990\n"
     ]
    },
    {
     "name": "stderr",
     "output_type": "stream",
     "text": [
      "\r",
      " 80%|███████████████████████████████████████████████████████████████████████████████████▌                     | 794/997 [2:49:25<40:53, 12.09s/it]"
     ]
    },
    {
     "name": "stdout",
     "output_type": "stream",
     "text": [
      "No objects to concatenate\n",
      "Taio Cruz Dynamite 4800990\n"
     ]
    },
    {
     "name": "stderr",
     "output_type": "stream",
     "text": [
      "\r",
      " 80%|███████████████████████████████████████████████████████████████████████████████████▋                     | 795/997 [2:49:43<46:12, 13.73s/it]"
     ]
    },
    {
     "name": "stdout",
     "output_type": "stream",
     "text": [
      "No objects to concatenate\n",
      "Josh Turner Hometown Girl 5916990\n"
     ]
    },
    {
     "name": "stderr",
     "output_type": "stream",
     "text": [
      "\r",
      " 80%|███████████████████████████████████████████████████████████████████████████████████▊                     | 796/997 [2:49:50<39:34, 11.81s/it]"
     ]
    },
    {
     "name": "stdout",
     "output_type": "stream",
     "text": [
      "No objects to concatenate\n",
      "Journey Any Way You Want It 4414990\n"
     ]
    },
    {
     "name": "stderr",
     "output_type": "stream",
     "text": [
      "\r",
      " 80%|███████████████████████████████████████████████████████████████████████████████████▉                     | 797/997 [2:50:05<42:45, 12.83s/it]"
     ]
    },
    {
     "name": "stdout",
     "output_type": "stream",
     "text": [
      "No objects to concatenate\n",
      "J. Cole A Tale of 2 Citiez 5701990\n"
     ]
    },
    {
     "name": "stderr",
     "output_type": "stream",
     "text": [
      "\r",
      " 80%|████████████████████████████████████████████████████████████████████████████████████                     | 798/997 [2:50:19<43:31, 13.12s/it]"
     ]
    },
    {
     "name": "stdout",
     "output_type": "stream",
     "text": [
      "No objects to concatenate\n",
      "TLC Waterfalls 5198990\n"
     ]
    },
    {
     "name": "stderr",
     "output_type": "stream",
     "text": [
      "\r",
      " 80%|████████████████████████████████████████████████████████████████████████████████████▏                    | 799/997 [2:50:36<47:08, 14.28s/it]"
     ]
    },
    {
     "name": "stdout",
     "output_type": "stream",
     "text": [
      "No objects to concatenate\n",
      "Usher DJ Got Us Fallin' In Love 6485990\n"
     ]
    },
    {
     "name": "stderr",
     "output_type": "stream",
     "text": [
      "\r",
      " 80%|████████████████████████████████████████████████████████████████████████████████████▎                    | 800/997 [2:50:37<33:40, 10.25s/it]"
     ]
    },
    {
     "name": "stdout",
     "output_type": "stream",
     "text": [
      "No objects to concatenate\n",
      "Chief Keef Hate Bein' Sober 3802990\n"
     ]
    },
    {
     "name": "stderr",
     "output_type": "stream",
     "text": [
      "\r",
      " 80%|████████████████████████████████████████████████████████████████████████████████████▎                    | 801/997 [2:50:53<39:37, 12.13s/it]"
     ]
    },
    {
     "name": "stdout",
     "output_type": "stream",
     "text": [
      "No objects to concatenate\n",
      "Usher My Boo 3405990\n"
     ]
    },
    {
     "name": "stderr",
     "output_type": "stream",
     "text": [
      "\r",
      " 80%|████████████████████████████████████████████████████████████████████████████████████▍                    | 802/997 [2:51:11<44:39, 13.74s/it]"
     ]
    },
    {
     "name": "stdout",
     "output_type": "stream",
     "text": [
      "No objects to concatenate\n",
      "Natalie La Rose Somebody 3867990\n"
     ]
    },
    {
     "name": "stderr",
     "output_type": "stream",
     "text": [
      "\r",
      " 81%|████████████████████████████████████████████████████████████████████████████████████▌                    | 803/997 [2:51:24<43:33, 13.47s/it]"
     ]
    },
    {
     "name": "stdout",
     "output_type": "stream",
     "text": [
      "No objects to concatenate\n",
      "N.W.A. Straight Outta Compton 5795990\n"
     ]
    },
    {
     "name": "stderr",
     "output_type": "stream",
     "text": [
      "\r",
      " 81%|████████████████████████████████████████████████████████████████████████████████████▋                    | 804/997 [2:51:41<46:29, 14.45s/it]"
     ]
    },
    {
     "name": "stdout",
     "output_type": "stream",
     "text": [
      "No objects to concatenate\n",
      "Panic! At The Disco I Write Sins Not Tragedies 4549990\n"
     ]
    },
    {
     "name": "stderr",
     "output_type": "stream",
     "text": [
      "\r",
      " 81%|████████████████████████████████████████████████████████████████████████████████████▊                    | 805/997 [2:51:46<37:10, 11.62s/it]"
     ]
    },
    {
     "name": "stdout",
     "output_type": "stream",
     "text": [
      "No objects to concatenate\n",
      "Lana Del Rey Young And Beautiful 5141990\n"
     ]
    },
    {
     "name": "stderr",
     "output_type": "stream",
     "text": [
      "\r",
      " 81%|████████████████████████████████████████████████████████████████████████████████████▉                    | 806/997 [2:52:03<42:43, 13.42s/it]"
     ]
    },
    {
     "name": "stdout",
     "output_type": "stream",
     "text": [
      "No objects to concatenate\n",
      "Alesso Heroes (we could be) 5519990\n"
     ]
    },
    {
     "name": "stderr",
     "output_type": "stream",
     "text": [
      "\r",
      " 81%|████████████████████████████████████████████████████████████████████████████████████▉                    | 807/997 [2:52:20<46:06, 14.56s/it]"
     ]
    },
    {
     "name": "stdout",
     "output_type": "stream",
     "text": [
      "No objects to concatenate\n",
      "The Head and the Heart Rivers And Roads 5894990\n"
     ]
    },
    {
     "name": "stderr",
     "output_type": "stream",
     "text": [
      "\r",
      " 81%|█████████████████████████████████████████████████████████████████████████████████████                    | 808/997 [2:52:37<48:00, 15.24s/it]"
     ]
    },
    {
     "name": "stdout",
     "output_type": "stream",
     "text": [
      "No objects to concatenate\n",
      "Icona Pop I Love It (feat. Charli XCX) - feat. Charli XCX [Original Version] 4902990\n"
     ]
    },
    {
     "name": "stderr",
     "output_type": "stream",
     "text": [
      "\r",
      " 81%|█████████████████████████████████████████████████████████████████████████████████████▏                   | 809/997 [2:52:38<34:18, 10.95s/it]"
     ]
    },
    {
     "name": "stdout",
     "output_type": "stream",
     "text": [
      "No objects to concatenate\n",
      "Vance Joy Georgia 4534990\n"
     ]
    },
    {
     "name": "stderr",
     "output_type": "stream",
     "text": [
      "\r",
      " 81%|█████████████████████████████████████████████████████████████████████████████████████▎                   | 810/997 [2:52:55<39:12, 12.58s/it]"
     ]
    },
    {
     "name": "stdout",
     "output_type": "stream",
     "text": [
      "No objects to concatenate\n",
      "Drake Jungle 6118990\n"
     ]
    },
    {
     "name": "stderr",
     "output_type": "stream",
     "text": [
      "\r",
      " 81%|█████████████████████████████████████████████████████████████████████████████████████▍                   | 811/997 [2:53:09<40:18, 13.00s/it]"
     ]
    },
    {
     "name": "stdout",
     "output_type": "stream",
     "text": [
      "No objects to concatenate\n",
      "Franz Ferdinand Take Me Out 5099990\n"
     ]
    },
    {
     "name": "stderr",
     "output_type": "stream",
     "text": [
      "\r",
      " 81%|█████████████████████████████████████████████████████████████████████████████████████▌                   | 812/997 [2:53:13<32:26, 10.52s/it]"
     ]
    },
    {
     "name": "stdout",
     "output_type": "stream",
     "text": [
      "No objects to concatenate\n",
      "T-Pain Dan Bilzerian 4698990\n"
     ]
    },
    {
     "name": "stderr",
     "output_type": "stream",
     "text": [
      "\r",
      " 82%|█████████████████████████████████████████████████████████████████████████████████████▌                   | 813/997 [2:53:27<35:05, 11.44s/it]"
     ]
    },
    {
     "name": "stdout",
     "output_type": "stream",
     "text": [
      "No objects to concatenate\n",
      "ScHoolboy Q THat Part 4287990\n"
     ]
    },
    {
     "name": "stderr",
     "output_type": "stream",
     "text": [
      "\r",
      " 82%|█████████████████████████████████████████████████████████████████████████████████████▋                   | 814/997 [2:53:40<36:50, 12.08s/it]"
     ]
    },
    {
     "name": "stdout",
     "output_type": "stream",
     "text": [
      "No objects to concatenate\n",
      "YFN Lucci Everyday We Lit (feat. PnB Rock) 4491990\n"
     ]
    },
    {
     "name": "stderr",
     "output_type": "stream",
     "text": [
      "\r",
      " 82%|█████████████████████████████████████████████████████████████████████████████████████▊                   | 815/997 [2:53:58<41:59, 13.84s/it]"
     ]
    },
    {
     "name": "stdout",
     "output_type": "stream",
     "text": [
      "No objects to concatenate\n",
      "Dirty Heads Lay Me Down 5431990\n"
     ]
    },
    {
     "name": "stderr",
     "output_type": "stream",
     "text": [
      "\r",
      " 82%|█████████████████████████████████████████████████████████████████████████████████████▉                   | 816/997 [2:53:59<29:34,  9.81s/it]"
     ]
    },
    {
     "name": "stdout",
     "output_type": "stream",
     "text": [
      "No objects to concatenate\n",
      "Beyoncé Irreplaceable 6550990\n"
     ]
    },
    {
     "name": "stderr",
     "output_type": "stream",
     "text": [
      "\r",
      " 82%|██████████████████████████████████████████████████████████████████████████████████████                   | 817/997 [2:54:16<36:25, 12.14s/it]"
     ]
    },
    {
     "name": "stdout",
     "output_type": "stream",
     "text": [
      "No objects to concatenate\n",
      "American Authors Best Day Of My Life 4297990\n"
     ]
    },
    {
     "name": "stderr",
     "output_type": "stream",
     "text": [
      "\r",
      " 82%|██████████████████████████████████████████████████████████████████████████████████████▏                  | 818/997 [2:54:21<29:22,  9.85s/it]"
     ]
    },
    {
     "name": "stdout",
     "output_type": "stream",
     "text": [
      "No objects to concatenate\n",
      "J. Cole She Knows 5025990\n"
     ]
    },
    {
     "name": "stderr",
     "output_type": "stream",
     "text": [
      "\r",
      " 82%|██████████████████████████████████████████████████████████████████████████████████████▎                  | 819/997 [2:54:34<32:26, 10.93s/it]"
     ]
    },
    {
     "name": "stdout",
     "output_type": "stream",
     "text": [
      "No objects to concatenate\n",
      "Hozier From Eden 4092990\n"
     ]
    },
    {
     "name": "stderr",
     "output_type": "stream",
     "text": [
      "\r",
      " 82%|██████████████████████████████████████████████████████████████████████████████████████▎                  | 820/997 [2:54:35<23:17,  7.90s/it]"
     ]
    },
    {
     "name": "stdout",
     "output_type": "stream",
     "text": [
      "No objects to concatenate\n",
      "John Denver Take Me Home, Country Roads 6220990\n"
     ]
    },
    {
     "name": "stderr",
     "output_type": "stream",
     "text": [
      "\r",
      " 82%|██████████████████████████████████████████████████████████████████████████████████████▍                  | 821/997 [2:54:41<21:33,  7.35s/it]"
     ]
    },
    {
     "name": "stdout",
     "output_type": "stream",
     "text": [
      "No objects to concatenate\n",
      "Chance The Rapper Mixtape (feat. Young Thug & Lil Yachty) 4536990\n"
     ]
    },
    {
     "name": "stderr",
     "output_type": "stream",
     "text": [
      "\r",
      " 82%|██████████████████████████████████████████████████████████████████████████████████████▌                  | 822/997 [2:54:59<30:34, 10.48s/it]"
     ]
    },
    {
     "name": "stdout",
     "output_type": "stream",
     "text": [
      "No objects to concatenate\n",
      "Chance The Rapper Smoke Break (feat. Future) 5212990\n"
     ]
    },
    {
     "name": "stderr",
     "output_type": "stream",
     "text": [
      "\r",
      " 83%|██████████████████████████████████████████████████████████████████████████████████████▋                  | 823/997 [2:55:12<32:57, 11.37s/it]"
     ]
    },
    {
     "name": "stdout",
     "output_type": "stream",
     "text": [
      "No objects to concatenate\n",
      "Chance The Rapper Summer Friends (feat. Jeremih & Francis & The Lights) 5764990\n"
     ]
    },
    {
     "name": "stderr",
     "output_type": "stream",
     "text": [
      "\r",
      " 83%|██████████████████████████████████████████████████████████████████████████████████████▊                  | 824/997 [2:55:32<40:13, 13.95s/it]"
     ]
    },
    {
     "name": "stdout",
     "output_type": "stream",
     "text": [
      "G-Eazy You Got Me 5019990\n"
     ]
    },
    {
     "name": "stderr",
     "output_type": "stream",
     "text": [
      "\r",
      " 83%|██████████████████████████████████████████████████████████████████████████████████████▉                  | 825/997 [2:55:42<36:33, 12.75s/it]"
     ]
    },
    {
     "name": "stdout",
     "output_type": "stream",
     "text": [
      "No objects to concatenate\n",
      "Bon Jovi It's My Life 5227990\n"
     ]
    },
    {
     "name": "stderr",
     "output_type": "stream",
     "text": [
      "\r",
      " 83%|██████████████████████████████████████████████████████████████████████████████████████▉                  | 826/997 [2:55:57<38:10, 13.39s/it]"
     ]
    },
    {
     "name": "stdout",
     "output_type": "stream",
     "text": [
      "No objects to concatenate\n",
      "Leona Lewis Bleeding Love 5276990\n"
     ]
    },
    {
     "name": "stderr",
     "output_type": "stream",
     "text": [
      "\r",
      " 83%|███████████████████████████████████████████████████████████████████████████████████████                  | 827/997 [2:56:15<41:21, 14.60s/it]"
     ]
    },
    {
     "name": "stdout",
     "output_type": "stream",
     "text": [
      "No objects to concatenate\n",
      "G-Eazy Lady Killers (feat. Hoodie Allen) 4718990\n"
     ]
    },
    {
     "name": "stderr",
     "output_type": "stream",
     "text": [
      "\r",
      " 83%|███████████████████████████████████████████████████████████████████████████████████████▏                 | 828/997 [2:56:34<44:46, 15.89s/it]"
     ]
    },
    {
     "name": "stdout",
     "output_type": "stream",
     "text": [
      "The Monkees I'm a Believer 4651990\n"
     ]
    },
    {
     "name": "stderr",
     "output_type": "stream",
     "text": [
      "\r",
      " 83%|███████████████████████████████████████████████████████████████████████████████████████▎                 | 829/997 [2:56:38<35:07, 12.55s/it]"
     ]
    },
    {
     "name": "stdout",
     "output_type": "stream",
     "text": [
      "No objects to concatenate\n",
      "Red Hot Chili Peppers Dani California 3705990\n"
     ]
    },
    {
     "name": "stderr",
     "output_type": "stream",
     "text": [
      "\r",
      " 83%|███████████████████████████████████████████████████████████████████████████████████████▍                 | 830/997 [2:56:56<39:14, 14.10s/it]"
     ]
    },
    {
     "name": "stdout",
     "output_type": "stream",
     "text": [
      "No objects to concatenate\n",
      "G-Eazy Calm Down 3484990\n"
     ]
    },
    {
     "name": "stderr",
     "output_type": "stream",
     "text": [
      "\r",
      " 83%|███████████████████████████████████████████████████████████████████████████████████████▌                 | 831/997 [2:57:15<42:49, 15.48s/it]"
     ]
    },
    {
     "name": "stdout",
     "output_type": "stream",
     "text": [
      "U2 With Or Without You 6926990\n"
     ]
    },
    {
     "name": "stderr",
     "output_type": "stream",
     "text": [
      "\r",
      " 83%|███████████████████████████████████████████████████████████████████████████████████████▌                 | 832/997 [2:57:20<33:46, 12.28s/it]"
     ]
    },
    {
     "name": "stdout",
     "output_type": "stream",
     "text": [
      "No objects to concatenate\n",
      "Steppenwolf Born To Be Wild 3772991\n"
     ]
    },
    {
     "name": "stderr",
     "output_type": "stream",
     "text": [
      "\r",
      " 84%|███████████████████████████████████████████████████████████████████████████████████████▋                 | 833/997 [2:57:25<28:14, 10.33s/it]"
     ]
    },
    {
     "name": "stdout",
     "output_type": "stream",
     "text": [
      "No objects to concatenate\n",
      "Young Money Trophies 5601991\n"
     ]
    },
    {
     "name": "stderr",
     "output_type": "stream",
     "text": [
      "\r",
      " 84%|███████████████████████████████████████████████████████████████████████████████████████▊                 | 834/997 [2:57:37<29:09, 10.74s/it]"
     ]
    },
    {
     "name": "stdout",
     "output_type": "stream",
     "text": [
      "No objects to concatenate\n",
      "Logic Alright 4065991\n"
     ]
    },
    {
     "name": "stderr",
     "output_type": "stream",
     "text": [
      "\r",
      " 84%|███████████████████████████████████████████████████████████████████████████████████████▉                 | 835/997 [2:57:54<33:53, 12.55s/it]"
     ]
    },
    {
     "name": "stdout",
     "output_type": "stream",
     "text": [
      "No objects to concatenate\n",
      "Drake Over 5541991\n"
     ]
    },
    {
     "name": "stderr",
     "output_type": "stream",
     "text": [
      "\r",
      " 84%|████████████████████████████████████████████████████████████████████████████████████████                 | 836/997 [2:58:12<38:23, 14.31s/it]"
     ]
    },
    {
     "name": "stdout",
     "output_type": "stream",
     "text": [
      "Young Thug Wyclef Jean 4079991\n"
     ]
    },
    {
     "name": "stderr",
     "output_type": "stream",
     "text": [
      "\r",
      " 84%|████████████████████████████████████████████████████████████████████████████████████████▏                | 837/997 [2:58:26<37:33, 14.09s/it]"
     ]
    },
    {
     "name": "stdout",
     "output_type": "stream",
     "text": [
      "No objects to concatenate\n",
      "DMX Party Up 5100991\n"
     ]
    },
    {
     "name": "stderr",
     "output_type": "stream",
     "text": [
      "\r",
      " 84%|████████████████████████████████████████████████████████████████████████████████████████▎                | 838/997 [2:58:43<39:34, 14.93s/it]"
     ]
    },
    {
     "name": "stdout",
     "output_type": "stream",
     "text": [
      "No objects to concatenate\n",
      "Ellie Goulding Burn 3008991\n"
     ]
    },
    {
     "name": "stderr",
     "output_type": "stream",
     "text": [
      "\r",
      " 84%|████████████████████████████████████████████████████████████████████████████████████████▎                | 839/997 [2:59:01<41:50, 15.89s/it]"
     ]
    },
    {
     "name": "stdout",
     "output_type": "stream",
     "text": [
      "No objects to concatenate\n",
      "Alina Baraz Electric (feat. Khalid) 2578991\n"
     ]
    },
    {
     "name": "stderr",
     "output_type": "stream",
     "text": [
      "\r",
      " 84%|████████████████████████████████████████████████████████████████████████████████████████▍                | 840/997 [2:59:13<38:42, 14.79s/it]"
     ]
    },
    {
     "name": "stdout",
     "output_type": "stream",
     "text": [
      "No objects to concatenate\n",
      "Drake Grammys 4631991\n"
     ]
    },
    {
     "name": "stderr",
     "output_type": "stream",
     "text": [
      "\r",
      " 84%|████████████████████████████████████████████████████████████████████████████████████████▌                | 841/997 [2:59:21<32:46, 12.61s/it]"
     ]
    },
    {
     "name": "stdout",
     "output_type": "stream",
     "text": [
      "No objects to concatenate\n",
      "Alina Baraz Fantasy 3775991\n"
     ]
    },
    {
     "name": "stderr",
     "output_type": "stream",
     "text": [
      "\r",
      " 84%|████████████████████████████████████████████████████████████████████████████████████████▋                | 842/997 [2:59:39<36:45, 14.23s/it]"
     ]
    },
    {
     "name": "stdout",
     "output_type": "stream",
     "text": [
      "No objects to concatenate\n",
      "Ed Sheeran Dive 5214991\n"
     ]
    },
    {
     "name": "stderr",
     "output_type": "stream",
     "text": [
      "\r",
      " 85%|████████████████████████████████████████████████████████████████████████████████████████▊                | 843/997 [2:59:55<38:05, 14.84s/it]"
     ]
    },
    {
     "name": "stdout",
     "output_type": "stream",
     "text": [
      "No objects to concatenate\n",
      "T-Pain Up Down (Do This All Day) 2500991\n"
     ]
    },
    {
     "name": "stderr",
     "output_type": "stream",
     "text": [
      "\r",
      " 85%|████████████████████████████████████████████████████████████████████████████████████████▉                | 844/997 [3:00:12<39:18, 15.42s/it]"
     ]
    },
    {
     "name": "stdout",
     "output_type": "stream",
     "text": [
      "No objects to concatenate\n",
      "Lady Gaga Bad Romance 6747991\n"
     ]
    },
    {
     "name": "stderr",
     "output_type": "stream",
     "text": [
      "\r",
      " 85%|████████████████████████████████████████████████████████████████████████████████████████▉                | 845/997 [3:00:12<27:50, 10.99s/it]"
     ]
    },
    {
     "name": "stdout",
     "output_type": "stream",
     "text": [
      "No objects to concatenate\n",
      "T-Wayne Nasty Freestyle 4839991\n"
     ]
    },
    {
     "name": "stderr",
     "output_type": "stream",
     "text": [
      "\r",
      " 85%|█████████████████████████████████████████████████████████████████████████████████████████                | 846/997 [3:00:29<32:00, 12.72s/it]"
     ]
    },
    {
     "name": "stdout",
     "output_type": "stream",
     "text": [
      "No objects to concatenate\n",
      "Lady Gaga Poker Face 5483991\n"
     ]
    },
    {
     "name": "stderr",
     "output_type": "stream",
     "text": [
      "\r",
      " 85%|█████████████████████████████████████████████████████████████████████████████████████████▏               | 847/997 [3:00:47<35:23, 14.16s/it]"
     ]
    },
    {
     "name": "stdout",
     "output_type": "stream",
     "text": [
      "No objects to concatenate\n",
      "Ne-Yo Let Me Love You (Until You Learn To Love Yourself) 4019991\n"
     ]
    },
    {
     "name": "stderr",
     "output_type": "stream",
     "text": [
      "\r",
      " 85%|█████████████████████████████████████████████████████████████████████████████████████████▎               | 848/997 [3:01:03<36:51, 14.84s/it]"
     ]
    },
    {
     "name": "stdout",
     "output_type": "stream",
     "text": [
      "No objects to concatenate\n",
      "Andy Grammer Fresh Eyes 3145991\n"
     ]
    },
    {
     "name": "stderr",
     "output_type": "stream",
     "text": [
      "\r",
      " 85%|█████████████████████████████████████████████████████████████████████████████████████████▍               | 849/997 [3:01:16<34:56, 14.17s/it]"
     ]
    },
    {
     "name": "stdout",
     "output_type": "stream",
     "text": [
      "No objects to concatenate\n",
      "Nelly The Fix (feat. Jeremih) 4424991\n"
     ]
    },
    {
     "name": "stderr",
     "output_type": "stream",
     "text": [
      "\r",
      " 85%|█████████████████████████████████████████████████████████████████████████████████████████▌               | 850/997 [3:01:28<33:37, 13.73s/it]"
     ]
    },
    {
     "name": "stdout",
     "output_type": "stream",
     "text": [
      "No objects to concatenate\n",
      "Sugar Ray Every Morning 5739991\n"
     ]
    },
    {
     "name": "stderr",
     "output_type": "stream",
     "text": [
      "\r",
      " 85%|█████████████████████████████████████████████████████████████████████████████████████████▌               | 851/997 [3:01:33<26:59, 11.09s/it]"
     ]
    },
    {
     "name": "stdout",
     "output_type": "stream",
     "text": [
      "No objects to concatenate\n",
      "YG My Nigga 3431991\n"
     ]
    },
    {
     "name": "stderr",
     "output_type": "stream",
     "text": [
      "\r",
      " 85%|█████████████████████████████████████████████████████████████████████████████████████████▋               | 852/997 [3:01:50<31:05, 12.87s/it]"
     ]
    },
    {
     "name": "stdout",
     "output_type": "stream",
     "text": [
      "No objects to concatenate\n",
      "YG Why You Always Hatin? 3913991\n"
     ]
    },
    {
     "name": "stderr",
     "output_type": "stream",
     "text": [
      "\r",
      " 86%|█████████████████████████████████████████████████████████████████████████████████████████▊               | 853/997 [3:02:07<33:51, 14.11s/it]"
     ]
    },
    {
     "name": "stdout",
     "output_type": "stream",
     "text": [
      "No objects to concatenate\n",
      "DJ Khaled All I Do Is Win 5460991\n"
     ]
    },
    {
     "name": "stderr",
     "output_type": "stream",
     "text": [
      "\r",
      " 86%|█████████████████████████████████████████████████████████████████████████████████████████▉               | 854/997 [3:02:21<33:31, 14.07s/it]"
     ]
    },
    {
     "name": "stdout",
     "output_type": "stream",
     "text": [
      "No objects to concatenate\n",
      "David Guetta Bad (feat. Vassy) - Radio Edit 3881991\n"
     ]
    },
    {
     "name": "stderr",
     "output_type": "stream",
     "text": [
      "\r",
      " 86%|██████████████████████████████████████████████████████████████████████████████████████████               | 855/997 [3:02:38<35:16, 14.90s/it]"
     ]
    },
    {
     "name": "stdout",
     "output_type": "stream",
     "text": [
      "No objects to concatenate\n",
      "Cream Sunshine Of Your Love 3064991\n"
     ]
    },
    {
     "name": "stderr",
     "output_type": "stream",
     "text": [
      "\r",
      " 86%|██████████████████████████████████████████████████████████████████████████████████████████▏              | 856/997 [3:02:44<28:30, 12.13s/it]"
     ]
    },
    {
     "name": "stdout",
     "output_type": "stream",
     "text": [
      "No objects to concatenate\n",
      "Tal Bachman She's so High 3974991\n"
     ]
    },
    {
     "name": "stderr",
     "output_type": "stream",
     "text": [
      "\r",
      " 86%|██████████████████████████████████████████████████████████████████████████████████████████▎              | 857/997 [3:02:49<23:47, 10.20s/it]"
     ]
    },
    {
     "name": "stdout",
     "output_type": "stream",
     "text": [
      "No objects to concatenate\n",
      "Styx Come Sail Away 5149991\n"
     ]
    },
    {
     "name": "stderr",
     "output_type": "stream",
     "text": [
      "\r",
      " 86%|██████████████████████████████████████████████████████████████████████████████████████████▎              | 858/997 [3:02:54<19:40,  8.49s/it]"
     ]
    },
    {
     "name": "stdout",
     "output_type": "stream",
     "text": [
      "No objects to concatenate\n",
      "David Guetta Bang My Head (feat. Sia & Fetty Wap) 5048991\n"
     ]
    },
    {
     "name": "stderr",
     "output_type": "stream",
     "text": [
      "\r",
      " 86%|██████████████████████████████████████████████████████████████████████████████████████████▍              | 859/997 [3:03:02<19:21,  8.42s/it]"
     ]
    },
    {
     "name": "stdout",
     "output_type": "stream",
     "text": [
      "No objects to concatenate\n",
      "DJ Khaled I'm On One 5379991\n"
     ]
    },
    {
     "name": "stderr",
     "output_type": "stream",
     "text": [
      "\r",
      " 86%|██████████████████████████████████████████████████████████████████████████████████████████▌              | 860/997 [3:03:15<22:19,  9.78s/it]"
     ]
    },
    {
     "name": "stdout",
     "output_type": "stream",
     "text": [
      "No objects to concatenate\n",
      "Nelly Hot In Herre 5188991\n"
     ]
    },
    {
     "name": "stderr",
     "output_type": "stream",
     "text": [
      "\r",
      " 86%|██████████████████████████████████████████████████████████████████████████████████████████▋              | 861/997 [3:03:33<27:28, 12.12s/it]"
     ]
    },
    {
     "name": "stdout",
     "output_type": "stream",
     "text": [
      "No objects to concatenate\n",
      "Ariana Grande Love Me Harder 4494991\n"
     ]
    },
    {
     "name": "stderr",
     "output_type": "stream",
     "text": [
      "\r",
      " 86%|██████████████████████████████████████████████████████████████████████████████████████████▊              | 862/997 [3:03:45<27:41, 12.31s/it]"
     ]
    },
    {
     "name": "stdout",
     "output_type": "stream",
     "text": [
      "No objects to concatenate\n",
      "Lil Wayne How To Love 4592991\n"
     ]
    },
    {
     "name": "stderr",
     "output_type": "stream",
     "text": [
      "\r",
      " 87%|██████████████████████████████████████████████████████████████████████████████████████████▉              | 863/997 [3:04:03<30:53, 13.84s/it]"
     ]
    },
    {
     "name": "stdout",
     "output_type": "stream",
     "text": [
      "No objects to concatenate\n",
      "Nickelback Burn it to the Ground 3729991\n"
     ]
    },
    {
     "name": "stderr",
     "output_type": "stream",
     "text": [
      "\r",
      " 87%|██████████████████████████████████████████████████████████████████████████████████████████▉              | 864/997 [3:04:07<24:33, 11.08s/it]"
     ]
    },
    {
     "name": "stdout",
     "output_type": "stream",
     "text": [
      "No objects to concatenate\n",
      "Tame Impala Feels Like We Only Go Backwards 4753991\n"
     ]
    },
    {
     "name": "stderr",
     "output_type": "stream",
     "text": [
      "\r",
      " 87%|███████████████████████████████████████████████████████████████████████████████████████████              | 865/997 [3:04:24<27:39, 12.57s/it]"
     ]
    },
    {
     "name": "stdout",
     "output_type": "stream",
     "text": [
      "No objects to concatenate\n",
      "Drake With You 4735991\n"
     ]
    },
    {
     "name": "stderr",
     "output_type": "stream",
     "text": [
      "\r",
      " 87%|███████████████████████████████████████████████████████████████████████████████████████████▏             | 866/997 [3:04:39<29:29, 13.51s/it]"
     ]
    },
    {
     "name": "stdout",
     "output_type": "stream",
     "text": [
      "No objects to concatenate\n",
      "Nickelback How You Remind Me - LP Mix 3889991\n",
      "No objects to concatenate\n",
      "Kodak Black Skrt 2774991\n"
     ]
    },
    {
     "name": "stderr",
     "output_type": "stream",
     "text": [
      "\r",
      " 87%|███████████████████████████████████████████████████████████████████████████████████████████▍             | 868/997 [3:04:56<25:43, 11.96s/it]"
     ]
    },
    {
     "name": "stdout",
     "output_type": "stream",
     "text": [
      "No objects to concatenate\n",
      "One Direction Story of My Life 3974991\n"
     ]
    },
    {
     "name": "stderr",
     "output_type": "stream",
     "text": [
      "\r",
      " 87%|███████████████████████████████████████████████████████████████████████████████████████████▌             | 869/997 [3:05:08<25:37, 12.01s/it]"
     ]
    },
    {
     "name": "stdout",
     "output_type": "stream",
     "text": [
      "No objects to concatenate\n",
      "Nirvana All Apologies 3312991\n"
     ]
    },
    {
     "name": "stderr",
     "output_type": "stream",
     "text": [
      "\r",
      " 87%|███████████████████████████████████████████████████████████████████████████████████████████▌             | 870/997 [3:05:13<20:50,  9.85s/it]"
     ]
    },
    {
     "name": "stdout",
     "output_type": "stream",
     "text": [
      "No objects to concatenate\n",
      "Sam Hunt Ex To See 4323991\n"
     ]
    },
    {
     "name": "stderr",
     "output_type": "stream",
     "text": [
      "\r",
      " 87%|███████████████████████████████████████████████████████████████████████████████████████████▋             | 871/997 [3:05:19<18:12,  8.67s/it]"
     ]
    },
    {
     "name": "stdout",
     "output_type": "stream",
     "text": [
      "No objects to concatenate\n",
      "Rupert Holmes Escape (The Pina Colada Song) 5523991\n"
     ]
    },
    {
     "name": "stderr",
     "output_type": "stream",
     "text": [
      "\r",
      " 87%|███████████████████████████████████████████████████████████████████████████████████████████▊             | 872/997 [3:05:34<22:06, 10.61s/it]"
     ]
    },
    {
     "name": "stdout",
     "output_type": "stream",
     "text": [
      "No objects to concatenate\n",
      "Green Day Holiday/Boulevard Of Broken Dreams 3056991\n"
     ]
    },
    {
     "name": "stderr",
     "output_type": "stream",
     "text": [
      "\r",
      " 88%|███████████████████████████████████████████████████████████████████████████████████████████▉             | 873/997 [3:05:39<18:42,  9.05s/it]"
     ]
    },
    {
     "name": "stdout",
     "output_type": "stream",
     "text": [
      "No objects to concatenate\n",
      "Green Day Good Riddance (Time of Your Life) 4638991\n"
     ]
    },
    {
     "name": "stderr",
     "output_type": "stream",
     "text": [
      "\r",
      " 88%|████████████████████████████████████████████████████████████████████████████████████████████             | 874/997 [3:05:45<16:17,  7.95s/it]"
     ]
    },
    {
     "name": "stdout",
     "output_type": "stream",
     "text": [
      "No objects to concatenate\n",
      "Gorillaz Clint Eastwood 4470991\n"
     ]
    },
    {
     "name": "stderr",
     "output_type": "stream",
     "text": [
      "\r",
      " 88%|████████████████████████████████████████████████████████████████████████████████████████████▏            | 875/997 [3:05:50<14:18,  7.04s/it]"
     ]
    },
    {
     "name": "stdout",
     "output_type": "stream",
     "text": [
      "No objects to concatenate\n",
      "Good Charlotte The Anthem 3732991\n"
     ]
    },
    {
     "name": "stderr",
     "output_type": "stream",
     "text": [
      "\r",
      " 88%|████████████████████████████████████████████████████████████████████████████████████████████▎            | 876/997 [3:05:55<13:16,  6.58s/it]"
     ]
    },
    {
     "name": "stdout",
     "output_type": "stream",
     "text": [
      "No objects to concatenate\n",
      "Thomas Rhett Get Me Some Of That 3101991\n"
     ]
    },
    {
     "name": "stderr",
     "output_type": "stream",
     "text": [
      "\r",
      " 88%|████████████████████████████████████████████████████████████████████████████████████████████▎            | 877/997 [3:06:01<12:33,  6.28s/it]"
     ]
    },
    {
     "name": "stdout",
     "output_type": "stream",
     "text": [
      "No objects to concatenate\n",
      "Thomas Rhett Crash And Burn 5495991\n"
     ]
    },
    {
     "name": "stderr",
     "output_type": "stream",
     "text": [
      "\r",
      " 88%|████████████████████████████████████████████████████████████████████████████████████████████▍            | 878/997 [3:06:06<11:57,  6.03s/it]"
     ]
    },
    {
     "name": "stdout",
     "output_type": "stream",
     "text": [
      "No objects to concatenate\n",
      "Twenty One Pilots House Of Gold 3547991\n"
     ]
    },
    {
     "name": "stderr",
     "output_type": "stream",
     "text": [
      "\r",
      " 88%|████████████████████████████████████████████████████████████████████████████████████████████▌            | 879/997 [3:06:11<11:04,  5.63s/it]"
     ]
    },
    {
     "name": "stdout",
     "output_type": "stream",
     "text": [
      "No objects to concatenate\n",
      "Sam Cooke (What A) Wonderful World - Remastered 4086991\n"
     ]
    },
    {
     "name": "stderr",
     "output_type": "stream",
     "text": [
      "\r",
      " 88%|████████████████████████████████████████████████████████████████████████████████████████████▋            | 880/997 [3:06:26<16:38,  8.54s/it]"
     ]
    },
    {
     "name": "stdout",
     "output_type": "stream",
     "text": [
      "No objects to concatenate\n",
      "Sam Feldt Show Me Love - EDX Remix / Radio Edit 5288991\n"
     ]
    },
    {
     "name": "stderr",
     "output_type": "stream",
     "text": [
      "\r",
      " 88%|████████████████████████████████████████████████████████████████████████████████████████████▊            | 881/997 [3:06:43<21:11, 10.96s/it]"
     ]
    },
    {
     "name": "stdout",
     "output_type": "stream",
     "text": [
      "No objects to concatenate\n",
      "Cascada Everytime We Touch - Radio Edit 4872991\n"
     ]
    },
    {
     "name": "stderr",
     "output_type": "stream",
     "text": [
      "\r",
      " 88%|████████████████████████████████████████████████████████████████████████████████████████████▉            | 882/997 [3:07:00<24:43, 12.90s/it]"
     ]
    },
    {
     "name": "stdout",
     "output_type": "stream",
     "text": [
      "No objects to concatenate\n",
      "Billy Joel Uptown Girl 4267991\n"
     ]
    },
    {
     "name": "stderr",
     "output_type": "stream",
     "text": [
      "\r",
      " 89%|████████████████████████████████████████████████████████████████████████████████████████████▉            | 883/997 [3:07:05<19:48, 10.43s/it]"
     ]
    },
    {
     "name": "stdout",
     "output_type": "stream",
     "text": [
      "No objects to concatenate\n",
      "Ty Dolla $ign Saved (feat. E-40) 4438991\n"
     ]
    },
    {
     "name": "stderr",
     "output_type": "stream",
     "text": [
      "\r",
      " 89%|█████████████████████████████████████████████████████████████████████████████████████████████            | 884/997 [3:07:18<20:59, 11.15s/it]"
     ]
    },
    {
     "name": "stdout",
     "output_type": "stream",
     "text": [
      "No objects to concatenate\n",
      "Deorro Five More Hours - Deorro x Chris Brown 4013991\n"
     ]
    },
    {
     "name": "stderr",
     "output_type": "stream",
     "text": [
      "\r",
      " 89%|█████████████████████████████████████████████████████████████████████████████████████████████▏           | 885/997 [3:07:35<24:16, 13.00s/it]"
     ]
    },
    {
     "name": "stdout",
     "output_type": "stream",
     "text": [
      "No objects to concatenate\n",
      "Sam Hunt Make You Miss Me 3252991\n"
     ]
    },
    {
     "name": "stderr",
     "output_type": "stream",
     "text": [
      "\r",
      " 89%|█████████████████████████████████████████████████████████████████████████████████████████████▎           | 886/997 [3:07:40<19:44, 10.67s/it]"
     ]
    },
    {
     "name": "stdout",
     "output_type": "stream",
     "text": [
      "No objects to concatenate\n",
      "Big Sean No Favors 4716991\n"
     ]
    },
    {
     "name": "stderr",
     "output_type": "stream",
     "text": [
      "\r",
      " 89%|█████████████████████████████████████████████████████████████████████████████████████████████▍           | 887/997 [3:07:54<21:11, 11.56s/it]"
     ]
    },
    {
     "name": "stdout",
     "output_type": "stream",
     "text": [
      "No objects to concatenate\n",
      "Big Sean Jump Out The Window 3332991\n"
     ]
    },
    {
     "name": "stderr",
     "output_type": "stream",
     "text": [
      "\r",
      " 89%|█████████████████████████████████████████████████████████████████████████████████████████████▌           | 888/997 [3:08:10<23:36, 12.99s/it]"
     ]
    },
    {
     "name": "stdout",
     "output_type": "stream",
     "text": [
      "No objects to concatenate\n",
      "Big Sean Dance (A$$) Remix 4572991\n"
     ]
    },
    {
     "name": "stderr",
     "output_type": "stream",
     "text": [
      "\r",
      " 89%|█████████████████████████████████████████████████████████████████████████████████████████████▋           | 889/997 [3:08:23<23:13, 12.90s/it]"
     ]
    },
    {
     "name": "stdout",
     "output_type": "stream",
     "text": [
      "No objects to concatenate\n",
      "Chance The Rapper Angels (feat. Saba) 3765991\n"
     ]
    },
    {
     "name": "stderr",
     "output_type": "stream",
     "text": [
      "\r",
      " 89%|█████████████████████████████████████████████████████████████████████████████████████████████▋           | 890/997 [3:08:40<24:58, 14.00s/it]"
     ]
    },
    {
     "name": "stdout",
     "output_type": "stream",
     "text": [
      "No objects to concatenate\n",
      "Big Sean Beware 2718991\n"
     ]
    },
    {
     "name": "stderr",
     "output_type": "stream",
     "text": [
      "\r",
      " 89%|█████████████████████████████████████████████████████████████████████████████████████████████▊           | 891/997 [3:08:53<24:19, 13.76s/it]"
     ]
    },
    {
     "name": "stdout",
     "output_type": "stream",
     "text": [
      "No objects to concatenate\n",
      "Big Pun Still Not a Player (Remix) - Radio Version 4634991\n"
     ]
    },
    {
     "name": "stderr",
     "output_type": "stream",
     "text": [
      "\r",
      " 89%|█████████████████████████████████████████████████████████████████████████████████████████████▉           | 892/997 [3:09:10<25:49, 14.76s/it]"
     ]
    },
    {
     "name": "stdout",
     "output_type": "stream",
     "text": [
      "No objects to concatenate\n",
      "Phillip Phillips Home 4559991\n"
     ]
    },
    {
     "name": "stderr",
     "output_type": "stream",
     "text": [
      "\r",
      " 90%|██████████████████████████████████████████████████████████████████████████████████████████████           | 893/997 [3:09:15<20:23, 11.76s/it]"
     ]
    },
    {
     "name": "stdout",
     "output_type": "stream",
     "text": [
      "No objects to concatenate\n",
      "G-Eazy Random 4470991\n"
     ]
    },
    {
     "name": "stderr",
     "output_type": "stream",
     "text": [
      "\r",
      " 90%|██████████████████████████████████████████████████████████████████████████████████████████████▏          | 894/997 [3:09:25<19:26, 11.32s/it]"
     ]
    },
    {
     "name": "stdout",
     "output_type": "stream",
     "text": [
      "No objects to concatenate\n",
      "The Weeknd Reminder 4184991\n"
     ]
    },
    {
     "name": "stderr",
     "output_type": "stream",
     "text": [
      "\r",
      " 90%|██████████████████████████████████████████████████████████████████████████████████████████████▎          | 895/997 [3:09:38<20:22, 11.99s/it]"
     ]
    },
    {
     "name": "stdout",
     "output_type": "stream",
     "text": [
      "No objects to concatenate\n",
      "Petit Biscuit Sunset Lover 4329991\n"
     ]
    },
    {
     "name": "stderr",
     "output_type": "stream",
     "text": [
      "\r",
      " 90%|██████████████████████████████████████████████████████████████████████████████████████████████▎          | 896/997 [3:09:51<20:32, 12.21s/it]"
     ]
    },
    {
     "name": "stdout",
     "output_type": "stream",
     "text": [
      "No objects to concatenate\n",
      "Johnny Cash Hurt 3920991\n"
     ]
    },
    {
     "name": "stderr",
     "output_type": "stream",
     "text": [
      "\r",
      " 90%|██████████████████████████████████████████████████████████████████████████████████████████████▍          | 897/997 [3:09:56<16:38,  9.98s/it]"
     ]
    },
    {
     "name": "stdout",
     "output_type": "stream",
     "text": [
      "No objects to concatenate\n",
      "Canaan Smith Love You Like That 3552991\n"
     ]
    },
    {
     "name": "stderr",
     "output_type": "stream",
     "text": [
      "\r",
      " 90%|██████████████████████████████████████████████████████████████████████████████████████████████▌          | 898/997 [3:10:03<15:08,  9.18s/it]"
     ]
    },
    {
     "name": "stdout",
     "output_type": "stream",
     "text": [
      "No objects to concatenate\n",
      "Camila Cabello Crying in the Club 3844991\n"
     ]
    },
    {
     "name": "stderr",
     "output_type": "stream",
     "text": [
      "\r",
      " 90%|██████████████████████████████████████████████████████████████████████████████████████████████▋          | 899/997 [3:10:17<17:09, 10.51s/it]"
     ]
    },
    {
     "name": "stdout",
     "output_type": "stream",
     "text": [
      "No objects to concatenate\n",
      "Jason Derulo Whatcha Say 4261991\n"
     ]
    },
    {
     "name": "stderr",
     "output_type": "stream",
     "text": [
      "\r",
      " 90%|██████████████████████████████████████████████████████████████████████████████████████████████▊          | 900/997 [3:10:36<21:13, 13.13s/it]"
     ]
    },
    {
     "name": "stdout",
     "output_type": "stream",
     "text": [
      "No objects to concatenate\n",
      "Tim McGraw Just to See You Smile 3695991\n"
     ]
    },
    {
     "name": "stderr",
     "output_type": "stream",
     "text": [
      "\r",
      " 90%|██████████████████████████████████████████████████████████████████████████████████████████████▉          | 901/997 [3:10:44<18:33, 11.60s/it]"
     ]
    },
    {
     "name": "stdout",
     "output_type": "stream",
     "text": [
      "No objects to concatenate\n",
      "Brenda Lee Rockin' Around The Christmas Tree - Single Version 3014991\n"
     ]
    },
    {
     "name": "stderr",
     "output_type": "stream",
     "text": [
      "\r",
      " 90%|██████████████████████████████████████████████████████████████████████████████████████████████▉          | 902/997 [3:10:44<13:02,  8.23s/it]"
     ]
    },
    {
     "name": "stdout",
     "output_type": "stream",
     "text": [
      "No objects to concatenate\n",
      "Imagine Dragons Thunder 4536991\n"
     ]
    },
    {
     "name": "stderr",
     "output_type": "stream",
     "text": [
      "\r",
      " 91%|███████████████████████████████████████████████████████████████████████████████████████████████          | 903/997 [3:11:01<16:37, 10.62s/it]"
     ]
    },
    {
     "name": "stdout",
     "output_type": "stream",
     "text": [
      "No objects to concatenate\n",
      "Tory Lanez Say It 4057991\n"
     ]
    },
    {
     "name": "stderr",
     "output_type": "stream",
     "text": [
      "\r",
      " 91%|███████████████████████████████████████████████████████████████████████████████████████████████▏         | 904/997 [3:11:11<16:07, 10.40s/it]"
     ]
    },
    {
     "name": "stdout",
     "output_type": "stream",
     "text": [
      "No objects to concatenate\n",
      "Iggy Azalea Fancy 4259991\n"
     ]
    },
    {
     "name": "stderr",
     "output_type": "stream",
     "text": [
      "\r",
      " 91%|███████████████████████████████████████████████████████████████████████████████████████████████▎         | 905/997 [3:11:29<19:28, 12.70s/it]"
     ]
    },
    {
     "name": "stdout",
     "output_type": "stream",
     "text": [
      "No objects to concatenate\n",
      "Brett Eldredge Beat Of The Music 3667991\n"
     ]
    },
    {
     "name": "stderr",
     "output_type": "stream",
     "text": [
      "\r",
      " 91%|███████████████████████████████████████████████████████████████████████████████████████████████▍         | 906/997 [3:11:36<16:45, 11.05s/it]"
     ]
    },
    {
     "name": "stdout",
     "output_type": "stream",
     "text": [
      "No objects to concatenate\n",
      "Tove Lo Talking Body 4761991\n"
     ]
    },
    {
     "name": "stderr",
     "output_type": "stream",
     "text": [
      "\r",
      " 91%|███████████████████████████████████████████████████████████████████████████████████████████████▌         | 907/997 [3:11:49<17:31, 11.68s/it]"
     ]
    },
    {
     "name": "stdout",
     "output_type": "stream",
     "text": [
      "No objects to concatenate\n",
      "Brett Eldredge Drunk On Your Love 3995991\n"
     ]
    },
    {
     "name": "stderr",
     "output_type": "stream",
     "text": [
      "\r",
      " 91%|███████████████████████████████████████████████████████████████████████████████████████████████▋         | 908/997 [3:11:55<14:35,  9.83s/it]"
     ]
    },
    {
     "name": "stdout",
     "output_type": "stream",
     "text": [
      "No objects to concatenate\n",
      "Iyaz Replay 5739991\n"
     ]
    },
    {
     "name": "stderr",
     "output_type": "stream",
     "text": [
      "\r",
      " 91%|███████████████████████████████████████████████████████████████████████████████████████████████▋         | 909/997 [3:12:13<18:13, 12.42s/it]"
     ]
    },
    {
     "name": "stdout",
     "output_type": "stream",
     "text": [
      "No objects to concatenate\n",
      "Hunter Hayes Wanted 4376991\n"
     ]
    },
    {
     "name": "stderr",
     "output_type": "stream",
     "text": [
      "\r",
      " 91%|███████████████████████████████████████████████████████████████████████████████████████████████▊         | 910/997 [3:12:20<15:49, 10.91s/it]"
     ]
    },
    {
     "name": "stdout",
     "output_type": "stream",
     "text": [
      "No objects to concatenate\n",
      "Brothers Osborne Stay A Little Longer 3639991\n"
     ]
    },
    {
     "name": "stderr",
     "output_type": "stream",
     "text": [
      "\r",
      " 91%|███████████████████████████████████████████████████████████████████████████████████████████████▉         | 911/997 [3:12:26<13:26,  9.37s/it]"
     ]
    },
    {
     "name": "stdout",
     "output_type": "stream",
     "text": [
      "No objects to concatenate\n",
      "Rick Astley Never Gonna Give You Up 4866991\n"
     ]
    },
    {
     "name": "stderr",
     "output_type": "stream",
     "text": [
      "\r",
      " 91%|████████████████████████████████████████████████████████████████████████████████████████████████         | 912/997 [3:12:41<15:45, 11.12s/it]"
     ]
    },
    {
     "name": "stdout",
     "output_type": "stream",
     "text": [
      "No objects to concatenate\n",
      "JAY Z Holy Grail 4268991\n"
     ]
    },
    {
     "name": "stderr",
     "output_type": "stream",
     "text": [
      "\r",
      " 92%|████████████████████████████████████████████████████████████████████████████████████████████████▏        | 913/997 [3:13:01<18:57, 13.54s/it]"
     ]
    },
    {
     "name": "stdout",
     "output_type": "stream",
     "text": [
      "Dire Straits Sultans Of Swing 4002991\n"
     ]
    },
    {
     "name": "stderr",
     "output_type": "stream",
     "text": [
      " 92%|████████████████████████████████████████████████████████████████████████████████████████████████▎        | 915/997 [3:13:05<10:26,  7.64s/it]"
     ]
    },
    {
     "name": "stdout",
     "output_type": "stream",
     "text": [
      "No objects to concatenate\n",
      "Trapt Headstrong 3437991\n",
      "No objects to concatenate\n",
      "Bryson Tiller Right My Wrongs 3931991\n"
     ]
    },
    {
     "name": "stderr",
     "output_type": "stream",
     "text": [
      "\r",
      " 92%|████████████████████████████████████████████████████████████████████████████████████████████████▍        | 916/997 [3:13:17<11:55,  8.83s/it]"
     ]
    },
    {
     "name": "stdout",
     "output_type": "stream",
     "text": [
      "No objects to concatenate\n",
      "Dierks Bentley Somewhere On A Beach 2279991\n"
     ]
    },
    {
     "name": "stderr",
     "output_type": "stream",
     "text": [
      "\r",
      " 92%|████████████████████████████████████████████████████████████████████████████████████████████████▌        | 917/997 [3:13:23<10:39,  8.00s/it]"
     ]
    },
    {
     "name": "stdout",
     "output_type": "stream",
     "text": [
      "No objects to concatenate\n",
      "Travis Porter Ayy Ladies 3593991\n"
     ]
    },
    {
     "name": "stderr",
     "output_type": "stream",
     "text": [
      "\r",
      " 92%|████████████████████████████████████████████████████████████████████████████████████████████████▋        | 918/997 [3:13:39<13:54, 10.57s/it]"
     ]
    },
    {
     "name": "stdout",
     "output_type": "stream",
     "text": [
      "No objects to concatenate\n",
      "Travis Scott through the late night 3621991\n"
     ]
    },
    {
     "name": "stderr",
     "output_type": "stream",
     "text": [
      "\r",
      " 92%|████████████████████████████████████████████████████████████████████████████████████████████████▊        | 919/997 [3:13:57<16:19, 12.56s/it]"
     ]
    },
    {
     "name": "stdout",
     "output_type": "stream",
     "text": [
      "No objects to concatenate\n",
      "Rod Stewart Maggie May 4268991\n"
     ]
    },
    {
     "name": "stderr",
     "output_type": "stream",
     "text": [
      "\r",
      " 92%|████████████████████████████████████████████████████████████████████████████████████████████████▉        | 920/997 [3:14:02<13:22, 10.42s/it]"
     ]
    },
    {
     "name": "stdout",
     "output_type": "stream",
     "text": [
      "No objects to concatenate\n",
      "Jack Johnson Sitting, Waiting, Wishing 4132991\n"
     ]
    },
    {
     "name": "stderr",
     "output_type": "stream",
     "text": [
      "\r",
      " 92%|████████████████████████████████████████████████████████████████████████████████████████████████▉        | 921/997 [3:14:17<14:57, 11.81s/it]"
     ]
    },
    {
     "name": "stdout",
     "output_type": "stream",
     "text": [
      "No objects to concatenate\n",
      "Cage The Elephant Come a Little Closer 4758991\n"
     ]
    },
    {
     "name": "stderr",
     "output_type": "stream",
     "text": [
      "\r",
      " 92%|█████████████████████████████████████████████████████████████████████████████████████████████████        | 922/997 [3:14:18<10:38,  8.51s/it]"
     ]
    },
    {
     "name": "stdout",
     "output_type": "stream",
     "text": [
      "No objects to concatenate\n",
      "Cage The Elephant Trouble 4528991\n"
     ]
    },
    {
     "name": "stderr",
     "output_type": "stream",
     "text": [
      "\r",
      " 93%|█████████████████████████████████████████████████████████████████████████████████████████████████▏       | 923/997 [3:14:33<12:51, 10.43s/it]"
     ]
    },
    {
     "name": "stdout",
     "output_type": "stream",
     "text": [
      "No objects to concatenate\n",
      "Cali Swag District Teach Me How to Dougie 4619991\n"
     ]
    },
    {
     "name": "stderr",
     "output_type": "stream",
     "text": [
      "\r",
      " 93%|█████████████████████████████████████████████████████████████████████████████████████████████████▎       | 924/997 [3:14:50<15:07, 12.44s/it]"
     ]
    },
    {
     "name": "stdout",
     "output_type": "stream",
     "text": [
      "No objects to concatenate\n",
      "Queen Somebody To Love - Remastered 2011 3859991\n"
     ]
    },
    {
     "name": "stderr",
     "output_type": "stream",
     "text": [
      "\r",
      " 93%|█████████████████████████████████████████████████████████████████████████████████████████████████▍       | 925/997 [3:14:55<12:07, 10.11s/it]"
     ]
    },
    {
     "name": "stdout",
     "output_type": "stream",
     "text": [
      "No objects to concatenate\n",
      "Calvin Harris Feel So Close - Radio Edit 3749991\n"
     ]
    },
    {
     "name": "stderr",
     "output_type": "stream",
     "text": [
      "\r",
      " 93%|█████████████████████████████████████████████████████████████████████████████████████████████████▌       | 926/997 [3:15:12<14:30, 12.27s/it]"
     ]
    },
    {
     "name": "stdout",
     "output_type": "stream",
     "text": [
      "No objects to concatenate\n",
      "The Weeknd Die For You 5974991\n"
     ]
    },
    {
     "name": "stderr",
     "output_type": "stream",
     "text": [
      "\r",
      " 93%|█████████████████████████████████████████████████████████████████████████████████████████████████▋       | 927/997 [3:15:26<14:59, 12.84s/it]"
     ]
    },
    {
     "name": "stdout",
     "output_type": "stream",
     "text": [
      "No objects to concatenate\n",
      "The Weeknd Acquainted 5056991\n"
     ]
    },
    {
     "name": "stderr",
     "output_type": "stream",
     "text": [
      "\r",
      " 93%|█████████████████████████████████████████████████████████████████████████████████████████████████▋       | 928/997 [3:15:36<13:51, 12.04s/it]"
     ]
    },
    {
     "name": "stdout",
     "output_type": "stream",
     "text": [
      "No objects to concatenate\n",
      "Eminem Love The Way You Lie 5457991\n"
     ]
    },
    {
     "name": "stderr",
     "output_type": "stream",
     "text": [
      "\r",
      " 93%|█████████████████████████████████████████████████████████████████████████████████████████████████▊       | 929/997 [3:15:55<15:48, 13.96s/it]"
     ]
    },
    {
     "name": "stdout",
     "output_type": "stream",
     "text": [
      "No objects to concatenate\n",
      "Kendrick Lamar XXX. FEAT. U2. 5583991\n"
     ]
    },
    {
     "name": "stderr",
     "output_type": "stream",
     "text": [
      "\r",
      " 93%|█████████████████████████████████████████████████████████████████████████████████████████████████▉       | 930/997 [3:16:11<16:20, 14.63s/it]"
     ]
    },
    {
     "name": "stdout",
     "output_type": "stream",
     "text": [
      "No objects to concatenate\n",
      "Katy Perry Last Friday Night (T.G.I.F.) 5245991\n"
     ]
    },
    {
     "name": "stderr",
     "output_type": "stream",
     "text": [
      "\r",
      " 93%|██████████████████████████████████████████████████████████████████████████████████████████████████       | 931/997 [3:16:29<17:08, 15.58s/it]"
     ]
    },
    {
     "name": "stdout",
     "output_type": "stream",
     "text": [
      "No objects to concatenate\n",
      "The Black Keys Gold On The Ceiling 5422991\n"
     ]
    },
    {
     "name": "stderr",
     "output_type": "stream",
     "text": [
      "\r",
      " 93%|██████████████████████████████████████████████████████████████████████████████████████████████████▏      | 932/997 [3:16:30<12:08, 11.21s/it]"
     ]
    },
    {
     "name": "stdout",
     "output_type": "stream",
     "text": [
      "No objects to concatenate\n",
      "Simple Minds Don't You (Forget About Me) 3123991\n"
     ]
    },
    {
     "name": "stderr",
     "output_type": "stream",
     "text": [
      "\r",
      " 94%|██████████████████████████████████████████████████████████████████████████████████████████████████▎      | 933/997 [3:16:45<13:11, 12.36s/it]"
     ]
    },
    {
     "name": "stdout",
     "output_type": "stream",
     "text": [
      "No objects to concatenate\n",
      "The Script The Man Who Can't Be Moved 3328991\n"
     ]
    },
    {
     "name": "stderr",
     "output_type": "stream",
     "text": [
      "\r",
      " 94%|██████████████████████████████████████████████████████████████████████████████████████████████████▎      | 934/997 [3:17:00<14:00, 13.34s/it]"
     ]
    },
    {
     "name": "stdout",
     "output_type": "stream",
     "text": [
      "No objects to concatenate\n",
      "Fitz and The Tantrums HandClap 3750991\n"
     ]
    },
    {
     "name": "stderr",
     "output_type": "stream",
     "text": [
      "\r",
      " 94%|██████████████████████████████████████████████████████████████████████████████████████████████████▍      | 935/997 [3:17:01<09:47,  9.47s/it]"
     ]
    },
    {
     "name": "stdout",
     "output_type": "stream",
     "text": [
      "No objects to concatenate\n",
      "Sir Mix-A-Lot Baby Got Back 2950991\n"
     ]
    },
    {
     "name": "stderr",
     "output_type": "stream",
     "text": [
      "\r",
      " 94%|██████████████████████████████████████████████████████████████████████████████████████████████████▌      | 936/997 [3:17:18<12:02, 11.84s/it]"
     ]
    },
    {
     "name": "stdout",
     "output_type": "stream",
     "text": [
      "No objects to concatenate\n",
      "The Script For the First Time 3741991\n"
     ]
    },
    {
     "name": "stderr",
     "output_type": "stream",
     "text": [
      "\r",
      " 94%|██████████████████████████████████████████████████████████████████████████████████████████████████▋      | 937/997 [3:17:35<13:14, 13.24s/it]"
     ]
    },
    {
     "name": "stdout",
     "output_type": "stream",
     "text": [
      "No objects to concatenate\n",
      "Deep Purple Smoke On the Water 4694991\n"
     ]
    },
    {
     "name": "stderr",
     "output_type": "stream",
     "text": [
      "\r",
      " 94%|██████████████████████████████████████████████████████████████████████████████████████████████████▊      | 938/997 [3:17:41<10:52, 11.06s/it]"
     ]
    },
    {
     "name": "stdout",
     "output_type": "stream",
     "text": [
      "No objects to concatenate\n",
      "Skrillex Bangarang (feat. Sirah) 4311991\n",
      "No objects to concatenate\n"
     ]
    },
    {
     "name": "stderr",
     "output_type": "stream",
     "text": [
      "\r",
      " 94%|██████████████████████████████████████████████████████████████████████████████████████████████████▉      | 939/997 [3:17:41<07:32,  7.80s/it]"
     ]
    },
    {
     "name": "stdout",
     "output_type": "stream",
     "text": [
      "Drake Do Not Disturb 4899991\n"
     ]
    },
    {
     "name": "stderr",
     "output_type": "stream",
     "text": [
      "\r",
      " 94%|██████████████████████████████████████████████████████████████████████████████████████████████████▉      | 940/997 [3:17:58<09:56, 10.47s/it]"
     ]
    },
    {
     "name": "stdout",
     "output_type": "stream",
     "text": [
      "No objects to concatenate\n",
      "Avril Lavigne Girlfriend (German Version - Explicit) - German Version - Explicit 3838991\n"
     ]
    },
    {
     "name": "stderr",
     "output_type": "stream",
     "text": [
      "\r",
      " 94%|███████████████████████████████████████████████████████████████████████████████████████████████████      | 941/997 [3:18:06<09:12,  9.87s/it]"
     ]
    },
    {
     "name": "stdout",
     "output_type": "stream",
     "text": [
      "No objects to concatenate\n",
      "Fetty Wap Jimmy Choo 4079991\n"
     ]
    },
    {
     "name": "stderr",
     "output_type": "stream",
     "text": [
      "\r",
      " 94%|███████████████████████████████████████████████████████████████████████████████████████████████████▏     | 942/997 [3:18:20<10:03, 10.97s/it]"
     ]
    },
    {
     "name": "stdout",
     "output_type": "stream",
     "text": [
      "No objects to concatenate\n",
      "Daya Sit Still, Look Pretty 3657991\n"
     ]
    },
    {
     "name": "stderr",
     "output_type": "stream",
     "text": [
      "\r",
      " 95%|███████████████████████████████████████████████████████████████████████████████████████████████████▎     | 943/997 [3:18:32<10:20, 11.49s/it]"
     ]
    },
    {
     "name": "stdout",
     "output_type": "stream",
     "text": [
      "No objects to concatenate\n",
      "Bell Biv DeVoe Poison 3339991\n"
     ]
    },
    {
     "name": "stderr",
     "output_type": "stream",
     "text": [
      "\r",
      " 95%|███████████████████████████████████████████████████████████████████████████████████████████████████▍     | 944/997 [3:18:49<11:34, 13.10s/it]"
     ]
    },
    {
     "name": "stdout",
     "output_type": "stream",
     "text": [
      "No objects to concatenate\n",
      "The Rolling Stones (I Can't Get No) Satisfaction - Mono Version / Remastered 2002 4970991\n"
     ]
    },
    {
     "name": "stderr",
     "output_type": "stream",
     "text": [
      "\r",
      " 95%|███████████████████████████████████████████████████████████████████████████████████████████████████▌     | 945/997 [3:19:04<11:41, 13.49s/it]"
     ]
    },
    {
     "name": "stdout",
     "output_type": "stream",
     "text": [
      "No objects to concatenate\n",
      "Kesha We R Who We R 3267991\n"
     ]
    },
    {
     "name": "stderr",
     "output_type": "stream",
     "text": [
      "\r",
      " 95%|███████████████████████████████████████████████████████████████████████████████████████████████████▋     | 946/997 [3:19:09<09:30, 11.18s/it]"
     ]
    },
    {
     "name": "stdout",
     "output_type": "stream",
     "text": [
      "No objects to concatenate\n",
      "Fall Out Boy Thnks fr th Mmrs 3268991\n"
     ]
    },
    {
     "name": "stderr",
     "output_type": "stream",
     "text": [
      "\r",
      " 95%|███████████████████████████████████████████████████████████████████████████████████████████████████▋     | 947/997 [3:19:15<07:53,  9.48s/it]"
     ]
    },
    {
     "name": "stdout",
     "output_type": "stream",
     "text": [
      "No objects to concatenate\n",
      "Khalid American Teen 5373991\n"
     ]
    },
    {
     "name": "stderr",
     "output_type": "stream",
     "text": [
      "\r",
      " 95%|███████████████████████████████████████████████████████████████████████████████████████████████████▊     | 948/997 [3:19:27<08:24, 10.30s/it]"
     ]
    },
    {
     "name": "stdout",
     "output_type": "stream",
     "text": [
      "No objects to concatenate\n",
      "Weezer Buddy Holly 4892991\n"
     ]
    },
    {
     "name": "stderr",
     "output_type": "stream",
     "text": [
      "\r",
      " 95%|███████████████████████████████████████████████████████████████████████████████████████████████████▉     | 949/997 [3:19:32<06:57,  8.69s/it]"
     ]
    },
    {
     "name": "stdout",
     "output_type": "stream",
     "text": [
      "No objects to concatenate\n",
      "The Paper Kites Bloom - Bonus Track 3461991\n"
     ]
    },
    {
     "name": "stderr",
     "output_type": "stream",
     "text": [
      "\r",
      " 95%|████████████████████████████████████████████████████████████████████████████████████████████████████     | 950/997 [3:19:48<08:33, 10.93s/it]"
     ]
    },
    {
     "name": "stdout",
     "output_type": "stream",
     "text": [
      "No objects to concatenate\n",
      "Weezer Say It Ain't So 4159991\n"
     ]
    },
    {
     "name": "stderr",
     "output_type": "stream",
     "text": [
      "\r",
      " 95%|████████████████████████████████████████████████████████████████████████████████████████████████████▏    | 951/997 [3:19:53<06:57,  9.07s/it]"
     ]
    },
    {
     "name": "stdout",
     "output_type": "stream",
     "text": [
      "No objects to concatenate\n",
      "Kid Cudi Erase Me - Main 2789991\n"
     ]
    },
    {
     "name": "stderr",
     "output_type": "stream",
     "text": [
      "\r",
      " 95%|████████████████████████████████████████████████████████████████████████████████████████████████████▎    | 952/997 [3:20:10<08:36, 11.49s/it]"
     ]
    },
    {
     "name": "stdout",
     "output_type": "stream",
     "text": [
      "No objects to concatenate\n",
      "Spin Doctors Two Princes 4539991\n"
     ]
    },
    {
     "name": "stderr",
     "output_type": "stream",
     "text": [
      "\r",
      " 96%|████████████████████████████████████████████████████████████████████████████████████████████████████▎    | 953/997 [3:20:15<07:02,  9.60s/it]"
     ]
    },
    {
     "name": "stdout",
     "output_type": "stream",
     "text": [
      "No objects to concatenate\n",
      "Wham! Wake Me up Before You Go-Go 4562991\n"
     ]
    },
    {
     "name": "stderr",
     "output_type": "stream",
     "text": [
      "\r",
      " 96%|████████████████████████████████████████████████████████████████████████████████████████████████████▍    | 954/997 [3:20:15<04:51,  6.79s/it]"
     ]
    },
    {
     "name": "stdout",
     "output_type": "stream",
     "text": [
      "No objects to concatenate\n",
      "Kid Ink Show Me 2934991\n"
     ]
    },
    {
     "name": "stderr",
     "output_type": "stream",
     "text": [
      "\r",
      " 96%|████████████████████████████████████████████████████████████████████████████████████████████████████▌    | 955/997 [3:20:33<07:05, 10.13s/it]"
     ]
    },
    {
     "name": "stdout",
     "output_type": "stream",
     "text": [
      "No objects to concatenate\n",
      "Nirvana Heart-Shaped Box 4397991\n"
     ]
    },
    {
     "name": "stderr",
     "output_type": "stream",
     "text": [
      "\r",
      " 96%|████████████████████████████████████████████████████████████████████████████████████████████████████▋    | 956/997 [3:20:38<05:51,  8.58s/it]"
     ]
    },
    {
     "name": "stdout",
     "output_type": "stream",
     "text": [
      "No objects to concatenate\n",
      "Flight Facilities Crave You - Adventure Club Remix 4012991\n"
     ]
    },
    {
     "name": "stderr",
     "output_type": "stream",
     "text": [
      "\r",
      " 96%|████████████████████████████████████████████████████████████████████████████████████████████████████▊    | 957/997 [3:20:57<07:39, 11.48s/it]"
     ]
    },
    {
     "name": "stdout",
     "output_type": "stream",
     "text": [
      "No objects to concatenate\n",
      "The Fray You Found Me 4131991\n"
     ]
    },
    {
     "name": "stderr",
     "output_type": "stream",
     "text": [
      "\r",
      " 96%|████████████████████████████████████████████████████████████████████████████████████████████████████▉    | 958/997 [3:21:02<06:16,  9.65s/it]"
     ]
    },
    {
     "name": "stdout",
     "output_type": "stream",
     "text": [
      "No objects to concatenate\n",
      "Flo Rida Right Round - feat. Ke$ha 6588991\n"
     ]
    },
    {
     "name": "stderr",
     "output_type": "stream",
     "text": [
      "\r",
      " 96%|████████████████████████████████████████████████████████████████████████████████████████████████████▉    | 959/997 [3:21:19<07:34, 11.95s/it]"
     ]
    },
    {
     "name": "stdout",
     "output_type": "stream",
     "text": [
      "No objects to concatenate\n",
      "Old Dominion Snapback 3664991\n"
     ]
    },
    {
     "name": "stderr",
     "output_type": "stream",
     "text": [
      "\r",
      " 96%|█████████████████████████████████████████████████████████████████████████████████████████████████████    | 960/997 [3:21:25<06:10, 10.02s/it]"
     ]
    },
    {
     "name": "stdout",
     "output_type": "stream",
     "text": [
      "No objects to concatenate\n",
      "Future March Madness 3443991\n"
     ]
    },
    {
     "name": "stderr",
     "output_type": "stream",
     "text": [
      "\r",
      " 96%|█████████████████████████████████████████████████████████████████████████████████████████████████████▏   | 961/997 [3:21:42<07:13, 12.04s/it]"
     ]
    },
    {
     "name": "stdout",
     "output_type": "stream",
     "text": [
      "No objects to concatenate\n",
      "Denzel Curry Ultimate 5126991\n"
     ]
    },
    {
     "name": "stderr",
     "output_type": "stream",
     "text": [
      "\r",
      " 96%|█████████████████████████████████████████████████████████████████████████████████████████████████████▎   | 962/997 [3:21:50<06:18, 10.81s/it]"
     ]
    },
    {
     "name": "stdout",
     "output_type": "stream",
     "text": [
      "No objects to concatenate\n",
      "Selena Gomez Bad Liar 5647991\n"
     ]
    },
    {
     "name": "stderr",
     "output_type": "stream",
     "text": [
      "\r",
      " 97%|█████████████████████████████████████████████████████████████████████████████████████████████████████▍   | 963/997 [3:22:03<06:37, 11.70s/it]"
     ]
    },
    {
     "name": "stdout",
     "output_type": "stream",
     "text": [
      "No objects to concatenate\n",
      "Usher OMG 5782991\n"
     ]
    },
    {
     "name": "stderr",
     "output_type": "stream",
     "text": [
      "\r",
      " 97%|█████████████████████████████████████████████████████████████████████████████████████████████████████▌   | 964/997 [3:22:20<07:17, 13.26s/it]"
     ]
    },
    {
     "name": "stdout",
     "output_type": "stream",
     "text": [
      "No objects to concatenate\n",
      "Selena Gomez Good For You 3032991\n"
     ]
    },
    {
     "name": "stderr",
     "output_type": "stream",
     "text": [
      "\r",
      " 97%|█████████████████████████████████████████████████████████████████████████████████████████████████████▋   | 965/997 [3:22:38<07:47, 14.62s/it]"
     ]
    },
    {
     "name": "stdout",
     "output_type": "stream",
     "text": [
      "No objects to concatenate\n",
      "Juicy J Bandz A Make Her Dance 5256991\n"
     ]
    },
    {
     "name": "stderr",
     "output_type": "stream",
     "text": [
      "\r",
      " 97%|█████████████████████████████████████████████████████████████████████████████████████████████████████▋   | 966/997 [3:22:56<08:04, 15.62s/it]"
     ]
    },
    {
     "name": "stdout",
     "output_type": "stream",
     "text": [
      "No objects to concatenate\n",
      "The Verve Bitter Sweet Symphony 4137991\n"
     ]
    },
    {
     "name": "stderr",
     "output_type": "stream",
     "text": [
      "\r",
      " 97%|█████████████████████████████████████████████████████████████████████████████████████████████████████▊   | 967/997 [3:23:01<06:10, 12.34s/it]"
     ]
    },
    {
     "name": "stdout",
     "output_type": "stream",
     "text": [
      "No objects to concatenate\n",
      "Childish Gambino I. the worst guys 3670991\n"
     ]
    },
    {
     "name": "stderr",
     "output_type": "stream",
     "text": [
      "\r",
      " 97%|█████████████████████████████████████████████████████████████████████████████████████████████████████▉   | 968/997 [3:23:15<06:11, 12.81s/it]"
     ]
    },
    {
     "name": "stdout",
     "output_type": "stream",
     "text": [
      "No objects to concatenate\n",
      "PARTYNEXTDOOR Recognize (feat. Drake) 4383991\n"
     ]
    },
    {
     "name": "stderr",
     "output_type": "stream",
     "text": [
      "\r",
      " 97%|██████████████████████████████████████████████████████████████████████████████████████████████████████   | 969/997 [3:23:32<06:35, 14.12s/it]"
     ]
    },
    {
     "name": "stdout",
     "output_type": "stream",
     "text": [
      "No objects to concatenate\n",
      "PARTYNEXTDOOR Not Nice 4559991\n"
     ]
    },
    {
     "name": "stderr",
     "output_type": "stream",
     "text": [
      "\r",
      " 97%|██████████████████████████████████████████████████████████████████████████████████████████████████████▏  | 970/997 [3:23:45<06:13, 13.82s/it]"
     ]
    },
    {
     "name": "stdout",
     "output_type": "stream",
     "text": [
      "No objects to concatenate\n",
      "Justin Bieber Beauty And A Beat 4148991\n"
     ]
    },
    {
     "name": "stderr",
     "output_type": "stream",
     "text": [
      "\r",
      " 97%|██████████████████████████████████████████████████████████████████████████████████████████████████████▎  | 971/997 [3:24:03<06:30, 15.00s/it]"
     ]
    },
    {
     "name": "stdout",
     "output_type": "stream",
     "text": [
      "No objects to concatenate\n",
      "P!nk So What 5344991\n"
     ]
    },
    {
     "name": "stderr",
     "output_type": "stream",
     "text": [
      "\r",
      " 97%|██████████████████████████████████████████████████████████████████████████████████████████████████████▎  | 972/997 [3:24:14<05:51, 14.06s/it]"
     ]
    },
    {
     "name": "stdout",
     "output_type": "stream",
     "text": [
      "No objects to concatenate\n",
      "Justin Bieber I'll Show You 4062991\n"
     ]
    },
    {
     "name": "stderr",
     "output_type": "stream",
     "text": [
      "\r",
      " 98%|██████████████████████████████████████████████████████████████████████████████████████████████████████▍  | 973/997 [3:24:31<05:56, 14.84s/it]"
     ]
    },
    {
     "name": "stdout",
     "output_type": "stream",
     "text": [
      "No objects to concatenate\n",
      "The Beatles Twist And Shout - Remastered 2009 4971991\n"
     ]
    },
    {
     "name": "stderr",
     "output_type": "stream",
     "text": [
      "\r",
      " 98%|██████████████████████████████████████████████████████████████████████████████████████████████████████▌  | 974/997 [3:24:46<05:42, 14.90s/it]"
     ]
    },
    {
     "name": "stdout",
     "output_type": "stream",
     "text": [
      "No objects to concatenate\n",
      "The Black Eyed Peas My Humps 4975991\n"
     ]
    },
    {
     "name": "stderr",
     "output_type": "stream",
     "text": [
      "\r",
      " 98%|██████████████████████████████████████████████████████████████████████████████████████████████████████▋  | 975/997 [3:25:03<05:41, 15.52s/it]"
     ]
    },
    {
     "name": "stdout",
     "output_type": "stream",
     "text": [
      "No objects to concatenate\n",
      "Chris Brown Ayo 2297991\n"
     ]
    },
    {
     "name": "stderr",
     "output_type": "stream",
     "text": [
      "\r",
      " 98%|██████████████████████████████████████████████████████████████████████████████████████████████████████▊  | 976/997 [3:25:22<05:49, 16.64s/it]"
     ]
    },
    {
     "name": "stdout",
     "output_type": "stream",
     "text": [
      "Imagine Dragons On Top Of The World 3510991\n"
     ]
    },
    {
     "name": "stderr",
     "output_type": "stream",
     "text": [
      "\r",
      " 98%|██████████████████████████████████████████████████████████████████████████████████████████████████████▉  | 977/997 [3:25:40<05:38, 16.93s/it]"
     ]
    },
    {
     "name": "stdout",
     "output_type": "stream",
     "text": [
      "No objects to concatenate\n",
      "Kanye West Can't Tell Me Nothing 4679991\n"
     ]
    },
    {
     "name": "stderr",
     "output_type": "stream",
     "text": [
      "\r",
      " 98%|██████████████████████████████████████████████████████████████████████████████████████████████████████▉  | 978/997 [3:26:00<05:36, 17.70s/it]"
     ]
    },
    {
     "name": "stdout",
     "output_type": "stream",
     "text": [
      "Omarion Post To Be (feat. Chris Brown & Jhene Aiko) 5248991\n"
     ]
    },
    {
     "name": "stderr",
     "output_type": "stream",
     "text": [
      "\r",
      " 98%|███████████████████████████████████████████████████████████████████████████████████████████████████████  | 979/997 [3:26:16<05:13, 17.41s/it]"
     ]
    },
    {
     "name": "stdout",
     "output_type": "stream",
     "text": [
      "No objects to concatenate\n",
      "Drake Diamonds Dancing 4004991\n"
     ]
    },
    {
     "name": "stderr",
     "output_type": "stream",
     "text": [
      "\r",
      " 98%|███████████████████████████████████████████████████████████████████████████████████████████████████████▏ | 980/997 [3:26:35<05:02, 17.77s/it]"
     ]
    },
    {
     "name": "stdout",
     "output_type": "stream",
     "text": [
      "Florida Georgia Line Sippin’ On Fire 4021991\n"
     ]
    },
    {
     "name": "stderr",
     "output_type": "stream",
     "text": [
      "\r",
      " 98%|███████████████████████████████████████████████████████████████████████████████████████████████████████▎ | 981/997 [3:26:42<03:52, 14.54s/it]"
     ]
    },
    {
     "name": "stdout",
     "output_type": "stream",
     "text": [
      "No objects to concatenate\n",
      "Florida Georgia Line Round Here 4885991\n"
     ]
    },
    {
     "name": "stderr",
     "output_type": "stream",
     "text": [
      "\r",
      " 98%|███████████████████████████████████████████████████████████████████████████████████████████████████████▍ | 982/997 [3:26:46<02:52, 11.53s/it]"
     ]
    },
    {
     "name": "stdout",
     "output_type": "stream",
     "text": [
      "No objects to concatenate\n",
      "Florida Georgia Line May We All 4656991\n"
     ]
    },
    {
     "name": "stderr",
     "output_type": "stream",
     "text": [
      "\r",
      " 99%|███████████████████████████████████████████████████████████████████████████████████████████████████████▌ | 983/997 [3:26:52<02:15,  9.71s/it]"
     ]
    },
    {
     "name": "stdout",
     "output_type": "stream",
     "text": [
      "No objects to concatenate\n",
      "Florida Georgia Line Dirt 5330991\n"
     ]
    },
    {
     "name": "stderr",
     "output_type": "stream",
     "text": [
      "\r",
      " 99%|███████████████████████████████████████████████████████████████████████████████████████████████████████▋ | 984/997 [3:26:59<01:56,  8.94s/it]"
     ]
    },
    {
     "name": "stdout",
     "output_type": "stream",
     "text": [
      "No objects to concatenate\n",
      "Florida Georgia Line Cruise - Remix 4812991\n"
     ]
    },
    {
     "name": "stderr",
     "output_type": "stream",
     "text": [
      "\r",
      " 99%|███████████████████████████████████████████████████████████████████████████████████████████████████████▋ | 985/997 [3:27:05<01:35,  7.92s/it]"
     ]
    },
    {
     "name": "stdout",
     "output_type": "stream",
     "text": [
      "No objects to concatenate\n",
      "Rascal Flatts Life Is A Highway 4194991\n"
     ]
    },
    {
     "name": "stderr",
     "output_type": "stream",
     "text": [
      "\r",
      " 99%|███████████████████████████████████████████████████████████████████████████████████████████████████████▊ | 986/997 [3:27:12<01:26,  7.88s/it]"
     ]
    },
    {
     "name": "stdout",
     "output_type": "stream",
     "text": [
      "No objects to concatenate\n",
      "Queen We Are The Champions - Remastered 2011 4668991\n"
     ]
    },
    {
     "name": "stderr",
     "output_type": "stream",
     "text": [
      "\r",
      " 99%|███████████████████████████████████████████████████████████████████████████████████████████████████████▉ | 987/997 [3:27:17<01:08,  6.82s/it]"
     ]
    },
    {
     "name": "stdout",
     "output_type": "stream",
     "text": [
      "No objects to concatenate\n",
      "blink-182 I Miss You 3272991\n"
     ]
    },
    {
     "name": "stderr",
     "output_type": "stream",
     "text": [
      "\r",
      " 99%|████████████████████████████████████████████████████████████████████████████████████████████████████████ | 988/997 [3:27:22<00:56,  6.32s/it]"
     ]
    },
    {
     "name": "stdout",
     "output_type": "stream",
     "text": [
      "No objects to concatenate\n",
      "A$AP Rocky Lord Pretty Flacko Jodye 2 (LPFJ2) 3497991\n"
     ]
    },
    {
     "name": "stderr",
     "output_type": "stream",
     "text": [
      "\r",
      " 99%|████████████████████████████████████████████████████████████████████████████████████████████████████████▏| 989/997 [3:27:36<01:08,  8.57s/it]"
     ]
    },
    {
     "name": "stdout",
     "output_type": "stream",
     "text": [
      "No objects to concatenate\n",
      "Marvin Gaye Sexual Healing 4174991\n"
     ]
    },
    {
     "name": "stderr",
     "output_type": "stream",
     "text": [
      "\r",
      " 99%|████████████████████████████████████████████████████████████████████████████████████████████████████████▎| 990/997 [3:27:50<01:12, 10.39s/it]"
     ]
    },
    {
     "name": "stdout",
     "output_type": "stream",
     "text": [
      "No objects to concatenate\n",
      "Luke Bryan Country Girl (Shake It For Me) 3521991\n"
     ]
    },
    {
     "name": "stderr",
     "output_type": "stream",
     "text": [
      "\r",
      " 99%|████████████████████████████████████████████████████████████████████████████████████████████████████████▎| 991/997 [3:27:58<00:56,  9.46s/it]"
     ]
    },
    {
     "name": "stdout",
     "output_type": "stream",
     "text": [
      "No objects to concatenate\n",
      "Afroman Crazy Rap (Colt 45 & 2 Zig Zags) 4940991\n"
     ]
    },
    {
     "name": "stderr",
     "output_type": "stream",
     "text": [
      "\r",
      " 99%|████████████████████████████████████████████████████████████████████████████████████████████████████████▍| 992/997 [3:28:09<00:50, 10.06s/it]"
     ]
    },
    {
     "name": "stdout",
     "output_type": "stream",
     "text": [
      "No objects to concatenate\n",
      "will.i.am #thatPOWER 2794991\n"
     ]
    },
    {
     "name": "stderr",
     "output_type": "stream",
     "text": [
      "\r",
      "100%|████████████████████████████████████████████████████████████████████████████████████████████████████████▌| 993/997 [3:28:27<00:49, 12.35s/it]"
     ]
    },
    {
     "name": "stdout",
     "output_type": "stream",
     "text": [
      "No objects to concatenate\n",
      "Luke Bryan Home Alone Tonight 2520991\n"
     ]
    },
    {
     "name": "stderr",
     "output_type": "stream",
     "text": [
      "\r",
      "100%|████████████████████████████████████████████████████████████████████████████████████████████████████████▋| 994/997 [3:28:32<00:30, 10.21s/it]"
     ]
    },
    {
     "name": "stdout",
     "output_type": "stream",
     "text": [
      "No objects to concatenate\n",
      "M City JR Addicted To My Ex 3826991\n"
     ]
    },
    {
     "name": "stderr",
     "output_type": "stream",
     "text": [
      "100%|████████████████████████████████████████████████████████████████████████████████████████████████████████▉| 996/997 [3:28:49<00:08,  8.65s/it]"
     ]
    },
    {
     "name": "stdout",
     "output_type": "stream",
     "text": [
      "No objects to concatenate\n",
      "Lou Bega Mambo No. 5 (A Little Bit of...) 5732991\n",
      "No objects to concatenate\n",
      "Maroon 5 Moves Like Jagger - Studio Recording From The Voice Performance 3798991\n"
     ]
    },
    {
     "name": "stderr",
     "output_type": "stream",
     "text": [
      "100%|█████████████████████████████████████████████████████████████████████████████████████████████████████████| 997/997 [3:29:01<00:00, 12.58s/it]"
     ]
    },
    {
     "name": "stdout",
     "output_type": "stream",
     "text": [
      "No objects to concatenate\n"
     ]
    },
    {
     "name": "stderr",
     "output_type": "stream",
     "text": [
      "\n"
     ]
    }
   ],
   "source": [
    "report = []\n",
    "artist_rep_interval = 0\n",
    "max_songs = 210\n",
    "song_rep_interval = max_songs\n",
    "for follower_based in [True,False]:\n",
    "    for song in tqdm(range(3,1000)):\n",
    "        current = song_analysis.iloc[song]\n",
    "        artist = current[\"artist_name\"]\n",
    "        song = current[\"track_name\"]\n",
    "        current_pid = current[\"pid\"]\n",
    "        ex = []\n",
    "        ex_a = []\n",
    "        playlist = []\n",
    "        print(artist,song,current_pid)\n",
    "        for i in range(max_songs):\n",
    "            try:\n",
    "                spotify.connect()\n",
    "                t = spotify.find_song_uri(artist,song).iloc[0]\n",
    "                current_pid = t[\"pid\"]\n",
    "                ex_a.append(artist)\n",
    "                uri = t[\"track_uri\"]\n",
    "                included_playlists = spotify.find_included_playlists(uri)[\"pid\"]\n",
    "                aggregate = []\n",
    "                pl_aggregate = []\n",
    "                for pid in included_playlists:\n",
    "                    if pid != current_pid:\n",
    "                        playlist_info = spotify.find_playlist_info(pid)\n",
    "                        songs = spotify.find_playlist_songs(pid) \n",
    "                        aggregate.append(songs)\n",
    "                        pl_aggregate.append(playlist_info)\n",
    "                spotify.disconnect()\n",
    "                s = pd.concat(aggregate)\n",
    "                p = pd.concat(pl_aggregate)\n",
    "                if follower_based:\n",
    "                    s = s.merge(p[[\"pid\",\"num_followers\"]],on=\"pid\",how=\"left\")\n",
    "                    max_follower = s[\"num_followers\"].max()\n",
    "                    s[\"follower_percentage\"] = s[\"num_followers\"] / max_follower\n",
    "                    s[\"count\"] = 1 * s[\"follower_percentage\"]\n",
    "                else:\n",
    "                    s[\"count\"] = 1\n",
    "                analysis = s.groupby([\"track_uri\",\"artist_uri\",\"artist_name\",\"track_name\"]).sum().reset_index()\n",
    "                recs = analysis.sort_values(\"count\",ascending=False)\n",
    "                rec = recs[(~recs[\"artist_name\"].isin(ex_a)) & (recs[\"track_name\"] != song) & (~recs[\"track_uri\"].isin(ex))].sort_values(\"count\",ascending=False).iloc[0]\n",
    "                playlist.append(rec[[\"track_uri\",\"artist_uri\",\"artist_name\",\"track_name\",\"count\"]])\n",
    "                existing_uri = rec[\"track_uri\"]\n",
    "                ex.append(existing_uri)\n",
    "                artist = rec[\"artist_name\"]\n",
    "                song = rec[\"track_name\"]\n",
    "                pid = rec[\"pid\"]\n",
    "                if len(ex_a) > artist_rep_interval:\n",
    "                    ex_a.pop(0)\n",
    "                if len(ex) > song_rep_interval:\n",
    "                    ex.pop(0)\n",
    "            except Exception as e:\n",
    "                print(str(e))\n",
    "                break\n",
    "        final = pd.DataFrame(playlist)\n",
    "        final[\"artist_rep_interval\"] = artist_rep_interval\n",
    "        final[\"song_rep_interval\"] = song_rep_interval\n",
    "        final[\"playlist_size\"] = final.index.size\n",
    "        final[\"follower_based\"] = follower_based\n",
    "        final[\"seed_song\"] = f'{current[\"track_name\"]}_by_{current[\"artist_name\"]}'\n",
    "        final.reset_index(inplace=True,drop=True)\n",
    "        if final.index.size > 1:\n",
    "            spotify.connect()\n",
    "            spotify.store(\"created_lists\",final[[\"seed_song\",\"artist_name\",\"track_name\",\"count\",\"playlist_size\",\"follower_based\"]])\n",
    "            spotify.disconnect()"
   ]
  },
  {
   "cell_type": "code",
   "execution_count": 11,
   "metadata": {},
   "outputs": [
    {
     "name": "stdout",
     "output_type": "stream",
     "text": [
      "The Chainsmokers Paris 269999\n"
     ]
    }
   ],
   "source": [
    "report = []\n",
    "artist_rep_interval = 0\n",
    "max_songs = 210\n",
    "song_rep_interval = max_songs\n",
    "for follower_based in [True]:\n",
    "    artist = current[\"artist_name\"]\n",
    "    song = current[\"track_name\"]\n",
    "    current_pid = current[\"pid\"]\n",
    "    ex = []\n",
    "    ex_a = []\n",
    "    playlist = []\n",
    "    print(artist,song,current_pid)\n",
    "    try:\n",
    "        spotify.connect()\n",
    "        t = spotify.find_song_uri(artist,song).iloc[0]\n",
    "        current_pid = t[\"pid\"]\n",
    "        ex_a.append(artist)\n",
    "        uri = t[\"track_uri\"]\n",
    "        included_playlists = spotify.find_included_playlists(uri)[\"pid\"]\n",
    "        aggregate = []\n",
    "        pl_aggregate = []\n",
    "        for pid in included_playlists:\n",
    "            if pid != current_pid:\n",
    "                playlist_info = spotify.find_playlist_info(pid)\n",
    "                songs = spotify.find_playlist_songs(pid) \n",
    "                aggregate.append(songs)\n",
    "                pl_aggregate.append(playlist_info)\n",
    "        spotify.disconnect()\n",
    "        s = pd.concat(aggregate)\n",
    "        p = pd.concat(pl_aggregate)\n",
    "        if follower_based:\n",
    "            s = s.merge(p[[\"pid\",\"num_followers\"]],on=\"pid\",how=\"left\")\n",
    "            max_follower = s[\"num_followers\"].max()\n",
    "            s[\"follower_percentage\"] = s[\"num_followers\"] / max_follower\n",
    "            s[\"count\"] = 1 * s[\"follower_percentage\"]\n",
    "        else:\n",
    "            s[\"count\"] = 1\n",
    "        analysis = s.groupby([\"track_uri\",\"artist_uri\",\"artist_name\",\"track_name\"]).sum().reset_index()\n",
    "        recs = analysis.sort_values(\"count\",ascending=False)\n",
    "        rec = recs[(~recs[\"artist_name\"].isin(ex_a)) & (recs[\"track_name\"] != song) & (~recs[\"track_uri\"].isin(ex))].sort_values(\"count\",ascending=False).iloc[:max_songs]\n",
    "    except Exception as e:\n",
    "        print(str(e))\n",
    "        break"
   ]
  },
  {
   "cell_type": "code",
   "execution_count": 12,
   "metadata": {},
   "outputs": [
    {
     "data": {
      "text/html": [
       "<div>\n",
       "<style scoped>\n",
       "    .dataframe tbody tr th:only-of-type {\n",
       "        vertical-align: middle;\n",
       "    }\n",
       "\n",
       "    .dataframe tbody tr th {\n",
       "        vertical-align: top;\n",
       "    }\n",
       "\n",
       "    .dataframe thead th {\n",
       "        text-align: right;\n",
       "    }\n",
       "</style>\n",
       "<table border=\"1\" class=\"dataframe\">\n",
       "  <thead>\n",
       "    <tr style=\"text-align: right;\">\n",
       "      <th></th>\n",
       "      <th>track_uri</th>\n",
       "      <th>artist_uri</th>\n",
       "      <th>artist_name</th>\n",
       "      <th>track_name</th>\n",
       "      <th>pos</th>\n",
       "      <th>duration_ms</th>\n",
       "      <th>pid</th>\n",
       "      <th>num_followers</th>\n",
       "      <th>follower_percentage</th>\n",
       "      <th>count</th>\n",
       "    </tr>\n",
       "  </thead>\n",
       "  <tbody>\n",
       "    <tr>\n",
       "      <th>30</th>\n",
       "      <td>spotify:track:0KKkJNfGyhkQ5aFogxQAPU</td>\n",
       "      <td>spotify:artist:0du5cEVh5yTK9QJze8zA0C</td>\n",
       "      <td>Bruno Mars</td>\n",
       "      <td>That's What I Like</td>\n",
       "      <td>393</td>\n",
       "      <td>826772</td>\n",
       "      <td>2943996</td>\n",
       "      <td>8</td>\n",
       "      <td>2.666667</td>\n",
       "      <td>2.666667</td>\n",
       "    </tr>\n",
       "    <tr>\n",
       "      <th>61</th>\n",
       "      <td>spotify:track:0dA2Mk56wEzDgegdC6R17g</td>\n",
       "      <td>spotify:artist:2qxJFvFYMEDqd7ui6kSAcq</td>\n",
       "      <td>Zedd</td>\n",
       "      <td>Stay (with Alessia Cara)</td>\n",
       "      <td>345</td>\n",
       "      <td>1050450</td>\n",
       "      <td>3364995</td>\n",
       "      <td>8</td>\n",
       "      <td>2.666667</td>\n",
       "      <td>2.666667</td>\n",
       "    </tr>\n",
       "    <tr>\n",
       "      <th>771</th>\n",
       "      <td>spotify:track:7qiZfU4dY1lWllzX7mPBI3</td>\n",
       "      <td>spotify:artist:6eUKZXaKkcviH0Ku9w2n3V</td>\n",
       "      <td>Ed Sheeran</td>\n",
       "      <td>Shape of You</td>\n",
       "      <td>296</td>\n",
       "      <td>1402272</td>\n",
       "      <td>3204994</td>\n",
       "      <td>8</td>\n",
       "      <td>2.666667</td>\n",
       "      <td>2.666667</td>\n",
       "    </tr>\n",
       "    <tr>\n",
       "      <th>187</th>\n",
       "      <td>spotify:track:21TdkDRXuAB3k90ujRU1et</td>\n",
       "      <td>spotify:artist:04gDigrS5kc9YWfZHwBETP</td>\n",
       "      <td>Maroon 5</td>\n",
       "      <td>Cold (feat. Future)</td>\n",
       "      <td>302</td>\n",
       "      <td>937232</td>\n",
       "      <td>2965996</td>\n",
       "      <td>7</td>\n",
       "      <td>2.333333</td>\n",
       "      <td>2.333333</td>\n",
       "    </tr>\n",
       "    <tr>\n",
       "      <th>572</th>\n",
       "      <td>spotify:track:6520aj0B4FSKGVuKNsOCOi</td>\n",
       "      <td>spotify:artist:6jJ0s89eD6GaHleKKya26X</td>\n",
       "      <td>Katy Perry</td>\n",
       "      <td>Chained To The Rhythm</td>\n",
       "      <td>294</td>\n",
       "      <td>950936</td>\n",
       "      <td>2965996</td>\n",
       "      <td>7</td>\n",
       "      <td>2.333333</td>\n",
       "      <td>2.333333</td>\n",
       "    </tr>\n",
       "    <tr>\n",
       "      <th>586</th>\n",
       "      <td>spotify:track:6DNtNfH8hXkqOX1sjqmI7p</td>\n",
       "      <td>spotify:artist:738wLrAtLtCtFOLvQBXOXp</td>\n",
       "      <td>Major Lazer</td>\n",
       "      <td>Cold Water (feat. Justin Bieber &amp; MØ)</td>\n",
       "      <td>78</td>\n",
       "      <td>741404</td>\n",
       "      <td>2227996</td>\n",
       "      <td>7</td>\n",
       "      <td>2.333333</td>\n",
       "      <td>2.333333</td>\n",
       "    </tr>\n",
       "    <tr>\n",
       "      <th>337</th>\n",
       "      <td>spotify:track:3eR23VReFzcdmS7TYCrhCe</td>\n",
       "      <td>spotify:artist:23fqKkggKUBHNkbKtXEls4</td>\n",
       "      <td>Kygo</td>\n",
       "      <td>It Ain't Me (with Selena Gomez)</td>\n",
       "      <td>290</td>\n",
       "      <td>883120</td>\n",
       "      <td>2631996</td>\n",
       "      <td>6</td>\n",
       "      <td>2.000000</td>\n",
       "      <td>2.000000</td>\n",
       "    </tr>\n",
       "    <tr>\n",
       "      <th>113</th>\n",
       "      <td>spotify:track:17Fd6Yb7mSbinKG8LoWfFl</td>\n",
       "      <td>spotify:artist:2KsP6tYLJlTBvSUxnwlVWa</td>\n",
       "      <td>Mike Posner</td>\n",
       "      <td>I Took A Pill In Ibiza - Seeb Remix</td>\n",
       "      <td>65</td>\n",
       "      <td>593799</td>\n",
       "      <td>1923997</td>\n",
       "      <td>6</td>\n",
       "      <td>2.000000</td>\n",
       "      <td>2.000000</td>\n",
       "    </tr>\n",
       "    <tr>\n",
       "      <th>58</th>\n",
       "      <td>spotify:track:0azC730Exh71aQlOt9Zj3y</td>\n",
       "      <td>spotify:artist:7CajNmpbOovFoOoasH2HaY</td>\n",
       "      <td>Calvin Harris</td>\n",
       "      <td>This Is What You Came For</td>\n",
       "      <td>54</td>\n",
       "      <td>666480</td>\n",
       "      <td>1923997</td>\n",
       "      <td>6</td>\n",
       "      <td>2.000000</td>\n",
       "      <td>2.000000</td>\n",
       "    </tr>\n",
       "    <tr>\n",
       "      <th>601</th>\n",
       "      <td>spotify:track:6M6Tk58pQvABy6ru66dY3d</td>\n",
       "      <td>spotify:artist:4sTQVOfp9vEMCemLw50sbu</td>\n",
       "      <td>Galantis</td>\n",
       "      <td>No Money</td>\n",
       "      <td>193</td>\n",
       "      <td>573879</td>\n",
       "      <td>2142997</td>\n",
       "      <td>6</td>\n",
       "      <td>2.000000</td>\n",
       "      <td>2.000000</td>\n",
       "    </tr>\n",
       "  </tbody>\n",
       "</table>\n",
       "</div>"
      ],
      "text/plain": [
       "                                track_uri  \\\n",
       "30   spotify:track:0KKkJNfGyhkQ5aFogxQAPU   \n",
       "61   spotify:track:0dA2Mk56wEzDgegdC6R17g   \n",
       "771  spotify:track:7qiZfU4dY1lWllzX7mPBI3   \n",
       "187  spotify:track:21TdkDRXuAB3k90ujRU1et   \n",
       "572  spotify:track:6520aj0B4FSKGVuKNsOCOi   \n",
       "586  spotify:track:6DNtNfH8hXkqOX1sjqmI7p   \n",
       "337  spotify:track:3eR23VReFzcdmS7TYCrhCe   \n",
       "113  spotify:track:17Fd6Yb7mSbinKG8LoWfFl   \n",
       "58   spotify:track:0azC730Exh71aQlOt9Zj3y   \n",
       "601  spotify:track:6M6Tk58pQvABy6ru66dY3d   \n",
       "\n",
       "                                artist_uri    artist_name  \\\n",
       "30   spotify:artist:0du5cEVh5yTK9QJze8zA0C     Bruno Mars   \n",
       "61   spotify:artist:2qxJFvFYMEDqd7ui6kSAcq           Zedd   \n",
       "771  spotify:artist:6eUKZXaKkcviH0Ku9w2n3V     Ed Sheeran   \n",
       "187  spotify:artist:04gDigrS5kc9YWfZHwBETP       Maroon 5   \n",
       "572  spotify:artist:6jJ0s89eD6GaHleKKya26X     Katy Perry   \n",
       "586  spotify:artist:738wLrAtLtCtFOLvQBXOXp    Major Lazer   \n",
       "337  spotify:artist:23fqKkggKUBHNkbKtXEls4           Kygo   \n",
       "113  spotify:artist:2KsP6tYLJlTBvSUxnwlVWa    Mike Posner   \n",
       "58   spotify:artist:7CajNmpbOovFoOoasH2HaY  Calvin Harris   \n",
       "601  spotify:artist:4sTQVOfp9vEMCemLw50sbu       Galantis   \n",
       "\n",
       "                                track_name  pos  duration_ms      pid  \\\n",
       "30                      That's What I Like  393       826772  2943996   \n",
       "61                Stay (with Alessia Cara)  345      1050450  3364995   \n",
       "771                           Shape of You  296      1402272  3204994   \n",
       "187                    Cold (feat. Future)  302       937232  2965996   \n",
       "572                  Chained To The Rhythm  294       950936  2965996   \n",
       "586  Cold Water (feat. Justin Bieber & MØ)   78       741404  2227996   \n",
       "337        It Ain't Me (with Selena Gomez)  290       883120  2631996   \n",
       "113    I Took A Pill In Ibiza - Seeb Remix   65       593799  1923997   \n",
       "58               This Is What You Came For   54       666480  1923997   \n",
       "601                               No Money  193       573879  2142997   \n",
       "\n",
       "     num_followers  follower_percentage     count  \n",
       "30               8             2.666667  2.666667  \n",
       "61               8             2.666667  2.666667  \n",
       "771              8             2.666667  2.666667  \n",
       "187              7             2.333333  2.333333  \n",
       "572              7             2.333333  2.333333  \n",
       "586              7             2.333333  2.333333  \n",
       "337              6             2.000000  2.000000  \n",
       "113              6             2.000000  2.000000  \n",
       "58               6             2.000000  2.000000  \n",
       "601              6             2.000000  2.000000  "
      ]
     },
     "execution_count": 12,
     "metadata": {},
     "output_type": "execute_result"
    }
   ],
   "source": [
    "rec.head(10\n",
    "    )"
   ]
  },
  {
   "cell_type": "code",
   "execution_count": 212,
   "metadata": {},
   "outputs": [
    {
     "data": {
      "text/html": [
       "<div>\n",
       "<style scoped>\n",
       "    .dataframe tbody tr th:only-of-type {\n",
       "        vertical-align: middle;\n",
       "    }\n",
       "\n",
       "    .dataframe tbody tr th {\n",
       "        vertical-align: top;\n",
       "    }\n",
       "\n",
       "    .dataframe thead th {\n",
       "        text-align: right;\n",
       "    }\n",
       "</style>\n",
       "<table border=\"1\" class=\"dataframe\">\n",
       "  <thead>\n",
       "    <tr style=\"text-align: right;\">\n",
       "      <th></th>\n",
       "      <th>artist_rep_interval</th>\n",
       "      <th>song_rep_interval</th>\n",
       "      <th>follower_based</th>\n",
       "      <th>count</th>\n",
       "      <th>playlist_size</th>\n",
       "    </tr>\n",
       "  </thead>\n",
       "  <tbody>\n",
       "    <tr>\n",
       "      <th>0</th>\n",
       "      <td>0</td>\n",
       "      <td>1000</td>\n",
       "      <td>False</td>\n",
       "      <td>5.855930</td>\n",
       "      <td>334</td>\n",
       "    </tr>\n",
       "    <tr>\n",
       "      <th>1</th>\n",
       "      <td>0</td>\n",
       "      <td>1000</td>\n",
       "      <td>True</td>\n",
       "      <td>3.318479</td>\n",
       "      <td>210</td>\n",
       "    </tr>\n",
       "  </tbody>\n",
       "</table>\n",
       "</div>"
      ],
      "text/plain": [
       "   artist_rep_interval  song_rep_interval  follower_based     count  \\\n",
       "0                    0               1000           False  5.855930   \n",
       "1                    0               1000            True  3.318479   \n",
       "\n",
       "   playlist_size  \n",
       "0            334  \n",
       "1            210  "
      ]
     },
     "execution_count": 212,
     "metadata": {},
     "output_type": "execute_result"
    }
   ],
   "source": [
    "r = pd.concat(report)\n",
    "results = r.groupby([\"artist_rep_interval\",\"song_rep_interval\",\"follower_based\"]).mean().sort_values(\"count\",ascending=False).reset_index()\n",
    "results"
   ]
  },
  {
   "cell_type": "code",
   "execution_count": 194,
   "metadata": {},
   "outputs": [],
   "source": [
    "top = results.iloc[0]\n",
    "top_playlist = r[(r[\"artist_rep_interval\"]==top[\"artist_rep_interval\"]) & (r[\"song_rep_interval\"]==top[\"song_rep_interval\"])]"
   ]
  },
  {
   "cell_type": "code",
   "execution_count": 195,
   "metadata": {},
   "outputs": [
    {
     "data": {
      "text/plain": [
       "[<matplotlib.lines.Line2D at 0x1a3b2b0f3a0>]"
      ]
     },
     "execution_count": 195,
     "metadata": {},
     "output_type": "execute_result"
    },
    {
     "data": {
      "image/png": "[encoded data removed]",
      "text/plain": [
       "<Figure size 432x288 with 1 Axes>"
      ]
     },
     "metadata": {
      "needs_background": "light"
     },
     "output_type": "display_data"
    }
   ],
   "source": [
    "plt.plot(top_playlist[\"count\"])"
   ]
  },
  {
   "cell_type": "code",
   "execution_count": 196,
   "metadata": {},
   "outputs": [
    {
     "data": {
      "text/html": [
       "<div>\n",
       "<style scoped>\n",
       "    .dataframe tbody tr th:only-of-type {\n",
       "        vertical-align: middle;\n",
       "    }\n",
       "\n",
       "    .dataframe tbody tr th {\n",
       "        vertical-align: top;\n",
       "    }\n",
       "\n",
       "    .dataframe thead th {\n",
       "        text-align: right;\n",
       "    }\n",
       "</style>\n",
       "<table border=\"1\" class=\"dataframe\">\n",
       "  <thead>\n",
       "    <tr style=\"text-align: right;\">\n",
       "      <th></th>\n",
       "      <th></th>\n",
       "      <th>count</th>\n",
       "      <th>artist_rep_interval</th>\n",
       "      <th>song_rep_interval</th>\n",
       "      <th>playlist_appearance</th>\n",
       "    </tr>\n",
       "    <tr>\n",
       "      <th>artist_name</th>\n",
       "      <th>track_name</th>\n",
       "      <th></th>\n",
       "      <th></th>\n",
       "      <th></th>\n",
       "      <th></th>\n",
       "    </tr>\n",
       "  </thead>\n",
       "  <tbody>\n",
       "    <tr>\n",
       "      <th>A Boogie Wit da Hoodie</th>\n",
       "      <th>Drowning (feat. Kodak Black)</th>\n",
       "      <td>20</td>\n",
       "      <td>0</td>\n",
       "      <td>100</td>\n",
       "      <td>1</td>\n",
       "    </tr>\n",
       "    <tr>\n",
       "      <th>Rihanna</th>\n",
       "      <th>Work</th>\n",
       "      <td>8</td>\n",
       "      <td>0</td>\n",
       "      <td>100</td>\n",
       "      <td>1</td>\n",
       "    </tr>\n",
       "    <tr>\n",
       "      <th>Lil Uzi Vert</th>\n",
       "      <th>XO TOUR Llif3</th>\n",
       "      <td>23</td>\n",
       "      <td>0</td>\n",
       "      <td>100</td>\n",
       "      <td>1</td>\n",
       "    </tr>\n",
       "    <tr>\n",
       "      <th>Lorde</th>\n",
       "      <th>Royals</th>\n",
       "      <td>5</td>\n",
       "      <td>0</td>\n",
       "      <td>100</td>\n",
       "      <td>1</td>\n",
       "    </tr>\n",
       "    <tr>\n",
       "      <th>MAGIC!</th>\n",
       "      <th>Rude</th>\n",
       "      <td>6</td>\n",
       "      <td>0</td>\n",
       "      <td>100</td>\n",
       "      <td>1</td>\n",
       "    </tr>\n",
       "    <tr>\n",
       "      <th>Major Lazer</th>\n",
       "      <th>Cold Water (feat. Justin Bieber &amp; MØ)</th>\n",
       "      <td>13</td>\n",
       "      <td>0</td>\n",
       "      <td>100</td>\n",
       "      <td>1</td>\n",
       "    </tr>\n",
       "    <tr>\n",
       "      <th rowspan=\"3\" valign=\"top\">Migos</th>\n",
       "      <th>Bad and Boujee (feat. Lil Uzi Vert)</th>\n",
       "      <td>14</td>\n",
       "      <td>0</td>\n",
       "      <td>100</td>\n",
       "      <td>1</td>\n",
       "    </tr>\n",
       "    <tr>\n",
       "      <th>Slippery (feat. Gucci Mane)</th>\n",
       "      <td>15</td>\n",
       "      <td>0</td>\n",
       "      <td>100</td>\n",
       "      <td>1</td>\n",
       "    </tr>\n",
       "    <tr>\n",
       "      <th>T-Shirt</th>\n",
       "      <td>25</td>\n",
       "      <td>0</td>\n",
       "      <td>100</td>\n",
       "      <td>1</td>\n",
       "    </tr>\n",
       "    <tr>\n",
       "      <th>Miley Cyrus</th>\n",
       "      <th>We Can't Stop</th>\n",
       "      <td>8</td>\n",
       "      <td>0</td>\n",
       "      <td>100</td>\n",
       "      <td>1</td>\n",
       "    </tr>\n",
       "    <tr>\n",
       "      <th rowspan=\"2\" valign=\"top\">Post Malone</th>\n",
       "      <th>Congratulations</th>\n",
       "      <td>30</td>\n",
       "      <td>0</td>\n",
       "      <td>100</td>\n",
       "      <td>1</td>\n",
       "    </tr>\n",
       "    <tr>\n",
       "      <th>White Iverson</th>\n",
       "      <td>12</td>\n",
       "      <td>0</td>\n",
       "      <td>100</td>\n",
       "      <td>1</td>\n",
       "    </tr>\n",
       "    <tr>\n",
       "      <th rowspan=\"2\" valign=\"top\">Rae Sremmurd</th>\n",
       "      <th>Black Beatles</th>\n",
       "      <td>18</td>\n",
       "      <td>0</td>\n",
       "      <td>100</td>\n",
       "      <td>1</td>\n",
       "    </tr>\n",
       "    <tr>\n",
       "      <th>Come Get Her</th>\n",
       "      <td>13</td>\n",
       "      <td>0</td>\n",
       "      <td>100</td>\n",
       "      <td>1</td>\n",
       "    </tr>\n",
       "    <tr>\n",
       "      <th>Rob $tone</th>\n",
       "      <th>Chill Bill</th>\n",
       "      <td>15</td>\n",
       "      <td>0</td>\n",
       "      <td>100</td>\n",
       "      <td>1</td>\n",
       "    </tr>\n",
       "    <tr>\n",
       "      <th>Kodak Black</th>\n",
       "      <th>Tunnel Vision</th>\n",
       "      <td>15</td>\n",
       "      <td>0</td>\n",
       "      <td>100</td>\n",
       "      <td>1</td>\n",
       "    </tr>\n",
       "    <tr>\n",
       "      <th>Sam Smith</th>\n",
       "      <th>Stay With Me</th>\n",
       "      <td>13</td>\n",
       "      <td>0</td>\n",
       "      <td>100</td>\n",
       "      <td>1</td>\n",
       "    </tr>\n",
       "    <tr>\n",
       "      <th>Shawn Mendes</th>\n",
       "      <th>Stitches</th>\n",
       "      <td>11</td>\n",
       "      <td>0</td>\n",
       "      <td>100</td>\n",
       "      <td>1</td>\n",
       "    </tr>\n",
       "    <tr>\n",
       "      <th rowspan=\"2\" valign=\"top\">The Chainsmokers</th>\n",
       "      <th>Closer</th>\n",
       "      <td>13</td>\n",
       "      <td>0</td>\n",
       "      <td>100</td>\n",
       "      <td>1</td>\n",
       "    </tr>\n",
       "    <tr>\n",
       "      <th>Don't Let Me Down</th>\n",
       "      <td>9</td>\n",
       "      <td>0</td>\n",
       "      <td>100</td>\n",
       "      <td>1</td>\n",
       "    </tr>\n",
       "  </tbody>\n",
       "</table>\n",
       "</div>"
      ],
      "text/plain": [
       "                                                              count  \\\n",
       "artist_name            track_name                                     \n",
       "A Boogie Wit da Hoodie Drowning (feat. Kodak Black)              20   \n",
       "Rihanna                Work                                       8   \n",
       "Lil Uzi Vert           XO TOUR Llif3                             23   \n",
       "Lorde                  Royals                                     5   \n",
       "MAGIC!                 Rude                                       6   \n",
       "Major Lazer            Cold Water (feat. Justin Bieber & MØ)     13   \n",
       "Migos                  Bad and Boujee (feat. Lil Uzi Vert)       14   \n",
       "                       Slippery (feat. Gucci Mane)               15   \n",
       "                       T-Shirt                                   25   \n",
       "Miley Cyrus            We Can't Stop                              8   \n",
       "Post Malone            Congratulations                           30   \n",
       "                       White Iverson                             12   \n",
       "Rae Sremmurd           Black Beatles                             18   \n",
       "                       Come Get Her                              13   \n",
       "Rob $tone              Chill Bill                                15   \n",
       "Kodak Black            Tunnel Vision                             15   \n",
       "Sam Smith              Stay With Me                              13   \n",
       "Shawn Mendes           Stitches                                  11   \n",
       "The Chainsmokers       Closer                                    13   \n",
       "                       Don't Let Me Down                          9   \n",
       "\n",
       "                                                              artist_rep_interval  \\\n",
       "artist_name            track_name                                                   \n",
       "A Boogie Wit da Hoodie Drowning (feat. Kodak Black)                             0   \n",
       "Rihanna                Work                                                     0   \n",
       "Lil Uzi Vert           XO TOUR Llif3                                            0   \n",
       "Lorde                  Royals                                                   0   \n",
       "MAGIC!                 Rude                                                     0   \n",
       "Major Lazer            Cold Water (feat. Justin Bieber & MØ)                    0   \n",
       "Migos                  Bad and Boujee (feat. Lil Uzi Vert)                      0   \n",
       "                       Slippery (feat. Gucci Mane)                              0   \n",
       "                       T-Shirt                                                  0   \n",
       "Miley Cyrus            We Can't Stop                                            0   \n",
       "Post Malone            Congratulations                                          0   \n",
       "                       White Iverson                                            0   \n",
       "Rae Sremmurd           Black Beatles                                            0   \n",
       "                       Come Get Her                                             0   \n",
       "Rob $tone              Chill Bill                                               0   \n",
       "Kodak Black            Tunnel Vision                                            0   \n",
       "Sam Smith              Stay With Me                                             0   \n",
       "Shawn Mendes           Stitches                                                 0   \n",
       "The Chainsmokers       Closer                                                   0   \n",
       "                       Don't Let Me Down                                        0   \n",
       "\n",
       "                                                              song_rep_interval  \\\n",
       "artist_name            track_name                                                 \n",
       "A Boogie Wit da Hoodie Drowning (feat. Kodak Black)                         100   \n",
       "Rihanna                Work                                                 100   \n",
       "Lil Uzi Vert           XO TOUR Llif3                                        100   \n",
       "Lorde                  Royals                                               100   \n",
       "MAGIC!                 Rude                                                 100   \n",
       "Major Lazer            Cold Water (feat. Justin Bieber & MØ)                100   \n",
       "Migos                  Bad and Boujee (feat. Lil Uzi Vert)                  100   \n",
       "                       Slippery (feat. Gucci Mane)                          100   \n",
       "                       T-Shirt                                              100   \n",
       "Miley Cyrus            We Can't Stop                                        100   \n",
       "Post Malone            Congratulations                                      100   \n",
       "                       White Iverson                                        100   \n",
       "Rae Sremmurd           Black Beatles                                        100   \n",
       "                       Come Get Her                                         100   \n",
       "Rob $tone              Chill Bill                                           100   \n",
       "Kodak Black            Tunnel Vision                                        100   \n",
       "Sam Smith              Stay With Me                                         100   \n",
       "Shawn Mendes           Stitches                                             100   \n",
       "The Chainsmokers       Closer                                               100   \n",
       "                       Don't Let Me Down                                    100   \n",
       "\n",
       "                                                              playlist_appearance  \n",
       "artist_name            track_name                                                  \n",
       "A Boogie Wit da Hoodie Drowning (feat. Kodak Black)                             1  \n",
       "Rihanna                Work                                                     1  \n",
       "Lil Uzi Vert           XO TOUR Llif3                                            1  \n",
       "Lorde                  Royals                                                   1  \n",
       "MAGIC!                 Rude                                                     1  \n",
       "Major Lazer            Cold Water (feat. Justin Bieber & MØ)                    1  \n",
       "Migos                  Bad and Boujee (feat. Lil Uzi Vert)                      1  \n",
       "                       Slippery (feat. Gucci Mane)                              1  \n",
       "                       T-Shirt                                                  1  \n",
       "Miley Cyrus            We Can't Stop                                            1  \n",
       "Post Malone            Congratulations                                          1  \n",
       "                       White Iverson                                            1  \n",
       "Rae Sremmurd           Black Beatles                                            1  \n",
       "                       Come Get Her                                             1  \n",
       "Rob $tone              Chill Bill                                               1  \n",
       "Kodak Black            Tunnel Vision                                            1  \n",
       "Sam Smith              Stay With Me                                             1  \n",
       "Shawn Mendes           Stitches                                                 1  \n",
       "The Chainsmokers       Closer                                                   1  \n",
       "                       Don't Let Me Down                                        1  "
      ]
     },
     "execution_count": 196,
     "metadata": {},
     "output_type": "execute_result"
    }
   ],
   "source": [
    "top_playlist[\"playlist_appearance\"] = 1\n",
    "top_playlist.groupby([\"artist_name\",\"track_name\"]).sum().sort_values(\"playlist_appearance\",ascending=False).head(20)"
   ]
  },
  {
   "cell_type": "code",
   "execution_count": 197,
   "metadata": {},
   "outputs": [
    {
     "data": {
      "text/html": [
       "<div>\n",
       "<style scoped>\n",
       "    .dataframe tbody tr th:only-of-type {\n",
       "        vertical-align: middle;\n",
       "    }\n",
       "\n",
       "    .dataframe tbody tr th {\n",
       "        vertical-align: top;\n",
       "    }\n",
       "\n",
       "    .dataframe thead th {\n",
       "        text-align: right;\n",
       "    }\n",
       "</style>\n",
       "<table border=\"1\" class=\"dataframe\">\n",
       "  <thead>\n",
       "    <tr style=\"text-align: right;\">\n",
       "      <th></th>\n",
       "      <th>track_uri</th>\n",
       "      <th>artist_uri</th>\n",
       "      <th>artist_name</th>\n",
       "      <th>track_name</th>\n",
       "      <th>count</th>\n",
       "      <th>artist_rep_interval</th>\n",
       "      <th>song_rep_interval</th>\n",
       "      <th>playlist_appearance</th>\n",
       "    </tr>\n",
       "  </thead>\n",
       "  <tbody>\n",
       "    <tr>\n",
       "      <th>0</th>\n",
       "      <td>spotify:track:6DNtNfH8hXkqOX1sjqmI7p</td>\n",
       "      <td>spotify:artist:738wLrAtLtCtFOLvQBXOXp</td>\n",
       "      <td>Major Lazer</td>\n",
       "      <td>Cold Water (feat. Justin Bieber &amp; MØ)</td>\n",
       "      <td>13</td>\n",
       "      <td>0</td>\n",
       "      <td>100</td>\n",
       "      <td>1</td>\n",
       "    </tr>\n",
       "    <tr>\n",
       "      <th>1</th>\n",
       "      <td>spotify:track:7BKLCZ1jbUBVqRi2FVlTVw</td>\n",
       "      <td>spotify:artist:69GGBxA162lTqCwzJG5jLp</td>\n",
       "      <td>The Chainsmokers</td>\n",
       "      <td>Closer</td>\n",
       "      <td>13</td>\n",
       "      <td>0</td>\n",
       "      <td>100</td>\n",
       "      <td>1</td>\n",
       "    </tr>\n",
       "    <tr>\n",
       "      <th>2</th>\n",
       "      <td>spotify:track:6WhzFzROw3aq3rPWjgYlxr</td>\n",
       "      <td>spotify:artist:4u5smJBskI6Adzv08PuiUP</td>\n",
       "      <td>Kiiara</td>\n",
       "      <td>Gold</td>\n",
       "      <td>12</td>\n",
       "      <td>0</td>\n",
       "      <td>100</td>\n",
       "      <td>1</td>\n",
       "    </tr>\n",
       "    <tr>\n",
       "      <th>3</th>\n",
       "      <td>spotify:track:0QsvXIfqM0zZoerQfsI9lm</td>\n",
       "      <td>spotify:artist:69GGBxA162lTqCwzJG5jLp</td>\n",
       "      <td>The Chainsmokers</td>\n",
       "      <td>Don't Let Me Down</td>\n",
       "      <td>9</td>\n",
       "      <td>0</td>\n",
       "      <td>100</td>\n",
       "      <td>1</td>\n",
       "    </tr>\n",
       "    <tr>\n",
       "      <th>4</th>\n",
       "      <td>spotify:track:2Z8WuEywRWYTKe1NybPQEW</td>\n",
       "      <td>spotify:artist:3YQKmKGau1PzlVlkL1iodx</td>\n",
       "      <td>Twenty One Pilots</td>\n",
       "      <td>Ride</td>\n",
       "      <td>9</td>\n",
       "      <td>0</td>\n",
       "      <td>100</td>\n",
       "      <td>1</td>\n",
       "    </tr>\n",
       "    <tr>\n",
       "      <th>5</th>\n",
       "      <td>spotify:track:4OZEu0Vwq0RB2LAq14v99n</td>\n",
       "      <td>spotify:artist:540vIaP2JwjQb9dm3aArA4</td>\n",
       "      <td>DJ Snake</td>\n",
       "      <td>Middle</td>\n",
       "      <td>7</td>\n",
       "      <td>0</td>\n",
       "      <td>100</td>\n",
       "      <td>1</td>\n",
       "    </tr>\n",
       "    <tr>\n",
       "      <th>6</th>\n",
       "      <td>spotify:track:14WWzenpaEgQZlqPq2nk4v</td>\n",
       "      <td>spotify:artist:5pKCCKE2ajJHZ9KAiaK11H</td>\n",
       "      <td>Rihanna</td>\n",
       "      <td>Work</td>\n",
       "      <td>8</td>\n",
       "      <td>0</td>\n",
       "      <td>100</td>\n",
       "      <td>1</td>\n",
       "    </tr>\n",
       "    <tr>\n",
       "      <th>7</th>\n",
       "      <td>spotify:track:1xznGGDReH1oQq0xzbwXa3</td>\n",
       "      <td>spotify:artist:3TVXtAsR1Inumwj472S9r4</td>\n",
       "      <td>Drake</td>\n",
       "      <td>One Dance</td>\n",
       "      <td>9</td>\n",
       "      <td>0</td>\n",
       "      <td>100</td>\n",
       "      <td>1</td>\n",
       "    </tr>\n",
       "    <tr>\n",
       "      <th>8</th>\n",
       "      <td>spotify:track:7yyRTcZmCiyzzJlNzGC9Ol</td>\n",
       "      <td>spotify:artist:5M0lbkGluOPXLeFjApw8r8</td>\n",
       "      <td>DRAM</td>\n",
       "      <td>Broccoli (feat. Lil Yachty)</td>\n",
       "      <td>14</td>\n",
       "      <td>0</td>\n",
       "      <td>100</td>\n",
       "      <td>1</td>\n",
       "    </tr>\n",
       "    <tr>\n",
       "      <th>9</th>\n",
       "      <td>spotify:track:5hTpBe8h35rJ67eAWHQsJx</td>\n",
       "      <td>spotify:artist:3Gm5F95VdRxW3mqCn8RPBJ</td>\n",
       "      <td>Aminé</td>\n",
       "      <td>Caroline</td>\n",
       "      <td>23</td>\n",
       "      <td>0</td>\n",
       "      <td>100</td>\n",
       "      <td>1</td>\n",
       "    </tr>\n",
       "    <tr>\n",
       "      <th>10</th>\n",
       "      <td>spotify:track:343YBumqHu19cGoGARUTsd</td>\n",
       "      <td>spotify:artist:3TVXtAsR1Inumwj472S9r4</td>\n",
       "      <td>Drake</td>\n",
       "      <td>Fake Love</td>\n",
       "      <td>21</td>\n",
       "      <td>0</td>\n",
       "      <td>100</td>\n",
       "      <td>1</td>\n",
       "    </tr>\n",
       "    <tr>\n",
       "      <th>11</th>\n",
       "      <td>spotify:track:7KXjTSCq5nL1LoYtL7XAwS</td>\n",
       "      <td>spotify:artist:2YZyLoL8N0Wb9xBt1NhZWg</td>\n",
       "      <td>Kendrick Lamar</td>\n",
       "      <td>HUMBLE.</td>\n",
       "      <td>18</td>\n",
       "      <td>0</td>\n",
       "      <td>100</td>\n",
       "      <td>1</td>\n",
       "    </tr>\n",
       "    <tr>\n",
       "      <th>12</th>\n",
       "      <td>spotify:track:3a1lNhkSLSkpJE4MSHpDu9</td>\n",
       "      <td>spotify:artist:246dkjvS1zLTtiykXe5h60</td>\n",
       "      <td>Post Malone</td>\n",
       "      <td>Congratulations</td>\n",
       "      <td>30</td>\n",
       "      <td>0</td>\n",
       "      <td>100</td>\n",
       "      <td>1</td>\n",
       "    </tr>\n",
       "    <tr>\n",
       "      <th>13</th>\n",
       "      <td>spotify:track:0VgkVdmE4gld66l8iyGjgx</td>\n",
       "      <td>spotify:artist:1RyvyyTE3xzB2ZywiAwp0i</td>\n",
       "      <td>Future</td>\n",
       "      <td>Mask Off</td>\n",
       "      <td>27</td>\n",
       "      <td>0</td>\n",
       "      <td>100</td>\n",
       "      <td>1</td>\n",
       "    </tr>\n",
       "    <tr>\n",
       "      <th>14</th>\n",
       "      <td>spotify:track:7KOlJ92bu51cltsD9KU5I7</td>\n",
       "      <td>spotify:artist:6oMuImdp5ZcFhWP0ESe6mG</td>\n",
       "      <td>Migos</td>\n",
       "      <td>T-Shirt</td>\n",
       "      <td>25</td>\n",
       "      <td>0</td>\n",
       "      <td>100</td>\n",
       "      <td>1</td>\n",
       "    </tr>\n",
       "    <tr>\n",
       "      <th>15</th>\n",
       "      <td>spotify:track:7GX5flRQZVHRAGd6B4TmDO</td>\n",
       "      <td>spotify:artist:4O15NlyKLIASxsJ0PrXPfz</td>\n",
       "      <td>Lil Uzi Vert</td>\n",
       "      <td>XO TOUR Llif3</td>\n",
       "      <td>23</td>\n",
       "      <td>0</td>\n",
       "      <td>100</td>\n",
       "      <td>1</td>\n",
       "    </tr>\n",
       "    <tr>\n",
       "      <th>16</th>\n",
       "      <td>spotify:track:1f5cbQtDrykjarZVrShaDI</td>\n",
       "      <td>spotify:artist:31W5EY0aAly4Qieq6OFu6I</td>\n",
       "      <td>A Boogie Wit da Hoodie</td>\n",
       "      <td>Drowning (feat. Kodak Black)</td>\n",
       "      <td>20</td>\n",
       "      <td>0</td>\n",
       "      <td>100</td>\n",
       "      <td>1</td>\n",
       "    </tr>\n",
       "    <tr>\n",
       "      <th>17</th>\n",
       "      <td>spotify:track:6gBFPUFcJLzWGx4lenP6h2</td>\n",
       "      <td>spotify:artist:0Y5tJX1MQlPlqiwlOH1tJY</td>\n",
       "      <td>Travis Scott</td>\n",
       "      <td>goosebumps</td>\n",
       "      <td>17</td>\n",
       "      <td>0</td>\n",
       "      <td>100</td>\n",
       "      <td>1</td>\n",
       "    </tr>\n",
       "    <tr>\n",
       "      <th>18</th>\n",
       "      <td>spotify:track:6p8NuHm8uCGnn2Dtbtf7zE</td>\n",
       "      <td>spotify:artist:6oMuImdp5ZcFhWP0ESe6mG</td>\n",
       "      <td>Migos</td>\n",
       "      <td>Slippery (feat. Gucci Mane)</td>\n",
       "      <td>15</td>\n",
       "      <td>0</td>\n",
       "      <td>100</td>\n",
       "      <td>1</td>\n",
       "    </tr>\n",
       "    <tr>\n",
       "      <th>19</th>\n",
       "      <td>spotify:track:4Q3N4Ct4zCuIHuZ65E3BD4</td>\n",
       "      <td>spotify:artist:46SHBwWsqBkxI7EeeBEQG7</td>\n",
       "      <td>Kodak Black</td>\n",
       "      <td>Tunnel Vision</td>\n",
       "      <td>15</td>\n",
       "      <td>0</td>\n",
       "      <td>100</td>\n",
       "      <td>1</td>\n",
       "    </tr>\n",
       "    <tr>\n",
       "      <th>20</th>\n",
       "      <td>spotify:track:4Km5HrUvYTaSUfiSGPJeQR</td>\n",
       "      <td>spotify:artist:6oMuImdp5ZcFhWP0ESe6mG</td>\n",
       "      <td>Migos</td>\n",
       "      <td>Bad and Boujee (feat. Lil Uzi Vert)</td>\n",
       "      <td>14</td>\n",
       "      <td>0</td>\n",
       "      <td>100</td>\n",
       "      <td>1</td>\n",
       "    </tr>\n",
       "    <tr>\n",
       "      <th>21</th>\n",
       "      <td>spotify:track:0SGkqnVQo9KPytSri1H6cF</td>\n",
       "      <td>spotify:artist:0c173mlxpT3dSFRgMO8XPh</td>\n",
       "      <td>Big Sean</td>\n",
       "      <td>Bounce Back</td>\n",
       "      <td>20</td>\n",
       "      <td>0</td>\n",
       "      <td>100</td>\n",
       "      <td>1</td>\n",
       "    </tr>\n",
       "    <tr>\n",
       "      <th>22</th>\n",
       "      <td>spotify:track:2EEeOnHehOozLq4aS0n6SL</td>\n",
       "      <td>spotify:artist:4qBgvVog0wzW75IQ48mU7v</td>\n",
       "      <td>KYLE</td>\n",
       "      <td>iSpy (feat. Lil Yachty)</td>\n",
       "      <td>19</td>\n",
       "      <td>0</td>\n",
       "      <td>100</td>\n",
       "      <td>1</td>\n",
       "    </tr>\n",
       "    <tr>\n",
       "      <th>23</th>\n",
       "      <td>spotify:track:0v9Wz8o0BT8DU38R4ddjeH</td>\n",
       "      <td>spotify:artist:1anyVhU62p31KFi8MEzkbf</td>\n",
       "      <td>Chance The Rapper</td>\n",
       "      <td>No Problem (feat. Lil Wayne &amp; 2 Chainz)</td>\n",
       "      <td>16</td>\n",
       "      <td>0</td>\n",
       "      <td>100</td>\n",
       "      <td>1</td>\n",
       "    </tr>\n",
       "    <tr>\n",
       "      <th>24</th>\n",
       "      <td>spotify:track:0B8QzDH7YWih85V5SEMnyJ</td>\n",
       "      <td>spotify:artist:4O15NlyKLIASxsJ0PrXPfz</td>\n",
       "      <td>Lil Uzi Vert</td>\n",
       "      <td>Money Longer</td>\n",
       "      <td>13</td>\n",
       "      <td>0</td>\n",
       "      <td>100</td>\n",
       "      <td>1</td>\n",
       "    </tr>\n",
       "    <tr>\n",
       "      <th>25</th>\n",
       "      <td>spotify:track:62vpWI1CHwFy7tMIcSStl8</td>\n",
       "      <td>spotify:artist:6l3HvQ5sa6mXTsMTB19rO5</td>\n",
       "      <td>J. Cole</td>\n",
       "      <td>No Role Modelz</td>\n",
       "      <td>15</td>\n",
       "      <td>0</td>\n",
       "      <td>100</td>\n",
       "      <td>1</td>\n",
       "    </tr>\n",
       "    <tr>\n",
       "      <th>26</th>\n",
       "      <td>spotify:track:5uDASfU19gDxSjW8cnCaBp</td>\n",
       "      <td>spotify:artist:2hWs22BmQkK4czFtDLnar2</td>\n",
       "      <td>Rob $tone</td>\n",
       "      <td>Chill Bill</td>\n",
       "      <td>15</td>\n",
       "      <td>0</td>\n",
       "      <td>100</td>\n",
       "      <td>1</td>\n",
       "    </tr>\n",
       "    <tr>\n",
       "      <th>27</th>\n",
       "      <td>spotify:track:6fujklziTHa8uoM5OQSfIo</td>\n",
       "      <td>spotify:artist:7iZtZyCzp3LItcw1wtPI3D</td>\n",
       "      <td>Rae Sremmurd</td>\n",
       "      <td>Black Beatles</td>\n",
       "      <td>18</td>\n",
       "      <td>0</td>\n",
       "      <td>100</td>\n",
       "      <td>1</td>\n",
       "    </tr>\n",
       "    <tr>\n",
       "      <th>28</th>\n",
       "      <td>spotify:track:5aAx2yezTd8zXrkmtKl66Z</td>\n",
       "      <td>spotify:artist:1Xyo4u8uXC1ZmMpatF05PJ</td>\n",
       "      <td>The Weeknd</td>\n",
       "      <td>Starboy</td>\n",
       "      <td>14</td>\n",
       "      <td>0</td>\n",
       "      <td>100</td>\n",
       "      <td>1</td>\n",
       "    </tr>\n",
       "    <tr>\n",
       "      <th>29</th>\n",
       "      <td>spotify:track:6eT7xZZlB2mwyzJ2sUKG6w</td>\n",
       "      <td>spotify:artist:246dkjvS1zLTtiykXe5h60</td>\n",
       "      <td>Post Malone</td>\n",
       "      <td>White Iverson</td>\n",
       "      <td>12</td>\n",
       "      <td>0</td>\n",
       "      <td>100</td>\n",
       "      <td>1</td>\n",
       "    </tr>\n",
       "    <tr>\n",
       "      <th>30</th>\n",
       "      <td>spotify:track:27GmP9AWRs744SzKcpJsTZ</td>\n",
       "      <td>spotify:artist:3TVXtAsR1Inumwj472S9r4</td>\n",
       "      <td>Drake</td>\n",
       "      <td>Jumpman</td>\n",
       "      <td>11</td>\n",
       "      <td>0</td>\n",
       "      <td>100</td>\n",
       "      <td>1</td>\n",
       "    </tr>\n",
       "    <tr>\n",
       "      <th>31</th>\n",
       "      <td>spotify:track:5OOkp4U9P9oL23maHFHL1h</td>\n",
       "      <td>spotify:artist:7pFeBzX627ff0VnN6bxPR4</td>\n",
       "      <td>Desiigner</td>\n",
       "      <td>Panda</td>\n",
       "      <td>16</td>\n",
       "      <td>0</td>\n",
       "      <td>100</td>\n",
       "      <td>1</td>\n",
       "    </tr>\n",
       "    <tr>\n",
       "      <th>32</th>\n",
       "      <td>spotify:track:1Ser4X0TKttOvo8bgdytTP</td>\n",
       "      <td>spotify:artist:7iZtZyCzp3LItcw1wtPI3D</td>\n",
       "      <td>Rae Sremmurd</td>\n",
       "      <td>Come Get Her</td>\n",
       "      <td>13</td>\n",
       "      <td>0</td>\n",
       "      <td>100</td>\n",
       "      <td>1</td>\n",
       "    </tr>\n",
       "    <tr>\n",
       "      <th>33</th>\n",
       "      <td>spotify:track:1wHZx0LgzFHyeIZkUydNXq</td>\n",
       "      <td>spotify:artist:0Y5tJX1MQlPlqiwlOH1tJY</td>\n",
       "      <td>Travis Scott</td>\n",
       "      <td>Antidote</td>\n",
       "      <td>13</td>\n",
       "      <td>0</td>\n",
       "      <td>100</td>\n",
       "      <td>1</td>\n",
       "    </tr>\n",
       "    <tr>\n",
       "      <th>34</th>\n",
       "      <td>spotify:track:2d8JP84HNLKhmd6IYOoupQ</td>\n",
       "      <td>spotify:artist:6PXS4YHDkKvl1wkIl4V8DL</td>\n",
       "      <td>Fetty Wap</td>\n",
       "      <td>Trap Queen</td>\n",
       "      <td>13</td>\n",
       "      <td>0</td>\n",
       "      <td>100</td>\n",
       "      <td>1</td>\n",
       "    </tr>\n",
       "    <tr>\n",
       "      <th>35</th>\n",
       "      <td>spotify:track:4w7yrP4RAeeyhfG9nJqQvS</td>\n",
       "      <td>spotify:artist:0c173mlxpT3dSFRgMO8XPh</td>\n",
       "      <td>Big Sean</td>\n",
       "      <td>I Don't Fuck With You</td>\n",
       "      <td>11</td>\n",
       "      <td>0</td>\n",
       "      <td>100</td>\n",
       "      <td>1</td>\n",
       "    </tr>\n",
       "    <tr>\n",
       "      <th>36</th>\n",
       "      <td>spotify:track:2KpCpk6HjXXLb7nnXoXA5O</td>\n",
       "      <td>spotify:artist:3nFkdlSjzX9mRTtwJOzDYB</td>\n",
       "      <td>JAY Z</td>\n",
       "      <td>Ni**as In Paris</td>\n",
       "      <td>12</td>\n",
       "      <td>0</td>\n",
       "      <td>100</td>\n",
       "      <td>1</td>\n",
       "    </tr>\n",
       "    <tr>\n",
       "      <th>37</th>\n",
       "      <td>spotify:track:2gZUPNdnz5Y45eiGxpHGSc</td>\n",
       "      <td>spotify:artist:5K4W6rqBFWDnAN6FQUkS6x</td>\n",
       "      <td>Kanye West</td>\n",
       "      <td>POWER</td>\n",
       "      <td>11</td>\n",
       "      <td>0</td>\n",
       "      <td>100</td>\n",
       "      <td>1</td>\n",
       "    </tr>\n",
       "    <tr>\n",
       "      <th>38</th>\n",
       "      <td>spotify:track:40YcuQysJ0KlGQTeGUosTC</td>\n",
       "      <td>spotify:artist:02kJSzxNuaWGqwubyUba0Z</td>\n",
       "      <td>G-Eazy</td>\n",
       "      <td>Me, Myself &amp; I</td>\n",
       "      <td>5</td>\n",
       "      <td>0</td>\n",
       "      <td>100</td>\n",
       "      <td>1</td>\n",
       "    </tr>\n",
       "    <tr>\n",
       "      <th>39</th>\n",
       "      <td>spotify:track:6O6M7pJLABmfBRoGZMu76Y</td>\n",
       "      <td>spotify:artist:69GGBxA162lTqCwzJG5jLp</td>\n",
       "      <td>The Chainsmokers</td>\n",
       "      <td>Roses</td>\n",
       "      <td>10</td>\n",
       "      <td>0</td>\n",
       "      <td>100</td>\n",
       "      <td>1</td>\n",
       "    </tr>\n",
       "    <tr>\n",
       "      <th>40</th>\n",
       "      <td>spotify:track:5a7NdkF09AfD0H607eiOkX</td>\n",
       "      <td>spotify:artist:0X2BH1fck6amBIoJhDVmmJ</td>\n",
       "      <td>Ellie Goulding</td>\n",
       "      <td>On My Mind</td>\n",
       "      <td>8</td>\n",
       "      <td>0</td>\n",
       "      <td>100</td>\n",
       "      <td>1</td>\n",
       "    </tr>\n",
       "    <tr>\n",
       "      <th>41</th>\n",
       "      <td>spotify:track:7fPHfBCyKE3aVCBjE4DAvl</td>\n",
       "      <td>spotify:artist:1Xyo4u8uXC1ZmMpatF05PJ</td>\n",
       "      <td>The Weeknd</td>\n",
       "      <td>In The Night</td>\n",
       "      <td>6</td>\n",
       "      <td>0</td>\n",
       "      <td>100</td>\n",
       "      <td>1</td>\n",
       "    </tr>\n",
       "    <tr>\n",
       "      <th>42</th>\n",
       "      <td>spotify:track:6hmhG1b4LEyNuashVvuIAo</td>\n",
       "      <td>spotify:artist:1Xylc3o4UrD53lo9CvFvVg</td>\n",
       "      <td>Zara Larsson</td>\n",
       "      <td>Never Forget You</td>\n",
       "      <td>6</td>\n",
       "      <td>0</td>\n",
       "      <td>100</td>\n",
       "      <td>1</td>\n",
       "    </tr>\n",
       "    <tr>\n",
       "      <th>43</th>\n",
       "      <td>spotify:track:0PDUDa38GO8lMxLCRc4lL1</td>\n",
       "      <td>spotify:artist:5ZsFI1h6hIdQRw2ti0hz81</td>\n",
       "      <td>ZAYN</td>\n",
       "      <td>PILLOWTALK</td>\n",
       "      <td>8</td>\n",
       "      <td>0</td>\n",
       "      <td>100</td>\n",
       "      <td>1</td>\n",
       "    </tr>\n",
       "    <tr>\n",
       "      <th>44</th>\n",
       "      <td>spotify:track:3hB5DgAiMAQ4DzYbsMq1IT</td>\n",
       "      <td>spotify:artist:1uNFoZAHBGtllmzznpCI3s</td>\n",
       "      <td>Justin Bieber</td>\n",
       "      <td>Love Yourself</td>\n",
       "      <td>7</td>\n",
       "      <td>0</td>\n",
       "      <td>100</td>\n",
       "      <td>1</td>\n",
       "    </tr>\n",
       "    <tr>\n",
       "      <th>45</th>\n",
       "      <td>spotify:track:1WP1r7fuvRqZRnUaTi2I1Q</td>\n",
       "      <td>spotify:artist:7n2wHs1TKAczGzO7Dd2rGr</td>\n",
       "      <td>Shawn Mendes</td>\n",
       "      <td>Stitches</td>\n",
       "      <td>11</td>\n",
       "      <td>0</td>\n",
       "      <td>100</td>\n",
       "      <td>1</td>\n",
       "    </tr>\n",
       "    <tr>\n",
       "      <th>46</th>\n",
       "      <td>spotify:track:1wYZZtamWTQAoj8B812uKQ</td>\n",
       "      <td>spotify:artist:2wUjUUtkb5lvLKcGKsKqsR</td>\n",
       "      <td>Alessia Cara</td>\n",
       "      <td>Here</td>\n",
       "      <td>9</td>\n",
       "      <td>0</td>\n",
       "      <td>100</td>\n",
       "      <td>1</td>\n",
       "    </tr>\n",
       "    <tr>\n",
       "      <th>47</th>\n",
       "      <td>spotify:track:69bp2EbF7Q2rqc5N3ylezZ</td>\n",
       "      <td>spotify:artist:1uNFoZAHBGtllmzznpCI3s</td>\n",
       "      <td>Justin Bieber</td>\n",
       "      <td>Sorry</td>\n",
       "      <td>7</td>\n",
       "      <td>0</td>\n",
       "      <td>100</td>\n",
       "      <td>1</td>\n",
       "    </tr>\n",
       "    <tr>\n",
       "      <th>48</th>\n",
       "      <td>spotify:track:6RsWqX8zABZLhZydXxEFOm</td>\n",
       "      <td>spotify:artist:1Xyo4u8uXC1ZmMpatF05PJ</td>\n",
       "      <td>The Weeknd</td>\n",
       "      <td>Can't Feel My Face</td>\n",
       "      <td>7</td>\n",
       "      <td>0</td>\n",
       "      <td>100</td>\n",
       "      <td>1</td>\n",
       "    </tr>\n",
       "    <tr>\n",
       "      <th>49</th>\n",
       "      <td>spotify:track:3pzjHKrQSvXGHQ98dx18HI</td>\n",
       "      <td>spotify:artist:1uNFoZAHBGtllmzznpCI3s</td>\n",
       "      <td>Justin Bieber</td>\n",
       "      <td>What Do You Mean?</td>\n",
       "      <td>9</td>\n",
       "      <td>0</td>\n",
       "      <td>100</td>\n",
       "      <td>1</td>\n",
       "    </tr>\n",
       "  </tbody>\n",
       "</table>\n",
       "</div>"
      ],
      "text/plain": [
       "                               track_uri  \\\n",
       "0   spotify:track:6DNtNfH8hXkqOX1sjqmI7p   \n",
       "1   spotify:track:7BKLCZ1jbUBVqRi2FVlTVw   \n",
       "2   spotify:track:6WhzFzROw3aq3rPWjgYlxr   \n",
       "3   spotify:track:0QsvXIfqM0zZoerQfsI9lm   \n",
       "4   spotify:track:2Z8WuEywRWYTKe1NybPQEW   \n",
       "5   spotify:track:4OZEu0Vwq0RB2LAq14v99n   \n",
       "6   spotify:track:14WWzenpaEgQZlqPq2nk4v   \n",
       "7   spotify:track:1xznGGDReH1oQq0xzbwXa3   \n",
       "8   spotify:track:7yyRTcZmCiyzzJlNzGC9Ol   \n",
       "9   spotify:track:5hTpBe8h35rJ67eAWHQsJx   \n",
       "10  spotify:track:343YBumqHu19cGoGARUTsd   \n",
       "11  spotify:track:7KXjTSCq5nL1LoYtL7XAwS   \n",
       "12  spotify:track:3a1lNhkSLSkpJE4MSHpDu9   \n",
       "13  spotify:track:0VgkVdmE4gld66l8iyGjgx   \n",
       "14  spotify:track:7KOlJ92bu51cltsD9KU5I7   \n",
       "15  spotify:track:7GX5flRQZVHRAGd6B4TmDO   \n",
       "16  spotify:track:1f5cbQtDrykjarZVrShaDI   \n",
       "17  spotify:track:6gBFPUFcJLzWGx4lenP6h2   \n",
       "18  spotify:track:6p8NuHm8uCGnn2Dtbtf7zE   \n",
       "19  spotify:track:4Q3N4Ct4zCuIHuZ65E3BD4   \n",
       "20  spotify:track:4Km5HrUvYTaSUfiSGPJeQR   \n",
       "21  spotify:track:0SGkqnVQo9KPytSri1H6cF   \n",
       "22  spotify:track:2EEeOnHehOozLq4aS0n6SL   \n",
       "23  spotify:track:0v9Wz8o0BT8DU38R4ddjeH   \n",
       "24  spotify:track:0B8QzDH7YWih85V5SEMnyJ   \n",
       "25  spotify:track:62vpWI1CHwFy7tMIcSStl8   \n",
       "26  spotify:track:5uDASfU19gDxSjW8cnCaBp   \n",
       "27  spotify:track:6fujklziTHa8uoM5OQSfIo   \n",
       "28  spotify:track:5aAx2yezTd8zXrkmtKl66Z   \n",
       "29  spotify:track:6eT7xZZlB2mwyzJ2sUKG6w   \n",
       "30  spotify:track:27GmP9AWRs744SzKcpJsTZ   \n",
       "31  spotify:track:5OOkp4U9P9oL23maHFHL1h   \n",
       "32  spotify:track:1Ser4X0TKttOvo8bgdytTP   \n",
       "33  spotify:track:1wHZx0LgzFHyeIZkUydNXq   \n",
       "34  spotify:track:2d8JP84HNLKhmd6IYOoupQ   \n",
       "35  spotify:track:4w7yrP4RAeeyhfG9nJqQvS   \n",
       "36  spotify:track:2KpCpk6HjXXLb7nnXoXA5O   \n",
       "37  spotify:track:2gZUPNdnz5Y45eiGxpHGSc   \n",
       "38  spotify:track:40YcuQysJ0KlGQTeGUosTC   \n",
       "39  spotify:track:6O6M7pJLABmfBRoGZMu76Y   \n",
       "40  spotify:track:5a7NdkF09AfD0H607eiOkX   \n",
       "41  spotify:track:7fPHfBCyKE3aVCBjE4DAvl   \n",
       "42  spotify:track:6hmhG1b4LEyNuashVvuIAo   \n",
       "43  spotify:track:0PDUDa38GO8lMxLCRc4lL1   \n",
       "44  spotify:track:3hB5DgAiMAQ4DzYbsMq1IT   \n",
       "45  spotify:track:1WP1r7fuvRqZRnUaTi2I1Q   \n",
       "46  spotify:track:1wYZZtamWTQAoj8B812uKQ   \n",
       "47  spotify:track:69bp2EbF7Q2rqc5N3ylezZ   \n",
       "48  spotify:track:6RsWqX8zABZLhZydXxEFOm   \n",
       "49  spotify:track:3pzjHKrQSvXGHQ98dx18HI   \n",
       "\n",
       "                               artist_uri             artist_name  \\\n",
       "0   spotify:artist:738wLrAtLtCtFOLvQBXOXp             Major Lazer   \n",
       "1   spotify:artist:69GGBxA162lTqCwzJG5jLp        The Chainsmokers   \n",
       "2   spotify:artist:4u5smJBskI6Adzv08PuiUP                  Kiiara   \n",
       "3   spotify:artist:69GGBxA162lTqCwzJG5jLp        The Chainsmokers   \n",
       "4   spotify:artist:3YQKmKGau1PzlVlkL1iodx       Twenty One Pilots   \n",
       "5   spotify:artist:540vIaP2JwjQb9dm3aArA4                DJ Snake   \n",
       "6   spotify:artist:5pKCCKE2ajJHZ9KAiaK11H                 Rihanna   \n",
       "7   spotify:artist:3TVXtAsR1Inumwj472S9r4                   Drake   \n",
       "8   spotify:artist:5M0lbkGluOPXLeFjApw8r8                    DRAM   \n",
       "9   spotify:artist:3Gm5F95VdRxW3mqCn8RPBJ                   Aminé   \n",
       "10  spotify:artist:3TVXtAsR1Inumwj472S9r4                   Drake   \n",
       "11  spotify:artist:2YZyLoL8N0Wb9xBt1NhZWg          Kendrick Lamar   \n",
       "12  spotify:artist:246dkjvS1zLTtiykXe5h60             Post Malone   \n",
       "13  spotify:artist:1RyvyyTE3xzB2ZywiAwp0i                  Future   \n",
       "14  spotify:artist:6oMuImdp5ZcFhWP0ESe6mG                   Migos   \n",
       "15  spotify:artist:4O15NlyKLIASxsJ0PrXPfz            Lil Uzi Vert   \n",
       "16  spotify:artist:31W5EY0aAly4Qieq6OFu6I  A Boogie Wit da Hoodie   \n",
       "17  spotify:artist:0Y5tJX1MQlPlqiwlOH1tJY            Travis Scott   \n",
       "18  spotify:artist:6oMuImdp5ZcFhWP0ESe6mG                   Migos   \n",
       "19  spotify:artist:46SHBwWsqBkxI7EeeBEQG7             Kodak Black   \n",
       "20  spotify:artist:6oMuImdp5ZcFhWP0ESe6mG                   Migos   \n",
       "21  spotify:artist:0c173mlxpT3dSFRgMO8XPh                Big Sean   \n",
       "22  spotify:artist:4qBgvVog0wzW75IQ48mU7v                    KYLE   \n",
       "23  spotify:artist:1anyVhU62p31KFi8MEzkbf       Chance The Rapper   \n",
       "24  spotify:artist:4O15NlyKLIASxsJ0PrXPfz            Lil Uzi Vert   \n",
       "25  spotify:artist:6l3HvQ5sa6mXTsMTB19rO5                 J. Cole   \n",
       "26  spotify:artist:2hWs22BmQkK4czFtDLnar2               Rob $tone   \n",
       "27  spotify:artist:7iZtZyCzp3LItcw1wtPI3D            Rae Sremmurd   \n",
       "28  spotify:artist:1Xyo4u8uXC1ZmMpatF05PJ              The Weeknd   \n",
       "29  spotify:artist:246dkjvS1zLTtiykXe5h60             Post Malone   \n",
       "30  spotify:artist:3TVXtAsR1Inumwj472S9r4                   Drake   \n",
       "31  spotify:artist:7pFeBzX627ff0VnN6bxPR4               Desiigner   \n",
       "32  spotify:artist:7iZtZyCzp3LItcw1wtPI3D            Rae Sremmurd   \n",
       "33  spotify:artist:0Y5tJX1MQlPlqiwlOH1tJY            Travis Scott   \n",
       "34  spotify:artist:6PXS4YHDkKvl1wkIl4V8DL               Fetty Wap   \n",
       "35  spotify:artist:0c173mlxpT3dSFRgMO8XPh                Big Sean   \n",
       "36  spotify:artist:3nFkdlSjzX9mRTtwJOzDYB                   JAY Z   \n",
       "37  spotify:artist:5K4W6rqBFWDnAN6FQUkS6x              Kanye West   \n",
       "38  spotify:artist:02kJSzxNuaWGqwubyUba0Z                  G-Eazy   \n",
       "39  spotify:artist:69GGBxA162lTqCwzJG5jLp        The Chainsmokers   \n",
       "40  spotify:artist:0X2BH1fck6amBIoJhDVmmJ          Ellie Goulding   \n",
       "41  spotify:artist:1Xyo4u8uXC1ZmMpatF05PJ              The Weeknd   \n",
       "42  spotify:artist:1Xylc3o4UrD53lo9CvFvVg            Zara Larsson   \n",
       "43  spotify:artist:5ZsFI1h6hIdQRw2ti0hz81                    ZAYN   \n",
       "44  spotify:artist:1uNFoZAHBGtllmzznpCI3s           Justin Bieber   \n",
       "45  spotify:artist:7n2wHs1TKAczGzO7Dd2rGr            Shawn Mendes   \n",
       "46  spotify:artist:2wUjUUtkb5lvLKcGKsKqsR            Alessia Cara   \n",
       "47  spotify:artist:1uNFoZAHBGtllmzznpCI3s           Justin Bieber   \n",
       "48  spotify:artist:1Xyo4u8uXC1ZmMpatF05PJ              The Weeknd   \n",
       "49  spotify:artist:1uNFoZAHBGtllmzznpCI3s           Justin Bieber   \n",
       "\n",
       "                                 track_name  count  artist_rep_interval  \\\n",
       "0     Cold Water (feat. Justin Bieber & MØ)     13                    0   \n",
       "1                                    Closer     13                    0   \n",
       "2                                      Gold     12                    0   \n",
       "3                         Don't Let Me Down      9                    0   \n",
       "4                                      Ride      9                    0   \n",
       "5                                    Middle      7                    0   \n",
       "6                                      Work      8                    0   \n",
       "7                                 One Dance      9                    0   \n",
       "8               Broccoli (feat. Lil Yachty)     14                    0   \n",
       "9                                  Caroline     23                    0   \n",
       "10                                Fake Love     21                    0   \n",
       "11                                  HUMBLE.     18                    0   \n",
       "12                          Congratulations     30                    0   \n",
       "13                                 Mask Off     27                    0   \n",
       "14                                  T-Shirt     25                    0   \n",
       "15                            XO TOUR Llif3     23                    0   \n",
       "16             Drowning (feat. Kodak Black)     20                    0   \n",
       "17                               goosebumps     17                    0   \n",
       "18              Slippery (feat. Gucci Mane)     15                    0   \n",
       "19                            Tunnel Vision     15                    0   \n",
       "20      Bad and Boujee (feat. Lil Uzi Vert)     14                    0   \n",
       "21                              Bounce Back     20                    0   \n",
       "22                  iSpy (feat. Lil Yachty)     19                    0   \n",
       "23  No Problem (feat. Lil Wayne & 2 Chainz)     16                    0   \n",
       "24                             Money Longer     13                    0   \n",
       "25                           No Role Modelz     15                    0   \n",
       "26                               Chill Bill     15                    0   \n",
       "27                            Black Beatles     18                    0   \n",
       "28                                  Starboy     14                    0   \n",
       "29                            White Iverson     12                    0   \n",
       "30                                  Jumpman     11                    0   \n",
       "31                                    Panda     16                    0   \n",
       "32                             Come Get Her     13                    0   \n",
       "33                                 Antidote     13                    0   \n",
       "34                               Trap Queen     13                    0   \n",
       "35                    I Don't Fuck With You     11                    0   \n",
       "36                          Ni**as In Paris     12                    0   \n",
       "37                                    POWER     11                    0   \n",
       "38                           Me, Myself & I      5                    0   \n",
       "39                                    Roses     10                    0   \n",
       "40                               On My Mind      8                    0   \n",
       "41                             In The Night      6                    0   \n",
       "42                         Never Forget You      6                    0   \n",
       "43                               PILLOWTALK      8                    0   \n",
       "44                            Love Yourself      7                    0   \n",
       "45                                 Stitches     11                    0   \n",
       "46                                     Here      9                    0   \n",
       "47                                    Sorry      7                    0   \n",
       "48                       Can't Feel My Face      7                    0   \n",
       "49                        What Do You Mean?      9                    0   \n",
       "\n",
       "    song_rep_interval  playlist_appearance  \n",
       "0                 100                    1  \n",
       "1                 100                    1  \n",
       "2                 100                    1  \n",
       "3                 100                    1  \n",
       "4                 100                    1  \n",
       "5                 100                    1  \n",
       "6                 100                    1  \n",
       "7                 100                    1  \n",
       "8                 100                    1  \n",
       "9                 100                    1  \n",
       "10                100                    1  \n",
       "11                100                    1  \n",
       "12                100                    1  \n",
       "13                100                    1  \n",
       "14                100                    1  \n",
       "15                100                    1  \n",
       "16                100                    1  \n",
       "17                100                    1  \n",
       "18                100                    1  \n",
       "19                100                    1  \n",
       "20                100                    1  \n",
       "21                100                    1  \n",
       "22                100                    1  \n",
       "23                100                    1  \n",
       "24                100                    1  \n",
       "25                100                    1  \n",
       "26                100                    1  \n",
       "27                100                    1  \n",
       "28                100                    1  \n",
       "29                100                    1  \n",
       "30                100                    1  \n",
       "31                100                    1  \n",
       "32                100                    1  \n",
       "33                100                    1  \n",
       "34                100                    1  \n",
       "35                100                    1  \n",
       "36                100                    1  \n",
       "37                100                    1  \n",
       "38                100                    1  \n",
       "39                100                    1  \n",
       "40                100                    1  \n",
       "41                100                    1  \n",
       "42                100                    1  \n",
       "43                100                    1  \n",
       "44                100                    1  \n",
       "45                100                    1  \n",
       "46                100                    1  \n",
       "47                100                    1  \n",
       "48                100                    1  \n",
       "49                100                    1  "
      ]
     },
     "execution_count": 197,
     "metadata": {},
     "output_type": "execute_result"
    }
   ],
   "source": [
    "top_playlist.head(50)"
   ]
  },
  {
   "cell_type": "code",
   "execution_count": 198,
   "metadata": {},
   "outputs": [
    {
     "data": {
      "text/html": [
       "<div>\n",
       "<style scoped>\n",
       "    .dataframe tbody tr th:only-of-type {\n",
       "        vertical-align: middle;\n",
       "    }\n",
       "\n",
       "    .dataframe tbody tr th {\n",
       "        vertical-align: top;\n",
       "    }\n",
       "\n",
       "    .dataframe thead th {\n",
       "        text-align: right;\n",
       "    }\n",
       "</style>\n",
       "<table border=\"1\" class=\"dataframe\">\n",
       "  <thead>\n",
       "    <tr style=\"text-align: right;\">\n",
       "      <th></th>\n",
       "      <th>artist_name</th>\n",
       "      <th>track_name</th>\n",
       "      <th>count</th>\n",
       "    </tr>\n",
       "  </thead>\n",
       "  <tbody>\n",
       "    <tr>\n",
       "      <th>40</th>\n",
       "      <td>Post Malone</td>\n",
       "      <td>Congratulations</td>\n",
       "      <td>30</td>\n",
       "    </tr>\n",
       "    <tr>\n",
       "      <th>16</th>\n",
       "      <td>Future</td>\n",
       "      <td>Mask Off</td>\n",
       "      <td>27</td>\n",
       "    </tr>\n",
       "    <tr>\n",
       "      <th>38</th>\n",
       "      <td>Migos</td>\n",
       "      <td>T-Shirt</td>\n",
       "      <td>25</td>\n",
       "    </tr>\n",
       "    <tr>\n",
       "      <th>3</th>\n",
       "      <td>Aminé</td>\n",
       "      <td>Caroline</td>\n",
       "      <td>23</td>\n",
       "    </tr>\n",
       "    <tr>\n",
       "      <th>32</th>\n",
       "      <td>Lil Uzi Vert</td>\n",
       "      <td>XO TOUR Llif3</td>\n",
       "      <td>23</td>\n",
       "    </tr>\n",
       "    <tr>\n",
       "      <th>10</th>\n",
       "      <td>Drake</td>\n",
       "      <td>Fake Love</td>\n",
       "      <td>21</td>\n",
       "    </tr>\n",
       "    <tr>\n",
       "      <th>0</th>\n",
       "      <td>A Boogie Wit da Hoodie</td>\n",
       "      <td>Drowning (feat. Kodak Black)</td>\n",
       "      <td>20</td>\n",
       "    </tr>\n",
       "    <tr>\n",
       "      <th>4</th>\n",
       "      <td>Big Sean</td>\n",
       "      <td>Bounce Back</td>\n",
       "      <td>20</td>\n",
       "    </tr>\n",
       "    <tr>\n",
       "      <th>26</th>\n",
       "      <td>KYLE</td>\n",
       "      <td>iSpy (feat. Lil Yachty)</td>\n",
       "      <td>19</td>\n",
       "    </tr>\n",
       "    <tr>\n",
       "      <th>42</th>\n",
       "      <td>Rae Sremmurd</td>\n",
       "      <td>Black Beatles</td>\n",
       "      <td>18</td>\n",
       "    </tr>\n",
       "    <tr>\n",
       "      <th>28</th>\n",
       "      <td>Kendrick Lamar</td>\n",
       "      <td>HUMBLE.</td>\n",
       "      <td>18</td>\n",
       "    </tr>\n",
       "    <tr>\n",
       "      <th>55</th>\n",
       "      <td>Travis Scott</td>\n",
       "      <td>goosebumps</td>\n",
       "      <td>17</td>\n",
       "    </tr>\n",
       "    <tr>\n",
       "      <th>9</th>\n",
       "      <td>Desiigner</td>\n",
       "      <td>Panda</td>\n",
       "      <td>16</td>\n",
       "    </tr>\n",
       "    <tr>\n",
       "      <th>6</th>\n",
       "      <td>Chance The Rapper</td>\n",
       "      <td>No Problem (feat. Lil Wayne &amp; 2 Chainz)</td>\n",
       "      <td>16</td>\n",
       "    </tr>\n",
       "    <tr>\n",
       "      <th>45</th>\n",
       "      <td>Rob $tone</td>\n",
       "      <td>Chill Bill</td>\n",
       "      <td>15</td>\n",
       "    </tr>\n",
       "    <tr>\n",
       "      <th>30</th>\n",
       "      <td>Kodak Black</td>\n",
       "      <td>Tunnel Vision</td>\n",
       "      <td>15</td>\n",
       "    </tr>\n",
       "    <tr>\n",
       "      <th>19</th>\n",
       "      <td>J. Cole</td>\n",
       "      <td>No Role Modelz</td>\n",
       "      <td>15</td>\n",
       "    </tr>\n",
       "    <tr>\n",
       "      <th>37</th>\n",
       "      <td>Migos</td>\n",
       "      <td>Slippery (feat. Gucci Mane)</td>\n",
       "      <td>15</td>\n",
       "    </tr>\n",
       "    <tr>\n",
       "      <th>53</th>\n",
       "      <td>The Weeknd</td>\n",
       "      <td>Starboy</td>\n",
       "      <td>14</td>\n",
       "    </tr>\n",
       "    <tr>\n",
       "      <th>8</th>\n",
       "      <td>DRAM</td>\n",
       "      <td>Broccoli (feat. Lil Yachty)</td>\n",
       "      <td>14</td>\n",
       "    </tr>\n",
       "    <tr>\n",
       "      <th>36</th>\n",
       "      <td>Migos</td>\n",
       "      <td>Bad and Boujee (feat. Lil Uzi Vert)</td>\n",
       "      <td>14</td>\n",
       "    </tr>\n",
       "    <tr>\n",
       "      <th>35</th>\n",
       "      <td>Major Lazer</td>\n",
       "      <td>Cold Water (feat. Justin Bieber &amp; MØ)</td>\n",
       "      <td>13</td>\n",
       "    </tr>\n",
       "    <tr>\n",
       "      <th>31</th>\n",
       "      <td>Lil Uzi Vert</td>\n",
       "      <td>Money Longer</td>\n",
       "      <td>13</td>\n",
       "    </tr>\n",
       "    <tr>\n",
       "      <th>54</th>\n",
       "      <td>Travis Scott</td>\n",
       "      <td>Antidote</td>\n",
       "      <td>13</td>\n",
       "    </tr>\n",
       "    <tr>\n",
       "      <th>48</th>\n",
       "      <td>The Chainsmokers</td>\n",
       "      <td>Closer</td>\n",
       "      <td>13</td>\n",
       "    </tr>\n",
       "    <tr>\n",
       "      <th>46</th>\n",
       "      <td>Sam Smith</td>\n",
       "      <td>Stay With Me</td>\n",
       "      <td>13</td>\n",
       "    </tr>\n",
       "    <tr>\n",
       "      <th>15</th>\n",
       "      <td>Fetty Wap</td>\n",
       "      <td>Trap Queen</td>\n",
       "      <td>13</td>\n",
       "    </tr>\n",
       "    <tr>\n",
       "      <th>43</th>\n",
       "      <td>Rae Sremmurd</td>\n",
       "      <td>Come Get Her</td>\n",
       "      <td>13</td>\n",
       "    </tr>\n",
       "    <tr>\n",
       "      <th>41</th>\n",
       "      <td>Post Malone</td>\n",
       "      <td>White Iverson</td>\n",
       "      <td>12</td>\n",
       "    </tr>\n",
       "    <tr>\n",
       "      <th>29</th>\n",
       "      <td>Kiiara</td>\n",
       "      <td>Gold</td>\n",
       "      <td>12</td>\n",
       "    </tr>\n",
       "    <tr>\n",
       "      <th>20</th>\n",
       "      <td>JAY Z</td>\n",
       "      <td>Ni**as In Paris</td>\n",
       "      <td>12</td>\n",
       "    </tr>\n",
       "    <tr>\n",
       "      <th>5</th>\n",
       "      <td>Big Sean</td>\n",
       "      <td>I Don't Fuck With You</td>\n",
       "      <td>11</td>\n",
       "    </tr>\n",
       "    <tr>\n",
       "      <th>11</th>\n",
       "      <td>Drake</td>\n",
       "      <td>Jumpman</td>\n",
       "      <td>11</td>\n",
       "    </tr>\n",
       "    <tr>\n",
       "      <th>47</th>\n",
       "      <td>Shawn Mendes</td>\n",
       "      <td>Stitches</td>\n",
       "      <td>11</td>\n",
       "    </tr>\n",
       "    <tr>\n",
       "      <th>27</th>\n",
       "      <td>Kanye West</td>\n",
       "      <td>POWER</td>\n",
       "      <td>11</td>\n",
       "    </tr>\n",
       "    <tr>\n",
       "      <th>50</th>\n",
       "      <td>The Chainsmokers</td>\n",
       "      <td>Roses</td>\n",
       "      <td>10</td>\n",
       "    </tr>\n",
       "    <tr>\n",
       "      <th>25</th>\n",
       "      <td>Justin Bieber</td>\n",
       "      <td>What Do You Mean?</td>\n",
       "      <td>9</td>\n",
       "    </tr>\n",
       "    <tr>\n",
       "      <th>56</th>\n",
       "      <td>Twenty One Pilots</td>\n",
       "      <td>Ride</td>\n",
       "      <td>9</td>\n",
       "    </tr>\n",
       "    <tr>\n",
       "      <th>49</th>\n",
       "      <td>The Chainsmokers</td>\n",
       "      <td>Don't Let Me Down</td>\n",
       "      <td>9</td>\n",
       "    </tr>\n",
       "    <tr>\n",
       "      <th>2</th>\n",
       "      <td>Alessia Cara</td>\n",
       "      <td>Here</td>\n",
       "      <td>9</td>\n",
       "    </tr>\n",
       "    <tr>\n",
       "      <th>12</th>\n",
       "      <td>Drake</td>\n",
       "      <td>One Dance</td>\n",
       "      <td>9</td>\n",
       "    </tr>\n",
       "    <tr>\n",
       "      <th>13</th>\n",
       "      <td>Ed Sheeran</td>\n",
       "      <td>Thinking Out Loud</td>\n",
       "      <td>9</td>\n",
       "    </tr>\n",
       "    <tr>\n",
       "      <th>14</th>\n",
       "      <td>Ellie Goulding</td>\n",
       "      <td>On My Mind</td>\n",
       "      <td>8</td>\n",
       "    </tr>\n",
       "    <tr>\n",
       "      <th>44</th>\n",
       "      <td>Rihanna</td>\n",
       "      <td>Work</td>\n",
       "      <td>8</td>\n",
       "    </tr>\n",
       "    <tr>\n",
       "      <th>39</th>\n",
       "      <td>Miley Cyrus</td>\n",
       "      <td>We Can't Stop</td>\n",
       "      <td>8</td>\n",
       "    </tr>\n",
       "    <tr>\n",
       "      <th>57</th>\n",
       "      <td>ZAYN</td>\n",
       "      <td>PILLOWTALK</td>\n",
       "      <td>8</td>\n",
       "    </tr>\n",
       "    <tr>\n",
       "      <th>7</th>\n",
       "      <td>DJ Snake</td>\n",
       "      <td>Middle</td>\n",
       "      <td>7</td>\n",
       "    </tr>\n",
       "    <tr>\n",
       "      <th>21</th>\n",
       "      <td>Jason Derulo</td>\n",
       "      <td>Trumpets</td>\n",
       "      <td>7</td>\n",
       "    </tr>\n",
       "    <tr>\n",
       "      <th>23</th>\n",
       "      <td>Justin Bieber</td>\n",
       "      <td>Love Yourself</td>\n",
       "      <td>7</td>\n",
       "    </tr>\n",
       "    <tr>\n",
       "      <th>24</th>\n",
       "      <td>Justin Bieber</td>\n",
       "      <td>Sorry</td>\n",
       "      <td>7</td>\n",
       "    </tr>\n",
       "  </tbody>\n",
       "</table>\n",
       "</div>"
      ],
      "text/plain": [
       "               artist_name                               track_name  count\n",
       "40             Post Malone                          Congratulations     30\n",
       "16                  Future                                 Mask Off     27\n",
       "38                   Migos                                  T-Shirt     25\n",
       "3                    Aminé                                 Caroline     23\n",
       "32            Lil Uzi Vert                            XO TOUR Llif3     23\n",
       "10                   Drake                                Fake Love     21\n",
       "0   A Boogie Wit da Hoodie             Drowning (feat. Kodak Black)     20\n",
       "4                 Big Sean                              Bounce Back     20\n",
       "26                    KYLE                  iSpy (feat. Lil Yachty)     19\n",
       "42            Rae Sremmurd                            Black Beatles     18\n",
       "28          Kendrick Lamar                                  HUMBLE.     18\n",
       "55            Travis Scott                               goosebumps     17\n",
       "9                Desiigner                                    Panda     16\n",
       "6        Chance The Rapper  No Problem (feat. Lil Wayne & 2 Chainz)     16\n",
       "45               Rob $tone                               Chill Bill     15\n",
       "30             Kodak Black                            Tunnel Vision     15\n",
       "19                 J. Cole                           No Role Modelz     15\n",
       "37                   Migos              Slippery (feat. Gucci Mane)     15\n",
       "53              The Weeknd                                  Starboy     14\n",
       "8                     DRAM              Broccoli (feat. Lil Yachty)     14\n",
       "36                   Migos      Bad and Boujee (feat. Lil Uzi Vert)     14\n",
       "35             Major Lazer    Cold Water (feat. Justin Bieber & MØ)     13\n",
       "31            Lil Uzi Vert                             Money Longer     13\n",
       "54            Travis Scott                                 Antidote     13\n",
       "48        The Chainsmokers                                   Closer     13\n",
       "46               Sam Smith                             Stay With Me     13\n",
       "15               Fetty Wap                               Trap Queen     13\n",
       "43            Rae Sremmurd                             Come Get Her     13\n",
       "41             Post Malone                            White Iverson     12\n",
       "29                  Kiiara                                     Gold     12\n",
       "20                   JAY Z                          Ni**as In Paris     12\n",
       "5                 Big Sean                    I Don't Fuck With You     11\n",
       "11                   Drake                                  Jumpman     11\n",
       "47            Shawn Mendes                                 Stitches     11\n",
       "27              Kanye West                                    POWER     11\n",
       "50        The Chainsmokers                                    Roses     10\n",
       "25           Justin Bieber                        What Do You Mean?      9\n",
       "56       Twenty One Pilots                                     Ride      9\n",
       "49        The Chainsmokers                        Don't Let Me Down      9\n",
       "2             Alessia Cara                                     Here      9\n",
       "12                   Drake                                One Dance      9\n",
       "13              Ed Sheeran                        Thinking Out Loud      9\n",
       "14          Ellie Goulding                               On My Mind      8\n",
       "44                 Rihanna                                     Work      8\n",
       "39             Miley Cyrus                            We Can't Stop      8\n",
       "57                    ZAYN                               PILLOWTALK      8\n",
       "7                 DJ Snake                                   Middle      7\n",
       "21            Jason Derulo                                 Trumpets      7\n",
       "23           Justin Bieber                            Love Yourself      7\n",
       "24           Justin Bieber                                    Sorry      7"
      ]
     },
     "execution_count": 198,
     "metadata": {},
     "output_type": "execute_result"
    }
   ],
   "source": [
    "r.groupby([\"artist_name\",\"track_name\"]).sum().reset_index().sort_values(\"count\",ascending=False).head(50)[[\"artist_name\",\"track_name\",\"count\"]]"
   ]
  },
  {
   "cell_type": "code",
   "execution_count": 65,
   "metadata": {},
   "outputs": [],
   "source": [
    "spotify.connect()\n",
    "report = spotify.retrieve(\"created_lists\")\n",
    "spotify.disconnect()"
   ]
  },
  {
   "cell_type": "code",
   "execution_count": 32,
   "metadata": {},
   "outputs": [],
   "source": [
    "report[\"new_id\"] = [str(x)[:10] for x in report[\"_id\"].unique()]"
   ]
  },
  {
   "cell_type": "code",
   "execution_count": 66,
   "metadata": {},
   "outputs": [
    {
     "data": {
      "text/html": [
       "<div>\n",
       "<style scoped>\n",
       "    .dataframe tbody tr th:only-of-type {\n",
       "        vertical-align: middle;\n",
       "    }\n",
       "\n",
       "    .dataframe tbody tr th {\n",
       "        vertical-align: top;\n",
       "    }\n",
       "\n",
       "    .dataframe thead th {\n",
       "        text-align: right;\n",
       "    }\n",
       "</style>\n",
       "<table border=\"1\" class=\"dataframe\">\n",
       "  <thead>\n",
       "    <tr style=\"text-align: right;\">\n",
       "      <th></th>\n",
       "      <th></th>\n",
       "      <th>count</th>\n",
       "      <th>playlist_size</th>\n",
       "    </tr>\n",
       "    <tr>\n",
       "      <th>seed_song</th>\n",
       "      <th>follower_based</th>\n",
       "      <th></th>\n",
       "      <th></th>\n",
       "    </tr>\n",
       "  </thead>\n",
       "  <tbody>\n",
       "    <tr>\n",
       "      <th>Congratulations_by_Post Malone</th>\n",
       "      <th>True</th>\n",
       "      <td>3.311676</td>\n",
       "      <td>210.000000</td>\n",
       "    </tr>\n",
       "    <tr>\n",
       "      <th>HUMBLE._by_Kendrick Lamar</th>\n",
       "      <th>True</th>\n",
       "      <td>3.318479</td>\n",
       "      <td>210.000000</td>\n",
       "    </tr>\n",
       "    <tr>\n",
       "      <th>I - Street Album Version_by_Petey Pablo</th>\n",
       "      <th>False</th>\n",
       "      <td>8.414062</td>\n",
       "      <td>192.000000</td>\n",
       "    </tr>\n",
       "    <tr>\n",
       "      <th>Congratulations_by_Post Malone</th>\n",
       "      <th>False</th>\n",
       "      <td>10.145161</td>\n",
       "      <td>124.000000</td>\n",
       "    </tr>\n",
       "    <tr>\n",
       "      <th>HUMBLE._by_Kendrick Lamar</th>\n",
       "      <th>False</th>\n",
       "      <td>10.153226</td>\n",
       "      <td>124.000000</td>\n",
       "    </tr>\n",
       "    <tr>\n",
       "      <th>Sorry Not Sorry_by_Bryson Tiller</th>\n",
       "      <th>False</th>\n",
       "      <td>10.099462</td>\n",
       "      <td>124.000000</td>\n",
       "    </tr>\n",
       "    <tr>\n",
       "      <th>Broccoli (feat. Lil Yachty)_by_DRAM</th>\n",
       "      <th>False</th>\n",
       "      <td>10.396552</td>\n",
       "      <td>116.000000</td>\n",
       "    </tr>\n",
       "    <tr>\n",
       "      <th>Brother_by_July Talk</th>\n",
       "      <th>False</th>\n",
       "      <td>10.286885</td>\n",
       "      <td>110.590164</td>\n",
       "    </tr>\n",
       "    <tr>\n",
       "      <th>Broccoli (feat. Lil Yachty)_by_DRAM</th>\n",
       "      <th>True</th>\n",
       "      <td>2.442854</td>\n",
       "      <td>101.000000</td>\n",
       "    </tr>\n",
       "  </tbody>\n",
       "</table>\n",
       "</div>"
      ],
      "text/plain": [
       "                                                            count  \\\n",
       "seed_song                               follower_based              \n",
       "Congratulations_by_Post Malone          True             3.311676   \n",
       "HUMBLE._by_Kendrick Lamar               True             3.318479   \n",
       "I - Street Album Version_by_Petey Pablo False            8.414062   \n",
       "Congratulations_by_Post Malone          False           10.145161   \n",
       "HUMBLE._by_Kendrick Lamar               False           10.153226   \n",
       "Sorry Not Sorry_by_Bryson Tiller        False           10.099462   \n",
       "Broccoli (feat. Lil Yachty)_by_DRAM     False           10.396552   \n",
       "Brother_by_July Talk                    False           10.286885   \n",
       "Broccoli (feat. Lil Yachty)_by_DRAM     True             2.442854   \n",
       "\n",
       "                                                        playlist_size  \n",
       "seed_song                               follower_based                 \n",
       "Congratulations_by_Post Malone          True               210.000000  \n",
       "HUMBLE._by_Kendrick Lamar               True               210.000000  \n",
       "I - Street Album Version_by_Petey Pablo False              192.000000  \n",
       "Congratulations_by_Post Malone          False              124.000000  \n",
       "HUMBLE._by_Kendrick Lamar               False              124.000000  \n",
       "Sorry Not Sorry_by_Bryson Tiller        False              124.000000  \n",
       "Broccoli (feat. Lil Yachty)_by_DRAM     False              116.000000  \n",
       "Brother_by_July Talk                    False              110.590164  \n",
       "Broccoli (feat. Lil Yachty)_by_DRAM     True               101.000000  "
      ]
     },
     "execution_count": 66,
     "metadata": {},
     "output_type": "execute_result"
    }
   ],
   "source": [
    "report.groupby([\"seed_song\",\"follower_based\"]).mean().sort_values(\"playlist_size\",ascending=False).head(20)"
   ]
  }
 ],
 "metadata": {
  "kernelspec": {
   "display_name": "Python 3",
   "language": "python",
   "name": "python3"
  },
  "language_info": {
   "codemirror_mode": {
    "name": "ipython",
    "version": 3
   },
   "file_extension": ".py",
   "mimetype": "text/x-python",
   "name": "python",
   "nbconvert_exporter": "python",
   "pygments_lexer": "ipython3",
   "version": "3.8.0"
  }
 },
 "nbformat": 4,
 "nbformat_minor": 4
}
